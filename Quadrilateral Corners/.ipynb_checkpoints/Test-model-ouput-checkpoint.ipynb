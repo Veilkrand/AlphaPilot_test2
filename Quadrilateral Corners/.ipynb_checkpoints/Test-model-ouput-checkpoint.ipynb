{
 "cells": [
  {
   "cell_type": "markdown",
   "metadata": {},
   "source": [
    "Using as the input the output of the detection pipeline as a mask to process and output 4 corners of the flayble area"
   ]
  },
  {
   "cell_type": "code",
   "execution_count": 43,
   "metadata": {},
   "outputs": [
    {
     "data": {
      "image/png": "[encoded data removed]",
      "text/plain": [
       "<Figure size 432x288 with 1 Axes>"
      ]
     },
     "metadata": {
      "needs_background": "light"
     },
     "output_type": "display_data"
    }
   ],
   "source": [
    "from matplotlib import pyplot as plt\n",
    "import imutils\n",
    "import numpy as np\n",
    "import cv2\n",
    "\n",
    "\n",
    "output_folder_path='/Users/alberto/Documents/AlphaPilot/AlphaPilot_test2/object_segmentation_pipelines/Enet/for_Alberto/'\n",
    "#output_image_test=output_folder_path+'0024.jpg' # Good!\n",
    "#output_image_test=output_folder_path+'0041.jpg' # Good!\n",
    "#output_image_test=output_folder_path+'0046.jpg' # Good!\n",
    "#output_image_test=output_folder_path+'0068.jpg' # Good!\n",
    "#output_image_test=output_folder_path+'0095.jpg' # Good!\n",
    "output_image_test=output_folder_path+'0115.jpg'\n",
    "\n",
    "# img = cv2.imread('images/mask.jpg')\n",
    "img_original = cv2.imread(output_image_test)\n",
    "\n",
    "img_gray = cv2.cvtColor(img_original, cv2.COLOR_BGR2GRAY)\n",
    "img_blur =  cv2.GaussianBlur(img_gray, (5, 5), 0)\n",
    "\n",
    "#th1 = cv2.threshold(mask_gray,127,255,cv2.THRESH_BINARY)[1]\n",
    "img_bw = cv2.threshold(img_blur,50,255,cv2.THRESH_BINARY)[1]\n",
    "\n",
    "\n",
    "result = cv2.cvtColor(img_bw, cv2.COLOR_GRAY2RGB)\n",
    "plt.imshow(result)\n",
    "plt.title('Mask input')\n",
    "plt.show()"
   ]
  },
  {
   "cell_type": "markdown",
   "metadata": {},
   "source": [
    "## Shape and Corner Detection\n",
    "\n",
    "### Refs\n",
    "https://www.pyimagesearch.com/2016/02/08/opencv-shape-detection/\n",
    "https://docs.opencv.org/3.1.0/dd/d49/tutorial_py_contour_features.html\n",
    "https://stackoverflow.com/questions/50984205/how-to-find-corners-points-of-a-shape-in-an-image-in-opencv\n"
   ]
  },
  {
   "cell_type": "code",
   "execution_count": 56,
   "metadata": {},
   "outputs": [
    {
     "name": "stdout",
     "output_type": "stream",
     "text": [
      "Shape: 21 Area 22236 x, y, w, h, corners: 481 381 102 218 122\n"
     ]
    },
    {
     "data": {
      "image/png": "[encoded data removed]",
      "text/plain": [
       "<Figure size 432x288 with 1 Axes>"
      ]
     },
     "metadata": {
      "needs_background": "light"
     },
     "output_type": "display_data"
    },
    {
     "data": {
      "image/png": "[encoded data removed]",
      "text/plain": [
       "<Figure size 432x288 with 1 Axes>"
      ]
     },
     "metadata": {
      "needs_background": "light"
     },
     "output_type": "display_data"
    },
    {
     "name": "stdout",
     "output_type": "stream",
     "text": [
      "[{'area': 22236, 'centroid': (532, 494), 'corners': array([[647.5075 , 431.4961 ],\n",
      "       [573.49994, 379.99908],\n",
      "       [481.35294, 401.52942],\n",
      "       [485.3889 , 594.6111 ],\n",
      "       [581.6111 , 597.6111 ]], dtype=float32)}]\n"
     ]
    }
   ],
   "source": [
    "img_result = img_original.copy()\n",
    "\n",
    "results = []\n",
    "\n",
    "height, width = img.shape[:2]\n",
    "\n",
    "\n",
    "_min_pixels_size = 60 # 100\n",
    "_max_pixels_size = height * 0.95\n",
    "\n",
    "\n",
    "#cnts = cv2.findContours(th1.copy(), cv2.RETR_EXTERNAL, cv2.CHAIN_APPROX_SIMPLE)\n",
    "cnts = cv2.findContours(img_bw.copy(), cv2.RETR_LIST, cv2.CHAIN_APPROX_SIMPLE)\n",
    "cnts = imutils.grab_contours(cnts)\n",
    "\n",
    "\n",
    "\n",
    "for index,c in enumerate(cnts):\n",
    "    \n",
    "    # Perform shape approximation\n",
    "    epsilon = 0.1*cv2.arcLength(c,True) #0.04\n",
    "    approx = cv2.approxPolyDP(c, epsilon, True)\n",
    "    \n",
    "    # 4 sides?\n",
    "    if (len(approx)==4):\n",
    "        \n",
    "        cv2.drawContours(img_result, [c], -1, (0, 255, 0), 5)\n",
    "        \n",
    "        (x, y, w, h) = cv2.boundingRect(approx)\n",
    "        if (w>=_min_pixels_size and h>=_min_pixels_size) and (w<_max_pixels_size and h<_max_pixels_size):\n",
    "            \n",
    "            result = {}\n",
    "            \n",
    "            area = w * h\n",
    "            result['area'] = area\n",
    "            \n",
    "            print('Shape:',index,'Area', area,'x, y, w, h, corners:',x, y, w, h, len(c))\n",
    "            \n",
    "            \n",
    "            M = cv2.moments(c)\n",
    "            cx = int(M['m10']/M['m00'])\n",
    "            cy = int(M['m01']/M['m00'])\n",
    "            \n",
    "            result['centroid'] = (cx, cy)\n",
    "            \n",
    "            # create mask for edge detection\n",
    "            gray = np.float32(th1)\n",
    "            mask = np.zeros(gray.shape, dtype=\"uint8\")\n",
    "            cv2.fillPoly(mask, [approx], (255,255,255))\n",
    "            \n",
    "            dst = cv2.cornerHarris(mask,5,3,0.04)\n",
    "            ret, dst = cv2.threshold(dst,0.1*dst.max(),255,0)\n",
    "            dst = np.uint8(dst)\n",
    "            ret, labels, stats, centroids = cv2.connectedComponentsWithStats(dst)\n",
    "            criteria = (cv2.TERM_CRITERIA_EPS + cv2.TERM_CRITERIA_MAX_ITER, 100, 0.001)\n",
    "            corners = cv2.cornerSubPix(gray,np.float32(centroids),(5,5),(-1,-1),criteria)\n",
    "            \n",
    "            result['corners'] = corners\n",
    "            \n",
    "            results.append(result)\n",
    "            \n",
    "            # Draw circles\n",
    "            for i in range(1, len(corners)):\n",
    "                #print(corners[i,0])\n",
    "                cv2.circle(img_result, (int(corners[i,0]), int(corners[i,1])), 10, (255,0,0), 7)\n",
    "\n",
    "            #print(corners)\n",
    "            \n",
    "            plt.imshow(cv2.cvtColor(mask, cv2.COLOR_GRAY2RGB))\n",
    "            plt.show()\n",
    "            \n",
    "            \n",
    "        \n",
    "\n",
    "plt.imshow(img_result)\n",
    "plt.title('Result')\n",
    "plt.show()\n",
    "\n",
    "print(results)"
   ]
  },
  {
   "cell_type": "code",
   "execution_count": 51,
   "metadata": {},
   "outputs": [
    {
     "name": "stdout",
     "output_type": "stream",
     "text": [
      "[[573.49994 379.99908]\n",
      " [481.35294 401.52942]\n",
      " [485.3889  594.6111 ]\n",
      " [581.6111  597.6111 ]]\n"
     ]
    },
    {
     "data": {
      "image/png": "[encoded data removed]",
      "text/plain": [
       "<Figure size 432x288 with 1 Axes>"
      ]
     },
     "metadata": {
      "needs_background": "light"
     },
     "output_type": "display_data"
    }
   ],
   "source": [
    "def draw_points_array(image, points):\n",
    "    for i in range(0, len(points)):\n",
    "        cv2.circle(image, (int(points[i,0]), int(points[i,1])), 10, (255,0,0), 7)\n",
    "    return image\n",
    "\n",
    "def get_inner_area_corners_from_results(results):\n",
    "    assert len(results)<3, 'I got more than 2 shapes for a gate...'\n",
    "    if len(results) == 1: \n",
    "        inner_shape = results[0]\n",
    "    else:\n",
    "        inner_shape = None\n",
    "        if results[0]['area'] > results[1]['area']:\n",
    "            inner_shape = results[1]\n",
    "        else:\n",
    "            inner_shape = results[0]\n",
    "    corners = inner_shape['corners'][1:]\n",
    "    return corners\n",
    "\n",
    "corners = get_inner_area_corners_from_results(results)\n",
    "print(corners)\n",
    "\n",
    "img_solution = draw_points_array(img_original.copy(), corners)\n",
    "\n",
    "plt.imshow(img_solution)\n",
    "plt.title('Mask input')\n",
    "plt.show()"
   ]
  },
  {
   "cell_type": "markdown",
   "metadata": {},
   "source": [
    "## Corner estimator class"
   ]
  },
  {
   "cell_type": "code",
   "execution_count": 80,
   "metadata": {
    "scrolled": true
   },
   "outputs": [
    {
     "name": "stdout",
     "output_type": "stream",
     "text": [
      "Shape: 0 Area 43472 x, y, w, h, corners: 571 422 209 208 122\n",
      "Shape: 1 Area 95748 x, y, w, h, corners: 524 369 303 316 131\n"
     ]
    },
    {
     "data": {
      "image/png": "[encoded data removed]",
      "text/plain": [
       "<Figure size 432x288 with 1 Axes>"
      ]
     },
     "metadata": {
      "needs_background": "light"
     },
     "output_type": "display_data"
    }
   ],
   "source": [
    "from matplotlib import pyplot as plt\n",
    "import json\n",
    "#from Corners import Corners\n",
    "\n",
    "output_folder_path='/Users/alberto/Documents/AlphaPilot/AlphaPilot_test2/object_segmentation_pipelines/Enet/for_Alberto/'\n",
    "output_image_test=output_folder_path+'0024.jpg'\n",
    "\n",
    "class Estimator():\n",
    "    \n",
    "    def __init__(self):\n",
    "        pass\n",
    "    \n",
    "    def preprocess_img(self, img_original):\n",
    "        img_gray = cv2.cvtColor(img_original, cv2.COLOR_BGR2GRAY)\n",
    "        img_blur =  cv2.GaussianBlur(img_gray, (5, 5), 0)\n",
    "        img_bw = cv2.threshold(img_blur,50,255,cv2.THRESH_BINARY)[1]\n",
    "        \n",
    "        return img_bw\n",
    "    \n",
    "    \n",
    "    def find_shapes(self, img_bw, img_original):\n",
    "        \n",
    "        img_result = img_original.copy()\n",
    "        results = []\n",
    "\n",
    "        height, width = img_bw.shape[:2]\n",
    "\n",
    "        _min_pixels_size = 60 # 100\n",
    "        _max_pixels_size = height * 0.95\n",
    "\n",
    "        #cnts = cv2.findContours(th1.copy(), cv2.RETR_EXTERNAL, cv2.CHAIN_APPROX_SIMPLE)\n",
    "        cnts = cv2.findContours(img_bw, cv2.RETR_LIST, cv2.CHAIN_APPROX_SIMPLE)\n",
    "        cnts = imutils.grab_contours(cnts)\n",
    "\n",
    "        for index,c in enumerate(cnts):\n",
    "\n",
    "            # Perform shape approximation\n",
    "            epsilon = 0.1*cv2.arcLength(c,True) #0.04\n",
    "            approx = cv2.approxPolyDP(c, epsilon, True)\n",
    "\n",
    "            # 4 sides?\n",
    "            if (len(approx)==4):\n",
    "\n",
    "                cv2.drawContours(img_result, [c], -1, (0, 255, 0), 5)\n",
    "\n",
    "                (x, y, w, h) = cv2.boundingRect(approx)\n",
    "                if (w>=_min_pixels_size and h>=_min_pixels_size) and (w<_max_pixels_size and h<_max_pixels_size):\n",
    "\n",
    "                    result = {}\n",
    "\n",
    "                    area = w * h\n",
    "                    result['area'] = area\n",
    "\n",
    "                    print('Shape:',index,'Area', area,'x, y, w, h, corners:',x, y, w, h, len(c))\n",
    "\n",
    "\n",
    "                    M = cv2.moments(c)\n",
    "                    cx = int(M['m10']/M['m00'])\n",
    "                    cy = int(M['m01']/M['m00'])\n",
    "\n",
    "                    result['centroid'] = (cx, cy)\n",
    "\n",
    "                    # create mask for edge detection\n",
    "                    gray = np.float32(th1)\n",
    "                    mask = np.zeros(gray.shape, dtype=\"uint8\")\n",
    "                    cv2.fillPoly(mask, [approx], (255,255,255))\n",
    "\n",
    "                    dst = cv2.cornerHarris(mask,5,3,0.04)\n",
    "                    ret, dst = cv2.threshold(dst,0.1*dst.max(),255,0)\n",
    "                    dst = np.uint8(dst)\n",
    "                    ret, labels, stats, centroids = cv2.connectedComponentsWithStats(dst)\n",
    "                    criteria = (cv2.TERM_CRITERIA_EPS + cv2.TERM_CRITERIA_MAX_ITER, 100, 0.001)\n",
    "                    corners = cv2.cornerSubPix(gray,np.float32(centroids),(5,5),(-1,-1),criteria)\n",
    "\n",
    "                    result['corners'] = corners\n",
    "\n",
    "                    results.append(result)\n",
    "\n",
    "                    # Draw circles\n",
    "                    for i in range(1, len(corners)):\n",
    "                        #print(corners[i,0])\n",
    "                        cv2.circle(img_result, (int(corners[i,0]), int(corners[i,1])), 10, (255,0,0), 7)\n",
    "\n",
    "                    #print(corners)\n",
    "                    \n",
    "        return results, img_result\n",
    "    \n",
    "    def draw_points_array(image, points):\n",
    "        for i in range(0, len(points)):\n",
    "            cv2.circle(image, (int(points[i,0]), int(points[i,1])), 10, (255,0,0), 7)\n",
    "        return image\n",
    "\n",
    "    def get_inner_area_corners_from_results(self, results):\n",
    "        assert len(results)<3, 'I got more than 2 shapes for a gate...'\n",
    "        if len(results) == 1: \n",
    "            inner_shape = results[0]\n",
    "        else:\n",
    "            inner_shape = None\n",
    "            if results[0]['area'] > results[1]['area']:\n",
    "                inner_shape = results[1]\n",
    "            else:\n",
    "                inner_shape = results[0]\n",
    "        corners = inner_shape['corners'][1:]\n",
    "        return corners\n",
    "\n",
    "    \n",
    "    def process_img_path(self, img_path):\n",
    "        img_original = cv2.imread(img_path)\n",
    "        img_bw = self.preprocess_img(img_original)\n",
    "        results, img_shapes = self.find_shapes(img_bw, img_original)\n",
    "        corners = self.get_inner_area_corners_from_results(results)\n",
    "        \n",
    "        img_solution = draw_points_array(img_original.copy(), corners)\n",
    "        \n",
    "        return corners, img_solution\n",
    "\n",
    "estimator = Estimator()\n",
    "poly, img_result = estimator.process_img_path(output_image_test)\n",
    "\n",
    "\n",
    "#plt.imshow(cv2.cvtColor(img_result, cv2.COLOR_GRAY2RGB))\n",
    "plt.imshow(img_result)\n",
    "plt.title(output_image_test)\n",
    "plt.show()\n",
    "\n"
   ]
  },
  {
   "cell_type": "code",
   "execution_count": null,
   "metadata": {},
   "outputs": [],
   "source": []
  },
  {
   "cell_type": "code",
   "execution_count": null,
   "metadata": {},
   "outputs": [],
   "source": []
  },
  {
   "cell_type": "code",
   "execution_count": null,
   "metadata": {},
   "outputs": [],
   "source": []
  },
  {
   "cell_type": "code",
   "execution_count": null,
   "metadata": {},
   "outputs": [],
   "source": []
  },
  {
   "cell_type": "code",
   "execution_count": null,
   "metadata": {},
   "outputs": [],
   "source": []
  }
 ],
 "metadata": {
  "kernelspec": {
   "display_name": "Python 3",
   "language": "python",
   "name": "python3"
  },
  "language_info": {
   "codemirror_mode": {
    "name": "ipython",
    "version": 3
   },
   "file_extension": ".py",
   "mimetype": "text/x-python",
   "name": "python",
   "nbconvert_exporter": "python",
   "pygments_lexer": "ipython3",
   "version": "3.7.2"
  }
 },
 "nbformat": 4,
 "nbformat_minor": 2
}
