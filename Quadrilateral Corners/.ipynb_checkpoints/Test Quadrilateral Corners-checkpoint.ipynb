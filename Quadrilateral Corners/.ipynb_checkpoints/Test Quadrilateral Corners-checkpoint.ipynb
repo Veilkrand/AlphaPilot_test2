{
 "cells": [
  {
   "cell_type": "markdown",
   "metadata": {},
   "source": [
    "Using as the input the output of the detection pipeline as a mask to process and output 4 corners of the flayble area"
   ]
  },
  {
   "cell_type": "code",
   "execution_count": 139,
   "metadata": {},
   "outputs": [
    {
     "data": {
      "image/png": "[encoded data removed]",
      "text/plain": [
       "<Figure size 432x288 with 1 Axes>"
      ]
     },
     "metadata": {
      "needs_background": "light"
     },
     "output_type": "display_data"
    }
   ],
   "source": [
    "from matplotlib import pyplot as plt\n",
    "import imutils\n",
    "import numpy as np\n",
    "import cv2\n",
    "\n",
    "img = cv2.imread('images/mask.jpg')\n",
    "\n",
    "gray = cv2.cvtColor(img, cv2.COLOR_BGR2GRAY)\n",
    "img_blur =  cv2.GaussianBlur(gray, (5, 5), 0)\n",
    "\n",
    "th1 = cv2.threshold(mask_gray,127,255,cv2.THRESH_BINARY)[1]\n",
    "#th1 = cv2.threshold(img_blur,127,255,cv2.THRESH_BINAR_INV)[1]\n",
    "\n",
    "result = cv2.cvtColor(th1, cv2.COLOR_GRAY2RGB)\n",
    "plt.imshow(result)\n",
    "plt.title('Mask input')\n",
    "plt.show()"
   ]
  },
  {
   "cell_type": "markdown",
   "metadata": {},
   "source": [
    "## Shape detection\n",
    "\n",
    "### Refs\n",
    "https://stackoverflow.com/questions/50984205/how-to-find-corners-points-of-a-shape-in-an-image-in-opencv\n"
   ]
  },
  {
   "cell_type": "code",
   "execution_count": null,
   "metadata": {},
   "outputs": [],
   "source": []
  },
  {
   "cell_type": "code",
   "execution_count": 145,
   "metadata": {},
   "outputs": [
    {
     "name": "stdout",
     "output_type": "stream",
     "text": [
      "527 258 385 398 374\n"
     ]
    },
    {
     "data": {
      "image/png": "[encoded data removed]",
      "text/plain": [
       "<Figure size 432x288 with 1 Axes>"
      ]
     },
     "metadata": {
      "needs_background": "light"
     },
     "output_type": "display_data"
    },
    {
     "name": "stdout",
     "output_type": "stream",
     "text": [
      "442 152 557 586 366\n"
     ]
    },
    {
     "data": {
      "image/png": "[encoded data removed]",
      "text/plain": [
       "<Figure size 432x288 with 1 Axes>"
      ]
     },
     "metadata": {
      "needs_background": "light"
     },
     "output_type": "display_data"
    },
    {
     "data": {
      "image/png": "[encoded data removed]",
      "text/plain": [
       "<Figure size 432x288 with 1 Axes>"
      ]
     },
     "metadata": {
      "needs_background": "light"
     },
     "output_type": "display_data"
    },
    {
     "name": "stdout",
     "output_type": "stream",
     "text": [
      "[{'area': 153230, 'centroid': (717, 467), 'corners': array([[647.49554, 431.49792],\n",
      "       [887.62683, 259.23737],\n",
      "       [528.2706 , 299.75394],\n",
      "       [527.506  , 649.6024 ],\n",
      "       [909.7881 , 653.6502 ]], dtype=float32)}, {'area': 326402, 'centroid': (721, 463), 'corners': array([[647.4954 , 431.49835],\n",
      "       [964.7998 , 151.53139],\n",
      "       [451.8188 , 222.81879],\n",
      "       [441.71625, 731.12854],\n",
      "       [998.46075, 736.7724 ]], dtype=float32)}]\n"
     ]
    }
   ],
   "source": [
    "img_result = img.copy()\n",
    "\n",
    "results = []\n",
    "\n",
    "_min_pixels_size = 10\n",
    "\n",
    "#cnts = cv2.findContours(th1.copy(), cv2.RETR_EXTERNAL, cv2.CHAIN_APPROX_SIMPLE)\n",
    "cnts = cv2.findContours(th1.copy(), cv2.RETR_LIST, cv2.CHAIN_APPROX_SIMPLE)\n",
    "cnts = imutils.grab_contours(cnts)\n",
    "\n",
    "for c in cnts:\n",
    "    \n",
    "    # Perform shape approximation\n",
    "    epsilon = 0.1*cv2.arcLength(c,True) #0.04\n",
    "    approx = cv2.approxPolyDP(c, epsilon, True)\n",
    "    \n",
    "    # 4 sides?\n",
    "    if (len(approx)==4):\n",
    "        \n",
    "        cv2.drawContours(img_result, [c], -1, (0, 0, 255), 2)\n",
    "        \n",
    "        (x, y, w, h) = cv2.boundingRect(approx)\n",
    "        if (w>=_min_pixels_size and h>=_min_pixels_size):\n",
    "            \n",
    "            result = {}\n",
    "            \n",
    "            print(x, y, w, h, len(c))\n",
    "            \n",
    "            area = w * h\n",
    "            result['area'] = area\n",
    "            \n",
    "            M = cv2.moments(c)\n",
    "            cx = int(M['m10']/M['m00'])\n",
    "            cy = int(M['m01']/M['m00'])\n",
    "            \n",
    "            result['centroid'] = (cx, cy)\n",
    "            \n",
    "            # create mask for edge detection\n",
    "            gray = np.float32(th1)\n",
    "            mask = np.zeros(gray.shape, dtype=\"uint8\")\n",
    "            cv2.fillPoly(mask, [approx], (255,255,255))\n",
    "            \n",
    "            dst = cv2.cornerHarris(mask,5,3,0.04)\n",
    "            ret, dst = cv2.threshold(dst,0.1*dst.max(),255,0)\n",
    "            dst = np.uint8(dst)\n",
    "            ret, labels, stats, centroids = cv2.connectedComponentsWithStats(dst)\n",
    "            criteria = (cv2.TERM_CRITERIA_EPS + cv2.TERM_CRITERIA_MAX_ITER, 100, 0.001)\n",
    "            corners = cv2.cornerSubPix(gray,np.float32(centroids),(5,5),(-1,-1),criteria)\n",
    "            \n",
    "            result['corners'] = corners\n",
    "            \n",
    "            results.append(result)\n",
    "            \n",
    "            for i in range(1, len(corners)):\n",
    "                #print(corners[i,0])\n",
    "                cv2.circle(img_result, (int(corners[i,0]), int(corners[i,1])), 7, (255,0,0), 7)\n",
    "\n",
    "            #print(corners)\n",
    "            \n",
    "            plt.imshow(cv2.cvtColor(mask, cv2.COLOR_GRAY2RGB))\n",
    "            plt.show()\n",
    "            \n",
    "            \n",
    "        \n",
    "\n",
    "plt.imshow(img_result)\n",
    "plt.title('Result')\n",
    "plt.show()\n",
    "\n",
    "print(results)"
   ]
  },
  {
   "cell_type": "code",
   "execution_count": null,
   "metadata": {},
   "outputs": [],
   "source": [
    "()"
   ]
  }
 ],
 "metadata": {
  "kernelspec": {
   "display_name": "Python 3",
   "language": "python",
   "name": "python3"
  },
  "language_info": {
   "codemirror_mode": {
    "name": "ipython",
    "version": 3
   },
   "file_extension": ".py",
   "mimetype": "text/x-python",
   "name": "python",
   "nbconvert_exporter": "python",
   "pygments_lexer": "ipython3",
   "version": "3.7.2"
  }
 },
 "nbformat": 4,
 "nbformat_minor": 2
}
