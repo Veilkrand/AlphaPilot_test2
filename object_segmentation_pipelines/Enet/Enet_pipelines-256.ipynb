{
 "cells": [
  {
   "cell_type": "markdown",
   "metadata": {
    "collapsed": true
   },
   "source": [
    "# Scene Understanding using Deep Learning\n",
    "## Introduction\n",
    "\n",
    "This Notebook was written for demonstrating scene understanding for the Lockheed Martin drone challange. The code consists of three pipelines pre-processing, FCN and post processing  The project is a corner stone for  \n",
    "\n",
    "\\<img style=\"float: center;\" src=\"readme_imgs/Img_groundtruth.png\">\n",
    "\n",
    "## Data Pre-processing \n",
    "\n",
    "We have implemented camera calibration routine to the video file.Each image was normalized and then smoothed with a Gaussian filter. The images were randomly processed with a brightness filter to help the network generalize to different lighting conditions. \n",
    "\n",
    " \n",
    "\n",
    "\n",
    "## FCN\n",
    "\n",
    " \n",
    "\n",
    " \n",
    " \n",
    "\n",
    "##  Jaccard similarity coefficient \n",
    "\n",
    "In evaluating the model I've investigated several metrics including the Mean IU, Intersection over Union, and the Jaccard coefficient. The idea is to maximize the overlap between the predicted region and the ground truth bounding box.\n",
    " \n",
    "We eventually decided to use the Jaccard coeef. The Jaccard similarity coefficient is defined as the size of the intersection divided by the size of the union of two regions. This metric is used to compare the predicted labels to a set of labels in y_true  \n",
    "\n",
    "The coefficients are given by \n",
    "\n",
    "#### J(A,B) = |A∩B| / |A∪B|=|A∩B|/|A|+|B|-|A∩B| \n",
    "\n",
    "(If A and B are both empty, we define J(A,B) = 1.)\n",
    "\n",
    "<img style=\"float: center;\" src=\"readme_imgs/Intersection_of_sets_A_and_B.png\">\n",
    "<img style=\"float: center;\" src=\"readme_imgs/Intersection_of_sets_A_and_B_2.png\">\n",
    " \n",
    "\n",
    "## Training\n",
    "\n",
    "The Autti dataset was used and can be obtained from https://github.com/udacity/self-driving-car/tree/master/annotations .  \n",
    "\n",
    "## Results\n",
    " "
   ]
  },
  {
   "cell_type": "code",
   "execution_count": null,
   "metadata": {},
   "outputs": [],
   "source": [
    "%matplotlib inline\n",
    "import json\n",
    "import cv2\n",
    "import matplotlib.pyplot as plt\n",
    "from matplotlib.patches import Rectangle\n",
    "#from moviepy.editor import VideoFileClip\n",
    "from IPython.display import HTML\n",
    "import numpy as np\n",
    "import glob\n",
    "import time\n",
    "\n",
    "from scipy.ndimage.measurements import label\n",
    "import pandas as pd\n",
    "#import keras.backend as K\n",
    "from sklearn.metrics import jaccard_similarity_score\n",
    " \n",
    "import time\n",
    "import numpy\n",
    "from PIL import Image, ImageDraw\n",
    "import re\n",
    "from shapely.geometry import Polygon\n",
    "from pprint import pprint\n",
    "import PIL.ImageDraw\n",
    "from PIL import Image\n",
    "import argparse\n",
    "import os\n",
    "from tqdm import tqdm\n",
    "import torch\n",
    "import torch.nn as nn\n",
    "import torch.nn.functional as F\n",
    " \n",
    "#add a note for the class"
   ]
  },
  {
   "cell_type": "markdown",
   "metadata": {},
   "source": [
    "# Reading and processing the wkt json format \n"
   ]
  },
  {
   "cell_type": "code",
   "execution_count": null,
   "metadata": {},
   "outputs": [],
   "source": [
    "#df is the dataset that we are annotating\n",
    "#raw_df is the dataset that the organizers provided\n",
    "#adding path for json anf image folders respectively\n",
    "provided_data_file_dir='/media/a/D/lockheed-martin/dataset/LM_dataset/csv/training_GT_labels_v2.json'#json provided by the organizers of the challange\n",
    "our_data_file_dir='/media/a/D/lockheed-martin/dataset/LM_dataset/csv/data_wkt_v4.json'#our annotated dataset\n",
    "img_file_dir='/media/a/D/lockheed-martin/dataset/LM_dataset/Data_Training/'#folder where images are stored\n",
    "provided_df = pd.read_json(provided_data_file_dir)\n",
    "df = pd.read_json(our_data_file_dir)\n",
    "\n",
    " \n",
    "#adding a complete path for the image \n",
    "df['External ID']= [img_file_dir + u for u in df['External ID']]#iris_data_dir + new_df['parcel_id'].astype(str) + '.jpg'\n",
    "\n",
    "df['images']=[u.split('/',8)[8] for u in df['External ID']]\n",
    "raw_df=pd.DataFrame()\n",
    "raw_df['images']=list(provided_df.columns.values)\n",
    "raw_df['img_path']=[img_file_dir +  u for u in raw_df['images']]\n",
    "\n",
    "raw_df['raw_inner_poly']=[ provided_df[u][0] for u in raw_df['images']]\n",
    "\n",
    "raw_df.head()\n"
   ]
  },
  {
   "cell_type": "code",
   "execution_count": null,
   "metadata": {},
   "outputs": [],
   "source": [
    "#remove white spaces from image path\n",
    "s=raw_df['images'][3]\n",
    "print(re.sub(r\"\\s+\", \"\", s))  # \\s matches all white spaces"
   ]
  },
  {
   "cell_type": "markdown",
   "metadata": {},
   "source": [
    "#remove white space from image name in the folder containing the images\n",
    "\n",
    "#go to img directory and run python fix.py. Here is the file\n",
    "\n",
    "#remove white space from image name in the folder containing the images\n",
    "import os\n",
    "import re\n",
    "\n",
    "\"\"\" \n",
    "Renames the filenames within the same directory to be Unix friendly\n",
    "(1) Changes spaces to nothing\n",
    "(2) Makes lowercase (not a Unix requirement, just looks better ;)\n",
    "Usage:\n",
    "python rename.py\n",
    "\"\"\"\n",
    "path =  os.getcwd()\n",
    " \n",
    "filenames = os.listdir(path)\n",
    "\n",
    "for filename in filenames:\n",
    "    print('img name befor',filename)\n",
    "    fixed_filename=re.sub(r\"\\s+\", \"\", filename)\n",
    "    print('img name after',fixed_filename)\n",
    "    os.rename(filename, fixed_filename)"
   ]
  },
  {
   "cell_type": "code",
   "execution_count": null,
   "metadata": {},
   "outputs": [],
   "source": []
  },
  {
   "cell_type": "code",
   "execution_count": 4,
   "metadata": {},
   "outputs": [
    {
     "data": {
      "text/html": [
       "<div>\n",
       "<style>\n",
       "    .dataframe thead tr:only-child th {\n",
       "        text-align: right;\n",
       "    }\n",
       "\n",
       "    .dataframe thead th {\n",
       "        text-align: left;\n",
       "    }\n",
       "\n",
       "    .dataframe tbody tr th {\n",
       "        vertical-align: top;\n",
       "    }\n",
       "</style>\n",
       "<table border=\"1\" class=\"dataframe\">\n",
       "  <thead>\n",
       "    <tr style=\"text-align: right;\">\n",
       "      <th></th>\n",
       "      <th>Agreement</th>\n",
       "      <th>Created At</th>\n",
       "      <th>Created By</th>\n",
       "      <th>DataRow ID</th>\n",
       "      <th>Dataset Name</th>\n",
       "      <th>External ID</th>\n",
       "      <th>ID</th>\n",
       "      <th>Label</th>\n",
       "      <th>Labeled Data</th>\n",
       "      <th>Project Name</th>\n",
       "      <th>Reviews</th>\n",
       "      <th>Seconds to Label</th>\n",
       "      <th>View Label</th>\n",
       "      <th>images</th>\n",
       "    </tr>\n",
       "  </thead>\n",
       "  <tbody>\n",
       "    <tr>\n",
       "      <th>0</th>\n",
       "      <td>NaN</td>\n",
       "      <td>2019-02-06T08:35:37.000Z</td>\n",
       "      <td>alberto.galet@gmail.com</td>\n",
       "      <td>cjrsurb5r9p7w0anvd23j1pgg</td>\n",
       "      <td>Test2 AlphaPilot #2</td>\n",
       "      <td>/media/a/D/lockheed-martin/dataset/LM_dataset/...</td>\n",
       "      <td>cjrsxucjqqkbd0b47j8vcjsua</td>\n",
       "      <td>{'Outer Border': [{'geometry': 'POLYGON ((997 ...</td>\n",
       "      <td>https://storage.googleapis.com/labelbox-193903...</td>\n",
       "      <td>Test2 AlphaPilot</td>\n",
       "      <td>[]</td>\n",
       "      <td>33.832</td>\n",
       "      <td>https://image-segmentation-v4.labelbox.com?pro...</td>\n",
       "      <td>IMG_0015.JPG</td>\n",
       "    </tr>\n",
       "    <tr>\n",
       "      <th>1</th>\n",
       "      <td>NaN</td>\n",
       "      <td>2019-02-06T08:36:22.000Z</td>\n",
       "      <td>alberto.galet@gmail.com</td>\n",
       "      <td>cjrsurb5v9p800anv2xkrhfkw</td>\n",
       "      <td>Test2 AlphaPilot #2</td>\n",
       "      <td>/media/a/D/lockheed-martin/dataset/LM_dataset/...</td>\n",
       "      <td>cjrsxvb54qkw90b47dwa8uupg</td>\n",
       "      <td>{'Outer Border': [{'geometry': 'POLYGON ((894 ...</td>\n",
       "      <td>https://storage.googleapis.com/labelbox-193903...</td>\n",
       "      <td>Test2 AlphaPilot</td>\n",
       "      <td>[]</td>\n",
       "      <td>44.299</td>\n",
       "      <td>https://image-segmentation-v4.labelbox.com?pro...</td>\n",
       "      <td>IMG_0158.JPG</td>\n",
       "    </tr>\n",
       "    <tr>\n",
       "      <th>2</th>\n",
       "      <td>NaN</td>\n",
       "      <td>2019-02-06T08:36:55.000Z</td>\n",
       "      <td>alberto.galet@gmail.com</td>\n",
       "      <td>cjrsurb5v9p840anv7ly4rt5s</td>\n",
       "      <td>Test2 AlphaPilot #2</td>\n",
       "      <td>/media/a/D/lockheed-martin/dataset/LM_dataset/...</td>\n",
       "      <td>cjrsxw0feqs9n08984nfshogi</td>\n",
       "      <td>{'Outer Border': [{'geometry': 'POLYGON ((848 ...</td>\n",
       "      <td>https://storage.googleapis.com/labelbox-193903...</td>\n",
       "      <td>Test2 AlphaPilot</td>\n",
       "      <td>[]</td>\n",
       "      <td>31.955</td>\n",
       "      <td>https://image-segmentation-v4.labelbox.com?pro...</td>\n",
       "      <td>IMG_0244.JPG</td>\n",
       "    </tr>\n",
       "    <tr>\n",
       "      <th>3</th>\n",
       "      <td>NaN</td>\n",
       "      <td>2019-02-07T02:17:15.000Z</td>\n",
       "      <td>alberto.galet@gmail.com</td>\n",
       "      <td>cjrsurb5v9p880anvyjs4m1oj</td>\n",
       "      <td>Test2 AlphaPilot #2</td>\n",
       "      <td>/media/a/D/lockheed-martin/dataset/LM_dataset/...</td>\n",
       "      <td>cjrtzrm18i8ga08983qewu7rq</td>\n",
       "      <td>{'Outer Border': [{'geometry': 'POLYGON ((597 ...</td>\n",
       "      <td>https://storage.googleapis.com/labelbox-193903...</td>\n",
       "      <td>Test2 AlphaPilot</td>\n",
       "      <td>[]</td>\n",
       "      <td>39.032</td>\n",
       "      <td>https://image-segmentation-v4.labelbox.com?pro...</td>\n",
       "      <td>IMG_0367.JPG</td>\n",
       "    </tr>\n",
       "    <tr>\n",
       "      <th>4</th>\n",
       "      <td>NaN</td>\n",
       "      <td>2019-02-07T02:18:01.000Z</td>\n",
       "      <td>alberto.galet@gmail.com</td>\n",
       "      <td>cjrsurb5v9p8c0anvcve1d63y</td>\n",
       "      <td>Test2 AlphaPilot #2</td>\n",
       "      <td>/media/a/D/lockheed-martin/dataset/LM_dataset/...</td>\n",
       "      <td>cjrtzslxpi69j0b4753lkl3ju</td>\n",
       "      <td>{'Outer Border': [{'geometry': 'POLYGON ((359 ...</td>\n",
       "      <td>https://storage.googleapis.com/labelbox-193903...</td>\n",
       "      <td>Test2 AlphaPilot</td>\n",
       "      <td>[]</td>\n",
       "      <td>46.003</td>\n",
       "      <td>https://image-segmentation-v4.labelbox.com?pro...</td>\n",
       "      <td>IMG_0374.JPG</td>\n",
       "    </tr>\n",
       "  </tbody>\n",
       "</table>\n",
       "</div>"
      ],
      "text/plain": [
       "   Agreement                Created At               Created By  \\\n",
       "0        NaN  2019-02-06T08:35:37.000Z  alberto.galet@gmail.com   \n",
       "1        NaN  2019-02-06T08:36:22.000Z  alberto.galet@gmail.com   \n",
       "2        NaN  2019-02-06T08:36:55.000Z  alberto.galet@gmail.com   \n",
       "3        NaN  2019-02-07T02:17:15.000Z  alberto.galet@gmail.com   \n",
       "4        NaN  2019-02-07T02:18:01.000Z  alberto.galet@gmail.com   \n",
       "\n",
       "                  DataRow ID         Dataset Name  \\\n",
       "0  cjrsurb5r9p7w0anvd23j1pgg  Test2 AlphaPilot #2   \n",
       "1  cjrsurb5v9p800anv2xkrhfkw  Test2 AlphaPilot #2   \n",
       "2  cjrsurb5v9p840anv7ly4rt5s  Test2 AlphaPilot #2   \n",
       "3  cjrsurb5v9p880anvyjs4m1oj  Test2 AlphaPilot #2   \n",
       "4  cjrsurb5v9p8c0anvcve1d63y  Test2 AlphaPilot #2   \n",
       "\n",
       "                                         External ID  \\\n",
       "0  /media/a/D/lockheed-martin/dataset/LM_dataset/...   \n",
       "1  /media/a/D/lockheed-martin/dataset/LM_dataset/...   \n",
       "2  /media/a/D/lockheed-martin/dataset/LM_dataset/...   \n",
       "3  /media/a/D/lockheed-martin/dataset/LM_dataset/...   \n",
       "4  /media/a/D/lockheed-martin/dataset/LM_dataset/...   \n",
       "\n",
       "                          ID  \\\n",
       "0  cjrsxucjqqkbd0b47j8vcjsua   \n",
       "1  cjrsxvb54qkw90b47dwa8uupg   \n",
       "2  cjrsxw0feqs9n08984nfshogi   \n",
       "3  cjrtzrm18i8ga08983qewu7rq   \n",
       "4  cjrtzslxpi69j0b4753lkl3ju   \n",
       "\n",
       "                                               Label  \\\n",
       "0  {'Outer Border': [{'geometry': 'POLYGON ((997 ...   \n",
       "1  {'Outer Border': [{'geometry': 'POLYGON ((894 ...   \n",
       "2  {'Outer Border': [{'geometry': 'POLYGON ((848 ...   \n",
       "3  {'Outer Border': [{'geometry': 'POLYGON ((597 ...   \n",
       "4  {'Outer Border': [{'geometry': 'POLYGON ((359 ...   \n",
       "\n",
       "                                        Labeled Data      Project Name  \\\n",
       "0  https://storage.googleapis.com/labelbox-193903...  Test2 AlphaPilot   \n",
       "1  https://storage.googleapis.com/labelbox-193903...  Test2 AlphaPilot   \n",
       "2  https://storage.googleapis.com/labelbox-193903...  Test2 AlphaPilot   \n",
       "3  https://storage.googleapis.com/labelbox-193903...  Test2 AlphaPilot   \n",
       "4  https://storage.googleapis.com/labelbox-193903...  Test2 AlphaPilot   \n",
       "\n",
       "  Reviews  Seconds to Label  \\\n",
       "0      []            33.832   \n",
       "1      []            44.299   \n",
       "2      []            31.955   \n",
       "3      []            39.032   \n",
       "4      []            46.003   \n",
       "\n",
       "                                          View Label        images  \n",
       "0  https://image-segmentation-v4.labelbox.com?pro...  IMG_0015.JPG  \n",
       "1  https://image-segmentation-v4.labelbox.com?pro...  IMG_0158.JPG  \n",
       "2  https://image-segmentation-v4.labelbox.com?pro...  IMG_0244.JPG  \n",
       "3  https://image-segmentation-v4.labelbox.com?pro...  IMG_0367.JPG  \n",
       "4  https://image-segmentation-v4.labelbox.com?pro...  IMG_0374.JPG  "
      ]
     },
     "execution_count": 4,
     "metadata": {},
     "output_type": "execute_result"
    }
   ],
   "source": [
    "df.head()"
   ]
  },
  {
   "cell_type": "code",
   "execution_count": 5,
   "metadata": {},
   "outputs": [
    {
     "data": {
      "text/html": [
       "<div>\n",
       "<style>\n",
       "    .dataframe thead tr:only-child th {\n",
       "        text-align: right;\n",
       "    }\n",
       "\n",
       "    .dataframe thead th {\n",
       "        text-align: left;\n",
       "    }\n",
       "\n",
       "    .dataframe tbody tr th {\n",
       "        vertical-align: top;\n",
       "    }\n",
       "</style>\n",
       "<table border=\"1\" class=\"dataframe\">\n",
       "  <thead>\n",
       "    <tr style=\"text-align: right;\">\n",
       "      <th></th>\n",
       "      <th>Agreement</th>\n",
       "      <th>Created At</th>\n",
       "      <th>Created By</th>\n",
       "      <th>DataRow ID</th>\n",
       "      <th>Dataset Name</th>\n",
       "      <th>External ID</th>\n",
       "      <th>ID</th>\n",
       "      <th>Label</th>\n",
       "      <th>Labeled Data</th>\n",
       "      <th>Project Name</th>\n",
       "      <th>Reviews</th>\n",
       "      <th>Seconds to Label</th>\n",
       "      <th>View Label</th>\n",
       "      <th>images</th>\n",
       "      <th>img_path</th>\n",
       "      <th>raw_inner_poly</th>\n",
       "    </tr>\n",
       "  </thead>\n",
       "  <tbody>\n",
       "    <tr>\n",
       "      <th>0</th>\n",
       "      <td>NaN</td>\n",
       "      <td>2019-02-06T08:35:37.000Z</td>\n",
       "      <td>alberto.galet@gmail.com</td>\n",
       "      <td>cjrsurb5r9p7w0anvd23j1pgg</td>\n",
       "      <td>Test2 AlphaPilot #2</td>\n",
       "      <td>/media/a/D/lockheed-martin/dataset/LM_dataset/...</td>\n",
       "      <td>cjrsxucjqqkbd0b47j8vcjsua</td>\n",
       "      <td>{'Outer Border': [{'geometry': 'POLYGON ((997 ...</td>\n",
       "      <td>https://storage.googleapis.com/labelbox-193903...</td>\n",
       "      <td>Test2 AlphaPilot</td>\n",
       "      <td>[]</td>\n",
       "      <td>33.832</td>\n",
       "      <td>https://image-segmentation-v4.labelbox.com?pro...</td>\n",
       "      <td>IMG_0015.JPG</td>\n",
       "      <td>/media/a/D/lockheed-martin/dataset/LM_dataset/...</td>\n",
       "      <td>[504, 191, 902, 177, 915, 580, 495, 584]</td>\n",
       "    </tr>\n",
       "    <tr>\n",
       "      <th>1</th>\n",
       "      <td>NaN</td>\n",
       "      <td>2019-02-06T08:36:22.000Z</td>\n",
       "      <td>alberto.galet@gmail.com</td>\n",
       "      <td>cjrsurb5v9p800anv2xkrhfkw</td>\n",
       "      <td>Test2 AlphaPilot #2</td>\n",
       "      <td>/media/a/D/lockheed-martin/dataset/LM_dataset/...</td>\n",
       "      <td>cjrsxvb54qkw90b47dwa8uupg</td>\n",
       "      <td>{'Outer Border': [{'geometry': 'POLYGON ((894 ...</td>\n",
       "      <td>https://storage.googleapis.com/labelbox-193903...</td>\n",
       "      <td>Test2 AlphaPilot</td>\n",
       "      <td>[]</td>\n",
       "      <td>44.299</td>\n",
       "      <td>https://image-segmentation-v4.labelbox.com?pro...</td>\n",
       "      <td>IMG_0158.JPG</td>\n",
       "      <td>/media/a/D/lockheed-martin/dataset/LM_dataset/...</td>\n",
       "      <td>[454, 212, 803, 221, 808, 552, 454, 566]</td>\n",
       "    </tr>\n",
       "    <tr>\n",
       "      <th>2</th>\n",
       "      <td>NaN</td>\n",
       "      <td>2019-02-06T08:36:55.000Z</td>\n",
       "      <td>alberto.galet@gmail.com</td>\n",
       "      <td>cjrsurb5v9p840anv7ly4rt5s</td>\n",
       "      <td>Test2 AlphaPilot #2</td>\n",
       "      <td>/media/a/D/lockheed-martin/dataset/LM_dataset/...</td>\n",
       "      <td>cjrsxw0feqs9n08984nfshogi</td>\n",
       "      <td>{'Outer Border': [{'geometry': 'POLYGON ((848 ...</td>\n",
       "      <td>https://storage.googleapis.com/labelbox-193903...</td>\n",
       "      <td>Test2 AlphaPilot</td>\n",
       "      <td>[]</td>\n",
       "      <td>31.955</td>\n",
       "      <td>https://image-segmentation-v4.labelbox.com?pro...</td>\n",
       "      <td>IMG_0244.JPG</td>\n",
       "      <td>/media/a/D/lockheed-martin/dataset/LM_dataset/...</td>\n",
       "      <td>[590, 376, 791, 371, 794, 589, 577, 601]</td>\n",
       "    </tr>\n",
       "    <tr>\n",
       "      <th>3</th>\n",
       "      <td>NaN</td>\n",
       "      <td>2019-02-07T02:17:15.000Z</td>\n",
       "      <td>alberto.galet@gmail.com</td>\n",
       "      <td>cjrsurb5v9p880anvyjs4m1oj</td>\n",
       "      <td>Test2 AlphaPilot #2</td>\n",
       "      <td>/media/a/D/lockheed-martin/dataset/LM_dataset/...</td>\n",
       "      <td>cjrtzrm18i8ga08983qewu7rq</td>\n",
       "      <td>{'Outer Border': [{'geometry': 'POLYGON ((597 ...</td>\n",
       "      <td>https://storage.googleapis.com/labelbox-193903...</td>\n",
       "      <td>Test2 AlphaPilot</td>\n",
       "      <td>[]</td>\n",
       "      <td>39.032</td>\n",
       "      <td>https://image-segmentation-v4.labelbox.com?pro...</td>\n",
       "      <td>IMG_0367.JPG</td>\n",
       "      <td>/media/a/D/lockheed-martin/dataset/LM_dataset/...</td>\n",
       "      <td>[836, 385, 641, 387, 635, 582, 841, 582]</td>\n",
       "    </tr>\n",
       "    <tr>\n",
       "      <th>4</th>\n",
       "      <td>NaN</td>\n",
       "      <td>2019-02-07T02:18:01.000Z</td>\n",
       "      <td>alberto.galet@gmail.com</td>\n",
       "      <td>cjrsurb5v9p8c0anvcve1d63y</td>\n",
       "      <td>Test2 AlphaPilot #2</td>\n",
       "      <td>/media/a/D/lockheed-martin/dataset/LM_dataset/...</td>\n",
       "      <td>cjrtzslxpi69j0b4753lkl3ju</td>\n",
       "      <td>{'Outer Border': [{'geometry': 'POLYGON ((359 ...</td>\n",
       "      <td>https://storage.googleapis.com/labelbox-193903...</td>\n",
       "      <td>Test2 AlphaPilot</td>\n",
       "      <td>[]</td>\n",
       "      <td>46.003</td>\n",
       "      <td>https://image-segmentation-v4.labelbox.com?pro...</td>\n",
       "      <td>IMG_0374.JPG</td>\n",
       "      <td>/media/a/D/lockheed-martin/dataset/LM_dataset/...</td>\n",
       "      <td>[470, 221, 848, 231, 851, 613, 457, 609]</td>\n",
       "    </tr>\n",
       "    <tr>\n",
       "      <th>5</th>\n",
       "      <td>NaN</td>\n",
       "      <td>2019-02-07T02:18:42.000Z</td>\n",
       "      <td>alberto.galet@gmail.com</td>\n",
       "      <td>cjrsurb5v9p8g0anv2ji1v57l</td>\n",
       "      <td>Test2 AlphaPilot #2</td>\n",
       "      <td>/media/a/D/lockheed-martin/dataset/LM_dataset/...</td>\n",
       "      <td>cjrtzth7bi7210b47l0yydz0t</td>\n",
       "      <td>{'Outer Border': [{'geometry': 'POLYGON ((567 ...</td>\n",
       "      <td>https://storage.googleapis.com/labelbox-193903...</td>\n",
       "      <td>Test2 AlphaPilot</td>\n",
       "      <td>[]</td>\n",
       "      <td>39.919</td>\n",
       "      <td>https://image-segmentation-v4.labelbox.com?pro...</td>\n",
       "      <td>IMG_0396.JPG</td>\n",
       "      <td>/media/a/D/lockheed-martin/dataset/LM_dataset/...</td>\n",
       "      <td>[585, 338, 684, 354, 672, 523, 592, 532]</td>\n",
       "    </tr>\n",
       "    <tr>\n",
       "      <th>6</th>\n",
       "      <td>NaN</td>\n",
       "      <td>2019-02-07T02:19:13.000Z</td>\n",
       "      <td>alberto.galet@gmail.com</td>\n",
       "      <td>cjrsurb5v9p8k0anv1auzm8e0</td>\n",
       "      <td>Test2 AlphaPilot #2</td>\n",
       "      <td>/media/a/D/lockheed-martin/dataset/LM_dataset/...</td>\n",
       "      <td>cjrtzu5bziasw0898zn0xuaez</td>\n",
       "      <td>{'Outer Border': [{'geometry': 'POLYGON ((343 ...</td>\n",
       "      <td>https://storage.googleapis.com/labelbox-193903...</td>\n",
       "      <td>Test2 AlphaPilot</td>\n",
       "      <td>[]</td>\n",
       "      <td>30.653</td>\n",
       "      <td>https://image-segmentation-v4.labelbox.com?pro...</td>\n",
       "      <td>IMG_0861.JPG</td>\n",
       "      <td>/media/a/D/lockheed-martin/dataset/LM_dataset/...</td>\n",
       "      <td>[378, 468, 533, 480, 537, 646, 369, 646]</td>\n",
       "    </tr>\n",
       "    <tr>\n",
       "      <th>7</th>\n",
       "      <td>NaN</td>\n",
       "      <td>2019-02-07T02:19:47.000Z</td>\n",
       "      <td>alberto.galet@gmail.com</td>\n",
       "      <td>cjrsurb5v9p8o0anv56veqecf</td>\n",
       "      <td>Test2 AlphaPilot #2</td>\n",
       "      <td>/media/a/D/lockheed-martin/dataset/LM_dataset/...</td>\n",
       "      <td>cjrtzuvrni8r10b47jq56iqvh</td>\n",
       "      <td>{'Outer Border': [{'geometry': 'POLYGON ((753 ...</td>\n",
       "      <td>https://storage.googleapis.com/labelbox-193903...</td>\n",
       "      <td>Test2 AlphaPilot</td>\n",
       "      <td>[]</td>\n",
       "      <td>33.630</td>\n",
       "      <td>https://image-segmentation-v4.labelbox.com?pro...</td>\n",
       "      <td>IMG_1128.JPG</td>\n",
       "      <td>/media/a/D/lockheed-martin/dataset/LM_dataset/...</td>\n",
       "      <td>[509, 319, 705, 255, 705, 632, 506, 616]</td>\n",
       "    </tr>\n",
       "    <tr>\n",
       "      <th>8</th>\n",
       "      <td>NaN</td>\n",
       "      <td>2019-02-07T02:20:22.000Z</td>\n",
       "      <td>alberto.galet@gmail.com</td>\n",
       "      <td>cjrsurb5v9p8s0anvm6kjs3ge</td>\n",
       "      <td>Test2 AlphaPilot #2</td>\n",
       "      <td>/media/a/D/lockheed-martin/dataset/LM_dataset/...</td>\n",
       "      <td>cjrtzvm6xibyq089861ts75g5</td>\n",
       "      <td>{'Outer Border': [{'geometry': 'POLYGON ((585 ...</td>\n",
       "      <td>https://storage.googleapis.com/labelbox-193903...</td>\n",
       "      <td>Test2 AlphaPilot</td>\n",
       "      <td>[]</td>\n",
       "      <td>33.653</td>\n",
       "      <td>https://image-segmentation-v4.labelbox.com?pro...</td>\n",
       "      <td>IMG_1546.JPG</td>\n",
       "      <td>/media/a/D/lockheed-martin/dataset/LM_dataset/...</td>\n",
       "      <td>[620, 444, 756, 452, 760, 606, 623, 606]</td>\n",
       "    </tr>\n",
       "    <tr>\n",
       "      <th>9</th>\n",
       "      <td>NaN</td>\n",
       "      <td>2019-02-07T02:20:56.000Z</td>\n",
       "      <td>alberto.galet@gmail.com</td>\n",
       "      <td>cjrsurb5v9p8w0anvcfa1y38p</td>\n",
       "      <td>Test2 AlphaPilot #2</td>\n",
       "      <td>/media/a/D/lockheed-martin/dataset/LM_dataset/...</td>\n",
       "      <td>cjrtzwcfmi9t30b47ily7qitc</td>\n",
       "      <td>{'Outer Border': [{'geometry': 'POLYGON ((471 ...</td>\n",
       "      <td>https://storage.googleapis.com/labelbox-193903...</td>\n",
       "      <td>Test2 AlphaPilot</td>\n",
       "      <td>[]</td>\n",
       "      <td>33.376</td>\n",
       "      <td>https://image-segmentation-v4.labelbox.com?pro...</td>\n",
       "      <td>IMG_1580.JPG</td>\n",
       "      <td>/media/a/D/lockheed-martin/dataset/LM_dataset/...</td>\n",
       "      <td>[511, 433, 710, 438, 706, 630, 508, 632]</td>\n",
       "    </tr>\n",
       "  </tbody>\n",
       "</table>\n",
       "</div>"
      ],
      "text/plain": [
       "   Agreement                Created At               Created By  \\\n",
       "0        NaN  2019-02-06T08:35:37.000Z  alberto.galet@gmail.com   \n",
       "1        NaN  2019-02-06T08:36:22.000Z  alberto.galet@gmail.com   \n",
       "2        NaN  2019-02-06T08:36:55.000Z  alberto.galet@gmail.com   \n",
       "3        NaN  2019-02-07T02:17:15.000Z  alberto.galet@gmail.com   \n",
       "4        NaN  2019-02-07T02:18:01.000Z  alberto.galet@gmail.com   \n",
       "5        NaN  2019-02-07T02:18:42.000Z  alberto.galet@gmail.com   \n",
       "6        NaN  2019-02-07T02:19:13.000Z  alberto.galet@gmail.com   \n",
       "7        NaN  2019-02-07T02:19:47.000Z  alberto.galet@gmail.com   \n",
       "8        NaN  2019-02-07T02:20:22.000Z  alberto.galet@gmail.com   \n",
       "9        NaN  2019-02-07T02:20:56.000Z  alberto.galet@gmail.com   \n",
       "\n",
       "                  DataRow ID         Dataset Name  \\\n",
       "0  cjrsurb5r9p7w0anvd23j1pgg  Test2 AlphaPilot #2   \n",
       "1  cjrsurb5v9p800anv2xkrhfkw  Test2 AlphaPilot #2   \n",
       "2  cjrsurb5v9p840anv7ly4rt5s  Test2 AlphaPilot #2   \n",
       "3  cjrsurb5v9p880anvyjs4m1oj  Test2 AlphaPilot #2   \n",
       "4  cjrsurb5v9p8c0anvcve1d63y  Test2 AlphaPilot #2   \n",
       "5  cjrsurb5v9p8g0anv2ji1v57l  Test2 AlphaPilot #2   \n",
       "6  cjrsurb5v9p8k0anv1auzm8e0  Test2 AlphaPilot #2   \n",
       "7  cjrsurb5v9p8o0anv56veqecf  Test2 AlphaPilot #2   \n",
       "8  cjrsurb5v9p8s0anvm6kjs3ge  Test2 AlphaPilot #2   \n",
       "9  cjrsurb5v9p8w0anvcfa1y38p  Test2 AlphaPilot #2   \n",
       "\n",
       "                                         External ID  \\\n",
       "0  /media/a/D/lockheed-martin/dataset/LM_dataset/...   \n",
       "1  /media/a/D/lockheed-martin/dataset/LM_dataset/...   \n",
       "2  /media/a/D/lockheed-martin/dataset/LM_dataset/...   \n",
       "3  /media/a/D/lockheed-martin/dataset/LM_dataset/...   \n",
       "4  /media/a/D/lockheed-martin/dataset/LM_dataset/...   \n",
       "5  /media/a/D/lockheed-martin/dataset/LM_dataset/...   \n",
       "6  /media/a/D/lockheed-martin/dataset/LM_dataset/...   \n",
       "7  /media/a/D/lockheed-martin/dataset/LM_dataset/...   \n",
       "8  /media/a/D/lockheed-martin/dataset/LM_dataset/...   \n",
       "9  /media/a/D/lockheed-martin/dataset/LM_dataset/...   \n",
       "\n",
       "                          ID  \\\n",
       "0  cjrsxucjqqkbd0b47j8vcjsua   \n",
       "1  cjrsxvb54qkw90b47dwa8uupg   \n",
       "2  cjrsxw0feqs9n08984nfshogi   \n",
       "3  cjrtzrm18i8ga08983qewu7rq   \n",
       "4  cjrtzslxpi69j0b4753lkl3ju   \n",
       "5  cjrtzth7bi7210b47l0yydz0t   \n",
       "6  cjrtzu5bziasw0898zn0xuaez   \n",
       "7  cjrtzuvrni8r10b47jq56iqvh   \n",
       "8  cjrtzvm6xibyq089861ts75g5   \n",
       "9  cjrtzwcfmi9t30b47ily7qitc   \n",
       "\n",
       "                                               Label  \\\n",
       "0  {'Outer Border': [{'geometry': 'POLYGON ((997 ...   \n",
       "1  {'Outer Border': [{'geometry': 'POLYGON ((894 ...   \n",
       "2  {'Outer Border': [{'geometry': 'POLYGON ((848 ...   \n",
       "3  {'Outer Border': [{'geometry': 'POLYGON ((597 ...   \n",
       "4  {'Outer Border': [{'geometry': 'POLYGON ((359 ...   \n",
       "5  {'Outer Border': [{'geometry': 'POLYGON ((567 ...   \n",
       "6  {'Outer Border': [{'geometry': 'POLYGON ((343 ...   \n",
       "7  {'Outer Border': [{'geometry': 'POLYGON ((753 ...   \n",
       "8  {'Outer Border': [{'geometry': 'POLYGON ((585 ...   \n",
       "9  {'Outer Border': [{'geometry': 'POLYGON ((471 ...   \n",
       "\n",
       "                                        Labeled Data      Project Name  \\\n",
       "0  https://storage.googleapis.com/labelbox-193903...  Test2 AlphaPilot   \n",
       "1  https://storage.googleapis.com/labelbox-193903...  Test2 AlphaPilot   \n",
       "2  https://storage.googleapis.com/labelbox-193903...  Test2 AlphaPilot   \n",
       "3  https://storage.googleapis.com/labelbox-193903...  Test2 AlphaPilot   \n",
       "4  https://storage.googleapis.com/labelbox-193903...  Test2 AlphaPilot   \n",
       "5  https://storage.googleapis.com/labelbox-193903...  Test2 AlphaPilot   \n",
       "6  https://storage.googleapis.com/labelbox-193903...  Test2 AlphaPilot   \n",
       "7  https://storage.googleapis.com/labelbox-193903...  Test2 AlphaPilot   \n",
       "8  https://storage.googleapis.com/labelbox-193903...  Test2 AlphaPilot   \n",
       "9  https://storage.googleapis.com/labelbox-193903...  Test2 AlphaPilot   \n",
       "\n",
       "  Reviews  Seconds to Label  \\\n",
       "0      []            33.832   \n",
       "1      []            44.299   \n",
       "2      []            31.955   \n",
       "3      []            39.032   \n",
       "4      []            46.003   \n",
       "5      []            39.919   \n",
       "6      []            30.653   \n",
       "7      []            33.630   \n",
       "8      []            33.653   \n",
       "9      []            33.376   \n",
       "\n",
       "                                          View Label        images  \\\n",
       "0  https://image-segmentation-v4.labelbox.com?pro...  IMG_0015.JPG   \n",
       "1  https://image-segmentation-v4.labelbox.com?pro...  IMG_0158.JPG   \n",
       "2  https://image-segmentation-v4.labelbox.com?pro...  IMG_0244.JPG   \n",
       "3  https://image-segmentation-v4.labelbox.com?pro...  IMG_0367.JPG   \n",
       "4  https://image-segmentation-v4.labelbox.com?pro...  IMG_0374.JPG   \n",
       "5  https://image-segmentation-v4.labelbox.com?pro...  IMG_0396.JPG   \n",
       "6  https://image-segmentation-v4.labelbox.com?pro...  IMG_0861.JPG   \n",
       "7  https://image-segmentation-v4.labelbox.com?pro...  IMG_1128.JPG   \n",
       "8  https://image-segmentation-v4.labelbox.com?pro...  IMG_1546.JPG   \n",
       "9  https://image-segmentation-v4.labelbox.com?pro...  IMG_1580.JPG   \n",
       "\n",
       "                                            img_path  \\\n",
       "0  /media/a/D/lockheed-martin/dataset/LM_dataset/...   \n",
       "1  /media/a/D/lockheed-martin/dataset/LM_dataset/...   \n",
       "2  /media/a/D/lockheed-martin/dataset/LM_dataset/...   \n",
       "3  /media/a/D/lockheed-martin/dataset/LM_dataset/...   \n",
       "4  /media/a/D/lockheed-martin/dataset/LM_dataset/...   \n",
       "5  /media/a/D/lockheed-martin/dataset/LM_dataset/...   \n",
       "6  /media/a/D/lockheed-martin/dataset/LM_dataset/...   \n",
       "7  /media/a/D/lockheed-martin/dataset/LM_dataset/...   \n",
       "8  /media/a/D/lockheed-martin/dataset/LM_dataset/...   \n",
       "9  /media/a/D/lockheed-martin/dataset/LM_dataset/...   \n",
       "\n",
       "                             raw_inner_poly  \n",
       "0  [504, 191, 902, 177, 915, 580, 495, 584]  \n",
       "1  [454, 212, 803, 221, 808, 552, 454, 566]  \n",
       "2  [590, 376, 791, 371, 794, 589, 577, 601]  \n",
       "3  [836, 385, 641, 387, 635, 582, 841, 582]  \n",
       "4  [470, 221, 848, 231, 851, 613, 457, 609]  \n",
       "5  [585, 338, 684, 354, 672, 523, 592, 532]  \n",
       "6  [378, 468, 533, 480, 537, 646, 369, 646]  \n",
       "7  [509, 319, 705, 255, 705, 632, 506, 616]  \n",
       "8  [620, 444, 756, 452, 760, 606, 623, 606]  \n",
       "9  [511, 433, 710, 438, 706, 630, 508, 632]  "
      ]
     },
     "execution_count": 5,
     "metadata": {},
     "output_type": "execute_result"
    }
   ],
   "source": [
    "#merge the our annotations and provided annotations\n",
    "df_all=pd.merge(df, raw_df, on='images')\n",
    "df_all.head(10)"
   ]
  },
  {
   "cell_type": "code",
   "execution_count": 6,
   "metadata": {},
   "outputs": [
    {
     "name": "stdout",
     "output_type": "stream",
     "text": [
      "4943\n"
     ]
    },
    {
     "data": {
      "text/html": [
       "<div>\n",
       "<style>\n",
       "    .dataframe thead tr:only-child th {\n",
       "        text-align: right;\n",
       "    }\n",
       "\n",
       "    .dataframe thead th {\n",
       "        text-align: left;\n",
       "    }\n",
       "\n",
       "    .dataframe tbody tr th {\n",
       "        vertical-align: top;\n",
       "    }\n",
       "</style>\n",
       "<table border=\"1\" class=\"dataframe\">\n",
       "  <thead>\n",
       "    <tr style=\"text-align: right;\">\n",
       "      <th></th>\n",
       "      <th>images</th>\n",
       "      <th>img_path</th>\n",
       "      <th>Label</th>\n",
       "      <th>raw_inner_poly</th>\n",
       "      <th>outer_poly</th>\n",
       "      <th>inner_poly</th>\n",
       "      <th>outer_x_min</th>\n",
       "      <th>outer_y_min</th>\n",
       "      <th>outer_x_max</th>\n",
       "      <th>outer_y_max</th>\n",
       "      <th>inner_x_min</th>\n",
       "      <th>inner_y_min</th>\n",
       "      <th>inner_x_max</th>\n",
       "      <th>inner_y_max</th>\n",
       "      <th>class_id</th>\n",
       "    </tr>\n",
       "  </thead>\n",
       "  <tbody>\n",
       "    <tr>\n",
       "      <th>0</th>\n",
       "      <td>IMG_0015.JPG</td>\n",
       "      <td>/media/a/D/lockheed-martin/dataset/LM_dataset/...</td>\n",
       "      <td>{'Outer Border': [{'geometry': 'POLYGON ((997 ...</td>\n",
       "      <td>[504, 191, 902, 177, 915, 580, 495, 584]</td>\n",
       "      <td></td>\n",
       "      <td></td>\n",
       "      <td></td>\n",
       "      <td></td>\n",
       "      <td></td>\n",
       "      <td></td>\n",
       "      <td></td>\n",
       "      <td></td>\n",
       "      <td></td>\n",
       "      <td></td>\n",
       "      <td></td>\n",
       "    </tr>\n",
       "    <tr>\n",
       "      <th>1</th>\n",
       "      <td>IMG_0158.JPG</td>\n",
       "      <td>/media/a/D/lockheed-martin/dataset/LM_dataset/...</td>\n",
       "      <td>{'Outer Border': [{'geometry': 'POLYGON ((894 ...</td>\n",
       "      <td>[454, 212, 803, 221, 808, 552, 454, 566]</td>\n",
       "      <td></td>\n",
       "      <td></td>\n",
       "      <td></td>\n",
       "      <td></td>\n",
       "      <td></td>\n",
       "      <td></td>\n",
       "      <td></td>\n",
       "      <td></td>\n",
       "      <td></td>\n",
       "      <td></td>\n",
       "      <td></td>\n",
       "    </tr>\n",
       "    <tr>\n",
       "      <th>2</th>\n",
       "      <td>IMG_0244.JPG</td>\n",
       "      <td>/media/a/D/lockheed-martin/dataset/LM_dataset/...</td>\n",
       "      <td>{'Outer Border': [{'geometry': 'POLYGON ((848 ...</td>\n",
       "      <td>[590, 376, 791, 371, 794, 589, 577, 601]</td>\n",
       "      <td></td>\n",
       "      <td></td>\n",
       "      <td></td>\n",
       "      <td></td>\n",
       "      <td></td>\n",
       "      <td></td>\n",
       "      <td></td>\n",
       "      <td></td>\n",
       "      <td></td>\n",
       "      <td></td>\n",
       "      <td></td>\n",
       "    </tr>\n",
       "    <tr>\n",
       "      <th>3</th>\n",
       "      <td>IMG_0367.JPG</td>\n",
       "      <td>/media/a/D/lockheed-martin/dataset/LM_dataset/...</td>\n",
       "      <td>{'Outer Border': [{'geometry': 'POLYGON ((597 ...</td>\n",
       "      <td>[836, 385, 641, 387, 635, 582, 841, 582]</td>\n",
       "      <td></td>\n",
       "      <td></td>\n",
       "      <td></td>\n",
       "      <td></td>\n",
       "      <td></td>\n",
       "      <td></td>\n",
       "      <td></td>\n",
       "      <td></td>\n",
       "      <td></td>\n",
       "      <td></td>\n",
       "      <td></td>\n",
       "    </tr>\n",
       "    <tr>\n",
       "      <th>4</th>\n",
       "      <td>IMG_0374.JPG</td>\n",
       "      <td>/media/a/D/lockheed-martin/dataset/LM_dataset/...</td>\n",
       "      <td>{'Outer Border': [{'geometry': 'POLYGON ((359 ...</td>\n",
       "      <td>[470, 221, 848, 231, 851, 613, 457, 609]</td>\n",
       "      <td></td>\n",
       "      <td></td>\n",
       "      <td></td>\n",
       "      <td></td>\n",
       "      <td></td>\n",
       "      <td></td>\n",
       "      <td></td>\n",
       "      <td></td>\n",
       "      <td></td>\n",
       "      <td></td>\n",
       "      <td></td>\n",
       "    </tr>\n",
       "  </tbody>\n",
       "</table>\n",
       "</div>"
      ],
      "text/plain": [
       "         images                                           img_path  \\\n",
       "0  IMG_0015.JPG  /media/a/D/lockheed-martin/dataset/LM_dataset/...   \n",
       "1  IMG_0158.JPG  /media/a/D/lockheed-martin/dataset/LM_dataset/...   \n",
       "2  IMG_0244.JPG  /media/a/D/lockheed-martin/dataset/LM_dataset/...   \n",
       "3  IMG_0367.JPG  /media/a/D/lockheed-martin/dataset/LM_dataset/...   \n",
       "4  IMG_0374.JPG  /media/a/D/lockheed-martin/dataset/LM_dataset/...   \n",
       "\n",
       "                                               Label  \\\n",
       "0  {'Outer Border': [{'geometry': 'POLYGON ((997 ...   \n",
       "1  {'Outer Border': [{'geometry': 'POLYGON ((894 ...   \n",
       "2  {'Outer Border': [{'geometry': 'POLYGON ((848 ...   \n",
       "3  {'Outer Border': [{'geometry': 'POLYGON ((597 ...   \n",
       "4  {'Outer Border': [{'geometry': 'POLYGON ((359 ...   \n",
       "\n",
       "                             raw_inner_poly outer_poly inner_poly outer_x_min  \\\n",
       "0  [504, 191, 902, 177, 915, 580, 495, 584]                                     \n",
       "1  [454, 212, 803, 221, 808, 552, 454, 566]                                     \n",
       "2  [590, 376, 791, 371, 794, 589, 577, 601]                                     \n",
       "3  [836, 385, 641, 387, 635, 582, 841, 582]                                     \n",
       "4  [470, 221, 848, 231, 851, 613, 457, 609]                                     \n",
       "\n",
       "  outer_y_min outer_x_max outer_y_max inner_x_min inner_y_min inner_x_max  \\\n",
       "0                                                                           \n",
       "1                                                                           \n",
       "2                                                                           \n",
       "3                                                                           \n",
       "4                                                                           \n",
       "\n",
       "  inner_y_max class_id  \n",
       "0                       \n",
       "1                       \n",
       "2                       \n",
       "3                       \n",
       "4                       "
      ]
     },
     "execution_count": 6,
     "metadata": {},
     "output_type": "execute_result"
    }
   ],
   "source": [
    "\n",
    "keep_cols=['images', 'img_path','Label','raw_inner_poly']\n",
    "df_all=df_all[keep_cols]\n",
    "df_all['outer_poly']=''\n",
    "df_all['inner_poly']=''\n",
    "df_all['outer_x_min']=''\n",
    "df_all['outer_y_min']=''\n",
    "df_all['outer_x_max']=''\n",
    "df_all['outer_y_max']=''\n",
    "df_all['inner_x_min']=''\n",
    "df_all['inner_y_min']=''\n",
    "df_all['inner_x_max']=''\n",
    "df_all['inner_y_max']=''\n",
    "df_all['class_id']= ''\n",
    "print(len(df_all))\n",
    "df_all.head()"
   ]
  },
  {
   "cell_type": "code",
   "execution_count": 7,
   "metadata": {},
   "outputs": [
    {
     "name": "stdout",
     "output_type": "stream",
     "text": [
      "raw_inner_poly [632, 437, 718, 445, 720, 580, 632, 587]\n",
      "poly [632, 437, 718, 445, 720, 580, 632, 587]\n",
      "raw_inner_poly [571, 404, 698, 425, 686, 603, 565, 601]\n",
      "poly [571, 404, 698, 425, 686, 603, 565, 601]\n"
     ]
    },
    {
     "data": {
      "image/png": "[encoded data removed]",
      "text/plain": [
       "<matplotlib.figure.Figure at 0x7f4760502128>"
      ]
     },
     "metadata": {},
     "output_type": "display_data"
    }
   ],
   "source": [
    "# checking the mask from the provided GT by the organizers\n",
    "\n",
    "\n",
    "\n",
    "#processing the polygone and creating a mask\n",
    "def get_mask_raw_data(img_shape, poly,display=False):\n",
    "    output_mask = np.zeros(img_shape[:2], dtype=np.uint8)\n",
    "    print('poly',poly)\n",
    "\n",
    "    coords =  zip(*[iter(poly)] * 2) \n",
    "     \n",
    "    mask = np.zeros(img_shape[:2], dtype=np.uint8)\n",
    "    mask = PIL.Image.fromarray(mask)\n",
    "    draw = PIL.ImageDraw.Draw(mask)\n",
    "    x = []\n",
    "    y = []\n",
    "    polygons = []\n",
    "\n",
    "    for pt in coords:\n",
    "        a = (int(pt[0]), int(pt[1]))\n",
    "        polygons.append(a)\n",
    "        init_x = (int(pt[0]))\n",
    "        init_y = (int(pt[1]))\n",
    "\n",
    "        x.append(init_x)\n",
    "        y.append(init_y)\n",
    "    proc_polygons=np.vstack((x,y)).T\n",
    "    x,y,w,h = cv2.boundingRect(proc_polygons) \n",
    "    draw.polygon(xy=polygons, outline=1, fill=1)\n",
    "    mask = np.array(mask, dtype=bool)\n",
    "    if display:\n",
    "        plt.imshow(mask)\n",
    "        plt.show\n",
    "    return mask\n",
    "for i in range(444,446):#len(df)):\n",
    "\n",
    "    img=cv2.imread(df_all['img_path'][i])\n",
    "    row=img.shape[0]\n",
    "    col=img.shape[1]\n",
    "    img_shape = (row,col)\n",
    "    #outer_poly=df['Label'][i] \n",
    "    inner_poly=df_all['raw_inner_poly'][i]\n",
    "    if inner_poly:\n",
    "        print('raw_inner_poly',inner_poly)\n",
    "    #outer_mask=get_mask(img_shape,outer_poly,display=False)\n",
    "        inner_mask=get_mask_raw_data(img_shape,inner_poly,display=False)\n",
    "        inner_mask.dtype='uint8'\n",
    "    #outer_mask.dtype='uint8'\n",
    "    #final_mask=cv2.subtract(outer_mask,inner_mask)\n",
    "        plt.imshow(cv2.bitwise_and(img,img,mask=inner_mask))\n",
    "        plt.show\n",
    "    else:\n",
    "        print('polygon data corruption detected for index:', i)"
   ]
  },
  {
   "cell_type": "markdown",
   "metadata": {},
   "source": [
    "test_id=1\n",
    "test_poly=df['Label'][test_id]['Outer Border']#df['outer_poly'][1] \n"
   ]
  },
  {
   "cell_type": "code",
   "execution_count": 8,
   "metadata": {
    "scrolled": true
   },
   "outputs": [
    {
     "name": "stderr",
     "output_type": "stream",
     "text": [
      "100%|██████████| 4943/4943 [00:03<00:00, 1585.01it/s]"
     ]
    },
    {
     "name": "stdout",
     "output_type": "stream",
     "text": [
      "corrupt data detected for index: 4911\n"
     ]
    },
    {
     "name": "stderr",
     "output_type": "stream",
     "text": [
      "\n"
     ]
    }
   ],
   "source": [
    "#convert the polygons into a format that can be convereted to bounding boxes \n",
    "from tqdm import tqdm\n",
    "#preprocessing our_dataset\n",
    "\n",
    "def convert_coordinates(poly):\n",
    "    proc_poly=poly[0]['geometry']\n",
    "    nums =  re.findall(r'\\d+(?:\\.\\d*)?', proc_poly.rpartition(',')[0])\n",
    "    coords =  zip(*[iter(nums)] * 2)\n",
    "    polygons = []\n",
    "    for pt in coords:\n",
    "        a = (int(pt[0]), int(pt[1]))\n",
    "        polygons.append(a)\n",
    "    \n",
    "    return polygons \n",
    "def convert_coordinates_raw(polygon):\n",
    "    poly=[]\n",
    "    polygon =  zip(*[iter(polygon)] * 2)\n",
    "    for p in polygon:\n",
    "        poly.append(p)\n",
    "    return poly\n",
    "def get_bbox(polygon):\n",
    "    polygon=polygon[0]['geometry']\n",
    "    polygon=(polygon)\n",
    "\n",
    "    polygon =  re.findall(r'\\d+(?:\\.\\d*)?', polygon)\n",
    "    polygon =  zip(*[iter(polygon)] * 2)\n",
    "    x = []\n",
    "    y = []\n",
    "    for pt in polygon:\n",
    "        init_x = (int(pt[0]))\n",
    "        init_y = (int(pt[1]))\n",
    "\n",
    "        x.append(init_x)\n",
    "        y.append(init_y)\n",
    "    polygons=np.vstack((x,y)).T\n",
    "   \n",
    "    x,y,w,h = cv2.boundingRect(polygons)\n",
    "    x_min=x\n",
    "    y_min=y\n",
    "    x_max=x+w\n",
    "    y_max=y+h\n",
    "    return x_min,y_min,x_max,y_max\n",
    "    #return x_min,x_max,y_min,y_max\n",
    "def get_bbox_raw_data(polygon):\n",
    "    polygon =  zip(*[iter(polygon)] * 2)\n",
    "    x = []\n",
    "    y = []\n",
    "    for pt in polygon:\n",
    " \n",
    "        init_x = (int(pt[0]))\n",
    "        init_y = (int(pt[1]))\n",
    "\n",
    "        x.append(init_x)\n",
    "        y.append(init_y)\n",
    "    polygons=np.vstack(((x,y))).T\n",
    "    \n",
    "    x,y,w,h = cv2.boundingRect(polygons)\n",
    "    x_min=x\n",
    "    y_min=y\n",
    "    x_max=x+w\n",
    "    y_max=y+h\n",
    "    return x_min,y_min,x_max,y_max\n",
    "    #return x_min,x_max,y_min,y_max\n",
    "for i in tqdm(range(0,len(df_all))):\n",
    "    #remove white spaces from image path\n",
    "   \n",
    "    df_all['img_path'][i]=re.sub(r\"\\s+\", \"\", df_all['img_path'][i]) # \\s matches all white spaces\n",
    "    if df_all['raw_inner_poly'][i]:\n",
    "        if df_all['Label'][i] != 'Skip':\n",
    "            outer_poly=df_all['Label'][i]['Outer Border']\n",
    "            #if len(outer_poly) !=1:\n",
    " \n",
    "            inner_poly=df_all['raw_inner_poly'][i]#df['Label'][i]['inner flyable area']\n",
    "            if inner_poly and outer_poly:\n",
    "                df_all['outer_poly'][i] = convert_coordinates(outer_poly)\n",
    "                df_all['inner_poly'][i] = convert_coordinates_raw(inner_poly)\n",
    "                    #df['inner_poly'][i] = convert_coordinates(inner_poly)\n",
    "\n",
    "                df_all['outer_x_min'][i],df_all['outer_y_min'][i], df_all['outer_x_max'][i],df_all['outer_y_max'][i]=get_bbox(outer_poly)\n",
    "                df_all['inner_x_min'][i],df_all['inner_y_min'][i], df_all['inner_x_max'][i],df_all['inner_y_max'][i]=get_bbox_raw_data(inner_poly)\n",
    "                    #df_all['outer_x_min'][i],df_all['outer_x_max'][i], df_all['outer_y_min'][i],df_all['outer_y_max'][i]=get_bbox(outer_poly)\n",
    "                    #df_all['inner_x_min'][i],df_all['inner_x_max'][i], df_all['inner_y_min'][i],df_all['inner_y_max'][i]=get_bbox_raw_data(inner_poly) \n",
    "        else:\n",
    "            print('corrupt data detected for index:', i )\n",
    "            continue\n",
    "    #df['outer_poly']= h\n",
    "   #df['inner_poly']= convert_coordinates(inner_poly)"
   ]
  },
  {
   "cell_type": "code",
   "execution_count": 9,
   "metadata": {},
   "outputs": [
    {
     "data": {
      "text/html": [
       "<div>\n",
       "<style>\n",
       "    .dataframe thead tr:only-child th {\n",
       "        text-align: right;\n",
       "    }\n",
       "\n",
       "    .dataframe thead th {\n",
       "        text-align: left;\n",
       "    }\n",
       "\n",
       "    .dataframe tbody tr th {\n",
       "        vertical-align: top;\n",
       "    }\n",
       "</style>\n",
       "<table border=\"1\" class=\"dataframe\">\n",
       "  <thead>\n",
       "    <tr style=\"text-align: right;\">\n",
       "      <th></th>\n",
       "      <th>images</th>\n",
       "      <th>img_path</th>\n",
       "      <th>Label</th>\n",
       "      <th>raw_inner_poly</th>\n",
       "      <th>outer_poly</th>\n",
       "      <th>inner_poly</th>\n",
       "      <th>outer_x_min</th>\n",
       "      <th>outer_y_min</th>\n",
       "      <th>outer_x_max</th>\n",
       "      <th>outer_y_max</th>\n",
       "      <th>inner_x_min</th>\n",
       "      <th>inner_y_min</th>\n",
       "      <th>inner_x_max</th>\n",
       "      <th>inner_y_max</th>\n",
       "      <th>class_id</th>\n",
       "    </tr>\n",
       "  </thead>\n",
       "  <tbody>\n",
       "    <tr>\n",
       "      <th>0</th>\n",
       "      <td>IMG_0015.JPG</td>\n",
       "      <td>/media/a/D/lockheed-martin/dataset/LM_dataset/...</td>\n",
       "      <td>{'Outer Border': [{'geometry': 'POLYGON ((997 ...</td>\n",
       "      <td>[504, 191, 902, 177, 915, 580, 495, 584]</td>\n",
       "      <td>[(997, 65), (1014, 683), (402, 673), (416, 106)]</td>\n",
       "      <td>[(504, 191), (902, 177), (915, 580), (495, 584)]</td>\n",
       "      <td>402</td>\n",
       "      <td>65</td>\n",
       "      <td>1015</td>\n",
       "      <td>684</td>\n",
       "      <td>495</td>\n",
       "      <td>177</td>\n",
       "      <td>916</td>\n",
       "      <td>585</td>\n",
       "      <td></td>\n",
       "    </tr>\n",
       "    <tr>\n",
       "      <th>1</th>\n",
       "      <td>IMG_0158.JPG</td>\n",
       "      <td>/media/a/D/lockheed-martin/dataset/LM_dataset/...</td>\n",
       "      <td>{'Outer Border': [{'geometry': 'POLYGON ((894 ...</td>\n",
       "      <td>[454, 212, 803, 221, 808, 552, 454, 566]</td>\n",
       "      <td>[(894, 638), (375, 646), (383, 136), (882, 141)]</td>\n",
       "      <td>[(454, 212), (803, 221), (808, 552), (454, 566)]</td>\n",
       "      <td>375</td>\n",
       "      <td>136</td>\n",
       "      <td>895</td>\n",
       "      <td>647</td>\n",
       "      <td>454</td>\n",
       "      <td>212</td>\n",
       "      <td>809</td>\n",
       "      <td>567</td>\n",
       "      <td></td>\n",
       "    </tr>\n",
       "    <tr>\n",
       "      <th>2</th>\n",
       "      <td>IMG_0244.JPG</td>\n",
       "      <td>/media/a/D/lockheed-martin/dataset/LM_dataset/...</td>\n",
       "      <td>{'Outer Border': [{'geometry': 'POLYGON ((848 ...</td>\n",
       "      <td>[590, 376, 791, 371, 794, 589, 577, 601]</td>\n",
       "      <td>[(848, 312), (851, 649), (533, 639), (538, 328)]</td>\n",
       "      <td>[(590, 376), (791, 371), (794, 589), (577, 601)]</td>\n",
       "      <td>533</td>\n",
       "      <td>312</td>\n",
       "      <td>852</td>\n",
       "      <td>650</td>\n",
       "      <td>577</td>\n",
       "      <td>371</td>\n",
       "      <td>795</td>\n",
       "      <td>602</td>\n",
       "      <td></td>\n",
       "    </tr>\n",
       "    <tr>\n",
       "      <th>3</th>\n",
       "      <td>IMG_0367.JPG</td>\n",
       "      <td>/media/a/D/lockheed-martin/dataset/LM_dataset/...</td>\n",
       "      <td>{'Outer Border': [{'geometry': 'POLYGON ((597 ...</td>\n",
       "      <td>[836, 385, 641, 387, 635, 582, 841, 582]</td>\n",
       "      <td>[(597, 623), (880, 627), (881, 344), (603, 346)]</td>\n",
       "      <td>[(836, 385), (641, 387), (635, 582), (841, 582)]</td>\n",
       "      <td>597</td>\n",
       "      <td>344</td>\n",
       "      <td>882</td>\n",
       "      <td>628</td>\n",
       "      <td>635</td>\n",
       "      <td>385</td>\n",
       "      <td>842</td>\n",
       "      <td>583</td>\n",
       "      <td></td>\n",
       "    </tr>\n",
       "    <tr>\n",
       "      <th>4</th>\n",
       "      <td>IMG_0374.JPG</td>\n",
       "      <td>/media/a/D/lockheed-martin/dataset/LM_dataset/...</td>\n",
       "      <td>{'Outer Border': [{'geometry': 'POLYGON ((359 ...</td>\n",
       "      <td>[470, 221, 848, 231, 851, 613, 457, 609]</td>\n",
       "      <td>[(359, 703), (950, 711), (943, 141), (384, 128)]</td>\n",
       "      <td>[(470, 221), (848, 231), (851, 613), (457, 609)]</td>\n",
       "      <td>359</td>\n",
       "      <td>128</td>\n",
       "      <td>951</td>\n",
       "      <td>712</td>\n",
       "      <td>457</td>\n",
       "      <td>221</td>\n",
       "      <td>852</td>\n",
       "      <td>614</td>\n",
       "      <td></td>\n",
       "    </tr>\n",
       "  </tbody>\n",
       "</table>\n",
       "</div>"
      ],
      "text/plain": [
       "         images                                           img_path  \\\n",
       "0  IMG_0015.JPG  /media/a/D/lockheed-martin/dataset/LM_dataset/...   \n",
       "1  IMG_0158.JPG  /media/a/D/lockheed-martin/dataset/LM_dataset/...   \n",
       "2  IMG_0244.JPG  /media/a/D/lockheed-martin/dataset/LM_dataset/...   \n",
       "3  IMG_0367.JPG  /media/a/D/lockheed-martin/dataset/LM_dataset/...   \n",
       "4  IMG_0374.JPG  /media/a/D/lockheed-martin/dataset/LM_dataset/...   \n",
       "\n",
       "                                               Label  \\\n",
       "0  {'Outer Border': [{'geometry': 'POLYGON ((997 ...   \n",
       "1  {'Outer Border': [{'geometry': 'POLYGON ((894 ...   \n",
       "2  {'Outer Border': [{'geometry': 'POLYGON ((848 ...   \n",
       "3  {'Outer Border': [{'geometry': 'POLYGON ((597 ...   \n",
       "4  {'Outer Border': [{'geometry': 'POLYGON ((359 ...   \n",
       "\n",
       "                             raw_inner_poly  \\\n",
       "0  [504, 191, 902, 177, 915, 580, 495, 584]   \n",
       "1  [454, 212, 803, 221, 808, 552, 454, 566]   \n",
       "2  [590, 376, 791, 371, 794, 589, 577, 601]   \n",
       "3  [836, 385, 641, 387, 635, 582, 841, 582]   \n",
       "4  [470, 221, 848, 231, 851, 613, 457, 609]   \n",
       "\n",
       "                                         outer_poly  \\\n",
       "0  [(997, 65), (1014, 683), (402, 673), (416, 106)]   \n",
       "1  [(894, 638), (375, 646), (383, 136), (882, 141)]   \n",
       "2  [(848, 312), (851, 649), (533, 639), (538, 328)]   \n",
       "3  [(597, 623), (880, 627), (881, 344), (603, 346)]   \n",
       "4  [(359, 703), (950, 711), (943, 141), (384, 128)]   \n",
       "\n",
       "                                         inner_poly outer_x_min outer_y_min  \\\n",
       "0  [(504, 191), (902, 177), (915, 580), (495, 584)]         402          65   \n",
       "1  [(454, 212), (803, 221), (808, 552), (454, 566)]         375         136   \n",
       "2  [(590, 376), (791, 371), (794, 589), (577, 601)]         533         312   \n",
       "3  [(836, 385), (641, 387), (635, 582), (841, 582)]         597         344   \n",
       "4  [(470, 221), (848, 231), (851, 613), (457, 609)]         359         128   \n",
       "\n",
       "  outer_x_max outer_y_max inner_x_min inner_y_min inner_x_max inner_y_max  \\\n",
       "0        1015         684         495         177         916         585   \n",
       "1         895         647         454         212         809         567   \n",
       "2         852         650         577         371         795         602   \n",
       "3         882         628         635         385         842         583   \n",
       "4         951         712         457         221         852         614   \n",
       "\n",
       "  class_id  \n",
       "0           \n",
       "1           \n",
       "2           \n",
       "3           \n",
       "4           "
      ]
     },
     "execution_count": 9,
     "metadata": {},
     "output_type": "execute_result"
    }
   ],
   "source": [
    "df_all.head()"
   ]
  },
  {
   "cell_type": "code",
   "execution_count": null,
   "metadata": {},
   "outputs": [],
   "source": []
  },
  {
   "cell_type": "code",
   "execution_count": 10,
   "metadata": {},
   "outputs": [
    {
     "name": "stderr",
     "output_type": "stream",
     "text": [
      "/home/a/anaconda3/envs/tf/lib/python3.5/site-packages/ipykernel/__main__.py:6: SettingWithCopyWarning: \n",
      "A value is trying to be set on a copy of a slice from a DataFrame.\n",
      "Try using .loc[row_indexer,col_indexer] = value instead\n",
      "\n",
      "See the caveats in the documentation: http://pandas.pydata.org/pandas-docs/stable/indexing.html#indexing-view-versus-copy\n",
      "/home/a/anaconda3/envs/tf/lib/python3.5/site-packages/ipykernel/__main__.py:7: SettingWithCopyWarning: \n",
      "A value is trying to be set on a copy of a slice from a DataFrame.\n",
      "Try using .loc[row_indexer,col_indexer] = value instead\n",
      "\n",
      "See the caveats in the documentation: http://pandas.pydata.org/pandas-docs/stable/indexing.html#indexing-view-versus-copy\n"
     ]
    },
    {
     "data": {
      "text/html": [
       "<div>\n",
       "<style>\n",
       "    .dataframe thead tr:only-child th {\n",
       "        text-align: right;\n",
       "    }\n",
       "\n",
       "    .dataframe thead th {\n",
       "        text-align: left;\n",
       "    }\n",
       "\n",
       "    .dataframe tbody tr th {\n",
       "        vertical-align: top;\n",
       "    }\n",
       "</style>\n",
       "<table border=\"1\" class=\"dataframe\">\n",
       "  <thead>\n",
       "    <tr style=\"text-align: right;\">\n",
       "      <th></th>\n",
       "      <th>img_path</th>\n",
       "      <th>outer_x_min</th>\n",
       "      <th>outer_y_min</th>\n",
       "      <th>outer_x_max</th>\n",
       "      <th>outer_y_max</th>\n",
       "      <th>outer_poly</th>\n",
       "      <th>class_id_x</th>\n",
       "      <th>inner_x_min</th>\n",
       "      <th>inner_y_min</th>\n",
       "      <th>inner_x_max</th>\n",
       "      <th>inner_y_max</th>\n",
       "      <th>inner_poly</th>\n",
       "      <th>class_id_y</th>\n",
       "    </tr>\n",
       "  </thead>\n",
       "  <tbody>\n",
       "    <tr>\n",
       "      <th>0</th>\n",
       "      <td>/media/a/D/lockheed-martin/dataset/LM_dataset/...</td>\n",
       "      <td>402</td>\n",
       "      <td>65</td>\n",
       "      <td>1015</td>\n",
       "      <td>684</td>\n",
       "      <td>[(997, 65), (1014, 683), (402, 673), (416, 106)]</td>\n",
       "      <td>0</td>\n",
       "      <td>495</td>\n",
       "      <td>177</td>\n",
       "      <td>916</td>\n",
       "      <td>585</td>\n",
       "      <td>[(504, 191), (902, 177), (915, 580), (495, 584)]</td>\n",
       "      <td>1</td>\n",
       "    </tr>\n",
       "    <tr>\n",
       "      <th>1</th>\n",
       "      <td>/media/a/D/lockheed-martin/dataset/LM_dataset/...</td>\n",
       "      <td>375</td>\n",
       "      <td>136</td>\n",
       "      <td>895</td>\n",
       "      <td>647</td>\n",
       "      <td>[(894, 638), (375, 646), (383, 136), (882, 141)]</td>\n",
       "      <td>0</td>\n",
       "      <td>454</td>\n",
       "      <td>212</td>\n",
       "      <td>809</td>\n",
       "      <td>567</td>\n",
       "      <td>[(454, 212), (803, 221), (808, 552), (454, 566)]</td>\n",
       "      <td>1</td>\n",
       "    </tr>\n",
       "    <tr>\n",
       "      <th>2</th>\n",
       "      <td>/media/a/D/lockheed-martin/dataset/LM_dataset/...</td>\n",
       "      <td>533</td>\n",
       "      <td>312</td>\n",
       "      <td>852</td>\n",
       "      <td>650</td>\n",
       "      <td>[(848, 312), (851, 649), (533, 639), (538, 328)]</td>\n",
       "      <td>0</td>\n",
       "      <td>577</td>\n",
       "      <td>371</td>\n",
       "      <td>795</td>\n",
       "      <td>602</td>\n",
       "      <td>[(590, 376), (791, 371), (794, 589), (577, 601)]</td>\n",
       "      <td>1</td>\n",
       "    </tr>\n",
       "    <tr>\n",
       "      <th>3</th>\n",
       "      <td>/media/a/D/lockheed-martin/dataset/LM_dataset/...</td>\n",
       "      <td>597</td>\n",
       "      <td>344</td>\n",
       "      <td>882</td>\n",
       "      <td>628</td>\n",
       "      <td>[(597, 623), (880, 627), (881, 344), (603, 346)]</td>\n",
       "      <td>0</td>\n",
       "      <td>635</td>\n",
       "      <td>385</td>\n",
       "      <td>842</td>\n",
       "      <td>583</td>\n",
       "      <td>[(836, 385), (641, 387), (635, 582), (841, 582)]</td>\n",
       "      <td>1</td>\n",
       "    </tr>\n",
       "    <tr>\n",
       "      <th>4</th>\n",
       "      <td>/media/a/D/lockheed-martin/dataset/LM_dataset/...</td>\n",
       "      <td>359</td>\n",
       "      <td>128</td>\n",
       "      <td>951</td>\n",
       "      <td>712</td>\n",
       "      <td>[(359, 703), (950, 711), (943, 141), (384, 128)]</td>\n",
       "      <td>0</td>\n",
       "      <td>457</td>\n",
       "      <td>221</td>\n",
       "      <td>852</td>\n",
       "      <td>614</td>\n",
       "      <td>[(470, 221), (848, 231), (851, 613), (457, 609)]</td>\n",
       "      <td>1</td>\n",
       "    </tr>\n",
       "  </tbody>\n",
       "</table>\n",
       "</div>"
      ],
      "text/plain": [
       "                                            img_path outer_x_min outer_y_min  \\\n",
       "0  /media/a/D/lockheed-martin/dataset/LM_dataset/...         402          65   \n",
       "1  /media/a/D/lockheed-martin/dataset/LM_dataset/...         375         136   \n",
       "2  /media/a/D/lockheed-martin/dataset/LM_dataset/...         533         312   \n",
       "3  /media/a/D/lockheed-martin/dataset/LM_dataset/...         597         344   \n",
       "4  /media/a/D/lockheed-martin/dataset/LM_dataset/...         359         128   \n",
       "\n",
       "  outer_x_max outer_y_max                                        outer_poly  \\\n",
       "0        1015         684  [(997, 65), (1014, 683), (402, 673), (416, 106)]   \n",
       "1         895         647  [(894, 638), (375, 646), (383, 136), (882, 141)]   \n",
       "2         852         650  [(848, 312), (851, 649), (533, 639), (538, 328)]   \n",
       "3         882         628  [(597, 623), (880, 627), (881, 344), (603, 346)]   \n",
       "4         951         712  [(359, 703), (950, 711), (943, 141), (384, 128)]   \n",
       "\n",
       "   class_id_x inner_x_min inner_y_min inner_x_max inner_y_max  \\\n",
       "0           0         495         177         916         585   \n",
       "1           0         454         212         809         567   \n",
       "2           0         577         371         795         602   \n",
       "3           0         635         385         842         583   \n",
       "4           0         457         221         852         614   \n",
       "\n",
       "                                         inner_poly  class_id_y  \n",
       "0  [(504, 191), (902, 177), (915, 580), (495, 584)]           1  \n",
       "1  [(454, 212), (803, 221), (808, 552), (454, 566)]           1  \n",
       "2  [(590, 376), (791, 371), (794, 589), (577, 601)]           1  \n",
       "3  [(836, 385), (641, 387), (635, 582), (841, 582)]           1  \n",
       "4  [(470, 221), (848, 231), (851, 613), (457, 609)]           1  "
      ]
     },
     "execution_count": 10,
     "metadata": {},
     "output_type": "execute_result"
    }
   ],
   "source": [
    "#keep only filed required by yolov3. Divide the dataframe into outer and inner bounding boxes and then assign a class to each one of them \n",
    "keep_cols_outer=['img_path', 'outer_x_min', 'outer_y_min', 'outer_x_max', 'outer_y_max','outer_poly','class_id']\n",
    "keep_cols_inner=['img_path', 'inner_x_min', 'inner_y_min', 'inner_x_max', 'inner_y_max', 'inner_poly','class_id']\n",
    "df_outer=df_all[keep_cols_outer]\n",
    "df_inner=df_all[keep_cols_inner]\n",
    "df_outer['class_id']=0\n",
    "df_inner['class_id']=1\n",
    "df_enet=pd.merge(df_outer, df_inner, on='img_path')\n",
    "df_enet.head()"
   ]
  },
  {
   "cell_type": "code",
   "execution_count": 11,
   "metadata": {},
   "outputs": [
    {
     "name": "stdout",
     "output_type": "stream",
     "text": [
      "outer poly [(466, 404), (706, 419), (710, 670), (463, 674)]\n",
      "inner_poly [(499, 444), (665, 456), (665, 628), (497, 632)]\n",
      "outer poly [(461, 473), (695, 457), (702, 713), (459, 717)]\n",
      "inner_poly [(502, 509), (653, 495), (654, 675), (495, 677)]\n",
      "outer poly [(530, 355), (743, 282), (758, 665), (532, 661)]\n",
      "inner_poly [(559, 390), (708, 343), (715, 608), (566, 609)]\n",
      "outer poly [(550, 343), (697, 346), (696, 493), (549, 494)]\n",
      "inner_poly [(573, 373), (670, 364), (673, 457), (570, 466)]\n",
      "outer poly [(660, 335), (843, 333), (843, 518), (660, 517)]\n",
      "inner_poly [(677, 347), (808, 336), (808, 466), (665, 490)]\n",
      "outer poly [(550, 336), (860, 337), (864, 649), (550, 654)]\n",
      "inner_poly [(599, 387), (810, 387), (800, 594), (606, 594)]\n",
      "outer poly [(211, 306), (496, 322), (496, 597), (210, 609)]\n",
      "inner_poly [(259, 357), (445, 364), (445, 549), (254, 552)]\n",
      "outer poly [(466, 213), (974, 174), (981, 724), (465, 702)]\n",
      "inner_poly [(542, 286), (893, 267), (898, 639), (539, 628)]\n",
      "outer poly [(417, 227), (723, 256), (722, 578), (420, 607)]\n",
      "inner_poly [(466, 288), (675, 302), (673, 530), (461, 549)]\n",
      "outer poly [(566, 260), (807, 267), (804, 509), (565, 513)]\n",
      "inner_poly [(601, 298), (767, 304), (760, 470), (603, 471)]\n"
     ]
    },
    {
     "data": {
      "image/png": "[encoded data removed]",
      "text/plain": [
       "<matplotlib.figure.Figure at 0x7f47685cfe48>"
      ]
     },
     "metadata": {},
     "output_type": "display_data"
    }
   ],
   "source": [
    "# testing annotation all together \n",
    "\n",
    "def get_mask(img_shape, poly,display=False):\n",
    "     \n",
    "\n",
    "    mask = np.zeros(img_shape[:2], dtype=np.uint8)\n",
    "    mask = PIL.Image.fromarray(mask)\n",
    "    draw = PIL.ImageDraw.Draw(mask)\n",
    "    polygons = []\n",
    "    for pt in poly:\n",
    "        a = (int(pt[0]), int(pt[1]))\n",
    "        polygons.append(a)\n",
    "    \n",
    "    draw.polygon(xy=polygons, outline=1, fill=1)\n",
    "    mask = np.array(mask, dtype=bool)\n",
    "    if display:\n",
    "        plt.imshow(mask)\n",
    "        plt.show\n",
    "    return mask\n",
    "#getting the final mask\n",
    "\n",
    "for i in range(100,110):#len(df)): # use one image only for testing\n",
    "\n",
    "    img=cv2.imread(df_enet['img_path'][i])\n",
    "    row=img.shape[0]\n",
    "    col=img.shape[1]\n",
    "    img_shape = (row,col)\n",
    "    outer_poly=df_enet['outer_poly'][i] \n",
    "    print('outer poly',outer_poly)\n",
    "    inner_poly=df_enet['inner_poly'][i]\n",
    "    print('inner_poly', list(inner_poly))\n",
    "    outer_mask=get_mask(img_shape,outer_poly,display=False)\n",
    "    inner_mask=get_mask(img_shape,inner_poly,display=False)\n",
    "    inner_mask.dtype='uint8'\n",
    "    outer_mask.dtype='uint8'\n",
    "    final_mask=cv2.subtract(outer_mask,inner_mask)\n",
    "    plt.imshow(cv2.bitwise_and(img,img,mask=final_mask))\n",
    "    plt.show"
   ]
  },
  {
   "cell_type": "code",
   "execution_count": 12,
   "metadata": {},
   "outputs": [
    {
     "name": "stdout",
     "output_type": "stream",
     "text": [
      "4943\n"
     ]
    }
   ],
   "source": [
    "print(len(df_enet))"
   ]
  },
  {
   "cell_type": "markdown",
   "metadata": {},
   "source": [
    "Create the ENet model\n",
    "We decided to to split the model to three sub classes:\n",
    "\n",
    "1) Initial block\n",
    "\n",
    "2) RDDNeck - class for regular, downsampling and dilated bottlenecks\n",
    "\n",
    "3) ASNeck - class for asymetric bottlenecks\n",
    "\n",
    "4) UBNeck - class for upsampling bottlenecks"
   ]
  },
  {
   "cell_type": "code",
   "execution_count": 13,
   "metadata": {},
   "outputs": [],
   "source": [
    "class InitialBlock(nn.Module):\n",
    "  \n",
    "  # Initial block of the model:\n",
    "  #         Input\n",
    "  #        /     \\\n",
    "  #       /       \\\n",
    "  #maxpool2d    conv2d-3x3\n",
    "  #       \\       /  \n",
    "  #        \\     /\n",
    "  #      concatenate\n",
    "   \n",
    "    def __init__ (self,in_channels = 3,out_channels = 13):\n",
    "        super().__init__()\n",
    "\n",
    "\n",
    "        self.maxpool = nn.MaxPool2d(kernel_size=2, \n",
    "                                      stride = 2, \n",
    "                                      padding = 0)\n",
    "\n",
    "        self.conv = nn.Conv2d(in_channels, \n",
    "                                out_channels,\n",
    "                                kernel_size = 3,\n",
    "                                stride = 2, \n",
    "                                padding = 1)\n",
    "\n",
    "        self.prelu = nn.PReLU(16)\n",
    "\n",
    "        self.batchnorm = nn.BatchNorm2d(out_channels)\n",
    "  \n",
    "    def forward(self, x):\n",
    "        \n",
    "        main = self.conv(x)\n",
    "        main = self.batchnorm(main)\n",
    "        \n",
    "        side = self.maxpool(x)\n",
    "        \n",
    "        # concatenating on the channels axis\n",
    "        x = torch.cat((main, side), dim=1)\n",
    "        x = self.prelu(x)\n",
    "        \n",
    "        return x"
   ]
  },
  {
   "cell_type": "code",
   "execution_count": 14,
   "metadata": {},
   "outputs": [],
   "source": [
    "class UBNeck(nn.Module):\n",
    "    \n",
    "  # Upsampling bottleneck:\n",
    "  #     Bottleneck Input\n",
    "  #        /        \\\n",
    "  #       /          \\\n",
    "  # conv2d-1x1     convTrans2d-1x1\n",
    "  #      |             | PReLU\n",
    "  #      |         convTrans2d-3x3\n",
    "  #      |             | PReLU\n",
    "  #      |         convTrans2d-1x1\n",
    "  #      |             |\n",
    "  # maxunpool2d    Regularizer\n",
    "  #       \\           /  \n",
    "  #        \\         /\n",
    "  #      Summing + PReLU\n",
    "  #\n",
    "  #  Params: \n",
    "  #  projection_ratio - ratio between input and output channels\n",
    "  #  relu - if True: relu used as the activation function else: Prelu us used\n",
    "  \n",
    "    def __init__(self, in_channels, out_channels, relu=False, projection_ratio=4):\n",
    "        \n",
    "        super().__init__()\n",
    "        \n",
    "        # Define class variables\n",
    "        self.in_channels = in_channels\n",
    "        self.reduced_depth = int(in_channels / projection_ratio)\n",
    "        self.out_channels = out_channels\n",
    "        \n",
    "        \n",
    "        if relu:\n",
    "            activation = nn.ReLU()\n",
    "        else:\n",
    "            activation = nn.PReLU()\n",
    "        \n",
    "        self.unpool = nn.MaxUnpool2d(kernel_size = 2,\n",
    "                                     stride = 2)\n",
    "        \n",
    "        self.main_conv = nn.Conv2d(in_channels = self.in_channels,\n",
    "                                    out_channels = self.out_channels,\n",
    "                                    kernel_size = 1)\n",
    "        \n",
    "        self.dropout = nn.Dropout2d(p=0.1)\n",
    "        \n",
    "        \n",
    "        self.convt1 = nn.ConvTranspose2d(in_channels = self.in_channels,\n",
    "                               out_channels = self.reduced_depth,\n",
    "                               kernel_size = 1,\n",
    "                               padding = 0,\n",
    "                               bias = False)\n",
    "        \n",
    "        \n",
    "        self.prelu1 = activation\n",
    "        \n",
    "        # This layer used for Upsampling\n",
    "        self.convt2 = nn.ConvTranspose2d(in_channels = self.reduced_depth,\n",
    "                                  out_channels = self.reduced_depth,\n",
    "                                  kernel_size = 3,\n",
    "                                  stride = 2,\n",
    "                                  padding = 1,\n",
    "                                  output_padding = 1,\n",
    "                                  bias = False)\n",
    "        \n",
    "        self.prelu2 = activation\n",
    "        \n",
    "        self.convt3 = nn.ConvTranspose2d(in_channels = self.reduced_depth,\n",
    "                                  out_channels = self.out_channels,\n",
    "                                  kernel_size = 1,\n",
    "                                  padding = 0,\n",
    "                                  bias = False)\n",
    "        \n",
    "        self.prelu3 = activation\n",
    "        \n",
    "        self.batchnorm = nn.BatchNorm2d(self.reduced_depth)\n",
    "        self.batchnorm2 = nn.BatchNorm2d(self.out_channels)\n",
    "        \n",
    "    def forward(self, x, indices):\n",
    "        x_copy = x\n",
    "        \n",
    "        # Side Branch\n",
    "        x = self.convt1(x)\n",
    "        x = self.batchnorm(x)\n",
    "        x = self.prelu1(x)\n",
    "        \n",
    "        x = self.convt2(x)\n",
    "        x = self.batchnorm(x)\n",
    "        x = self.prelu2(x)\n",
    "        \n",
    "        x = self.convt3(x)\n",
    "        x = self.batchnorm2(x)\n",
    "        \n",
    "        x = self.dropout(x)\n",
    "        \n",
    "        # Main Branch\n",
    "        \n",
    "        x_copy = self.main_conv(x_copy)\n",
    "        x_copy = self.unpool(x_copy, indices, output_size=x.size())\n",
    "        \n",
    "        # summing the main and side branches\n",
    "        x = x + x_copy\n",
    "        x = self.prelu3(x)\n",
    "        \n",
    "        return x"
   ]
  },
  {
   "cell_type": "code",
   "execution_count": 15,
   "metadata": {},
   "outputs": [],
   "source": [
    "class RDDNeck(nn.Module):\n",
    "    def __init__(self, dilation, in_channels, out_channels, down_flag, relu=False, projection_ratio=4, p=0.1):\n",
    "      \n",
    "  # Regular|Dilated|Downsampling bottlenecks:\n",
    "  #\n",
    "  #     Bottleneck Input\n",
    "  #        /        \\\n",
    "  #       /          \\\n",
    "  # maxpooling2d   conv2d-1x1\n",
    "  #      |             | PReLU\n",
    "  #      |         conv2d-3x3\n",
    "  #      |             | PReLU\n",
    "  #      |         conv2d-1x1\n",
    "  #      |             |\n",
    "  #  Padding2d     Regularizer\n",
    "  #       \\           /  \n",
    "  #        \\         /\n",
    "  #      Summing + PReLU\n",
    "  #\n",
    "  # Params: \n",
    "  #  dilation (bool) - if True: creating dilation bottleneck\n",
    "  #  down_flag (bool) - if True: creating downsampling bottleneck\n",
    "  #  projection_ratio - ratio between input and output channels\n",
    "  #  relu - if True: relu used as the activation function else: Prelu us used\n",
    "  #  p - dropout ratio\n",
    "        \n",
    "        super().__init__()\n",
    "        \n",
    "        # Define class variables\n",
    "        self.in_channels = in_channels\n",
    "        \n",
    "        self.out_channels = out_channels\n",
    "        self.dilation = dilation\n",
    "        self.down_flag = down_flag\n",
    "        \n",
    "        # calculating the number of reduced channels\n",
    "        if down_flag:\n",
    "            self.stride = 2\n",
    "            self.reduced_depth = int(in_channels // projection_ratio)\n",
    "        else:\n",
    "            self.stride = 1\n",
    "            self.reduced_depth = int(out_channels // projection_ratio)\n",
    "        \n",
    "        if relu:\n",
    "            activation = nn.ReLU()\n",
    "        else:\n",
    "            activation = nn.PReLU()\n",
    "        \n",
    "        self.maxpool = nn.MaxPool2d(kernel_size = 2,\n",
    "                                      stride = 2,\n",
    "                                      padding = 0, return_indices=True)\n",
    "        \n",
    "\n",
    "        \n",
    "        self.dropout = nn.Dropout2d(p=p)\n",
    "\n",
    "        self.conv1 = nn.Conv2d(in_channels = self.in_channels,\n",
    "                               out_channels = self.reduced_depth,\n",
    "                               kernel_size = 1,\n",
    "                               stride = 1,\n",
    "                               padding = 0,\n",
    "                               bias = False,\n",
    "                               dilation = 1)\n",
    "        \n",
    "        self.prelu1 = activation\n",
    "        \n",
    "        self.conv2 = nn.Conv2d(in_channels = self.reduced_depth,\n",
    "                                  out_channels = self.reduced_depth,\n",
    "                                  kernel_size = 3,\n",
    "                                  stride = self.stride,\n",
    "                                  padding = self.dilation,\n",
    "                                  bias = True,\n",
    "                                  dilation = self.dilation)\n",
    "                                  \n",
    "        self.prelu2 = activation\n",
    "        \n",
    "        self.conv3 = nn.Conv2d(in_channels = self.reduced_depth,\n",
    "                                  out_channels = self.out_channels,\n",
    "                                  kernel_size = 1,\n",
    "                                  stride = 1,\n",
    "                                  padding = 0,\n",
    "                                  bias = False,\n",
    "                                  dilation = 1)\n",
    "        \n",
    "        self.prelu3 = activation\n",
    "        \n",
    "        self.batchnorm = nn.BatchNorm2d(self.reduced_depth)\n",
    "        self.batchnorm2 = nn.BatchNorm2d(self.out_channels)\n",
    "        \n",
    "        \n",
    "    def forward(self, x):\n",
    "        \n",
    "        bs = x.size()[0]\n",
    "        x_copy = x\n",
    "        \n",
    "        # Side Branch\n",
    "        x = self.conv1(x)\n",
    "        x = self.batchnorm(x)\n",
    "        x = self.prelu1(x)\n",
    "        \n",
    "        x = self.conv2(x)\n",
    "        x = self.batchnorm(x)\n",
    "        x = self.prelu2(x)\n",
    "        \n",
    "        x = self.conv3(x)\n",
    "        x = self.batchnorm2(x)\n",
    "                \n",
    "        x = self.dropout(x)\n",
    "        \n",
    "        # Main Branch\n",
    "        if self.down_flag:\n",
    "            x_copy, indices = self.maxpool(x_copy)\n",
    "          \n",
    "        if self.in_channels != self.out_channels:\n",
    "            out_shape = self.out_channels - self.in_channels\n",
    "            \n",
    "            #padding and concatenating in order to match the channels axis of the side and main branches\n",
    "            extras = torch.zeros((bs, out_shape, x.shape[2], x.shape[3]))\n",
    "            if torch.cuda.is_available():\n",
    "                extras = extras.cuda()\n",
    "            x_copy = torch.cat((x_copy, extras), dim = 1)\n",
    "\n",
    "        # Summing main and side branches\n",
    "        x = x + x_copy\n",
    "        x = self.prelu3(x)\n",
    "        \n",
    "        if self.down_flag:\n",
    "            return x, indices\n",
    "        else:\n",
    "            return x"
   ]
  },
  {
   "cell_type": "code",
   "execution_count": 16,
   "metadata": {},
   "outputs": [],
   "source": [
    "class ASNeck(nn.Module):\n",
    "    def __init__(self, in_channels, out_channels, projection_ratio=4):\n",
    "      \n",
    "  # Asymetric bottleneck:\n",
    "  #\n",
    "  #     Bottleneck Input\n",
    "  #        /        \\\n",
    "  #       /          \\\n",
    "  #      |         conv2d-1x1\n",
    "  #      |             | PReLU\n",
    "  #      |         conv2d-1x5\n",
    "  #      |             |\n",
    "  #      |         conv2d-5x1\n",
    "  #      |             | PReLU\n",
    "  #      |         conv2d-1x1\n",
    "  #      |             |\n",
    "  #  Padding2d     Regularizer\n",
    "  #       \\           /  \n",
    "  #        \\         /\n",
    "  #      Summing + PReLU\n",
    "  #\n",
    "  # Params:    \n",
    "  #  projection_ratio - ratio between input and output channels\n",
    "        \n",
    "        super().__init__()\n",
    "        \n",
    "        # Define class variables\n",
    "        self.in_channels = in_channels\n",
    "        self.reduced_depth = int(in_channels / projection_ratio)\n",
    "        self.out_channels = out_channels\n",
    "        \n",
    "        self.dropout = nn.Dropout2d(p=0.1)\n",
    "        \n",
    "        self.conv1 = nn.Conv2d(in_channels = self.in_channels,\n",
    "                               out_channels = self.reduced_depth,\n",
    "                               kernel_size = 1,\n",
    "                               stride = 1,\n",
    "                               padding = 0,\n",
    "                               bias = False)\n",
    "        \n",
    "        self.prelu1 = nn.PReLU()\n",
    "        \n",
    "        self.conv21 = nn.Conv2d(in_channels = self.reduced_depth,\n",
    "                                  out_channels = self.reduced_depth,\n",
    "                                  kernel_size = (1, 5),\n",
    "                                  stride = 1,\n",
    "                                  padding = (0, 2),\n",
    "                                  bias = False)\n",
    "        \n",
    "        self.conv22 = nn.Conv2d(in_channels = self.reduced_depth,\n",
    "                                  out_channels = self.reduced_depth,\n",
    "                                  kernel_size = (5, 1),\n",
    "                                  stride = 1,\n",
    "                                  padding = (2, 0),\n",
    "                                  bias = False)\n",
    "        \n",
    "        self.prelu2 = nn.PReLU()\n",
    "        \n",
    "        self.conv3 = nn.Conv2d(in_channels = self.reduced_depth,\n",
    "                                  out_channels = self.out_channels,\n",
    "                                  kernel_size = 1,\n",
    "                                  stride = 1,\n",
    "                                  padding = 0,\n",
    "                                  bias = False)\n",
    "        \n",
    "        self.prelu3 = nn.PReLU()\n",
    "        \n",
    "        self.batchnorm = nn.BatchNorm2d(self.reduced_depth)\n",
    "        self.batchnorm2 = nn.BatchNorm2d(self.out_channels)\n",
    "        \n",
    "    def forward(self, x):\n",
    "        bs = x.size()[0]\n",
    "        x_copy = x\n",
    "        \n",
    "        # Side Branch\n",
    "        x = self.conv1(x)\n",
    "        x = self.batchnorm(x)\n",
    "        x = self.prelu1(x)\n",
    "        \n",
    "        x = self.conv21(x)\n",
    "        x = self.conv22(x)\n",
    "        x = self.batchnorm(x)\n",
    "        x = self.prelu2(x)\n",
    "        \n",
    "        x = self.conv3(x)\n",
    "                \n",
    "        x = self.dropout(x)\n",
    "        x = self.batchnorm2(x)\n",
    "        \n",
    "        # Main Branch\n",
    "        \n",
    "        if self.in_channels != self.out_channels:\n",
    "            out_shape = self.out_channels - self.in_channels\n",
    "            \n",
    "            #padding and concatenating in order to match the channels axis of the side and main branches\n",
    "            extras = torch.zeros((bs, out_shape, x.shape[2], x.shape[3]))\n",
    "            if torch.cuda.is_available():\n",
    "                extras = extras.cuda()\n",
    "            x_copy = torch.cat((x_copy, extras), dim = 1)\n",
    "        \n",
    "        # Summing main and side branches\n",
    "        x = x + x_copy\n",
    "        x = self.prelu3(x)\n",
    "        \n",
    "        return x"
   ]
  },
  {
   "cell_type": "code",
   "execution_count": 17,
   "metadata": {},
   "outputs": [],
   "source": [
    "class ENet(nn.Module):\n",
    "  \n",
    "  # Creating Enet model!\n",
    "  \n",
    "    def __init__(self, C):\n",
    "        super().__init__()\n",
    "        \n",
    "        # Define class variables\n",
    "        # C - number of classes\n",
    "        self.C = C\n",
    "        \n",
    "        # The initial block\n",
    "        self.init = InitialBlock()\n",
    "        \n",
    "        \n",
    "        # The first bottleneck\n",
    "        self.b10 = RDDNeck(dilation=1, \n",
    "                           in_channels=16, \n",
    "                           out_channels=64, \n",
    "                           down_flag=True, \n",
    "                           p=0.01)\n",
    "        \n",
    "        self.b11 = RDDNeck(dilation=1, \n",
    "                           in_channels=64, \n",
    "                           out_channels=64, \n",
    "                           down_flag=False, \n",
    "                           p=0.01)\n",
    "        \n",
    "        self.b12 = RDDNeck(dilation=1, \n",
    "                           in_channels=64, \n",
    "                           out_channels=64, \n",
    "                           down_flag=False, \n",
    "                           p=0.01)\n",
    "        \n",
    "        self.b13 = RDDNeck(dilation=1, \n",
    "                           in_channels=64, \n",
    "                           out_channels=64, \n",
    "                           down_flag=False, \n",
    "                           p=0.01)\n",
    "        \n",
    "        self.b14 = RDDNeck(dilation=1, \n",
    "                           in_channels=64, \n",
    "                           out_channels=64, \n",
    "                           down_flag=False, \n",
    "                           p=0.01)\n",
    "        \n",
    "        \n",
    "        # The second bottleneck\n",
    "        self.b20 = RDDNeck(dilation=1, \n",
    "                           in_channels=64, \n",
    "                           out_channels=128, \n",
    "                           down_flag=True)\n",
    "        \n",
    "        self.b21 = RDDNeck(dilation=1, \n",
    "                           in_channels=128, \n",
    "                           out_channels=128, \n",
    "                           down_flag=False)\n",
    "        \n",
    "        self.b22 = RDDNeck(dilation=2, \n",
    "                           in_channels=128, \n",
    "                           out_channels=128, \n",
    "                           down_flag=False)\n",
    "        \n",
    "        self.b23 = ASNeck(in_channels=128, \n",
    "                          out_channels=128)\n",
    "        \n",
    "        self.b24 = RDDNeck(dilation=4, \n",
    "                           in_channels=128, \n",
    "                           out_channels=128, \n",
    "                           down_flag=False)\n",
    "        \n",
    "        self.b25 = RDDNeck(dilation=1, \n",
    "                           in_channels=128, \n",
    "                           out_channels=128, \n",
    "                           down_flag=False)\n",
    "        \n",
    "        self.b26 = RDDNeck(dilation=8, \n",
    "                           in_channels=128, \n",
    "                           out_channels=128, \n",
    "                           down_flag=False)\n",
    "        \n",
    "        self.b27 = ASNeck(in_channels=128, \n",
    "                          out_channels=128)\n",
    "        \n",
    "        self.b28 = RDDNeck(dilation=16, \n",
    "                           in_channels=128, \n",
    "                           out_channels=128, \n",
    "                           down_flag=False)\n",
    "        \n",
    "        \n",
    "        # The third bottleneck\n",
    "        self.b31 = RDDNeck(dilation=1, \n",
    "                           in_channels=128, \n",
    "                           out_channels=128, \n",
    "                           down_flag=False)\n",
    "        \n",
    "        self.b32 = RDDNeck(dilation=2, \n",
    "                           in_channels=128, \n",
    "                           out_channels=128, \n",
    "                           down_flag=False)\n",
    "        \n",
    "        self.b33 = ASNeck(in_channels=128, \n",
    "                          out_channels=128)\n",
    "        \n",
    "        self.b34 = RDDNeck(dilation=4, \n",
    "                           in_channels=128, \n",
    "                           out_channels=128, \n",
    "                           down_flag=False)\n",
    "        \n",
    "        self.b35 = RDDNeck(dilation=1, \n",
    "                           in_channels=128, \n",
    "                           out_channels=128, \n",
    "                           down_flag=False)\n",
    "        \n",
    "        self.b36 = RDDNeck(dilation=8, \n",
    "                           in_channels=128, \n",
    "                           out_channels=128, \n",
    "                           down_flag=False)\n",
    "        \n",
    "        self.b37 = ASNeck(in_channels=128, \n",
    "                          out_channels=128)\n",
    "        \n",
    "        self.b38 = RDDNeck(dilation=16, \n",
    "                           in_channels=128, \n",
    "                           out_channels=128, \n",
    "                           down_flag=False)\n",
    "        \n",
    "        \n",
    "        # The fourth bottleneck\n",
    "        self.b40 = UBNeck(in_channels=128, \n",
    "                          out_channels=64, \n",
    "                          relu=True)\n",
    "        \n",
    "        self.b41 = RDDNeck(dilation=1, \n",
    "                           in_channels=64, \n",
    "                           out_channels=64, \n",
    "                           down_flag=False, \n",
    "                           relu=True)\n",
    "        \n",
    "        self.b42 = RDDNeck(dilation=1, \n",
    "                           in_channels=64, \n",
    "                           out_channels=64, \n",
    "                           down_flag=False, \n",
    "                           relu=True)\n",
    "        \n",
    "        \n",
    "        # The fifth bottleneck\n",
    "        self.b50 = UBNeck(in_channels=64, \n",
    "                          out_channels=16, \n",
    "                          relu=True)\n",
    "        \n",
    "        self.b51 = RDDNeck(dilation=1, \n",
    "                           in_channels=16, \n",
    "                           out_channels=16, \n",
    "                           down_flag=False, \n",
    "                           relu=True)\n",
    "        \n",
    "        \n",
    "        # Final ConvTranspose Layer\n",
    "        self.fullconv = nn.ConvTranspose2d(in_channels=16, \n",
    "                                           out_channels=self.C, \n",
    "                                           kernel_size=3, \n",
    "                                           stride=2, \n",
    "                                           padding=1, \n",
    "                                           output_padding=1,\n",
    "                                           bias=False)\n",
    "        \n",
    "        \n",
    "    def forward(self, x):\n",
    "        \n",
    "        # The initial block\n",
    "        x = self.init(x)\n",
    "        \n",
    "        # The first bottleneck\n",
    "        x, i1 = self.b10(x)\n",
    "        x = self.b11(x)\n",
    "        x = self.b12(x)\n",
    "        x = self.b13(x)\n",
    "        x = self.b14(x)\n",
    "        \n",
    "        # The second bottleneck\n",
    "        x, i2 = self.b20(x)\n",
    "        x = self.b21(x)\n",
    "        x = self.b22(x)\n",
    "        x = self.b23(x)\n",
    "        x = self.b24(x)\n",
    "        x = self.b25(x)\n",
    "        x = self.b26(x)\n",
    "        x = self.b27(x)\n",
    "        x = self.b28(x)\n",
    "        \n",
    "        # The third bottleneck\n",
    "        x = self.b31(x)\n",
    "        x = self.b32(x)\n",
    "        x = self.b33(x)\n",
    "        x = self.b34(x)\n",
    "        x = self.b35(x)\n",
    "        x = self.b36(x)\n",
    "        x = self.b37(x)\n",
    "        x = self.b38(x)\n",
    "        \n",
    "        # The fourth bottleneck\n",
    "        x = self.b40(x, i2)\n",
    "        x = self.b41(x)\n",
    "        x = self.b42(x)\n",
    "        \n",
    "        # The fifth bottleneck\n",
    "        x = self.b50(x, i1)\n",
    "        x = self.b51(x)\n",
    "        \n",
    "        # Final ConvTranspose Layer\n",
    "        x = self.fullconv(x)\n",
    "        \n",
    "        return x"
   ]
  },
  {
   "cell_type": "code",
   "execution_count": 18,
   "metadata": {},
   "outputs": [
    {
     "name": "stdout",
     "output_type": "stream",
     "text": [
      "loaded a pretrained model\n"
     ]
    }
   ],
   "source": [
    "#Instantiate the ENet model\n",
    "load_pretrained = True\n",
    "enet = ENet(2)\n",
    "if load_pretrained:\n",
    "    state_dict = torch.load('content_256/ckpt-enet-1000.pth')['state_dict']\n",
    "    enet.load_state_dict(state_dict)\n",
    "    print('loaded a pretrained model')"
   ]
  },
  {
   "cell_type": "code",
   "execution_count": 19,
   "metadata": {},
   "outputs": [],
   "source": [
    "# Checking if there is any gpu available and pass the model to gpu or cpu\n",
    "device = torch.device('cuda:2' if torch.cuda.is_available() else 'cpu')\n",
    "enet = enet.to(device)"
   ]
  },
  {
   "cell_type": "code",
   "execution_count": 20,
   "metadata": {},
   "outputs": [
    {
     "name": "stdout",
     "output_type": "stream",
     "text": [
      "(864, 1296, 3)\n"
     ]
    }
   ],
   "source": [
    "img = plt.imread(df_enet['img_path'][8])\n",
    "print(img.shape)"
   ]
  },
  {
   "cell_type": "code",
   "execution_count": null,
   "metadata": {},
   "outputs": [],
   "source": [
    " "
   ]
  },
  {
   "cell_type": "code",
   "execution_count": 21,
   "metadata": {},
   "outputs": [],
   "source": [
    "#build a generater\n",
    "from ImgAugumentation import ImgAugumentation\n",
    "img_augumentation = ImgAugumentation()\n",
    "def loader(df, batch_size, im_size=(768,768), aug=False):\n",
    "    total_files_s=len(df)\n",
    "    if str(batch_size).lower() == 'all':\n",
    "        batch_size = total_files_s\n",
    "    idx = 0\n",
    "    while(1):\n",
    "      # Choosing random indexes of images and labels\n",
    "        batch_idxs = np.random.randint(0, total_files_s, batch_size)\n",
    "   \n",
    "        \n",
    "        inputs = []\n",
    "        labels = []\n",
    "        \n",
    "        for jj in batch_idxs:\n",
    "          # Reading normalized photo\n",
    "        \n",
    " \n",
    "            img = plt.imread(df['img_path'][jj])\n",
    "            orginal_im_size=img.shape\n",
    "          # Resizing using nearest neighbor method\n",
    "            img = cv2.resize(img, (im_size[0], im_size[1]), cv2.INTER_NEAREST)\n",
    "            \n",
    "          # creating semantic mask \n",
    "            outer_poly=df['outer_poly'][jj] \n",
    "            #print('outer poly',outer_poly)\n",
    "            inner_poly=df['inner_poly'][jj]\n",
    "            #print('inner_poly', list(inner_poly))\n",
    "            if len(outer_poly) > 1:\n",
    "                outer_mask=get_mask((orginal_im_size[0], orginal_im_size[1]),outer_poly,display=False)\n",
    "                inner_mask=get_mask((orginal_im_size[0], orginal_im_size[1]),inner_poly,display=False)\n",
    "                inner_mask.dtype='uint8'\n",
    "                outer_mask.dtype='uint8'\n",
    "                final_mask=cv2.subtract(outer_mask,inner_mask)\n",
    "              # Resizing using nearest neighbor method\n",
    "                final_mask = cv2.resize(final_mask, (im_size[0], im_size[1]), cv2.INTER_NEAREST)\n",
    "                if aug:\n",
    "                    rand_value_augument = np.random.randint(7)\n",
    "                    if (rand_value_augument == 0):   \n",
    "                        img, final_mask=img_augumentation.flip_image_horz(img, final_mask)\n",
    "                    if (rand_value_augument == 1): \n",
    "                        img, final_mask=img_augumentation.flip_image_ver(img, final_mask)\n",
    "                    if (rand_value_augument == 2) or (rand_value_augument == 3): \n",
    "                        img=img_augumentation.brightness_images(img)\n",
    "                    if (rand_value_augument == 4): \n",
    "                        img, final_mask =img_augumentation.trans_image(img,final_mask,50)\n",
    "                    if (rand_value_augument == 5): \n",
    "                        img, final_mask =img_augumentation.stretch_image(img, final_mask,-100)\n",
    "                    if (rand_value_augument == 6): \n",
    "                        img, final_mask =img_augumentation.stretch_image(img, final_mask,-50)\n",
    "                    if (rand_value_augument == 7): \n",
    "                        img, final_mask =img_augumentation.stretch_image(img, final_mask,+30)\n",
    "                inputs.append(img)\n",
    "                labels.append(final_mask)\n",
    "\n",
    "        inputs = np.stack(inputs, axis=2)\n",
    "      # Changing image format to C x H x W\n",
    "        inputs = torch.tensor(inputs).transpose(0, 2).transpose(1, 3)\n",
    "        \n",
    "        labels = torch.tensor(labels)\n",
    "        \n",
    "        yield inputs, labels"
   ]
  },
  {
   "cell_type": "code",
   "execution_count": null,
   "metadata": {
    "scrolled": false
   },
   "outputs": [],
   "source": [
    "#test the generater\n",
    "batch_size=80\n",
    "training_gen=loader(df_enet, batch_size, aug=True)\n",
    "batch_img,batch_mask = next(training_gen)\n",
    "print(batch_mask[0].shape)\n",
    "\n",
    "for i in range(0,len(batch_img)):\n",
    " \n",
    "    plt.figure(figsize=(16,16))\n",
    "    plt.subplot(1,3,1)\n",
    "    plt.imshow(batch_img[i])\n",
    "    plt.axis('off')\n",
    "    plt.subplot(1,3,2)\n",
    "    plt.imshow(batch_mask[i])\n",
    "    plt.axis('off')\n",
    "\n",
    "    plt.show();"
   ]
  },
  {
   "cell_type": "code",
   "execution_count": 22,
   "metadata": {},
   "outputs": [],
   "source": [
    "def get_class_weights(num_classes, c=1.02):\n",
    "    pipe = loader(df_enet, batch_size='all',aug=True)\n",
    "    _, labels = next(pipe)\n",
    "    all_labels = labels.flatten()\n",
    "    each_class = np.bincount(all_labels, minlength=num_classes)\n",
    "    prospensity_score = each_class / len(all_labels)\n",
    "    class_weights = 1 / (np.log(c + prospensity_score))\n",
    "    return class_weights"
   ]
  },
  {
   "cell_type": "code",
   "execution_count": 23,
   "metadata": {},
   "outputs": [],
   "source": [
    "class_weights = get_class_weights(1)\n"
   ]
  },
  {
   "cell_type": "code",
   "execution_count": 24,
   "metadata": {},
   "outputs": [
    {
     "name": "stdout",
     "output_type": "stream",
     "text": [
      "[ 1.49210549 12.20500808]\n"
     ]
    }
   ],
   "source": [
    "print(class_weights)"
   ]
  },
  {
   "cell_type": "code",
   "execution_count": null,
   "metadata": {},
   "outputs": [],
   "source": []
  },
  {
   "cell_type": "code",
   "execution_count": 25,
   "metadata": {},
   "outputs": [],
   "source": [
    "lr = 5e-4\n",
    "batch_size = 10\n",
    "\n",
    "criterion = nn.CrossEntropyLoss(weight=torch.FloatTensor(class_weights).to(device))\n",
    "optimizer = torch.optim.Adam(enet.parameters(), \n",
    "                             lr=lr,\n",
    "                             weight_decay=2e-4)\n",
    "\n",
    "print_every = 20\n",
    "eval_every = 40"
   ]
  },
  {
   "cell_type": "code",
   "execution_count": 26,
   "metadata": {},
   "outputs": [
    {
     "name": "stdout",
     "output_type": "stream",
     "text": [
      "4943\n"
     ]
    }
   ],
   "source": [
    "print(len(df_enet))"
   ]
  },
  {
   "cell_type": "code",
   "execution_count": 27,
   "metadata": {},
   "outputs": [
    {
     "name": "stdout",
     "output_type": "stream",
     "text": [
      "4794\n",
      "149\n"
     ]
    }
   ],
   "source": [
    "#splitting the dataset into training and testing\n",
    "from sklearn.model_selection import train_test_split\n",
    "df_trn, df_tst = train_test_split(df_enet, test_size=0.03)\n",
    "print(len(df_trn))\n",
    "print(len(df_tst))\n"
   ]
  },
  {
   "cell_type": "code",
   "execution_count": null,
   "metadata": {},
   "outputs": [
    {
     "data": {
      "text/html": [
       "<div>\n",
       "<style>\n",
       "    .dataframe thead tr:only-child th {\n",
       "        text-align: right;\n",
       "    }\n",
       "\n",
       "    .dataframe thead th {\n",
       "        text-align: left;\n",
       "    }\n",
       "\n",
       "    .dataframe tbody tr th {\n",
       "        vertical-align: top;\n",
       "    }\n",
       "</style>\n",
       "<table border=\"1\" class=\"dataframe\">\n",
       "  <thead>\n",
       "    <tr style=\"text-align: right;\">\n",
       "      <th></th>\n",
       "      <th>img_path</th>\n",
       "      <th>outer_x_min</th>\n",
       "      <th>outer_y_min</th>\n",
       "      <th>outer_x_max</th>\n",
       "      <th>outer_y_max</th>\n",
       "      <th>outer_poly</th>\n",
       "      <th>class_id_x</th>\n",
       "      <th>inner_x_min</th>\n",
       "      <th>inner_y_min</th>\n",
       "      <th>inner_x_max</th>\n",
       "      <th>inner_y_max</th>\n",
       "      <th>inner_poly</th>\n",
       "      <th>class_id_y</th>\n",
       "    </tr>\n",
       "  </thead>\n",
       "  <tbody>\n",
       "    <tr>\n",
       "      <th>0</th>\n",
       "      <td>/media/a/D/lockheed-martin/dataset/LM_dataset/...</td>\n",
       "      <td>462</td>\n",
       "      <td>273</td>\n",
       "      <td>656</td>\n",
       "      <td>560</td>\n",
       "      <td>[(462, 297), (653, 273), (655, 559), (465, 541)]</td>\n",
       "      <td>0</td>\n",
       "      <td>485</td>\n",
       "      <td>314</td>\n",
       "      <td>623</td>\n",
       "      <td>512</td>\n",
       "      <td>[(489, 336), (622, 314), (616, 511), (485, 499)]</td>\n",
       "      <td>1</td>\n",
       "    </tr>\n",
       "    <tr>\n",
       "      <th>1</th>\n",
       "      <td>/media/a/D/lockheed-martin/dataset/LM_dataset/...</td>\n",
       "      <td>572</td>\n",
       "      <td>273</td>\n",
       "      <td>800</td>\n",
       "      <td>718</td>\n",
       "      <td>[(575, 371), (788, 273), (799, 717), (572, 705)]</td>\n",
       "      <td>0</td>\n",
       "      <td>608</td>\n",
       "      <td>350</td>\n",
       "      <td>752</td>\n",
       "      <td>657</td>\n",
       "      <td>[(608, 411), (751, 350), (746, 656), (618, 651)]</td>\n",
       "      <td>1</td>\n",
       "    </tr>\n",
       "    <tr>\n",
       "      <th>2</th>\n",
       "      <td>/media/a/D/lockheed-martin/dataset/LM_dataset/...</td>\n",
       "      <td>396</td>\n",
       "      <td>369</td>\n",
       "      <td>644</td>\n",
       "      <td>639</td>\n",
       "      <td>[(405, 374), (643, 369), (642, 638), (396, 627)]</td>\n",
       "      <td>0</td>\n",
       "      <td>440</td>\n",
       "      <td>409</td>\n",
       "      <td>610</td>\n",
       "      <td>597</td>\n",
       "      <td>[(444, 412), (609, 409), (606, 596), (440, 589)]</td>\n",
       "      <td>1</td>\n",
       "    </tr>\n",
       "    <tr>\n",
       "      <th>3</th>\n",
       "      <td>/media/a/D/lockheed-martin/dataset/LM_dataset/...</td>\n",
       "      <td>471</td>\n",
       "      <td>405</td>\n",
       "      <td>736</td>\n",
       "      <td>680</td>\n",
       "      <td>[(477, 405), (733, 416), (735, 677), (471, 679)]</td>\n",
       "      <td>0</td>\n",
       "      <td>513</td>\n",
       "      <td>452</td>\n",
       "      <td>692</td>\n",
       "      <td>638</td>\n",
       "      <td>[(514, 452), (686, 461), (691, 632), (513, 637)]</td>\n",
       "      <td>1</td>\n",
       "    </tr>\n",
       "    <tr>\n",
       "      <th>4</th>\n",
       "      <td>/media/a/D/lockheed-martin/dataset/LM_dataset/...</td>\n",
       "      <td>485</td>\n",
       "      <td>161</td>\n",
       "      <td>863</td>\n",
       "      <td>663</td>\n",
       "      <td>[(494, 161), (862, 231), (862, 635), (485, 662)]</td>\n",
       "      <td>0</td>\n",
       "      <td>551</td>\n",
       "      <td>248</td>\n",
       "      <td>797</td>\n",
       "      <td>583</td>\n",
       "      <td>[(554, 248), (796, 288), (796, 571), (551, 582)]</td>\n",
       "      <td>1</td>\n",
       "    </tr>\n",
       "  </tbody>\n",
       "</table>\n",
       "</div>"
      ],
      "text/plain": [
       "                                            img_path outer_x_min outer_y_min  \\\n",
       "0  /media/a/D/lockheed-martin/dataset/LM_dataset/...         462         273   \n",
       "1  /media/a/D/lockheed-martin/dataset/LM_dataset/...         572         273   \n",
       "2  /media/a/D/lockheed-martin/dataset/LM_dataset/...         396         369   \n",
       "3  /media/a/D/lockheed-martin/dataset/LM_dataset/...         471         405   \n",
       "4  /media/a/D/lockheed-martin/dataset/LM_dataset/...         485         161   \n",
       "\n",
       "  outer_x_max outer_y_max                                        outer_poly  \\\n",
       "0         656         560  [(462, 297), (653, 273), (655, 559), (465, 541)]   \n",
       "1         800         718  [(575, 371), (788, 273), (799, 717), (572, 705)]   \n",
       "2         644         639  [(405, 374), (643, 369), (642, 638), (396, 627)]   \n",
       "3         736         680  [(477, 405), (733, 416), (735, 677), (471, 679)]   \n",
       "4         863         663  [(494, 161), (862, 231), (862, 635), (485, 662)]   \n",
       "\n",
       "   class_id_x inner_x_min inner_y_min inner_x_max inner_y_max  \\\n",
       "0           0         485         314         623         512   \n",
       "1           0         608         350         752         657   \n",
       "2           0         440         409         610         597   \n",
       "3           0         513         452         692         638   \n",
       "4           0         551         248         797         583   \n",
       "\n",
       "                                         inner_poly  class_id_y  \n",
       "0  [(489, 336), (622, 314), (616, 511), (485, 499)]           1  \n",
       "1  [(608, 411), (751, 350), (746, 656), (618, 651)]           1  \n",
       "2  [(444, 412), (609, 409), (606, 596), (440, 589)]           1  \n",
       "3  [(514, 452), (686, 461), (691, 632), (513, 637)]           1  \n",
       "4  [(554, 248), (796, 288), (796, 571), (551, 582)]           1  "
      ]
     },
     "execution_count": 28,
     "metadata": {},
     "output_type": "execute_result"
    }
   ],
   "source": [
    "df_trn.reset_index(drop=True, inplace=True)\n",
    "df_tst.reset_index(drop=True, inplace=True)\n",
    "df_trn.head()"
   ]
  },
  {
   "cell_type": "markdown",
   "metadata": {},
   "source": [
    "#create overfitting dataset\n",
    "df_trn, df_tst = train_test_split(df_tst, test_size=0.1)\n",
    "print(len(df_trn))\n",
    "print(len(df_tst))\n",
    "df_trn.reset_index(drop=True, inplace=True)\n",
    "df_tst.reset_index(drop=True, inplace=True)\n",
    "df_trn.head()"
   ]
  },
  {
   "cell_type": "code",
   "execution_count": null,
   "metadata": {},
   "outputs": [],
   "source": []
  },
  {
   "cell_type": "code",
   "execution_count": null,
   "metadata": {
    "scrolled": true
   },
   "outputs": [
    {
     "name": "stderr",
     "output_type": "stream",
     "text": [
      "\r",
      "  0%|          | 0/100 [00:00<?, ?it/s]"
     ]
    },
    {
     "name": "stdout",
     "output_type": "stream",
     "text": [
      "--------------- Epoch 1 ---------------\n"
     ]
    },
    {
     "name": "stderr",
     "output_type": "stream",
     "text": [
      "100%|██████████| 100/100 [02:11<00:00,  1.32s/it]\n",
      "  0%|          | 0/100 [00:00<?, ?it/s]"
     ]
    },
    {
     "name": "stdout",
     "output_type": "stream",
     "text": [
      "\n",
      "--------------- Epoch 2 ---------------\n"
     ]
    },
    {
     "name": "stderr",
     "output_type": "stream",
     "text": [
      "100%|██████████| 100/100 [01:48<00:00,  1.09s/it]\n",
      "  0%|          | 0/100 [00:00<?, ?it/s]"
     ]
    },
    {
     "name": "stdout",
     "output_type": "stream",
     "text": [
      "\n",
      "--------------- Epoch 3 ---------------\n"
     ]
    },
    {
     "name": "stderr",
     "output_type": "stream",
     "text": [
      "100%|██████████| 100/100 [02:12<00:00,  1.32s/it]\n",
      "  0%|          | 0/100 [00:00<?, ?it/s]"
     ]
    },
    {
     "name": "stdout",
     "output_type": "stream",
     "text": [
      "\n",
      "--------------- Epoch 4 ---------------\n"
     ]
    },
    {
     "name": "stderr",
     "output_type": "stream",
     "text": [
      "100%|██████████| 100/100 [02:41<00:00,  1.61s/it]\n",
      "  0%|          | 0/100 [00:00<?, ?it/s]"
     ]
    },
    {
     "name": "stdout",
     "output_type": "stream",
     "text": [
      "\n",
      "--------------- Epoch 5 ---------------\n"
     ]
    },
    {
     "name": "stderr",
     "output_type": "stream",
     "text": [
      "100%|██████████| 100/100 [02:20<00:00,  1.41s/it]\n",
      "  0%|          | 0/100 [00:00<?, ?it/s]"
     ]
    },
    {
     "name": "stdout",
     "output_type": "stream",
     "text": [
      "\n",
      "--------------- Epoch 6 ---------------\n"
     ]
    },
    {
     "name": "stderr",
     "output_type": "stream",
     "text": [
      "100%|██████████| 100/100 [02:37<00:00,  1.57s/it]\n",
      "  0%|          | 0/100 [00:00<?, ?it/s]"
     ]
    },
    {
     "name": "stdout",
     "output_type": "stream",
     "text": [
      "\n",
      "--------------- Epoch 7 ---------------\n"
     ]
    },
    {
     "name": "stderr",
     "output_type": "stream",
     "text": [
      "100%|██████████| 100/100 [02:16<00:00,  1.36s/it]\n",
      "  0%|          | 0/100 [00:00<?, ?it/s]"
     ]
    },
    {
     "name": "stdout",
     "output_type": "stream",
     "text": [
      "\n",
      "--------------- Epoch 8 ---------------\n"
     ]
    },
    {
     "name": "stderr",
     "output_type": "stream",
     "text": [
      "100%|██████████| 100/100 [02:18<00:00,  1.38s/it]\n",
      "  0%|          | 0/100 [00:00<?, ?it/s]"
     ]
    },
    {
     "name": "stdout",
     "output_type": "stream",
     "text": [
      "\n",
      "--------------- Epoch 9 ---------------\n"
     ]
    },
    {
     "name": "stderr",
     "output_type": "stream",
     "text": [
      "100%|██████████| 100/100 [02:18<00:00,  1.39s/it]\n",
      "  0%|          | 0/100 [00:00<?, ?it/s]"
     ]
    },
    {
     "name": "stdout",
     "output_type": "stream",
     "text": [
      "\n",
      "--------------- Epoch 10 ---------------\n"
     ]
    },
    {
     "name": "stderr",
     "output_type": "stream",
     "text": [
      "100%|██████████| 100/100 [02:35<00:00,  1.55s/it]\n",
      "  0%|          | 0/100 [00:00<?, ?it/s]"
     ]
    },
    {
     "name": "stdout",
     "output_type": "stream",
     "text": [
      "\n",
      "--------------- Epoch 11 ---------------\n"
     ]
    },
    {
     "name": "stderr",
     "output_type": "stream",
     "text": [
      "100%|██████████| 100/100 [02:18<00:00,  1.39s/it]\n",
      "  0%|          | 0/100 [00:00<?, ?it/s]"
     ]
    },
    {
     "name": "stdout",
     "output_type": "stream",
     "text": [
      "\n",
      "--------------- Epoch 12 ---------------\n"
     ]
    },
    {
     "name": "stderr",
     "output_type": "stream",
     "text": [
      "100%|██████████| 100/100 [02:16<00:00,  1.36s/it]\n",
      "  0%|          | 0/100 [00:00<?, ?it/s]"
     ]
    },
    {
     "name": "stdout",
     "output_type": "stream",
     "text": [
      "\n",
      "--------------- Epoch 13 ---------------\n"
     ]
    },
    {
     "name": "stderr",
     "output_type": "stream",
     "text": [
      "100%|██████████| 100/100 [02:34<00:00,  1.55s/it]\n",
      "  0%|          | 0/100 [00:00<?, ?it/s]"
     ]
    },
    {
     "name": "stdout",
     "output_type": "stream",
     "text": [
      "\n",
      "--------------- Epoch 14 ---------------\n"
     ]
    },
    {
     "name": "stderr",
     "output_type": "stream",
     "text": [
      "100%|██████████| 100/100 [02:18<00:00,  1.38s/it]\n",
      "  0%|          | 0/100 [00:00<?, ?it/s]"
     ]
    },
    {
     "name": "stdout",
     "output_type": "stream",
     "text": [
      "\n",
      "--------------- Epoch 15 ---------------\n"
     ]
    },
    {
     "name": "stderr",
     "output_type": "stream",
     "text": [
      "100%|██████████| 100/100 [02:38<00:00,  1.59s/it]\n",
      "  0%|          | 0/100 [00:00<?, ?it/s]"
     ]
    },
    {
     "name": "stdout",
     "output_type": "stream",
     "text": [
      "\n",
      "--------------- Epoch 16 ---------------\n"
     ]
    },
    {
     "name": "stderr",
     "output_type": "stream",
     "text": [
      "100%|██████████| 100/100 [02:18<00:00,  1.38s/it]\n",
      "  0%|          | 0/100 [00:00<?, ?it/s]"
     ]
    },
    {
     "name": "stdout",
     "output_type": "stream",
     "text": [
      "\n",
      "--------------- Epoch 17 ---------------\n"
     ]
    },
    {
     "name": "stderr",
     "output_type": "stream",
     "text": [
      "100%|██████████| 100/100 [02:17<00:00,  1.37s/it]\n",
      "  0%|          | 0/100 [00:00<?, ?it/s]"
     ]
    },
    {
     "name": "stdout",
     "output_type": "stream",
     "text": [
      "\n",
      "--------------- Epoch 18 ---------------\n"
     ]
    },
    {
     "name": "stderr",
     "output_type": "stream",
     "text": [
      "100%|██████████| 100/100 [02:40<00:00,  1.60s/it]\n",
      "  0%|          | 0/100 [00:00<?, ?it/s]"
     ]
    },
    {
     "name": "stdout",
     "output_type": "stream",
     "text": [
      "\n",
      "--------------- Epoch 19 ---------------\n"
     ]
    },
    {
     "name": "stderr",
     "output_type": "stream",
     "text": [
      "100%|██████████| 100/100 [02:20<00:00,  1.40s/it]\n",
      "  0%|          | 0/100 [00:00<?, ?it/s]"
     ]
    },
    {
     "name": "stdout",
     "output_type": "stream",
     "text": [
      "\n",
      "Epoch 19/1000... Loss 3.653846\n",
      "--------------- Epoch 20 ---------------\n"
     ]
    },
    {
     "name": "stderr",
     "output_type": "stream",
     "text": [
      "100%|██████████| 100/100 [02:19<00:00,  1.40s/it]\n",
      "  0%|          | 0/100 [00:00<?, ?it/s]"
     ]
    },
    {
     "name": "stdout",
     "output_type": "stream",
     "text": [
      "\n",
      "Model saved!\n",
      "--------------- Epoch 21 ---------------\n"
     ]
    },
    {
     "name": "stderr",
     "output_type": "stream",
     "text": [
      "100%|██████████| 100/100 [02:38<00:00,  1.59s/it]\n",
      "  0%|          | 0/100 [00:00<?, ?it/s]"
     ]
    },
    {
     "name": "stdout",
     "output_type": "stream",
     "text": [
      "\n",
      "--------------- Epoch 22 ---------------\n"
     ]
    },
    {
     "name": "stderr",
     "output_type": "stream",
     "text": [
      "100%|██████████| 100/100 [02:21<00:00,  1.41s/it]\n",
      "  0%|          | 0/100 [00:00<?, ?it/s]"
     ]
    },
    {
     "name": "stdout",
     "output_type": "stream",
     "text": [
      "\n",
      "--------------- Epoch 23 ---------------\n"
     ]
    },
    {
     "name": "stderr",
     "output_type": "stream",
     "text": [
      "100%|██████████| 100/100 [02:22<00:00,  1.42s/it]\n",
      "  0%|          | 0/100 [00:00<?, ?it/s]"
     ]
    },
    {
     "name": "stdout",
     "output_type": "stream",
     "text": [
      "\n",
      "--------------- Epoch 24 ---------------\n"
     ]
    },
    {
     "name": "stderr",
     "output_type": "stream",
     "text": [
      "100%|██████████| 100/100 [02:17<00:00,  1.38s/it]\n",
      "  0%|          | 0/100 [00:00<?, ?it/s]"
     ]
    },
    {
     "name": "stdout",
     "output_type": "stream",
     "text": [
      "\n",
      "--------------- Epoch 25 ---------------\n"
     ]
    },
    {
     "name": "stderr",
     "output_type": "stream",
     "text": [
      "100%|██████████| 100/100 [02:32<00:00,  1.52s/it]\n",
      "  0%|          | 0/100 [00:00<?, ?it/s]"
     ]
    },
    {
     "name": "stdout",
     "output_type": "stream",
     "text": [
      "\n",
      "--------------- Epoch 26 ---------------\n"
     ]
    },
    {
     "name": "stderr",
     "output_type": "stream",
     "text": [
      "100%|██████████| 100/100 [02:17<00:00,  1.38s/it]\n",
      "  0%|          | 0/100 [00:00<?, ?it/s]"
     ]
    },
    {
     "name": "stdout",
     "output_type": "stream",
     "text": [
      "\n",
      "--------------- Epoch 27 ---------------\n"
     ]
    },
    {
     "name": "stderr",
     "output_type": "stream",
     "text": [
      "100%|██████████| 100/100 [02:21<00:00,  1.42s/it]\n",
      "  0%|          | 0/100 [00:00<?, ?it/s]"
     ]
    },
    {
     "name": "stdout",
     "output_type": "stream",
     "text": [
      "\n",
      "--------------- Epoch 28 ---------------\n"
     ]
    },
    {
     "name": "stderr",
     "output_type": "stream",
     "text": [
      "100%|██████████| 100/100 [02:36<00:00,  1.57s/it]\n",
      "  0%|          | 0/100 [00:00<?, ?it/s]"
     ]
    },
    {
     "name": "stdout",
     "output_type": "stream",
     "text": [
      "\n",
      "--------------- Epoch 29 ---------------\n"
     ]
    },
    {
     "name": "stderr",
     "output_type": "stream",
     "text": [
      "100%|██████████| 100/100 [02:19<00:00,  1.39s/it]\n",
      "  0%|          | 0/100 [00:00<?, ?it/s]"
     ]
    },
    {
     "name": "stdout",
     "output_type": "stream",
     "text": [
      "\n",
      "--------------- Epoch 30 ---------------\n"
     ]
    },
    {
     "name": "stderr",
     "output_type": "stream",
     "text": [
      "100%|██████████| 100/100 [02:15<00:00,  1.36s/it]\n",
      "  0%|          | 0/100 [00:00<?, ?it/s]"
     ]
    },
    {
     "name": "stdout",
     "output_type": "stream",
     "text": [
      "\n",
      "--------------- Epoch 31 ---------------\n"
     ]
    },
    {
     "name": "stderr",
     "output_type": "stream",
     "text": [
      "100%|██████████| 100/100 [02:32<00:00,  1.52s/it]\n",
      "  0%|          | 0/100 [00:00<?, ?it/s]"
     ]
    },
    {
     "name": "stdout",
     "output_type": "stream",
     "text": [
      "\n",
      "--------------- Epoch 32 ---------------\n"
     ]
    },
    {
     "name": "stderr",
     "output_type": "stream",
     "text": [
      "100%|██████████| 100/100 [02:21<00:00,  1.42s/it]\n",
      "  0%|          | 0/100 [00:00<?, ?it/s]"
     ]
    },
    {
     "name": "stdout",
     "output_type": "stream",
     "text": [
      "\n",
      "--------------- Epoch 33 ---------------\n"
     ]
    },
    {
     "name": "stderr",
     "output_type": "stream",
     "text": [
      "100%|██████████| 100/100 [02:36<00:00,  1.56s/it]\n",
      "  0%|          | 0/100 [00:00<?, ?it/s]"
     ]
    },
    {
     "name": "stdout",
     "output_type": "stream",
     "text": [
      "\n",
      "--------------- Epoch 34 ---------------\n"
     ]
    },
    {
     "name": "stderr",
     "output_type": "stream",
     "text": [
      "100%|██████████| 100/100 [02:16<00:00,  1.37s/it]\n",
      "  0%|          | 0/100 [00:00<?, ?it/s]"
     ]
    },
    {
     "name": "stdout",
     "output_type": "stream",
     "text": [
      "\n",
      "--------------- Epoch 35 ---------------\n"
     ]
    },
    {
     "name": "stderr",
     "output_type": "stream",
     "text": [
      "100%|██████████| 100/100 [02:19<00:00,  1.40s/it]\n",
      "  0%|          | 0/100 [00:00<?, ?it/s]"
     ]
    },
    {
     "name": "stdout",
     "output_type": "stream",
     "text": [
      "\n",
      "--------------- Epoch 36 ---------------\n"
     ]
    },
    {
     "name": "stderr",
     "output_type": "stream",
     "text": [
      "100%|██████████| 100/100 [02:38<00:00,  1.58s/it]\n",
      "  0%|          | 0/100 [00:00<?, ?it/s]"
     ]
    },
    {
     "name": "stdout",
     "output_type": "stream",
     "text": [
      "\n",
      "--------------- Epoch 37 ---------------\n"
     ]
    },
    {
     "name": "stderr",
     "output_type": "stream",
     "text": [
      "100%|██████████| 100/100 [02:18<00:00,  1.38s/it]\n",
      "  0%|          | 0/100 [00:00<?, ?it/s]"
     ]
    },
    {
     "name": "stdout",
     "output_type": "stream",
     "text": [
      "\n",
      "--------------- Epoch 38 ---------------\n"
     ]
    },
    {
     "name": "stderr",
     "output_type": "stream",
     "text": [
      "100%|██████████| 100/100 [02:21<00:00,  1.41s/it]\n",
      "  0%|          | 0/100 [00:00<?, ?it/s]"
     ]
    },
    {
     "name": "stdout",
     "output_type": "stream",
     "text": [
      "\n",
      "--------------- Epoch 39 ---------------\n"
     ]
    },
    {
     "name": "stderr",
     "output_type": "stream",
     "text": [
      "100%|██████████| 100/100 [02:17<00:00,  1.38s/it]\n",
      "  0%|          | 0/100 [00:00<?, ?it/s]"
     ]
    },
    {
     "name": "stdout",
     "output_type": "stream",
     "text": [
      "\n",
      "Epoch 39/1000... Loss 3.450089\n",
      "--------------- Epoch 40 ---------------\n"
     ]
    },
    {
     "name": "stderr",
     "output_type": "stream",
     "text": [
      "100%|██████████| 100/100 [02:41<00:00,  1.62s/it]\n",
      "  0%|          | 0/77 [00:00<?, ?it/s]"
     ]
    },
    {
     "name": "stdout",
     "output_type": "stream",
     "text": [
      "\n"
     ]
    },
    {
     "name": "stderr",
     "output_type": "stream",
     "text": [
      "100%|██████████| 77/77 [01:08<00:00,  1.13it/s]\n",
      "  0%|          | 0/100 [00:00<?, ?it/s]"
     ]
    },
    {
     "name": "stdout",
     "output_type": "stream",
     "text": [
      "\n",
      "Loss 32290005.000000\n",
      "Model saved!\n",
      "--------------- Epoch 41 ---------------\n"
     ]
    },
    {
     "name": "stderr",
     "output_type": "stream",
     "text": [
      "100%|██████████| 100/100 [02:19<00:00,  1.39s/it]\n",
      "  0%|          | 0/100 [00:00<?, ?it/s]"
     ]
    },
    {
     "name": "stdout",
     "output_type": "stream",
     "text": [
      "\n",
      "--------------- Epoch 42 ---------------\n"
     ]
    },
    {
     "name": "stderr",
     "output_type": "stream",
     "text": [
      "100%|██████████| 100/100 [02:31<00:00,  1.51s/it]\n",
      "  0%|          | 0/100 [00:00<?, ?it/s]"
     ]
    },
    {
     "name": "stdout",
     "output_type": "stream",
     "text": [
      "\n",
      "--------------- Epoch 43 ---------------\n"
     ]
    },
    {
     "name": "stderr",
     "output_type": "stream",
     "text": [
      "100%|██████████| 100/100 [02:19<00:00,  1.40s/it]\n",
      "  0%|          | 0/100 [00:00<?, ?it/s]"
     ]
    },
    {
     "name": "stdout",
     "output_type": "stream",
     "text": [
      "\n",
      "--------------- Epoch 44 ---------------\n"
     ]
    },
    {
     "name": "stderr",
     "output_type": "stream",
     "text": [
      "100%|██████████| 100/100 [02:21<00:00,  1.41s/it]\n",
      "  0%|          | 0/100 [00:00<?, ?it/s]"
     ]
    },
    {
     "name": "stdout",
     "output_type": "stream",
     "text": [
      "\n",
      "--------------- Epoch 45 ---------------\n"
     ]
    },
    {
     "name": "stderr",
     "output_type": "stream",
     "text": [
      "100%|██████████| 100/100 [02:27<00:00,  1.48s/it]\n",
      "  0%|          | 0/100 [00:00<?, ?it/s]"
     ]
    },
    {
     "name": "stdout",
     "output_type": "stream",
     "text": [
      "\n",
      "--------------- Epoch 46 ---------------\n"
     ]
    },
    {
     "name": "stderr",
     "output_type": "stream",
     "text": [
      "100%|██████████| 100/100 [02:16<00:00,  1.36s/it]\n",
      "  0%|          | 0/100 [00:00<?, ?it/s]"
     ]
    },
    {
     "name": "stdout",
     "output_type": "stream",
     "text": [
      "\n",
      "--------------- Epoch 47 ---------------\n"
     ]
    },
    {
     "name": "stderr",
     "output_type": "stream",
     "text": [
      "100%|██████████| 100/100 [02:18<00:00,  1.38s/it]\n",
      "  0%|          | 0/100 [00:00<?, ?it/s]"
     ]
    },
    {
     "name": "stdout",
     "output_type": "stream",
     "text": [
      "\n",
      "--------------- Epoch 48 ---------------\n"
     ]
    },
    {
     "name": "stderr",
     "output_type": "stream",
     "text": [
      "100%|██████████| 100/100 [02:19<00:00,  1.40s/it]\n",
      "  0%|          | 0/100 [00:00<?, ?it/s]"
     ]
    },
    {
     "name": "stdout",
     "output_type": "stream",
     "text": [
      "\n",
      "--------------- Epoch 49 ---------------\n"
     ]
    },
    {
     "name": "stderr",
     "output_type": "stream",
     "text": [
      "100%|██████████| 100/100 [02:42<00:00,  1.63s/it]\n",
      "  0%|          | 0/100 [00:00<?, ?it/s]"
     ]
    },
    {
     "name": "stdout",
     "output_type": "stream",
     "text": [
      "\n",
      "--------------- Epoch 50 ---------------\n"
     ]
    },
    {
     "name": "stderr",
     "output_type": "stream",
     "text": [
      "100%|██████████| 100/100 [02:13<00:00,  1.34s/it]\n",
      "  0%|          | 0/100 [00:00<?, ?it/s]"
     ]
    },
    {
     "name": "stdout",
     "output_type": "stream",
     "text": [
      "\n",
      "--------------- Epoch 51 ---------------\n"
     ]
    },
    {
     "name": "stderr",
     "output_type": "stream",
     "text": [
      "100%|██████████| 100/100 [02:17<00:00,  1.37s/it]\n",
      "  0%|          | 0/100 [00:00<?, ?it/s]"
     ]
    },
    {
     "name": "stdout",
     "output_type": "stream",
     "text": [
      "\n",
      "--------------- Epoch 52 ---------------\n"
     ]
    },
    {
     "name": "stderr",
     "output_type": "stream",
     "text": [
      "100%|██████████| 100/100 [02:33<00:00,  1.53s/it]\n",
      "  0%|          | 0/100 [00:00<?, ?it/s]"
     ]
    },
    {
     "name": "stdout",
     "output_type": "stream",
     "text": [
      "\n",
      "--------------- Epoch 53 ---------------\n"
     ]
    },
    {
     "name": "stderr",
     "output_type": "stream",
     "text": [
      "100%|██████████| 100/100 [02:17<00:00,  1.37s/it]\n",
      "  0%|          | 0/100 [00:00<?, ?it/s]"
     ]
    },
    {
     "name": "stdout",
     "output_type": "stream",
     "text": [
      "\n",
      "--------------- Epoch 54 ---------------\n"
     ]
    },
    {
     "name": "stderr",
     "output_type": "stream",
     "text": [
      "100%|██████████| 100/100 [02:19<00:00,  1.39s/it]\n",
      "  0%|          | 0/100 [00:00<?, ?it/s]"
     ]
    },
    {
     "name": "stdout",
     "output_type": "stream",
     "text": [
      "\n",
      "--------------- Epoch 55 ---------------\n"
     ]
    },
    {
     "name": "stderr",
     "output_type": "stream",
     "text": [
      "100%|██████████| 100/100 [02:39<00:00,  1.60s/it]\n",
      "  0%|          | 0/100 [00:00<?, ?it/s]"
     ]
    },
    {
     "name": "stdout",
     "output_type": "stream",
     "text": [
      "\n",
      "--------------- Epoch 56 ---------------\n"
     ]
    },
    {
     "name": "stderr",
     "output_type": "stream",
     "text": [
      "100%|██████████| 100/100 [02:17<00:00,  1.38s/it]\n",
      "  0%|          | 0/100 [00:00<?, ?it/s]"
     ]
    },
    {
     "name": "stdout",
     "output_type": "stream",
     "text": [
      "\n",
      "--------------- Epoch 57 ---------------\n"
     ]
    },
    {
     "name": "stderr",
     "output_type": "stream",
     "text": [
      "100%|██████████| 100/100 [02:21<00:00,  1.41s/it]\n",
      "  0%|          | 0/100 [00:00<?, ?it/s]"
     ]
    },
    {
     "name": "stdout",
     "output_type": "stream",
     "text": [
      "\n",
      "--------------- Epoch 58 ---------------\n"
     ]
    },
    {
     "name": "stderr",
     "output_type": "stream",
     "text": [
      "100%|██████████| 100/100 [02:31<00:00,  1.51s/it]\n",
      "  0%|          | 0/100 [00:00<?, ?it/s]"
     ]
    },
    {
     "name": "stdout",
     "output_type": "stream",
     "text": [
      "\n",
      "--------------- Epoch 59 ---------------\n"
     ]
    },
    {
     "name": "stderr",
     "output_type": "stream",
     "text": [
      "100%|██████████| 100/100 [02:22<00:00,  1.43s/it]\n",
      "  0%|          | 0/100 [00:00<?, ?it/s]"
     ]
    },
    {
     "name": "stdout",
     "output_type": "stream",
     "text": [
      "\n",
      "Epoch 59/1000... Loss 5.143591\n",
      "--------------- Epoch 60 ---------------\n"
     ]
    },
    {
     "name": "stderr",
     "output_type": "stream",
     "text": [
      "100%|██████████| 100/100 [02:21<00:00,  1.41s/it]\n",
      "  0%|          | 0/100 [00:00<?, ?it/s]"
     ]
    },
    {
     "name": "stdout",
     "output_type": "stream",
     "text": [
      "\n",
      "Model saved!\n",
      "--------------- Epoch 61 ---------------\n"
     ]
    },
    {
     "name": "stderr",
     "output_type": "stream",
     "text": [
      "100%|██████████| 100/100 [02:39<00:00,  1.59s/it]\n",
      "  0%|          | 0/100 [00:00<?, ?it/s]"
     ]
    },
    {
     "name": "stdout",
     "output_type": "stream",
     "text": [
      "\n",
      "--------------- Epoch 62 ---------------\n"
     ]
    },
    {
     "name": "stderr",
     "output_type": "stream",
     "text": [
      "100%|██████████| 100/100 [02:19<00:00,  1.39s/it]\n",
      "  0%|          | 0/100 [00:00<?, ?it/s]"
     ]
    },
    {
     "name": "stdout",
     "output_type": "stream",
     "text": [
      "\n",
      "--------------- Epoch 63 ---------------\n"
     ]
    },
    {
     "name": "stderr",
     "output_type": "stream",
     "text": [
      "100%|██████████| 100/100 [02:16<00:00,  1.36s/it]\n",
      "  0%|          | 0/100 [00:00<?, ?it/s]"
     ]
    },
    {
     "name": "stdout",
     "output_type": "stream",
     "text": [
      "\n",
      "--------------- Epoch 64 ---------------\n"
     ]
    },
    {
     "name": "stderr",
     "output_type": "stream",
     "text": [
      "100%|██████████| 100/100 [02:36<00:00,  1.57s/it]\n",
      "  0%|          | 0/100 [00:00<?, ?it/s]"
     ]
    },
    {
     "name": "stdout",
     "output_type": "stream",
     "text": [
      "\n",
      "--------------- Epoch 65 ---------------\n"
     ]
    },
    {
     "name": "stderr",
     "output_type": "stream",
     "text": [
      "100%|██████████| 100/100 [02:19<00:00,  1.39s/it]\n",
      "  0%|          | 0/100 [00:00<?, ?it/s]"
     ]
    },
    {
     "name": "stdout",
     "output_type": "stream",
     "text": [
      "\n",
      "--------------- Epoch 66 ---------------\n"
     ]
    },
    {
     "name": "stderr",
     "output_type": "stream",
     "text": [
      "100%|██████████| 100/100 [02:19<00:00,  1.39s/it]\n",
      "  0%|          | 0/100 [00:00<?, ?it/s]"
     ]
    },
    {
     "name": "stdout",
     "output_type": "stream",
     "text": [
      "\n",
      "--------------- Epoch 67 ---------------\n"
     ]
    },
    {
     "name": "stderr",
     "output_type": "stream",
     "text": [
      "100%|██████████| 100/100 [02:33<00:00,  1.53s/it]\n",
      "  0%|          | 0/100 [00:00<?, ?it/s]"
     ]
    },
    {
     "name": "stdout",
     "output_type": "stream",
     "text": [
      "\n",
      "--------------- Epoch 68 ---------------\n"
     ]
    },
    {
     "name": "stderr",
     "output_type": "stream",
     "text": [
      "100%|██████████| 100/100 [02:19<00:00,  1.40s/it]\n",
      "  0%|          | 0/100 [00:00<?, ?it/s]"
     ]
    },
    {
     "name": "stdout",
     "output_type": "stream",
     "text": [
      "\n",
      "--------------- Epoch 69 ---------------\n"
     ]
    },
    {
     "name": "stderr",
     "output_type": "stream",
     "text": [
      "100%|██████████| 100/100 [02:14<00:00,  1.35s/it]\n",
      "  0%|          | 0/100 [00:00<?, ?it/s]"
     ]
    },
    {
     "name": "stdout",
     "output_type": "stream",
     "text": [
      "\n",
      "--------------- Epoch 70 ---------------\n"
     ]
    },
    {
     "name": "stderr",
     "output_type": "stream",
     "text": [
      "100%|██████████| 100/100 [02:39<00:00,  1.60s/it]\n",
      "  0%|          | 0/100 [00:00<?, ?it/s]"
     ]
    },
    {
     "name": "stdout",
     "output_type": "stream",
     "text": [
      "\n",
      "--------------- Epoch 71 ---------------\n"
     ]
    },
    {
     "name": "stderr",
     "output_type": "stream",
     "text": [
      "100%|██████████| 100/100 [02:22<00:00,  1.42s/it]\n",
      "  0%|          | 0/100 [00:00<?, ?it/s]"
     ]
    },
    {
     "name": "stdout",
     "output_type": "stream",
     "text": [
      "\n",
      "--------------- Epoch 72 ---------------\n"
     ]
    },
    {
     "name": "stderr",
     "output_type": "stream",
     "text": [
      "100%|██████████| 100/100 [02:15<00:00,  1.36s/it]\n",
      "  0%|          | 0/100 [00:00<?, ?it/s]"
     ]
    },
    {
     "name": "stdout",
     "output_type": "stream",
     "text": [
      "\n",
      "--------------- Epoch 73 ---------------\n"
     ]
    },
    {
     "name": "stderr",
     "output_type": "stream",
     "text": [
      "100%|██████████| 100/100 [02:38<00:00,  1.58s/it]\n",
      "  0%|          | 0/100 [00:00<?, ?it/s]"
     ]
    },
    {
     "name": "stdout",
     "output_type": "stream",
     "text": [
      "\n",
      "--------------- Epoch 74 ---------------\n"
     ]
    },
    {
     "name": "stderr",
     "output_type": "stream",
     "text": [
      "100%|██████████| 100/100 [02:18<00:00,  1.39s/it]\n",
      "  0%|          | 0/100 [00:00<?, ?it/s]"
     ]
    },
    {
     "name": "stdout",
     "output_type": "stream",
     "text": [
      "\n",
      "--------------- Epoch 75 ---------------\n"
     ]
    },
    {
     "name": "stderr",
     "output_type": "stream",
     "text": [
      "100%|██████████| 100/100 [02:27<00:00,  1.47s/it]\n",
      "  0%|          | 0/100 [00:00<?, ?it/s]"
     ]
    },
    {
     "name": "stdout",
     "output_type": "stream",
     "text": [
      "\n",
      "--------------- Epoch 76 ---------------\n"
     ]
    },
    {
     "name": "stderr",
     "output_type": "stream",
     "text": [
      "100%|██████████| 100/100 [03:18<00:00,  1.99s/it]\n",
      "  0%|          | 0/100 [00:00<?, ?it/s]"
     ]
    },
    {
     "name": "stdout",
     "output_type": "stream",
     "text": [
      "\n",
      "--------------- Epoch 77 ---------------\n"
     ]
    },
    {
     "name": "stderr",
     "output_type": "stream",
     "text": [
      "100%|██████████| 100/100 [03:14<00:00,  1.95s/it]\n",
      "  0%|          | 0/100 [00:00<?, ?it/s]"
     ]
    },
    {
     "name": "stdout",
     "output_type": "stream",
     "text": [
      "\n",
      "--------------- Epoch 78 ---------------\n"
     ]
    },
    {
     "name": "stderr",
     "output_type": "stream",
     "text": [
      "100%|██████████| 100/100 [02:32<00:00,  1.52s/it]\n",
      "  0%|          | 0/100 [00:00<?, ?it/s]"
     ]
    },
    {
     "name": "stdout",
     "output_type": "stream",
     "text": [
      "\n",
      "--------------- Epoch 79 ---------------\n"
     ]
    },
    {
     "name": "stderr",
     "output_type": "stream",
     "text": [
      "100%|██████████| 100/100 [02:19<00:00,  1.40s/it]\n",
      "  0%|          | 0/100 [00:00<?, ?it/s]"
     ]
    },
    {
     "name": "stdout",
     "output_type": "stream",
     "text": [
      "\n",
      "Epoch 79/1000... Loss 3.166086\n",
      "--------------- Epoch 80 ---------------\n"
     ]
    },
    {
     "name": "stderr",
     "output_type": "stream",
     "text": [
      "100%|██████████| 100/100 [02:22<00:00,  1.43s/it]\n",
      "  0%|          | 0/77 [00:00<?, ?it/s]"
     ]
    },
    {
     "name": "stdout",
     "output_type": "stream",
     "text": [
      "\n"
     ]
    },
    {
     "name": "stderr",
     "output_type": "stream",
     "text": [
      "100%|██████████| 77/77 [01:09<00:00,  1.10it/s]\n",
      "  0%|          | 0/100 [00:00<?, ?it/s]"
     ]
    },
    {
     "name": "stdout",
     "output_type": "stream",
     "text": [
      "\n",
      "Loss 32791130.000000\n",
      "Model saved!\n",
      "--------------- Epoch 81 ---------------\n"
     ]
    },
    {
     "name": "stderr",
     "output_type": "stream",
     "text": [
      "100%|██████████| 100/100 [02:46<00:00,  1.67s/it]\n",
      "  0%|          | 0/100 [00:00<?, ?it/s]"
     ]
    },
    {
     "name": "stdout",
     "output_type": "stream",
     "text": [
      "\n",
      "--------------- Epoch 82 ---------------\n"
     ]
    },
    {
     "name": "stderr",
     "output_type": "stream",
     "text": [
      "100%|██████████| 100/100 [02:14<00:00,  1.35s/it]\n",
      "  0%|          | 0/100 [00:00<?, ?it/s]"
     ]
    },
    {
     "name": "stdout",
     "output_type": "stream",
     "text": [
      "\n",
      "--------------- Epoch 83 ---------------\n"
     ]
    },
    {
     "name": "stderr",
     "output_type": "stream",
     "text": [
      "100%|██████████| 100/100 [02:19<00:00,  1.39s/it]\n",
      "  0%|          | 0/100 [00:00<?, ?it/s]"
     ]
    },
    {
     "name": "stdout",
     "output_type": "stream",
     "text": [
      "\n",
      "--------------- Epoch 84 ---------------\n"
     ]
    },
    {
     "name": "stderr",
     "output_type": "stream",
     "text": [
      "100%|██████████| 100/100 [02:37<00:00,  1.57s/it]\n",
      "  0%|          | 0/100 [00:00<?, ?it/s]"
     ]
    },
    {
     "name": "stdout",
     "output_type": "stream",
     "text": [
      "\n",
      "--------------- Epoch 85 ---------------\n"
     ]
    },
    {
     "name": "stderr",
     "output_type": "stream",
     "text": [
      "100%|██████████| 100/100 [02:20<00:00,  1.40s/it]\n",
      "  0%|          | 0/100 [00:00<?, ?it/s]"
     ]
    },
    {
     "name": "stdout",
     "output_type": "stream",
     "text": [
      "\n",
      "--------------- Epoch 86 ---------------\n"
     ]
    },
    {
     "name": "stderr",
     "output_type": "stream",
     "text": [
      "100%|██████████| 100/100 [02:20<00:00,  1.40s/it]\n",
      "  0%|          | 0/100 [00:00<?, ?it/s]"
     ]
    },
    {
     "name": "stdout",
     "output_type": "stream",
     "text": [
      "\n",
      "--------------- Epoch 87 ---------------\n"
     ]
    },
    {
     "name": "stderr",
     "output_type": "stream",
     "text": [
      "100%|██████████| 100/100 [02:37<00:00,  1.58s/it]\n",
      "  0%|          | 0/100 [00:00<?, ?it/s]"
     ]
    },
    {
     "name": "stdout",
     "output_type": "stream",
     "text": [
      "\n",
      "--------------- Epoch 88 ---------------\n"
     ]
    },
    {
     "name": "stderr",
     "output_type": "stream",
     "text": [
      "100%|██████████| 100/100 [02:28<00:00,  1.48s/it]\n",
      "  0%|          | 0/100 [00:00<?, ?it/s]"
     ]
    },
    {
     "name": "stdout",
     "output_type": "stream",
     "text": [
      "\n",
      "--------------- Epoch 89 ---------------\n"
     ]
    },
    {
     "name": "stderr",
     "output_type": "stream",
     "text": [
      "100%|██████████| 100/100 [02:36<00:00,  1.57s/it]\n",
      "  0%|          | 0/100 [00:00<?, ?it/s]"
     ]
    },
    {
     "name": "stdout",
     "output_type": "stream",
     "text": [
      "\n",
      "--------------- Epoch 90 ---------------\n"
     ]
    },
    {
     "name": "stderr",
     "output_type": "stream",
     "text": [
      "100%|██████████| 100/100 [02:36<00:00,  1.56s/it]\n",
      "  0%|          | 0/100 [00:00<?, ?it/s]"
     ]
    },
    {
     "name": "stdout",
     "output_type": "stream",
     "text": [
      "\n",
      "--------------- Epoch 91 ---------------\n"
     ]
    },
    {
     "name": "stderr",
     "output_type": "stream",
     "text": [
      "  6%|▌         | 6/100 [00:07<01:59,  1.27s/it]"
     ]
    }
   ],
   "source": [
    "train_losses = []\n",
    "eval_losses = []\n",
    "\n",
    "bc_train = 100# 1 // batch_size # mini_batch train\n",
    "bc_eval = 77# // batch_size  # mini_batch validation\n",
    "\n",
    "# Define pipeline objects\n",
    "pipe = loader(df_trn, batch_size,aug=True)\n",
    "eval_pipe = loader(df_tst, batch_size)\n",
    "\n",
    "epochs = 1000\n",
    "\n",
    "# Train loop\n",
    "\n",
    "for e in range(1, epochs+1):\n",
    "    \n",
    "    \n",
    "    train_loss = 0\n",
    "    print ('-'*15,'Epoch %d' % e, '-'*15)\n",
    "    \n",
    "    enet.train()\n",
    "    \n",
    "    for _ in tqdm(range(bc_train)):\n",
    "        X_batch, mask_batch = next(pipe)\n",
    "        \n",
    "        # assign data to cpu/gpu\n",
    "        X_batch, mask_batch = X_batch.to(device), mask_batch.to(device)\n",
    "\n",
    "        optimizer.zero_grad()\n",
    "\n",
    "        out = enet(X_batch.float())\n",
    "        #print(out.shape)\n",
    "        # loss calculation\n",
    "        loss = criterion(out, mask_batch.long())\n",
    "        # update weights\n",
    "        loss.backward()\n",
    "        optimizer.step()\n",
    "\n",
    "        train_loss += loss.item()\n",
    "\n",
    "        \n",
    "    print ()\n",
    "    train_losses.append(train_loss)\n",
    "    \n",
    "    if (e+1) % print_every == 0:\n",
    "        print ('Epoch {}/{}...'.format(e, epochs),\n",
    "                'Loss {:6f}'.format(train_loss))\n",
    "    \n",
    "    if e % eval_every == 0:\n",
    "        with torch.no_grad():\n",
    "            enet.eval()\n",
    "            \n",
    "            eval_loss = 0\n",
    "\n",
    "            # Validation loop\n",
    "            for _ in tqdm(range(bc_eval)):\n",
    "                inputs, labels = next(eval_pipe)\n",
    "\n",
    "                inputs=inputs.float()\n",
    "                inputs, labels = inputs.to(device), labels.to(device)\n",
    "                    \n",
    "                \n",
    "                out = enet(inputs)\n",
    "                \n",
    "                out = out.data.max(1)[1]\n",
    "                \n",
    "                eval_loss += (labels.long() - out.long()).sum()\n",
    "                \n",
    "            \n",
    "            print ()\n",
    "            print ('Loss {:6f}'.format(eval_loss))\n",
    "            \n",
    "            eval_losses.append(eval_loss)\n",
    "        \n",
    "    if e % print_every == 0:\n",
    "        checkpoint = {\n",
    "            'epochs' : e,\n",
    "            'state_dict' : enet.state_dict()\n",
    "        }\n",
    "        torch.save(checkpoint, 'content_256/ckpt-enet-{}-{}.pth'.format(e, train_loss))\n",
    "        print ('Model saved!')\n",
    "\n",
    "print ('Epoch {}/{}...'.format(e, epochs),\n",
    "       'Total Mean Loss: {:6f}'.format(sum(train_losses) / epochs))"
   ]
  },
  {
   "cell_type": "markdown",
   "metadata": {},
   "source": [
    "# Postprocessing pipeline"
   ]
  },
  {
   "cell_type": "code",
   "execution_count": null,
   "metadata": {},
   "outputs": [],
   "source": [
    "sample_img=20 \n",
    "tmg_ = plt.imread(df_tst['img_path'][sample_img])\n",
    "img_size=tmg_.shape\n",
    "print(img_size)\n",
    "#tmg_ = cv2.resize(tmg_, (img_size[0], img_size[1]), cv2.INTER_NEAREST)\n",
    "tmg = torch.tensor(tmg_).unsqueeze(0).float()\n",
    "tmg = tmg.transpose(2, 3).transpose(1, 2).to(device)\n",
    "\n",
    "enet.to(device)\n",
    "with torch.no_grad():\n",
    "    out1 = enet(tmg.float()).squeeze(0)"
   ]
  },
  {
   "cell_type": "code",
   "execution_count": null,
   "metadata": {},
   "outputs": [],
   "source": [
    " \n",
    "outer_poly=df_tst['outer_poly'][sample_img] \n",
    "#print('outer poly',outer_poly)\n",
    "inner_poly=df_tst['inner_poly'][sample_img]\n",
    "#print('inner_poly', list(inner_poly))\n",
    "outer_mask=get_mask((img_size[0], img_size[1]),outer_poly,display=False)\n",
    "inner_mask=get_mask((img_size[0], img_size[1]),inner_poly,display=False)\n",
    "inner_mask.dtype='uint8'\n",
    "outer_mask.dtype='uint8'\n",
    "final_mask=cv2.subtract(outer_mask,inner_mask)\n",
    "plt.imshow(final_mask)\n",
    "plt.show"
   ]
  },
  {
   "cell_type": "markdown",
   "metadata": {},
   "source": [
    "# Load a pretrained model if needed\n",
    "enet = ENet(2)\n",
    "state_dict = torch.load('content/ckpt-enet-108-3.242320427671075.pth')['state_dict']\n",
    "enet.load_state_dict(state_dict)"
   ]
  },
  {
   "cell_type": "code",
   "execution_count": null,
   "metadata": {},
   "outputs": [],
   "source": [
    "out2 = out1.cpu().detach().numpy()"
   ]
  },
  {
   "cell_type": "code",
   "execution_count": null,
   "metadata": {},
   "outputs": [],
   "source": [
    "mno = 1 # Should be between 0 - n-1 | where n is the number of classes\n",
    "\n",
    "figure = plt.figure(figsize=(20, 10))\n",
    "plt.subplot(1, 3, 1)\n",
    "plt.title('Input Image')\n",
    "plt.axis('off')\n",
    "plt.imshow(tmg_)\n",
    "plt.subplot(1, 3, 2)\n",
    "plt.title('Output Image')\n",
    "plt.axis('off')\n",
    "plt.imshow(out2[mno, :, :])\n",
    "plt.show()"
   ]
  },
  {
   "cell_type": "code",
   "execution_count": null,
   "metadata": {},
   "outputs": [],
   "source": [
    "b_ = out1.data.max(0)[1].cpu().numpy()"
   ]
  },
  {
   "cell_type": "code",
   "execution_count": null,
   "metadata": {},
   "outputs": [],
   "source": [
    "def decode_segmap(image):\n",
    "    gate = [128, 128, 128]\n",
    "     \n",
    "\n",
    "    label_colours = np.array([gate]).astype(np.uint8)\n",
    "    r = np.zeros_like(image).astype(np.uint8)\n",
    "    g = np.zeros_like(image).astype(np.uint8)\n",
    "    b = np.zeros_like(image).astype(np.uint8)\n",
    "    for l in range(0, 1):\n",
    "        r[image == l] = label_colours[l, 0]\n",
    "        g[image == l] = label_colours[l, 1]\n",
    "        b[image == l] = label_colours[l, 2]\n",
    "\n",
    "    rgb = np.zeros((image.shape[0], image.shape[1], 3)).astype(np.uint8)\n",
    "    rgb[:, :, 0] = b\n",
    "    rgb[:, :, 1] = g\n",
    "    rgb[:, :, 2] = r\n",
    "    return rgb\n"
   ]
  },
  {
   "cell_type": "code",
   "execution_count": null,
   "metadata": {},
   "outputs": [],
   "source": [
    "true_seg = decode_segmap(final_mask)\n",
    "pred_seg = decode_segmap(b_)"
   ]
  },
  {
   "cell_type": "code",
   "execution_count": null,
   "metadata": {},
   "outputs": [],
   "source": [
    "figure = plt.figure(figsize=(20, 10))\n",
    "plt.subplot(1, 3, 1)\n",
    "plt.title('Input Image')\n",
    "plt.axis('off')\n",
    "plt.imshow(tmg_)\n",
    "plt.subplot(1, 3, 2)\n",
    "plt.title('Predicted Segmentation')\n",
    "plt.axis('off')\n",
    "plt.imshow(pred_seg)\n",
    "plt.subplot(1, 3, 3)\n",
    "plt.title('Ground Truth')\n",
    "plt.axis('off')\n",
    "plt.imshow(true_seg)\n",
    "plt.show()"
   ]
  },
  {
   "cell_type": "code",
   "execution_count": null,
   "metadata": {},
   "outputs": [],
   "source": [
    " "
   ]
  },
  {
   "cell_type": "markdown",
   "metadata": {},
   "source": []
  },
  {
   "cell_type": "code",
   "execution_count": null,
   "metadata": {
    "scrolled": true
   },
   "outputs": [],
   "source": [
    "\n",
    "\n",
    "\n",
    "\n",
    " "
   ]
  },
  {
   "cell_type": "code",
   "execution_count": null,
   "metadata": {},
   "outputs": [],
   "source": [
    " "
   ]
  },
  {
   "cell_type": "code",
   "execution_count": null,
   "metadata": {},
   "outputs": [],
   "source": []
  },
  {
   "cell_type": "code",
   "execution_count": null,
   "metadata": {},
   "outputs": [],
   "source": []
  },
  {
   "cell_type": "code",
   "execution_count": null,
   "metadata": {},
   "outputs": [],
   "source": []
  },
  {
   "cell_type": "code",
   "execution_count": null,
   "metadata": {},
   "outputs": [],
   "source": [
    "\n"
   ]
  },
  {
   "cell_type": "code",
   "execution_count": null,
   "metadata": {},
   "outputs": [],
   "source": []
  },
  {
   "cell_type": "code",
   "execution_count": null,
   "metadata": {},
   "outputs": [],
   "source": [
    " "
   ]
  },
  {
   "cell_type": "code",
   "execution_count": null,
   "metadata": {},
   "outputs": [],
   "source": [
    " "
   ]
  },
  {
   "cell_type": "code",
   "execution_count": null,
   "metadata": {},
   "outputs": [],
   "source": []
  },
  {
   "cell_type": "code",
   "execution_count": null,
   "metadata": {},
   "outputs": [],
   "source": []
  },
  {
   "cell_type": "code",
   "execution_count": null,
   "metadata": {},
   "outputs": [],
   "source": []
  },
  {
   "cell_type": "code",
   "execution_count": null,
   "metadata": {},
   "outputs": [],
   "source": [
    " "
   ]
  },
  {
   "cell_type": "code",
   "execution_count": null,
   "metadata": {},
   "outputs": [],
   "source": []
  },
  {
   "cell_type": "markdown",
   "metadata": {},
   "source": [
    "# Training pipeline"
   ]
  },
  {
   "cell_type": "code",
   "execution_count": null,
   "metadata": {},
   "outputs": [],
   "source": []
  },
  {
   "cell_type": "code",
   "execution_count": null,
   "metadata": {},
   "outputs": [],
   "source": []
  },
  {
   "cell_type": "code",
   "execution_count": null,
   "metadata": {},
   "outputs": [],
   "source": []
  },
  {
   "cell_type": "code",
   "execution_count": null,
   "metadata": {},
   "outputs": [],
   "source": []
  },
  {
   "cell_type": "markdown",
   "metadata": {},
   "source": [
    "# Post-processing pipeline      "
   ]
  },
  {
   "cell_type": "code",
   "execution_count": null,
   "metadata": {},
   "outputs": [],
   "source": [
    " "
   ]
  },
  {
   "cell_type": "code",
   "execution_count": null,
   "metadata": {
    "scrolled": false
   },
   "outputs": [],
   "source": [
    " "
   ]
  },
  {
   "cell_type": "code",
   "execution_count": null,
   "metadata": {},
   "outputs": [],
   "source": [
    " "
   ]
  },
  {
   "cell_type": "code",
   "execution_count": null,
   "metadata": {},
   "outputs": [],
   "source": [
    " \n"
   ]
  },
  {
   "cell_type": "code",
   "execution_count": null,
   "metadata": {},
   "outputs": [],
   "source": []
  },
  {
   "cell_type": "code",
   "execution_count": null,
   "metadata": {},
   "outputs": [],
   "source": [
    "start = time.time()\n",
    "training_gen = generate_train_batch(cars_15_35GB,1)\n",
    "batch_img,batch_mask = next(training_gen)\n",
    "end = time.time()\n",
    "end-start"
   ]
  },
  {
   "cell_type": "code",
   "execution_count": null,
   "metadata": {},
   "outputs": [],
   "source": [
    "start = time.time()\n",
    "sample_imgs=1 \n",
    "testing_gen = generate_test_batch(cars_15_35GB,sample_imgs)\n",
    "pre_final_predictions= model.predict(batch_img)\n",
    "end = time.time()\n",
    "end-start"
   ]
  },
  {
   "cell_type": "code",
   "execution_count": null,
   "metadata": {
    "scrolled": false
   },
   "outputs": [],
   "source": [
    "### Test on last frames of data\n",
    "start = time.time()\n",
    "batch_img,batch_mask = next(testing_gen)\n",
    "pre_final_predictions= model.predict(batch_img)\n",
    "np.shape(pre_final_predictions)\n",
    "for i in range(sample_imgs):\n",
    "    im=batch_img[i]\n",
    "    pred,im = next_img(im)\n",
    "    im  = np.array(im,dtype= np.uint8)\n",
    "    im_pred = np.array(255*pred[0],dtype=np.uint8)\n",
    "    im_mask = np.array(255*batch_mask[i],dtype=np.uint8)\n",
    "    rgb_mask_true= cv2.cvtColor(im_mask,cv2.COLOR_GRAY2RGB)\n",
    "    rgb_mask_true[:,:,0] = 0*rgb_mask_true[:,:,0]\n",
    "    rgb_mask_true[:,:,2] = 0*rgb_mask_true[:,:,2]\n",
    "    img_true = cv2.addWeighted(rgb_mask_true,0.70,im,0.70,0)\n",
    "    rgb_mask_pred = cv2.cvtColor(im_pred,cv2.COLOR_GRAY2RGB)\n",
    "    rgb_mask_pred[:,:,1:3] = 0*rgb_mask_pred[:,:,1:2]\n",
    "    img_pred = cv2.addWeighted(rgb_mask_pred,0.70,im,1,0)\n",
    "    draw_img = get_BB_new_img(im)\n",
    "    plt.figure(figsize=(14,5))\n",
    "    plt.subplot(1,4,1)\n",
    "    plt.imshow(im)\n",
    "    plt.title('Original')\n",
    "    plt.axis('off')\n",
    "    plt.subplot(1,4,2)\n",
    "    plt.imshow(img_pred)\n",
    "    plt.title('Segmented')\n",
    "    plt.axis('off')\n",
    "    plt.subplot(1,4,3)\n",
    "    plt.imshow(draw_img)\n",
    "    plt.title('Predicted')\n",
    "    plt.axis('off')\n",
    "    plt.subplot(1,4,4)\n",
    "    plt.imshow(img_true)\n",
    "    plt.title('Gtruth')\n",
    "    plt.axis('off')\n",
    "\n",
    "end = time.time()\n",
    "end-start   "
   ]
  },
  {
   "cell_type": "code",
   "execution_count": null,
   "metadata": {},
   "outputs": [],
   "source": [
    "test_img = 'scene01021.jpg'\n",
    "im = cv2.imread(test_img)\n",
    "im = cv2.cvtColor(im,cv2.COLOR_BGR2RGB)\n",
    "pred,im = next_img(im)\n",
    "im  = np.array(im,dtype= np.uint8)\n",
    "im_pred = np.array(255*pred[0],dtype=np.uint8)\n",
    "rgb_mask_pred = cv2.cvtColor(im_pred,cv2.COLOR_GRAY2RGB)\n",
    "rgb_mask_pred[:,:,1:3] = 0*rgb_mask_pred[:,:,1:2]\n",
    "\n",
    "img_pred = cv2.addWeighted(rgb_mask_pred,0.70,im,1,0)\n",
    "\n",
    "draw_img = get_BB_new_img(im)\n",
    "\n",
    "plt.figure(figsize=(14,5))\n",
    "plt.subplot(1,3,1)\n",
    "plt.imshow(im)\n",
    "plt.title('Original')\n",
    "plt.axis('off')\n",
    "plt.subplot(1,3,2)\n",
    "plt.imshow(img_pred)\n",
    "plt.title('Segmentated')\n",
    "plt.axis('off')\n",
    "plt.subplot(1,3,3)\n",
    "plt.imshow(draw_img)\n",
    "plt.title('Bounding Box')\n",
    "plt.axis('off');\n",
    "\n"
   ]
  },
  {
   "cell_type": "markdown",
   "metadata": {},
   "source": [
    "## Performing camera calibration\n",
    "Camera calibration is performed in order to correct the deformation in the images that is caused to the optic lens curvature. The first step is to print a chessboard and take random pictures of it. Then count the chess intersecting squires to provide \"objp\" which holds the (x,y,z) coordinates of these corners. Z=0 here and the object points are the same for all images in the calibration folder. The objpoints will be appended in \"objp\" every time the method successfully detect all chessboard corners in a test image. \"imgpoints\" will be appended with the (x, y) pixel position of each of the corners in the image plane with each successful chessboard detection.\n",
    "\"objpoints\" and \"imgpoints\" were used to compute the camera calibration and distortion coefficients using the \"cv2.calibrateCamera()\" function on a test image in \"cv2.undistort()\""
   ]
  },
  {
   "cell_type": "code",
   "execution_count": null,
   "metadata": {},
   "outputs": [],
   "source": [
    "# prepare object points. The number of corners are 6x9\n",
    "objp = np.zeros((6*9,3), np.float32)\n",
    "objp[:,:2] = np.mgrid[0:9, 0:6].T.reshape(-1,2)\n",
    "# Arrays to store object points and image points from all the images.\n",
    "objpoints = [] # 3d points in real world space\n",
    "imgpoints = [] # 2d points in image plane.\n",
    "# Make a list of calibration images, all located in camera_cal\n",
    "images = glob.glob('camera_cal/calibration*.jpg')\n",
    "# Step through the list and search for chessboard corners\n",
    "for idx, fname in enumerate(images):\n",
    "    img = cv2.imread(fname)\n",
    "    # imread reads images in BGR format\n",
    "    gray = cv2.cvtColor(img, cv2.COLOR_BGR2GRAY)\n",
    "    # Find the chessboard corners\n",
    "    ret, corners = cv2.findChessboardCorners(gray, (9,6), None)\n",
    "    # If found, add object points, image points\n",
    "    if ret == True:\n",
    "        objpoints.append(objp)\n",
    "        imgpoints.append(corners)\n",
    "        #Draw and display the corners\n",
    "        cv2.drawChessboardCorners(img, (9,6), corners, ret)\n",
    "        #write_name = 'corners_found'+str(idx)+'.jpg'\n",
    "        #cv2.imwrite(write_name, img)\n",
    "        #cv2.imshow('img', img)\n",
    "        #cv2.waitKey(500)\n",
    "#cv2.destroyAllWindows()"
   ]
  },
  {
   "cell_type": "markdown",
   "metadata": {},
   "source": [
    "## Perform distortion removal on test images¶\n",
    "1. Has the distortion correction been correctly applied to each image?\n",
    "Undistortion is performed on the provided test images before they are used in the pipeline. This also applies to the video frames. \"dst\" holds undistorted frames from \"cv2.undistort\" that were computed using \"mtx\"."
   ]
  },
  {
   "cell_type": "code",
   "execution_count": null,
   "metadata": {},
   "outputs": [],
   "source": [
    "for image_name in glob.glob(\"Frames/*\"):\n",
    "    im = cv2.imread(image_name)\n",
    "    im = cv2.cvtColor(im,cv2.COLOR_BGR2RGB)\n",
    "    im = undistort(im,read=False, display = False, write = False)\n",
    "    pred,im = next_img(im)\n",
    "    im  = np.array(im,dtype= np.uint8)\n",
    "    im_pred = np.array(255*pred[0],dtype=np.uint8)\n",
    "    rgb_mask_pred = cv2.cvtColor(im_pred,cv2.COLOR_GRAY2RGB)\n",
    "    rgb_mask_pred[:,:,1:3] = 0*rgb_mask_pred[:,:,1:2]\n",
    "    img_pred = cv2.addWeighted(rgb_mask_pred,0.50,im,1,0)\n",
    "    draw_img = get_BB_new_img(im)\n",
    "    plt.figure(figsize=(14,5))\n",
    "    plt.subplot(1,3,1)\n",
    "    plt.imshow(im)\n",
    "    plt.title('Original')\n",
    "    plt.axis('off')\n",
    "    plt.subplot(1,3,2)\n",
    "    plt.imshow(img_pred)\n",
    "    plt.title('Segmentated')\n",
    "    plt.axis('off')\n",
    "    plt.subplot(1,3,3)\n",
    "    plt.imshow(draw_img)\n",
    "    plt.title('Bounding Box')\n",
    "    plt.axis('off');\n",
    "\n",
    "heatmap_10 = [np.zeros((640,960))]*10\n",
    "    "
   ]
  },
  {
   "cell_type": "code",
   "execution_count": null,
   "metadata": {},
   "outputs": [],
   "source": [
    "def video_pipeline(image):\n",
    "    #test_img = 'scene01021.jpg'\n",
    "    #im = cv2.imread(im)\n",
    "    #im = cv2.cvtColor(im,cv2.COLOR_BGR2RGB)\n",
    "    #img = get_BB_new_img(im)\n",
    "    # Apply bounding box to image\n",
    "    image_bb = np.copy(image)\n",
    "    bbox_cars = get_BB_new(image_bb)\n",
    "    img_size = np.shape(image)\n",
    "    result = image\n",
    "    img_res_shape = result.shape\n",
    "    for bbox in bbox_cars:\n",
    "        cv2.rectangle(result,(np.int32(bbox[0][0]*img_res_shape[1]/960),np.int32(bbox[0][1]*img_res_shape[0]/640)), (np.int32(bbox[1][0]*img_res_shape[1]/960),np.int32(bbox[1][1]*img_res_shape[0]/640)),(0,255,0),6)\n",
    "    #heatmap = get_Unet_mask(image_bb)\n",
    "    #plt.imshow(img)\n",
    "    return result"
   ]
  },
  {
   "cell_type": "code",
   "execution_count": null,
   "metadata": {},
   "outputs": [],
   "source": [
    "video_output = 'project_video_output.mp4'\n",
    "clip1 = VideoFileClip(\"project_video.mp4\")\n",
    "white_clip = clip1.fl_image(video_pipeline) \n",
    "white_clip.write_videofile(video_output, audio=False)"
   ]
  },
  {
   "cell_type": "code",
   "execution_count": null,
   "metadata": {},
   "outputs": [],
   "source": [
    "from IPython.display import HTML\n",
    "HTML(\"\"\"\n",
    "<video width=\"640\" height=\"360\" controls>\n",
    "  <source src=\"{0}\">\n",
    "</video>\n",
    "\"\"\".format('project_video_output.mp4'))"
   ]
  }
 ],
 "metadata": {
  "anaconda-cloud": {},
  "kernelspec": {
   "display_name": "Python 3",
   "language": "python",
   "name": "python3"
  },
  "language_info": {
   "codemirror_mode": {
    "name": "ipython",
    "version": 3
   },
   "file_extension": ".py",
   "mimetype": "text/x-python",
   "name": "python",
   "nbconvert_exporter": "python",
   "pygments_lexer": "ipython3",
   "version": "3.6.8"
  }
 },
 "nbformat": 4,
 "nbformat_minor": 1
}
