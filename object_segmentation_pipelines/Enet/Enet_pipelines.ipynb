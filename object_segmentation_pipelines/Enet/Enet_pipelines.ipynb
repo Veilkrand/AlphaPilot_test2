{
 "cells": [
  {
   "cell_type": "markdown",
   "metadata": {
    "collapsed": true
   },
   "source": [
    "# Scene Understanding using Deep Learning\n",
    "## Introduction\n",
    "\n",
    "This Notebook was written for demonstrating scene understanding for the Lockheed Martin drone challange. The code consists of three pipelines pre-processing, FCN and post processing  The project is a corner stone for  \n",
    "\n",
    "\\<img style=\"float: center;\" src=\"readme_imgs/Img_groundtruth.png\">\n",
    "\n",
    "## Data Pre-processing \n",
    "\n",
    "We have implemented camera calibration routine to the video file.Each image was normalized and then smoothed with a Gaussian filter. The images were randomly processed with a brightness filter to help the network generalize to different lighting conditions. \n",
    "\n",
    " \n",
    "\n",
    "\n",
    "## FCN\n",
    "\n",
    " \n",
    "\n",
    " \n",
    " \n",
    "\n",
    "##  Jaccard similarity coefficient \n",
    "\n",
    "In evaluating the model I've investigated several metrics including the Mean IU, Intersection over Union, and the Jaccard coefficient. The idea is to maximize the overlap between the predicted region and the ground truth bounding box.\n",
    " \n",
    "We eventually decided to use the Jaccard coeef. The Jaccard similarity coefficient is defined as the size of the intersection divided by the size of the union of two regions. This metric is used to compare the predicted labels to a set of labels in y_true  \n",
    "\n",
    "The coefficients are given by \n",
    "\n",
    "#### J(A,B) = |A∩B| / |A∪B|=|A∩B|/|A|+|B|-|A∩B| \n",
    "\n",
    "(If A and B are both empty, we define J(A,B) = 1.)\n",
    "\n",
    "<img style=\"float: center;\" src=\"readme_imgs/Intersection_of_sets_A_and_B.png\">\n",
    "<img style=\"float: center;\" src=\"readme_imgs/Intersection_of_sets_A_and_B_2.png\">\n",
    " \n",
    "\n",
    "## Training\n",
    "\n",
    "The Autti dataset was used and can be obtained from https://github.com/udacity/self-driving-car/tree/master/annotations .  \n",
    "\n",
    "## Results\n",
    " "
   ]
  },
  {
   "cell_type": "code",
   "execution_count": 3,
   "metadata": {},
   "outputs": [],
   "source": [
    "%matplotlib inline\n",
    "import json\n",
    "import cv2\n",
    "import matplotlib.pyplot as plt\n",
    "from matplotlib.patches import Rectangle\n",
    "#from moviepy.editor import VideoFileClip\n",
    "from IPython.display import HTML\n",
    "import numpy as np\n",
    "import glob\n",
    "import time\n",
    "\n",
    "from scipy.ndimage.measurements import label\n",
    "import pandas as pd\n",
    "#import keras.backend as K\n",
    "from sklearn.metrics import jaccard_similarity_score\n",
    " \n",
    "import time\n",
    "import numpy\n",
    "from PIL import Image, ImageDraw\n",
    "import re\n",
    "from shapely.geometry import Polygon\n",
    "from pprint import pprint\n",
    "import PIL.ImageDraw\n",
    "from PIL import Image\n",
    "import argparse\n",
    "import os\n",
    "from tqdm import tqdm\n",
    "import torch\n",
    "import torch.nn as nn\n",
    "import torch.nn.functional as F\n",
    " \n",
    "#add a note for the class"
   ]
  },
  {
   "cell_type": "markdown",
   "metadata": {},
   "source": [
    "# Reading and processing the wkt json format \n"
   ]
  },
  {
   "cell_type": "code",
   "execution_count": 4,
   "metadata": {},
   "outputs": [
    {
     "data": {
      "text/html": [
       "<div>\n",
       "<style scoped>\n",
       "    .dataframe tbody tr th:only-of-type {\n",
       "        vertical-align: middle;\n",
       "    }\n",
       "\n",
       "    .dataframe tbody tr th {\n",
       "        vertical-align: top;\n",
       "    }\n",
       "\n",
       "    .dataframe thead th {\n",
       "        text-align: right;\n",
       "    }\n",
       "</style>\n",
       "<table border=\"1\" class=\"dataframe\">\n",
       "  <thead>\n",
       "    <tr style=\"text-align: right;\">\n",
       "      <th></th>\n",
       "      <th>images</th>\n",
       "      <th>img_path</th>\n",
       "      <th>raw_inner_poly</th>\n",
       "    </tr>\n",
       "  </thead>\n",
       "  <tbody>\n",
       "    <tr>\n",
       "      <th>0</th>\n",
       "      <td>IMG_5677.JPG</td>\n",
       "      <td>datasets/Data_Training/IMG_5677.JPG</td>\n",
       "      <td>[532, 354, 772, 357, 768, 594, 533, 592]</td>\n",
       "    </tr>\n",
       "    <tr>\n",
       "      <th>1</th>\n",
       "      <td>IMG_7088 (1).JPG</td>\n",
       "      <td>datasets/Data_Training/IMG_7088 (1).JPG</td>\n",
       "      <td>[451, 226, 831, 247, 836, 623, 437, 622]</td>\n",
       "    </tr>\n",
       "    <tr>\n",
       "      <th>2</th>\n",
       "      <td>IMG_0260.JPG</td>\n",
       "      <td>datasets/Data_Training/IMG_0260.JPG</td>\n",
       "      <td>[480, 373, 698, 374, 698, 599, 471, 594]</td>\n",
       "    </tr>\n",
       "    <tr>\n",
       "      <th>3</th>\n",
       "      <td>IMG_4609.JPG</td>\n",
       "      <td>datasets/Data_Training/IMG_4609.JPG</td>\n",
       "      <td>[495, 309, 668, 285, 672, 554, 499, 533]</td>\n",
       "    </tr>\n",
       "    <tr>\n",
       "      <th>4</th>\n",
       "      <td>IMG_2994.JPG</td>\n",
       "      <td>datasets/Data_Training/IMG_2994.JPG</td>\n",
       "      <td>[490, 190, 637, 345, 644, 686, 475, 679]</td>\n",
       "    </tr>\n",
       "  </tbody>\n",
       "</table>\n",
       "</div>"
      ],
      "text/plain": [
       "             images                                 img_path  \\\n",
       "0      IMG_5677.JPG      datasets/Data_Training/IMG_5677.JPG   \n",
       "1  IMG_7088 (1).JPG  datasets/Data_Training/IMG_7088 (1).JPG   \n",
       "2      IMG_0260.JPG      datasets/Data_Training/IMG_0260.JPG   \n",
       "3      IMG_4609.JPG      datasets/Data_Training/IMG_4609.JPG   \n",
       "4      IMG_2994.JPG      datasets/Data_Training/IMG_2994.JPG   \n",
       "\n",
       "                             raw_inner_poly  \n",
       "0  [532, 354, 772, 357, 768, 594, 533, 592]  \n",
       "1  [451, 226, 831, 247, 836, 623, 437, 622]  \n",
       "2  [480, 373, 698, 374, 698, 599, 471, 594]  \n",
       "3  [495, 309, 668, 285, 672, 554, 499, 533]  \n",
       "4  [490, 190, 637, 345, 644, 686, 475, 679]  "
      ]
     },
     "execution_count": 4,
     "metadata": {},
     "output_type": "execute_result"
    }
   ],
   "source": [
    "#df is the dataset that we are annotating\n",
    "#raw_df is the dataset that the organizers provided\n",
    "#adding path for json anf image folders respectively\n",
    "provided_data_file_dir='datasets/training_GT_labels_v2.json'#json provided by the organizers of the challange\n",
    "our_data_file_dir='datasets/export-2019-02-28T10_42_47.657Z.json'#our annotated dataset\n",
    "img_file_dir='datasets/Data_Training/'#folder where images are stored\n",
    "provided_df = pd.read_json(provided_data_file_dir)\n",
    "df = pd.read_json(our_data_file_dir)\n",
    "\n",
    " \n",
    "#adding a complete path for the image \n",
    "df['images']= df['External ID']\n",
    "df['External ID']= [img_file_dir + u for u in df['External ID']]#iris_data_dir + new_df['parcel_id'].astype(str) + '.jpg'\n",
    "\n",
    "# df['images']=[u.split('/',8)[8] for u in df['External ID']]\n",
    "raw_df=pd.DataFrame()\n",
    "raw_df['images']=list(provided_df.columns.values)\n",
    "raw_df['img_path']=[img_file_dir +  u for u in raw_df['images']]\n",
    "\n",
    "raw_df['raw_inner_poly']=[ provided_df[u][0] for u in raw_df['images']]\n",
    "\n",
    "raw_df.head()\n"
   ]
  },
  {
   "cell_type": "code",
   "execution_count": 5,
   "metadata": {},
   "outputs": [
    {
     "name": "stdout",
     "output_type": "stream",
     "text": [
      "IMG_4609.JPG\n"
     ]
    }
   ],
   "source": [
    "#remove white spaces from image path\n",
    "s=raw_df['images'][3]\n",
    "print(re.sub(r\"\\s+\", \"\", s))  # \\s matches all white spaces"
   ]
  },
  {
   "cell_type": "markdown",
   "metadata": {},
   "source": [
    "#remove white space from image name in the folder containing the images\n",
    "\n",
    "#go to img directory and run python fix.py. Here is the file\n",
    "\n",
    "#remove white space from image name in the folder containing the images\n",
    "import os\n",
    "import re\n",
    "\n",
    "\"\"\" \n",
    "Renames the filenames within the same directory to be Unix friendly\n",
    "(1) Changes spaces to nothing\n",
    "(2) Makes lowercase (not a Unix requirement, just looks better ;)\n",
    "Usage:\n",
    "python rename.py\n",
    "\"\"\"\n",
    "path =  os.getcwd()\n",
    " \n",
    "filenames = os.listdir(path)\n",
    "\n",
    "for filename in filenames:\n",
    "    print('img name befor',filename)\n",
    "    fixed_filename=re.sub(r\"\\s+\", \"\", filename)\n",
    "    print('img name after',fixed_filename)\n",
    "    os.rename(filename, fixed_filename)"
   ]
  },
  {
   "cell_type": "code",
   "execution_count": null,
   "metadata": {},
   "outputs": [],
   "source": []
  },
  {
   "cell_type": "code",
   "execution_count": 6,
   "metadata": {},
   "outputs": [
    {
     "data": {
      "text/html": [
       "<div>\n",
       "<style scoped>\n",
       "    .dataframe tbody tr th:only-of-type {\n",
       "        vertical-align: middle;\n",
       "    }\n",
       "\n",
       "    .dataframe tbody tr th {\n",
       "        vertical-align: top;\n",
       "    }\n",
       "\n",
       "    .dataframe thead th {\n",
       "        text-align: right;\n",
       "    }\n",
       "</style>\n",
       "<table border=\"1\" class=\"dataframe\">\n",
       "  <thead>\n",
       "    <tr style=\"text-align: right;\">\n",
       "      <th></th>\n",
       "      <th>Agreement</th>\n",
       "      <th>Created At</th>\n",
       "      <th>Created By</th>\n",
       "      <th>DataRow ID</th>\n",
       "      <th>Dataset Name</th>\n",
       "      <th>External ID</th>\n",
       "      <th>ID</th>\n",
       "      <th>Label</th>\n",
       "      <th>Labeled Data</th>\n",
       "      <th>Project Name</th>\n",
       "      <th>Reviews</th>\n",
       "      <th>Seconds to Label</th>\n",
       "      <th>View Label</th>\n",
       "      <th>images</th>\n",
       "    </tr>\n",
       "  </thead>\n",
       "  <tbody>\n",
       "    <tr>\n",
       "      <th>0</th>\n",
       "      <td>NaN</td>\n",
       "      <td>2019-02-06T08:35:37.000Z</td>\n",
       "      <td>alberto.galet@gmail.com</td>\n",
       "      <td>cjrsurb5r9p7w0anvd23j1pgg</td>\n",
       "      <td>Test2 AlphaPilot #2</td>\n",
       "      <td>datasets/Data_Training/IMG_0015.JPG</td>\n",
       "      <td>cjrsxucjqqkbd0b47j8vcjsua</td>\n",
       "      <td>{'Outer Border': [{'geometry': 'POLYGON ((997 ...</td>\n",
       "      <td>https://storage.googleapis.com/labelbox-193903...</td>\n",
       "      <td>Test2 AlphaPilot</td>\n",
       "      <td>[]</td>\n",
       "      <td>33.832</td>\n",
       "      <td>https://image-segmentation-v4.labelbox.com?pro...</td>\n",
       "      <td>IMG_0015.JPG</td>\n",
       "    </tr>\n",
       "    <tr>\n",
       "      <th>1</th>\n",
       "      <td>NaN</td>\n",
       "      <td>2019-02-06T08:36:22.000Z</td>\n",
       "      <td>alberto.galet@gmail.com</td>\n",
       "      <td>cjrsurb5v9p800anv2xkrhfkw</td>\n",
       "      <td>Test2 AlphaPilot #2</td>\n",
       "      <td>datasets/Data_Training/IMG_0158.JPG</td>\n",
       "      <td>cjrsxvb54qkw90b47dwa8uupg</td>\n",
       "      <td>{'Outer Border': [{'geometry': 'POLYGON ((894 ...</td>\n",
       "      <td>https://storage.googleapis.com/labelbox-193903...</td>\n",
       "      <td>Test2 AlphaPilot</td>\n",
       "      <td>[]</td>\n",
       "      <td>44.299</td>\n",
       "      <td>https://image-segmentation-v4.labelbox.com?pro...</td>\n",
       "      <td>IMG_0158.JPG</td>\n",
       "    </tr>\n",
       "    <tr>\n",
       "      <th>2</th>\n",
       "      <td>NaN</td>\n",
       "      <td>2019-02-06T08:36:55.000Z</td>\n",
       "      <td>alberto.galet@gmail.com</td>\n",
       "      <td>cjrsurb5v9p840anv7ly4rt5s</td>\n",
       "      <td>Test2 AlphaPilot #2</td>\n",
       "      <td>datasets/Data_Training/IMG_0244.JPG</td>\n",
       "      <td>cjrsxw0feqs9n08984nfshogi</td>\n",
       "      <td>{'Outer Border': [{'geometry': 'POLYGON ((848 ...</td>\n",
       "      <td>https://storage.googleapis.com/labelbox-193903...</td>\n",
       "      <td>Test2 AlphaPilot</td>\n",
       "      <td>[]</td>\n",
       "      <td>31.955</td>\n",
       "      <td>https://image-segmentation-v4.labelbox.com?pro...</td>\n",
       "      <td>IMG_0244.JPG</td>\n",
       "    </tr>\n",
       "    <tr>\n",
       "      <th>3</th>\n",
       "      <td>NaN</td>\n",
       "      <td>2019-02-07T02:17:15.000Z</td>\n",
       "      <td>alberto.galet@gmail.com</td>\n",
       "      <td>cjrsurb5v9p880anvyjs4m1oj</td>\n",
       "      <td>Test2 AlphaPilot #2</td>\n",
       "      <td>datasets/Data_Training/IMG_0367.JPG</td>\n",
       "      <td>cjrtzrm18i8ga08983qewu7rq</td>\n",
       "      <td>{'Outer Border': [{'geometry': 'POLYGON ((597 ...</td>\n",
       "      <td>https://storage.googleapis.com/labelbox-193903...</td>\n",
       "      <td>Test2 AlphaPilot</td>\n",
       "      <td>[]</td>\n",
       "      <td>39.032</td>\n",
       "      <td>https://image-segmentation-v4.labelbox.com?pro...</td>\n",
       "      <td>IMG_0367.JPG</td>\n",
       "    </tr>\n",
       "    <tr>\n",
       "      <th>4</th>\n",
       "      <td>NaN</td>\n",
       "      <td>2019-02-07T02:18:01.000Z</td>\n",
       "      <td>alberto.galet@gmail.com</td>\n",
       "      <td>cjrsurb5v9p8c0anvcve1d63y</td>\n",
       "      <td>Test2 AlphaPilot #2</td>\n",
       "      <td>datasets/Data_Training/IMG_0374.JPG</td>\n",
       "      <td>cjrtzslxpi69j0b4753lkl3ju</td>\n",
       "      <td>{'Outer Border': [{'geometry': 'POLYGON ((359 ...</td>\n",
       "      <td>https://storage.googleapis.com/labelbox-193903...</td>\n",
       "      <td>Test2 AlphaPilot</td>\n",
       "      <td>[]</td>\n",
       "      <td>46.003</td>\n",
       "      <td>https://image-segmentation-v4.labelbox.com?pro...</td>\n",
       "      <td>IMG_0374.JPG</td>\n",
       "    </tr>\n",
       "  </tbody>\n",
       "</table>\n",
       "</div>"
      ],
      "text/plain": [
       "   Agreement                Created At               Created By  \\\n",
       "0        NaN  2019-02-06T08:35:37.000Z  alberto.galet@gmail.com   \n",
       "1        NaN  2019-02-06T08:36:22.000Z  alberto.galet@gmail.com   \n",
       "2        NaN  2019-02-06T08:36:55.000Z  alberto.galet@gmail.com   \n",
       "3        NaN  2019-02-07T02:17:15.000Z  alberto.galet@gmail.com   \n",
       "4        NaN  2019-02-07T02:18:01.000Z  alberto.galet@gmail.com   \n",
       "\n",
       "                  DataRow ID         Dataset Name  \\\n",
       "0  cjrsurb5r9p7w0anvd23j1pgg  Test2 AlphaPilot #2   \n",
       "1  cjrsurb5v9p800anv2xkrhfkw  Test2 AlphaPilot #2   \n",
       "2  cjrsurb5v9p840anv7ly4rt5s  Test2 AlphaPilot #2   \n",
       "3  cjrsurb5v9p880anvyjs4m1oj  Test2 AlphaPilot #2   \n",
       "4  cjrsurb5v9p8c0anvcve1d63y  Test2 AlphaPilot #2   \n",
       "\n",
       "                           External ID                         ID  \\\n",
       "0  datasets/Data_Training/IMG_0015.JPG  cjrsxucjqqkbd0b47j8vcjsua   \n",
       "1  datasets/Data_Training/IMG_0158.JPG  cjrsxvb54qkw90b47dwa8uupg   \n",
       "2  datasets/Data_Training/IMG_0244.JPG  cjrsxw0feqs9n08984nfshogi   \n",
       "3  datasets/Data_Training/IMG_0367.JPG  cjrtzrm18i8ga08983qewu7rq   \n",
       "4  datasets/Data_Training/IMG_0374.JPG  cjrtzslxpi69j0b4753lkl3ju   \n",
       "\n",
       "                                               Label  \\\n",
       "0  {'Outer Border': [{'geometry': 'POLYGON ((997 ...   \n",
       "1  {'Outer Border': [{'geometry': 'POLYGON ((894 ...   \n",
       "2  {'Outer Border': [{'geometry': 'POLYGON ((848 ...   \n",
       "3  {'Outer Border': [{'geometry': 'POLYGON ((597 ...   \n",
       "4  {'Outer Border': [{'geometry': 'POLYGON ((359 ...   \n",
       "\n",
       "                                        Labeled Data      Project Name  \\\n",
       "0  https://storage.googleapis.com/labelbox-193903...  Test2 AlphaPilot   \n",
       "1  https://storage.googleapis.com/labelbox-193903...  Test2 AlphaPilot   \n",
       "2  https://storage.googleapis.com/labelbox-193903...  Test2 AlphaPilot   \n",
       "3  https://storage.googleapis.com/labelbox-193903...  Test2 AlphaPilot   \n",
       "4  https://storage.googleapis.com/labelbox-193903...  Test2 AlphaPilot   \n",
       "\n",
       "  Reviews  Seconds to Label  \\\n",
       "0      []            33.832   \n",
       "1      []            44.299   \n",
       "2      []            31.955   \n",
       "3      []            39.032   \n",
       "4      []            46.003   \n",
       "\n",
       "                                          View Label        images  \n",
       "0  https://image-segmentation-v4.labelbox.com?pro...  IMG_0015.JPG  \n",
       "1  https://image-segmentation-v4.labelbox.com?pro...  IMG_0158.JPG  \n",
       "2  https://image-segmentation-v4.labelbox.com?pro...  IMG_0244.JPG  \n",
       "3  https://image-segmentation-v4.labelbox.com?pro...  IMG_0367.JPG  \n",
       "4  https://image-segmentation-v4.labelbox.com?pro...  IMG_0374.JPG  "
      ]
     },
     "execution_count": 6,
     "metadata": {},
     "output_type": "execute_result"
    }
   ],
   "source": [
    "df.head()"
   ]
  },
  {
   "cell_type": "code",
   "execution_count": 7,
   "metadata": {},
   "outputs": [
    {
     "data": {
      "text/html": [
       "<div>\n",
       "<style scoped>\n",
       "    .dataframe tbody tr th:only-of-type {\n",
       "        vertical-align: middle;\n",
       "    }\n",
       "\n",
       "    .dataframe tbody tr th {\n",
       "        vertical-align: top;\n",
       "    }\n",
       "\n",
       "    .dataframe thead th {\n",
       "        text-align: right;\n",
       "    }\n",
       "</style>\n",
       "<table border=\"1\" class=\"dataframe\">\n",
       "  <thead>\n",
       "    <tr style=\"text-align: right;\">\n",
       "      <th></th>\n",
       "      <th>Agreement</th>\n",
       "      <th>Created At</th>\n",
       "      <th>Created By</th>\n",
       "      <th>DataRow ID</th>\n",
       "      <th>Dataset Name</th>\n",
       "      <th>External ID</th>\n",
       "      <th>ID</th>\n",
       "      <th>Label</th>\n",
       "      <th>Labeled Data</th>\n",
       "      <th>Project Name</th>\n",
       "      <th>Reviews</th>\n",
       "      <th>Seconds to Label</th>\n",
       "      <th>View Label</th>\n",
       "      <th>images</th>\n",
       "      <th>img_path</th>\n",
       "      <th>raw_inner_poly</th>\n",
       "    </tr>\n",
       "  </thead>\n",
       "  <tbody>\n",
       "    <tr>\n",
       "      <th>0</th>\n",
       "      <td>NaN</td>\n",
       "      <td>2019-02-06T08:35:37.000Z</td>\n",
       "      <td>alberto.galet@gmail.com</td>\n",
       "      <td>cjrsurb5r9p7w0anvd23j1pgg</td>\n",
       "      <td>Test2 AlphaPilot #2</td>\n",
       "      <td>datasets/Data_Training/IMG_0015.JPG</td>\n",
       "      <td>cjrsxucjqqkbd0b47j8vcjsua</td>\n",
       "      <td>{'Outer Border': [{'geometry': 'POLYGON ((997 ...</td>\n",
       "      <td>https://storage.googleapis.com/labelbox-193903...</td>\n",
       "      <td>Test2 AlphaPilot</td>\n",
       "      <td>[]</td>\n",
       "      <td>33.832</td>\n",
       "      <td>https://image-segmentation-v4.labelbox.com?pro...</td>\n",
       "      <td>IMG_0015.JPG</td>\n",
       "      <td>datasets/Data_Training/IMG_0015.JPG</td>\n",
       "      <td>[504, 191, 902, 177, 915, 580, 495, 584]</td>\n",
       "    </tr>\n",
       "    <tr>\n",
       "      <th>1</th>\n",
       "      <td>NaN</td>\n",
       "      <td>2019-02-06T08:36:22.000Z</td>\n",
       "      <td>alberto.galet@gmail.com</td>\n",
       "      <td>cjrsurb5v9p800anv2xkrhfkw</td>\n",
       "      <td>Test2 AlphaPilot #2</td>\n",
       "      <td>datasets/Data_Training/IMG_0158.JPG</td>\n",
       "      <td>cjrsxvb54qkw90b47dwa8uupg</td>\n",
       "      <td>{'Outer Border': [{'geometry': 'POLYGON ((894 ...</td>\n",
       "      <td>https://storage.googleapis.com/labelbox-193903...</td>\n",
       "      <td>Test2 AlphaPilot</td>\n",
       "      <td>[]</td>\n",
       "      <td>44.299</td>\n",
       "      <td>https://image-segmentation-v4.labelbox.com?pro...</td>\n",
       "      <td>IMG_0158.JPG</td>\n",
       "      <td>datasets/Data_Training/IMG_0158.JPG</td>\n",
       "      <td>[454, 212, 803, 221, 808, 552, 454, 566]</td>\n",
       "    </tr>\n",
       "    <tr>\n",
       "      <th>2</th>\n",
       "      <td>NaN</td>\n",
       "      <td>2019-02-06T08:36:55.000Z</td>\n",
       "      <td>alberto.galet@gmail.com</td>\n",
       "      <td>cjrsurb5v9p840anv7ly4rt5s</td>\n",
       "      <td>Test2 AlphaPilot #2</td>\n",
       "      <td>datasets/Data_Training/IMG_0244.JPG</td>\n",
       "      <td>cjrsxw0feqs9n08984nfshogi</td>\n",
       "      <td>{'Outer Border': [{'geometry': 'POLYGON ((848 ...</td>\n",
       "      <td>https://storage.googleapis.com/labelbox-193903...</td>\n",
       "      <td>Test2 AlphaPilot</td>\n",
       "      <td>[]</td>\n",
       "      <td>31.955</td>\n",
       "      <td>https://image-segmentation-v4.labelbox.com?pro...</td>\n",
       "      <td>IMG_0244.JPG</td>\n",
       "      <td>datasets/Data_Training/IMG_0244.JPG</td>\n",
       "      <td>[590, 376, 791, 371, 794, 589, 577, 601]</td>\n",
       "    </tr>\n",
       "    <tr>\n",
       "      <th>3</th>\n",
       "      <td>NaN</td>\n",
       "      <td>2019-02-07T02:17:15.000Z</td>\n",
       "      <td>alberto.galet@gmail.com</td>\n",
       "      <td>cjrsurb5v9p880anvyjs4m1oj</td>\n",
       "      <td>Test2 AlphaPilot #2</td>\n",
       "      <td>datasets/Data_Training/IMG_0367.JPG</td>\n",
       "      <td>cjrtzrm18i8ga08983qewu7rq</td>\n",
       "      <td>{'Outer Border': [{'geometry': 'POLYGON ((597 ...</td>\n",
       "      <td>https://storage.googleapis.com/labelbox-193903...</td>\n",
       "      <td>Test2 AlphaPilot</td>\n",
       "      <td>[]</td>\n",
       "      <td>39.032</td>\n",
       "      <td>https://image-segmentation-v4.labelbox.com?pro...</td>\n",
       "      <td>IMG_0367.JPG</td>\n",
       "      <td>datasets/Data_Training/IMG_0367.JPG</td>\n",
       "      <td>[836, 385, 641, 387, 635, 582, 841, 582]</td>\n",
       "    </tr>\n",
       "    <tr>\n",
       "      <th>4</th>\n",
       "      <td>NaN</td>\n",
       "      <td>2019-02-07T02:18:01.000Z</td>\n",
       "      <td>alberto.galet@gmail.com</td>\n",
       "      <td>cjrsurb5v9p8c0anvcve1d63y</td>\n",
       "      <td>Test2 AlphaPilot #2</td>\n",
       "      <td>datasets/Data_Training/IMG_0374.JPG</td>\n",
       "      <td>cjrtzslxpi69j0b4753lkl3ju</td>\n",
       "      <td>{'Outer Border': [{'geometry': 'POLYGON ((359 ...</td>\n",
       "      <td>https://storage.googleapis.com/labelbox-193903...</td>\n",
       "      <td>Test2 AlphaPilot</td>\n",
       "      <td>[]</td>\n",
       "      <td>46.003</td>\n",
       "      <td>https://image-segmentation-v4.labelbox.com?pro...</td>\n",
       "      <td>IMG_0374.JPG</td>\n",
       "      <td>datasets/Data_Training/IMG_0374.JPG</td>\n",
       "      <td>[470, 221, 848, 231, 851, 613, 457, 609]</td>\n",
       "    </tr>\n",
       "    <tr>\n",
       "      <th>5</th>\n",
       "      <td>NaN</td>\n",
       "      <td>2019-02-07T02:18:42.000Z</td>\n",
       "      <td>alberto.galet@gmail.com</td>\n",
       "      <td>cjrsurb5v9p8g0anv2ji1v57l</td>\n",
       "      <td>Test2 AlphaPilot #2</td>\n",
       "      <td>datasets/Data_Training/IMG_0396.JPG</td>\n",
       "      <td>cjrtzth7bi7210b47l0yydz0t</td>\n",
       "      <td>{'Outer Border': [{'geometry': 'POLYGON ((567 ...</td>\n",
       "      <td>https://storage.googleapis.com/labelbox-193903...</td>\n",
       "      <td>Test2 AlphaPilot</td>\n",
       "      <td>[]</td>\n",
       "      <td>39.919</td>\n",
       "      <td>https://image-segmentation-v4.labelbox.com?pro...</td>\n",
       "      <td>IMG_0396.JPG</td>\n",
       "      <td>datasets/Data_Training/IMG_0396.JPG</td>\n",
       "      <td>[585, 338, 684, 354, 672, 523, 592, 532]</td>\n",
       "    </tr>\n",
       "    <tr>\n",
       "      <th>6</th>\n",
       "      <td>NaN</td>\n",
       "      <td>2019-02-07T02:19:13.000Z</td>\n",
       "      <td>alberto.galet@gmail.com</td>\n",
       "      <td>cjrsurb5v9p8k0anv1auzm8e0</td>\n",
       "      <td>Test2 AlphaPilot #2</td>\n",
       "      <td>datasets/Data_Training/IMG_0861.JPG</td>\n",
       "      <td>cjrtzu5bziasw0898zn0xuaez</td>\n",
       "      <td>{'Outer Border': [{'geometry': 'POLYGON ((343 ...</td>\n",
       "      <td>https://storage.googleapis.com/labelbox-193903...</td>\n",
       "      <td>Test2 AlphaPilot</td>\n",
       "      <td>[]</td>\n",
       "      <td>30.653</td>\n",
       "      <td>https://image-segmentation-v4.labelbox.com?pro...</td>\n",
       "      <td>IMG_0861.JPG</td>\n",
       "      <td>datasets/Data_Training/IMG_0861.JPG</td>\n",
       "      <td>[378, 468, 533, 480, 537, 646, 369, 646]</td>\n",
       "    </tr>\n",
       "    <tr>\n",
       "      <th>7</th>\n",
       "      <td>NaN</td>\n",
       "      <td>2019-02-07T02:19:47.000Z</td>\n",
       "      <td>alberto.galet@gmail.com</td>\n",
       "      <td>cjrsurb5v9p8o0anv56veqecf</td>\n",
       "      <td>Test2 AlphaPilot #2</td>\n",
       "      <td>datasets/Data_Training/IMG_1128.JPG</td>\n",
       "      <td>cjrtzuvrni8r10b47jq56iqvh</td>\n",
       "      <td>{'Outer Border': [{'geometry': 'POLYGON ((753 ...</td>\n",
       "      <td>https://storage.googleapis.com/labelbox-193903...</td>\n",
       "      <td>Test2 AlphaPilot</td>\n",
       "      <td>[]</td>\n",
       "      <td>33.630</td>\n",
       "      <td>https://image-segmentation-v4.labelbox.com?pro...</td>\n",
       "      <td>IMG_1128.JPG</td>\n",
       "      <td>datasets/Data_Training/IMG_1128.JPG</td>\n",
       "      <td>[509, 319, 705, 255, 705, 632, 506, 616]</td>\n",
       "    </tr>\n",
       "    <tr>\n",
       "      <th>8</th>\n",
       "      <td>NaN</td>\n",
       "      <td>2019-02-07T02:20:22.000Z</td>\n",
       "      <td>alberto.galet@gmail.com</td>\n",
       "      <td>cjrsurb5v9p8s0anvm6kjs3ge</td>\n",
       "      <td>Test2 AlphaPilot #2</td>\n",
       "      <td>datasets/Data_Training/IMG_1546.JPG</td>\n",
       "      <td>cjrtzvm6xibyq089861ts75g5</td>\n",
       "      <td>{'Outer Border': [{'geometry': 'POLYGON ((585 ...</td>\n",
       "      <td>https://storage.googleapis.com/labelbox-193903...</td>\n",
       "      <td>Test2 AlphaPilot</td>\n",
       "      <td>[]</td>\n",
       "      <td>33.653</td>\n",
       "      <td>https://image-segmentation-v4.labelbox.com?pro...</td>\n",
       "      <td>IMG_1546.JPG</td>\n",
       "      <td>datasets/Data_Training/IMG_1546.JPG</td>\n",
       "      <td>[620, 444, 756, 452, 760, 606, 623, 606]</td>\n",
       "    </tr>\n",
       "    <tr>\n",
       "      <th>9</th>\n",
       "      <td>NaN</td>\n",
       "      <td>2019-02-07T02:20:56.000Z</td>\n",
       "      <td>alberto.galet@gmail.com</td>\n",
       "      <td>cjrsurb5v9p8w0anvcfa1y38p</td>\n",
       "      <td>Test2 AlphaPilot #2</td>\n",
       "      <td>datasets/Data_Training/IMG_1580.JPG</td>\n",
       "      <td>cjrtzwcfmi9t30b47ily7qitc</td>\n",
       "      <td>{'Outer Border': [{'geometry': 'POLYGON ((471 ...</td>\n",
       "      <td>https://storage.googleapis.com/labelbox-193903...</td>\n",
       "      <td>Test2 AlphaPilot</td>\n",
       "      <td>[]</td>\n",
       "      <td>33.376</td>\n",
       "      <td>https://image-segmentation-v4.labelbox.com?pro...</td>\n",
       "      <td>IMG_1580.JPG</td>\n",
       "      <td>datasets/Data_Training/IMG_1580.JPG</td>\n",
       "      <td>[511, 433, 710, 438, 706, 630, 508, 632]</td>\n",
       "    </tr>\n",
       "  </tbody>\n",
       "</table>\n",
       "</div>"
      ],
      "text/plain": [
       "   Agreement                Created At               Created By  \\\n",
       "0        NaN  2019-02-06T08:35:37.000Z  alberto.galet@gmail.com   \n",
       "1        NaN  2019-02-06T08:36:22.000Z  alberto.galet@gmail.com   \n",
       "2        NaN  2019-02-06T08:36:55.000Z  alberto.galet@gmail.com   \n",
       "3        NaN  2019-02-07T02:17:15.000Z  alberto.galet@gmail.com   \n",
       "4        NaN  2019-02-07T02:18:01.000Z  alberto.galet@gmail.com   \n",
       "5        NaN  2019-02-07T02:18:42.000Z  alberto.galet@gmail.com   \n",
       "6        NaN  2019-02-07T02:19:13.000Z  alberto.galet@gmail.com   \n",
       "7        NaN  2019-02-07T02:19:47.000Z  alberto.galet@gmail.com   \n",
       "8        NaN  2019-02-07T02:20:22.000Z  alberto.galet@gmail.com   \n",
       "9        NaN  2019-02-07T02:20:56.000Z  alberto.galet@gmail.com   \n",
       "\n",
       "                  DataRow ID         Dataset Name  \\\n",
       "0  cjrsurb5r9p7w0anvd23j1pgg  Test2 AlphaPilot #2   \n",
       "1  cjrsurb5v9p800anv2xkrhfkw  Test2 AlphaPilot #2   \n",
       "2  cjrsurb5v9p840anv7ly4rt5s  Test2 AlphaPilot #2   \n",
       "3  cjrsurb5v9p880anvyjs4m1oj  Test2 AlphaPilot #2   \n",
       "4  cjrsurb5v9p8c0anvcve1d63y  Test2 AlphaPilot #2   \n",
       "5  cjrsurb5v9p8g0anv2ji1v57l  Test2 AlphaPilot #2   \n",
       "6  cjrsurb5v9p8k0anv1auzm8e0  Test2 AlphaPilot #2   \n",
       "7  cjrsurb5v9p8o0anv56veqecf  Test2 AlphaPilot #2   \n",
       "8  cjrsurb5v9p8s0anvm6kjs3ge  Test2 AlphaPilot #2   \n",
       "9  cjrsurb5v9p8w0anvcfa1y38p  Test2 AlphaPilot #2   \n",
       "\n",
       "                           External ID                         ID  \\\n",
       "0  datasets/Data_Training/IMG_0015.JPG  cjrsxucjqqkbd0b47j8vcjsua   \n",
       "1  datasets/Data_Training/IMG_0158.JPG  cjrsxvb54qkw90b47dwa8uupg   \n",
       "2  datasets/Data_Training/IMG_0244.JPG  cjrsxw0feqs9n08984nfshogi   \n",
       "3  datasets/Data_Training/IMG_0367.JPG  cjrtzrm18i8ga08983qewu7rq   \n",
       "4  datasets/Data_Training/IMG_0374.JPG  cjrtzslxpi69j0b4753lkl3ju   \n",
       "5  datasets/Data_Training/IMG_0396.JPG  cjrtzth7bi7210b47l0yydz0t   \n",
       "6  datasets/Data_Training/IMG_0861.JPG  cjrtzu5bziasw0898zn0xuaez   \n",
       "7  datasets/Data_Training/IMG_1128.JPG  cjrtzuvrni8r10b47jq56iqvh   \n",
       "8  datasets/Data_Training/IMG_1546.JPG  cjrtzvm6xibyq089861ts75g5   \n",
       "9  datasets/Data_Training/IMG_1580.JPG  cjrtzwcfmi9t30b47ily7qitc   \n",
       "\n",
       "                                               Label  \\\n",
       "0  {'Outer Border': [{'geometry': 'POLYGON ((997 ...   \n",
       "1  {'Outer Border': [{'geometry': 'POLYGON ((894 ...   \n",
       "2  {'Outer Border': [{'geometry': 'POLYGON ((848 ...   \n",
       "3  {'Outer Border': [{'geometry': 'POLYGON ((597 ...   \n",
       "4  {'Outer Border': [{'geometry': 'POLYGON ((359 ...   \n",
       "5  {'Outer Border': [{'geometry': 'POLYGON ((567 ...   \n",
       "6  {'Outer Border': [{'geometry': 'POLYGON ((343 ...   \n",
       "7  {'Outer Border': [{'geometry': 'POLYGON ((753 ...   \n",
       "8  {'Outer Border': [{'geometry': 'POLYGON ((585 ...   \n",
       "9  {'Outer Border': [{'geometry': 'POLYGON ((471 ...   \n",
       "\n",
       "                                        Labeled Data      Project Name  \\\n",
       "0  https://storage.googleapis.com/labelbox-193903...  Test2 AlphaPilot   \n",
       "1  https://storage.googleapis.com/labelbox-193903...  Test2 AlphaPilot   \n",
       "2  https://storage.googleapis.com/labelbox-193903...  Test2 AlphaPilot   \n",
       "3  https://storage.googleapis.com/labelbox-193903...  Test2 AlphaPilot   \n",
       "4  https://storage.googleapis.com/labelbox-193903...  Test2 AlphaPilot   \n",
       "5  https://storage.googleapis.com/labelbox-193903...  Test2 AlphaPilot   \n",
       "6  https://storage.googleapis.com/labelbox-193903...  Test2 AlphaPilot   \n",
       "7  https://storage.googleapis.com/labelbox-193903...  Test2 AlphaPilot   \n",
       "8  https://storage.googleapis.com/labelbox-193903...  Test2 AlphaPilot   \n",
       "9  https://storage.googleapis.com/labelbox-193903...  Test2 AlphaPilot   \n",
       "\n",
       "  Reviews  Seconds to Label  \\\n",
       "0      []            33.832   \n",
       "1      []            44.299   \n",
       "2      []            31.955   \n",
       "3      []            39.032   \n",
       "4      []            46.003   \n",
       "5      []            39.919   \n",
       "6      []            30.653   \n",
       "7      []            33.630   \n",
       "8      []            33.653   \n",
       "9      []            33.376   \n",
       "\n",
       "                                          View Label        images  \\\n",
       "0  https://image-segmentation-v4.labelbox.com?pro...  IMG_0015.JPG   \n",
       "1  https://image-segmentation-v4.labelbox.com?pro...  IMG_0158.JPG   \n",
       "2  https://image-segmentation-v4.labelbox.com?pro...  IMG_0244.JPG   \n",
       "3  https://image-segmentation-v4.labelbox.com?pro...  IMG_0367.JPG   \n",
       "4  https://image-segmentation-v4.labelbox.com?pro...  IMG_0374.JPG   \n",
       "5  https://image-segmentation-v4.labelbox.com?pro...  IMG_0396.JPG   \n",
       "6  https://image-segmentation-v4.labelbox.com?pro...  IMG_0861.JPG   \n",
       "7  https://image-segmentation-v4.labelbox.com?pro...  IMG_1128.JPG   \n",
       "8  https://image-segmentation-v4.labelbox.com?pro...  IMG_1546.JPG   \n",
       "9  https://image-segmentation-v4.labelbox.com?pro...  IMG_1580.JPG   \n",
       "\n",
       "                              img_path  \\\n",
       "0  datasets/Data_Training/IMG_0015.JPG   \n",
       "1  datasets/Data_Training/IMG_0158.JPG   \n",
       "2  datasets/Data_Training/IMG_0244.JPG   \n",
       "3  datasets/Data_Training/IMG_0367.JPG   \n",
       "4  datasets/Data_Training/IMG_0374.JPG   \n",
       "5  datasets/Data_Training/IMG_0396.JPG   \n",
       "6  datasets/Data_Training/IMG_0861.JPG   \n",
       "7  datasets/Data_Training/IMG_1128.JPG   \n",
       "8  datasets/Data_Training/IMG_1546.JPG   \n",
       "9  datasets/Data_Training/IMG_1580.JPG   \n",
       "\n",
       "                             raw_inner_poly  \n",
       "0  [504, 191, 902, 177, 915, 580, 495, 584]  \n",
       "1  [454, 212, 803, 221, 808, 552, 454, 566]  \n",
       "2  [590, 376, 791, 371, 794, 589, 577, 601]  \n",
       "3  [836, 385, 641, 387, 635, 582, 841, 582]  \n",
       "4  [470, 221, 848, 231, 851, 613, 457, 609]  \n",
       "5  [585, 338, 684, 354, 672, 523, 592, 532]  \n",
       "6  [378, 468, 533, 480, 537, 646, 369, 646]  \n",
       "7  [509, 319, 705, 255, 705, 632, 506, 616]  \n",
       "8  [620, 444, 756, 452, 760, 606, 623, 606]  \n",
       "9  [511, 433, 710, 438, 706, 630, 508, 632]  "
      ]
     },
     "execution_count": 7,
     "metadata": {},
     "output_type": "execute_result"
    }
   ],
   "source": [
    "#merge the our annotations and provided annotations\n",
    "df_all=pd.merge(df, raw_df, on='images')\n",
    "df_all.head(10)"
   ]
  },
  {
   "cell_type": "code",
   "execution_count": 8,
   "metadata": {},
   "outputs": [
    {
     "name": "stdout",
     "output_type": "stream",
     "text": [
      "4943\n"
     ]
    },
    {
     "data": {
      "text/html": [
       "<div>\n",
       "<style scoped>\n",
       "    .dataframe tbody tr th:only-of-type {\n",
       "        vertical-align: middle;\n",
       "    }\n",
       "\n",
       "    .dataframe tbody tr th {\n",
       "        vertical-align: top;\n",
       "    }\n",
       "\n",
       "    .dataframe thead th {\n",
       "        text-align: right;\n",
       "    }\n",
       "</style>\n",
       "<table border=\"1\" class=\"dataframe\">\n",
       "  <thead>\n",
       "    <tr style=\"text-align: right;\">\n",
       "      <th></th>\n",
       "      <th>images</th>\n",
       "      <th>img_path</th>\n",
       "      <th>Label</th>\n",
       "      <th>raw_inner_poly</th>\n",
       "      <th>outer_poly</th>\n",
       "      <th>inner_poly</th>\n",
       "      <th>outer_x_min</th>\n",
       "      <th>outer_y_min</th>\n",
       "      <th>outer_x_max</th>\n",
       "      <th>outer_y_max</th>\n",
       "      <th>inner_x_min</th>\n",
       "      <th>inner_y_min</th>\n",
       "      <th>inner_x_max</th>\n",
       "      <th>inner_y_max</th>\n",
       "      <th>class_id</th>\n",
       "    </tr>\n",
       "  </thead>\n",
       "  <tbody>\n",
       "    <tr>\n",
       "      <th>0</th>\n",
       "      <td>IMG_0015.JPG</td>\n",
       "      <td>datasets/Data_Training/IMG_0015.JPG</td>\n",
       "      <td>{'Outer Border': [{'geometry': 'POLYGON ((997 ...</td>\n",
       "      <td>[504, 191, 902, 177, 915, 580, 495, 584]</td>\n",
       "      <td></td>\n",
       "      <td></td>\n",
       "      <td></td>\n",
       "      <td></td>\n",
       "      <td></td>\n",
       "      <td></td>\n",
       "      <td></td>\n",
       "      <td></td>\n",
       "      <td></td>\n",
       "      <td></td>\n",
       "      <td></td>\n",
       "    </tr>\n",
       "    <tr>\n",
       "      <th>1</th>\n",
       "      <td>IMG_0158.JPG</td>\n",
       "      <td>datasets/Data_Training/IMG_0158.JPG</td>\n",
       "      <td>{'Outer Border': [{'geometry': 'POLYGON ((894 ...</td>\n",
       "      <td>[454, 212, 803, 221, 808, 552, 454, 566]</td>\n",
       "      <td></td>\n",
       "      <td></td>\n",
       "      <td></td>\n",
       "      <td></td>\n",
       "      <td></td>\n",
       "      <td></td>\n",
       "      <td></td>\n",
       "      <td></td>\n",
       "      <td></td>\n",
       "      <td></td>\n",
       "      <td></td>\n",
       "    </tr>\n",
       "    <tr>\n",
       "      <th>2</th>\n",
       "      <td>IMG_0244.JPG</td>\n",
       "      <td>datasets/Data_Training/IMG_0244.JPG</td>\n",
       "      <td>{'Outer Border': [{'geometry': 'POLYGON ((848 ...</td>\n",
       "      <td>[590, 376, 791, 371, 794, 589, 577, 601]</td>\n",
       "      <td></td>\n",
       "      <td></td>\n",
       "      <td></td>\n",
       "      <td></td>\n",
       "      <td></td>\n",
       "      <td></td>\n",
       "      <td></td>\n",
       "      <td></td>\n",
       "      <td></td>\n",
       "      <td></td>\n",
       "      <td></td>\n",
       "    </tr>\n",
       "    <tr>\n",
       "      <th>3</th>\n",
       "      <td>IMG_0367.JPG</td>\n",
       "      <td>datasets/Data_Training/IMG_0367.JPG</td>\n",
       "      <td>{'Outer Border': [{'geometry': 'POLYGON ((597 ...</td>\n",
       "      <td>[836, 385, 641, 387, 635, 582, 841, 582]</td>\n",
       "      <td></td>\n",
       "      <td></td>\n",
       "      <td></td>\n",
       "      <td></td>\n",
       "      <td></td>\n",
       "      <td></td>\n",
       "      <td></td>\n",
       "      <td></td>\n",
       "      <td></td>\n",
       "      <td></td>\n",
       "      <td></td>\n",
       "    </tr>\n",
       "    <tr>\n",
       "      <th>4</th>\n",
       "      <td>IMG_0374.JPG</td>\n",
       "      <td>datasets/Data_Training/IMG_0374.JPG</td>\n",
       "      <td>{'Outer Border': [{'geometry': 'POLYGON ((359 ...</td>\n",
       "      <td>[470, 221, 848, 231, 851, 613, 457, 609]</td>\n",
       "      <td></td>\n",
       "      <td></td>\n",
       "      <td></td>\n",
       "      <td></td>\n",
       "      <td></td>\n",
       "      <td></td>\n",
       "      <td></td>\n",
       "      <td></td>\n",
       "      <td></td>\n",
       "      <td></td>\n",
       "      <td></td>\n",
       "    </tr>\n",
       "  </tbody>\n",
       "</table>\n",
       "</div>"
      ],
      "text/plain": [
       "         images                             img_path  \\\n",
       "0  IMG_0015.JPG  datasets/Data_Training/IMG_0015.JPG   \n",
       "1  IMG_0158.JPG  datasets/Data_Training/IMG_0158.JPG   \n",
       "2  IMG_0244.JPG  datasets/Data_Training/IMG_0244.JPG   \n",
       "3  IMG_0367.JPG  datasets/Data_Training/IMG_0367.JPG   \n",
       "4  IMG_0374.JPG  datasets/Data_Training/IMG_0374.JPG   \n",
       "\n",
       "                                               Label  \\\n",
       "0  {'Outer Border': [{'geometry': 'POLYGON ((997 ...   \n",
       "1  {'Outer Border': [{'geometry': 'POLYGON ((894 ...   \n",
       "2  {'Outer Border': [{'geometry': 'POLYGON ((848 ...   \n",
       "3  {'Outer Border': [{'geometry': 'POLYGON ((597 ...   \n",
       "4  {'Outer Border': [{'geometry': 'POLYGON ((359 ...   \n",
       "\n",
       "                             raw_inner_poly outer_poly inner_poly outer_x_min  \\\n",
       "0  [504, 191, 902, 177, 915, 580, 495, 584]                                     \n",
       "1  [454, 212, 803, 221, 808, 552, 454, 566]                                     \n",
       "2  [590, 376, 791, 371, 794, 589, 577, 601]                                     \n",
       "3  [836, 385, 641, 387, 635, 582, 841, 582]                                     \n",
       "4  [470, 221, 848, 231, 851, 613, 457, 609]                                     \n",
       "\n",
       "  outer_y_min outer_x_max outer_y_max inner_x_min inner_y_min inner_x_max  \\\n",
       "0                                                                           \n",
       "1                                                                           \n",
       "2                                                                           \n",
       "3                                                                           \n",
       "4                                                                           \n",
       "\n",
       "  inner_y_max class_id  \n",
       "0                       \n",
       "1                       \n",
       "2                       \n",
       "3                       \n",
       "4                       "
      ]
     },
     "execution_count": 8,
     "metadata": {},
     "output_type": "execute_result"
    }
   ],
   "source": [
    "\n",
    "keep_cols=['images', 'img_path','Label','raw_inner_poly']\n",
    "df_all=df_all[keep_cols]\n",
    "df_all['outer_poly']=''\n",
    "df_all['inner_poly']=''\n",
    "df_all['outer_x_min']=''\n",
    "df_all['outer_y_min']=''\n",
    "df_all['outer_x_max']=''\n",
    "df_all['outer_y_max']=''\n",
    "df_all['inner_x_min']=''\n",
    "df_all['inner_y_min']=''\n",
    "df_all['inner_x_max']=''\n",
    "df_all['inner_y_max']=''\n",
    "df_all['class_id']= ''\n",
    "print(len(df_all))\n",
    "df_all.head()"
   ]
  },
  {
   "cell_type": "code",
   "execution_count": 9,
   "metadata": {},
   "outputs": [
    {
     "name": "stdout",
     "output_type": "stream",
     "text": [
      "raw_inner_poly [632, 437, 718, 445, 720, 580, 632, 587]\n",
      "poly [632, 437, 718, 445, 720, 580, 632, 587]\n",
      "raw_inner_poly [571, 404, 698, 425, 686, 603, 565, 601]\n",
      "poly [571, 404, 698, 425, 686, 603, 565, 601]\n"
     ]
    },
    {
     "data": {
      "image/png": "[encoded data removed]",
      "text/plain": [
       "<Figure size 432x288 with 1 Axes>"
      ]
     },
     "metadata": {
      "needs_background": "light"
     },
     "output_type": "display_data"
    }
   ],
   "source": [
    "# checking the mask from the provided GT by the organizers\n",
    "\n",
    "\n",
    "\n",
    "#processing the polygone and creating a mask\n",
    "def get_mask_raw_data(img_shape, poly,display=False):\n",
    "    output_mask = np.zeros(img_shape[:2], dtype=np.uint8)\n",
    "    print('poly',poly)\n",
    "\n",
    "    coords =  zip(*[iter(poly)] * 2) \n",
    "     \n",
    "    mask = np.zeros(img_shape[:2], dtype=np.uint8)\n",
    "    mask = PIL.Image.fromarray(mask)\n",
    "    draw = PIL.ImageDraw.Draw(mask)\n",
    "    x = []\n",
    "    y = []\n",
    "    polygons = []\n",
    "\n",
    "    for pt in coords:\n",
    "        a = (int(pt[0]), int(pt[1]))\n",
    "        polygons.append(a)\n",
    "        init_x = (int(pt[0]))\n",
    "        init_y = (int(pt[1]))\n",
    "\n",
    "        x.append(init_x)\n",
    "        y.append(init_y)\n",
    "    proc_polygons=np.vstack((x,y)).T\n",
    "    x,y,w,h = cv2.boundingRect(proc_polygons) \n",
    "    draw.polygon(xy=polygons, outline=1, fill=1)\n",
    "    mask = np.array(mask, dtype=bool)\n",
    "    if display:\n",
    "        plt.imshow(mask)\n",
    "        plt.show\n",
    "    return mask\n",
    "for i in range(444,446):#len(df)):\n",
    "\n",
    "    img=cv2.imread(df_all['img_path'][i])\n",
    "    row=img.shape[0]\n",
    "    col=img.shape[1]\n",
    "    img_shape = (row,col)\n",
    "    #outer_poly=df['Label'][i] \n",
    "    inner_poly=df_all['raw_inner_poly'][i]\n",
    "    if inner_poly:\n",
    "        print('raw_inner_poly',inner_poly)\n",
    "    #outer_mask=get_mask(img_shape,outer_poly,display=False)\n",
    "        inner_mask=get_mask_raw_data(img_shape,inner_poly,display=False)\n",
    "        inner_mask.dtype='uint8'\n",
    "    #outer_mask.dtype='uint8'\n",
    "    #final_mask=cv2.subtract(outer_mask,inner_mask)\n",
    "        plt.imshow(cv2.bitwise_and(img,img,mask=inner_mask))\n",
    "        plt.show\n",
    "    else:\n",
    "        print('polygon data corruption detected for index:', i)"
   ]
  },
  {
   "cell_type": "markdown",
   "metadata": {},
   "source": [
    "test_id=1\n",
    "test_poly=df['Label'][test_id]['Outer Border']#df['outer_poly'][1] \n"
   ]
  },
  {
   "cell_type": "code",
   "execution_count": 10,
   "metadata": {
    "scrolled": true
   },
   "outputs": [
    {
     "name": "stderr",
     "output_type": "stream",
     "text": [
      "100%|██████████| 4943/4943 [00:07<00:00, 672.17it/s]"
     ]
    },
    {
     "name": "stdout",
     "output_type": "stream",
     "text": [
      "corrupt data detected for index: 4911\n"
     ]
    },
    {
     "name": "stderr",
     "output_type": "stream",
     "text": [
      "\n"
     ]
    }
   ],
   "source": [
    "#convert the polygons into a format that can be convereted to bounding boxes \n",
    "from tqdm import tqdm\n",
    "#preprocessing our_dataset\n",
    "\n",
    "def convert_coordinates(poly):\n",
    "    proc_poly=poly[0]['geometry']\n",
    "    nums =  re.findall(r'\\d+(?:\\.\\d*)?', proc_poly.rpartition(',')[0])\n",
    "    coords =  zip(*[iter(nums)] * 2)\n",
    "    polygons = []\n",
    "    for pt in coords:\n",
    "        a = (int(pt[0]), int(pt[1]))\n",
    "        polygons.append(a)\n",
    "    \n",
    "    return polygons \n",
    "def convert_coordinates_raw(polygon):\n",
    "    poly=[]\n",
    "    polygon =  zip(*[iter(polygon)] * 2)\n",
    "    for p in polygon:\n",
    "        poly.append(p)\n",
    "    return poly\n",
    "def get_bbox(polygon):\n",
    "    polygon=polygon[0]['geometry']\n",
    "    polygon=(polygon)\n",
    "\n",
    "    polygon =  re.findall(r'\\d+(?:\\.\\d*)?', polygon)\n",
    "    polygon =  zip(*[iter(polygon)] * 2)\n",
    "    x = []\n",
    "    y = []\n",
    "    for pt in polygon:\n",
    "        init_x = (int(pt[0]))\n",
    "        init_y = (int(pt[1]))\n",
    "\n",
    "        x.append(init_x)\n",
    "        y.append(init_y)\n",
    "    polygons=np.vstack((x,y)).T\n",
    "   \n",
    "    x,y,w,h = cv2.boundingRect(polygons)\n",
    "    x_min=x\n",
    "    y_min=y\n",
    "    x_max=x+w\n",
    "    y_max=y+h\n",
    "    return x_min,y_min,x_max,y_max\n",
    "    #return x_min,x_max,y_min,y_max\n",
    "def get_bbox_raw_data(polygon):\n",
    "    polygon =  zip(*[iter(polygon)] * 2)\n",
    "    x = []\n",
    "    y = []\n",
    "    for pt in polygon:\n",
    " \n",
    "        init_x = (int(pt[0]))\n",
    "        init_y = (int(pt[1]))\n",
    "\n",
    "        x.append(init_x)\n",
    "        y.append(init_y)\n",
    "    polygons=np.vstack(((x,y))).T\n",
    "    \n",
    "    x,y,w,h = cv2.boundingRect(polygons)\n",
    "    x_min=x\n",
    "    y_min=y\n",
    "    x_max=x+w\n",
    "    y_max=y+h\n",
    "    return x_min,y_min,x_max,y_max\n",
    "    #return x_min,x_max,y_min,y_max\n",
    "for i in tqdm(range(0,len(df_all))):\n",
    "    #remove white spaces from image path\n",
    "   \n",
    "    df_all['img_path'][i]=re.sub(r\"\\s+\", \"\", df_all['img_path'][i]) # \\s matches all white spaces\n",
    "    if df_all['raw_inner_poly'][i]:\n",
    "        if df_all['Label'][i] != 'Skip':\n",
    "            outer_poly=df_all['Label'][i]['Outer Border']\n",
    "            #if len(outer_poly) !=1:\n",
    " \n",
    "            inner_poly=df_all['raw_inner_poly'][i]#df['Label'][i]['inner flyable area']\n",
    "            if inner_poly and outer_poly:\n",
    "                df_all['outer_poly'][i] = convert_coordinates(outer_poly)\n",
    "                df_all['inner_poly'][i] = convert_coordinates_raw(inner_poly)\n",
    "                    #df['inner_poly'][i] = convert_coordinates(inner_poly)\n",
    "\n",
    "                df_all['outer_x_min'][i],df_all['outer_y_min'][i], df_all['outer_x_max'][i],df_all['outer_y_max'][i]=get_bbox(outer_poly)\n",
    "                df_all['inner_x_min'][i],df_all['inner_y_min'][i], df_all['inner_x_max'][i],df_all['inner_y_max'][i]=get_bbox_raw_data(inner_poly)\n",
    "                    #df_all['outer_x_min'][i],df_all['outer_x_max'][i], df_all['outer_y_min'][i],df_all['outer_y_max'][i]=get_bbox(outer_poly)\n",
    "                    #df_all['inner_x_min'][i],df_all['inner_x_max'][i], df_all['inner_y_min'][i],df_all['inner_y_max'][i]=get_bbox_raw_data(inner_poly) \n",
    "        else:\n",
    "            print('corrupt data detected for index:', i )\n",
    "            continue\n",
    "    #df['outer_poly']= h\n",
    "   #df['inner_poly']= convert_coordinates(inner_poly)"
   ]
  },
  {
   "cell_type": "code",
   "execution_count": 11,
   "metadata": {},
   "outputs": [
    {
     "data": {
      "text/html": [
       "<div>\n",
       "<style scoped>\n",
       "    .dataframe tbody tr th:only-of-type {\n",
       "        vertical-align: middle;\n",
       "    }\n",
       "\n",
       "    .dataframe tbody tr th {\n",
       "        vertical-align: top;\n",
       "    }\n",
       "\n",
       "    .dataframe thead th {\n",
       "        text-align: right;\n",
       "    }\n",
       "</style>\n",
       "<table border=\"1\" class=\"dataframe\">\n",
       "  <thead>\n",
       "    <tr style=\"text-align: right;\">\n",
       "      <th></th>\n",
       "      <th>images</th>\n",
       "      <th>img_path</th>\n",
       "      <th>Label</th>\n",
       "      <th>raw_inner_poly</th>\n",
       "      <th>outer_poly</th>\n",
       "      <th>inner_poly</th>\n",
       "      <th>outer_x_min</th>\n",
       "      <th>outer_y_min</th>\n",
       "      <th>outer_x_max</th>\n",
       "      <th>outer_y_max</th>\n",
       "      <th>inner_x_min</th>\n",
       "      <th>inner_y_min</th>\n",
       "      <th>inner_x_max</th>\n",
       "      <th>inner_y_max</th>\n",
       "      <th>class_id</th>\n",
       "    </tr>\n",
       "  </thead>\n",
       "  <tbody>\n",
       "    <tr>\n",
       "      <th>0</th>\n",
       "      <td>IMG_0015.JPG</td>\n",
       "      <td>datasets/Data_Training/IMG_0015.JPG</td>\n",
       "      <td>{'Outer Border': [{'geometry': 'POLYGON ((997 ...</td>\n",
       "      <td>[504, 191, 902, 177, 915, 580, 495, 584]</td>\n",
       "      <td>[(997, 65), (1014, 683), (402, 673), (416, 106)]</td>\n",
       "      <td>[(504, 191), (902, 177), (915, 580), (495, 584)]</td>\n",
       "      <td>402</td>\n",
       "      <td>65</td>\n",
       "      <td>1015</td>\n",
       "      <td>684</td>\n",
       "      <td>495</td>\n",
       "      <td>177</td>\n",
       "      <td>916</td>\n",
       "      <td>585</td>\n",
       "      <td></td>\n",
       "    </tr>\n",
       "    <tr>\n",
       "      <th>1</th>\n",
       "      <td>IMG_0158.JPG</td>\n",
       "      <td>datasets/Data_Training/IMG_0158.JPG</td>\n",
       "      <td>{'Outer Border': [{'geometry': 'POLYGON ((894 ...</td>\n",
       "      <td>[454, 212, 803, 221, 808, 552, 454, 566]</td>\n",
       "      <td>[(894, 638), (375, 646), (383, 136), (882, 141)]</td>\n",
       "      <td>[(454, 212), (803, 221), (808, 552), (454, 566)]</td>\n",
       "      <td>375</td>\n",
       "      <td>136</td>\n",
       "      <td>895</td>\n",
       "      <td>647</td>\n",
       "      <td>454</td>\n",
       "      <td>212</td>\n",
       "      <td>809</td>\n",
       "      <td>567</td>\n",
       "      <td></td>\n",
       "    </tr>\n",
       "    <tr>\n",
       "      <th>2</th>\n",
       "      <td>IMG_0244.JPG</td>\n",
       "      <td>datasets/Data_Training/IMG_0244.JPG</td>\n",
       "      <td>{'Outer Border': [{'geometry': 'POLYGON ((848 ...</td>\n",
       "      <td>[590, 376, 791, 371, 794, 589, 577, 601]</td>\n",
       "      <td>[(848, 312), (851, 649), (533, 639), (538, 328)]</td>\n",
       "      <td>[(590, 376), (791, 371), (794, 589), (577, 601)]</td>\n",
       "      <td>533</td>\n",
       "      <td>312</td>\n",
       "      <td>852</td>\n",
       "      <td>650</td>\n",
       "      <td>577</td>\n",
       "      <td>371</td>\n",
       "      <td>795</td>\n",
       "      <td>602</td>\n",
       "      <td></td>\n",
       "    </tr>\n",
       "    <tr>\n",
       "      <th>3</th>\n",
       "      <td>IMG_0367.JPG</td>\n",
       "      <td>datasets/Data_Training/IMG_0367.JPG</td>\n",
       "      <td>{'Outer Border': [{'geometry': 'POLYGON ((597 ...</td>\n",
       "      <td>[836, 385, 641, 387, 635, 582, 841, 582]</td>\n",
       "      <td>[(597, 623), (880, 627), (881, 344), (603, 346)]</td>\n",
       "      <td>[(836, 385), (641, 387), (635, 582), (841, 582)]</td>\n",
       "      <td>597</td>\n",
       "      <td>344</td>\n",
       "      <td>882</td>\n",
       "      <td>628</td>\n",
       "      <td>635</td>\n",
       "      <td>385</td>\n",
       "      <td>842</td>\n",
       "      <td>583</td>\n",
       "      <td></td>\n",
       "    </tr>\n",
       "    <tr>\n",
       "      <th>4</th>\n",
       "      <td>IMG_0374.JPG</td>\n",
       "      <td>datasets/Data_Training/IMG_0374.JPG</td>\n",
       "      <td>{'Outer Border': [{'geometry': 'POLYGON ((359 ...</td>\n",
       "      <td>[470, 221, 848, 231, 851, 613, 457, 609]</td>\n",
       "      <td>[(359, 703), (950, 711), (943, 141), (384, 128)]</td>\n",
       "      <td>[(470, 221), (848, 231), (851, 613), (457, 609)]</td>\n",
       "      <td>359</td>\n",
       "      <td>128</td>\n",
       "      <td>951</td>\n",
       "      <td>712</td>\n",
       "      <td>457</td>\n",
       "      <td>221</td>\n",
       "      <td>852</td>\n",
       "      <td>614</td>\n",
       "      <td></td>\n",
       "    </tr>\n",
       "  </tbody>\n",
       "</table>\n",
       "</div>"
      ],
      "text/plain": [
       "         images                             img_path  \\\n",
       "0  IMG_0015.JPG  datasets/Data_Training/IMG_0015.JPG   \n",
       "1  IMG_0158.JPG  datasets/Data_Training/IMG_0158.JPG   \n",
       "2  IMG_0244.JPG  datasets/Data_Training/IMG_0244.JPG   \n",
       "3  IMG_0367.JPG  datasets/Data_Training/IMG_0367.JPG   \n",
       "4  IMG_0374.JPG  datasets/Data_Training/IMG_0374.JPG   \n",
       "\n",
       "                                               Label  \\\n",
       "0  {'Outer Border': [{'geometry': 'POLYGON ((997 ...   \n",
       "1  {'Outer Border': [{'geometry': 'POLYGON ((894 ...   \n",
       "2  {'Outer Border': [{'geometry': 'POLYGON ((848 ...   \n",
       "3  {'Outer Border': [{'geometry': 'POLYGON ((597 ...   \n",
       "4  {'Outer Border': [{'geometry': 'POLYGON ((359 ...   \n",
       "\n",
       "                             raw_inner_poly  \\\n",
       "0  [504, 191, 902, 177, 915, 580, 495, 584]   \n",
       "1  [454, 212, 803, 221, 808, 552, 454, 566]   \n",
       "2  [590, 376, 791, 371, 794, 589, 577, 601]   \n",
       "3  [836, 385, 641, 387, 635, 582, 841, 582]   \n",
       "4  [470, 221, 848, 231, 851, 613, 457, 609]   \n",
       "\n",
       "                                         outer_poly  \\\n",
       "0  [(997, 65), (1014, 683), (402, 673), (416, 106)]   \n",
       "1  [(894, 638), (375, 646), (383, 136), (882, 141)]   \n",
       "2  [(848, 312), (851, 649), (533, 639), (538, 328)]   \n",
       "3  [(597, 623), (880, 627), (881, 344), (603, 346)]   \n",
       "4  [(359, 703), (950, 711), (943, 141), (384, 128)]   \n",
       "\n",
       "                                         inner_poly outer_x_min outer_y_min  \\\n",
       "0  [(504, 191), (902, 177), (915, 580), (495, 584)]         402          65   \n",
       "1  [(454, 212), (803, 221), (808, 552), (454, 566)]         375         136   \n",
       "2  [(590, 376), (791, 371), (794, 589), (577, 601)]         533         312   \n",
       "3  [(836, 385), (641, 387), (635, 582), (841, 582)]         597         344   \n",
       "4  [(470, 221), (848, 231), (851, 613), (457, 609)]         359         128   \n",
       "\n",
       "  outer_x_max outer_y_max inner_x_min inner_y_min inner_x_max inner_y_max  \\\n",
       "0        1015         684         495         177         916         585   \n",
       "1         895         647         454         212         809         567   \n",
       "2         852         650         577         371         795         602   \n",
       "3         882         628         635         385         842         583   \n",
       "4         951         712         457         221         852         614   \n",
       "\n",
       "  class_id  \n",
       "0           \n",
       "1           \n",
       "2           \n",
       "3           \n",
       "4           "
      ]
     },
     "execution_count": 11,
     "metadata": {},
     "output_type": "execute_result"
    }
   ],
   "source": [
    "df_all.reset_index(drop=True, inplace=True)\n",
    "df_all.head()"
   ]
  },
  {
   "cell_type": "code",
   "execution_count": null,
   "metadata": {},
   "outputs": [],
   "source": []
  },
  {
   "cell_type": "code",
   "execution_count": 12,
   "metadata": {},
   "outputs": [
    {
     "name": "stderr",
     "output_type": "stream",
     "text": [
      "/home/shrek/anaconda3/envs/pytorch/lib/python3.6/site-packages/ipykernel_launcher.py:6: SettingWithCopyWarning: \n",
      "A value is trying to be set on a copy of a slice from a DataFrame.\n",
      "Try using .loc[row_indexer,col_indexer] = value instead\n",
      "\n",
      "See the caveats in the documentation: http://pandas.pydata.org/pandas-docs/stable/indexing.html#indexing-view-versus-copy\n",
      "  \n",
      "/home/shrek/anaconda3/envs/pytorch/lib/python3.6/site-packages/ipykernel_launcher.py:7: SettingWithCopyWarning: \n",
      "A value is trying to be set on a copy of a slice from a DataFrame.\n",
      "Try using .loc[row_indexer,col_indexer] = value instead\n",
      "\n",
      "See the caveats in the documentation: http://pandas.pydata.org/pandas-docs/stable/indexing.html#indexing-view-versus-copy\n",
      "  import sys\n"
     ]
    },
    {
     "data": {
      "text/html": [
       "<div>\n",
       "<style scoped>\n",
       "    .dataframe tbody tr th:only-of-type {\n",
       "        vertical-align: middle;\n",
       "    }\n",
       "\n",
       "    .dataframe tbody tr th {\n",
       "        vertical-align: top;\n",
       "    }\n",
       "\n",
       "    .dataframe thead th {\n",
       "        text-align: right;\n",
       "    }\n",
       "</style>\n",
       "<table border=\"1\" class=\"dataframe\">\n",
       "  <thead>\n",
       "    <tr style=\"text-align: right;\">\n",
       "      <th></th>\n",
       "      <th>img_path</th>\n",
       "      <th>outer_x_min</th>\n",
       "      <th>outer_y_min</th>\n",
       "      <th>outer_x_max</th>\n",
       "      <th>outer_y_max</th>\n",
       "      <th>outer_poly</th>\n",
       "      <th>class_id_x</th>\n",
       "      <th>inner_x_min</th>\n",
       "      <th>inner_y_min</th>\n",
       "      <th>inner_x_max</th>\n",
       "      <th>inner_y_max</th>\n",
       "      <th>inner_poly</th>\n",
       "      <th>class_id_y</th>\n",
       "    </tr>\n",
       "  </thead>\n",
       "  <tbody>\n",
       "    <tr>\n",
       "      <th>0</th>\n",
       "      <td>datasets/Data_Training/IMG_0015.JPG</td>\n",
       "      <td>402</td>\n",
       "      <td>65</td>\n",
       "      <td>1015</td>\n",
       "      <td>684</td>\n",
       "      <td>[(997, 65), (1014, 683), (402, 673), (416, 106)]</td>\n",
       "      <td>0</td>\n",
       "      <td>495</td>\n",
       "      <td>177</td>\n",
       "      <td>916</td>\n",
       "      <td>585</td>\n",
       "      <td>[(504, 191), (902, 177), (915, 580), (495, 584)]</td>\n",
       "      <td>1</td>\n",
       "    </tr>\n",
       "    <tr>\n",
       "      <th>1</th>\n",
       "      <td>datasets/Data_Training/IMG_0158.JPG</td>\n",
       "      <td>375</td>\n",
       "      <td>136</td>\n",
       "      <td>895</td>\n",
       "      <td>647</td>\n",
       "      <td>[(894, 638), (375, 646), (383, 136), (882, 141)]</td>\n",
       "      <td>0</td>\n",
       "      <td>454</td>\n",
       "      <td>212</td>\n",
       "      <td>809</td>\n",
       "      <td>567</td>\n",
       "      <td>[(454, 212), (803, 221), (808, 552), (454, 566)]</td>\n",
       "      <td>1</td>\n",
       "    </tr>\n",
       "    <tr>\n",
       "      <th>2</th>\n",
       "      <td>datasets/Data_Training/IMG_0244.JPG</td>\n",
       "      <td>533</td>\n",
       "      <td>312</td>\n",
       "      <td>852</td>\n",
       "      <td>650</td>\n",
       "      <td>[(848, 312), (851, 649), (533, 639), (538, 328)]</td>\n",
       "      <td>0</td>\n",
       "      <td>577</td>\n",
       "      <td>371</td>\n",
       "      <td>795</td>\n",
       "      <td>602</td>\n",
       "      <td>[(590, 376), (791, 371), (794, 589), (577, 601)]</td>\n",
       "      <td>1</td>\n",
       "    </tr>\n",
       "    <tr>\n",
       "      <th>3</th>\n",
       "      <td>datasets/Data_Training/IMG_0367.JPG</td>\n",
       "      <td>597</td>\n",
       "      <td>344</td>\n",
       "      <td>882</td>\n",
       "      <td>628</td>\n",
       "      <td>[(597, 623), (880, 627), (881, 344), (603, 346)]</td>\n",
       "      <td>0</td>\n",
       "      <td>635</td>\n",
       "      <td>385</td>\n",
       "      <td>842</td>\n",
       "      <td>583</td>\n",
       "      <td>[(836, 385), (641, 387), (635, 582), (841, 582)]</td>\n",
       "      <td>1</td>\n",
       "    </tr>\n",
       "    <tr>\n",
       "      <th>4</th>\n",
       "      <td>datasets/Data_Training/IMG_0374.JPG</td>\n",
       "      <td>359</td>\n",
       "      <td>128</td>\n",
       "      <td>951</td>\n",
       "      <td>712</td>\n",
       "      <td>[(359, 703), (950, 711), (943, 141), (384, 128)]</td>\n",
       "      <td>0</td>\n",
       "      <td>457</td>\n",
       "      <td>221</td>\n",
       "      <td>852</td>\n",
       "      <td>614</td>\n",
       "      <td>[(470, 221), (848, 231), (851, 613), (457, 609)]</td>\n",
       "      <td>1</td>\n",
       "    </tr>\n",
       "  </tbody>\n",
       "</table>\n",
       "</div>"
      ],
      "text/plain": [
       "                              img_path outer_x_min outer_y_min outer_x_max  \\\n",
       "0  datasets/Data_Training/IMG_0015.JPG         402          65        1015   \n",
       "1  datasets/Data_Training/IMG_0158.JPG         375         136         895   \n",
       "2  datasets/Data_Training/IMG_0244.JPG         533         312         852   \n",
       "3  datasets/Data_Training/IMG_0367.JPG         597         344         882   \n",
       "4  datasets/Data_Training/IMG_0374.JPG         359         128         951   \n",
       "\n",
       "  outer_y_max                                        outer_poly  class_id_x  \\\n",
       "0         684  [(997, 65), (1014, 683), (402, 673), (416, 106)]           0   \n",
       "1         647  [(894, 638), (375, 646), (383, 136), (882, 141)]           0   \n",
       "2         650  [(848, 312), (851, 649), (533, 639), (538, 328)]           0   \n",
       "3         628  [(597, 623), (880, 627), (881, 344), (603, 346)]           0   \n",
       "4         712  [(359, 703), (950, 711), (943, 141), (384, 128)]           0   \n",
       "\n",
       "  inner_x_min inner_y_min inner_x_max inner_y_max  \\\n",
       "0         495         177         916         585   \n",
       "1         454         212         809         567   \n",
       "2         577         371         795         602   \n",
       "3         635         385         842         583   \n",
       "4         457         221         852         614   \n",
       "\n",
       "                                         inner_poly  class_id_y  \n",
       "0  [(504, 191), (902, 177), (915, 580), (495, 584)]           1  \n",
       "1  [(454, 212), (803, 221), (808, 552), (454, 566)]           1  \n",
       "2  [(590, 376), (791, 371), (794, 589), (577, 601)]           1  \n",
       "3  [(836, 385), (641, 387), (635, 582), (841, 582)]           1  \n",
       "4  [(470, 221), (848, 231), (851, 613), (457, 609)]           1  "
      ]
     },
     "execution_count": 12,
     "metadata": {},
     "output_type": "execute_result"
    }
   ],
   "source": [
    "#keep only filed required by yolov3. Divide the dataframe into outer and inner bounding boxes and then assign a class to each one of them \n",
    "keep_cols_outer=['img_path', 'outer_x_min', 'outer_y_min', 'outer_x_max', 'outer_y_max','outer_poly','class_id']\n",
    "keep_cols_inner=['img_path', 'inner_x_min', 'inner_y_min', 'inner_x_max', 'inner_y_max', 'inner_poly','class_id']\n",
    "df_outer=df_all[keep_cols_outer]\n",
    "df_inner=df_all[keep_cols_inner]\n",
    "df_outer['class_id']=0\n",
    "df_inner['class_id']=1\n",
    "df_enet=pd.merge(df_outer, df_inner, on='img_path')\n",
    "df_enet.head()"
   ]
  },
  {
   "cell_type": "code",
   "execution_count": 13,
   "metadata": {},
   "outputs": [
    {
     "name": "stderr",
     "output_type": "stream",
     "text": [
      "\r",
      "  0%|          | 0/4943 [00:00<?, ?it/s]"
     ]
    },
    {
     "name": "stdout",
     "output_type": "stream",
     "text": [
      "0\n",
      "outer_poly [(997, 65), (1014, 683), (402, 673), (416, 106)]\n"
     ]
    },
    {
     "name": "stderr",
     "output_type": "stream",
     "text": [
      "\r",
      "  0%|          | 3/4943 [00:00<03:28, 23.70it/s]"
     ]
    },
    {
     "name": "stdout",
     "output_type": "stream",
     "text": [
      "1\n",
      "outer_poly [(894, 638), (375, 646), (383, 136), (882, 141)]\n",
      "2\n",
      "outer_poly [(848, 312), (851, 649), (533, 639), (538, 328)]\n",
      "3\n",
      "outer_poly [(597, 623), (880, 627), (881, 344), (603, 346)]\n",
      "4\n",
      "outer_poly [(359, 703), (950, 711), (943, 141), (384, 128)]\n",
      "5\n",
      "outer_poly [(567, 585), (717, 563), (719, 319), (571, 294)]\n"
     ]
    },
    {
     "name": "stderr",
     "output_type": "stream",
     "text": [
      "  0%|          | 9/4943 [00:00<03:23, 24.21it/s]"
     ]
    },
    {
     "name": "stdout",
     "output_type": "stream",
     "text": [
      "6\n",
      "outer_poly [(343, 425), (337, 697), (568, 683), (570, 441)]\n",
      "7\n",
      "outer_poly [(753, 175), (472, 263), (474, 665), (761, 732)]\n",
      "8\n",
      "outer_poly [(585, 391), (580, 647), (806, 643), (807, 406)]\n",
      "9\n",
      "outer_poly [(471, 383), (465, 679), (757, 676), (756, 392)]\n",
      "10\n",
      "outer_poly [(286, 107), (257, 753), (943, 736), (903, 113)]\n"
     ]
    },
    {
     "name": "stderr",
     "output_type": "stream",
     "text": [
      "  0%|          | 15/4943 [00:00<03:19, 24.66it/s]"
     ]
    },
    {
     "name": "stdout",
     "output_type": "stream",
     "text": [
      "11\n",
      "outer_poly [(439, 469), (439, 710), (677, 706), (669, 449)]\n",
      "12\n",
      "outer_poly [(859, 590), (648, 592), (648, 376), (856, 375)]\n",
      "13\n",
      "outer_poly [(753, 71), (442, 211), (446, 653), (763, 728)]\n",
      "14\n",
      "outer_poly [(575, 223), (946, 231), (947, 601), (580, 613)]\n",
      "15\n",
      "outer_poly [(751, 165), (504, 254), (504, 630), (759, 681)]\n",
      "16\n"
     ]
    },
    {
     "name": "stderr",
     "output_type": "stream",
     "text": [
      "\r",
      "  0%|          | 18/4943 [00:00<03:17, 24.88it/s]"
     ]
    },
    {
     "name": "stdout",
     "output_type": "stream",
     "text": [
      "outer_poly [(399, 115), (1037, 39), (1031, 781), (408, 714)]\n",
      "17\n",
      "outer_poly [(437, 298), (794, 224), (799, 756), (434, 709)]\n",
      "18\n",
      "outer_poly [(514, 423), (375, 438), (376, 626), (515, 634)]\n",
      "19\n",
      "outer_poly [(418, 317), (418, 731), (674, 806), (663, 199)]\n",
      "20\n",
      "outer_poly [(491, 379), (414, 406), (415, 620), (494, 635)]\n"
     ]
    },
    {
     "name": "stderr",
     "output_type": "stream",
     "text": [
      "\r",
      "  0%|          | 21/4943 [00:00<03:14, 25.34it/s]"
     ]
    },
    {
     "name": "stdout",
     "output_type": "stream",
     "text": [
      "21\n",
      "outer_poly [(602, 235), (782, 300), (785, 612), (603, 646)]\n"
     ]
    },
    {
     "name": "stderr",
     "output_type": "stream",
     "text": [
      "\r",
      "  0%|          | 24/4943 [00:00<03:10, 25.84it/s]"
     ]
    },
    {
     "name": "stdout",
     "output_type": "stream",
     "text": [
      "22\n",
      "outer_poly [(360, 88), (971, 136), (984, 740), (342, 762)]\n",
      "23\n",
      "outer_poly [(472, 338), (726, 338), (727, 594), (470, 594)]\n",
      "24\n",
      "outer_poly [(741, 316), (571, 342), (572, 565), (746, 573)]\n",
      "25\n",
      "outer_poly [(558, 301), (765, 365), (768, 677), (559, 700)]\n",
      "26\n"
     ]
    },
    {
     "name": "stderr",
     "output_type": "stream",
     "text": [
      "\r",
      "  1%|          | 27/4943 [00:01<03:14, 25.24it/s]"
     ]
    },
    {
     "name": "stdout",
     "output_type": "stream",
     "text": [
      "outer_poly [(513, 255), (755, 339), (760, 693), (511, 724)]\n",
      "27\n"
     ]
    },
    {
     "name": "stderr",
     "output_type": "stream",
     "text": [
      "\r",
      "  1%|          | 30/4943 [00:01<03:26, 23.77it/s]"
     ]
    },
    {
     "name": "stdout",
     "output_type": "stream",
     "text": [
      "outer_poly [(696, 287), (562, 369), (565, 682), (706, 705)]\n",
      "28\n",
      "outer_poly [(749, 160), (554, 304), (559, 704), (772, 752)]\n",
      "29\n",
      "outer_poly [(704, 378), (458, 366), (454, 627), (705, 625)]\n",
      "30\n",
      "outer_poly [(955, 655), (441, 655), (448, 176), (931, 137)]\n",
      "31\n",
      "outer_poly [(633, 366), (882, 372), (886, 624), (632, 624)]\n"
     ]
    },
    {
     "name": "stderr",
     "output_type": "stream",
     "text": [
      "\r",
      "  1%|          | 33/4943 [00:01<03:32, 23.08it/s]"
     ]
    },
    {
     "name": "stdout",
     "output_type": "stream",
     "text": [
      "32\n",
      "outer_poly [(416, 292), (818, 252), (825, 714), (403, 698)]\n",
      "33\n",
      "outer_poly [(494, 256), (841, 214), (852, 602), (498, 602)]\n",
      "34\n",
      "outer_poly [(569, 399), (714, 352), (721, 664), (569, 654)]\n",
      "35\n",
      "outer_poly [(623, 373), (724, 316), (728, 637), (624, 626)]\n"
     ]
    },
    {
     "name": "stderr",
     "output_type": "stream",
     "text": [
      "\r",
      "  1%|          | 36/4943 [00:01<03:30, 23.34it/s]"
     ]
    },
    {
     "name": "stdout",
     "output_type": "stream",
     "text": [
      "36\n",
      "outer_poly [(749, 242), (754, 711), (430, 679), (435, 309)]\n"
     ]
    },
    {
     "name": "stderr",
     "output_type": "stream",
     "text": [
      "\r",
      "  1%|          | 39/4943 [00:01<03:31, 23.19it/s]"
     ]
    },
    {
     "name": "stdout",
     "output_type": "stream",
     "text": [
      "37\n",
      "outer_poly [(579, 427), (877, 396), (891, 733), (577, 732)]\n",
      "38\n",
      "outer_poly [(710, 426), (614, 483), (616, 731), (716, 738)]\n",
      "39\n",
      "outer_poly [(839, 814), (614, 776), (611, 309), (810, 69)]\n",
      "40\n",
      "outer_poly [(450, 141), (932, 15), (936, 726), (457, 644)]\n",
      "41\n",
      "outer_poly [(819, 22), (825, 709), (499, 612), (491, 153)]\n"
     ]
    },
    {
     "name": "stderr",
     "output_type": "stream",
     "text": [
      "  1%|          | 45/4943 [00:01<03:29, 23.42it/s]"
     ]
    },
    {
     "name": "stdout",
     "output_type": "stream",
     "text": [
      "42\n",
      "outer_poly [(666, 248), (575, 287), (578, 524), (668, 553)]\n",
      "43\n",
      "outer_poly [(794, 254), (662, 303), (663, 584), (794, 628)]\n",
      "44\n",
      "outer_poly [(850, 244), (472, 154), (463, 781), (848, 697)]\n",
      "45\n",
      "outer_poly [(527, 441), (671, 403), (679, 657), (529, 659)]\n",
      "46\n",
      "outer_poly [(842, 589), (619, 596), (622, 341), (843, 355)]\n"
     ]
    },
    {
     "name": "stderr",
     "output_type": "stream",
     "text": [
      "\r",
      "  1%|          | 48/4943 [00:02<03:34, 22.85it/s]"
     ]
    },
    {
     "name": "stdout",
     "output_type": "stream",
     "text": [
      "47\n",
      "outer_poly [(343, 724), (810, 651), (801, 111), (608, 0), (360, 0)]\n",
      "48\n",
      "outer_poly [(393, 284), (711, 325), (711, 659), (380, 665)]\n",
      "49\n",
      "outer_poly [(748, 115), (446, 219), (445, 661), (746, 767)]\n",
      "50\n",
      "outer_poly [(727, 345), (831, 326), (829, 538), (723, 521)]\n"
     ]
    },
    {
     "name": "stderr",
     "output_type": "stream",
     "text": [
      "\r",
      "  1%|          | 51/4943 [00:02<03:35, 22.65it/s]"
     ]
    },
    {
     "name": "stdout",
     "output_type": "stream",
     "text": [
      "51\n",
      "outer_poly [(784, 120), (453, 232), (455, 684), (792, 769)]\n"
     ]
    },
    {
     "name": "stderr",
     "output_type": "stream",
     "text": [
      "\r",
      "  1%|          | 54/4943 [00:02<03:37, 22.45it/s]"
     ]
    },
    {
     "name": "stdout",
     "output_type": "stream",
     "text": [
      "52\n",
      "outer_poly [(629, 718), (768, 682), (765, 350), (641, 270)]\n",
      "53\n",
      "outer_poly [(489, 388), (718, 401), (717, 642), (482, 646)]\n",
      "54\n",
      "outer_poly [(863, 103), (389, 173), (377, 652), (871, 674)]\n",
      "55\n",
      "outer_poly [(494, 263), (866, 234), (873, 639), (489, 632)]\n",
      "56\n",
      "outer_poly [(511, 337), (685, 376), (685, 623), (507, 633)]\n"
     ]
    },
    {
     "name": "stderr",
     "output_type": "stream",
     "text": [
      "  1%|          | 60/4943 [00:02<03:37, 22.47it/s]"
     ]
    },
    {
     "name": "stdout",
     "output_type": "stream",
     "text": [
      "57\n",
      "outer_poly [(531, 273), (706, 379), (710, 728), (524, 751)]\n",
      "58\n",
      "outer_poly [(380, 406), (626, 427), (629, 686), (373, 691)]\n",
      "59\n",
      "outer_poly [(427, 298), (774, 330), (784, 683), (420, 689)]\n",
      "60\n",
      "outer_poly [(307, 148), (904, 127), (933, 756), (270, 753)]\n",
      "61\n",
      "outer_poly [(469, 402), (789, 372), (806, 721), (469, 727)]\n"
     ]
    },
    {
     "name": "stderr",
     "output_type": "stream",
     "text": [
      "\r",
      "  1%|▏         | 63/4943 [00:02<03:34, 22.80it/s]"
     ]
    },
    {
     "name": "stdout",
     "output_type": "stream",
     "text": [
      "62\n",
      "outer_poly [(418, 272), (838, 258), (849, 689), (423, 693)]\n",
      "63\n",
      "outer_poly [(568, 225), (745, 272), (748, 587), (569, 635)]\n",
      "64\n",
      "outer_poly [(478, 99), (1077, 115), (1074, 705), (484, 726)]\n",
      "65\n",
      "outer_poly [(598, 270), (874, 268), (875, 546), (599, 544)]\n"
     ]
    },
    {
     "name": "stderr",
     "output_type": "stream",
     "text": [
      "\r",
      "  1%|▏         | 66/4943 [00:02<03:36, 22.55it/s]"
     ]
    },
    {
     "name": "stdout",
     "output_type": "stream",
     "text": [
      "66\n",
      "outer_poly [(533, 383), (789, 392), (791, 650), (530, 656)]\n"
     ]
    },
    {
     "name": "stderr",
     "output_type": "stream",
     "text": [
      "\r",
      "  1%|▏         | 69/4943 [00:02<03:25, 23.71it/s]"
     ]
    },
    {
     "name": "stdout",
     "output_type": "stream",
     "text": [
      "67\n",
      "outer_poly [(390, 284), (837, 273), (843, 743), (380, 736)]\n",
      "68\n",
      "outer_poly [(468, 333), (715, 338), (716, 584), (467, 586)]\n",
      "69\n",
      "outer_poly [(516, 289), (802, 268), (806, 587), (516, 580)]\n",
      "70\n",
      "outer_poly [(390, 264), (624, 206), (628, 611), (391, 586)]\n",
      "71\n",
      "outer_poly [(539, 409), (779, 427), (783, 684), (535, 689)]\n"
     ]
    },
    {
     "name": "stderr",
     "output_type": "stream",
     "text": [
      "\r",
      "  1%|▏         | 72/4943 [00:03<03:22, 24.06it/s]"
     ]
    },
    {
     "name": "stdout",
     "output_type": "stream",
     "text": [
      "72\n"
     ]
    },
    {
     "name": "stderr",
     "output_type": "stream",
     "text": [
      "\r",
      "  2%|▏         | 75/4943 [00:03<03:25, 23.73it/s]"
     ]
    },
    {
     "name": "stdout",
     "output_type": "stream",
     "text": [
      "outer_poly [(367, 383), (615, 403), (615, 659), (361, 663)]\n",
      "73\n",
      "outer_poly [(469, 400), (603, 362), (611, 613), (473, 615)]\n",
      "74\n",
      "outer_poly [(461, 440), (703, 450), (704, 693), (455, 695)]\n",
      "75\n",
      "outer_poly [(298, 149), (819, 68), (835, 702), (297, 672)]\n",
      "76\n",
      "outer_poly [(537, 301), (734, 332), (734, 560), (532, 559)]\n"
     ]
    },
    {
     "name": "stderr",
     "output_type": "stream",
     "text": [
      "  2%|▏         | 81/4943 [00:03<03:23, 23.89it/s]"
     ]
    },
    {
     "name": "stdout",
     "output_type": "stream",
     "text": [
      "77\n",
      "outer_poly [(477, 230), (768, 268), (769, 566), (471, 568)]\n",
      "78\n",
      "outer_poly [(499, 302), (850, 258), (872, 652), (500, 658)]\n",
      "79\n",
      "outer_poly [(533, 335), (745, 315), (745, 566), (529, 562)]\n",
      "80\n",
      "outer_poly [(661, 340), (808, 358), (806, 567), (658, 580)]\n",
      "81\n",
      "outer_poly [(397, 259), (658, 94), (679, 676), (396, 669)]\n"
     ]
    },
    {
     "name": "stderr",
     "output_type": "stream",
     "text": [
      "  2%|▏         | 87/4943 [00:03<03:17, 24.59it/s]"
     ]
    },
    {
     "name": "stdout",
     "output_type": "stream",
     "text": [
      "82\n",
      "outer_poly [(444, 268), (686, 317), (686, 624), (439, 653)]\n",
      "83\n",
      "outer_poly [(589, 323), (815, 337), (811, 571), (586, 575)]\n",
      "84\n",
      "outer_poly [(544, 160), (537, 768), (939, 698), (939, 233)]\n",
      "85\n",
      "outer_poly [(537, 272), (903, 291), (909, 659), (535, 669)]\n",
      "86\n",
      "outer_poly [(403, 160), (385, 742), (908, 715), (905, 214), (515, 160), (403, 147)]\n",
      "87\n"
     ]
    },
    {
     "name": "stderr",
     "output_type": "stream",
     "text": [
      "\r",
      "  2%|▏         | 90/4943 [00:03<03:25, 23.59it/s]"
     ]
    },
    {
     "name": "stdout",
     "output_type": "stream",
     "text": [
      "outer_poly [(201, 185), (688, 150), (679, 723), (198, 677)]\n",
      "88\n",
      "outer_poly [(411, 255), (732, 269), (735, 585), (408, 589)]\n",
      "89\n",
      "outer_poly [(234, 13), (831, 147), (858, 726), (171, 739)]\n",
      "90\n",
      "outer_poly [(579, 272), (890, 274), (899, 586), (589, 598)]\n",
      "91\n",
      "outer_poly [(351, 64), (977, 56), (1003, 693), (337, 700)]\n"
     ]
    },
    {
     "name": "stderr",
     "output_type": "stream",
     "text": [
      "  2%|▏         | 96/4943 [00:04<03:17, 24.50it/s]"
     ]
    },
    {
     "name": "stdout",
     "output_type": "stream",
     "text": [
      "92\n",
      "outer_poly [(459, 377), (562, 357), (564, 569), (458, 556)]\n",
      "93\n",
      "outer_poly [(567, 292), (797, 333), (801, 634), (565, 657)]\n",
      "94\n",
      "outer_poly [(589, 294), (709, 179), (713, 706), (592, 655)]\n",
      "95\n",
      "outer_poly [(592, 411), (700, 393), (705, 577), (594, 574)]\n",
      "96\n",
      "outer_poly [(530, 357), (698, 319), (700, 607), (529, 597)]\n",
      "97\n",
      "outer_poly [(477, 230), (804, 279), (807, 626), (470, 640)]\n"
     ]
    },
    {
     "name": "stderr",
     "output_type": "stream",
     "text": [
      "  2%|▏         | 102/4943 [00:04<03:21, 24.05it/s]"
     ]
    },
    {
     "name": "stdout",
     "output_type": "stream",
     "text": [
      "98\n",
      "outer_poly [(508, 213), (797, 295), (802, 656), (499, 680)]\n",
      "99\n",
      "outer_poly [(450, 295), (778, 345), (786, 692), (442, 704)]\n",
      "100\n",
      "outer_poly [(466, 404), (706, 419), (710, 670), (463, 674)]\n",
      "101\n",
      "outer_poly [(461, 473), (695, 457), (702, 713), (459, 717)]\n",
      "102\n",
      "outer_poly [(530, 355), (743, 282), (758, 665), (532, 661)]\n"
     ]
    },
    {
     "name": "stderr",
     "output_type": "stream",
     "text": [
      "  2%|▏         | 108/4943 [00:04<03:13, 24.94it/s]"
     ]
    },
    {
     "name": "stdout",
     "output_type": "stream",
     "text": [
      "103\n",
      "outer_poly [(550, 343), (697, 346), (696, 493), (549, 494)]\n",
      "104\n",
      "outer_poly [(660, 335), (843, 333), (843, 518), (660, 517)]\n",
      "105\n",
      "outer_poly [(550, 336), (860, 337), (864, 649), (550, 654)]\n",
      "106\n",
      "outer_poly [(211, 306), (496, 322), (496, 597), (210, 609)]\n",
      "107\n",
      "outer_poly [(466, 213), (974, 174), (981, 724), (465, 702)]\n",
      "108\n"
     ]
    },
    {
     "name": "stderr",
     "output_type": "stream",
     "text": [
      "\r",
      "  2%|▏         | 111/4943 [00:04<03:13, 24.92it/s]"
     ]
    },
    {
     "name": "stdout",
     "output_type": "stream",
     "text": [
      "outer_poly [(417, 227), (723, 256), (722, 578), (420, 607)]\n",
      "109\n",
      "outer_poly [(566, 260), (807, 267), (804, 509), (565, 513)]\n",
      "110\n",
      "outer_poly [(628, 268), (894, 268), (893, 534), (629, 534)]\n",
      "111\n",
      "outer_poly [(481, 262), (777, 256), (777, 557), (482, 553)]\n",
      "112\n",
      "outer_poly [(420, 304), (593, 281), (597, 545), (423, 531)]\n"
     ]
    },
    {
     "name": "stderr",
     "output_type": "stream",
     "text": [
      "  2%|▏         | 117/4943 [00:04<03:22, 23.79it/s]"
     ]
    },
    {
     "name": "stdout",
     "output_type": "stream",
     "text": [
      "113\n",
      "outer_poly [(566, 278), (637, 230), (644, 601), (569, 558)]\n",
      "114\n",
      "outer_poly [(432, 283), (857, 249), (862, 730), (428, 706)]\n",
      "115\n",
      "outer_poly [(448, 289), (446, 709), (821, 763), (810, 209)]\n",
      "116\n",
      "outer_poly [(417, 251), (835, 152), (853, 771), (421, 713)]\n",
      "117\n",
      "outer_poly [(377, 326), (676, 274), (686, 720), (379, 690)]\n"
     ]
    },
    {
     "name": "stderr",
     "output_type": "stream",
     "text": [
      "  2%|▏         | 123/4943 [00:05<03:13, 24.88it/s]"
     ]
    },
    {
     "name": "stdout",
     "output_type": "stream",
     "text": [
      "118\n",
      "outer_poly [(413, 363), (538, 339), (543, 577), (414, 566)]\n",
      "119\n",
      "outer_poly [(439, 365), (545, 346), (548, 564), (440, 555)]\n",
      "120\n",
      "outer_poly [(539, 241), (691, 312), (690, 623), (535, 654)]\n",
      "121\n",
      "outer_poly [(574, 302), (846, 277), (851, 592), (575, 584)]\n",
      "122\n",
      "outer_poly [(543, 267), (648, 187), (652, 616), (543, 581)]\n",
      "123\n",
      "outer_poly [(461, 329), (814, 367), (825, 738), (454, 755)]\n"
     ]
    },
    {
     "name": "stderr",
     "output_type": "stream",
     "text": [
      "  3%|▎         | 129/4943 [00:05<03:00, 26.62it/s]"
     ]
    },
    {
     "name": "stdout",
     "output_type": "stream",
     "text": [
      "124\n",
      "outer_poly [(378, 160), (903, 244), (928, 783), (362, 823)]\n",
      "125\n",
      "outer_poly [(326, 254), (732, 215), (738, 681), (318, 670)]\n",
      "126\n",
      "outer_poly [(465, 307), (782, 343), (787, 673), (457, 680)]\n",
      "127\n",
      "outer_poly [(313, 17), (1038, 69), (1108, 803), (251, 817)]\n",
      "128\n",
      "outer_poly [(434, 303), (817, 301), (828, 698), (421, 693)]\n",
      "129\n",
      "outer_poly [(574, 307), (751, 327), (750, 532), (572, 536)]\n"
     ]
    },
    {
     "name": "stderr",
     "output_type": "stream",
     "text": [
      "  3%|▎         | 135/4943 [00:05<03:00, 26.59it/s]"
     ]
    },
    {
     "name": "stdout",
     "output_type": "stream",
     "text": [
      "130\n",
      "outer_poly [(492, 82), (896, 196), (897, 652), (480, 699)]\n",
      "131\n",
      "outer_poly [(437, 317), (745, 287), (745, 650), (435, 636)]\n",
      "132\n",
      "outer_poly [(478, 380), (723, 356), (724, 644), (476, 637)]\n",
      "133\n",
      "outer_poly [(530, 303), (795, 399), (804, 766), (517, 778)]\n",
      "134\n",
      "outer_poly [(479, 335), (740, 302), (740, 643), (476, 627)]\n",
      "135\n",
      "outer_poly [(343, 179), (910, 152), (932, 771), (300, 750)]\n"
     ]
    },
    {
     "name": "stderr",
     "output_type": "stream",
     "text": [
      "\r",
      "  3%|▎         | 138/4943 [00:05<02:57, 27.03it/s]"
     ]
    },
    {
     "name": "stdout",
     "output_type": "stream",
     "text": [
      "136\n",
      "outer_poly [(773, 453), (777, 707), (667, 702), (664, 493)]\n",
      "137\n",
      "outer_poly [(526, 140), (758, 310), (762, 722), (506, 729)]\n",
      "138\n",
      "outer_poly [(552, 213), (1015, 229), (1010, 689), (550, 699)]\n",
      "139\n",
      "outer_poly [(735, 346), (893, 359), (890, 561), (732, 571)]\n",
      "140\n",
      "outer_poly [(440, 385), (628, 328), (631, 660), (439, 657)]\n",
      "141\n",
      "outer_poly [(527, 343), (683, 364), (683, 578), (523, 590)]\n"
     ]
    },
    {
     "name": "stderr",
     "output_type": "stream",
     "text": [
      "  3%|▎         | 145/4943 [00:05<02:52, 27.81it/s]"
     ]
    },
    {
     "name": "stdout",
     "output_type": "stream",
     "text": [
      "142\n",
      "outer_poly [(808, 43), (581, 295), (591, 760), (862, 776)]\n",
      "143\n",
      "outer_poly [(529, 301), (752, 59), (796, 773), (536, 760)]\n",
      "144\n",
      "outer_poly [(567, 291), (885, 309), (882, 627), (562, 633)]\n",
      "145\n",
      "outer_poly [(429, 337), (694, 369), (696, 652), (424, 663)]\n",
      "146\n",
      "outer_poly [(105, 111), (740, 114), (732, 741), (109, 740)]\n",
      "147\n",
      "outer_poly [(215, 103), (862, 130), (853, 743), (217, 767)]\n"
     ]
    },
    {
     "name": "stderr",
     "output_type": "stream",
     "text": [
      "  3%|▎         | 151/4943 [00:06<02:54, 27.40it/s]"
     ]
    },
    {
     "name": "stdout",
     "output_type": "stream",
     "text": [
      "148\n",
      "outer_poly [(400, 186), (938, 200), (962, 747), (368, 741)]\n",
      "149\n",
      "outer_poly [(336, 182), (846, 170), (869, 697), (311, 696)]\n",
      "150\n",
      "outer_poly [(643, 248), (945, 246), (953, 551), (644, 552)]\n",
      "151\n",
      "outer_poly [(270, 0), (241, 720), (1050, 720), (1046, 6)]\n",
      "152\n",
      "outer_poly [(400, 194), (818, 247), (815, 671), (399, 706)]\n",
      "153\n",
      "outer_poly [(260, 105), (865, 162), (856, 731), (256, 773)]\n"
     ]
    },
    {
     "name": "stderr",
     "output_type": "stream",
     "text": [
      "  3%|▎         | 157/4943 [00:06<02:53, 27.65it/s]"
     ]
    },
    {
     "name": "stdout",
     "output_type": "stream",
     "text": [
      "154\n",
      "outer_poly [(508, 282), (808, 263), (805, 607), (505, 590)]\n",
      "155\n",
      "outer_poly [(503, 282), (796, 263), (790, 601), (502, 578)]\n",
      "156\n",
      "outer_poly [(535, 332), (731, 278), (735, 625), (536, 611)]\n",
      "157\n",
      "outer_poly [(456, 259), (733, 363), (740, 741), (441, 763)]\n",
      "158\n",
      "outer_poly [(500, 443), (613, 422), (618, 607), (503, 606)]\n",
      "159\n",
      "outer_poly [(421, 326), (735, 356), (742, 678), (413, 683)]\n"
     ]
    },
    {
     "name": "stderr",
     "output_type": "stream",
     "text": [
      "  3%|▎         | 163/4943 [00:06<02:59, 26.68it/s]"
     ]
    },
    {
     "name": "stdout",
     "output_type": "stream",
     "text": [
      "160\n",
      "outer_poly [(626, 509), (694, 470), (701, 716), (631, 712)]\n",
      "161\n",
      "outer_poly [(445, 596), (830, 614), (837, 203), (434, 207)]\n",
      "162\n",
      "outer_poly [(351, 235), (831, 248), (841, 725), (348, 736)]\n",
      "163\n",
      "outer_poly [(185, 207), (611, 279), (613, 697), (177, 752)]\n",
      "164\n",
      "outer_poly [(387, 259), (724, 276), (728, 609), (387, 626)]\n",
      "165\n",
      "outer_poly [(605, 357), (668, 320), (672, 601), (608, 582)]\n"
     ]
    },
    {
     "name": "stderr",
     "output_type": "stream",
     "text": [
      "  3%|▎         | 169/4943 [00:06<02:55, 27.25it/s]"
     ]
    },
    {
     "name": "stdout",
     "output_type": "stream",
     "text": [
      "166\n",
      "outer_poly [(591, 362), (660, 329), (664, 598), (593, 581)]\n",
      "167\n",
      "outer_poly [(420, 104), (955, 161), (967, 700), (421, 745)]\n",
      "168\n",
      "outer_poly [(532, 79), (919, 172), (916, 640), (533, 731)]\n",
      "169\n",
      "outer_poly [(570, 264), (818, 280), (818, 548), (571, 563)]\n",
      "170\n",
      "outer_poly [(537, 243), (745, 181), (751, 640), (542, 585)]\n",
      "171\n",
      "outer_poly [(547, 180), (710, 282), (711, 653), (545, 719)]\n"
     ]
    },
    {
     "name": "stderr",
     "output_type": "stream",
     "text": [
      "  4%|▎         | 175/4943 [00:07<03:01, 26.20it/s]"
     ]
    },
    {
     "name": "stdout",
     "output_type": "stream",
     "text": [
      "172\n",
      "outer_poly [(511, 335), (859, 344), (864, 697), (508, 704)]\n",
      "173\n",
      "outer_poly [(537, 211), (737, 292), (736, 628), (533, 666)]\n",
      "174\n",
      "outer_poly [(401, 271), (729, 263), (732, 599), (401, 598)]\n",
      "175\n",
      "outer_poly [(403, 254), (759, 245), (762, 612), (399, 611)]\n",
      "176\n",
      "outer_poly [(500, 182), (894, 57), (905, 703), (498, 643)]\n",
      "177\n",
      "outer_poly [(437, 244), (648, 167), (651, 624), (438, 592)]\n"
     ]
    },
    {
     "name": "stderr",
     "output_type": "stream",
     "text": [
      "  4%|▎         | 181/4943 [00:07<02:59, 26.48it/s]"
     ]
    },
    {
     "name": "stdout",
     "output_type": "stream",
     "text": [
      "178\n",
      "outer_poly [(384, 167), (874, 220), (890, 708), (377, 739)]\n",
      "179\n",
      "outer_poly [(314, 61), (1005, 66), (1037, 765), (293, 777)]\n",
      "180\n",
      "outer_poly [(374, 106), (1009, 104), (1037, 752), (357, 758)]\n",
      "181\n",
      "outer_poly [(433, 387), (677, 412), (678, 666), (427, 669)]\n",
      "182\n",
      "outer_poly [(327, 81), (885, 161), (900, 716), (294, 730)]\n",
      "183\n"
     ]
    },
    {
     "name": "stderr",
     "output_type": "stream",
     "text": [
      "  4%|▍         | 187/4943 [00:07<02:58, 26.67it/s]"
     ]
    },
    {
     "name": "stdout",
     "output_type": "stream",
     "text": [
      "outer_poly [(539, 63), (807, 251), (820, 711), (537, 770)]\n",
      "184\n",
      "outer_poly [(462, 340), (794, 310), (802, 683), (458, 677)]\n",
      "185\n",
      "outer_poly [(310, 298), (731, 261), (736, 737), (302, 724)]\n",
      "186\n",
      "outer_poly [(420, 345), (719, 319), (724, 673), (415, 659)]\n",
      "187\n",
      "outer_poly [(386, 198), (879, 87), (894, 772), (378, 718)]\n",
      "188\n",
      "outer_poly [(326, 179), (891, 18), (915, 841), (317, 767)]\n"
     ]
    },
    {
     "name": "stderr",
     "output_type": "stream",
     "text": [
      "  4%|▍         | 193/4943 [00:07<02:50, 27.92it/s]"
     ]
    },
    {
     "name": "stdout",
     "output_type": "stream",
     "text": [
      "189\n",
      "outer_poly [(430, 370), (558, 299), (564, 706), (431, 675)]\n",
      "190\n",
      "outer_poly [(569, 448), (844, 441), (852, 727), (563, 727)]\n",
      "191\n",
      "outer_poly [(537, 272), (863, 111), (894, 730), (535, 709)]\n",
      "192\n",
      "outer_poly [(191, 326), (479, 334), (453, 656), (164, 624)]\n",
      "193\n",
      "outer_poly [(552, 261), (768, 224), (770, 554), (552, 533)]\n",
      "194\n",
      "outer_poly [(656, 324), (748, 295), (747, 575), (658, 545)]\n"
     ]
    },
    {
     "name": "stderr",
     "output_type": "stream",
     "text": [
      "  4%|▍         | 199/4943 [00:07<03:02, 25.98it/s]"
     ]
    },
    {
     "name": "stdout",
     "output_type": "stream",
     "text": [
      "195\n",
      "outer_poly [(481, 380), (711, 410), (714, 665), (473, 664)]\n",
      "196\n",
      "outer_poly [(488, 279), (822, 267), (822, 625), (489, 613)]\n",
      "197\n",
      "outer_poly [(783, 308), (1035, 315), (1031, 573), (779, 572)]\n",
      "198\n",
      "outer_poly [(574, 439), (727, 402), (733, 658), (577, 659)]\n",
      "199\n",
      "outer_poly [(524, 301), (733, 370), (737, 665), (515, 667)]\n"
     ]
    },
    {
     "name": "stderr",
     "output_type": "stream",
     "text": [
      "  4%|▍         | 205/4943 [00:08<02:59, 26.41it/s]"
     ]
    },
    {
     "name": "stdout",
     "output_type": "stream",
     "text": [
      "200\n",
      "outer_poly [(644, 363), (561, 417), (573, 642), (665, 640)]\n",
      "201\n",
      "outer_poly [(627, 86), (499, 284), (525, 685), (680, 688)]\n",
      "202\n",
      "outer_poly [(405, 0), (391, 864), (655, 864), (1128, 803), (1122, 86), (734, 0)]\n",
      "203\n",
      "outer_poly [(518, 121), (965, 68), (958, 577), (513, 552)]\n",
      "204\n",
      "outer_poly [(466, 684), (677, 862), (678, 91), (554, 91), (461, 175)]\n",
      "205\n",
      "outer_poly [(574, 312), (823, 323), (820, 581), (576, 586)]\n"
     ]
    },
    {
     "name": "stderr",
     "output_type": "stream",
     "text": [
      "  4%|▍         | 211/4943 [00:08<03:02, 25.86it/s]"
     ]
    },
    {
     "name": "stdout",
     "output_type": "stream",
     "text": [
      "206\n",
      "outer_poly [(423, 175), (916, 221), (910, 704), (415, 738)]\n",
      "207\n",
      "outer_poly [(450, 303), (746, 202), (766, 667), (451, 666)]\n",
      "208\n",
      "outer_poly [(682, 51), (407, 230), (402, 665), (703, 676)]\n",
      "209\n",
      "outer_poly [(522, 430), (649, 387), (654, 652), (524, 651)]\n",
      "210\n",
      "outer_poly [(680, 405), (745, 360), (756, 613), (685, 613)]\n"
     ]
    },
    {
     "name": "stderr",
     "output_type": "stream",
     "text": [
      "\r",
      "  4%|▍         | 214/4943 [00:08<02:57, 26.63it/s]"
     ]
    },
    {
     "name": "stdout",
     "output_type": "stream",
     "text": [
      "211\n",
      "outer_poly [(273, 114), (821, 170), (829, 703), (257, 730)]\n",
      "212\n",
      "outer_poly [(289, 167), (942, 174), (943, 830), (277, 829)]\n",
      "213\n",
      "outer_poly [(356, 55), (1081, 61), (1097, 812), (330, 791)]\n",
      "214\n",
      "outer_poly [(738, 315), (1001, 310), (1007, 576), (741, 576)]\n",
      "215\n",
      "outer_poly [(757, 377), (928, 367), (934, 542), (762, 544)]\n",
      "216\n",
      "outer_poly [(727, 376), (561, 380), (564, 546), (729, 542)]\n"
     ]
    },
    {
     "name": "stderr",
     "output_type": "stream",
     "text": [
      "  4%|▍         | 220/4943 [00:08<02:57, 26.63it/s]"
     ]
    },
    {
     "name": "stdout",
     "output_type": "stream",
     "text": [
      "217\n",
      "outer_poly [(291, 5), (293, 750), (1020, 744), (1037, 27), (591, 8)]\n",
      "218\n",
      "outer_poly [(524, 244), (777, 243), (775, 497), (526, 495)]\n",
      "219\n",
      "outer_poly [(498, 454), (637, 436), (639, 654), (499, 643)]\n",
      "220\n",
      "outer_poly [(507, 225), (883, 281), (888, 682), (503, 713)]\n",
      "221\n",
      "outer_poly [(558, 411), (700, 380), (702, 649), (558, 636)]\n"
     ]
    },
    {
     "name": "stderr",
     "output_type": "stream",
     "text": [
      "  5%|▍         | 226/4943 [00:08<02:56, 26.73it/s]"
     ]
    },
    {
     "name": "stdout",
     "output_type": "stream",
     "text": [
      "222\n",
      "outer_poly [(509, 312), (736, 249), (743, 637), (508, 619)]\n",
      "223\n",
      "outer_poly [(521, 356), (706, 313), (713, 618), (522, 607)]\n",
      "224\n",
      "outer_poly [(536, 12), (701, 209), (706, 650), (534, 706)]\n",
      "225\n",
      "outer_poly [(497, 338), (642, 423), (643, 727), (488, 743)]\n",
      "226\n",
      "outer_poly [(473, 280), (848, 342), (863, 744), (463, 763)]\n",
      "227\n",
      "outer_poly [(415, 231), (754, 49), (780, 740), (410, 706)]\n"
     ]
    },
    {
     "name": "stderr",
     "output_type": "stream",
     "text": [
      "  5%|▍         | 232/4943 [00:09<03:00, 26.05it/s]"
     ]
    },
    {
     "name": "stdout",
     "output_type": "stream",
     "text": [
      "228\n",
      "outer_poly [(525, 446), (669, 416), (670, 662), (522, 657)]\n",
      "229\n",
      "outer_poly [(549, 381), (721, 382), (720, 550), (549, 551)]\n",
      "230\n",
      "outer_poly [(668, 333), (850, 328), (854, 513), (671, 515)]\n",
      "231\n",
      "outer_poly [(364, 288), (747, 268), (759, 668), (369, 671)]\n",
      "232\n",
      "outer_poly [(261, 405), (466, 408), (464, 603), (260, 605)]\n"
     ]
    },
    {
     "name": "stderr",
     "output_type": "stream",
     "text": [
      "\r",
      "  5%|▍         | 235/4943 [00:09<03:11, 24.61it/s]"
     ]
    },
    {
     "name": "stdout",
     "output_type": "stream",
     "text": [
      "233\n",
      "outer_poly [(273, 109), (852, 115), (861, 687), (273, 703)]\n",
      "234\n",
      "outer_poly [(509, 223), (672, 58), (681, 774), (512, 669)]\n",
      "235\n",
      "outer_poly [(404, 192), (750, 191), (751, 532), (408, 538)]\n",
      "236\n",
      "outer_poly [(470, 214), (684, 253), (685, 544), (474, 581)]\n",
      "237\n",
      "outer_poly [(519, 202), (826, 83), (836, 753), (527, 648)]\n"
     ]
    },
    {
     "name": "stderr",
     "output_type": "stream",
     "text": [
      "  5%|▍         | 241/4943 [00:09<03:06, 25.20it/s]"
     ]
    },
    {
     "name": "stdout",
     "output_type": "stream",
     "text": [
      "238\n",
      "outer_poly [(450, 325), (882, 351), (892, 784), (446, 798)]\n",
      "239\n",
      "outer_poly [(435, 319), (790, 295), (796, 697), (432, 683)]\n",
      "240\n",
      "outer_poly [(423, 298), (773, 231), (779, 745), (421, 698)]\n",
      "241\n",
      "outer_poly [(553, 310), (554, 579), (813, 587), (808, 291)]\n",
      "242\n",
      "outer_poly [(1003, 55), (1013, 705), (605, 642), (605, 186)]\n",
      "243\n",
      "outer_poly [(358, 91), (970, 99), (978, 715), (347, 713)]\n"
     ]
    },
    {
     "name": "stderr",
     "output_type": "stream",
     "text": [
      "  5%|▍         | 247/4943 [00:09<03:14, 24.20it/s]"
     ]
    },
    {
     "name": "stdout",
     "output_type": "stream",
     "text": [
      "244\n",
      "outer_poly [(547, 162), (774, 259), (774, 634), (540, 676)]\n",
      "245\n",
      "outer_poly [(480, 279), (849, 290), (853, 658), (476, 659)]\n",
      "246\n",
      "outer_poly [(446, 356), (678, 309), (686, 667), (446, 653)]\n",
      "247\n",
      "outer_poly [(427, 54), (968, 156), (1001, 704), (411, 731)]\n",
      "248\n",
      "outer_poly [(492, 380), (742, 391), (744, 646), (487, 646)]\n"
     ]
    },
    {
     "name": "stderr",
     "output_type": "stream",
     "text": [
      "  5%|▌         | 253/4943 [00:10<03:23, 23.07it/s]"
     ]
    },
    {
     "name": "stdout",
     "output_type": "stream",
     "text": [
      "249\n",
      "outer_poly [(392, 210), (860, 240), (869, 709), (367, 712)]\n",
      "250\n",
      "outer_poly [(581, 262), (753, 240), (757, 456), (587, 456)]\n",
      "251\n",
      "outer_poly [(340, 145), (938, 158), (963, 770), (309, 769)]\n",
      "252\n",
      "outer_poly [(530, 303), (799, 268), (804, 593), (530, 587)]\n",
      "253\n",
      "outer_poly [(397, 207), (864, 49), (904, 755), (394, 722)]\n"
     ]
    },
    {
     "name": "stderr",
     "output_type": "stream",
     "text": [
      "\r",
      "  5%|▌         | 256/4943 [00:10<03:17, 23.72it/s]"
     ]
    },
    {
     "name": "stdout",
     "output_type": "stream",
     "text": [
      "254\n",
      "outer_poly [(487, 234), (797, 56), (816, 742), (483, 692)]\n",
      "255\n",
      "outer_poly [(431, 32), (906, 180), (910, 704), (411, 768)]\n",
      "256\n",
      "outer_poly [(552, 305), (737, 325), (733, 529), (547, 533)]\n",
      "257\n",
      "outer_poly [(474, 59), (723, 300), (728, 784), (441, 817)]\n",
      "258\n",
      "outer_poly [(455, 203), (913, 87), (926, 746), (450, 687)]\n"
     ]
    },
    {
     "name": "stderr",
     "output_type": "stream",
     "text": [
      "  5%|▌         | 262/4943 [00:10<03:22, 23.11it/s]"
     ]
    },
    {
     "name": "stdout",
     "output_type": "stream",
     "text": [
      "259\n",
      "outer_poly [(434, 104), (1024, 157), (1060, 751), (406, 759)]\n",
      "260\n",
      "outer_poly [(596, 435), (781, 394), (789, 690), (593, 686)]\n",
      "261\n",
      "outer_poly [(631, 396), (819, 315), (831, 711), (632, 699)]\n",
      "262\n",
      "outer_poly [(625, 395), (739, 270), (753, 759), (630, 741)]\n",
      "263\n",
      "outer_poly [(400, 158), (920, 205), (916, 714), (394, 748)]\n",
      "264\n"
     ]
    },
    {
     "name": "stderr",
     "output_type": "stream",
     "text": [
      "  5%|▌         | 268/4943 [00:10<03:24, 22.90it/s]"
     ]
    },
    {
     "name": "stdout",
     "output_type": "stream",
     "text": [
      "outer_poly [(500, 445), (645, 420), (652, 642), (496, 641)]\n",
      "265\n",
      "outer_poly [(539, 402), (683, 348), (688, 652), (540, 649)]\n",
      "266\n",
      "outer_poly [(609, 455), (723, 372), (738, 747), (614, 743)]\n",
      "267\n",
      "outer_poly [(508, 280), (659, 66), (683, 723), (511, 708)]\n",
      "268\n",
      "outer_poly [(388, 146), (965, 149), (958, 725), (385, 719)]\n"
     ]
    },
    {
     "name": "stderr",
     "output_type": "stream",
     "text": [
      "\r",
      "  5%|▌         | 271/4943 [00:10<03:26, 22.63it/s]"
     ]
    },
    {
     "name": "stdout",
     "output_type": "stream",
     "text": [
      "269\n",
      "outer_poly [(216, 202), (677, 208), (675, 662), (216, 664)]\n",
      "270\n",
      "outer_poly [(348, 209), (854, 198), (855, 719), (341, 707)]\n",
      "271\n",
      "outer_poly [(368, 145), (1002, 155), (1016, 815), (314, 795)]\n",
      "272\n",
      "outer_poly [(472, 442), (744, 441), (752, 719), (467, 722)]\n",
      "273\n",
      "outer_poly [(322, 99), (915, 76), (987, 683), (299, 704)]\n"
     ]
    },
    {
     "name": "stderr",
     "output_type": "stream",
     "text": [
      "  6%|▌         | 277/4943 [00:11<03:15, 23.86it/s]"
     ]
    },
    {
     "name": "stdout",
     "output_type": "stream",
     "text": [
      "274\n",
      "outer_poly [(353, 1), (335, 704), (1117, 714), (1106, 2)]\n",
      "275\n",
      "outer_poly [(485, 333), (843, 310), (847, 705), (476, 690)]\n",
      "276\n",
      "outer_poly [(401, 127), (779, 228), (773, 676), (391, 763)]\n",
      "277\n",
      "outer_poly [(421, 203), (838, 245), (833, 655), (416, 683)]\n",
      "278\n",
      "outer_poly [(411, 353), (553, 320), (553, 619), (412, 595)]\n",
      "279\n"
     ]
    },
    {
     "name": "stderr",
     "output_type": "stream",
     "text": [
      "  6%|▌         | 283/4943 [00:11<03:02, 25.50it/s]"
     ]
    },
    {
     "name": "stdout",
     "output_type": "stream",
     "text": [
      "outer_poly [(507, 412), (742, 396), (748, 662), (508, 658)]\n",
      "280\n",
      "outer_poly [(640, 418), (792, 395), (797, 629), (642, 620)]\n",
      "281\n",
      "outer_poly [(597, 418), (664, 395), (667, 597), (598, 588)]\n",
      "282\n",
      "outer_poly [(289, 66), (866, 112), (873, 676), (267, 684)]\n",
      "283\n",
      "outer_poly [(623, 417), (687, 380), (689, 622), (624, 617)]\n",
      "284\n",
      "outer_poly [(559, 334), (710, 334), (709, 485), (558, 484)]\n"
     ]
    },
    {
     "name": "stderr",
     "output_type": "stream",
     "text": [
      "  6%|▌         | 289/4943 [00:11<03:00, 25.73it/s]"
     ]
    },
    {
     "name": "stdout",
     "output_type": "stream",
     "text": [
      "285\n",
      "outer_poly [(547, 367), (736, 369), (737, 558), (549, 559)]\n",
      "286\n",
      "outer_poly [(433, 200), (815, 78), (829, 735), (436, 665)]\n",
      "287\n",
      "outer_poly [(257, 78), (822, 154), (831, 703), (256, 760)]\n",
      "288\n",
      "outer_poly [(572, 121), (928, 240), (930, 728), (569, 843)]\n",
      "289\n",
      "outer_poly [(507, 91), (1020, 148), (1017, 672), (515, 732)]\n",
      "290\n"
     ]
    },
    {
     "name": "stderr",
     "output_type": "stream",
     "text": [
      "  6%|▌         | 295/4943 [00:11<03:04, 25.23it/s]"
     ]
    },
    {
     "name": "stdout",
     "output_type": "stream",
     "text": [
      "outer_poly [(447, 191), (840, 220), (840, 614), (451, 641)]\n",
      "291\n",
      "outer_poly [(511, 281), (762, 277), (763, 534), (514, 531)]\n",
      "292\n",
      "outer_poly [(459, 307), (632, 283), (636, 550), (460, 534)]\n",
      "293\n",
      "outer_poly [(565, 353), (833, 355), (833, 623), (563, 622)]\n",
      "294\n",
      "outer_poly [(498, 262), (841, 230), (845, 625), (498, 609)]\n",
      "295\n",
      "outer_poly [(479, 347), (594, 324), (596, 553), (478, 543)]\n"
     ]
    },
    {
     "name": "stderr",
     "output_type": "stream",
     "text": [
      "\r",
      "  6%|▌         | 298/4943 [00:11<03:03, 25.36it/s]"
     ]
    },
    {
     "name": "stdout",
     "output_type": "stream",
     "text": [
      "296\n",
      "outer_poly [(503, 409), (754, 411), (759, 663), (500, 663)]\n",
      "297\n",
      "outer_poly [(402, 350), (695, 344), (700, 646), (400, 646)]\n",
      "298\n",
      "outer_poly [(553, 403), (715, 366), (719, 650), (555, 641)]\n",
      "299\n",
      "outer_poly [(425, 46), (993, 162), (1049, 746), (394, 768)]\n",
      "300\n",
      "outer_poly [(416, 258), (849, 63), (903, 759), (410, 759)]\n"
     ]
    },
    {
     "name": "stderr",
     "output_type": "stream",
     "text": [
      "  6%|▌         | 304/4943 [00:12<03:18, 23.39it/s]"
     ]
    },
    {
     "name": "stdout",
     "output_type": "stream",
     "text": [
      "301\n",
      "outer_poly [(397, 94), (770, 247), (776, 701), (375, 739)]\n",
      "302\n",
      "outer_poly [(465, 386), (675, 408), (673, 630), (457, 631)]\n",
      "303\n",
      "outer_poly [(621, 390), (877, 391), (885, 653), (622, 654)]\n",
      "304\n",
      "outer_poly [(550, 271), (785, 305), (788, 578), (550, 588)]\n",
      "305\n",
      "outer_poly [(564, 289), (778, 318), (781, 571), (566, 580)]\n"
     ]
    },
    {
     "name": "stderr",
     "output_type": "stream",
     "text": [
      "  6%|▋         | 310/4943 [00:12<03:26, 22.47it/s]"
     ]
    },
    {
     "name": "stdout",
     "output_type": "stream",
     "text": [
      "306\n",
      "outer_poly [(459, 211), (821, 234), (828, 598), (457, 609)]\n",
      "307\n",
      "outer_poly [(414, 233), (863, 112), (896, 729), (416, 710)]\n",
      "308\n",
      "outer_poly [(526, 453), (632, 432), (633, 649), (525, 643)]\n",
      "309\n",
      "outer_poly [(587, 222), (783, 274), (778, 559), (581, 577)]\n",
      "310\n",
      "outer_poly [(572, 278), (718, 49), (740, 802), (577, 737)]\n"
     ]
    },
    {
     "name": "stderr",
     "output_type": "stream",
     "text": [
      "  6%|▋         | 316/4943 [00:12<03:17, 23.48it/s]"
     ]
    },
    {
     "name": "stdout",
     "output_type": "stream",
     "text": [
      "311\n",
      "outer_poly [(479, 360), (717, 345), (715, 619), (475, 608)]\n",
      "312\n",
      "outer_poly [(558, 413), (721, 475), (723, 755), (551, 757)]\n",
      "313\n",
      "outer_poly [(523, 316), (677, 301), (677, 510), (521, 502)]\n",
      "314\n",
      "outer_poly [(441, 65), (1064, 147), (1105, 770), (405, 775)]\n",
      "315\n",
      "outer_poly [(521, 365), (897, 315), (920, 754), (511, 748)]\n",
      "316\n"
     ]
    },
    {
     "name": "stderr",
     "output_type": "stream",
     "text": [
      "\r",
      "  6%|▋         | 319/4943 [00:12<03:17, 23.40it/s]"
     ]
    },
    {
     "name": "stdout",
     "output_type": "stream",
     "text": [
      "outer_poly [(552, 441), (825, 419), (833, 728), (547, 724)]\n",
      "317\n",
      "outer_poly [(453, 241), (853, 91), (874, 737), (438, 713)]\n",
      "318\n",
      "outer_poly [(226, 246), (681, 245), (677, 718), (209, 709)]\n",
      "319\n",
      "outer_poly [(553, 330), (815, 187), (841, 740), (554, 726)]\n",
      "320\n",
      "outer_poly [(522, 188), (976, 125), (976, 671), (526, 625)]\n"
     ]
    },
    {
     "name": "stderr",
     "output_type": "stream",
     "text": [
      "  7%|▋         | 325/4943 [00:13<03:13, 23.86it/s]"
     ]
    },
    {
     "name": "stdout",
     "output_type": "stream",
     "text": [
      "321\n",
      "outer_poly [(527, 227), (841, 186), (841, 585), (532, 558)]\n",
      "322\n",
      "outer_poly [(605, 470), (702, 405), (709, 728), (607, 720)]\n",
      "323\n",
      "outer_poly [(514, 302), (862, 255), (880, 652), (512, 655)]\n",
      "324\n",
      "outer_poly [(589, 530), (667, 481), (677, 747), (593, 746)]\n",
      "325\n",
      "outer_poly [(590, 276), (708, 150), (721, 613), (599, 607)]\n",
      "326\n"
     ]
    },
    {
     "name": "stderr",
     "output_type": "stream",
     "text": [
      "  7%|▋         | 331/4943 [00:13<03:10, 24.23it/s]"
     ]
    },
    {
     "name": "stdout",
     "output_type": "stream",
     "text": [
      "outer_poly [(383, 17), (1071, 73), (1095, 756), (366, 783)]\n",
      "327\n",
      "outer_poly [(190, 113), (692, 226), (691, 721), (150, 758)]\n",
      "328\n",
      "outer_poly [(428, 2), (623, 112), (596, 739), (5, 847), (4, 3)]\n",
      "329\n",
      "outer_poly [(363, 213), (833, 239), (835, 699), (355, 709)]\n",
      "330\n",
      "outer_poly [(426, 194), (956, 206), (960, 745), (404, 737)]\n",
      "331\n"
     ]
    },
    {
     "name": "stderr",
     "output_type": "stream",
     "text": [
      "\r",
      "  7%|▋         | 334/4943 [00:13<03:03, 25.17it/s]"
     ]
    },
    {
     "name": "stdout",
     "output_type": "stream",
     "text": [
      "outer_poly [(611, 447), (873, 453), (870, 717), (602, 708)]\n",
      "332\n",
      "outer_poly [(346, 40), (1023, 63), (1000, 716), (349, 719)]\n",
      "333\n",
      "outer_poly [(418, 289), (742, 321), (738, 648), (409, 655)]\n",
      "334\n",
      "outer_poly [(557, 374), (791, 361), (795, 622), (559, 614)]\n",
      "335\n",
      "outer_poly [(361, 279), (820, 253), (827, 756), (349, 742)]\n",
      "336\n",
      "outer_poly [(527, 379), (751, 329), (757, 681), (526, 663)]\n"
     ]
    },
    {
     "name": "stderr",
     "output_type": "stream",
     "text": [
      "  7%|▋         | 340/4943 [00:13<03:04, 24.92it/s]"
     ]
    },
    {
     "name": "stdout",
     "output_type": "stream",
     "text": [
      "337\n",
      "outer_poly [(530, 452), (641, 432), (646, 614), (534, 614)]\n",
      "338\n",
      "outer_poly [(393, 222), (827, 279), (852, 721), (381, 737)]\n",
      "339\n",
      "outer_poly [(398, 221), (934, 158), (970, 751), (383, 755)]\n",
      "340\n",
      "outer_poly [(511, 314), (802, 219), (827, 677), (518, 671)]\n",
      "341\n",
      "outer_poly [(514, 393), (598, 348), (603, 614), (515, 610)]\n",
      "342\n"
     ]
    },
    {
     "name": "stderr",
     "output_type": "stream",
     "text": [
      "  7%|▋         | 346/4943 [00:13<02:56, 25.98it/s]"
     ]
    },
    {
     "name": "stdout",
     "output_type": "stream",
     "text": [
      "outer_poly [(422, 231), (765, 85), (797, 656), (427, 657)]\n",
      "343\n",
      "outer_poly [(439, 250), (766, 105), (805, 662), (445, 662)]\n",
      "344\n",
      "outer_poly [(425, 230), (705, 51), (739, 663), (428, 661)]\n",
      "345\n",
      "outer_poly [(589, 437), (661, 371), (683, 664), (608, 663)]\n",
      "346\n",
      "outer_poly [(458, 295), (772, 289), (769, 607), (464, 599)]\n",
      "347\n",
      "outer_poly [(614, 460), (745, 458), (750, 601), (617, 607)]\n"
     ]
    },
    {
     "name": "stderr",
     "output_type": "stream",
     "text": [
      "  7%|▋         | 352/4943 [00:14<02:53, 26.39it/s]"
     ]
    },
    {
     "name": "stdout",
     "output_type": "stream",
     "text": [
      "348\n",
      "outer_poly [(406, 337), (558, 336), (558, 488), (408, 488)]\n",
      "349\n",
      "outer_poly [(567, 336), (718, 337), (716, 488), (567, 486)]\n",
      "350\n",
      "outer_poly [(291, 106), (896, 146), (906, 730), (288, 762)]\n",
      "351\n",
      "outer_poly [(401, 226), (827, 243), (829, 658), (399, 668)]\n",
      "352\n",
      "outer_poly [(515, 293), (862, 256), (867, 665), (512, 651)]\n",
      "353\n",
      "outer_poly [(566, 323), (782, 362), (784, 670), (564, 708)]\n"
     ]
    },
    {
     "name": "stderr",
     "output_type": "stream",
     "text": [
      "  7%|▋         | 358/4943 [00:14<02:45, 27.62it/s]"
     ]
    },
    {
     "name": "stdout",
     "output_type": "stream",
     "text": [
      "354\n",
      "outer_poly [(442, 163), (846, 210), (851, 631), (450, 684)]\n",
      "355\n",
      "outer_poly [(559, 269), (762, 280), (758, 495), (560, 503)]\n",
      "356\n",
      "outer_poly [(561, 265), (764, 279), (762, 492), (561, 498)]\n",
      "357\n",
      "outer_poly [(523, 242), (866, 241), (866, 583), (526, 583)]\n",
      "358\n",
      "outer_poly [(439, 197), (1053, 241), (1080, 857), (430, 863)]\n",
      "359\n",
      "outer_poly [(516, 351), (806, 345), (804, 640), (517, 639)]\n"
     ]
    },
    {
     "name": "stderr",
     "output_type": "stream",
     "text": [
      "  7%|▋         | 364/4943 [00:14<02:43, 28.09it/s]"
     ]
    },
    {
     "name": "stdout",
     "output_type": "stream",
     "text": [
      "360\n",
      "outer_poly [(597, 329), (774, 303), (773, 356), (778, 686), (599, 672)]\n",
      "361\n",
      "outer_poly [(472, 271), (675, 320), (677, 608), (468, 624)]\n",
      "362\n",
      "outer_poly [(478, 275), (856, 285), (860, 661), (476, 664)]\n",
      "363\n",
      "outer_poly [(562, 329), (849, 364), (856, 675), (561, 685)]\n",
      "364\n",
      "outer_poly [(576, 391), (816, 412), (820, 675), (574, 681)]\n",
      "365\n",
      "outer_poly [(432, 404), (746, 403), (752, 724), (426, 723)]\n"
     ]
    },
    {
     "name": "stderr",
     "output_type": "stream",
     "text": [
      "  7%|▋         | 370/4943 [00:14<02:43, 27.94it/s]"
     ]
    },
    {
     "name": "stdout",
     "output_type": "stream",
     "text": [
      "366\n",
      "outer_poly [(746, 451), (826, 419), (835, 657), (752, 647)]\n",
      "367\n",
      "outer_poly [(438, 14), (705, 248), (704, 725), (406, 787)]\n",
      "368\n",
      "outer_poly [(417, 63), (663, 268), (662, 719), (394, 771)]\n",
      "369\n",
      "outer_poly [(515, 282), (832, 246), (841, 605), (513, 602)]\n",
      "370\n",
      "outer_poly [(561, 277), (818, 247), (822, 543), (562, 542)]\n",
      "371\n",
      "outer_poly [(556, 262), (728, 175), (734, 589), (555, 575)]\n"
     ]
    },
    {
     "name": "stderr",
     "output_type": "stream",
     "text": [
      "  8%|▊         | 376/4943 [00:15<02:59, 25.50it/s]"
     ]
    },
    {
     "name": "stdout",
     "output_type": "stream",
     "text": [
      "372\n",
      "outer_poly [(413, 59), (926, 170), (954, 703), (406, 751)]\n",
      "373\n",
      "outer_poly [(542, 261), (826, 106), (844, 731), (539, 689)]\n",
      "374\n",
      "outer_poly [(605, 316), (747, 207), (756, 677), (606, 652)]\n",
      "375\n",
      "outer_poly [(588, 264), (737, 15), (764, 790), (593, 720)]\n",
      "376\n",
      "outer_poly [(558, 394), (732, 466), (736, 759), (552, 767)]\n"
     ]
    },
    {
     "name": "stderr",
     "output_type": "stream",
     "text": [
      "  8%|▊         | 382/4943 [00:15<03:01, 25.18it/s]"
     ]
    },
    {
     "name": "stdout",
     "output_type": "stream",
     "text": [
      "377\n",
      "outer_poly [(565, 420), (759, 476), (764, 748), (558, 755)]\n",
      "378\n",
      "outer_poly [(477, 255), (902, 85), (944, 827), (486, 757)]\n",
      "379\n",
      "outer_poly [(427, 368), (629, 343), (626, 638), (422, 620)]\n",
      "380\n",
      "outer_poly [(605, 314), (850, 327), (847, 582), (602, 589)]\n",
      "381\n",
      "outer_poly [(363, 282), (763, 287), (777, 688), (352, 692)]\n",
      "382\n"
     ]
    },
    {
     "name": "stderr",
     "output_type": "stream",
     "text": [
      "\r",
      "  8%|▊         | 385/4943 [00:15<02:59, 25.37it/s]"
     ]
    },
    {
     "name": "stdout",
     "output_type": "stream",
     "text": [
      "outer_poly [(383, 100), (821, 215), (820, 703), (371, 778)]\n",
      "383\n",
      "outer_poly [(581, 350), (756, 388), (758, 650), (580, 672)]\n",
      "384\n",
      "outer_poly [(566, 308), (790, 360), (795, 676), (568, 710)]\n",
      "385\n",
      "outer_poly [(546, 279), (787, 342), (793, 681), (544, 719)]\n",
      "386\n",
      "outer_poly [(393, 202), (835, 247), (844, 687), (395, 718)]\n",
      "387\n",
      "outer_poly [(501, 346), (881, 341), (903, 725), (495, 737)]\n"
     ]
    },
    {
     "name": "stderr",
     "output_type": "stream",
     "text": [
      "  8%|▊         | 392/4943 [00:15<02:46, 27.41it/s]"
     ]
    },
    {
     "name": "stdout",
     "output_type": "stream",
     "text": [
      "388\n",
      "outer_poly [(504, 443), (767, 444), (774, 710), (499, 712)]\n",
      "389\n",
      "outer_poly [(423, 165), (737, 208), (735, 528), (415, 526)]\n",
      "390\n",
      "outer_poly [(476, 239), (860, 207), (864, 629), (476, 621)]\n",
      "391\n",
      "outer_poly [(666, 322), (933, 315), (937, 587), (667, 585)]\n",
      "392\n",
      "outer_poly [(428, 83), (1073, 62), (1108, 725), (415, 724)]\n",
      "393\n",
      "outer_poly [(290, 2), (253, 753), (1061, 758), (1035, 3)]\n",
      "394\n"
     ]
    },
    {
     "name": "stderr",
     "output_type": "stream",
     "text": [
      "  8%|▊         | 398/4943 [00:15<02:40, 28.23it/s]"
     ]
    },
    {
     "name": "stdout",
     "output_type": "stream",
     "text": [
      "outer_poly [(573, 153), (846, 244), (843, 643), (564, 708)]\n",
      "395\n",
      "outer_poly [(535, 242), (774, 291), (771, 617), (531, 658)]\n",
      "396\n",
      "outer_poly [(445, 414), (661, 429), (661, 681), (444, 696)]\n",
      "397\n",
      "outer_poly [(378, 338), (731, 328), (730, 690), (375, 687)]\n",
      "398\n",
      "outer_poly [(516, 434), (665, 423), (671, 657), (519, 649)]\n",
      "399\n",
      "outer_poly [(454, 138), (833, 252), (838, 709), (444, 774)]\n"
     ]
    },
    {
     "name": "stderr",
     "output_type": "stream",
     "text": [
      "  8%|▊         | 404/4943 [00:16<02:55, 25.84it/s]"
     ]
    },
    {
     "name": "stdout",
     "output_type": "stream",
     "text": [
      "400\n",
      "outer_poly [(356, 183), (907, 182), (916, 741), (345, 739)]\n",
      "401\n",
      "outer_poly [(291, 235), (757, 214), (756, 713), (287, 696)]\n",
      "402\n",
      "outer_poly [(556, 344), (715, 301), (719, 644), (556, 618)]\n",
      "403\n",
      "outer_poly [(498, 292), (807, 304), (809, 610), (497, 612)]\n",
      "404\n",
      "outer_poly [(623, 418), (709, 357), (730, 645), (638, 648)]\n"
     ]
    },
    {
     "name": "stderr",
     "output_type": "stream",
     "text": [
      "\r",
      "  8%|▊         | 407/4943 [00:16<03:02, 24.86it/s]"
     ]
    },
    {
     "name": "stdout",
     "output_type": "stream",
     "text": [
      "405\n",
      "outer_poly [(577, 437), (726, 436), (730, 586), (579, 589)]\n",
      "406\n",
      "outer_poly [(612, 203), (982, 51), (1001, 757), (619, 670)]\n",
      "407\n",
      "outer_poly [(344, 152), (888, 78), (895, 740), (341, 695)]\n",
      "408\n",
      "outer_poly [(543, 224), (964, 182), (963, 662), (549, 631)]\n",
      "409\n",
      "outer_poly [(463, 317), (619, 298), (623, 537), (468, 525)]\n"
     ]
    },
    {
     "name": "stderr",
     "output_type": "stream",
     "text": [
      "  8%|▊         | 413/4943 [00:16<02:56, 25.61it/s]"
     ]
    },
    {
     "name": "stdout",
     "output_type": "stream",
     "text": [
      "410\n",
      "outer_poly [(514, 402), (689, 368), (692, 676), (513, 655)]\n",
      "411\n",
      "outer_poly [(433, 375), (530, 335), (533, 646), (436, 623)]\n",
      "412\n",
      "outer_poly [(456, 40), (691, 209), (688, 662), (444, 744)]\n",
      "413\n",
      "outer_poly [(469, 260), (780, 301), (778, 624), (464, 639)]\n",
      "414\n",
      "outer_poly [(412, 246), (820, 260), (826, 672), (407, 673)]\n",
      "415\n",
      "outer_poly [(435, 323), (738, 331), (736, 632), (428, 629)]\n"
     ]
    },
    {
     "name": "stderr",
     "output_type": "stream",
     "text": [
      "  8%|▊         | 419/4943 [00:16<02:44, 27.48it/s]"
     ]
    },
    {
     "name": "stdout",
     "output_type": "stream",
     "text": [
      "416\n",
      "outer_poly [(323, 265), (648, 246), (648, 611), (319, 599)]\n",
      "417\n",
      "outer_poly [(403, 260), (706, 191), (713, 662), (408, 631)]\n",
      "418\n",
      "outer_poly [(411, 153), (790, 11), (804, 696), (418, 628)]\n",
      "419\n",
      "outer_poly [(512, 374), (683, 410), (684, 648), (511, 659)]\n",
      "420\n",
      "outer_poly [(559, 419), (826, 411), (833, 685), (559, 686)]\n",
      "421\n",
      "outer_poly [(390, 326), (723, 318), (727, 660), (387, 658)]\n"
     ]
    },
    {
     "name": "stderr",
     "output_type": "stream",
     "text": [
      "  9%|▊         | 425/4943 [00:16<02:38, 28.59it/s]"
     ]
    },
    {
     "name": "stdout",
     "output_type": "stream",
     "text": [
      "422\n",
      "outer_poly [(445, 425), (590, 400), (595, 624), (446, 620)]\n",
      "423\n",
      "outer_poly [(346, 277), (627, 124), (641, 778), (341, 725)]\n",
      "424\n",
      "outer_poly [(466, 215), (834, 272), (844, 659), (452, 661)]\n",
      "425\n",
      "outer_poly [(496, 32), (828, 245), (849, 732), (477, 773)]\n",
      "426\n",
      "outer_poly [(390, 188), (836, 254), (847, 704), (379, 723)]\n",
      "427\n",
      "outer_poly [(582, 310), (760, 275), (762, 539), (581, 537)]\n"
     ]
    },
    {
     "name": "stderr",
     "output_type": "stream",
     "text": [
      "  9%|▊         | 431/4943 [00:17<02:39, 28.36it/s]"
     ]
    },
    {
     "name": "stdout",
     "output_type": "stream",
     "text": [
      "428\n",
      "outer_poly [(342, 131), (956, 90), (983, 751), (318, 736)]\n",
      "429\n",
      "outer_poly [(438, 154), (932, 199), (939, 689), (428, 704)]\n",
      "430\n",
      "outer_poly [(446, 361), (706, 339), (709, 645), (443, 636)]\n",
      "431\n",
      "outer_poly [(542, 311), (935, 327), (956, 730), (535, 729)]\n",
      "432\n",
      "outer_poly [(308, 82), (975, 92), (1021, 777), (258, 779)]\n",
      "433\n",
      "outer_poly [(255, 448), (345, 424), (344, 653), (251, 641)]\n"
     ]
    },
    {
     "name": "stderr",
     "output_type": "stream",
     "text": [
      "  9%|▉         | 437/4943 [00:17<03:00, 24.95it/s]"
     ]
    },
    {
     "name": "stdout",
     "output_type": "stream",
     "text": [
      "434\n",
      "outer_poly [(591, 447), (746, 403), (753, 687), (590, 683)]\n",
      "435\n",
      "outer_poly [(647, 489), (757, 448), (762, 716), (645, 708)]\n",
      "436\n",
      "outer_poly [(612, 434), (731, 354), (740, 725), (613, 716)]\n",
      "437\n",
      "outer_poly [(627, 326), (806, 299), (805, 597), (626, 570)]\n",
      "438\n"
     ]
    },
    {
     "name": "stderr",
     "output_type": "stream",
     "text": [
      "\r",
      "  9%|▉         | 440/4943 [00:17<03:09, 23.80it/s]"
     ]
    },
    {
     "name": "stdout",
     "output_type": "stream",
     "text": [
      "outer_poly [(773, 298), (1004, 308), (1000, 549), (771, 550)]\n",
      "439\n",
      "outer_poly [(396, 347), (718, 352), (728, 679), (389, 679)]\n",
      "440\n",
      "outer_poly [(572, 302), (748, 317), (744, 522), (567, 529)]\n",
      "441\n",
      "outer_poly [(510, 446), (668, 415), (675, 653), (509, 655)]\n",
      "442\n",
      "outer_poly [(852, 286), (951, 323), (953, 576), (856, 603)]\n"
     ]
    },
    {
     "name": "stderr",
     "output_type": "stream",
     "text": [
      "  9%|▉         | 446/4943 [00:17<03:06, 24.15it/s]"
     ]
    },
    {
     "name": "stdout",
     "output_type": "stream",
     "text": [
      "443\n",
      "outer_poly [(593, 391), (668, 331), (681, 623), (598, 620)]\n",
      "444\n",
      "outer_poly [(611, 399), (748, 414), (752, 612), (611, 625)]\n",
      "445\n",
      "outer_poly [(542, 352), (739, 395), (731, 646), (529, 650)]\n",
      "446\n",
      "outer_poly [(364, 52), (1101, 41), (1121, 796), (358, 789)]\n",
      "447\n",
      "outer_poly [(374, 262), (689, 278), (692, 585), (369, 591)]\n",
      "448\n"
     ]
    },
    {
     "name": "stderr",
     "output_type": "stream",
     "text": [
      "  9%|▉         | 452/4943 [00:17<03:00, 24.94it/s]"
     ]
    },
    {
     "name": "stdout",
     "output_type": "stream",
     "text": [
      "outer_poly [(380, 160), (967, 160), (1024, 759), (353, 773)]\n",
      "449\n",
      "outer_poly [(386, 325), (685, 320), (688, 623), (384, 625)]\n",
      "450\n",
      "outer_poly [(331, 235), (704, 245), (703, 617), (323, 617)]\n",
      "451\n",
      "outer_poly [(409, 230), (834, 188), (845, 665), (413, 653)]\n",
      "452\n",
      "outer_poly [(359, 99), (935, 99), (957, 684), (348, 690)]\n",
      "453\n",
      "outer_poly [(499, 322), (853, 300), (856, 694), (485, 679)]\n"
     ]
    },
    {
     "name": "stderr",
     "output_type": "stream",
     "text": [
      "  9%|▉         | 458/4943 [00:18<02:58, 25.16it/s]"
     ]
    },
    {
     "name": "stdout",
     "output_type": "stream",
     "text": [
      "454\n",
      "outer_poly [(359, 251), (708, 235), (700, 624), (358, 603)]\n",
      "455\n",
      "outer_poly [(453, 62), (1169, 45), (1169, 773), (453, 759)]\n",
      "456\n",
      "outer_poly [(351, 126), (955, 131), (955, 734), (349, 739)]\n",
      "457\n",
      "outer_poly [(479, 132), (949, 216), (954, 710), (476, 754)]\n",
      "458\n",
      "outer_poly [(321, 268), (726, 249), (725, 690), (316, 678)]\n",
      "459\n"
     ]
    },
    {
     "name": "stderr",
     "output_type": "stream",
     "text": [
      "  9%|▉         | 464/4943 [00:18<03:01, 24.63it/s]"
     ]
    },
    {
     "name": "stdout",
     "output_type": "stream",
     "text": [
      "outer_poly [(392, 308), (790, 302), (793, 714), (383, 709)]\n",
      "460\n",
      "outer_poly [(416, 278), (862, 268), (866, 737), (403, 725)]\n",
      "461\n",
      "outer_poly [(488, 401), (750, 383), (755, 672), (488, 665)]\n",
      "462\n",
      "outer_poly [(525, 383), (680, 334), (682, 675), (523, 652)]\n",
      "463\n",
      "outer_poly [(581, 407), (699, 385), (699, 590), (583, 584)]\n"
     ]
    },
    {
     "name": "stderr",
     "output_type": "stream",
     "text": [
      "\r",
      "  9%|▉         | 467/4943 [00:18<03:07, 23.89it/s]"
     ]
    },
    {
     "name": "stdout",
     "output_type": "stream",
     "text": [
      "464\n",
      "outer_poly [(322, 280), (622, 218), (629, 650), (319, 637)]\n",
      "465\n",
      "outer_poly [(380, 131), (900, 47), (907, 680), (367, 652)]\n",
      "466\n",
      "outer_poly [(509, 341), (757, 321), (763, 605), (512, 600)]\n",
      "467\n",
      "outer_poly [(456, 307), (803, 364), (812, 742), (440, 748)]\n",
      "468\n",
      "outer_poly [(452, 306), (773, 349), (777, 690), (444, 700)]\n"
     ]
    },
    {
     "name": "stderr",
     "output_type": "stream",
     "text": [
      " 10%|▉         | 473/4943 [00:18<03:16, 22.69it/s]"
     ]
    },
    {
     "name": "stdout",
     "output_type": "stream",
     "text": [
      "469\n",
      "outer_poly [(508, 438), (734, 413), (745, 673), (510, 674)]\n",
      "470\n",
      "outer_poly [(513, 357), (702, 274), (714, 674), (511, 661)]\n",
      "471\n",
      "outer_poly [(511, 297), (747, 163), (769, 681), (519, 668)]\n",
      "472\n",
      "outer_poly [(324, 338), (539, 333), (540, 554), (324, 554)]\n",
      "473\n",
      "outer_poly [(450, 91), (846, 213), (851, 690), (445, 773)]\n"
     ]
    },
    {
     "name": "stderr",
     "output_type": "stream",
     "text": [
      "\r",
      " 10%|▉         | 476/4943 [00:18<03:21, 22.21it/s]"
     ]
    },
    {
     "name": "stdout",
     "output_type": "stream",
     "text": [
      "474\n",
      "outer_poly [(465, 254), (787, 331), (798, 751), (464, 827)]\n",
      "475\n",
      "outer_poly [(494, 98), (858, 185), (859, 629), (498, 708)]\n",
      "476\n",
      "outer_poly [(439, 88), (997, 131), (998, 672), (454, 724)]\n",
      "477\n",
      "outer_poly [(600, 324), (671, 308), (674, 523), (603, 507)]\n",
      "478\n"
     ]
    },
    {
     "name": "stderr",
     "output_type": "stream",
     "text": [
      " 10%|▉         | 482/4943 [00:19<03:27, 21.53it/s]"
     ]
    },
    {
     "name": "stdout",
     "output_type": "stream",
     "text": [
      "outer_poly [(656, 302), (750, 268), (756, 574), (660, 544)]\n",
      "479\n",
      "outer_poly [(481, 109), (676, 254), (678, 681), (476, 780)]\n",
      "480\n",
      "outer_poly [(394, 258), (852, 253), (865, 718), (391, 720)]\n",
      "481\n",
      "outer_poly [(487, 383), (678, 351), (682, 684), (489, 660)]\n",
      "482\n",
      "outer_poly [(435, 413), (512, 385), (514, 638), (435, 622)]\n"
     ]
    },
    {
     "name": "stderr",
     "output_type": "stream",
     "text": [
      "\r",
      " 10%|▉         | 485/4943 [00:19<03:28, 21.41it/s]"
     ]
    },
    {
     "name": "stdout",
     "output_type": "stream",
     "text": [
      "483\n",
      "outer_poly [(400, 244), (828, 258), (833, 689), (395, 691)]\n",
      "484\n",
      "outer_poly [(461, 308), (635, 277), (636, 564), (461, 549)]\n",
      "485\n",
      "outer_poly [(421, 207), (629, 72), (636, 677), (423, 617)]\n",
      "486\n",
      "outer_poly [(536, 258), (653, 168), (660, 623), (538, 583)]\n",
      "487\n",
      "outer_poly [(374, 229), (673, 325), (671, 701), (364, 739)]\n"
     ]
    },
    {
     "name": "stderr",
     "output_type": "stream",
     "text": [
      " 10%|▉         | 491/4943 [00:19<03:26, 21.53it/s]"
     ]
    },
    {
     "name": "stdout",
     "output_type": "stream",
     "text": [
      "488\n",
      "outer_poly [(387, 88), (954, 148), (975, 712), (375, 745)]\n",
      "489\n",
      "outer_poly [(449, 395), (712, 403), (716, 669), (444, 668)]\n",
      "490\n",
      "outer_poly [(543, 299), (856, 262), (862, 628), (546, 620)]\n",
      "491\n",
      "outer_poly [(662, 454), (744, 420), (751, 661), (666, 653)]\n",
      "492\n",
      "outer_poly [(473, 311), (629, 165), (636, 763), (474, 710)]\n"
     ]
    },
    {
     "name": "stderr",
     "output_type": "stream",
     "text": [
      " 10%|█         | 497/4943 [00:19<03:18, 22.41it/s]"
     ]
    },
    {
     "name": "stdout",
     "output_type": "stream",
     "text": [
      "493\n",
      "outer_poly [(444, 336), (584, 226), (592, 730), (449, 692)]\n",
      "494\n",
      "outer_poly [(421, 166), (641, 297), (636, 678), (409, 706)]\n",
      "495\n",
      "outer_poly [(465, 361), (703, 378), (704, 621), (457, 620)]\n",
      "496\n",
      "outer_poly [(377, 192), (874, 113), (892, 735), (367, 700)]\n",
      "497\n",
      "outer_poly [(424, 226), (871, 130), (880, 745), (417, 699)]\n"
     ]
    },
    {
     "name": "stderr",
     "output_type": "stream",
     "text": [
      "\r",
      " 10%|█         | 500/4943 [00:20<03:21, 22.02it/s]"
     ]
    },
    {
     "name": "stdout",
     "output_type": "stream",
     "text": [
      "498\n",
      "outer_poly [(371, 382), (534, 317), (535, 723), (372, 687)]\n",
      "499\n",
      "outer_poly [(509, 373), (645, 356), (649, 561), (511, 558)]\n",
      "500\n",
      "outer_poly [(471, 29), (695, 254), (704, 738), (460, 831)]\n",
      "501\n",
      "outer_poly [(414, 396), (659, 388), (658, 639), (414, 641)]\n",
      "502\n",
      "outer_poly [(247, 113), (879, 48), (885, 794), (232, 739)]\n"
     ]
    },
    {
     "name": "stderr",
     "output_type": "stream",
     "text": [
      " 10%|█         | 506/4943 [00:20<03:08, 23.59it/s]"
     ]
    },
    {
     "name": "stdout",
     "output_type": "stream",
     "text": [
      "503\n",
      "outer_poly [(663, 486), (776, 451), (782, 694), (666, 689)]\n",
      "504\n",
      "outer_poly [(637, 480), (748, 445), (753, 687), (637, 683)]\n",
      "505\n",
      "outer_poly [(451, 211), (888, 247), (885, 682), (446, 707)]\n",
      "506\n",
      "outer_poly [(375, 303), (588, 325), (582, 567), (369, 579)]\n",
      "507\n",
      "outer_poly [(369, 218), (686, 33), (701, 687), (360, 674)]\n",
      "508\n",
      "outer_poly [(824, 274), (936, 308), (936, 554), (823, 576)]\n"
     ]
    },
    {
     "name": "stderr",
     "output_type": "stream",
     "text": [
      " 10%|█         | 512/4943 [00:20<02:55, 25.31it/s]"
     ]
    },
    {
     "name": "stdout",
     "output_type": "stream",
     "text": [
      "509\n",
      "outer_poly [(535, 315), (805, 331), (806, 607), (534, 617)]\n",
      "510\n",
      "outer_poly [(384, 154), (353, 743), (984, 750), (954, 172)]\n",
      "511\n",
      "outer_poly [(508, 400), (741, 394), (751, 632), (514, 640)]\n",
      "512\n",
      "outer_poly [(649, 327), (755, 311), (759, 490), (653, 482)]\n",
      "513\n",
      "outer_poly [(671, 275), (761, 213), (757, 642), (669, 579)]\n",
      "514\n",
      "outer_poly [(404, 399), (726, 383), (729, 738), (401, 727)]\n"
     ]
    },
    {
     "name": "stderr",
     "output_type": "stream",
     "text": [
      " 10%|█         | 518/4943 [00:20<03:02, 24.26it/s]"
     ]
    },
    {
     "name": "stdout",
     "output_type": "stream",
     "text": [
      "515\n",
      "outer_poly [(579, 397), (748, 425), (748, 654), (575, 664)]\n",
      "516\n",
      "outer_poly [(528, 377), (782, 399), (783, 665), (523, 671)]\n",
      "517\n",
      "outer_poly [(430, 396), (678, 415), (677, 665), (427, 673)]\n",
      "518\n",
      "outer_poly [(320, 171), (913, 156), (916, 784), (290, 760)]\n",
      "519\n",
      "outer_poly [(570, 369), (726, 217), (750, 769), (577, 747)]\n"
     ]
    },
    {
     "name": "stderr",
     "output_type": "stream",
     "text": [
      " 11%|█         | 524/4943 [00:21<03:11, 23.09it/s]"
     ]
    },
    {
     "name": "stdout",
     "output_type": "stream",
     "text": [
      "520\n",
      "outer_poly [(530, 341), (681, 344), (681, 494), (530, 494)]\n",
      "521\n",
      "outer_poly [(354, 382), (558, 386), (559, 587), (355, 592)]\n",
      "522\n",
      "outer_poly [(270, 58), (955, 64), (968, 742), (271, 757)]\n",
      "523\n",
      "outer_poly [(488, 238), (928, 171), (937, 722), (489, 685)]\n",
      "524\n",
      "outer_poly [(355, 78), (1020, 96), (1031, 760), (352, 768)]\n"
     ]
    },
    {
     "name": "stderr",
     "output_type": "stream",
     "text": [
      "\r",
      " 11%|█         | 527/4943 [00:21<03:07, 23.59it/s]"
     ]
    },
    {
     "name": "stdout",
     "output_type": "stream",
     "text": [
      "525\n",
      "outer_poly [(586, 288), (586, 575), (440, 619), (439, 249)]\n",
      "526\n",
      "outer_poly [(539, 225), (756, 252), (756, 537), (544, 571)]\n",
      "527\n",
      "outer_poly [(690, 263), (948, 265), (946, 522), (690, 523)]\n",
      "528\n",
      "outer_poly [(377, 109), (1014, 42), (1007, 768), (387, 708)]\n",
      "529\n",
      "outer_poly [(590, 357), (829, 374), (831, 635), (586, 645)]\n"
     ]
    },
    {
     "name": "stderr",
     "output_type": "stream",
     "text": [
      " 11%|█         | 533/4943 [00:21<03:06, 23.69it/s]"
     ]
    },
    {
     "name": "stdout",
     "output_type": "stream",
     "text": [
      "530\n",
      "outer_poly [(470, 298), (839, 296), (843, 667), (468, 670)]\n",
      "531\n",
      "outer_poly [(412, 339), (556, 314), (558, 583), (414, 569)]\n",
      "532\n",
      "outer_poly [(281, 1), (261, 775), (621, 676), (626, 190), (317, 5)]\n",
      "533\n",
      "outer_poly [(472, 265), (681, 319), (676, 608), (468, 631)]\n",
      "534\n",
      "outer_poly [(490, 292), (756, 318), (758, 601), (487, 611)]\n"
     ]
    },
    {
     "name": "stderr",
     "output_type": "stream",
     "text": [
      " 11%|█         | 539/4943 [00:21<03:07, 23.46it/s]"
     ]
    },
    {
     "name": "stdout",
     "output_type": "stream",
     "text": [
      "535\n",
      "outer_poly [(404, 162), (774, 27), (781, 687), (409, 628)]\n",
      "536\n",
      "outer_poly [(459, 216), (709, 106), (716, 661), (463, 610)]\n",
      "537\n",
      "outer_poly [(530, 345), (595, 323), (599, 538), (532, 528)]\n",
      "538\n",
      "outer_poly [(323, 268), (740, 300), (743, 712), (312, 721)]\n",
      "539\n",
      "outer_poly [(461, 361), (771, 376), (777, 685), (458, 690)]\n"
     ]
    },
    {
     "name": "stderr",
     "output_type": "stream",
     "text": [
      " 11%|█         | 545/4943 [00:21<03:01, 24.18it/s]"
     ]
    },
    {
     "name": "stdout",
     "output_type": "stream",
     "text": [
      "540\n",
      "outer_poly [(626, 355), (864, 330), (873, 600), (634, 598)]\n",
      "541\n",
      "outer_poly [(516, 390), (689, 350), (694, 654), (517, 641)]\n",
      "542\n",
      "outer_poly [(493, 251), (833, 95), (861, 756), (498, 702)]\n",
      "543\n",
      "outer_poly [(605, 240), (741, 335), (746, 642), (605, 650)]\n",
      "544\n",
      "outer_poly [(495, 362), (683, 289), (693, 704), (495, 680)]\n",
      "545\n"
     ]
    },
    {
     "name": "stderr",
     "output_type": "stream",
     "text": [
      " 11%|█         | 551/4943 [00:22<02:47, 26.24it/s]"
     ]
    },
    {
     "name": "stdout",
     "output_type": "stream",
     "text": [
      "outer_poly [(368, 128), (920, 165), (935, 714), (341, 718)]\n",
      "546\n",
      "outer_poly [(361, 183), (898, 214), (913, 758), (330, 758)]\n",
      "547\n",
      "outer_poly [(442, 374), (659, 332), (662, 664), (437, 653)]\n",
      "548\n",
      "outer_poly [(575, 288), (767, 313), (762, 531), (570, 536)]\n",
      "549\n",
      "outer_poly [(575, 340), (727, 438), (728, 758), (567, 769)]\n",
      "550\n",
      "outer_poly [(466, 322), (743, 284), (745, 650), (461, 633)]\n"
     ]
    },
    {
     "name": "stderr",
     "output_type": "stream",
     "text": [
      "\r",
      " 11%|█         | 554/4943 [00:22<02:44, 26.63it/s]"
     ]
    },
    {
     "name": "stdout",
     "output_type": "stream",
     "text": [
      "551\n",
      "outer_poly [(530, 313), (686, 299), (686, 510), (529, 503)]\n",
      "552\n",
      "outer_poly [(507, 354), (723, 324), (722, 637), (503, 622)]\n",
      "553\n",
      "outer_poly [(513, 307), (898, 334), (916, 728), (503, 733)]\n",
      "554\n",
      "outer_poly [(538, 397), (717, 360), (724, 662), (540, 651)]\n",
      "555\n",
      "outer_poly [(427, 302), (835, 326), (846, 733), (410, 730)]\n",
      "556\n",
      "outer_poly [(616, 374), (618, 732), (746, 748), (733, 241)]\n"
     ]
    },
    {
     "name": "stderr",
     "output_type": "stream",
     "text": [
      " 11%|█▏        | 560/4943 [00:22<02:39, 27.46it/s]"
     ]
    },
    {
     "name": "stdout",
     "output_type": "stream",
     "text": [
      "557\n",
      "outer_poly [(624, 1), (398, 91), (410, 673), (939, 818), (935, 5)]\n",
      "558\n",
      "outer_poly [(497, 368), (739, 379), (740, 622), (495, 623)]\n",
      "559\n",
      "outer_poly [(139, 209), (627, 201), (636, 703), (111, 705)]\n",
      "560\n",
      "outer_poly [(621, 297), (847, 321), (843, 571), (616, 584)]\n",
      "561\n",
      "outer_poly [(682, 41), (540, 230), (546, 635), (704, 646)]\n",
      "562\n",
      "outer_poly [(695, 327), (894, 342), (891, 560), (690, 563)]\n"
     ]
    },
    {
     "name": "stderr",
     "output_type": "stream",
     "text": [
      " 11%|█▏        | 566/4943 [00:22<02:36, 28.00it/s]"
     ]
    },
    {
     "name": "stdout",
     "output_type": "stream",
     "text": [
      "563\n",
      "outer_poly [(573, 380), (657, 311), (666, 639), (578, 635)]\n",
      "564\n",
      "outer_poly [(474, 5), (465, 859), (779, 861), (1119, 788), (1114, 123), (743, 6)]\n",
      "565\n",
      "outer_poly [(405, 9), (383, 864), (512, 864), (882, 756), (873, 194), (442, 2)]\n",
      "566\n",
      "outer_poly [(413, 190), (419, 769), (657, 695), (650, 304)]\n",
      "567\n",
      "outer_poly [(506, 378), (707, 395), (704, 611), (500, 614)]\n",
      "568\n",
      "outer_poly [(479, 276), (641, 325), (630, 560), (464, 565)]\n"
     ]
    },
    {
     "name": "stderr",
     "output_type": "stream",
     "text": [
      " 12%|█▏        | 573/4943 [00:22<02:31, 28.88it/s]"
     ]
    },
    {
     "name": "stdout",
     "output_type": "stream",
     "text": [
      "569\n",
      "outer_poly [(451, 380), (626, 377), (630, 551), (454, 555)]\n",
      "570\n",
      "outer_poly [(276, 32), (1035, 27), (1053, 820), (236, 784)]\n",
      "571\n",
      "outer_poly [(581, 300), (578, 585), (763, 562), (765, 318), (606, 299)]\n",
      "572\n",
      "outer_poly [(506, 329), (614, 316), (617, 499), (508, 490)]\n",
      "573\n",
      "outer_poly [(569, 407), (673, 385), (676, 584), (569, 580)]\n",
      "574\n",
      "outer_poly [(587, 348), (834, 337), (839, 596), (588, 596)]\n"
     ]
    },
    {
     "name": "stderr",
     "output_type": "stream",
     "text": [
      " 12%|█▏        | 580/4943 [00:23<02:29, 29.18it/s]"
     ]
    },
    {
     "name": "stdout",
     "output_type": "stream",
     "text": [
      "575\n",
      "outer_poly [(449, 327), (713, 331), (711, 595), (446, 591)]\n",
      "576\n",
      "outer_poly [(368, 397), (605, 421), (604, 669), (360, 672)]\n",
      "577\n",
      "outer_poly [(383, 355), (755, 305), (769, 753), (374, 747)]\n",
      "578\n",
      "outer_poly [(463, 327), (709, 246), (718, 671), (459, 660)]\n",
      "579\n",
      "outer_poly [(433, 296), (712, 192), (729, 678), (431, 668)]\n",
      "580\n",
      "outer_poly [(430, 234), (771, 82), (800, 693), (429, 677)]\n"
     ]
    },
    {
     "name": "stderr",
     "output_type": "stream",
     "text": [
      " 12%|█▏        | 586/4943 [00:23<02:28, 29.37it/s]"
     ]
    },
    {
     "name": "stdout",
     "output_type": "stream",
     "text": [
      "581\n",
      "outer_poly [(524, 421), (662, 381), (666, 655), (526, 649)]\n",
      "582\n",
      "outer_poly [(616, 451), (696, 368), (706, 741), (622, 731)]\n",
      "583\n",
      "outer_poly [(573, 342), (911, 327), (925, 675), (579, 678)]\n",
      "584\n",
      "outer_poly [(637, 300), (767, 237), (770, 638), (638, 598)]\n",
      "585\n",
      "outer_poly [(581, 625), (711, 585), (712, 287), (583, 225)]\n",
      "586\n",
      "outer_poly [(597, 271), (805, 283), (802, 508), (597, 512)]\n"
     ]
    },
    {
     "name": "stderr",
     "output_type": "stream",
     "text": [
      " 12%|█▏        | 592/4943 [00:23<02:31, 28.69it/s]"
     ]
    },
    {
     "name": "stdout",
     "output_type": "stream",
     "text": [
      "587\n",
      "outer_poly [(528, 192), (963, 200), (961, 631), (532, 643)]\n",
      "588\n",
      "outer_poly [(377, 183), (871, 148), (864, 689), (381, 660)]\n",
      "589\n",
      "outer_poly [(506, 247), (837, 227), (835, 594), (510, 579)]\n",
      "590\n",
      "outer_poly [(365, 388), (581, 356), (581, 686), (362, 667)]\n",
      "591\n",
      "outer_poly [(483, 92), (1019, 149), (1035, 685), (480, 718)]\n",
      "592\n",
      "outer_poly [(363, 139), (913, 168), (923, 710), (351, 725)]\n"
     ]
    },
    {
     "name": "stderr",
     "output_type": "stream",
     "text": [
      " 12%|█▏        | 598/4943 [00:23<02:41, 26.97it/s]"
     ]
    },
    {
     "name": "stdout",
     "output_type": "stream",
     "text": [
      "593\n",
      "outer_poly [(531, 343), (814, 350), (815, 634), (529, 634)]\n",
      "594\n",
      "outer_poly [(403, 308), (718, 311), (716, 627), (396, 622)]\n",
      "595\n",
      "outer_poly [(599, 324), (822, 307), (829, 571), (603, 565)]\n",
      "596\n",
      "outer_poly [(369, 216), (718, 129), (725, 675), (374, 634)]\n",
      "597\n",
      "outer_poly [(525, 99), (757, 264), (760, 701), (517, 761)]\n",
      "598\n"
     ]
    },
    {
     "name": "stderr",
     "output_type": "stream",
     "text": [
      "\r",
      " 12%|█▏        | 601/4943 [00:23<02:43, 26.60it/s]"
     ]
    },
    {
     "name": "stdout",
     "output_type": "stream",
     "text": [
      "outer_poly [(383, 218), (601, 327), (599, 692), (368, 731)]\n",
      "599\n",
      "outer_poly [(707, 353), (979, 356), (985, 631), (709, 635)]\n",
      "600\n",
      "outer_poly [(431, 295), (817, 296), (825, 683), (426, 687)]\n",
      "601\n",
      "outer_poly [(514, 437), (636, 417), (639, 620), (517, 615)]\n",
      "602\n",
      "outer_poly [(531, 397), (623, 334), (629, 693), (536, 674)]\n",
      "603\n",
      "outer_poly [(449, 356), (716, 385), (717, 665), (441, 668)]\n"
     ]
    },
    {
     "name": "stderr",
     "output_type": "stream",
     "text": [
      " 12%|█▏        | 607/4943 [00:24<02:53, 25.03it/s]"
     ]
    },
    {
     "name": "stdout",
     "output_type": "stream",
     "text": [
      "604\n",
      "outer_poly [(606, 446), (724, 421), (724, 644), (605, 637)]\n",
      "605\n",
      "outer_poly [(558, 245), (775, 289), (771, 571), (550, 588)]\n",
      "606\n",
      "outer_poly [(375, 235), (837, 209), (840, 708), (368, 694)]\n",
      "607\n",
      "outer_poly [(528, 334), (689, 322), (689, 542), (527, 532)]\n",
      "608\n",
      "outer_poly [(509, 373), (858, 378), (869, 733), (499, 731)]\n"
     ]
    },
    {
     "name": "stderr",
     "output_type": "stream",
     "text": [
      " 12%|█▏        | 613/4943 [00:24<02:44, 26.25it/s]"
     ]
    },
    {
     "name": "stdout",
     "output_type": "stream",
     "text": [
      "609\n",
      "outer_poly [(267, 136), (884, 61), (887, 790), (255, 740)]\n",
      "610\n",
      "outer_poly [(520, 280), (873, 149), (895, 724), (512, 705)]\n",
      "611\n",
      "outer_poly [(627, 263), (851, 258), (853, 534), (631, 532)]\n",
      "612\n",
      "outer_poly [(602, 472), (729, 421), (735, 723), (600, 714)]\n",
      "613\n",
      "outer_poly [(597, 274), (683, 241), (686, 529), (601, 501)]\n",
      "614\n",
      "outer_poly [(356, 199), (711, 77), (710, 799), (357, 680)]\n"
     ]
    },
    {
     "name": "stderr",
     "output_type": "stream",
     "text": [
      " 13%|█▎        | 619/4943 [00:24<02:41, 26.75it/s]"
     ]
    },
    {
     "name": "stdout",
     "output_type": "stream",
     "text": [
      "615\n",
      "outer_poly [(287, 318), (584, 358), (581, 658), (273, 661)]\n",
      "616\n",
      "outer_poly [(274, 136), (777, 206), (792, 700), (244, 706)]\n",
      "617\n",
      "outer_poly [(538, 257), (843, 286), (841, 620), (536, 648)]\n",
      "618\n",
      "outer_poly [(461, 380), (704, 356), (713, 628), (466, 635)]\n",
      "619\n",
      "outer_poly [(594, 384), (669, 326), (676, 616), (597, 617)]\n",
      "620\n",
      "outer_poly [(794, 1), (851, 11), (872, 843), (711, 863), (3, 864), (3, 0)]\n"
     ]
    },
    {
     "name": "stderr",
     "output_type": "stream",
     "text": [
      " 13%|█▎        | 625/4943 [00:24<02:43, 26.35it/s]"
     ]
    },
    {
     "name": "stdout",
     "output_type": "stream",
     "text": [
      "621\n",
      "outer_poly [(414, 342), (639, 380), (631, 637), (399, 639)]\n",
      "622\n",
      "outer_poly [(734, 3), (691, 763), (359, 864), (0, 864), (0, 0)]\n",
      "623\n",
      "outer_poly [(531, 245), (884, 258), (882, 610), (530, 619)]\n",
      "624\n",
      "outer_poly [(591, 323), (849, 339), (846, 605), (588, 609)]\n",
      "625\n",
      "outer_poly [(391, 298), (684, 310), (685, 598), (388, 602)]\n",
      "626\n"
     ]
    },
    {
     "name": "stderr",
     "output_type": "stream",
     "text": [
      " 13%|█▎        | 631/4943 [00:25<02:44, 26.17it/s]"
     ]
    },
    {
     "name": "stdout",
     "output_type": "stream",
     "text": [
      "outer_poly [(458, 244), (889, 250), (887, 666), (477, 716)]\n",
      "627\n",
      "outer_poly [(563, 149), (1079, 123), (1100, 666), (558, 658)]\n",
      "628\n",
      "outer_poly [(516, 332), (764, 328), (767, 583), (515, 581)]\n",
      "629\n",
      "outer_poly [(434, 247), (879, 218), (877, 713), (418, 687)]\n",
      "630\n",
      "outer_poly [(623, 265), (798, 198), (796, 670), (625, 600)]\n",
      "631\n",
      "outer_poly [(587, 298), (746, 261), (740, 608), (587, 566)]\n"
     ]
    },
    {
     "name": "stderr",
     "output_type": "stream",
     "text": [
      "\r",
      " 13%|█▎        | 634/4943 [00:25<02:46, 25.86it/s]"
     ]
    },
    {
     "name": "stdout",
     "output_type": "stream",
     "text": [
      "632\n",
      "outer_poly [(567, 395), (726, 418), (722, 653), (561, 661)]\n",
      "633\n",
      "outer_poly [(582, 412), (656, 387), (662, 612), (586, 595)]\n",
      "634\n",
      "outer_poly [(544, 319), (650, 219), (657, 655), (547, 637)]\n",
      "635\n",
      "outer_poly [(471, 145), (730, 305), (738, 727), (457, 750)]\n",
      "636\n",
      "outer_poly [(511, 358), (700, 415), (703, 690), (507, 696)]\n"
     ]
    },
    {
     "name": "stderr",
     "output_type": "stream",
     "text": [
      " 13%|█▎        | 640/4943 [00:25<02:57, 24.25it/s]"
     ]
    },
    {
     "name": "stdout",
     "output_type": "stream",
     "text": [
      "637\n",
      "outer_poly [(554, 407), (775, 422), (776, 653), (551, 651)]\n",
      "638\n",
      "outer_poly [(450, 393), (702, 403), (705, 653), (450, 659)]\n",
      "639\n",
      "outer_poly [(636, 464), (755, 437), (763, 644), (639, 645)]\n",
      "640\n",
      "outer_poly [(522, 511), (722, 507), (727, 711), (524, 713)]\n",
      "641\n",
      "outer_poly [(433, 644), (812, 632), (807, 264), (435, 246)]\n"
     ]
    },
    {
     "name": "stderr",
     "output_type": "stream",
     "text": [
      " 13%|█▎        | 646/4943 [00:25<02:59, 24.00it/s]"
     ]
    },
    {
     "name": "stdout",
     "output_type": "stream",
     "text": [
      "642\n",
      "outer_poly [(292, 135), (719, 140), (721, 554), (299, 565)]\n",
      "643\n",
      "outer_poly [(503, 235), (806, 254), (803, 561), (507, 575)]\n",
      "644\n",
      "outer_poly [(486, 113), (1059, 129), (1052, 690), (491, 704)]\n",
      "645\n",
      "outer_poly [(457, 219), (848, 220), (846, 603), (847, 608), (459, 614)]\n",
      "646\n",
      "outer_poly [(601, 310), (684, 285), (689, 540), (607, 521)]\n"
     ]
    },
    {
     "name": "stderr",
     "output_type": "stream",
     "text": [
      "\r",
      " 13%|█▎        | 649/4943 [00:25<03:00, 23.77it/s]"
     ]
    },
    {
     "name": "stdout",
     "output_type": "stream",
     "text": [
      "647\n",
      "outer_poly [(508, 341), (787, 345), (789, 623), (506, 624)]\n",
      "648\n",
      "outer_poly [(328, 230), (721, 200), (721, 648), (323, 632)]\n",
      "649\n",
      "outer_poly [(404, 175), (810, 53), (822, 702), (407, 644)]\n",
      "650\n",
      "outer_poly [(384, 281), (735, 315), (743, 662), (377, 676)]\n",
      "651\n",
      "outer_poly [(556, 385), (736, 350), (739, 610), (556, 608)]\n"
     ]
    },
    {
     "name": "stderr",
     "output_type": "stream",
     "text": [
      " 13%|█▎        | 655/4943 [00:26<02:56, 24.25it/s]"
     ]
    },
    {
     "name": "stdout",
     "output_type": "stream",
     "text": [
      "652\n",
      "outer_poly [(451, 214), (744, 311), (748, 685), (439, 707)]\n",
      "653\n",
      "outer_poly [(547, 225), (697, 307), (698, 601), (544, 611)]\n",
      "654\n",
      "outer_poly [(263, 111), (867, 161), (880, 768), (212, 765)]\n",
      "655\n",
      "outer_poly [(582, 393), (858, 396), (860, 670), (581, 673)]\n",
      "656\n",
      "outer_poly [(376, 11), (1034, 129), (1086, 794), (345, 853)]\n",
      "657\n"
     ]
    },
    {
     "name": "stderr",
     "output_type": "stream",
     "text": [
      " 13%|█▎        | 661/4943 [00:26<02:48, 25.36it/s]"
     ]
    },
    {
     "name": "stdout",
     "output_type": "stream",
     "text": [
      "outer_poly [(585, 396), (846, 377), (857, 665), (585, 663)]\n",
      "658\n",
      "outer_poly [(569, 352), (709, 326), (710, 552), (570, 548)]\n",
      "659\n",
      "outer_poly [(609, 322), (713, 265), (720, 582), (614, 568)]\n",
      "660\n",
      "outer_poly [(600, 384), (692, 335), (696, 627), (602, 616)]\n",
      "661\n",
      "outer_poly [(472, 255), (882, 183), (886, 720), (467, 684)]\n",
      "662\n",
      "outer_poly [(506, 195), (801, 289), (805, 655), (497, 662)]\n"
     ]
    },
    {
     "name": "stderr",
     "output_type": "stream",
     "text": [
      " 13%|█▎        | 667/4943 [00:26<02:54, 24.44it/s]"
     ]
    },
    {
     "name": "stdout",
     "output_type": "stream",
     "text": [
      "663\n",
      "outer_poly [(498, 252), (894, 123), (920, 763), (501, 711)]\n",
      "664\n",
      "outer_poly [(476, 381), (816, 391), (824, 737), (463, 733)]\n",
      "665\n",
      "outer_poly [(538, 407), (675, 364), (677, 682), (537, 658)]\n",
      "666\n",
      "outer_poly [(495, 412), (797, 402), (806, 724), (484, 725)]\n",
      "667\n",
      "outer_poly [(412, 353), (798, 321), (812, 752), (397, 745)]\n"
     ]
    },
    {
     "name": "stderr",
     "output_type": "stream",
     "text": [
      "\r",
      " 14%|█▎        | 670/4943 [00:26<02:59, 23.84it/s]"
     ]
    },
    {
     "name": "stdout",
     "output_type": "stream",
     "text": [
      "668\n",
      "outer_poly [(539, 467), (784, 451), (789, 726), (538, 723)]\n",
      "669\n",
      "outer_poly [(560, 269), (901, 91), (936, 741), (564, 717)]\n",
      "670\n",
      "outer_poly [(661, 415), (836, 344), (844, 705), (661, 701)]\n",
      "671\n",
      "outer_poly [(610, 315), (835, 115), (871, 786), (617, 755)]\n",
      "672\n",
      "outer_poly [(509, 292), (683, 393), (680, 708), (495, 717)]\n"
     ]
    },
    {
     "name": "stderr",
     "output_type": "stream",
     "text": [
      " 14%|█▎        | 676/4943 [00:26<03:05, 23.02it/s]"
     ]
    },
    {
     "name": "stdout",
     "output_type": "stream",
     "text": [
      "673\n",
      "outer_poly [(483, 393), (702, 418), (703, 663), (481, 662)]\n",
      "674\n",
      "outer_poly [(272, 37), (840, 141), (862, 701), (226, 705)]\n",
      "675\n",
      "outer_poly [(507, 380), (723, 397), (729, 625), (509, 628)]\n",
      "676\n",
      "outer_poly [(443, 396), (737, 398), (746, 694), (438, 697)]\n",
      "677\n",
      "outer_poly [(499, 364), (766, 335), (779, 635), (503, 639)]\n"
     ]
    },
    {
     "name": "stderr",
     "output_type": "stream",
     "text": [
      " 14%|█▍        | 682/4943 [00:27<03:03, 23.21it/s]"
     ]
    },
    {
     "name": "stdout",
     "output_type": "stream",
     "text": [
      "678\n",
      "outer_poly [(584, 473), (700, 448), (704, 650), (587, 648)]\n",
      "679\n",
      "outer_poly [(718, 2), (762, 27), (753, 791), (603, 864), (0, 862), (5, 3)]\n",
      "680\n",
      "outer_poly [(656, 362), (915, 372), (921, 647), (658, 653)]\n",
      "681\n",
      "outer_poly [(457, 321), (756, 353), (759, 662), (450, 674)]\n",
      "682\n",
      "outer_poly [(352, 215), (720, 290), (719, 680), (331, 700)]\n"
     ]
    },
    {
     "name": "stderr",
     "output_type": "stream",
     "text": [
      " 14%|█▍        | 688/4943 [00:27<02:54, 24.36it/s]"
     ]
    },
    {
     "name": "stdout",
     "output_type": "stream",
     "text": [
      "683\n",
      "outer_poly [(523, 296), (813, 316), (813, 613), (519, 621)]\n",
      "684\n",
      "outer_poly [(573, 127), (1207, 179), (1249, 832), (547, 820)]\n",
      "685\n",
      "outer_poly [(547, 396), (852, 421), (850, 737), (531, 730)]\n",
      "686\n",
      "outer_poly [(336, 86), (1066, 47), (1019, 794), (380, 718)]\n",
      "687\n",
      "outer_poly [(494, 235), (847, 258), (853, 618), (496, 615)]\n",
      "688\n"
     ]
    },
    {
     "name": "stderr",
     "output_type": "stream",
     "text": [
      "\r",
      " 14%|█▍        | 691/4943 [00:27<02:57, 24.00it/s]"
     ]
    },
    {
     "name": "stdout",
     "output_type": "stream",
     "text": [
      "outer_poly [(150, 284), (477, 290), (474, 607), (142, 608)]\n",
      "689\n",
      "outer_poly [(474, 180), (813, 149), (813, 534), (475, 520)]\n",
      "690\n",
      "outer_poly [(412, 186), (617, 218), (615, 496), (415, 503)]\n",
      "691\n",
      "outer_poly [(478, 282), (777, 289), (773, 589), (472, 585)]\n",
      "692\n",
      "outer_poly [(655, 334), (1018, 317), (1025, 702), (648, 687)]\n"
     ]
    },
    {
     "name": "stderr",
     "output_type": "stream",
     "text": [
      " 14%|█▍        | 697/4943 [00:27<02:52, 24.60it/s]"
     ]
    },
    {
     "name": "stdout",
     "output_type": "stream",
     "text": [
      "693\n",
      "outer_poly [(693, 322), (780, 291), (780, 583), (692, 554)]\n",
      "694\n",
      "outer_poly [(358, 220), (965, 153), (975, 863), (349, 812)]\n",
      "695\n",
      "outer_poly [(413, 253), (823, 134), (836, 843), (415, 741)]\n",
      "696\n",
      "outer_poly [(570, 72), (814, 239), (819, 701), (562, 800)]\n",
      "697\n",
      "outer_poly [(668, 384), (727, 350), (728, 612), (669, 594)]\n",
      "698\n",
      "outer_poly [(527, 431), (634, 408), (636, 633), (526, 622)]\n"
     ]
    },
    {
     "name": "stderr",
     "output_type": "stream",
     "text": [
      " 14%|█▍        | 703/4943 [00:28<02:47, 25.25it/s]"
     ]
    },
    {
     "name": "stdout",
     "output_type": "stream",
     "text": [
      "699\n",
      "outer_poly [(565, 434), (637, 418), (642, 565), (570, 563)]\n",
      "700\n",
      "outer_poly [(481, 316), (658, 364), (656, 632), (474, 643)]\n",
      "701\n",
      "outer_poly [(628, 279), (847, 148), (870, 666), (637, 644)]\n",
      "702\n",
      "outer_poly [(575, 446), (675, 416), (680, 637), (578, 635)]\n",
      "703\n",
      "outer_poly [(518, 263), (832, 280), (833, 610), (523, 649)]\n",
      "704\n",
      "outer_poly [(466, 487), (659, 484), (661, 676), (467, 682)]\n"
     ]
    },
    {
     "name": "stderr",
     "output_type": "stream",
     "text": [
      " 14%|█▍        | 709/4943 [00:28<02:47, 25.30it/s]"
     ]
    },
    {
     "name": "stdout",
     "output_type": "stream",
     "text": [
      "705\n",
      "outer_poly [(571, 440), (743, 442), (750, 625), (573, 634)]\n",
      "706\n",
      "outer_poly [(601, 445), (782, 447), (786, 640), (606, 647)]\n",
      "707\n",
      "outer_poly [(487, 235), (872, 113), (885, 759), (489, 689)]\n",
      "708\n",
      "outer_poly [(551, 297), (652, 216), (657, 656), (559, 610)]\n",
      "709\n",
      "outer_poly [(582, 285), (808, 297), (810, 538), (583, 549)]\n",
      "710\n"
     ]
    },
    {
     "name": "stderr",
     "output_type": "stream",
     "text": [
      " 14%|█▍        | 715/4943 [00:28<02:44, 25.74it/s]"
     ]
    },
    {
     "name": "stdout",
     "output_type": "stream",
     "text": [
      "outer_poly [(510, 74), (1177, 85), (1166, 740), (516, 756)]\n",
      "711\n",
      "outer_poly [(451, 238), (688, 302), (685, 624), (447, 655)]\n",
      "712\n",
      "outer_poly [(637, 341), (694, 311), (698, 557), (639, 543)]\n",
      "713\n",
      "outer_poly [(430, 370), (665, 389), (666, 629), (427, 634)]\n",
      "714\n",
      "outer_poly [(560, 408), (714, 372), (719, 647), (561, 638)]\n",
      "715\n",
      "outer_poly [(537, 435), (629, 400), (631, 666), (537, 653)]\n"
     ]
    },
    {
     "name": "stderr",
     "output_type": "stream",
     "text": [
      " 15%|█▍        | 721/4943 [00:28<02:42, 26.01it/s]"
     ]
    },
    {
     "name": "stdout",
     "output_type": "stream",
     "text": [
      "716\n",
      "outer_poly [(435, 164), (863, 253), (873, 706), (416, 724)]\n",
      "717\n",
      "outer_poly [(486, 14), (796, 265), (821, 768), (475, 819)]\n",
      "718\n",
      "outer_poly [(367, 116), (917, 174), (934, 719), (341, 728)]\n",
      "719\n",
      "outer_poly [(363, 217), (882, 194), (897, 747), (340, 738)]\n",
      "720\n",
      "outer_poly [(523, 375), (826, 363), (832, 683), (518, 678)]\n",
      "721\n"
     ]
    },
    {
     "name": "stderr",
     "output_type": "stream",
     "text": [
      "\r",
      " 15%|█▍        | 724/4943 [00:28<02:42, 26.01it/s]"
     ]
    },
    {
     "name": "stdout",
     "output_type": "stream",
     "text": [
      "outer_poly [(484, 219), (885, 71), (904, 726), (481, 682)]\n",
      "722\n",
      "outer_poly [(449, 370), (662, 330), (664, 656), (444, 643)]\n",
      "723\n",
      "outer_poly [(418, 225), (857, 58), (893, 763), (420, 724)]\n",
      "724\n",
      "outer_poly [(466, 261), (739, 77), (757, 753), (459, 707)]\n",
      "725\n",
      "outer_poly [(621, 385), (757, 463), (760, 755), (616, 763)]\n",
      "726\n",
      "outer_poly [(446, 215), (905, 132), (914, 732), (439, 688)]\n"
     ]
    },
    {
     "name": "stderr",
     "output_type": "stream",
     "text": [
      " 15%|█▍        | 730/4943 [00:29<02:41, 26.16it/s]"
     ]
    },
    {
     "name": "stdout",
     "output_type": "stream",
     "text": [
      "727\n",
      "outer_poly [(567, 393), (700, 376), (703, 569), (571, 564)]\n",
      "728\n",
      "outer_poly [(611, 399), (731, 381), (738, 564), (613, 560)]\n",
      "729\n",
      "outer_poly [(617, 394), (828, 413), (833, 643), (616, 643)]\n",
      "730\n",
      "outer_poly [(528, 356), (863, 377), (871, 716), (520, 719)]\n",
      "731\n",
      "outer_poly [(444, 325), (853, 317), (862, 744), (426, 737)]\n",
      "732\n",
      "outer_poly [(575, 466), (818, 453), (824, 716), (572, 713)]\n"
     ]
    },
    {
     "name": "stderr",
     "output_type": "stream",
     "text": [
      " 15%|█▍        | 736/4943 [00:29<02:41, 26.08it/s]"
     ]
    },
    {
     "name": "stdout",
     "output_type": "stream",
     "text": [
      "733\n",
      "outer_poly [(369, 186), (949, 99), (979, 788), (333, 763)]\n",
      "734\n",
      "outer_poly [(395, 373), (645, 366), (641, 642), (387, 632)]\n",
      "735\n",
      "outer_poly [(475, 383), (675, 381), (677, 629), (471, 628)]\n",
      "736\n",
      "outer_poly [(597, 473), (689, 416), (694, 723), (598, 715)]\n",
      "737\n",
      "outer_poly [(394, 305), (719, 340), (727, 669), (388, 676)]\n"
     ]
    },
    {
     "name": "stderr",
     "output_type": "stream",
     "text": [
      " 15%|█▌        | 742/4943 [00:29<02:39, 26.33it/s]"
     ]
    },
    {
     "name": "stdout",
     "output_type": "stream",
     "text": [
      "738\n",
      "outer_poly [(514, 272), (789, 307), (788, 620), (510, 648)]\n",
      "739\n",
      "outer_poly [(682, 342), (821, 357), (821, 554), (680, 567)]\n",
      "740\n",
      "outer_poly [(455, 2), (453, 852), (879, 693), (875, 130), (631, 3)]\n",
      "741\n",
      "outer_poly [(486, 228), (753, 240), (752, 509), (486, 518)]\n",
      "742\n",
      "outer_poly [(568, 384), (757, 408), (759, 647), (566, 662)]\n",
      "743\n",
      "outer_poly [(532, 397), (629, 418), (636, 611), (535, 629)]\n"
     ]
    },
    {
     "name": "stderr",
     "output_type": "stream",
     "text": [
      " 15%|█▌        | 748/4943 [00:29<02:36, 26.84it/s]"
     ]
    },
    {
     "name": "stdout",
     "output_type": "stream",
     "text": [
      "744\n",
      "outer_poly [(649, 32), (653, 862), (721, 863), (900, 745), (889, 217), (710, 34)]\n",
      "745\n",
      "outer_poly [(439, 251), (435, 675), (813, 658), (814, 283)]\n",
      "746\n",
      "outer_poly [(391, 78), (362, 778), (1104, 792), (1082, 77)]\n",
      "747\n",
      "outer_poly [(266, 34), (991, 36), (1080, 784), (203, 802)]\n",
      "748\n",
      "outer_poly [(532, 378), (697, 373), (701, 540), (536, 544)]\n",
      "749\n",
      "outer_poly [(625, 183), (828, 270), (835, 604), (629, 633)]\n"
     ]
    },
    {
     "name": "stderr",
     "output_type": "stream",
     "text": [
      " 15%|█▌        | 754/4943 [00:29<02:30, 27.81it/s]"
     ]
    },
    {
     "name": "stdout",
     "output_type": "stream",
     "text": [
      "750\n",
      "outer_poly [(544, 404), (755, 408), (754, 621), (543, 617)]\n",
      "751\n",
      "outer_poly [(540, 112), (821, 272), (827, 731), (529, 798)]\n",
      "752\n",
      "outer_poly [(578, 396), (745, 425), (745, 650), (574, 662)]\n",
      "753\n",
      "outer_poly [(383, 245), (854, 267), (858, 742), (369, 741)]\n",
      "754\n",
      "outer_poly [(425, 240), (911, 177), (916, 773), (408, 728)]\n",
      "755\n",
      "outer_poly [(560, 414), (711, 388), (713, 645), (560, 631)]\n"
     ]
    },
    {
     "name": "stderr",
     "output_type": "stream",
     "text": [
      " 15%|█▌        | 760/4943 [00:30<02:45, 25.33it/s]"
     ]
    },
    {
     "name": "stdout",
     "output_type": "stream",
     "text": [
      "756\n",
      "outer_poly [(642, 442), (736, 419), (741, 625), (644, 617)]\n",
      "757\n",
      "outer_poly [(507, 219), (699, 13), (703, 777), (505, 681)]\n",
      "758\n",
      "outer_poly [(354, 136), (862, 62), (863, 672), (343, 645)]\n",
      "759\n",
      "outer_poly [(314, 1), (300, 689), (970, 680), (957, 50), (443, 1)]\n",
      "760\n",
      "outer_poly [(499, 279), (732, 337), (735, 635), (499, 648)]\n"
     ]
    },
    {
     "name": "stderr",
     "output_type": "stream",
     "text": [
      " 15%|█▌        | 766/4943 [00:30<02:46, 25.04it/s]"
     ]
    },
    {
     "name": "stdout",
     "output_type": "stream",
     "text": [
      "761\n",
      "outer_poly [(526, 246), (712, 370), (718, 731), (520, 755)]\n",
      "762\n",
      "outer_poly [(513, 448), (661, 417), (664, 664), (514, 662)]\n",
      "763\n",
      "outer_poly [(420, 353), (719, 369), (725, 664), (414, 668)]\n",
      "764\n",
      "outer_poly [(493, 210), (687, 372), (694, 764), (479, 779)]\n",
      "765\n",
      "outer_poly [(534, 298), (742, 365), (743, 652), (526, 656)]\n"
     ]
    },
    {
     "name": "stderr",
     "output_type": "stream",
     "text": [
      "\r",
      " 16%|█▌        | 769/4943 [00:30<02:45, 25.20it/s]"
     ]
    },
    {
     "name": "stdout",
     "output_type": "stream",
     "text": [
      "766\n",
      "outer_poly [(517, 288), (662, 47), (725, 735), (547, 727)]\n",
      "767\n",
      "outer_poly [(461, 250), (907, 264), (919, 712), (456, 716)]\n",
      "768\n",
      "outer_poly [(89, 224), (533, 249), (543, 658), (98, 691)]\n",
      "769\n",
      "outer_poly [(171, 289), (491, 335), (490, 662), (162, 694)]\n",
      "770\n",
      "outer_poly [(543, 244), (837, 260), (833, 554), (547, 569)]\n",
      "771\n",
      "outer_poly [(477, 274), (737, 266), (742, 532), (486, 534)]\n"
     ]
    },
    {
     "name": "stderr",
     "output_type": "stream",
     "text": [
      " 16%|█▌        | 775/4943 [00:30<02:35, 26.77it/s]"
     ]
    },
    {
     "name": "stdout",
     "output_type": "stream",
     "text": [
      "772\n",
      "outer_poly [(383, 281), (663, 275), (662, 565), (385, 563)]\n",
      "773\n",
      "outer_poly [(474, 231), (940, 239), (944, 706), (467, 709)]\n",
      "774\n",
      "outer_poly [(482, 310), (835, 307), (840, 663), (484, 663)]\n",
      "775\n",
      "outer_poly [(395, 373), (638, 359), (643, 633), (400, 629)]\n",
      "776\n",
      "outer_poly [(414, 241), (749, 286), (747, 635), (408, 651)]\n",
      "777\n",
      "outer_poly [(399, 301), (728, 308), (725, 633), (390, 629)]\n"
     ]
    },
    {
     "name": "stderr",
     "output_type": "stream",
     "text": [
      " 16%|█▌        | 781/4943 [00:31<02:34, 26.88it/s]"
     ]
    },
    {
     "name": "stdout",
     "output_type": "stream",
     "text": [
      "778\n",
      "outer_poly [(306, 205), (783, 223), (791, 692), (296, 696)]\n",
      "779\n",
      "outer_poly [(332, 193), (791, 189), (787, 661), (320, 649)]\n",
      "780\n",
      "outer_poly [(570, 318), (759, 376), (764, 669), (572, 689)]\n",
      "781\n",
      "outer_poly [(630, 322), (914, 288), (921, 616), (633, 609)]\n",
      "782\n",
      "outer_poly [(501, 232), (820, 281), (825, 616), (493, 619)]\n",
      "783\n",
      "outer_poly [(518, 310), (741, 370), (741, 663), (509, 677)]\n"
     ]
    },
    {
     "name": "stderr",
     "output_type": "stream",
     "text": [
      " 16%|█▌        | 787/4943 [00:31<02:31, 27.43it/s]"
     ]
    },
    {
     "name": "stdout",
     "output_type": "stream",
     "text": [
      "784\n",
      "outer_poly [(561, 361), (872, 361), (880, 673), (562, 673)]\n",
      "785\n",
      "outer_poly [(331, 201), (921, 17), (1009, 821), (310, 811)]\n",
      "786\n",
      "outer_poly [(330, 123), (953, 135), (980, 771), (298, 771)]\n",
      "787\n",
      "outer_poly [(350, 166), (922, 181), (947, 767), (319, 767)]\n",
      "788\n",
      "outer_poly [(571, 292), (797, 340), (803, 625), (575, 642)]\n",
      "789\n",
      "outer_poly [(565, 334), (774, 254), (779, 679), (562, 660)]\n"
     ]
    },
    {
     "name": "stderr",
     "output_type": "stream",
     "text": [
      " 16%|█▌        | 793/4943 [00:31<02:28, 27.94it/s]"
     ]
    },
    {
     "name": "stdout",
     "output_type": "stream",
     "text": [
      "790\n",
      "outer_poly [(511, 224), (785, 279), (784, 602), (504, 624)]\n",
      "791\n",
      "outer_poly [(527, 353), (724, 444), (725, 772), (512, 784)]\n",
      "792\n",
      "outer_poly [(565, 413), (721, 385), (726, 641), (568, 628)]\n",
      "793\n",
      "outer_poly [(482, 343), (668, 270), (679, 700), (485, 666)]\n",
      "794\n",
      "outer_poly [(663, 427), (745, 404), (750, 606), (667, 596)]\n",
      "795\n",
      "outer_poly [(505, 413), (678, 399), (674, 632), (502, 621)]\n"
     ]
    },
    {
     "name": "stderr",
     "output_type": "stream",
     "text": [
      " 16%|█▌        | 799/4943 [00:31<02:34, 26.85it/s]"
     ]
    },
    {
     "name": "stdout",
     "output_type": "stream",
     "text": [
      "796\n",
      "outer_poly [(544, 256), (808, 307), (808, 654), (545, 698)]\n",
      "797\n",
      "outer_poly [(710, 297), (824, 341), (821, 609), (709, 645)]\n",
      "798\n",
      "outer_poly [(825, 299), (921, 327), (922, 547), (824, 564)]\n",
      "799\n",
      "outer_poly [(543, 298), (832, 325), (829, 631), (536, 646)]\n",
      "800\n",
      "outer_poly [(538, 318), (640, 221), (651, 626), (540, 621)]\n",
      "801\n",
      "outer_poly [(279, 3), (258, 862), (938, 864), (1129, 837), (1128, 45), (967, 0)]\n"
     ]
    },
    {
     "name": "stderr",
     "output_type": "stream",
     "text": [
      " 16%|█▋        | 805/4943 [00:31<02:30, 27.51it/s]"
     ]
    },
    {
     "name": "stdout",
     "output_type": "stream",
     "text": [
      "802\n",
      "outer_poly [(574, 418), (636, 377), (641, 617), (577, 615)]\n",
      "803\n",
      "outer_poly [(480, 303), (802, 304), (801, 629), (476, 623)]\n",
      "804\n",
      "outer_poly [(184, 27), (910, 77), (920, 793), (141, 795)]\n",
      "805\n",
      "outer_poly [(495, 292), (966, 297), (976, 788), (471, 771)]\n",
      "806\n",
      "outer_poly [(339, 87), (990, 94), (1026, 756), (298, 755)]\n",
      "807\n",
      "outer_poly [(207, 107), (824, 80), (859, 727), (163, 731)]\n"
     ]
    },
    {
     "name": "stderr",
     "output_type": "stream",
     "text": [
      " 16%|█▋        | 811/4943 [00:32<02:26, 28.19it/s]"
     ]
    },
    {
     "name": "stdout",
     "output_type": "stream",
     "text": [
      "808\n",
      "outer_poly [(238, 221), (649, 244), (648, 640), (227, 644)]\n",
      "809\n",
      "outer_poly [(380, 199), (789, 192), (793, 613), (373, 612)]\n",
      "810\n",
      "outer_poly [(505, 300), (746, 306), (747, 552), (502, 549)]\n",
      "811\n",
      "outer_poly [(512, 325), (507, 564), (626, 554), (627, 326), (546, 319)]\n",
      "812\n",
      "outer_poly [(570, 260), (870, 199), (871, 695), (569, 631)]\n",
      "813\n",
      "outer_poly [(509, 381), (779, 370), (782, 653), (511, 648)]\n"
     ]
    },
    {
     "name": "stderr",
     "output_type": "stream",
     "text": [
      " 17%|█▋        | 817/4943 [00:32<02:26, 28.25it/s]"
     ]
    },
    {
     "name": "stdout",
     "output_type": "stream",
     "text": [
      "814\n",
      "outer_poly [(504, 347), (744, 354), (744, 598), (503, 600)]\n",
      "815\n",
      "outer_poly [(504, 163), (673, 276), (674, 627), (498, 658)]\n",
      "816\n",
      "outer_poly [(461, 342), (694, 253), (705, 700), (459, 683)]\n",
      "817\n",
      "outer_poly [(473, 346), (701, 262), (712, 690), (474, 678)]\n",
      "818\n",
      "outer_poly [(428, 7), (398, 789), (753, 744), (741, 251)]\n",
      "819\n",
      "outer_poly [(305, 129), (896, 132), (930, 733), (278, 741)]\n"
     ]
    },
    {
     "name": "stderr",
     "output_type": "stream",
     "text": [
      " 17%|█▋        | 823/4943 [00:32<02:24, 28.59it/s]"
     ]
    },
    {
     "name": "stdout",
     "output_type": "stream",
     "text": [
      "820\n",
      "outer_poly [(475, 414), (764, 406), (773, 702), (470, 705)]\n",
      "821\n",
      "outer_poly [(504, 439), (769, 415), (782, 710), (506, 714)]\n",
      "822\n",
      "outer_poly [(540, 452), (675, 422), (683, 652), (545, 651)]\n",
      "823\n",
      "outer_poly [(498, 294), (642, 397), (642, 714), (488, 718)]\n",
      "824\n",
      "outer_poly [(407, 167), (781, 203), (793, 578), (407, 585)]\n",
      "825\n",
      "outer_poly [(375, 230), (876, 243), (885, 737), (374, 744)]\n"
     ]
    },
    {
     "name": "stderr",
     "output_type": "stream",
     "text": [
      " 17%|█▋        | 829/4943 [00:32<02:23, 28.76it/s]"
     ]
    },
    {
     "name": "stdout",
     "output_type": "stream",
     "text": [
      "826\n",
      "outer_poly [(331, 234), (707, 267), (710, 631), (328, 651)]\n",
      "827\n",
      "outer_poly [(437, 346), (665, 304), (669, 663), (439, 639)]\n",
      "828\n",
      "outer_poly [(620, 351), (695, 303), (698, 625), (623, 600)]\n",
      "829\n",
      "outer_poly [(552, 136), (903, 247), (901, 724), (548, 829)]\n",
      "830\n",
      "outer_poly [(469, 101), (966, 157), (959, 661), (476, 716)]\n",
      "831\n",
      "outer_poly [(558, 246), (721, 151), (733, 690), (569, 611)]\n"
     ]
    },
    {
     "name": "stderr",
     "output_type": "stream",
     "text": [
      " 17%|█▋        | 835/4943 [00:32<02:23, 28.69it/s]"
     ]
    },
    {
     "name": "stdout",
     "output_type": "stream",
     "text": [
      "832\n",
      "outer_poly [(503, 396), (747, 415), (745, 674), (500, 683)]\n",
      "833\n",
      "outer_poly [(535, 392), (764, 407), (766, 648), (534, 653)]\n",
      "834\n",
      "outer_poly [(512, 348), (810, 341), (814, 648), (513, 644)]\n",
      "835\n",
      "outer_poly [(604, 440), (727, 423), (731, 634), (606, 625)]\n",
      "836\n",
      "outer_poly [(550, 431), (690, 408), (693, 648), (552, 636)]\n",
      "837\n",
      "outer_poly [(395, 314), (569, 277), (570, 609), (395, 586)]\n"
     ]
    },
    {
     "name": "stderr",
     "output_type": "stream",
     "text": [
      " 17%|█▋        | 841/4943 [00:33<02:31, 27.04it/s]"
     ]
    },
    {
     "name": "stdout",
     "output_type": "stream",
     "text": [
      "838\n",
      "outer_poly [(366, 364), (484, 346), (485, 561), (371, 550)]\n",
      "839\n",
      "outer_poly [(502, 261), (647, 321), (647, 614), (500, 642)]\n",
      "840\n",
      "outer_poly [(328, 92), (807, 184), (810, 667), (318, 708)]\n",
      "841\n",
      "outer_poly [(322, 239), (691, 239), (692, 612), (318, 607)]\n",
      "842\n",
      "outer_poly [(453, 335), (686, 323), (683, 577), (453, 571)]\n"
     ]
    },
    {
     "name": "stderr",
     "output_type": "stream",
     "text": [
      " 17%|█▋        | 847/4943 [00:33<02:49, 24.17it/s]"
     ]
    },
    {
     "name": "stdout",
     "output_type": "stream",
     "text": [
      "843\n",
      "outer_poly [(553, 345), (623, 321), (624, 548), (555, 536)]\n",
      "844\n",
      "outer_poly [(573, 400), (744, 350), (749, 677), (574, 661)]\n",
      "845\n",
      "outer_poly [(620, 259), (787, 306), (794, 556), (623, 559)]\n",
      "846\n",
      "outer_poly [(552, 306), (669, 253), (671, 546), (553, 539)]\n",
      "847\n",
      "outer_poly [(459, 381), (675, 400), (674, 629), (453, 632)]\n"
     ]
    },
    {
     "name": "stderr",
     "output_type": "stream",
     "text": [
      "\r",
      " 17%|█▋        | 850/4943 [00:33<02:53, 23.60it/s]"
     ]
    },
    {
     "name": "stdout",
     "output_type": "stream",
     "text": [
      "848\n",
      "outer_poly [(308, 348), (589, 381), (585, 663), (296, 664)]\n",
      "849\n",
      "outer_poly [(495, 342), (817, 350), (818, 668), (488, 667)]\n",
      "850\n",
      "outer_poly [(599, 457), (704, 427), (700, 658), (600, 650)]\n",
      "851\n",
      "outer_poly [(528, 227), (511, 779), (716, 759), (714, 374)]\n",
      "852\n",
      "outer_poly [(419, 366), (623, 354), (623, 589), (417, 583)]\n"
     ]
    },
    {
     "name": "stderr",
     "output_type": "stream",
     "text": [
      " 17%|█▋        | 856/4943 [00:33<02:51, 23.90it/s]"
     ]
    },
    {
     "name": "stdout",
     "output_type": "stream",
     "text": [
      "853\n",
      "outer_poly [(500, 93), (801, 301), (813, 771), (471, 794)]\n",
      "854\n",
      "outer_poly [(524, 207), (1031, 18), (1081, 829), (532, 749)]\n",
      "855\n",
      "outer_poly [(468, 384), (780, 392), (782, 705), (458, 705)]\n",
      "856\n",
      "outer_poly [(318, 187), (854, 123), (855, 762), (310, 718)]\n",
      "857\n",
      "outer_poly [(554, 352), (856, 249), (875, 735), (548, 723)]\n",
      "858\n",
      "outer_poly [(536, 397), (749, 341), (758, 682), (532, 676)]\n"
     ]
    },
    {
     "name": "stderr",
     "output_type": "stream",
     "text": [
      " 17%|█▋        | 862/4943 [00:34<02:44, 24.77it/s]"
     ]
    },
    {
     "name": "stdout",
     "output_type": "stream",
     "text": [
      "859\n",
      "outer_poly [(364, 415), (622, 405), (625, 673), (360, 672)]\n",
      "860\n",
      "outer_poly [(461, 310), (601, 334), (600, 540), (457, 554)]\n",
      "861\n",
      "outer_poly [(468, 353), (617, 372), (617, 577), (463, 589)]\n",
      "862\n",
      "outer_poly [(545, 318), (647, 221), (654, 624), (547, 617)]\n",
      "863\n",
      "outer_poly [(396, 66), (381, 864), (550, 864), (923, 766), (903, 186), (614, 68)]\n",
      "864\n",
      "outer_poly [(543, 226), (746, 314), (758, 673), (551, 731)]\n"
     ]
    },
    {
     "name": "stderr",
     "output_type": "stream",
     "text": [
      " 18%|█▊        | 868/4943 [00:34<02:38, 25.63it/s]"
     ]
    },
    {
     "name": "stdout",
     "output_type": "stream",
     "text": [
      "865\n",
      "outer_poly [(319, 44), (967, 109), (981, 743), (295, 763)]\n",
      "866\n",
      "outer_poly [(272, 38), (1042, 48), (1044, 809), (269, 815)]\n",
      "867\n",
      "outer_poly [(207, 40), (987, 38), (986, 818), (204, 812)]\n",
      "868\n",
      "outer_poly [(348, 123), (948, 142), (978, 752), (309, 748)]\n",
      "869\n",
      "outer_poly [(473, 215), (656, 239), (652, 504), (476, 507)]\n",
      "870\n",
      "outer_poly [(565, 299), (674, 197), (676, 675), (568, 632)]\n"
     ]
    },
    {
     "name": "stderr",
     "output_type": "stream",
     "text": [
      " 18%|█▊        | 874/4943 [00:34<02:35, 26.08it/s]"
     ]
    },
    {
     "name": "stdout",
     "output_type": "stream",
     "text": [
      "871\n",
      "outer_poly [(453, 220), (782, 87), (792, 688), (451, 649)]\n",
      "872\n",
      "outer_poly [(457, 112), (963, 151), (973, 658), (445, 666)]\n",
      "873\n",
      "outer_poly [(350, 279), (638, 310), (636, 597), (343, 604)]\n",
      "874\n",
      "outer_poly [(496, 443), (610, 421), (614, 604), (501, 605)]\n",
      "875\n",
      "outer_poly [(412, 303), (811, 302), (826, 705), (404, 710)]\n",
      "876\n",
      "outer_poly [(545, 405), (623, 369), (625, 606), (547, 603)]\n"
     ]
    },
    {
     "name": "stderr",
     "output_type": "stream",
     "text": [
      " 18%|█▊        | 880/4943 [00:34<02:36, 26.01it/s]"
     ]
    },
    {
     "name": "stdout",
     "output_type": "stream",
     "text": [
      "877\n",
      "outer_poly [(495, 427), (619, 393), (627, 621), (499, 623)]\n",
      "878\n",
      "outer_poly [(576, 338), (796, 338), (796, 559), (576, 559)]\n",
      "879\n",
      "outer_poly [(435, 293), (658, 332), (661, 616), (438, 642)]\n",
      "880\n",
      "outer_poly [(355, 87), (949, 146), (960, 723), (355, 767)]\n",
      "881\n",
      "outer_poly [(467, 204), (842, 230), (843, 604), (476, 627)]\n",
      "882\n"
     ]
    },
    {
     "name": "stderr",
     "output_type": "stream",
     "text": [
      " 18%|█▊        | 886/4943 [00:35<02:43, 24.77it/s]"
     ]
    },
    {
     "name": "stdout",
     "output_type": "stream",
     "text": [
      "outer_poly [(470, 62), (1138, 83), (1135, 739), (479, 760)]\n",
      "883\n",
      "outer_poly [(369, 136), (937, 132), (940, 694), (377, 701)]\n",
      "884\n",
      "outer_poly [(462, 213), (862, 216), (862, 606), (467, 613)]\n",
      "885\n",
      "outer_poly [(425, 309), (804, 300), (806, 690), (425, 685)]\n",
      "886\n",
      "outer_poly [(470, 247), (700, 309), (700, 623), (465, 656)]\n"
     ]
    },
    {
     "name": "stderr",
     "output_type": "stream",
     "text": [
      " 18%|█▊        | 892/4943 [00:35<02:40, 25.22it/s]"
     ]
    },
    {
     "name": "stdout",
     "output_type": "stream",
     "text": [
      "887\n",
      "outer_poly [(442, 340), (671, 325), (675, 578), (447, 577)]\n",
      "888\n",
      "outer_poly [(374, 284), (584, 238), (586, 594), (375, 575)]\n",
      "889\n",
      "outer_poly [(405, 230), (682, 153), (685, 634), (403, 599)]\n",
      "890\n",
      "outer_poly [(447, 318), (535, 280), (536, 569), (447, 550)]\n",
      "891\n",
      "outer_poly [(581, 334), (645, 299), (647, 569), (583, 553)]\n",
      "892\n",
      "outer_poly [(318, 154), (865, 92), (885, 711), (315, 695)]\n"
     ]
    },
    {
     "name": "stderr",
     "output_type": "stream",
     "text": [
      " 18%|█▊        | 898/4943 [00:35<02:36, 25.78it/s]"
     ]
    },
    {
     "name": "stdout",
     "output_type": "stream",
     "text": [
      "893\n",
      "outer_poly [(556, 303), (692, 252), (690, 544), (556, 541)]\n",
      "894\n",
      "outer_poly [(603, 253), (693, 308), (693, 543), (600, 549)]\n",
      "895\n",
      "outer_poly [(588, 250), (694, 302), (690, 531), (582, 536)]\n",
      "896\n",
      "outer_poly [(564, 269), (750, 322), (751, 581), (560, 583)]\n",
      "897\n",
      "outer_poly [(442, 192), (843, 107), (854, 622), (434, 611)]\n",
      "898\n",
      "outer_poly [(491, 229), (779, 290), (787, 624), (493, 643)]\n"
     ]
    },
    {
     "name": "stderr",
     "output_type": "stream",
     "text": [
      "\r",
      " 18%|█▊        | 901/4943 [00:35<02:45, 24.48it/s]"
     ]
    },
    {
     "name": "stdout",
     "output_type": "stream",
     "text": [
      "899\n",
      "outer_poly [(524, 222), (856, 279), (866, 647), (522, 667)]\n",
      "900\n",
      "outer_poly [(573, 314), (795, 337), (801, 576), (578, 581)]\n",
      "901\n",
      "outer_poly [(333, 24), (1053, 94), (1113, 809), (300, 858)]\n",
      "902\n",
      "outer_poly [(499, 244), (802, 65), (825, 743), (500, 696)]\n",
      "903\n",
      "outer_poly [(586, 405), (661, 374), (661, 608), (586, 600)]\n"
     ]
    },
    {
     "name": "stderr",
     "output_type": "stream",
     "text": [
      " 18%|█▊        | 907/4943 [00:35<02:52, 23.46it/s]"
     ]
    },
    {
     "name": "stdout",
     "output_type": "stream",
     "text": [
      "904\n",
      "outer_poly [(463, 375), (714, 356), (714, 648), (460, 638)]\n",
      "905\n",
      "outer_poly [(520, 258), (768, 326), (774, 640), (516, 650)]\n",
      "906\n",
      "outer_poly [(542, 410), (710, 370), (717, 654), (545, 642)]\n",
      "907\n",
      "outer_poly [(629, 221), (997, 3), (1028, 7), (1059, 862), (1001, 864), (635, 743)]\n",
      "908\n",
      "outer_poly [(431, 272), (899, 278), (913, 753), (410, 751)]\n"
     ]
    },
    {
     "name": "stderr",
     "output_type": "stream",
     "text": [
      " 18%|█▊        | 913/4943 [00:36<02:59, 22.50it/s]"
     ]
    },
    {
     "name": "stdout",
     "output_type": "stream",
     "text": [
      "909\n",
      "outer_poly [(377, 144), (993, 117), (1039, 768), (346, 771)]\n",
      "910\n",
      "outer_poly [(294, 114), (958, 51), (1006, 794), (243, 782)]\n",
      "911\n",
      "outer_poly [(331, 272), (811, 224), (824, 773), (301, 762)]\n",
      "912\n",
      "outer_poly [(588, 397), (759, 306), (767, 728), (582, 714)]\n",
      "913\n",
      "outer_poly [(476, 190), (869, 124), (871, 654), (482, 603)]\n"
     ]
    },
    {
     "name": "stderr",
     "output_type": "stream",
     "text": [
      " 19%|█▊        | 919/4943 [00:36<02:45, 24.33it/s]"
     ]
    },
    {
     "name": "stdout",
     "output_type": "stream",
     "text": [
      "914\n",
      "outer_poly [(584, 493), (667, 449), (670, 720), (582, 713)]\n",
      "915\n",
      "outer_poly [(511, 109), (758, 301), (762, 731), (490, 742)]\n",
      "916\n",
      "outer_poly [(550, 232), (881, 164), (875, 709), (548, 634)]\n",
      "917\n",
      "outer_poly [(522, 292), (766, 251), (766, 654), (519, 610)]\n",
      "918\n",
      "outer_poly [(451, 331), (719, 373), (724, 663), (446, 665)]\n",
      "919\n",
      "outer_poly [(460, 65), (765, 227), (763, 714), (454, 864)]\n"
     ]
    },
    {
     "name": "stderr",
     "output_type": "stream",
     "text": [
      " 19%|█▊        | 925/4943 [00:36<02:37, 25.49it/s]"
     ]
    },
    {
     "name": "stdout",
     "output_type": "stream",
     "text": [
      "920\n",
      "outer_poly [(519, 362), (691, 290), (699, 653), (521, 648)]\n",
      "921\n",
      "outer_poly [(585, 388), (740, 323), (752, 652), (590, 650)]\n",
      "922\n",
      "outer_poly [(609, 363), (702, 280), (717, 643), (619, 638)]\n",
      "923\n",
      "outer_poly [(616, 151), (1043, 222), (1044, 696), (607, 744)]\n",
      "924\n",
      "outer_poly [(311, 79), (959, 165), (979, 793), (290, 852)]\n",
      "925\n",
      "outer_poly [(492, 356), (716, 374), (713, 604), (487, 607)]\n"
     ]
    },
    {
     "name": "stderr",
     "output_type": "stream",
     "text": [
      " 19%|█▉        | 931/4943 [00:36<02:37, 25.39it/s]"
     ]
    },
    {
     "name": "stdout",
     "output_type": "stream",
     "text": [
      "926\n",
      "outer_poly [(495, 288), (982, 276), (990, 802), (465, 773)]\n",
      "927\n",
      "outer_poly [(511, 367), (795, 343), (831, 633), (531, 656)]\n",
      "928\n",
      "outer_poly [(553, 284), (822, 306), (816, 589), (548, 601)]\n",
      "929\n",
      "outer_poly [(260, 76), (878, 156), (869, 740), (251, 801)]\n",
      "930\n",
      "outer_poly [(318, 160), (826, 206), (820, 699), (308, 725)]\n",
      "931\n"
     ]
    },
    {
     "name": "stderr",
     "output_type": "stream",
     "text": [
      "\r",
      " 19%|█▉        | 934/4943 [00:37<02:44, 24.34it/s]"
     ]
    },
    {
     "name": "stdout",
     "output_type": "stream",
     "text": [
      "outer_poly [(496, 429), (661, 408), (663, 665), (496, 649)]\n",
      "932\n",
      "outer_poly [(584, 378), (689, 360), (688, 567), (584, 554)]\n",
      "933\n",
      "outer_poly [(176, 150), (764, 89), (761, 782), (161, 738)]\n",
      "934\n",
      "outer_poly [(479, 301), (871, 300), (878, 704), (473, 699)]\n",
      "935\n",
      "outer_poly [(513, 216), (746, 14), (757, 776), (513, 682)]\n"
     ]
    },
    {
     "name": "stderr",
     "output_type": "stream",
     "text": [
      " 19%|█▉        | 940/4943 [00:37<02:41, 24.75it/s]"
     ]
    },
    {
     "name": "stdout",
     "output_type": "stream",
     "text": [
      "936\n",
      "outer_poly [(502, 215), (773, 35), (787, 706), (503, 656)]\n",
      "937\n",
      "outer_poly [(482, 231), (815, 118), (829, 673), (484, 644)]\n",
      "938\n",
      "outer_poly [(241, 4), (214, 703), (911, 692), (897, 52), (382, 2)]\n",
      "939\n",
      "outer_poly [(481, 225), (852, 259), (856, 634), (478, 643)]\n",
      "940\n",
      "outer_poly [(250, 12), (804, 126), (815, 670), (232, 702)]\n",
      "941\n"
     ]
    },
    {
     "name": "stderr",
     "output_type": "stream",
     "text": [
      " 19%|█▉        | 946/4943 [00:37<02:42, 24.62it/s]"
     ]
    },
    {
     "name": "stdout",
     "output_type": "stream",
     "text": [
      "outer_poly [(487, 392), (740, 396), (744, 648), (485, 652)]\n",
      "942\n",
      "outer_poly [(435, 387), (721, 397), (724, 681), (428, 682)]\n",
      "943\n",
      "outer_poly [(582, 451), (645, 424), (651, 628), (587, 625)]\n",
      "944\n",
      "outer_poly [(281, 211), (787, 118), (815, 753), (256, 740)]\n",
      "945\n",
      "outer_poly [(473, 277), (771, 144), (801, 690), (477, 676)]\n",
      "946\n",
      "outer_poly [(476, 427), (604, 389), (614, 625), (483, 627)]\n"
     ]
    },
    {
     "name": "stderr",
     "output_type": "stream",
     "text": [
      " 19%|█▉        | 952/4943 [00:37<02:29, 26.78it/s]"
     ]
    },
    {
     "name": "stdout",
     "output_type": "stream",
     "text": [
      "947\n",
      "outer_poly [(483, 668), (688, 666), (642, 95), (462, 274)]\n",
      "948\n",
      "outer_poly [(505, 280), (634, 82), (686, 688), (528, 681)]\n",
      "949\n",
      "outer_poly [(620, 335), (785, 338), (783, 504), (620, 503)]\n",
      "950\n",
      "outer_poly [(581, 563), (785, 532), (782, 260), (584, 233), (574, 234)]\n",
      "951\n",
      "outer_poly [(409, 246), (716, 198), (722, 638), (419, 604)]\n",
      "952\n",
      "outer_poly [(487, 163), (825, 266), (832, 701), (482, 767)]\n"
     ]
    },
    {
     "name": "stderr",
     "output_type": "stream",
     "text": [
      " 19%|█▉        | 958/4943 [00:37<02:24, 27.63it/s]"
     ]
    },
    {
     "name": "stdout",
     "output_type": "stream",
     "text": [
      "953\n",
      "outer_poly [(343, 176), (936, 117), (944, 795), (337, 757)]\n",
      "954\n",
      "outer_poly [(448, 442), (580, 427), (583, 633), (449, 626)]\n",
      "955\n",
      "outer_poly [(493, 305), (658, 159), (665, 843), (494, 743)]\n",
      "956\n",
      "outer_poly [(431, 234), (762, 154), (767, 672), (433, 634)]\n",
      "957\n",
      "outer_poly [(466, 316), (568, 266), (571, 588), (469, 567)]\n",
      "958\n",
      "outer_poly [(608, 337), (790, 389), (796, 678), (609, 697)]\n"
     ]
    },
    {
     "name": "stderr",
     "output_type": "stream",
     "text": [
      " 20%|█▉        | 964/4943 [00:38<02:27, 27.02it/s]"
     ]
    },
    {
     "name": "stdout",
     "output_type": "stream",
     "text": [
      "959\n",
      "outer_poly [(575, 287), (742, 100), (760, 795), (580, 726)]\n",
      "960\n",
      "outer_poly [(504, 246), (815, 133), (826, 634), (499, 625)]\n",
      "961\n",
      "outer_poly [(375, 168), (835, 243), (847, 710), (355, 731)]\n",
      "962\n",
      "outer_poly [(310, 318), (615, 358), (608, 664), (291, 664)]\n",
      "963\n",
      "outer_poly [(426, 211), (829, 258), (839, 662), (411, 672)]\n",
      "964\n",
      "outer_poly [(468, 242), (821, 279), (828, 634), (467, 641)]\n"
     ]
    },
    {
     "name": "stderr",
     "output_type": "stream",
     "text": [
      "\r",
      " 20%|█▉        | 967/4943 [00:38<02:32, 26.06it/s]"
     ]
    },
    {
     "name": "stdout",
     "output_type": "stream",
     "text": [
      "965\n",
      "outer_poly [(368, 145), (965, 85), (1014, 736), (349, 741)]\n",
      "966\n",
      "outer_poly [(556, 266), (827, 228), (830, 558), (555, 550)]\n",
      "967\n",
      "outer_poly [(527, 451), (633, 426), (635, 648), (525, 642)]\n",
      "968\n",
      "outer_poly [(623, 463), (680, 419), (681, 691), (625, 682)]\n",
      "969\n",
      "outer_poly [(346, 182), (923, 84), (949, 807), (337, 758)]\n"
     ]
    },
    {
     "name": "stderr",
     "output_type": "stream",
     "text": [
      " 20%|█▉        | 973/4943 [00:38<02:34, 25.74it/s]"
     ]
    },
    {
     "name": "stdout",
     "output_type": "stream",
     "text": [
      "970\n",
      "outer_poly [(561, 372), (774, 325), (781, 675), (561, 658)]\n",
      "971\n",
      "outer_poly [(484, 365), (851, 361), (855, 732), (471, 727)]\n",
      "972\n",
      "outer_poly [(545, 324), (859, 218), (878, 724), (542, 708)]\n",
      "973\n",
      "outer_poly [(311, 312), (720, 289), (722, 746), (299, 729)]\n",
      "974\n",
      "outer_poly [(187, 151), (865, 119), (869, 863), (779, 863), (152, 831)]\n",
      "975\n",
      "outer_poly [(652, 426), (817, 361), (824, 703), (652, 694)]\n"
     ]
    },
    {
     "name": "stderr",
     "output_type": "stream",
     "text": [
      " 20%|█▉        | 979/4943 [00:38<02:29, 26.50it/s]"
     ]
    },
    {
     "name": "stdout",
     "output_type": "stream",
     "text": [
      "976\n",
      "outer_poly [(438, 357), (692, 383), (692, 646), (432, 646)]\n",
      "977\n",
      "outer_poly [(479, 230), (870, 257), (867, 649), (476, 666)]\n",
      "978\n",
      "outer_poly [(514, 152), (869, 248), (868, 699), (507, 783)]\n",
      "979\n",
      "outer_poly [(652, 249), (792, 308), (789, 624), (647, 673)]\n",
      "980\n",
      "outer_poly [(557, 276), (886, 300), (889, 646), (550, 659)]\n",
      "981\n",
      "outer_poly [(584, 361), (691, 399), (696, 635), (586, 658)]\n"
     ]
    },
    {
     "name": "stderr",
     "output_type": "stream",
     "text": [
      " 20%|█▉        | 985/4943 [00:38<02:34, 25.60it/s]"
     ]
    },
    {
     "name": "stdout",
     "output_type": "stream",
     "text": [
      "982\n",
      "outer_poly [(511, 359), (736, 374), (735, 607), (505, 609)]\n",
      "983\n",
      "outer_poly [(473, 227), (905, 222), (901, 661), (472, 649)]\n",
      "984\n",
      "outer_poly [(565, 404), (878, 412), (875, 732), (551, 722)]\n",
      "985\n",
      "outer_poly [(329, 235), (725, 257), (725, 642), (319, 646)]\n",
      "986\n",
      "outer_poly [(623, 361), (831, 356), (836, 564), (629, 567)]\n",
      "987\n"
     ]
    },
    {
     "name": "stderr",
     "output_type": "stream",
     "text": [
      " 20%|██        | 991/4943 [00:39<02:35, 25.48it/s]"
     ]
    },
    {
     "name": "stdout",
     "output_type": "stream",
     "text": [
      "outer_poly [(620, 258), (919, 258), (924, 558), (621, 558)]\n",
      "988\n",
      "outer_poly [(308, 81), (788, 142), (800, 608), (300, 629)]\n",
      "989\n",
      "outer_poly [(429, 295), (717, 307), (716, 592), (420, 586)]\n",
      "990\n",
      "outer_poly [(202, 9), (925, 109), (911, 782), (191, 852)]\n",
      "991\n",
      "outer_poly [(545, 325), (616, 296), (617, 573), (547, 547)]\n",
      "992\n",
      "outer_poly [(642, 401), (712, 379), (713, 583), (645, 572)]\n"
     ]
    },
    {
     "name": "stderr",
     "output_type": "stream",
     "text": [
      " 20%|██        | 997/4943 [00:39<02:34, 25.50it/s]"
     ]
    },
    {
     "name": "stdout",
     "output_type": "stream",
     "text": [
      "993\n",
      "outer_poly [(584, 188), (754, 4), (801, 0), (813, 731), (587, 656)]\n",
      "994\n",
      "outer_poly [(522, 184), (672, 344), (674, 737), (515, 764)]\n",
      "995\n",
      "outer_poly [(518, 225), (714, 357), (718, 731), (509, 759)]\n",
      "996\n",
      "outer_poly [(473, 293), (833, 355), (840, 745), (456, 753)]\n",
      "997\n",
      "outer_poly [(532, 444), (682, 415), (690, 645), (536, 644)]\n",
      "998\n"
     ]
    },
    {
     "name": "stderr",
     "output_type": "stream",
     "text": [
      " 20%|██        | 1004/4943 [00:39<02:23, 27.39it/s]"
     ]
    },
    {
     "name": "stdout",
     "output_type": "stream",
     "text": [
      "outer_poly [(500, 152), (697, 338), (703, 755), (488, 787)]\n",
      "999\n",
      "outer_poly [(362, 211), (893, 191), (919, 747), (340, 744)]\n",
      "1000\n",
      "outer_poly [(391, 327), (786, 304), (805, 722), (383, 729)]\n",
      "1001\n",
      "outer_poly [(446, 347), (721, 314), (733, 630), (451, 634)]\n",
      "1002\n",
      "outer_poly [(555, 454), (678, 425), (684, 637), (558, 637)]\n",
      "1003\n",
      "outer_poly [(564, 302), (747, 71), (777, 800), (565, 762)]\n",
      "1004\n"
     ]
    },
    {
     "name": "stderr",
     "output_type": "stream",
     "text": [
      "\r",
      " 20%|██        | 1007/4943 [00:39<02:21, 27.76it/s]"
     ]
    },
    {
     "name": "stdout",
     "output_type": "stream",
     "text": [
      "outer_poly [(362, 123), (687, 277), (699, 698), (341, 716)]\n",
      "1005\n",
      "outer_poly [(397, 21), (898, 131), (925, 645), (378, 658)]\n",
      "1006\n",
      "outer_poly [(379, 167), (750, 244), (756, 632), (360, 639)]\n",
      "1007\n",
      "outer_poly [(311, 47), (863, 137), (892, 682), (283, 697)]\n",
      "1008\n",
      "outer_poly [(428, 213), (857, 121), (896, 648), (427, 656)]\n",
      "1009\n",
      "outer_poly [(571, 413), (736, 365), (753, 639), (581, 642)]\n"
     ]
    },
    {
     "name": "stderr",
     "output_type": "stream",
     "text": [
      " 20%|██        | 1013/4943 [00:40<02:31, 26.02it/s]"
     ]
    },
    {
     "name": "stdout",
     "output_type": "stream",
     "text": [
      "1010\n",
      "outer_poly [(585, 411), (667, 322), (702, 682), (607, 687)]\n",
      "1011\n",
      "outer_poly [(502, 202), (907, 232), (892, 647), (509, 708)]\n",
      "1012\n",
      "outer_poly [(453, 563), (652, 532), (650, 255), (450, 219)]\n",
      "1013\n",
      "outer_poly [(580, 242), (731, 165), (737, 654), (587, 585)]\n",
      "1014\n",
      "outer_poly [(520, 393), (704, 358), (705, 681), (519, 658)]\n"
     ]
    },
    {
     "name": "stderr",
     "output_type": "stream",
     "text": [
      " 21%|██        | 1019/4943 [00:40<02:37, 24.85it/s]"
     ]
    },
    {
     "name": "stdout",
     "output_type": "stream",
     "text": [
      "1015\n",
      "outer_poly [(481, 271), (817, 155), (830, 790), (482, 715)]\n",
      "1016\n",
      "outer_poly [(611, 242), (788, 306), (789, 612), (612, 643)]\n",
      "1017\n",
      "outer_poly [(309, 82), (800, 177), (801, 674), (295, 714)]\n",
      "1018\n",
      "outer_poly [(369, 161), (895, 187), (901, 701), (359, 708)]\n",
      "1019\n",
      "outer_poly [(475, 339), (730, 341), (731, 596), (473, 594)]\n"
     ]
    },
    {
     "name": "stderr",
     "output_type": "stream",
     "text": [
      "\r",
      " 21%|██        | 1022/4943 [00:40<02:41, 24.30it/s]"
     ]
    },
    {
     "name": "stdout",
     "output_type": "stream",
     "text": [
      "1020\n",
      "outer_poly [(368, 283), (571, 244), (572, 580), (366, 564)]\n",
      "1021\n",
      "outer_poly [(540, 406), (687, 375), (693, 630), (544, 620)]\n",
      "1022\n",
      "outer_poly [(267, 368), (450, 308), (447, 702), (260, 682)]\n",
      "1023\n",
      "outer_poly [(553, 266), (709, 362), (711, 692), (549, 714)]\n",
      "1024\n",
      "outer_poly [(573, 281), (729, 252), (731, 490), (574, 488)]\n"
     ]
    },
    {
     "name": "stderr",
     "output_type": "stream",
     "text": [
      " 21%|██        | 1028/4943 [00:40<02:38, 24.66it/s]"
     ]
    },
    {
     "name": "stdout",
     "output_type": "stream",
     "text": [
      "1025\n",
      "outer_poly [(542, 275), (781, 149), (794, 643), (540, 638)]\n",
      "1026\n",
      "outer_poly [(473, 290), (791, 342), (793, 683), (461, 692)]\n",
      "1027\n",
      "outer_poly [(482, 60), (743, 268), (752, 725), (467, 760)]\n",
      "1028\n",
      "outer_poly [(465, 386), (675, 407), (671, 629), (456, 629)]\n",
      "1029\n",
      "outer_poly [(423, 296), (827, 289), (836, 704), (414, 702)]\n",
      "1030\n",
      "outer_poly [(371, 168), (935, 141), (951, 746), (343, 729)]\n"
     ]
    },
    {
     "name": "stderr",
     "output_type": "stream",
     "text": [
      " 21%|██        | 1034/4943 [00:40<02:31, 25.88it/s]"
     ]
    },
    {
     "name": "stdout",
     "output_type": "stream",
     "text": [
      "1031\n",
      "outer_poly [(382, 175), (927, 88), (951, 742), (367, 716)]\n",
      "1032\n",
      "outer_poly [(510, 167), (793, 258), (793, 626), (506, 667)]\n",
      "1033\n",
      "outer_poly [(538, 267), (763, 388), (766, 756), (520, 773)]\n",
      "1034\n",
      "outer_poly [(616, 431), (702, 409), (704, 615), (619, 606)]\n",
      "1035\n",
      "outer_poly [(358, 276), (708, 219), (699, 717), (346, 670)]\n",
      "1036\n"
     ]
    },
    {
     "name": "stderr",
     "output_type": "stream",
     "text": [
      " 21%|██        | 1040/4943 [00:41<02:34, 25.34it/s]"
     ]
    },
    {
     "name": "stdout",
     "output_type": "stream",
     "text": [
      "outer_poly [(237, 193), (784, 136), (796, 776), (189, 758)]\n",
      "1037\n",
      "outer_poly [(404, 324), (822, 288), (832, 760), (380, 749)]\n",
      "1038\n",
      "outer_poly [(400, 383), (587, 367), (586, 618), (397, 607)]\n",
      "1039\n",
      "outer_poly [(358, 334), (710, 282), (712, 757), (349, 722)]\n",
      "1040\n",
      "outer_poly [(500, 152), (916, 140), (913, 637), (500, 630)]\n",
      "1041\n"
     ]
    },
    {
     "name": "stderr",
     "output_type": "stream",
     "text": [
      "\r",
      " 21%|██        | 1043/4943 [00:41<02:39, 24.43it/s]"
     ]
    },
    {
     "name": "stdout",
     "output_type": "stream",
     "text": [
      "outer_poly [(288, 208), (695, 269), (704, 677), (269, 681)]\n",
      "1042\n",
      "outer_poly [(413, 370), (602, 311), (603, 653), (410, 648)]\n",
      "1043\n",
      "outer_poly [(648, 316), (859, 331), (855, 557), (644, 559)]\n",
      "1044\n",
      "outer_poly [(554, 400), (722, 416), (721, 613), (549, 619)]\n",
      "1045\n",
      "outer_poly [(460, 328), (630, 367), (618, 594), (445, 598)]\n"
     ]
    },
    {
     "name": "stderr",
     "output_type": "stream",
     "text": [
      " 21%|██        | 1049/4943 [00:41<02:41, 24.11it/s]"
     ]
    },
    {
     "name": "stdout",
     "output_type": "stream",
     "text": [
      "1046\n",
      "outer_poly [(457, 271), (831, 280), (831, 655), (451, 659)]\n",
      "1047\n",
      "outer_poly [(341, 107), (981, 95), (1048, 750), (311, 772)]\n",
      "1048\n",
      "outer_poly [(581, 304), (821, 324), (815, 578), (578, 589)]\n",
      "1049\n",
      "outer_poly [(530, 216), (815, 96), (812, 774), (532, 659)]\n",
      "1050\n",
      "outer_poly [(459, 434), (620, 414), (622, 663), (460, 647)]\n"
     ]
    },
    {
     "name": "stderr",
     "output_type": "stream",
     "text": [
      " 21%|██▏       | 1055/4943 [00:41<02:43, 23.73it/s]"
     ]
    },
    {
     "name": "stdout",
     "output_type": "stream",
     "text": [
      "1051\n",
      "outer_poly [(574, 375), (679, 357), (680, 565), (575, 552)]\n",
      "1052\n",
      "outer_poly [(369, 290), (534, 205), (536, 715), (373, 651)]\n",
      "1053\n",
      "outer_poly [(542, 83), (691, 244), (690, 637), (538, 684)]\n",
      "1054\n",
      "outer_poly [(602, 398), (794, 444), (801, 716), (601, 730)]\n",
      "1055\n",
      "outer_poly [(400, 334), (678, 256), (689, 698), (396, 686)]\n"
     ]
    },
    {
     "name": "stderr",
     "output_type": "stream",
     "text": [
      "\r",
      " 21%|██▏       | 1058/4943 [00:41<02:45, 23.52it/s]"
     ]
    },
    {
     "name": "stdout",
     "output_type": "stream",
     "text": [
      "1056\n",
      "outer_poly [(458, 236), (844, 92), (877, 699), (455, 684)]\n",
      "1057\n",
      "outer_poly [(556, 262), (735, 396), (744, 765), (555, 774)]\n",
      "1058\n",
      "outer_poly [(551, 432), (699, 432), (699, 582), (551, 584)]\n",
      "1059\n",
      "outer_poly [(382, 244), (756, 264), (757, 631), (380, 645)]\n",
      "1060\n",
      "outer_poly [(400, 250), (718, 155), (732, 709), (407, 659)]\n"
     ]
    },
    {
     "name": "stderr",
     "output_type": "stream",
     "text": [
      " 22%|██▏       | 1064/4943 [00:42<02:52, 22.50it/s]"
     ]
    },
    {
     "name": "stdout",
     "output_type": "stream",
     "text": [
      "1061\n",
      "outer_poly [(463, 293), (763, 293), (762, 591), (463, 593)]\n",
      "1062\n",
      "outer_poly [(377, 89), (984, 139), (997, 734), (374, 770)]\n",
      "1063\n",
      "outer_poly [(409, 123), (756, 199), (753, 609), (415, 681)]\n",
      "1064\n",
      "outer_poly [(557, 259), (813, 272), (815, 538), (559, 548)]\n",
      "1065\n",
      "outer_poly [(517, 418), (761, 433), (762, 688), (516, 693)]\n"
     ]
    },
    {
     "name": "stderr",
     "output_type": "stream",
     "text": [
      " 22%|██▏       | 1070/4943 [00:42<02:49, 22.84it/s]"
     ]
    },
    {
     "name": "stdout",
     "output_type": "stream",
     "text": [
      "1066\n",
      "outer_poly [(489, 261), (719, 327), (721, 662), (487, 712)]\n",
      "1067\n",
      "outer_poly [(356, 181), (949, 154), (954, 786), (347, 762)]\n",
      "1068\n",
      "outer_poly [(565, 375), (827, 364), (832, 640), (566, 637)]\n",
      "1069\n",
      "outer_poly [(481, 314), (750, 234), (762, 726), (484, 680)]\n",
      "1070\n",
      "outer_poly [(543, 329), (828, 339), (831, 627), (540, 631)]\n"
     ]
    },
    {
     "name": "stderr",
     "output_type": "stream",
     "text": [
      "\r",
      " 22%|██▏       | 1073/4943 [00:42<02:47, 23.07it/s]"
     ]
    },
    {
     "name": "stdout",
     "output_type": "stream",
     "text": [
      "1071\n",
      "outer_poly [(491, 295), (810, 313), (815, 634), (485, 641)]\n",
      "1072\n",
      "outer_poly [(298, 320), (549, 317), (546, 570), (294, 569)]\n",
      "1073\n",
      "outer_poly [(421, 352), (578, 331), (579, 565), (421, 556)]\n",
      "1074\n",
      "outer_poly [(441, 388), (701, 395), (704, 652), (439, 655)]\n",
      "1075\n",
      "outer_poly [(420, 350), (756, 363), (762, 698), (411, 702)]\n"
     ]
    },
    {
     "name": "stderr",
     "output_type": "stream",
     "text": [
      " 22%|██▏       | 1079/4943 [00:42<02:46, 23.21it/s]"
     ]
    },
    {
     "name": "stdout",
     "output_type": "stream",
     "text": [
      "1076\n",
      "outer_poly [(251, 84), (912, 134), (939, 784), (219, 804)]\n",
      "1077\n",
      "outer_poly [(417, 390), (744, 385), (749, 724), (410, 720)]\n",
      "1078\n",
      "outer_poly [(386, 380), (641, 375), (643, 641), (382, 638)]\n",
      "1079\n",
      "outer_poly [(592, 202), (748, 318), (754, 653), (590, 659)]\n",
      "1080\n",
      "outer_poly [(584, 383), (708, 445), (712, 699), (583, 705)]\n"
     ]
    },
    {
     "name": "stderr",
     "output_type": "stream",
     "text": [
      " 22%|██▏       | 1085/4943 [00:43<02:48, 22.96it/s]"
     ]
    },
    {
     "name": "stdout",
     "output_type": "stream",
     "text": [
      "1081\n",
      "outer_poly [(578, 418), (681, 366), (690, 681), (581, 666)]\n",
      "1082\n",
      "outer_poly [(455, 174), (772, 290), (777, 691), (438, 715)]\n",
      "1083\n",
      "outer_poly [(478, 137), (829, 252), (837, 665), (462, 684)]\n",
      "1084\n",
      "outer_poly [(383, 252), (775, 296), (781, 690), (371, 695)]\n",
      "1085\n",
      "outer_poly [(593, 291), (676, 246), (675, 509), (592, 502)]\n"
     ]
    },
    {
     "name": "stderr",
     "output_type": "stream",
     "text": [
      "\r",
      " 22%|██▏       | 1088/4943 [00:43<02:43, 23.53it/s]"
     ]
    },
    {
     "name": "stdout",
     "output_type": "stream",
     "text": [
      "1086\n",
      "outer_poly [(530, 232), (786, 290), (792, 608), (529, 629)]\n",
      "1087\n",
      "outer_poly [(529, 407), (671, 382), (672, 613), (528, 608)]\n",
      "1088\n",
      "outer_poly [(440, 249), (777, 98), (800, 736), (440, 696)]\n",
      "1089\n",
      "outer_poly [(584, 128), (810, 241), (804, 620), (577, 669)]\n",
      "1090\n",
      "outer_poly [(507, 185), (981, 1), (1069, 6), (1124, 863), (511, 767)]\n"
     ]
    },
    {
     "name": "stderr",
     "output_type": "stream",
     "text": [
      " 22%|██▏       | 1094/4943 [00:43<02:48, 22.81it/s]"
     ]
    },
    {
     "name": "stdout",
     "output_type": "stream",
     "text": [
      "1091\n",
      "outer_poly [(513, 417), (743, 432), (742, 666), (504, 664)]\n",
      "1092\n",
      "outer_poly [(378, 183), (949, 186), (981, 773), (344, 772)]\n",
      "1093\n",
      "outer_poly [(415, 347), (610, 269), (616, 737), (418, 689)]\n",
      "1094\n",
      "outer_poly [(561, 412), (744, 357), (747, 694), (557, 685)]\n",
      "1095\n",
      "outer_poly [(624, 519), (822, 534), (821, 264), (623, 288)]\n"
     ]
    },
    {
     "name": "stderr",
     "output_type": "stream",
     "text": [
      " 22%|██▏       | 1100/4943 [00:43<02:52, 22.27it/s]"
     ]
    },
    {
     "name": "stdout",
     "output_type": "stream",
     "text": [
      "1096\n",
      "outer_poly [(448, 366), (704, 393), (707, 660), (443, 660)]\n",
      "1097\n",
      "outer_poly [(1013, 236), (1007, 681), (557, 688), (563, 219)]\n",
      "1098\n",
      "outer_poly [(615, 295), (835, 307), (832, 530), (612, 538)]\n",
      "1099\n",
      "outer_poly [(494, 211), (879, 253), (876, 660), (492, 695)]\n",
      "1100\n",
      "outer_poly [(762, 244), (903, 291), (905, 579), (762, 612)]\n"
     ]
    },
    {
     "name": "stderr",
     "output_type": "stream",
     "text": [
      "\r",
      " 22%|██▏       | 1103/4943 [00:43<02:53, 22.08it/s]"
     ]
    },
    {
     "name": "stdout",
     "output_type": "stream",
     "text": [
      "1101\n",
      "outer_poly [(776, 258), (887, 307), (886, 583), (775, 613)]\n",
      "1102\n",
      "outer_poly [(571, 430), (631, 390), (634, 624), (572, 621)]\n",
      "1103\n",
      "outer_poly [(518, 214), (807, 228), (807, 513), (519, 522)]\n",
      "1104\n",
      "outer_poly [(125, 363), (314, 401), (302, 618), (98, 622)]\n",
      "1105\n",
      "outer_poly [(229, 21), (968, 63), (984, 807), (184, 806)]\n"
     ]
    },
    {
     "name": "stderr",
     "output_type": "stream",
     "text": [
      " 22%|██▏       | 1109/4943 [00:44<02:45, 23.16it/s]"
     ]
    },
    {
     "name": "stdout",
     "output_type": "stream",
     "text": [
      "1106\n",
      "outer_poly [(481, 316), (874, 359), (874, 762), (456, 756)]\n",
      "1107\n",
      "outer_poly [(146, 107), (789, 85), (829, 749), (88, 761)]\n",
      "1108\n",
      "outer_poly [(437, 364), (689, 374), (692, 623), (434, 625)]\n",
      "1109\n",
      "outer_poly [(476, 333), (819, 307), (820, 702), (466, 685)]\n",
      "1110\n",
      "outer_poly [(481, 285), (761, 268), (758, 588), (480, 571)]\n",
      "1111\n",
      "outer_poly [(673, 344), (764, 329), (767, 496), (675, 488)]\n"
     ]
    },
    {
     "name": "stderr",
     "output_type": "stream",
     "text": [
      " 23%|██▎       | 1115/4943 [00:44<02:34, 24.80it/s]"
     ]
    },
    {
     "name": "stdout",
     "output_type": "stream",
     "text": [
      "1112\n",
      "outer_poly [(438, 425), (622, 441), (619, 671), (434, 680)]\n",
      "1113\n",
      "outer_poly [(570, 392), (781, 378), (788, 621), (572, 617)]\n",
      "1114\n",
      "outer_poly [(436, 140), (956, 216), (970, 745), (418, 777)]\n",
      "1115\n",
      "outer_poly [(790, 395), (839, 359), (843, 596), (796, 585)]\n",
      "1116\n",
      "outer_poly [(347, 281), (601, 237), (600, 650), (345, 638)]\n",
      "1117\n",
      "outer_poly [(398, 323), (644, 332), (643, 580), (394, 581)]\n"
     ]
    },
    {
     "name": "stderr",
     "output_type": "stream",
     "text": [
      " 23%|██▎       | 1121/4943 [00:44<02:27, 25.88it/s]"
     ]
    },
    {
     "name": "stdout",
     "output_type": "stream",
     "text": [
      "1118\n",
      "outer_poly [(415, 211), (818, 236), (820, 636), (405, 640)]\n",
      "1119\n",
      "outer_poly [(525, 317), (745, 332), (744, 560), (522, 561)]\n",
      "1120\n",
      "outer_poly [(379, 357), (663, 388), (665, 680), (368, 685)]\n",
      "1121\n",
      "outer_poly [(474, 147), (1073, 38), (1129, 734), (469, 729)]\n",
      "1122\n",
      "outer_poly [(453, 372), (669, 306), (675, 686), (450, 676)]\n",
      "1123\n",
      "outer_poly [(583, 223), (755, 0), (776, 724), (584, 676)]\n"
     ]
    },
    {
     "name": "stderr",
     "output_type": "stream",
     "text": [
      " 23%|██▎       | 1127/4943 [00:44<02:24, 26.32it/s]"
     ]
    },
    {
     "name": "stdout",
     "output_type": "stream",
     "text": [
      "1124\n",
      "outer_poly [(379, 133), (872, 208), (900, 711), (364, 729)]\n",
      "1125\n",
      "outer_poly [(502, 401), (728, 419), (732, 655), (499, 658)]\n",
      "1126\n",
      "outer_poly [(455, 368), (759, 330), (772, 682), (455, 686)]\n",
      "1127\n",
      "outer_poly [(367, 258), (651, 303), (655, 606), (362, 610)]\n",
      "1128\n",
      "outer_poly [(481, 343), (656, 279), (668, 619), (484, 618)]\n",
      "1129\n",
      "outer_poly [(289, 132), (871, 138), (880, 715), (289, 725)]\n"
     ]
    },
    {
     "name": "stderr",
     "output_type": "stream",
     "text": [
      " 23%|██▎       | 1133/4943 [00:45<02:23, 26.61it/s]"
     ]
    },
    {
     "name": "stdout",
     "output_type": "stream",
     "text": [
      "1130\n",
      "outer_poly [(611, 263), (759, 326), (765, 622), (614, 662)]\n",
      "1131\n",
      "outer_poly [(485, 118), (815, 189), (821, 606), (491, 672)]\n",
      "1132\n",
      "outer_poly [(480, 216), (839, 236), (841, 598), (485, 622)]\n",
      "1133\n",
      "outer_poly [(379, 154), (919, 151), (919, 685), (383, 689)]\n",
      "1134\n",
      "outer_poly [(589, 276), (853, 272), (851, 535), (592, 535)]\n",
      "1135\n",
      "outer_poly [(422, 266), (721, 253), (723, 566), (428, 561)]\n"
     ]
    },
    {
     "name": "stderr",
     "output_type": "stream",
     "text": [
      " 23%|██▎       | 1139/4943 [00:45<02:18, 27.54it/s]"
     ]
    },
    {
     "name": "stdout",
     "output_type": "stream",
     "text": [
      "1136\n",
      "outer_poly [(429, 233), (813, 212), (814, 623), (435, 608)]\n",
      "1137\n",
      "outer_poly [(462, 297), (653, 273), (655, 559), (465, 541)]\n",
      "1138\n",
      "outer_poly [(628, 300), (785, 278), (788, 546), (632, 526)]\n",
      "1139\n",
      "outer_poly [(574, 268), (786, 226), (789, 607), (577, 570)]\n",
      "1140\n",
      "outer_poly [(458, 366), (737, 391), (739, 686), (456, 700)]\n",
      "1141\n",
      "outer_poly [(484, 254), (902, 263), (909, 682), (480, 688)]\n"
     ]
    },
    {
     "name": "stderr",
     "output_type": "stream",
     "text": [
      " 23%|██▎       | 1145/4943 [00:45<02:13, 28.37it/s]"
     ]
    },
    {
     "name": "stdout",
     "output_type": "stream",
     "text": [
      "1142\n",
      "outer_poly [(360, 145), (1036, 92), (1053, 831), (351, 799)]\n",
      "1143\n",
      "outer_poly [(310, 190), (870, 124), (877, 798), (303, 750)]\n",
      "1144\n",
      "outer_poly [(397, 407), (569, 385), (570, 649), (394, 637)]\n",
      "1145\n",
      "outer_poly [(508, 409), (670, 381), (672, 664), (506, 647)]\n",
      "1146\n",
      "outer_poly [(512, 76), (756, 253), (764, 705), (504, 773)]\n",
      "1147\n",
      "outer_poly [(548, 394), (745, 411), (745, 623), (545, 627)]\n"
     ]
    },
    {
     "name": "stderr",
     "output_type": "stream",
     "text": [
      " 23%|██▎       | 1151/4943 [00:45<02:11, 28.79it/s]"
     ]
    },
    {
     "name": "stdout",
     "output_type": "stream",
     "text": [
      "1148\n",
      "outer_poly [(557, 264), (777, 318), (782, 599), (554, 604)]\n",
      "1149\n",
      "outer_poly [(391, 276), (757, 315), (763, 685), (380, 690)]\n",
      "1150\n",
      "outer_poly [(557, 389), (815, 393), (816, 651), (553, 650)]\n",
      "1151\n",
      "outer_poly [(503, 365), (690, 325), (690, 632), (502, 622)]\n",
      "1152\n",
      "outer_poly [(521, 341), (743, 277), (748, 659), (519, 644)]\n",
      "1153\n",
      "outer_poly [(527, 320), (778, 265), (785, 629), (530, 617)]\n"
     ]
    },
    {
     "name": "stderr",
     "output_type": "stream",
     "text": [
      " 23%|██▎       | 1157/4943 [00:45<02:11, 28.71it/s]"
     ]
    },
    {
     "name": "stdout",
     "output_type": "stream",
     "text": [
      "1154\n",
      "outer_poly [(580, 385), (748, 331), (748, 662), (577, 647)]\n",
      "1155\n",
      "outer_poly [(588, 311), (723, 231), (728, 616), (592, 598)]\n",
      "1156\n",
      "outer_poly [(593, 473), (651, 426), (652, 711), (593, 700)]\n",
      "1157\n",
      "outer_poly [(578, 422), (713, 400), (717, 619), (581, 613)]\n",
      "1158\n",
      "outer_poly [(440, 310), (868, 298), (886, 743), (424, 744)]\n",
      "1159\n",
      "outer_poly [(376, 369), (624, 360), (619, 632), (370, 623)]\n"
     ]
    },
    {
     "name": "stderr",
     "output_type": "stream",
     "text": [
      " 24%|██▎       | 1164/4943 [00:46<02:10, 28.94it/s]"
     ]
    },
    {
     "name": "stdout",
     "output_type": "stream",
     "text": [
      "1160\n",
      "outer_poly [(537, 270), (829, 42), (865, 780), (531, 744)]\n",
      "1161\n",
      "outer_poly [(464, 236), (871, 168), (872, 731), (465, 670)]\n",
      "1162\n",
      "outer_poly [(564, 343), (746, 360), (743, 579), (560, 592)]\n",
      "1163\n",
      "outer_poly [(548, 453), (652, 422), (658, 639), (550, 639)]\n",
      "1164\n",
      "outer_poly [(741, 6), (693, 755), (346, 864), (0, 864), (0, 3)]\n",
      "1165\n",
      "outer_poly [(310, 151), (950, 144), (961, 835), (248, 800)]\n"
     ]
    },
    {
     "name": "stderr",
     "output_type": "stream",
     "text": [
      " 24%|██▎       | 1170/4943 [00:46<02:13, 28.25it/s]"
     ]
    },
    {
     "name": "stdout",
     "output_type": "stream",
     "text": [
      "1166\n",
      "outer_poly [(423, 381), (743, 394), (742, 716), (405, 711)]\n",
      "1167\n",
      "outer_poly [(488, 392), (813, 391), (828, 723), (481, 725)]\n",
      "1168\n",
      "outer_poly [(396, 503), (657, 513), (658, 778), (385, 780)]\n",
      "1169\n",
      "outer_poly [(428, 412), (639, 383), (638, 708), (423, 682)]\n",
      "1170\n",
      "outer_poly [(716, 343), (798, 284), (801, 655), (720, 621)]\n",
      "1171\n",
      "outer_poly [(659, 310), (773, 381), (776, 682), (652, 713)]\n"
     ]
    },
    {
     "name": "stderr",
     "output_type": "stream",
     "text": [
      " 24%|██▍       | 1176/4943 [00:46<02:12, 28.41it/s]"
     ]
    },
    {
     "name": "stdout",
     "output_type": "stream",
     "text": [
      "1172\n",
      "outer_poly [(554, 403), (789, 420), (789, 670), (550, 673)]\n",
      "1173\n",
      "outer_poly [(555, 282), (876, 291), (882, 613), (550, 612)]\n",
      "1174\n",
      "outer_poly [(449, 270), (731, 306), (729, 605), (443, 613)]\n",
      "1175\n",
      "outer_poly [(481, 140), (614, 264), (614, 625), (470, 662)]\n",
      "1176\n",
      "outer_poly [(457, 343), (792, 349), (799, 687), (449, 687)]\n",
      "1177\n",
      "outer_poly [(517, 330), (767, 238), (779, 684), (513, 672)]\n"
     ]
    },
    {
     "name": "stderr",
     "output_type": "stream",
     "text": [
      " 24%|██▍       | 1182/4943 [00:46<02:10, 28.75it/s]"
     ]
    },
    {
     "name": "stdout",
     "output_type": "stream",
     "text": [
      "1178\n",
      "outer_poly [(532, 389), (716, 331), (728, 660), (535, 656)]\n",
      "1179\n",
      "outer_poly [(555, 412), (626, 381), (629, 596), (555, 592)]\n",
      "1180\n",
      "outer_poly [(478, 303), (690, 203), (704, 633), (481, 630)]\n",
      "1181\n",
      "outer_poly [(517, 285), (662, 47), (723, 733), (544, 725)]\n",
      "1182\n",
      "outer_poly [(558, 382), (650, 276), (679, 681), (577, 681)]\n",
      "1183\n",
      "outer_poly [(406, 334), (710, 324), (713, 654), (415, 639)]\n"
     ]
    },
    {
     "name": "stderr",
     "output_type": "stream",
     "text": [
      " 24%|██▍       | 1188/4943 [00:46<02:12, 28.27it/s]"
     ]
    },
    {
     "name": "stdout",
     "output_type": "stream",
     "text": [
      "1184\n",
      "outer_poly [(553, 500), (711, 497), (715, 657), (554, 660)]\n",
      "1185\n",
      "outer_poly [(586, 440), (741, 437), (743, 593), (589, 595)]\n",
      "1186\n",
      "outer_poly [(524, 369), (744, 363), (742, 590), (522, 586)]\n",
      "1187\n",
      "outer_poly [(466, 345), (616, 344), (618, 495), (465, 496)]\n",
      "1188\n",
      "outer_poly [(542, 348), (693, 350), (694, 500), (543, 500)]\n",
      "1189\n",
      "outer_poly [(450, 265), (668, 319), (670, 626), (449, 663)]\n"
     ]
    },
    {
     "name": "stderr",
     "output_type": "stream",
     "text": [
      " 24%|██▍       | 1194/4943 [00:47<02:09, 28.86it/s]"
     ]
    },
    {
     "name": "stdout",
     "output_type": "stream",
     "text": [
      "1190\n",
      "outer_poly [(574, 109), (1097, 164), (1108, 695), (578, 738)]\n",
      "1191\n",
      "outer_poly [(494, 277), (844, 272), (857, 625), (495, 631)]\n",
      "1192\n",
      "outer_poly [(583, 261), (797, 275), (795, 501), (581, 507)]\n",
      "1193\n",
      "outer_poly [(635, 263), (908, 267), (910, 541), (635, 543)]\n",
      "1194\n",
      "outer_poly [(478, 260), (785, 253), (789, 564), (485, 563)]\n",
      "1195\n",
      "outer_poly [(461, 386), (687, 373), (691, 619), (466, 617)]\n"
     ]
    },
    {
     "name": "stderr",
     "output_type": "stream",
     "text": [
      " 24%|██▍       | 1200/4943 [00:47<02:09, 28.84it/s]"
     ]
    },
    {
     "name": "stdout",
     "output_type": "stream",
     "text": [
      "1196\n",
      "outer_poly [(415, 354), (546, 331), (548, 577), (417, 565)]\n",
      "1197\n",
      "outer_poly [(440, 339), (650, 254), (656, 754), (438, 702)]\n",
      "1198\n",
      "outer_poly [(474, 318), (683, 283), (683, 596), (473, 582)]\n",
      "1199\n",
      "outer_poly [(462, 331), (654, 300), (656, 590), (464, 576)]\n",
      "1200\n",
      "outer_poly [(445, 326), (711, 261), (719, 675), (447, 660)]\n",
      "1201\n",
      "outer_poly [(500, 363), (703, 311), (708, 667), (501, 651)]\n"
     ]
    },
    {
     "name": "stderr",
     "output_type": "stream",
     "text": [
      " 24%|██▍       | 1206/4943 [00:47<02:09, 28.76it/s]"
     ]
    },
    {
     "name": "stdout",
     "output_type": "stream",
     "text": [
      "1202\n",
      "outer_poly [(497, 395), (656, 343), (660, 686), (497, 669)]\n",
      "1203\n",
      "outer_poly [(533, 70), (752, 241), (762, 650), (527, 675)]\n",
      "1204\n",
      "outer_poly [(461, 18), (899, 238), (935, 784), (433, 830)]\n",
      "1205\n",
      "outer_poly [(426, 320), (765, 304), (768, 667), (422, 662)]\n",
      "1206\n",
      "outer_poly [(474, 381), (675, 345), (673, 646), (469, 637)]\n",
      "1207\n",
      "outer_poly [(608, 412), (747, 359), (746, 689), (605, 673)]\n"
     ]
    },
    {
     "name": "stderr",
     "output_type": "stream",
     "text": [
      " 25%|██▍       | 1212/4943 [00:47<02:11, 28.45it/s]"
     ]
    },
    {
     "name": "stdout",
     "output_type": "stream",
     "text": [
      "1208\n",
      "outer_poly [(621, 399), (700, 313), (706, 718), (620, 697)]\n",
      "1209\n",
      "outer_poly [(343, 88), (1014, 70), (1066, 783), (295, 774)]\n",
      "1210\n",
      "outer_poly [(437, 283), (908, 270), (927, 764), (412, 759)]\n",
      "1211\n",
      "outer_poly [(343, 218), (886, 188), (909, 778), (310, 766)]\n",
      "1212\n",
      "outer_poly [(465, 415), (784, 402), (791, 738), (456, 735)]\n",
      "1213\n",
      "outer_poly [(600, 471), (736, 439), (741, 683), (601, 681)]\n"
     ]
    },
    {
     "name": "stderr",
     "output_type": "stream",
     "text": [
      " 25%|██▍       | 1218/4943 [00:47<02:10, 28.52it/s]"
     ]
    },
    {
     "name": "stdout",
     "output_type": "stream",
     "text": [
      "1214\n",
      "outer_poly [(553, 190), (840, 79), (844, 686), (562, 602)]\n",
      "1215\n",
      "outer_poly [(384, 352), (658, 383), (660, 662), (376, 665)]\n",
      "1216\n",
      "outer_poly [(324, 207), (814, 208), (840, 704), (307, 715)]\n",
      "1217\n",
      "outer_poly [(569, 365), (799, 299), (817, 656), (572, 657)]\n",
      "1218\n",
      "outer_poly [(482, 413), (628, 374), (636, 631), (484, 633)]\n",
      "1219\n",
      "outer_poly [(507, 349), (659, 370), (658, 576), (500, 588)]\n"
     ]
    },
    {
     "name": "stderr",
     "output_type": "stream",
     "text": [
      " 25%|██▍       | 1224/4943 [00:48<02:09, 28.77it/s]"
     ]
    },
    {
     "name": "stdout",
     "output_type": "stream",
     "text": [
      "1220\n",
      "outer_poly [(685, 405), (582, 479), (588, 744), (700, 744)]\n",
      "1221\n",
      "outer_poly [(580, 301), (868, 328), (865, 628), (574, 636)]\n",
      "1222\n",
      "outer_poly [(617, 382), (693, 416), (696, 635), (618, 652)]\n",
      "1223\n",
      "outer_poly [(446, 325), (614, 365), (603, 588), (432, 592)]\n",
      "1224\n",
      "outer_poly [(160, 207), (631, 197), (628, 684), (159, 674)]\n",
      "1225\n",
      "outer_poly [(369, 169), (846, 221), (853, 694), (360, 731)]\n"
     ]
    },
    {
     "name": "stderr",
     "output_type": "stream",
     "text": [
      " 25%|██▍       | 1230/4943 [00:48<02:11, 28.32it/s]"
     ]
    },
    {
     "name": "stdout",
     "output_type": "stream",
     "text": [
      "1226\n",
      "outer_poly [(431, 310), (799, 318), (797, 688), (417, 680)]\n",
      "1227\n",
      "outer_poly [(344, 170), (843, 280), (848, 804), (295, 838)]\n",
      "1228\n",
      "outer_poly [(458, 264), (773, 284), (766, 602), (452, 611)]\n",
      "1229\n",
      "outer_poly [(468, 330), (582, 311), (580, 547), (465, 532)]\n",
      "1230\n",
      "outer_poly [(301, 160), (849, 171), (845, 711), (297, 718)]\n",
      "1231\n",
      "outer_poly [(382, 284), (597, 203), (601, 716), (383, 651)]\n"
     ]
    },
    {
     "name": "stderr",
     "output_type": "stream",
     "text": [
      " 25%|██▌       | 1236/4943 [00:48<02:18, 26.81it/s]"
     ]
    },
    {
     "name": "stdout",
     "output_type": "stream",
     "text": [
      "1232\n",
      "outer_poly [(432, 259), (812, 285), (815, 663), (425, 675)]\n",
      "1233\n",
      "outer_poly [(638, 244), (777, 338), (777, 686), (635, 728)]\n",
      "1234\n",
      "outer_poly [(432, 268), (674, 169), (677, 664), (430, 635)]\n",
      "1235\n",
      "outer_poly [(503, 376), (652, 340), (653, 613), (502, 604)]\n",
      "1236\n",
      "outer_poly [(520, 238), (801, 98), (815, 680), (520, 645)]\n",
      "1237\n"
     ]
    },
    {
     "name": "stderr",
     "output_type": "stream",
     "text": [
      " 25%|██▌       | 1242/4943 [00:48<02:11, 28.11it/s]"
     ]
    },
    {
     "name": "stdout",
     "output_type": "stream",
     "text": [
      "outer_poly [(379, 64), (1010, 35), (1028, 696), (363, 685)]\n",
      "1238\n",
      "outer_poly [(477, 174), (592, 16), (692, 18), (705, 747), (470, 682)]\n",
      "1239\n",
      "outer_poly [(375, 51), (733, 253), (744, 729), (338, 763)]\n",
      "1240\n",
      "outer_poly [(540, 413), (701, 368), (710, 654), (542, 650)]\n",
      "1241\n",
      "outer_poly [(614, 319), (813, 88), (861, 804), (627, 775)]\n",
      "1242\n",
      "outer_poly [(575, 432), (662, 341), (667, 743), (575, 731)]\n",
      "1243\n"
     ]
    },
    {
     "name": "stderr",
     "output_type": "stream",
     "text": [
      " 25%|██▌       | 1248/4943 [00:49<02:09, 28.50it/s]"
     ]
    },
    {
     "name": "stdout",
     "output_type": "stream",
     "text": [
      "outer_poly [(264, 51), (804, 148), (830, 676), (230, 694)]\n",
      "1244\n",
      "outer_poly [(414, 264), (757, 269), (767, 615), (411, 618)]\n",
      "1245\n",
      "outer_poly [(570, 420), (725, 381), (738, 637), (576, 640)]\n",
      "1246\n",
      "outer_poly [(535, 420), (650, 385), (660, 601), (542, 602)]\n",
      "1247\n",
      "outer_poly [(425, 279), (629, 51), (684, 725), (446, 725)]\n",
      "1248\n",
      "outer_poly [(559, 456), (716, 456), (719, 613), (562, 617)]\n",
      "1249\n"
     ]
    },
    {
     "name": "stderr",
     "output_type": "stream",
     "text": [
      "\r",
      " 25%|██▌       | 1251/4943 [00:49<02:14, 27.47it/s]"
     ]
    },
    {
     "name": "stdout",
     "output_type": "stream",
     "text": [
      "outer_poly [(497, 491), (663, 490), (666, 656), (498, 657)]\n",
      "1250\n",
      "outer_poly [(611, 342), (794, 334), (796, 523), (613, 523)]\n",
      "1251\n",
      "outer_poly [(385, 269), (807, 261), (814, 687), (384, 692)]\n",
      "1252\n",
      "outer_poly [(430, 271), (716, 338), (720, 712), (428, 781)]\n",
      "1253\n",
      "outer_poly [(594, 273), (802, 286), (798, 507), (593, 514)]\n"
     ]
    },
    {
     "name": "stderr",
     "output_type": "stream",
     "text": [
      " 25%|██▌       | 1257/4943 [00:49<02:26, 25.23it/s]"
     ]
    },
    {
     "name": "stdout",
     "output_type": "stream",
     "text": [
      "1254\n",
      "outer_poly [(560, 250), (871, 253), (870, 562), (563, 563)]\n",
      "1255\n",
      "outer_poly [(543, 230), (943, 194), (944, 645), (549, 619)]\n",
      "1256\n",
      "outer_poly [(562, 293), (708, 258), (713, 585), (566, 555)]\n",
      "1257\n",
      "outer_poly [(458, 346), (854, 366), (863, 764), (449, 779)]\n",
      "1258\n",
      "outer_poly [(540, 377), (773, 387), (775, 621), (541, 625)]\n",
      "1259\n"
     ]
    },
    {
     "name": "stderr",
     "output_type": "stream",
     "text": [
      " 26%|██▌       | 1263/4943 [00:49<02:25, 25.36it/s]"
     ]
    },
    {
     "name": "stdout",
     "output_type": "stream",
     "text": [
      "outer_poly [(372, 174), (994, 137), (1010, 802), (365, 782)]\n",
      "1260\n",
      "outer_poly [(540, 383), (775, 373), (778, 632), (539, 627)]\n",
      "1261\n",
      "outer_poly [(541, 338), (617, 305), (621, 556), (542, 544)]\n",
      "1262\n",
      "outer_poly [(487, 357), (787, 384), (795, 698), (483, 709)]\n",
      "1263\n",
      "outer_poly [(390, 347), (814, 342), (825, 781), (377, 774)]\n",
      "1264\n",
      "outer_poly [(575, 322), (767, 288), (769, 550), (577, 548)]\n"
     ]
    },
    {
     "name": "stderr",
     "output_type": "stream",
     "text": [
      " 26%|██▌       | 1269/4943 [00:49<02:22, 25.82it/s]"
     ]
    },
    {
     "name": "stdout",
     "output_type": "stream",
     "text": [
      "1265\n",
      "outer_poly [(422, 272), (843, 277), (853, 700), (414, 703)]\n",
      "1266\n",
      "outer_poly [(528, 397), (801, 393), (804, 673), (523, 670)]\n",
      "1267\n",
      "outer_poly [(420, 177), (1015, 90), (1042, 800), (411, 758)]\n",
      "1268\n",
      "outer_poly [(467, 261), (763, 116), (767, 803), (463, 714)]\n",
      "1269\n",
      "outer_poly [(453, 188), (985, 48), (994, 815), (446, 724)]\n",
      "1270\n",
      "outer_poly [(524, 406), (781, 372), (783, 724), (517, 703)]\n"
     ]
    },
    {
     "name": "stderr",
     "output_type": "stream",
     "text": [
      " 26%|██▌       | 1275/4943 [00:50<02:21, 25.83it/s]"
     ]
    },
    {
     "name": "stdout",
     "output_type": "stream",
     "text": [
      "1271\n",
      "outer_poly [(353, 147), (980, 50), (1023, 802), (308, 774)]\n",
      "1272\n",
      "outer_poly [(530, 287), (755, 372), (757, 683), (523, 689)]\n",
      "1273\n",
      "outer_poly [(399, 244), (812, 275), (832, 686), (392, 697)]\n",
      "1274\n",
      "outer_poly [(346, 268), (773, 274), (790, 704), (330, 710)]\n",
      "1275\n",
      "outer_poly [(430, 412), (708, 411), (716, 690), (428, 693)]\n",
      "1276\n",
      "outer_poly [(308, 391), (592, 389), (592, 682), (295, 681)]\n"
     ]
    },
    {
     "name": "stderr",
     "output_type": "stream",
     "text": [
      " 26%|██▌       | 1281/4943 [00:50<02:18, 26.47it/s]"
     ]
    },
    {
     "name": "stdout",
     "output_type": "stream",
     "text": [
      "1277\n",
      "outer_poly [(835, 388), (979, 403), (980, 593), (829, 598)]\n",
      "1278\n",
      "outer_poly [(625, 336), (704, 366), (702, 597), (621, 621)]\n",
      "1279\n",
      "outer_poly [(546, 130), (885, 216), (882, 632), (543, 687)]\n",
      "1280\n",
      "outer_poly [(625, 338), (858, 351), (859, 601), (622, 609)]\n",
      "1281\n",
      "outer_poly [(548, 423), (697, 443), (698, 644), (547, 655)]\n",
      "1282\n",
      "outer_poly [(610, 371), (690, 408), (695, 638), (611, 658)]\n"
     ]
    },
    {
     "name": "stderr",
     "output_type": "stream",
     "text": [
      " 26%|██▌       | 1287/4943 [00:50<02:27, 24.75it/s]"
     ]
    },
    {
     "name": "stdout",
     "output_type": "stream",
     "text": [
      "1283\n",
      "outer_poly [(694, 0), (718, 27), (679, 735), (273, 862), (5, 861), (0, 8)]\n",
      "1284\n",
      "outer_poly [(275, 219), (669, 242), (668, 621), (275, 638)]\n",
      "1285\n",
      "outer_poly [(230, 219), (610, 250), (609, 617), (229, 641)]\n",
      "1286\n",
      "outer_poly [(462, 269), (780, 274), (775, 589), (457, 585)]\n",
      "1287\n",
      "outer_poly [(358, 63), (968, 77), (964, 674), (350, 668)]\n"
     ]
    },
    {
     "name": "stderr",
     "output_type": "stream",
     "text": [
      "\r",
      " 26%|██▌       | 1290/4943 [00:50<02:33, 23.80it/s]"
     ]
    },
    {
     "name": "stdout",
     "output_type": "stream",
     "text": [
      "1288\n",
      "outer_poly [(663, 405), (870, 409), (870, 615), (661, 612)]\n",
      "1289\n",
      "outer_poly [(480, 142), (945, 169), (934, 625), (475, 636)]\n",
      "1290\n",
      "outer_poly [(545, 248), (801, 249), (797, 504), (544, 500)]\n",
      "1291\n",
      "outer_poly [(571, 249), (844, 234), (839, 535), (571, 522)]\n",
      "1292\n",
      "outer_poly [(453, 365), (525, 320), (528, 648), (458, 616)]\n"
     ]
    },
    {
     "name": "stderr",
     "output_type": "stream",
     "text": [
      " 26%|██▌       | 1296/4943 [00:50<02:39, 22.88it/s]"
     ]
    },
    {
     "name": "stdout",
     "output_type": "stream",
     "text": [
      "1293\n",
      "outer_poly [(543, 408), (661, 389), (662, 584), (544, 577)]\n",
      "1294\n",
      "outer_poly [(614, 374), (752, 338), (751, 630), (618, 609)]\n",
      "1295\n",
      "outer_poly [(514, 358), (677, 405), (676, 666), (509, 683)]\n",
      "1296\n",
      "outer_poly [(465, 134), (972, 216), (988, 743), (453, 788)]\n",
      "1297\n",
      "outer_poly [(536, 397), (791, 388), (796, 657), (535, 655)]\n"
     ]
    },
    {
     "name": "stderr",
     "output_type": "stream",
     "text": [
      " 26%|██▋       | 1302/4943 [00:51<02:41, 22.50it/s]"
     ]
    },
    {
     "name": "stdout",
     "output_type": "stream",
     "text": [
      "1298\n",
      "outer_poly [(473, 200), (829, 61), (840, 686), (467, 643)]\n",
      "1299\n",
      "outer_poly [(392, 296), (823, 294), (842, 732), (376, 742)]\n",
      "1300\n",
      "outer_poly [(500, 446), (646, 416), (658, 643), (506, 645)]\n",
      "1301\n",
      "outer_poly [(425, 71), (682, 311), (689, 781), (392, 799)]\n",
      "1302\n",
      "outer_poly [(421, 174), (719, 295), (731, 690), (411, 706)]\n"
     ]
    },
    {
     "name": "stderr",
     "output_type": "stream",
     "text": [
      " 26%|██▋       | 1308/4943 [00:51<02:31, 23.99it/s]"
     ]
    },
    {
     "name": "stdout",
     "output_type": "stream",
     "text": [
      "1303\n",
      "outer_poly [(481, 300), (692, 233), (698, 666), (482, 630)]\n",
      "1304\n",
      "outer_poly [(368, 415), (593, 418), (598, 640), (368, 650)]\n",
      "1305\n",
      "outer_poly [(458, 304), (832, 311), (836, 680), (457, 687)]\n",
      "1306\n",
      "outer_poly [(439, 389), (584, 367), (586, 599), (442, 590)]\n",
      "1307\n",
      "outer_poly [(563, 276), (840, 279), (839, 553), (564, 553)]\n",
      "1308\n"
     ]
    },
    {
     "name": "stderr",
     "output_type": "stream",
     "text": [
      "\r",
      " 27%|██▋       | 1311/4943 [00:51<02:27, 24.57it/s]"
     ]
    },
    {
     "name": "stdout",
     "output_type": "stream",
     "text": [
      "outer_poly [(502, 238), (874, 208), (876, 624), (508, 605)]\n",
      "1309\n",
      "outer_poly [(421, 293), (632, 345), (632, 638), (414, 667)]\n",
      "1310\n",
      "outer_poly [(501, 394), (709, 411), (706, 629), (497, 635)]\n",
      "1311\n",
      "outer_poly [(522, 326), (772, 331), (772, 583), (520, 581)]\n",
      "1312\n",
      "outer_poly [(410, 289), (717, 266), (721, 608), (409, 600)]\n",
      "1313\n",
      "outer_poly [(521, 288), (812, 265), (813, 596), (520, 585)]\n"
     ]
    },
    {
     "name": "stderr",
     "output_type": "stream",
     "text": [
      " 27%|██▋       | 1317/4943 [00:51<02:27, 24.60it/s]"
     ]
    },
    {
     "name": "stdout",
     "output_type": "stream",
     "text": [
      "1314\n",
      "outer_poly [(460, 313), (691, 269), (695, 623), (460, 607)]\n",
      "1315\n",
      "outer_poly [(500, 416), (784, 410), (791, 702), (498, 702)]\n",
      "1316\n",
      "outer_poly [(358, 154), (897, 52), (918, 729), (355, 696)]\n",
      "1317\n",
      "outer_poly [(435, 397), (614, 368), (619, 643), (434, 636)]\n",
      "1318\n",
      "outer_poly [(458, 216), (872, 260), (895, 683), (446, 692)]\n",
      "1319\n"
     ]
    },
    {
     "name": "stderr",
     "output_type": "stream",
     "text": [
      " 27%|██▋       | 1323/4943 [00:52<02:21, 25.62it/s]"
     ]
    },
    {
     "name": "stdout",
     "output_type": "stream",
     "text": [
      "outer_poly [(511, 420), (584, 370), (587, 675), (512, 661)]\n",
      "1320\n",
      "outer_poly [(318, 146), (1005, 20), (1099, 847), (273, 837)]\n",
      "1321\n",
      "outer_poly [(490, 372), (744, 380), (745, 634), (484, 629)]\n",
      "1322\n",
      "outer_poly [(411, 195), (920, 30), (982, 735), (405, 729)]\n",
      "1323\n",
      "outer_poly [(333, 205), (849, 205), (863, 743), (307, 732)]\n",
      "1324\n",
      "outer_poly [(384, 217), (881, 143), (909, 734), (369, 723)]\n"
     ]
    },
    {
     "name": "stderr",
     "output_type": "stream",
     "text": [
      " 27%|██▋       | 1329/4943 [00:52<02:26, 24.65it/s]"
     ]
    },
    {
     "name": "stdout",
     "output_type": "stream",
     "text": [
      "1325\n",
      "outer_poly [(498, 423), (724, 406), (729, 663), (496, 661)]\n",
      "1326\n",
      "outer_poly [(519, 271), (834, 246), (841, 582), (522, 581)]\n",
      "1327\n",
      "outer_poly [(525, 314), (772, 236), (777, 669), (519, 647)]\n",
      "1328\n",
      "outer_poly [(570, 362), (757, 299), (762, 672), (570, 656)]\n",
      "1329\n",
      "outer_poly [(527, 56), (849, 288), (859, 794), (490, 812)]\n"
     ]
    },
    {
     "name": "stderr",
     "output_type": "stream",
     "text": [
      " 27%|██▋       | 1335/4943 [00:52<02:21, 25.42it/s]"
     ]
    },
    {
     "name": "stdout",
     "output_type": "stream",
     "text": [
      "1330\n",
      "outer_poly [(451, 389), (716, 419), (714, 694), (438, 693)]\n",
      "1331\n",
      "outer_poly [(483, 253), (923, 291), (944, 731), (470, 735)]\n",
      "1332\n",
      "outer_poly [(531, 430), (603, 399), (606, 646), (533, 632)]\n",
      "1333\n",
      "outer_poly [(605, 400), (724, 364), (724, 647), (605, 627)]\n",
      "1334\n",
      "outer_poly [(514, 362), (745, 345), (744, 623), (512, 611)]\n",
      "1335\n",
      "outer_poly [(528, 184), (904, 174), (899, 640), (531, 633)]\n"
     ]
    },
    {
     "name": "stderr",
     "output_type": "stream",
     "text": [
      " 27%|██▋       | 1341/4943 [00:52<02:19, 25.89it/s]"
     ]
    },
    {
     "name": "stdout",
     "output_type": "stream",
     "text": [
      "1336\n",
      "outer_poly [(646, 296), (750, 268), (752, 520), (647, 501)]\n",
      "1337\n",
      "outer_poly [(683, 268), (858, 175), (860, 717), (682, 631)]\n",
      "1338\n",
      "outer_poly [(387, 363), (702, 367), (707, 678), (380, 682)]\n",
      "1339\n",
      "outer_poly [(556, 328), (701, 353), (697, 577), (557, 595)]\n",
      "1340\n",
      "outer_poly [(300, 0), (309, 663), (944, 629), (942, 24), (748, 3)]\n",
      "1341\n",
      "outer_poly [(441, 49), (438, 856), (910, 748), (895, 211)]\n"
     ]
    },
    {
     "name": "stderr",
     "output_type": "stream",
     "text": [
      " 27%|██▋       | 1347/4943 [00:53<02:19, 25.72it/s]"
     ]
    },
    {
     "name": "stdout",
     "output_type": "stream",
     "text": [
      "1342\n",
      "outer_poly [(469, 355), (657, 388), (649, 613), (454, 616)]\n",
      "1343\n",
      "outer_poly [(307, 4), (271, 687), (576, 618), (596, 174), (347, 4)]\n",
      "1344\n",
      "outer_poly [(447, 336), (719, 341), (721, 614), (446, 615)]\n",
      "1345\n",
      "outer_poly [(546, 380), (874, 408), (874, 745), (529, 741)]\n",
      "1346\n",
      "outer_poly [(600, 273), (911, 273), (923, 585), (607, 597)]\n",
      "1347\n"
     ]
    },
    {
     "name": "stderr",
     "output_type": "stream",
     "text": [
      "\r",
      " 27%|██▋       | 1350/4943 [00:53<02:17, 26.06it/s]"
     ]
    },
    {
     "name": "stdout",
     "output_type": "stream",
     "text": [
      "outer_poly [(497, 291), (883, 256), (887, 700), (483, 681)]\n",
      "1348\n",
      "outer_poly [(453, 3), (391, 862), (884, 862), (1000, 841), (979, 214), (553, 9)]\n",
      "1349\n",
      "outer_poly [(288, 35), (941, 130), (928, 753), (283, 828)]\n",
      "1350\n",
      "outer_poly [(554, 308), (781, 326), (779, 570), (553, 581)]\n",
      "1351\n",
      "outer_poly [(577, 352), (793, 365), (793, 601), (575, 607)]\n",
      "1352\n",
      "outer_poly [(288, 129), (865, 178), (869, 737), (272, 763)]\n"
     ]
    },
    {
     "name": "stderr",
     "output_type": "stream",
     "text": [
      " 27%|██▋       | 1356/4943 [00:53<02:10, 27.42it/s]"
     ]
    },
    {
     "name": "stdout",
     "output_type": "stream",
     "text": [
      "1353\n",
      "outer_poly [(609, 400), (688, 368), (691, 614), (611, 597)]\n",
      "1354\n",
      "outer_poly [(725, 291), (861, 167), (869, 739), (731, 670)]\n",
      "1355\n",
      "outer_poly [(298, 92), (986, 101), (1006, 805), (268, 800)]\n",
      "1356\n",
      "outer_poly [(410, 333), (776, 320), (781, 706), (401, 704)]\n",
      "1357\n",
      "outer_poly [(493, 328), (665, 267), (665, 635), (488, 618)]\n",
      "1358\n",
      "outer_poly [(551, 197), (964, 219), (975, 637), (547, 643)]\n"
     ]
    },
    {
     "name": "stderr",
     "output_type": "stream",
     "text": [
      " 28%|██▊       | 1362/4943 [00:53<02:09, 27.59it/s]"
     ]
    },
    {
     "name": "stdout",
     "output_type": "stream",
     "text": [
      "1359\n",
      "outer_poly [(484, 108), (465, 787), (826, 749), (815, 284)]\n",
      "1360\n",
      "outer_poly [(398, 210), (871, 109), (909, 685), (397, 693)]\n",
      "1361\n",
      "outer_poly [(536, 385), (627, 282), (657, 679), (558, 678)]\n",
      "1362\n",
      "outer_poly [(612, 461), (783, 459), (787, 633), (615, 636)]\n",
      "1363\n",
      "outer_poly [(518, 490), (694, 485), (697, 666), (518, 669)]\n",
      "1364\n",
      "outer_poly [(587, 367), (931, 349), (946, 701), (596, 706)]\n"
     ]
    },
    {
     "name": "stderr",
     "output_type": "stream",
     "text": [
      " 28%|██▊       | 1368/4943 [00:53<02:07, 28.04it/s]"
     ]
    },
    {
     "name": "stdout",
     "output_type": "stream",
     "text": [
      "1365\n",
      "outer_poly [(555, 367), (904, 349), (919, 711), (560, 713)]\n",
      "1366\n",
      "outer_poly [(511, 285), (852, 274), (862, 615), (519, 621)]\n",
      "1367\n",
      "outer_poly [(475, 312), (772, 302), (782, 602), (482, 609)]\n",
      "1368\n",
      "outer_poly [(496, 300), (745, 351), (752, 695), (497, 747)]\n",
      "1369\n",
      "outer_poly [(506, 159), (1012, 175), (1006, 677), (507, 683)]\n",
      "1370\n",
      "outer_poly [(625, 196), (787, 33), (799, 808), (632, 661)]\n"
     ]
    },
    {
     "name": "stderr",
     "output_type": "stream",
     "text": [
      " 28%|██▊       | 1374/4943 [00:53<02:08, 27.83it/s]"
     ]
    },
    {
     "name": "stdout",
     "output_type": "stream",
     "text": [
      "1371\n",
      "outer_poly [(572, 368), (665, 302), (671, 720), (571, 673)]\n",
      "1372\n",
      "outer_poly [(409, 231), (816, 264), (820, 669), (400, 686)]\n",
      "1373\n",
      "outer_poly [(363, 180), (836, 226), (843, 694), (353, 718)]\n",
      "1374\n",
      "outer_poly [(415, 367), (543, 349), (546, 548), (413, 543)]\n",
      "1375\n",
      "outer_poly [(369, 280), (583, 234), (584, 595), (369, 575)]\n",
      "1376\n",
      "outer_poly [(465, 340), (586, 317), (588, 552), (467, 543)]\n"
     ]
    },
    {
     "name": "stderr",
     "output_type": "stream",
     "text": [
      " 28%|██▊       | 1380/4943 [00:54<02:06, 28.17it/s]"
     ]
    },
    {
     "name": "stdout",
     "output_type": "stream",
     "text": [
      "1377\n",
      "outer_poly [(435, 336), (723, 361), (722, 654), (427, 660)]\n",
      "1378\n",
      "outer_poly [(447, 369), (747, 382), (752, 681), (443, 687)]\n",
      "1379\n",
      "outer_poly [(450, 410), (752, 410), (758, 717), (445, 717)]\n",
      "1380\n",
      "outer_poly [(642, 361), (875, 338), (884, 598), (648, 597)]\n",
      "1381\n",
      "outer_poly [(493, 426), (644, 391), (647, 670), (495, 659)]\n",
      "1382\n",
      "outer_poly [(482, 264), (771, 81), (801, 792), (482, 729)]\n"
     ]
    },
    {
     "name": "stderr",
     "output_type": "stream",
     "text": [
      " 28%|██▊       | 1386/4943 [00:54<02:05, 28.35it/s]"
     ]
    },
    {
     "name": "stdout",
     "output_type": "stream",
     "text": [
      "1383\n",
      "outer_poly [(534, 333), (792, 286), (802, 617), (531, 619)]\n",
      "1384\n",
      "outer_poly [(522, 318), (870, 326), (878, 677), (515, 677)]\n",
      "1385\n",
      "outer_poly [(527, 333), (772, 311), (779, 582), (530, 581)]\n",
      "1386\n",
      "outer_poly [(454, 273), (781, 183), (788, 683), (450, 657)]\n",
      "1387\n",
      "outer_poly [(407, 83), (990, 132), (997, 707), (392, 726)]\n",
      "1388\n",
      "outer_poly [(492, 310), (651, 301), (646, 505), (489, 496)]\n"
     ]
    },
    {
     "name": "stderr",
     "output_type": "stream",
     "text": [
      " 28%|██▊       | 1392/4943 [00:54<02:07, 27.90it/s]"
     ]
    },
    {
     "name": "stdout",
     "output_type": "stream",
     "text": [
      "1389\n",
      "outer_poly [(599, 272), (867, 255), (869, 545), (601, 538)]\n",
      "1390\n",
      "outer_poly [(571, 248), (864, 229), (866, 549), (576, 536)]\n",
      "1391\n",
      "outer_poly [(564, 278), (847, 59), (883, 775), (558, 745)]\n",
      "1392\n",
      "outer_poly [(592, 298), (857, 101), (891, 771), (588, 737)]\n",
      "1393\n",
      "outer_poly [(600, 312), (731, 295), (732, 499), (601, 489)]\n",
      "1394\n",
      "outer_poly [(401, 272), (727, 240), (727, 652), (400, 621)]\n"
     ]
    },
    {
     "name": "stderr",
     "output_type": "stream",
     "text": [
      " 28%|██▊       | 1398/4943 [00:54<02:05, 28.34it/s]"
     ]
    },
    {
     "name": "stdout",
     "output_type": "stream",
     "text": [
      "1395\n",
      "outer_poly [(508, 180), (1030, 204), (1028, 717), (506, 729)]\n",
      "1396\n",
      "outer_poly [(445, 368), (641, 300), (649, 660), (442, 657)]\n",
      "1397\n",
      "outer_poly [(592, 360), (682, 280), (690, 631), (597, 628)]\n",
      "1398\n",
      "outer_poly [(401, 156), (914, 234), (927, 750), (389, 801)]\n",
      "1399\n",
      "outer_poly [(567, 346), (747, 380), (747, 634), (563, 652)]\n",
      "1400\n",
      "outer_poly [(592, 360), (719, 393), (727, 634), (594, 658)]\n"
     ]
    },
    {
     "name": "stderr",
     "output_type": "stream",
     "text": [
      " 28%|██▊       | 1404/4943 [00:55<02:11, 26.83it/s]"
     ]
    },
    {
     "name": "stdout",
     "output_type": "stream",
     "text": [
      "1401\n",
      "outer_poly [(812, 409), (1014, 427), (1016, 661), (809, 666)]\n",
      "1402\n",
      "outer_poly [(505, 246), (907, 216), (901, 672), (505, 636)]\n",
      "1403\n",
      "outer_poly [(399, 168), (967, 166), (967, 736), (397, 735)]\n",
      "1404\n",
      "outer_poly [(285, 52), (1044, 20), (1063, 820), (274, 791)]\n",
      "1405\n",
      "outer_poly [(408, 347), (680, 340), (679, 622), (405, 619)]\n",
      "1406\n"
     ]
    },
    {
     "name": "stderr",
     "output_type": "stream",
     "text": [
      " 29%|██▊       | 1410/4943 [00:55<02:09, 27.27it/s]"
     ]
    },
    {
     "name": "stdout",
     "output_type": "stream",
     "text": [
      "outer_poly [(627, 258), (1040, 223), (1058, 662), (627, 656)]\n",
      "1407\n",
      "outer_poly [(524, 356), (809, 346), (815, 639), (525, 635)]\n",
      "1408\n",
      "outer_poly [(543, 355), (849, 324), (851, 704), (536, 679)]\n",
      "1409\n",
      "outer_poly [(534, 262), (774, 257), (770, 509), (531, 499)]\n",
      "1410\n",
      "outer_poly [(462, 309), (696, 299), (693, 557), (463, 550)]\n",
      "1411\n",
      "outer_poly [(430, 320), (534, 264), (536, 660), (432, 615)]\n"
     ]
    },
    {
     "name": "stderr",
     "output_type": "stream",
     "text": [
      " 29%|██▊       | 1416/4943 [00:55<02:09, 27.30it/s]"
     ]
    },
    {
     "name": "stdout",
     "output_type": "stream",
     "text": [
      "1412\n",
      "outer_poly [(493, 339), (571, 289), (572, 648), (494, 612)]\n",
      "1413\n",
      "outer_poly [(438, 123), (917, 210), (925, 710), (433, 759)]\n",
      "1414\n",
      "outer_poly [(622, 246), (782, 79), (788, 698), (622, 641)]\n",
      "1415\n",
      "outer_poly [(666, 385), (833, 351), (838, 603), (674, 592)]\n",
      "1416\n",
      "outer_poly [(921, 308), (927, 611), (622, 607), (622, 301)]\n",
      "1417\n",
      "outer_poly [(418, 160), (829, 226), (835, 656), (409, 670)]\n"
     ]
    },
    {
     "name": "stderr",
     "output_type": "stream",
     "text": [
      " 29%|██▉       | 1422/4943 [00:55<02:07, 27.72it/s]"
     ]
    },
    {
     "name": "stdout",
     "output_type": "stream",
     "text": [
      "1418\n",
      "outer_poly [(545, 342), (764, 362), (765, 600), (543, 603)]\n",
      "1419\n",
      "outer_poly [(598, 424), (771, 465), (778, 714), (600, 725)]\n",
      "1420\n",
      "outer_poly [(393, 398), (646, 425), (647, 686), (383, 692)]\n",
      "1421\n",
      "outer_poly [(411, 299), (727, 198), (743, 710), (408, 690)]\n",
      "1422\n",
      "outer_poly [(446, 349), (761, 357), (768, 671), (442, 677)]\n",
      "1423\n",
      "outer_poly [(609, 426), (731, 385), (735, 653), (612, 648)]\n"
     ]
    },
    {
     "name": "stderr",
     "output_type": "stream",
     "text": [
      " 29%|██▉       | 1428/4943 [00:55<02:04, 28.31it/s]"
     ]
    },
    {
     "name": "stdout",
     "output_type": "stream",
     "text": [
      "1424\n",
      "outer_poly [(345, 172), (857, 62), (900, 684), (337, 690)]\n",
      "1425\n",
      "outer_poly [(427, 264), (634, 23), (700, 724), (449, 726)]\n",
      "1426\n",
      "outer_poly [(618, 462), (786, 459), (791, 629), (621, 634)]\n",
      "1427\n",
      "outer_poly [(481, 492), (680, 488), (683, 690), (481, 691)]\n",
      "1428\n",
      "outer_poly [(358, 13), (354, 777), (640, 657), (639, 181), (395, 13)]\n",
      "1429\n",
      "outer_poly [(431, 118), (999, 127), (996, 680), (437, 693)]\n"
     ]
    },
    {
     "name": "stderr",
     "output_type": "stream",
     "text": [
      " 29%|██▉       | 1434/4943 [00:56<02:02, 28.60it/s]"
     ]
    },
    {
     "name": "stdout",
     "output_type": "stream",
     "text": [
      "1430\n",
      "outer_poly [(601, 313), (646, 286), (650, 543), (602, 519)]\n",
      "1431\n",
      "outer_poly [(485, 387), (740, 408), (741, 679), (481, 690)]\n",
      "1432\n",
      "outer_poly [(444, 272), (820, 184), (829, 762), (439, 708)]\n",
      "1433\n",
      "outer_poly [(413, 4), (772, 188), (772, 682), (396, 770)]\n",
      "1434\n",
      "outer_poly [(475, 291), (824, 303), (826, 652), (469, 652)]\n",
      "1435\n",
      "outer_poly [(471, 333), (655, 307), (657, 586), (469, 573)]\n"
     ]
    },
    {
     "name": "stderr",
     "output_type": "stream",
     "text": [
      " 29%|██▉       | 1440/4943 [00:56<02:02, 28.56it/s]"
     ]
    },
    {
     "name": "stdout",
     "output_type": "stream",
     "text": [
      "1436\n",
      "outer_poly [(500, 375), (639, 358), (642, 567), (500, 561)]\n",
      "1437\n",
      "outer_poly [(481, 295), (593, 240), (594, 596), (482, 571)]\n",
      "1438\n",
      "outer_poly [(361, 285), (696, 315), (699, 652), (352, 660)]\n",
      "1439\n",
      "outer_poly [(453, 420), (604, 394), (608, 629), (453, 624)]\n",
      "1440\n",
      "outer_poly [(506, 378), (693, 331), (699, 660), (505, 646)]\n",
      "1441\n",
      "outer_poly [(553, 388), (834, 393), (838, 675), (549, 674)]\n"
     ]
    },
    {
     "name": "stderr",
     "output_type": "stream",
     "text": [
      " 29%|██▉       | 1446/4943 [00:56<02:01, 28.76it/s]"
     ]
    },
    {
     "name": "stdout",
     "output_type": "stream",
     "text": [
      "1442\n",
      "outer_poly [(470, 124), (827, 239), (840, 672), (465, 709)]\n",
      "1443\n",
      "outer_poly [(503, 361), (822, 348), (830, 686), (497, 683)]\n",
      "1444\n",
      "outer_poly [(461, 411), (715, 399), (719, 670), (457, 669)]\n",
      "1445\n",
      "outer_poly [(504, 228), (867, 267), (875, 639), (503, 654)]\n",
      "1446\n",
      "outer_poly [(561, 372), (732, 307), (732, 679), (557, 662)]\n",
      "1447\n",
      "outer_poly [(511, 210), (701, 369), (705, 764), (490, 785)]\n"
     ]
    },
    {
     "name": "stderr",
     "output_type": "stream",
     "text": [
      " 29%|██▉       | 1452/4943 [00:56<02:03, 28.25it/s]"
     ]
    },
    {
     "name": "stdout",
     "output_type": "stream",
     "text": [
      "1448\n",
      "outer_poly [(404, 318), (648, 286), (647, 616), (404, 599)]\n",
      "1449\n",
      "outer_poly [(462, 336), (728, 265), (736, 716), (463, 684)]\n",
      "1450\n",
      "outer_poly [(512, 398), (818, 401), (823, 712), (503, 706)]\n",
      "1451\n",
      "outer_poly [(227, 412), (344, 378), (342, 672), (225, 653)]\n",
      "1452\n",
      "outer_poly [(493, 420), (794, 410), (801, 725), (484, 724)]\n",
      "1453\n",
      "outer_poly [(599, 468), (735, 410), (740, 731), (600, 724)]\n"
     ]
    },
    {
     "name": "stderr",
     "output_type": "stream",
     "text": [
      " 29%|██▉       | 1458/4943 [00:56<02:02, 28.34it/s]"
     ]
    },
    {
     "name": "stdout",
     "output_type": "stream",
     "text": [
      "1454\n",
      "outer_poly [(233, 96), (799, 0), (831, 2), (840, 739), (251, 682)]\n",
      "1455\n",
      "outer_poly [(519, 1), (959, 130), (962, 697), (439, 806), (444, 1)]\n",
      "1456\n",
      "outer_poly [(477, 291), (697, 335), (694, 618), (472, 641)]\n",
      "1457\n",
      "outer_poly [(282, 3), (274, 864), (1027, 864), (1174, 843), (1168, 29), (1078, 3)]\n",
      "1458\n",
      "outer_poly [(870, 358), (1018, 378), (1019, 599), (868, 610)]\n",
      "1459\n",
      "outer_poly [(617, 310), (910, 323), (912, 621), (615, 626)]\n"
     ]
    },
    {
     "name": "stderr",
     "output_type": "stream",
     "text": [
      " 30%|██▉       | 1464/4943 [00:57<02:04, 27.92it/s]"
     ]
    },
    {
     "name": "stdout",
     "output_type": "stream",
     "text": [
      "1460\n",
      "outer_poly [(498, 166), (467, 724), (873, 701), (880, 268)]\n",
      "1461\n",
      "outer_poly [(435, 121), (911, 194), (906, 677), (437, 739)]\n",
      "1462\n",
      "outer_poly [(412, 363), (753, 378), (755, 723), (394, 716)]\n",
      "1463\n",
      "outer_poly [(273, 94), (965, 34), (1042, 805), (201, 804)]\n",
      "1464\n",
      "outer_poly [(573, 244), (959, 205), (968, 637), (572, 623)]\n",
      "1465\n",
      "outer_poly [(562, 373), (735, 368), (739, 542), (566, 545)]\n"
     ]
    },
    {
     "name": "stderr",
     "output_type": "stream",
     "text": [
      " 30%|██▉       | 1470/4943 [00:57<02:07, 27.34it/s]"
     ]
    },
    {
     "name": "stdout",
     "output_type": "stream",
     "text": [
      "1466\n",
      "outer_poly [(417, 257), (752, 266), (747, 598), (408, 593)]\n",
      "1467\n",
      "outer_poly [(555, 249), (1045, 190), (1054, 754), (544, 720)]\n",
      "1468\n",
      "outer_poly [(721, 334), (821, 320), (822, 499), (722, 488)]\n",
      "1469\n",
      "outer_poly [(311, 252), (737, 271), (737, 687), (305, 700)]\n",
      "1470\n",
      "outer_poly [(317, 239), (852, 243), (852, 788), (305, 781)]\n",
      "1471\n",
      "outer_poly [(499, 452), (639, 433), (640, 650), (499, 641)]\n"
     ]
    },
    {
     "name": "stderr",
     "output_type": "stream",
     "text": [
      " 30%|██▉       | 1476/4943 [00:57<02:07, 27.15it/s]"
     ]
    },
    {
     "name": "stdout",
     "output_type": "stream",
     "text": [
      "1472\n",
      "outer_poly [(663, 289), (811, 343), (814, 631), (666, 663)]\n",
      "1473\n",
      "outer_poly [(558, 288), (724, 340), (727, 632), (552, 667)]\n",
      "1474\n",
      "outer_poly [(324, 240), (673, 162), (673, 668), (318, 642)]\n",
      "1475\n",
      "outer_poly [(380, 372), (658, 399), (657, 681), (372, 689)]\n",
      "1476\n",
      "outer_poly [(534, 457), (663, 429), (667, 650), (535, 648)]\n",
      "1477\n",
      "outer_poly [(521, 272), (751, 139), (763, 679), (520, 654)]\n"
     ]
    },
    {
     "name": "stderr",
     "output_type": "stream",
     "text": [
      " 30%|██▉       | 1482/4943 [00:57<02:08, 27.00it/s]"
     ]
    },
    {
     "name": "stdout",
     "output_type": "stream",
     "text": [
      "1478\n",
      "outer_poly [(509, 231), (691, 33), (707, 704), (508, 666)]\n",
      "1479\n",
      "outer_poly [(430, 263), (774, 237), (784, 603), (428, 607)]\n",
      "1480\n",
      "outer_poly [(402, 240), (775, 245), (790, 616), (398, 622)]\n",
      "1481\n",
      "outer_poly [(558, 501), (755, 495), (762, 695), (563, 699)]\n",
      "1482\n",
      "outer_poly [(556, 346), (740, 345), (741, 528), (557, 530)]\n",
      "1483\n",
      "outer_poly [(510, 262), (940, 271), (955, 705), (511, 709)]\n"
     ]
    },
    {
     "name": "stderr",
     "output_type": "stream",
     "text": [
      " 30%|███       | 1488/4943 [00:58<02:10, 26.56it/s]"
     ]
    },
    {
     "name": "stdout",
     "output_type": "stream",
     "text": [
      "1484\n",
      "outer_poly [(286, 269), (628, 202), (633, 712), (284, 675)]\n",
      "1485\n",
      "outer_poly [(373, 246), (375, 618), (525, 572), (525, 286)]\n",
      "1486\n",
      "outer_poly [(422, 222), (734, 252), (732, 588), (424, 614)]\n",
      "1487\n",
      "outer_poly [(500, 261), (815, 240), (817, 585), (507, 575)]\n",
      "1488\n",
      "outer_poly [(602, 284), (786, 255), (788, 575), (607, 547)]\n",
      "1489\n",
      "outer_poly [(508, 217), (804, 296), (807, 688), (507, 737)]\n"
     ]
    },
    {
     "name": "stderr",
     "output_type": "stream",
     "text": [
      " 30%|███       | 1494/4943 [00:58<02:10, 26.49it/s]"
     ]
    },
    {
     "name": "stdout",
     "output_type": "stream",
     "text": [
      "1490\n",
      "outer_poly [(483, 228), (774, 290), (783, 651), (481, 689)]\n",
      "1491\n",
      "outer_poly [(543, 438), (669, 421), (671, 624), (546, 618)]\n",
      "1492\n",
      "outer_poly [(477, 382), (677, 343), (681, 694), (477, 669)]\n",
      "1493\n",
      "outer_poly [(185, 100), (774, 51), (774, 712), (178, 681)]\n",
      "1494\n",
      "outer_poly [(437, 249), (747, 173), (750, 667), (431, 628)]\n",
      "1495\n",
      "outer_poly [(425, 278), (695, 218), (702, 638), (422, 612)]\n"
     ]
    },
    {
     "name": "stderr",
     "output_type": "stream",
     "text": [
      " 30%|███       | 1500/4943 [00:58<02:12, 25.99it/s]"
     ]
    },
    {
     "name": "stdout",
     "output_type": "stream",
     "text": [
      "1496\n",
      "outer_poly [(392, 284), (569, 230), (570, 600), (393, 576)]\n",
      "1497\n",
      "outer_poly [(482, 301), (636, 261), (641, 583), (483, 561)]\n",
      "1498\n",
      "outer_poly [(519, 47), (837, 237), (845, 727), (507, 801)]\n",
      "1499\n",
      "outer_poly [(393, 408), (653, 420), (656, 678), (389, 684)]\n",
      "1500\n",
      "outer_poly [(221, 301), (550, 286), (552, 646), (218, 643)]\n"
     ]
    },
    {
     "name": "stderr",
     "output_type": "stream",
     "text": [
      " 30%|███       | 1506/4943 [00:58<02:14, 25.63it/s]"
     ]
    },
    {
     "name": "stdout",
     "output_type": "stream",
     "text": [
      "1501\n",
      "outer_poly [(656, 462), (770, 434), (776, 673), (660, 664)]\n",
      "1502\n",
      "outer_poly [(437, 20), (935, 200), (975, 747), (400, 768)]\n",
      "1503\n",
      "outer_poly [(592, 290), (737, 225), (737, 560), (596, 550)]\n",
      "1504\n",
      "outer_poly [(426, 279), (843, 276), (850, 704), (411, 699)]\n",
      "1505\n",
      "outer_poly [(524, 393), (683, 363), (684, 625), (522, 615)]\n",
      "1506\n"
     ]
    },
    {
     "name": "stderr",
     "output_type": "stream",
     "text": [
      "\r",
      " 31%|███       | 1509/4943 [00:58<02:14, 25.50it/s]"
     ]
    },
    {
     "name": "stdout",
     "output_type": "stream",
     "text": [
      "outer_poly [(550, 205), (671, 0), (714, 2), (738, 749), (562, 684)]\n",
      "1507\n",
      "outer_poly [(575, 428), (730, 484), (731, 747), (571, 753)]\n",
      "1508\n",
      "outer_poly [(452, 86), (918, 198), (929, 681), (439, 702)]\n",
      "1509\n",
      "outer_poly [(508, 369), (686, 306), (688, 705), (508, 669)]\n",
      "1510\n",
      "outer_poly [(309, 132), (943, 79), (981, 781), (262, 768)]\n",
      "1511\n"
     ]
    },
    {
     "name": "stderr",
     "output_type": "stream",
     "text": [
      " 31%|███       | 1515/4943 [00:59<02:21, 24.26it/s]"
     ]
    },
    {
     "name": "stdout",
     "output_type": "stream",
     "text": [
      "outer_poly [(329, 126), (865, 2), (1085, 3), (1117, 862), (411, 864), (306, 844)]\n",
      "1512\n",
      "outer_poly [(658, 383), (787, 224), (804, 785), (658, 759)]\n",
      "1513\n",
      "outer_poly [(586, 361), (743, 437), (747, 728), (580, 731)]\n",
      "1514\n",
      "outer_poly [(695, 230), (968, 101), (966, 788), (696, 663)]\n",
      "1515\n",
      "outer_poly [(589, 334), (701, 309), (701, 579), (589, 554)]\n"
     ]
    },
    {
     "name": "stderr",
     "output_type": "stream",
     "text": [
      "\r",
      " 31%|███       | 1518/4943 [00:59<02:17, 24.98it/s]"
     ]
    },
    {
     "name": "stdout",
     "output_type": "stream",
     "text": [
      "1516\n",
      "outer_poly [(343, 334), (638, 354), (644, 647), (338, 652)]\n",
      "1517\n",
      "outer_poly [(407, 403), (665, 407), (668, 666), (400, 666)]\n",
      "1518\n",
      "outer_poly [(388, 259), (716, 137), (739, 660), (389, 659)]\n",
      "1519\n",
      "outer_poly [(684, 335), (827, 351), (825, 554), (682, 567)]\n",
      "1520\n",
      "outer_poly [(553, 445), (686, 413), (694, 647), (556, 647)]\n"
     ]
    },
    {
     "name": "stderr",
     "output_type": "stream",
     "text": [
      " 31%|███       | 1524/4943 [00:59<02:18, 24.64it/s]"
     ]
    },
    {
     "name": "stdout",
     "output_type": "stream",
     "text": [
      "1521\n",
      "outer_poly [(503, 214), (868, 296), (875, 720), (498, 773)]\n",
      "1522\n",
      "outer_poly [(524, 284), (624, 329), (615, 556), (510, 567)]\n",
      "1523\n",
      "outer_poly [(373, 205), (857, 230), (860, 707), (366, 716)]\n",
      "1524\n",
      "outer_poly [(348, 362), (638, 364), (631, 658), (334, 652)]\n",
      "1525\n",
      "outer_poly [(212, 0), (209, 613), (824, 587), (824, 21), (661, 2)]\n",
      "1526\n",
      "outer_poly [(394, 106), (929, 119), (931, 662), (377, 655)]\n"
     ]
    },
    {
     "name": "stderr",
     "output_type": "stream",
     "text": [
      " 31%|███       | 1530/4943 [00:59<02:11, 25.95it/s]"
     ]
    },
    {
     "name": "stdout",
     "output_type": "stream",
     "text": [
      "1527\n",
      "outer_poly [(521, 264), (961, 265), (969, 719), (504, 710)]\n",
      "1528\n",
      "outer_poly [(410, 313), (730, 287), (732, 655), (408, 641)]\n",
      "1529\n",
      "outer_poly [(516, 379), (734, 393), (734, 619), (513, 621)]\n",
      "1530\n",
      "outer_poly [(548, 426), (616, 402), (617, 602), (548, 593)]\n",
      "1531\n",
      "outer_poly [(477, 405), (733, 416), (735, 677), (471, 679)]\n",
      "1532\n",
      "outer_poly [(413, 18), (718, 262), (728, 748), (378, 787)]\n"
     ]
    },
    {
     "name": "stderr",
     "output_type": "stream",
     "text": [
      " 31%|███       | 1536/4943 [00:59<02:09, 26.27it/s]"
     ]
    },
    {
     "name": "stdout",
     "output_type": "stream",
     "text": [
      "1533\n",
      "outer_poly [(509, 344), (742, 263), (754, 680), (504, 670)]\n",
      "1534\n",
      "outer_poly [(629, 459), (742, 432), (748, 632), (632, 632)]\n",
      "1535\n",
      "outer_poly [(295, 153), (779, 130), (795, 630), (283, 637)]\n",
      "1536\n",
      "outer_poly [(665, 421), (814, 379), (832, 634), (671, 636)]\n",
      "1537\n",
      "outer_poly [(455, 280), (681, 169), (699, 630), (460, 630)]\n",
      "1538\n",
      "outer_poly [(512, 101), (748, 14), (720, 839), (518, 594)]\n"
     ]
    },
    {
     "name": "stderr",
     "output_type": "stream",
     "text": [
      " 31%|███       | 1542/4943 [01:00<02:11, 25.77it/s]"
     ]
    },
    {
     "name": "stdout",
     "output_type": "stream",
     "text": [
      "1539\n",
      "outer_poly [(499, 251), (908, 242), (901, 643), (512, 639)]\n",
      "1540\n",
      "outer_poly [(349, 305), (652, 309), (654, 610), (348, 614)]\n",
      "1541\n",
      "outer_poly [(545, 257), (800, 272), (800, 547), (545, 563)]\n",
      "1542\n",
      "outer_poly [(544, 238), (836, 257), (836, 557), (545, 568)]\n",
      "1543\n",
      "outer_poly [(640, 316), (752, 294), (753, 545), (640, 525)]\n",
      "1544\n"
     ]
    },
    {
     "name": "stderr",
     "output_type": "stream",
     "text": [
      " 31%|███▏      | 1548/4943 [01:00<02:10, 25.94it/s]"
     ]
    },
    {
     "name": "stdout",
     "output_type": "stream",
     "text": [
      "outer_poly [(586, 296), (642, 257), (646, 564), (587, 534)]\n",
      "1545\n",
      "outer_poly [(554, 203), (710, 294), (709, 654), (550, 713)]\n",
      "1546\n",
      "outer_poly [(577, 165), (796, 274), (796, 676), (571, 748)]\n",
      "1547\n",
      "outer_poly [(714, 362), (806, 360), (811, 608), (716, 606)]\n",
      "1548\n",
      "outer_poly [(475, 336), (612, 271), (614, 684), (477, 641)]\n",
      "1549\n",
      "outer_poly [(581, 336), (839, 309), (843, 680), (583, 664)]\n"
     ]
    },
    {
     "name": "stderr",
     "output_type": "stream",
     "text": [
      " 31%|███▏      | 1554/4943 [01:00<02:08, 26.29it/s]"
     ]
    },
    {
     "name": "stdout",
     "output_type": "stream",
     "text": [
      "1550\n",
      "outer_poly [(441, 356), (685, 373), (686, 625), (438, 630)]\n",
      "1551\n",
      "outer_poly [(449, 230), (852, 189), (856, 659), (446, 637)]\n",
      "1552\n",
      "outer_poly [(362, 179), (830, 119), (840, 677), (362, 650)]\n",
      "1553\n",
      "outer_poly [(382, 199), (610, 319), (606, 694), (365, 739)]\n",
      "1554\n",
      "outer_poly [(423, 172), (760, 291), (766, 713), (411, 759)]\n",
      "1555\n"
     ]
    },
    {
     "name": "stderr",
     "output_type": "stream",
     "text": [
      " 32%|███▏      | 1560/4943 [01:00<02:08, 26.29it/s]"
     ]
    },
    {
     "name": "stdout",
     "output_type": "stream",
     "text": [
      "outer_poly [(445, 426), (692, 435), (695, 684), (441, 687)]\n",
      "1556\n",
      "outer_poly [(458, 319), (817, 318), (823, 677), (455, 679)]\n",
      "1557\n",
      "outer_poly [(372, 139), (968, 104), (989, 744), (356, 726)]\n",
      "1558\n",
      "outer_poly [(560, 357), (787, 340), (789, 588), (564, 587)]\n",
      "1559\n",
      "outer_poly [(632, 326), (904, 294), (913, 611), (636, 607)]\n",
      "1560\n",
      "outer_poly [(674, 436), (788, 395), (796, 667), (678, 658)]\n"
     ]
    },
    {
     "name": "stderr",
     "output_type": "stream",
     "text": [
      " 32%|███▏      | 1566/4943 [01:01<02:07, 26.54it/s]"
     ]
    },
    {
     "name": "stdout",
     "output_type": "stream",
     "text": [
      "1561\n",
      "outer_poly [(453, 145), (860, 235), (874, 664), (431, 670)]\n",
      "1562\n",
      "outer_poly [(452, 389), (702, 412), (701, 674), (442, 671)]\n",
      "1563\n",
      "outer_poly [(528, 395), (809, 388), (815, 673), (526, 675)]\n",
      "1564\n",
      "outer_poly [(589, 315), (766, 343), (768, 566), (589, 575)]\n",
      "1565\n",
      "outer_poly [(379, 86), (1009, 130), (1039, 767), (334, 763)]\n",
      "1566\n",
      "outer_poly [(257, 416), (367, 384), (362, 662), (252, 643)]\n"
     ]
    },
    {
     "name": "stderr",
     "output_type": "stream",
     "text": [
      " 32%|███▏      | 1573/4943 [01:01<01:59, 28.21it/s]"
     ]
    },
    {
     "name": "stdout",
     "output_type": "stream",
     "text": [
      "1567\n",
      "outer_poly [(250, 87), (943, 3), (952, 825), (238, 758)]\n",
      "1568\n",
      "outer_poly [(370, 250), (776, 208), (774, 698), (361, 669)]\n",
      "1569\n",
      "outer_poly [(584, 444), (762, 403), (766, 687), (582, 681)]\n",
      "1570\n",
      "outer_poly [(370, 364), (611, 362), (609, 648), (367, 647)]\n",
      "1571\n",
      "outer_poly [(326, 374), (598, 357), (595, 676), (319, 665)]\n",
      "1572\n",
      "outer_poly [(514, 132), (749, 306), (753, 720), (492, 731)]\n",
      "1573\n"
     ]
    },
    {
     "name": "stderr",
     "output_type": "stream",
     "text": [
      " 32%|███▏      | 1579/4943 [01:01<01:57, 28.74it/s]"
     ]
    },
    {
     "name": "stdout",
     "output_type": "stream",
     "text": [
      "outer_poly [(502, 243), (632, 181), (634, 584), (507, 540)]\n",
      "1574\n",
      "outer_poly [(631, 353), (755, 368), (755, 546), (628, 555)]\n",
      "1575\n",
      "outer_poly [(668, 327), (767, 352), (766, 571), (665, 593)]\n",
      "1576\n",
      "outer_poly [(647, 49), (956, 189), (957, 662), (644, 760)]\n",
      "1577\n",
      "outer_poly [(551, 389), (701, 327), (713, 648), (555, 646)]\n",
      "1578\n",
      "outer_poly [(523, 338), (739, 357), (739, 592), (520, 600)]\n",
      "1579\n"
     ]
    },
    {
     "name": "stderr",
     "output_type": "stream",
     "text": [
      " 32%|███▏      | 1585/4943 [01:01<01:55, 29.13it/s]"
     ]
    },
    {
     "name": "stdout",
     "output_type": "stream",
     "text": [
      "outer_poly [(656, 248), (977, 284), (978, 638), (652, 660)]\n",
      "1580\n",
      "outer_poly [(804, 340), (961, 356), (963, 575), (801, 584)]\n",
      "1581\n",
      "outer_poly [(602, 370), (809, 399), (811, 658), (600, 674)]\n",
      "1582\n",
      "outer_poly [(503, 373), (655, 404), (654, 631), (497, 644)]\n",
      "1583\n",
      "outer_poly [(92, 111), (723, 113), (716, 744), (92, 734)]\n",
      "1584\n",
      "outer_poly [(71, 266), (471, 275), (467, 668), (53, 669)]\n",
      "1585\n"
     ]
    },
    {
     "name": "stderr",
     "output_type": "stream",
     "text": [
      "\r",
      " 32%|███▏      | 1588/4943 [01:01<01:57, 28.52it/s]"
     ]
    },
    {
     "name": "stdout",
     "output_type": "stream",
     "text": [
      "outer_poly [(550, 318), (805, 312), (810, 573), (549, 575)]\n",
      "1586\n",
      "outer_poly [(374, 128), (894, 50), (907, 666), (364, 647)]\n",
      "1587\n",
      "outer_poly [(499, 206), (876, 187), (868, 605), (499, 575)]\n",
      "1588\n",
      "outer_poly [(308, 241), (732, 280), (733, 698), (305, 729)]\n",
      "1589\n",
      "outer_poly [(509, 214), (879, 81), (884, 794), (512, 690)]\n",
      "1590\n",
      "outer_poly [(309, 230), (591, 93), (595, 809), (312, 700)]\n"
     ]
    },
    {
     "name": "stderr",
     "output_type": "stream",
     "text": [
      " 32%|███▏      | 1597/4943 [01:02<01:54, 29.16it/s]"
     ]
    },
    {
     "name": "stdout",
     "output_type": "stream",
     "text": [
      "1591\n",
      "outer_poly [(581, 365), (718, 360), (720, 608), (582, 604)]\n",
      "1592\n",
      "outer_poly [(518, 370), (755, 354), (759, 616), (518, 611)]\n",
      "1593\n",
      "outer_poly [(548, 264), (899, 272), (902, 624), (543, 623)]\n",
      "1594\n",
      "outer_poly [(530, 157), (686, 331), (692, 742), (521, 782)]\n",
      "1595\n",
      "outer_poly [(487, 435), (719, 414), (728, 677), (486, 678)]\n",
      "1596\n",
      "outer_poly [(615, 409), (738, 377), (742, 613), (616, 607)]\n",
      "1597\n"
     ]
    },
    {
     "name": "stderr",
     "output_type": "stream",
     "text": [
      "\r",
      " 32%|███▏      | 1600/4943 [01:02<01:55, 28.87it/s]"
     ]
    },
    {
     "name": "stdout",
     "output_type": "stream",
     "text": [
      "outer_poly [(522, 405), (690, 362), (695, 647), (520, 643)]\n",
      "1598\n",
      "outer_poly [(508, 321), (712, 220), (724, 671), (508, 661)]\n",
      "1599\n",
      "outer_poly [(743, 418), (894, 374), (910, 627), (752, 630)]\n",
      "1600\n",
      "outer_poly [(611, 512), (783, 505), (789, 681), (615, 683)]\n",
      "1601\n",
      "outer_poly [(245, 290), (517, 298), (514, 562), (240, 563)]\n",
      "1602\n",
      "outer_poly [(413, 193), (943, 130), (958, 741), (414, 708)]\n"
     ]
    },
    {
     "name": "stderr",
     "output_type": "stream",
     "text": [
      " 32%|███▏      | 1606/4943 [01:02<01:59, 27.99it/s]"
     ]
    },
    {
     "name": "stdout",
     "output_type": "stream",
     "text": [
      "1603\n",
      "outer_poly [(339, 85), (883, 161), (894, 703), (335, 749)]\n",
      "1604\n",
      "outer_poly [(370, 167), (751, 167), (752, 546), (374, 549)]\n",
      "1605\n",
      "outer_poly [(573, 223), (723, 274), (721, 582), (570, 628)]\n",
      "1606\n",
      "outer_poly [(647, 300), (751, 257), (754, 589), (653, 556)]\n",
      "1607\n",
      "outer_poly [(439, 324), (804, 306), (807, 694), (435, 686)]\n",
      "1608\n",
      "outer_poly [(410, 345), (710, 325), (713, 668), (405, 657)]\n"
     ]
    },
    {
     "name": "stderr",
     "output_type": "stream",
     "text": [
      " 33%|███▎      | 1612/4943 [01:02<02:00, 27.59it/s]"
     ]
    },
    {
     "name": "stdout",
     "output_type": "stream",
     "text": [
      "1609\n",
      "outer_poly [(344, 142), (881, 149), (885, 689), (331, 694)]\n",
      "1610\n",
      "outer_poly [(547, 242), (694, 314), (691, 619), (538, 650)]\n",
      "1611\n",
      "outer_poly [(406, 236), (747, 279), (744, 635), (396, 655)]\n",
      "1612\n",
      "outer_poly [(306, 78), (922, 145), (927, 742), (286, 770)]\n",
      "1613\n",
      "outer_poly [(376, 192), (815, 145), (820, 662), (372, 641)]\n",
      "1614\n",
      "outer_poly [(512, 347), (670, 327), (668, 576), (515, 564)]\n"
     ]
    },
    {
     "name": "stderr",
     "output_type": "stream",
     "text": [
      " 33%|███▎      | 1618/4943 [01:02<01:59, 27.80it/s]"
     ]
    },
    {
     "name": "stdout",
     "output_type": "stream",
     "text": [
      "1615\n",
      "outer_poly [(458, 162), (768, 0), (788, 3), (794, 714), (459, 630)]\n",
      "1616\n",
      "outer_poly [(448, 218), (849, 82), (870, 732), (451, 689)]\n",
      "1617\n",
      "outer_poly [(387, 237), (770, 119), (780, 718), (384, 685)]\n",
      "1618\n",
      "outer_poly [(447, 385), (638, 346), (642, 646), (444, 635)]\n",
      "1619\n",
      "outer_poly [(631, 239), (825, 300), (829, 582), (627, 584)]\n",
      "1620\n",
      "outer_poly [(522, 291), (682, 368), (683, 670), (517, 686)]\n"
     ]
    },
    {
     "name": "stderr",
     "output_type": "stream",
     "text": [
      " 33%|███▎      | 1624/4943 [01:03<01:58, 27.99it/s]"
     ]
    },
    {
     "name": "stdout",
     "output_type": "stream",
     "text": [
      "1621\n",
      "outer_poly [(544, 276), (704, 190), (710, 575), (544, 570)]\n",
      "1622\n",
      "outer_poly [(490, 273), (785, 242), (788, 580), (489, 575)]\n",
      "1623\n",
      "outer_poly [(492, 369), (754, 373), (751, 638), (484, 636)]\n",
      "1624\n",
      "outer_poly [(420, 253), (882, 271), (894, 739), (400, 737)]\n",
      "1625\n",
      "outer_poly [(285, 220), (776, 181), (786, 728), (262, 717)]\n",
      "1626\n",
      "outer_poly [(197, 178), (738, 143), (747, 737), (166, 729)]\n"
     ]
    },
    {
     "name": "stderr",
     "output_type": "stream",
     "text": [
      " 33%|███▎      | 1630/4943 [01:03<01:59, 27.73it/s]"
     ]
    },
    {
     "name": "stdout",
     "output_type": "stream",
     "text": [
      "1627\n",
      "outer_poly [(476, 233), (851, 108), (868, 717), (467, 679)]\n",
      "1628\n",
      "outer_poly [(501, 367), (690, 317), (694, 637), (500, 628)]\n",
      "1629\n",
      "outer_poly [(564, 298), (722, 203), (729, 632), (570, 606)]\n",
      "1630\n",
      "outer_poly [(472, 80), (837, 209), (839, 659), (459, 712)]\n",
      "1631\n",
      "outer_poly [(575, 244), (717, 0), (725, 1), (754, 789), (577, 719)]\n",
      "1632\n",
      "outer_poly [(526, 323), (733, 420), (738, 767), (514, 779)]\n"
     ]
    },
    {
     "name": "stderr",
     "output_type": "stream",
     "text": [
      " 33%|███▎      | 1636/4943 [01:03<01:57, 28.03it/s]"
     ]
    },
    {
     "name": "stdout",
     "output_type": "stream",
     "text": [
      "1633\n",
      "outer_poly [(366, 284), (829, 266), (843, 765), (335, 755)]\n",
      "1634\n",
      "outer_poly [(386, 342), (778, 332), (783, 744), (368, 736)]\n",
      "1635\n",
      "outer_poly [(675, 290), (852, 273), (854, 497), (681, 488)]\n",
      "1636\n",
      "outer_poly [(599, 477), (689, 424), (693, 720), (600, 714)]\n",
      "1637\n",
      "outer_poly [(599, 92), (985, 186), (988, 653), (593, 717)]\n",
      "1638\n",
      "outer_poly [(501, 183), (833, 261), (834, 668), (489, 718)]\n"
     ]
    },
    {
     "name": "stderr",
     "output_type": "stream",
     "text": [
      " 33%|███▎      | 1642/4943 [01:03<01:55, 28.64it/s]"
     ]
    },
    {
     "name": "stdout",
     "output_type": "stream",
     "text": [
      "1639\n",
      "outer_poly [(612, 0), (641, 26), (612, 690), (5, 864), (2, 0)]\n",
      "1640\n",
      "outer_poly [(199, 41), (949, 61), (956, 793), (191, 814)]\n",
      "1641\n",
      "outer_poly [(250, 64), (990, 65), (1003, 855), (168, 817)]\n",
      "1642\n",
      "outer_poly [(701, 319), (968, 310), (974, 583), (702, 584)]\n",
      "1643\n",
      "outer_poly [(159, 192), (628, 211), (623, 671), (141, 670)]\n",
      "1644\n",
      "outer_poly [(264, 3), (252, 696), (1043, 681), (1020, 0)]\n"
     ]
    },
    {
     "name": "stderr",
     "output_type": "stream",
     "text": [
      " 33%|███▎      | 1649/4943 [01:04<01:52, 29.20it/s]"
     ]
    },
    {
     "name": "stdout",
     "output_type": "stream",
     "text": [
      "1645\n",
      "outer_poly [(417, 64), (1053, 15), (1056, 706), (396, 674)]\n",
      "1646\n",
      "outer_poly [(544, 254), (871, 287), (865, 630), (539, 647)]\n",
      "1647\n",
      "outer_poly [(423, 362), (547, 338), (545, 593), (422, 574)]\n",
      "1648\n",
      "outer_poly [(490, 292), (840, 304), (839, 651), (486, 658)]\n",
      "1649\n",
      "outer_poly [(387, 238), (844, 236), (850, 702), (382, 702)]\n",
      "1650\n",
      "outer_poly [(604, 230), (751, 75), (778, 74), (793, 707), (609, 653)]\n",
      "1651\n"
     ]
    },
    {
     "name": "stderr",
     "output_type": "stream",
     "text": [
      " 34%|███▎      | 1656/4943 [01:04<01:52, 29.26it/s]"
     ]
    },
    {
     "name": "stdout",
     "output_type": "stream",
     "text": [
      "outer_poly [(457, 404), (724, 393), (730, 672), (454, 672)]\n",
      "1652\n",
      "outer_poly [(489, 398), (660, 439), (667, 690), (490, 701)]\n",
      "1653\n",
      "outer_poly [(574, 431), (647, 366), (670, 671), (591, 673)]\n",
      "1654\n",
      "outer_poly [(580, 508), (751, 503), (756, 675), (584, 679)]\n",
      "1655\n",
      "outer_poly [(481, 492), (653, 490), (655, 663), (483, 665)]\n",
      "1656\n",
      "outer_poly [(279, 123), (906, 115), (917, 749), (277, 750)]\n"
     ]
    },
    {
     "name": "stderr",
     "output_type": "stream",
     "text": [
      "\r",
      " 34%|███▎      | 1659/4943 [01:04<02:03, 26.63it/s]"
     ]
    },
    {
     "name": "stdout",
     "output_type": "stream",
     "text": [
      "1657\n",
      "outer_poly [(306, 249), (688, 259), (689, 631), (300, 638)]\n",
      "1658\n",
      "outer_poly [(503, 313), (690, 341), (696, 600), (505, 622)]\n",
      "1659\n",
      "outer_poly [(532, 113), (1038, 171), (1051, 690), (535, 740)]\n",
      "1660\n",
      "outer_poly [(535, 268), (772, 313), (774, 615), (535, 645)]\n",
      "1661\n",
      "outer_poly [(337, 230), (794, 293), (801, 759), (324, 799)]\n"
     ]
    },
    {
     "name": "stderr",
     "output_type": "stream",
     "text": [
      " 34%|███▎      | 1665/4943 [01:04<02:06, 25.90it/s]"
     ]
    },
    {
     "name": "stdout",
     "output_type": "stream",
     "text": [
      "1662\n",
      "outer_poly [(382, 250), (893, 233), (894, 772), (370, 752)]\n",
      "1663\n",
      "outer_poly [(538, 349), (831, 323), (839, 668), (545, 653)]\n",
      "1664\n",
      "outer_poly [(530, 347), (648, 244), (653, 756), (530, 692)]\n",
      "1665\n",
      "outer_poly [(556, 226), (748, 300), (750, 624), (556, 663)]\n",
      "1666\n",
      "outer_poly [(253, 1), (280, 1), (588, 195), (582, 681), (228, 775)]\n"
     ]
    },
    {
     "name": "stderr",
     "output_type": "stream",
     "text": [
      " 34%|███▍      | 1671/4943 [01:04<02:06, 25.91it/s]"
     ]
    },
    {
     "name": "stdout",
     "output_type": "stream",
     "text": [
      "1667\n",
      "outer_poly [(467, 273), (670, 323), (669, 602), (464, 622)]\n",
      "1668\n",
      "outer_poly [(410, 254), (665, 185), (671, 634), (406, 602)]\n",
      "1669\n",
      "outer_poly [(474, 251), (834, 307), (846, 704), (468, 731)]\n",
      "1670\n",
      "outer_poly [(348, 128), (939, 78), (990, 714), (324, 719)]\n",
      "1671\n",
      "outer_poly [(525, 333), (769, 299), (771, 591), (525, 589)]\n",
      "1672\n",
      "outer_poly [(572, 335), (805, 296), (812, 593), (571, 592)]\n"
     ]
    },
    {
     "name": "stderr",
     "output_type": "stream",
     "text": [
      " 34%|███▍      | 1677/4943 [01:05<01:59, 27.41it/s]"
     ]
    },
    {
     "name": "stdout",
     "output_type": "stream",
     "text": [
      "1673\n",
      "outer_poly [(546, 298), (804, 212), (817, 633), (547, 629)]\n",
      "1674\n",
      "outer_poly [(486, 374), (721, 396), (718, 639), (481, 636)]\n",
      "1675\n",
      "outer_poly [(504, 302), (858, 321), (865, 679), (495, 682)]\n",
      "1676\n",
      "outer_poly [(523, 200), (820, 273), (838, 634), (527, 657)]\n",
      "1677\n",
      "outer_poly [(518, 321), (753, 244), (765, 659), (517, 641)]\n",
      "1678\n",
      "outer_poly [(566, 291), (747, 174), (759, 662), (571, 635)]\n"
     ]
    },
    {
     "name": "stderr",
     "output_type": "stream",
     "text": [
      " 34%|███▍      | 1683/4943 [01:05<01:59, 27.25it/s]"
     ]
    },
    {
     "name": "stdout",
     "output_type": "stream",
     "text": [
      "1679\n",
      "outer_poly [(621, 257), (741, 300), (739, 542), (620, 558)]\n",
      "1680\n",
      "outer_poly [(544, 406), (683, 364), (684, 658), (541, 646)]\n",
      "1681\n",
      "outer_poly [(414, 166), (1023, 75), (1052, 801), (405, 759)]\n",
      "1682\n",
      "outer_poly [(328, 270), (802, 216), (818, 769), (317, 749)]\n",
      "1683\n",
      "outer_poly [(329, 152), (910, 63), (926, 769), (321, 727)]\n",
      "1684\n",
      "outer_poly [(508, 310), (786, 262), (787, 668), (504, 640)]\n"
     ]
    },
    {
     "name": "stderr",
     "output_type": "stream",
     "text": [
      " 34%|███▍      | 1689/4943 [01:05<02:02, 26.59it/s]"
     ]
    },
    {
     "name": "stdout",
     "output_type": "stream",
     "text": [
      "1685\n",
      "outer_poly [(472, 353), (702, 310), (702, 660), (469, 640)]\n",
      "1686\n",
      "outer_poly [(546, 206), (1059, 0), (1075, 5), (1131, 846), (552, 764)]\n",
      "1687\n",
      "outer_poly [(484, 365), (719, 298), (728, 706), (482, 681)]\n",
      "1688\n",
      "outer_poly [(524, 432), (789, 443), (795, 709), (521, 710)]\n",
      "1689\n",
      "outer_poly [(566, 469), (815, 456), (822, 722), (565, 721)]\n",
      "1690\n",
      "outer_poly [(666, 477), (784, 439), (788, 691), (667, 686)]\n"
     ]
    },
    {
     "name": "stderr",
     "output_type": "stream",
     "text": [
      " 34%|███▍      | 1695/4943 [01:05<02:09, 25.01it/s]"
     ]
    },
    {
     "name": "stdout",
     "output_type": "stream",
     "text": [
      "1691\n",
      "outer_poly [(520, 316), (691, 407), (695, 718), (510, 726)]\n",
      "1692\n",
      "outer_poly [(383, 236), (755, 173), (753, 719), (380, 659)]\n",
      "1693\n",
      "outer_poly [(414, 263), (798, 306), (808, 708), (410, 742)]\n",
      "1694\n",
      "outer_poly [(258, 103), (817, 170), (825, 714), (232, 740)]\n",
      "1695\n",
      "outer_poly [(401, 262), (634, 329), (620, 629), (382, 639)]\n"
     ]
    },
    {
     "name": "stderr",
     "output_type": "stream",
     "text": [
      " 34%|███▍      | 1701/4943 [01:06<02:04, 26.04it/s]"
     ]
    },
    {
     "name": "stdout",
     "output_type": "stream",
     "text": [
      "1696\n",
      "outer_poly [(347, 130), (997, 140), (1020, 818), (293, 796)]\n",
      "1697\n",
      "outer_poly [(406, 201), (931, 214), (953, 750), (376, 745)]\n",
      "1698\n",
      "outer_poly [(461, 306), (744, 314), (744, 597), (457, 598)]\n",
      "1699\n",
      "outer_poly [(367, 106), (1060, 22), (1136, 790), (331, 790)]\n",
      "1700\n",
      "outer_poly [(544, 145), (1057, 123), (1074, 658), (538, 652)]\n",
      "1701\n",
      "outer_poly [(0, 251), (348, 278), (366, 619), (0, 651)]\n"
     ]
    },
    {
     "name": "stderr",
     "output_type": "stream",
     "text": [
      " 35%|███▍      | 1707/4943 [01:06<02:02, 26.50it/s]"
     ]
    },
    {
     "name": "stdout",
     "output_type": "stream",
     "text": [
      "1702\n",
      "outer_poly [(689, 373), (859, 367), (862, 537), (692, 540)]\n",
      "1703\n",
      "outer_poly [(511, 309), (759, 318), (754, 569), (508, 572)]\n",
      "1704\n",
      "outer_poly [(543, 248), (812, 253), (803, 520), (540, 517)]\n",
      "1705\n",
      "outer_poly [(437, 357), (706, 348), (708, 630), (432, 628)]\n",
      "1706\n",
      "outer_poly [(366, 244), (802, 188), (811, 724), (362, 692)]\n",
      "1707\n",
      "outer_poly [(482, 48), (716, 259), (719, 736), (464, 833)]\n"
     ]
    },
    {
     "name": "stderr",
     "output_type": "stream",
     "text": [
      " 35%|███▍      | 1713/4943 [01:06<02:03, 26.23it/s]"
     ]
    },
    {
     "name": "stdout",
     "output_type": "stream",
     "text": [
      "1708\n",
      "outer_poly [(647, 440), (729, 421), (732, 588), (650, 585)]\n",
      "1709\n",
      "outer_poly [(538, 339), (759, 286), (762, 635), (536, 621)]\n",
      "1710\n",
      "outer_poly [(462, 343), (689, 367), (689, 604), (460, 609)]\n",
      "1711\n",
      "outer_poly [(502, 339), (647, 421), (646, 726), (494, 740)]\n",
      "1712\n",
      "outer_poly [(534, 300), (650, 186), (656, 665), (534, 641)]\n",
      "1713\n"
     ]
    },
    {
     "name": "stderr",
     "output_type": "stream",
     "text": [
      "\r",
      " 35%|███▍      | 1716/4943 [01:06<02:04, 25.97it/s]"
     ]
    },
    {
     "name": "stdout",
     "output_type": "stream",
     "text": [
      "outer_poly [(346, 200), (689, 241), (691, 584), (335, 585)]\n",
      "1714\n",
      "outer_poly [(420, 229), (839, 140), (872, 652), (420, 662)]\n",
      "1715\n",
      "outer_poly [(586, 501), (771, 495), (776, 684), (589, 686)]\n",
      "1716\n",
      "outer_poly [(575, 441), (726, 442), (731, 604), (578, 611)]\n",
      "1717\n",
      "outer_poly [(514, 341), (663, 342), (664, 489), (515, 490)]\n",
      "1718\n",
      "outer_poly [(585, 337), (769, 332), (769, 519), (586, 519)]\n"
     ]
    },
    {
     "name": "stderr",
     "output_type": "stream",
     "text": [
      " 35%|███▍      | 1722/4943 [01:06<02:05, 25.71it/s]"
     ]
    },
    {
     "name": "stdout",
     "output_type": "stream",
     "text": [
      "1719\n",
      "outer_poly [(396, 383), (548, 362), (551, 598), (397, 590)]\n",
      "1720\n",
      "outer_poly [(435, 195), (793, 234), (792, 612), (437, 649)]\n",
      "1721\n",
      "outer_poly [(606, 280), (845, 288), (843, 536), (606, 545)]\n",
      "1722\n",
      "outer_poly [(304, 70), (1004, 68), (1004, 757), (317, 767)]\n",
      "1723\n",
      "outer_poly [(611, 241), (782, 311), (784, 647), (610, 689)]\n",
      "1724\n"
     ]
    },
    {
     "name": "stderr",
     "output_type": "stream",
     "text": [
      " 35%|███▍      | 1728/4943 [01:07<02:06, 25.47it/s]"
     ]
    },
    {
     "name": "stdout",
     "output_type": "stream",
     "text": [
      "outer_poly [(495, 393), (765, 410), (767, 693), (490, 702)]\n",
      "1725\n",
      "outer_poly [(538, 425), (682, 401), (684, 651), (540, 639)]\n",
      "1726\n",
      "outer_poly [(478, 399), (615, 361), (614, 672), (476, 649)]\n",
      "1727\n",
      "outer_poly [(461, 278), (582, 214), (584, 592), (463, 564)]\n",
      "1728\n",
      "outer_poly [(380, 172), (861, 224), (876, 703), (371, 726)]\n",
      "1729\n",
      "outer_poly [(372, 241), (828, 227), (835, 703), (361, 696)]\n"
     ]
    },
    {
     "name": "stderr",
     "output_type": "stream",
     "text": [
      " 35%|███▌      | 1734/4943 [01:07<02:02, 26.29it/s]"
     ]
    },
    {
     "name": "stdout",
     "output_type": "stream",
     "text": [
      "1730\n",
      "outer_poly [(353, 317), (595, 231), (600, 704), (350, 676)]\n",
      "1731\n",
      "outer_poly [(500, 467), (626, 442), (629, 668), (500, 661)]\n",
      "1732\n",
      "outer_poly [(525, 467), (640, 445), (642, 662), (526, 655)]\n",
      "1733\n",
      "outer_poly [(532, 409), (681, 361), (687, 681), (533, 666)]\n",
      "1734\n",
      "outer_poly [(429, 14), (692, 250), (689, 729), (392, 779)]\n",
      "1735\n",
      "outer_poly [(606, 260), (730, 212), (733, 485), (609, 483)]\n"
     ]
    },
    {
     "name": "stderr",
     "output_type": "stream",
     "text": [
      " 35%|███▌      | 1740/4943 [01:07<02:06, 25.35it/s]"
     ]
    },
    {
     "name": "stdout",
     "output_type": "stream",
     "text": [
      "1736\n",
      "outer_poly [(472, 227), (813, 289), (820, 654), (463, 664)]\n",
      "1737\n",
      "outer_poly [(412, 220), (885, 50), (930, 766), (398, 747)]\n",
      "1738\n",
      "outer_poly [(512, 33), (836, 221), (847, 703), (503, 761)]\n",
      "1739\n",
      "outer_poly [(516, 272), (797, 286), (801, 576), (516, 579)]\n",
      "1740\n",
      "outer_poly [(528, 329), (749, 289), (756, 594), (530, 588)]\n"
     ]
    },
    {
     "name": "stderr",
     "output_type": "stream",
     "text": [
      " 35%|███▌      | 1746/4943 [01:07<02:02, 26.11it/s]"
     ]
    },
    {
     "name": "stdout",
     "output_type": "stream",
     "text": [
      "1741\n",
      "outer_poly [(535, 270), (812, 120), (831, 726), (533, 688)]\n",
      "1742\n",
      "outer_poly [(602, 245), (730, 315), (723, 612), (597, 639)]\n",
      "1743\n",
      "outer_poly [(563, 390), (720, 333), (723, 670), (562, 656)]\n",
      "1744\n",
      "outer_poly [(592, 343), (698, 211), (705, 739), (590, 704)]\n",
      "1745\n",
      "outer_poly [(551, 195), (1043, 54), (1063, 776), (543, 706)]\n",
      "1746\n",
      "outer_poly [(613, 398), (835, 421), (838, 661), (610, 661)]\n"
     ]
    },
    {
     "name": "stderr",
     "output_type": "stream",
     "text": [
      " 35%|███▌      | 1752/4943 [01:07<02:03, 25.90it/s]"
     ]
    },
    {
     "name": "stdout",
     "output_type": "stream",
     "text": [
      "1747\n",
      "outer_poly [(522, 301), (859, 183), (886, 765), (526, 720)]\n",
      "1748\n",
      "outer_poly [(623, 480), (737, 435), (743, 705), (626, 700)]\n",
      "1749\n",
      "outer_poly [(627, 457), (740, 384), (749, 736), (631, 725)]\n",
      "1750\n",
      "outer_poly [(468, 369), (696, 400), (699, 651), (462, 649)]\n",
      "1751\n",
      "outer_poly [(434, 315), (747, 336), (757, 652), (429, 655)]\n",
      "1752\n",
      "outer_poly [(358, 298), (746, 303), (761, 697), (346, 700)]\n"
     ]
    },
    {
     "name": "stderr",
     "output_type": "stream",
     "text": [
      " 36%|███▌      | 1758/4943 [01:08<02:03, 25.77it/s]"
     ]
    },
    {
     "name": "stdout",
     "output_type": "stream",
     "text": [
      "1753\n",
      "outer_poly [(587, 239), (848, 298), (847, 654), (581, 703)]\n",
      "1754\n",
      "outer_poly [(552, 154), (722, 251), (718, 614), (548, 677)]\n",
      "1755\n",
      "outer_poly [(656, 430), (789, 322), (811, 750), (664, 747)]\n",
      "1756\n",
      "outer_poly [(527, 263), (661, 98), (680, 649), (533, 642)]\n",
      "1757\n",
      "outer_poly [(186, 33), (912, 124), (935, 818), (500, 864), (155, 862)]\n",
      "1758\n"
     ]
    },
    {
     "name": "stderr",
     "output_type": "stream",
     "text": [
      "\r",
      " 36%|███▌      | 1761/4943 [01:08<02:04, 25.58it/s]"
     ]
    },
    {
     "name": "stdout",
     "output_type": "stream",
     "text": [
      "outer_poly [(556, 319), (843, 319), (844, 606), (554, 607)]\n",
      "1759\n",
      "outer_poly [(396, 209), (969, 155), (1019, 787), (371, 786)]\n",
      "1760\n",
      "outer_poly [(638, 239), (1030, 191), (1042, 630), (638, 618)]\n",
      "1761\n",
      "outer_poly [(627, 319), (885, 319), (894, 578), (633, 582)]\n",
      "1762\n",
      "outer_poly [(223, 127), (728, 156), (731, 651), (201, 653)]\n",
      "1763\n",
      "outer_poly [(581, 339), (891, 315), (894, 665), (578, 651)]\n"
     ]
    },
    {
     "name": "stderr",
     "output_type": "stream",
     "text": [
      " 36%|███▌      | 1767/4943 [01:08<02:04, 25.54it/s]"
     ]
    },
    {
     "name": "stdout",
     "output_type": "stream",
     "text": [
      "1764\n",
      "outer_poly [(453, 325), (764, 318), (763, 647), (442, 637)]\n",
      "1765\n",
      "outer_poly [(401, 217), (829, 186), (822, 687), (398, 644)]\n",
      "1766\n",
      "outer_poly [(344, 301), (536, 241), (539, 677), (344, 631)]\n",
      "1767\n",
      "outer_poly [(556, 386), (715, 363), (718, 604), (557, 594)]\n",
      "1768\n",
      "outer_poly [(560, 383), (694, 348), (695, 610), (561, 599)]\n",
      "1769\n",
      "outer_poly [(481, 57), (1087, 109), (1114, 722), (466, 736)]\n"
     ]
    },
    {
     "name": "stderr",
     "output_type": "stream",
     "text": [
      " 36%|███▌      | 1773/4943 [01:08<02:00, 26.32it/s]"
     ]
    },
    {
     "name": "stdout",
     "output_type": "stream",
     "text": [
      "1770\n",
      "outer_poly [(488, 41), (684, 280), (695, 749), (478, 805)]\n",
      "1771\n",
      "outer_poly [(510, 434), (668, 394), (676, 664), (512, 660)]\n",
      "1772\n",
      "outer_poly [(488, 351), (712, 274), (717, 690), (483, 675)]\n",
      "1773\n",
      "outer_poly [(446, 34), (818, 235), (832, 730), (421, 763)]\n",
      "1774\n",
      "outer_poly [(433, 391), (671, 413), (671, 659), (425, 657)]\n",
      "1775\n",
      "outer_poly [(419, 325), (836, 280), (863, 739), (412, 746)]\n"
     ]
    },
    {
     "name": "stderr",
     "output_type": "stream",
     "text": [
      " 36%|███▌      | 1779/4943 [01:09<01:57, 26.82it/s]"
     ]
    },
    {
     "name": "stdout",
     "output_type": "stream",
     "text": [
      "1776\n",
      "outer_poly [(429, 335), (821, 298), (841, 729), (422, 733)]\n",
      "1777\n",
      "outer_poly [(518, 412), (699, 370), (708, 652), (519, 651)]\n",
      "1778\n",
      "outer_poly [(338, 98), (781, 192), (801, 647), (327, 661)]\n",
      "1779\n",
      "outer_poly [(452, 365), (637, 364), (637, 553), (452, 551)]\n",
      "1780\n",
      "outer_poly [(402, 128), (893, 133), (893, 619), (402, 624)]\n",
      "1781\n"
     ]
    },
    {
     "name": "stderr",
     "output_type": "stream",
     "text": [
      " 36%|███▌      | 1785/4943 [01:09<02:00, 26.11it/s]"
     ]
    },
    {
     "name": "stdout",
     "output_type": "stream",
     "text": [
      "outer_poly [(459, 272), (866, 257), (873, 676), (457, 674)]\n",
      "1782\n",
      "outer_poly [(509, 3), (538, 1), (762, 214), (773, 735), (569, 864), (512, 864)]\n",
      "1783\n",
      "outer_poly [(425, 62), (1086, 93), (1079, 729), (431, 766)]\n",
      "1784\n",
      "outer_poly [(508, 285), (811, 258), (812, 607), (504, 597)]\n",
      "1785\n",
      "outer_poly [(449, 198), (727, 63), (738, 691), (451, 628)]\n",
      "1786\n",
      "outer_poly [(554, 170), (722, 1), (762, 3), (766, 740), (552, 640)]\n"
     ]
    },
    {
     "name": "stderr",
     "output_type": "stream",
     "text": [
      " 36%|███▌      | 1791/4943 [01:09<01:57, 26.76it/s]"
     ]
    },
    {
     "name": "stdout",
     "output_type": "stream",
     "text": [
      "1787\n",
      "outer_poly [(492, 351), (691, 400), (693, 678), (488, 696)]\n",
      "1788\n",
      "outer_poly [(585, 403), (792, 418), (792, 639), (583, 644)]\n",
      "1789\n",
      "outer_poly [(430, 351), (690, 372), (692, 639), (424, 645)]\n",
      "1790\n",
      "outer_poly [(562, 342), (840, 352), (850, 636), (562, 642)]\n",
      "1791\n",
      "outer_poly [(439, 377), (824, 372), (834, 769), (429, 769)]\n",
      "1792\n",
      "outer_poly [(449, 330), (702, 270), (712, 670), (448, 654)]\n"
     ]
    },
    {
     "name": "stderr",
     "output_type": "stream",
     "text": [
      " 36%|███▋      | 1797/4943 [01:09<01:53, 27.62it/s]"
     ]
    },
    {
     "name": "stdout",
     "output_type": "stream",
     "text": [
      "1793\n",
      "outer_poly [(445, 368), (656, 325), (661, 656), (443, 643)]\n",
      "1794\n",
      "outer_poly [(531, 423), (613, 364), (616, 699), (532, 682)]\n",
      "1795\n",
      "outer_poly [(594, 319), (731, 395), (733, 694), (589, 710)]\n",
      "1796\n",
      "outer_poly [(559, 277), (778, 145), (792, 648), (558, 638)]\n",
      "1797\n",
      "outer_poly [(573, 370), (815, 395), (819, 659), (569, 661)]\n",
      "1798\n",
      "outer_poly [(522, 280), (814, 199), (821, 643), (516, 630)]\n"
     ]
    },
    {
     "name": "stderr",
     "output_type": "stream",
     "text": [
      " 36%|███▋      | 1803/4943 [01:09<01:50, 28.29it/s]"
     ]
    },
    {
     "name": "stdout",
     "output_type": "stream",
     "text": [
      "1799\n",
      "outer_poly [(561, 277), (775, 211), (777, 573), (559, 564)]\n",
      "1800\n",
      "outer_poly [(543, 74), (764, 198), (765, 580), (537, 611)]\n",
      "1801\n",
      "outer_poly [(446, 100), (922, 182), (942, 675), (441, 708)]\n",
      "1802\n",
      "outer_poly [(0, 49), (544, 63), (526, 741), (0, 730)]\n",
      "1803\n",
      "outer_poly [(457, 269), (795, 165), (811, 712), (452, 678)]\n",
      "1804\n",
      "outer_poly [(477, 281), (785, 151), (801, 722), (474, 689)]\n"
     ]
    },
    {
     "name": "stderr",
     "output_type": "stream",
     "text": [
      " 37%|███▋      | 1809/4943 [01:10<01:49, 28.52it/s]"
     ]
    },
    {
     "name": "stdout",
     "output_type": "stream",
     "text": [
      "1805\n",
      "outer_poly [(589, 409), (742, 362), (747, 658), (593, 650)]\n",
      "1806\n",
      "outer_poly [(566, 398), (716, 346), (722, 669), (567, 658)]\n",
      "1807\n",
      "outer_poly [(586, 310), (715, 122), (726, 774), (582, 723)]\n",
      "1808\n",
      "outer_poly [(391, 136), (885, 2), (1008, 8), (1020, 850), (380, 746)]\n",
      "1809\n",
      "outer_poly [(427, 161), (997, 8), (1011, 829), (426, 729)]\n",
      "1810\n",
      "outer_poly [(311, 208), (808, 155), (806, 750), (297, 709)]\n"
     ]
    },
    {
     "name": "stderr",
     "output_type": "stream",
     "text": [
      " 37%|███▋      | 1815/4943 [01:10<01:50, 28.41it/s]"
     ]
    },
    {
     "name": "stdout",
     "output_type": "stream",
     "text": [
      "1811\n",
      "outer_poly [(343, 71), (818, 197), (829, 685), (309, 688)]\n",
      "1812\n",
      "outer_poly [(469, 265), (690, 201), (689, 697), (470, 628)]\n",
      "1813\n",
      "outer_poly [(449, 376), (694, 351), (705, 628), (450, 633)]\n",
      "1814\n",
      "outer_poly [(425, 458), (572, 434), (577, 647), (426, 648)]\n",
      "1815\n",
      "outer_poly [(542, 449), (674, 415), (680, 645), (548, 645)]\n",
      "1816\n",
      "outer_poly [(504, 201), (974, 235), (974, 709), (494, 730)]\n"
     ]
    },
    {
     "name": "stderr",
     "output_type": "stream",
     "text": [
      " 37%|███▋      | 1821/4943 [01:10<01:48, 28.73it/s]"
     ]
    },
    {
     "name": "stdout",
     "output_type": "stream",
     "text": [
      "1817\n",
      "outer_poly [(377, 257), (737, 300), (737, 662), (365, 676)]\n",
      "1818\n",
      "outer_poly [(314, 362), (517, 386), (513, 608), (302, 612)]\n",
      "1819\n",
      "outer_poly [(350, 280), (677, 330), (677, 676), (336, 693)]\n",
      "1820\n",
      "outer_poly [(171, 0), (635, 5), (911, 89), (917, 787), (109, 849)]\n",
      "1821\n",
      "outer_poly [(566, 375), (844, 377), (841, 658), (559, 653)]\n",
      "1822\n",
      "outer_poly [(536, 325), (895, 308), (901, 697), (527, 683)]\n"
     ]
    },
    {
     "name": "stderr",
     "output_type": "stream",
     "text": [
      " 37%|███▋      | 1827/4943 [01:10<01:49, 28.54it/s]"
     ]
    },
    {
     "name": "stdout",
     "output_type": "stream",
     "text": [
      "1823\n",
      "outer_poly [(494, 401), (694, 408), (693, 610), (488, 607)]\n",
      "1824\n",
      "outer_poly [(639, 312), (821, 328), (816, 549), (629, 551), (631, 334)]\n",
      "1825\n",
      "outer_poly [(556, 172), (1015, 33), (1000, 836), (550, 689)]\n",
      "1826\n",
      "outer_poly [(418, 281), (733, 285), (732, 598), (415, 597)]\n",
      "1827\n",
      "outer_poly [(600, 324), (849, 321), (849, 570), (601, 572)]\n",
      "1828\n",
      "outer_poly [(390, 282), (823, 230), (829, 749), (376, 723)]\n"
     ]
    },
    {
     "name": "stderr",
     "output_type": "stream",
     "text": [
      " 37%|███▋      | 1833/4943 [01:10<01:47, 28.99it/s]"
     ]
    },
    {
     "name": "stdout",
     "output_type": "stream",
     "text": [
      "1829\n",
      "outer_poly [(453, 268), (685, 159), (689, 662), (451, 631)]\n",
      "1830\n",
      "outer_poly [(453, 229), (797, 110), (810, 679), (454, 647)]\n",
      "1831\n",
      "outer_poly [(525, 309), (832, 289), (839, 620), (523, 617)]\n",
      "1832\n",
      "outer_poly [(341, 74), (906, 163), (930, 726), (312, 744)]\n",
      "1833\n",
      "outer_poly [(434, 337), (796, 306), (806, 703), (429, 699)]\n",
      "1834\n",
      "outer_poly [(531, 460), (649, 439), (651, 631), (532, 630)]\n"
     ]
    },
    {
     "name": "stderr",
     "output_type": "stream",
     "text": [
      " 37%|███▋      | 1839/4943 [01:11<01:47, 28.91it/s]"
     ]
    },
    {
     "name": "stdout",
     "output_type": "stream",
     "text": [
      "1835\n",
      "outer_poly [(444, 286), (810, 320), (825, 691), (439, 701)]\n",
      "1836\n",
      "outer_poly [(490, 378), (835, 345), (852, 721), (487, 726)]\n",
      "1837\n",
      "outer_poly [(549, 403), (728, 354), (733, 659), (548, 654)]\n",
      "1838\n",
      "outer_poly [(372, 133), (689, 284), (701, 700), (352, 716)]\n",
      "1839\n",
      "outer_poly [(373, 165), (960, 171), (976, 762), (365, 771)]\n",
      "1840\n",
      "outer_poly [(443, 325), (746, 332), (751, 634), (443, 643)]\n"
     ]
    },
    {
     "name": "stderr",
     "output_type": "stream",
     "text": [
      " 37%|███▋      | 1845/4943 [01:11<01:46, 28.96it/s]"
     ]
    },
    {
     "name": "stdout",
     "output_type": "stream",
     "text": [
      "1841\n",
      "outer_poly [(462, 228), (755, 252), (755, 571), (465, 590)]\n",
      "1842\n",
      "outer_poly [(475, 239), (785, 257), (779, 567), (477, 584)]\n",
      "1843\n",
      "outer_poly [(563, 245), (849, 258), (847, 548), (564, 561)]\n",
      "1844\n",
      "outer_poly [(438, 184), (901, 193), (905, 651), (442, 662)]\n",
      "1845\n",
      "outer_poly [(476, 255), (799, 241), (800, 583), (481, 576)]\n",
      "1846\n",
      "outer_poly [(660, 295), (767, 249), (773, 592), (662, 558)]\n"
     ]
    },
    {
     "name": "stderr",
     "output_type": "stream",
     "text": [
      " 37%|███▋      | 1851/4943 [01:11<01:47, 28.88it/s]"
     ]
    },
    {
     "name": "stdout",
     "output_type": "stream",
     "text": [
      "1847\n",
      "outer_poly [(331, 136), (884, 144), (887, 693), (320, 697)]\n",
      "1848\n",
      "outer_poly [(471, 325), (666, 293), (667, 589), (466, 576)]\n",
      "1849\n",
      "outer_poly [(559, 346), (633, 316), (634, 555), (560, 543)]\n",
      "1850\n",
      "outer_poly [(457, 293), (697, 360), (701, 683), (450, 707)]\n",
      "1851\n",
      "outer_poly [(566, 410), (786, 426), (793, 665), (569, 675)]\n",
      "1852\n",
      "outer_poly [(447, 95), (919, 175), (932, 650), (424, 651)]\n"
     ]
    },
    {
     "name": "stderr",
     "output_type": "stream",
     "text": [
      " 38%|███▊      | 1857/4943 [01:11<01:48, 28.57it/s]"
     ]
    },
    {
     "name": "stdout",
     "output_type": "stream",
     "text": [
      "1853\n",
      "outer_poly [(286, 341), (573, 371), (570, 662), (271, 668)]\n",
      "1854\n",
      "outer_poly [(452, 179), (850, 252), (867, 675), (439, 692)]\n",
      "1855\n",
      "outer_poly [(572, 341), (737, 310), (739, 564), (573, 557)]\n",
      "1856\n",
      "outer_poly [(597, 294), (750, 169), (762, 688), (599, 657)]\n",
      "1857\n",
      "outer_poly [(562, 297), (787, 355), (793, 650), (554, 654)]\n",
      "1858\n",
      "outer_poly [(550, 191), (1058, 44), (1079, 780), (548, 706)]\n"
     ]
    },
    {
     "name": "stderr",
     "output_type": "stream",
     "text": [
      " 38%|███▊      | 1863/4943 [01:11<01:46, 28.81it/s]"
     ]
    },
    {
     "name": "stdout",
     "output_type": "stream",
     "text": [
      "1859\n",
      "outer_poly [(553, 330), (799, 200), (815, 733), (543, 718)]\n",
      "1860\n",
      "outer_poly [(651, 434), (810, 370), (816, 705), (653, 697)]\n",
      "1861\n",
      "outer_poly [(452, 78), (704, 287), (705, 722), (419, 733)]\n",
      "1862\n",
      "outer_poly [(618, 299), (761, 279), (762, 511), (618, 497)]\n",
      "1863\n",
      "outer_poly [(393, 284), (713, 265), (709, 637), (391, 615)]\n",
      "1864\n",
      "outer_poly [(495, 371), (722, 388), (730, 626), (493, 628)]\n"
     ]
    },
    {
     "name": "stderr",
     "output_type": "stream",
     "text": [
      " 38%|███▊      | 1869/4943 [01:12<01:53, 27.04it/s]"
     ]
    },
    {
     "name": "stdout",
     "output_type": "stream",
     "text": [
      "1865\n",
      "outer_poly [(592, 296), (840, 313), (840, 579), (593, 592)]\n",
      "1866\n",
      "outer_poly [(574, 332), (739, 351), (737, 554), (569, 562)]\n",
      "1867\n",
      "outer_poly [(484, 424), (621, 442), (622, 628), (480, 637)]\n",
      "1868\n",
      "outer_poly [(472, 311), (701, 363), (687, 631), (450, 635)]\n",
      "1869\n",
      "outer_poly [(338, 135), (941, 112), (931, 750), (336, 718)]\n"
     ]
    },
    {
     "name": "stderr",
     "output_type": "stream",
     "text": [
      "\r",
      " 38%|███▊      | 1872/4943 [01:12<01:57, 26.05it/s]"
     ]
    },
    {
     "name": "stdout",
     "output_type": "stream",
     "text": [
      "1870\n",
      "outer_poly [(264, 320), (531, 334), (526, 594), (252, 591)]\n",
      "1871\n",
      "outer_poly [(422, 137), (766, 234), (761, 663), (414, 745)]\n",
      "1872\n",
      "outer_poly [(546, 248), (809, 252), (804, 517), (543, 516)]\n",
      "1873\n",
      "outer_poly [(255, 86), (863, 69), (848, 703), (255, 670)]\n",
      "1874\n",
      "outer_poly [(493, 173), (882, 0), (878, 856), (493, 691)]\n"
     ]
    },
    {
     "name": "stderr",
     "output_type": "stream",
     "text": [
      " 38%|███▊      | 1878/4943 [01:12<02:02, 25.05it/s]"
     ]
    },
    {
     "name": "stdout",
     "output_type": "stream",
     "text": [
      "1875\n",
      "outer_poly [(141, 142), (844, 217), (850, 864), (102, 864)]\n",
      "1876\n",
      "outer_poly [(501, 244), (857, 291), (857, 671), (497, 697)]\n",
      "1877\n",
      "outer_poly [(483, 331), (775, 311), (775, 639), (481, 628)]\n",
      "1878\n",
      "outer_poly [(403, 261), (772, 222), (775, 649), (395, 638)]\n",
      "1879\n",
      "outer_poly [(576, 335), (833, 338), (837, 599), (576, 597)]\n"
     ]
    },
    {
     "name": "stderr",
     "output_type": "stream",
     "text": [
      " 38%|███▊      | 1884/4943 [01:12<02:05, 24.45it/s]"
     ]
    },
    {
     "name": "stdout",
     "output_type": "stream",
     "text": [
      "1880\n",
      "outer_poly [(293, 224), (663, 262), (666, 625), (284, 635)]\n",
      "1881\n",
      "outer_poly [(441, 73), (623, 294), (626, 747), (423, 796)]\n",
      "1882\n",
      "outer_poly [(383, 182), (714, 319), (723, 746), (363, 773)]\n",
      "1883\n",
      "outer_poly [(510, 366), (794, 352), (800, 655), (503, 652)]\n",
      "1884\n",
      "outer_poly [(415, 287), (680, 324), (687, 613), (410, 617)]\n"
     ]
    },
    {
     "name": "stderr",
     "output_type": "stream",
     "text": [
      "\r",
      " 38%|███▊      | 1887/4943 [01:12<02:05, 24.36it/s]"
     ]
    },
    {
     "name": "stdout",
     "output_type": "stream",
     "text": [
      "1885\n",
      "outer_poly [(300, 41), (857, 135), (885, 688), (267, 696)]\n",
      "1886\n",
      "outer_poly [(481, 416), (602, 384), (608, 602), (485, 604)]\n",
      "1887\n",
      "outer_poly [(470, 181), (942, 200), (919, 659), (468, 672)]\n",
      "1888\n",
      "outer_poly [(267, 148), (851, 95), (859, 748), (265, 719)]\n",
      "1889\n",
      "outer_poly [(591, 280), (838, 290), (839, 551), (592, 559)]\n"
     ]
    },
    {
     "name": "stderr",
     "output_type": "stream",
     "text": [
      " 38%|███▊      | 1893/4943 [01:13<02:06, 24.08it/s]"
     ]
    },
    {
     "name": "stdout",
     "output_type": "stream",
     "text": [
      "1890\n",
      "outer_poly [(570, 338), (832, 339), (836, 603), (571, 602)]\n",
      "1891\n",
      "outer_poly [(439, 336), (768, 320), (772, 673), (434, 667)]\n",
      "1892\n",
      "outer_poly [(385, 249), (782, 289), (789, 686), (379, 704)]\n",
      "1893\n",
      "outer_poly [(462, 321), (751, 337), (756, 629), (458, 636)]\n",
      "1894\n",
      "outer_poly [(606, 213), (1013, 56), (1047, 731), (606, 679)]\n"
     ]
    },
    {
     "name": "stderr",
     "output_type": "stream",
     "text": [
      " 38%|███▊      | 1899/4943 [01:13<02:02, 24.87it/s]"
     ]
    },
    {
     "name": "stdout",
     "output_type": "stream",
     "text": [
      "1895\n",
      "outer_poly [(530, 242), (820, 271), (825, 564), (525, 570)]\n",
      "1896\n",
      "outer_poly [(437, 69), (789, 240), (787, 699), (409, 738)]\n",
      "1897\n",
      "outer_poly [(380, 95), (862, 202), (876, 704), (360, 729)]\n",
      "1898\n",
      "outer_poly [(479, 105), (765, 286), (782, 731), (460, 762)]\n",
      "1899\n",
      "outer_poly [(606, 212), (833, 296), (839, 628), (603, 638)]\n",
      "1900\n"
     ]
    },
    {
     "name": "stderr",
     "output_type": "stream",
     "text": [
      " 39%|███▊      | 1905/4943 [01:13<01:55, 26.34it/s]"
     ]
    },
    {
     "name": "stdout",
     "output_type": "stream",
     "text": [
      "outer_poly [(555, 291), (766, 270), (765, 520), (553, 516)]\n",
      "1901\n",
      "outer_poly [(434, 313), (806, 312), (812, 694), (420, 692)]\n",
      "1902\n",
      "outer_poly [(366, 298), (778, 245), (785, 740), (350, 725)]\n",
      "1903\n",
      "outer_poly [(372, 188), (976, 18), (1050, 823), (365, 797)]\n",
      "1904\n",
      "outer_poly [(483, 277), (804, 174), (821, 694), (481, 668)]\n",
      "1905\n",
      "outer_poly [(619, 403), (762, 346), (760, 686), (613, 669)]\n"
     ]
    },
    {
     "name": "stderr",
     "output_type": "stream",
     "text": [
      " 39%|███▊      | 1911/4943 [01:13<01:51, 27.17it/s]"
     ]
    },
    {
     "name": "stdout",
     "output_type": "stream",
     "text": [
      "1906\n",
      "outer_poly [(539, 280), (761, 393), (764, 757), (525, 769)]\n",
      "1907\n",
      "outer_poly [(538, 316), (697, 300), (696, 517), (537, 509)]\n",
      "1908\n",
      "outer_poly [(607, 329), (807, 376), (811, 643), (600, 649)]\n",
      "1909\n",
      "outer_poly [(527, 340), (886, 366), (897, 732), (515, 731)]\n",
      "1910\n",
      "outer_poly [(513, 366), (826, 383), (833, 703), (506, 702)]\n",
      "1911\n",
      "outer_poly [(534, 437), (790, 445), (798, 706), (529, 706)]\n"
     ]
    },
    {
     "name": "stderr",
     "output_type": "stream",
     "text": [
      " 39%|███▉      | 1917/4943 [01:14<01:49, 27.51it/s]"
     ]
    },
    {
     "name": "stdout",
     "output_type": "stream",
     "text": [
      "1912\n",
      "outer_poly [(197, 49), (544, 0), (1087, 6), (1123, 859), (152, 864)]\n",
      "1913\n",
      "outer_poly [(569, 473), (686, 446), (690, 651), (572, 650)]\n",
      "1914\n",
      "outer_poly [(524, 267), (642, 136), (652, 619), (526, 611)]\n",
      "1915\n",
      "outer_poly [(538, 234), (921, 272), (924, 675), (532, 698)]\n",
      "1916\n",
      "outer_poly [(709, 304), (952, 327), (951, 601), (702, 614)]\n",
      "1917\n",
      "outer_poly [(665, 414), (732, 361), (744, 627), (671, 627)]\n"
     ]
    },
    {
     "name": "stderr",
     "output_type": "stream",
     "text": [
      "\r",
      " 39%|███▉      | 1920/4943 [01:14<01:54, 26.30it/s]"
     ]
    },
    {
     "name": "stdout",
     "output_type": "stream",
     "text": [
      "1918\n",
      "outer_poly [(497, 246), (911, 249), (910, 662), (495, 657)]\n",
      "1919\n",
      "outer_poly [(214, 19), (929, 90), (932, 772), (194, 812)]\n",
      "1920\n",
      "outer_poly [(467, 350), (736, 341), (737, 622), (464, 618)]\n",
      "1921\n",
      "outer_poly [(399, 322), (708, 313), (706, 635), (397, 627)]\n",
      "1922\n",
      "outer_poly [(303, 32), (1044, 47), (1066, 811), (267, 804)]\n"
     ]
    },
    {
     "name": "stderr",
     "output_type": "stream",
     "text": [
      " 39%|███▉      | 1926/4943 [01:14<01:59, 25.34it/s]"
     ]
    },
    {
     "name": "stdout",
     "output_type": "stream",
     "text": [
      "1923\n",
      "outer_poly [(364, 99), (1022, 110), (1033, 786), (331, 773)]\n",
      "1924\n",
      "outer_poly [(589, 434), (863, 433), (863, 716), (578, 705)]\n",
      "1925\n",
      "outer_poly [(528, 280), (816, 295), (810, 590), (522, 593)]\n",
      "1926\n",
      "outer_poly [(392, 325), (654, 330), (656, 592), (391, 596)]\n",
      "1927\n",
      "outer_poly [(350, 371), (633, 323), (638, 763), (354, 722)]\n",
      "1928\n"
     ]
    },
    {
     "name": "stderr",
     "output_type": "stream",
     "text": [
      " 39%|███▉      | 1932/4943 [01:14<02:00, 25.05it/s]"
     ]
    },
    {
     "name": "stdout",
     "output_type": "stream",
     "text": [
      "outer_poly [(382, 329), (558, 281), (558, 660), (384, 624)]\n",
      "1929\n",
      "outer_poly [(443, 328), (708, 347), (708, 621), (440, 628)]\n",
      "1930\n",
      "outer_poly [(532, 388), (671, 369), (674, 594), (534, 583)]\n",
      "1931\n",
      "outer_poly [(548, 280), (793, 176), (801, 731), (548, 672)]\n",
      "1932\n",
      "outer_poly [(656, 280), (784, 150), (790, 671), (661, 634)]\n",
      "1933\n"
     ]
    },
    {
     "name": "stderr",
     "output_type": "stream",
     "text": [
      "\r",
      " 39%|███▉      | 1935/4943 [01:14<02:02, 24.62it/s]"
     ]
    },
    {
     "name": "stdout",
     "output_type": "stream",
     "text": [
      "outer_poly [(278, 31), (829, 125), (835, 662), (254, 684)]\n",
      "1934\n",
      "outer_poly [(409, 53), (724, 225), (721, 676), (383, 725)]\n",
      "1935\n",
      "outer_poly [(376, 73), (996, 119), (1030, 739), (353, 752)]\n",
      "1936\n",
      "outer_poly [(444, 213), (854, 179), (867, 620), (439, 622)]\n",
      "1937\n",
      "outer_poly [(518, 403), (712, 359), (720, 661), (518, 657)]\n"
     ]
    },
    {
     "name": "stderr",
     "output_type": "stream",
     "text": [
      " 39%|███▉      | 1941/4943 [01:15<02:04, 24.07it/s]"
     ]
    },
    {
     "name": "stdout",
     "output_type": "stream",
     "text": [
      "1938\n",
      "outer_poly [(533, 403), (611, 367), (616, 606), (536, 603)]\n",
      "1939\n",
      "outer_poly [(552, 294), (902, 267), (913, 645), (555, 638)]\n",
      "1940\n",
      "outer_poly [(215, 134), (810, 94), (820, 749), (211, 728)]\n",
      "1941\n",
      "outer_poly [(508, 244), (766, 110), (776, 770), (505, 681)]\n",
      "1942\n",
      "outer_poly [(546, 268), (757, 284), (755, 505), (545, 509)]\n",
      "1943\n"
     ]
    },
    {
     "name": "stderr",
     "output_type": "stream",
     "text": [
      " 39%|███▉      | 1947/4943 [01:15<01:59, 25.03it/s]"
     ]
    },
    {
     "name": "stdout",
     "output_type": "stream",
     "text": [
      "outer_poly [(598, 224), (729, 99), (738, 737), (606, 629)]\n",
      "1944\n",
      "outer_poly [(614, 387), (859, 376), (863, 636), (616, 632)]\n",
      "1945\n",
      "outer_poly [(482, 218), (944, 126), (961, 722), (480, 686)]\n",
      "1946\n",
      "outer_poly [(534, 439), (657, 419), (660, 624), (536, 620)]\n",
      "1947\n",
      "outer_poly [(553, 441), (694, 407), (699, 665), (554, 656)]\n",
      "1948\n",
      "outer_poly [(637, 327), (829, 348), (827, 558), (633, 555)]\n"
     ]
    },
    {
     "name": "stderr",
     "output_type": "stream",
     "text": [
      " 40%|███▉      | 1953/4943 [01:15<01:51, 26.92it/s]"
     ]
    },
    {
     "name": "stdout",
     "output_type": "stream",
     "text": [
      "1949\n",
      "outer_poly [(458, 277), (782, 59), (821, 756), (453, 747)]\n",
      "1950\n",
      "outer_poly [(426, 188), (906, 233), (920, 713), (404, 719)]\n",
      "1951\n",
      "outer_poly [(565, 307), (762, 274), (766, 544), (566, 540)]\n",
      "1952\n",
      "outer_poly [(502, 262), (718, 98), (731, 694), (500, 673)]\n",
      "1953\n",
      "outer_poly [(497, 413), (752, 406), (756, 670), (495, 668)]\n",
      "1954\n",
      "outer_poly [(601, 312), (776, 333), (778, 546), (600, 552)]\n"
     ]
    },
    {
     "name": "stderr",
     "output_type": "stream",
     "text": [
      " 40%|███▉      | 1959/4943 [01:15<01:48, 27.53it/s]"
     ]
    },
    {
     "name": "stdout",
     "output_type": "stream",
     "text": [
      "1955\n",
      "outer_poly [(385, 32), (947, 146), (975, 714), (371, 762)]\n",
      "1956\n",
      "outer_poly [(453, 3), (1011, 171), (1028, 770), (428, 850)]\n",
      "1957\n",
      "outer_poly [(516, 244), (798, 290), (795, 608), (509, 624)]\n",
      "1958\n",
      "outer_poly [(589, 300), (809, 318), (808, 559), (585, 565)]\n",
      "1959\n",
      "outer_poly [(889, 198), (886, 648), (431, 667), (440, 137)]\n",
      "1960\n",
      "outer_poly [(603, 390), (694, 345), (697, 626), (605, 615)]\n"
     ]
    },
    {
     "name": "stderr",
     "output_type": "stream",
     "text": [
      " 40%|███▉      | 1965/4943 [01:15<01:45, 28.16it/s]"
     ]
    },
    {
     "name": "stdout",
     "output_type": "stream",
     "text": [
      "1961\n",
      "outer_poly [(936, 283), (960, 750), (461, 757), (477, 241)]\n",
      "1962\n",
      "outer_poly [(338, 139), (936, 154), (968, 773), (294, 767)]\n",
      "1963\n",
      "outer_poly [(399, 194), (805, 2), (979, 8), (1022, 864), (484, 861), (388, 832)]\n",
      "1964\n",
      "outer_poly [(347, 167), (745, 256), (756, 668), (328, 679)]\n",
      "1965\n",
      "outer_poly [(378, 288), (731, 313), (738, 664), (371, 670)]\n",
      "1966\n",
      "outer_poly [(478, 207), (918, 241), (913, 679), (471, 703)]\n"
     ]
    },
    {
     "name": "stderr",
     "output_type": "stream",
     "text": [
      " 40%|███▉      | 1971/4943 [01:16<01:43, 28.61it/s]"
     ]
    },
    {
     "name": "stdout",
     "output_type": "stream",
     "text": [
      "1967\n",
      "outer_poly [(631, 309), (841, 332), (840, 590), (629, 608)]\n",
      "1968\n",
      "outer_poly [(610, 313), (723, 345), (721, 585), (608, 611)]\n",
      "1969\n",
      "outer_poly [(812, 274), (933, 314), (934, 570), (810, 594)]\n",
      "1970\n",
      "outer_poly [(572, 94), (784, 224), (781, 632), (566, 710)]\n",
      "1971\n",
      "outer_poly [(263, 349), (419, 367), (419, 566), (256, 582)]\n",
      "1972\n",
      "outer_poly [(485, 230), (723, 244), (720, 481), (485, 484)]\n"
     ]
    },
    {
     "name": "stderr",
     "output_type": "stream",
     "text": [
      " 40%|███▉      | 1977/4943 [01:16<01:45, 28.01it/s]"
     ]
    },
    {
     "name": "stdout",
     "output_type": "stream",
     "text": [
      "1973\n",
      "outer_poly [(595, 66), (800, 260), (802, 728), (594, 839)]\n",
      "1974\n",
      "outer_poly [(570, 341), (841, 332), (846, 615), (571, 606)]\n",
      "1975\n",
      "outer_poly [(539, 396), (812, 384), (826, 671), (536, 671)]\n",
      "1976\n",
      "outer_poly [(502, 327), (794, 298), (820, 592), (520, 615)]\n",
      "1977\n",
      "outer_poly [(544, 332), (804, 335), (805, 597), (538, 595)]\n",
      "1978\n",
      "outer_poly [(517, 403), (703, 444), (705, 733), (512, 766)]\n"
     ]
    },
    {
     "name": "stderr",
     "output_type": "stream",
     "text": [
      " 40%|████      | 1983/4943 [01:16<01:50, 26.79it/s]"
     ]
    },
    {
     "name": "stdout",
     "output_type": "stream",
     "text": [
      "1979\n",
      "outer_poly [(418, 356), (737, 348), (739, 681), (414, 676)]\n",
      "1980\n",
      "outer_poly [(393, 199), (944, 108), (962, 799), (379, 747)]\n",
      "1981\n",
      "outer_poly [(531, 401), (644, 376), (644, 594), (530, 586)]\n",
      "1982\n",
      "outer_poly [(589, 271), (846, 167), (857, 665), (590, 636)]\n",
      "1983\n",
      "outer_poly [(468, 273), (761, 307), (763, 615), (464, 623)]\n",
      "1984\n"
     ]
    },
    {
     "name": "stderr",
     "output_type": "stream",
     "text": [
      " 40%|████      | 1989/4943 [01:16<01:52, 26.26it/s]"
     ]
    },
    {
     "name": "stdout",
     "output_type": "stream",
     "text": [
      "outer_poly [(346, 152), (785, 248), (800, 704), (328, 723)]\n",
      "1985\n",
      "outer_poly [(439, 250), (843, 294), (865, 709), (432, 726)]\n",
      "1986\n",
      "outer_poly [(363, 240), (783, 267), (790, 682), (349, 687)]\n",
      "1987\n",
      "outer_poly [(461, 343), (735, 346), (745, 624), (458, 628)]\n",
      "1988\n",
      "outer_poly [(493, 334), (644, 334), (644, 485), (493, 483)]\n",
      "1989\n",
      "outer_poly [(506, 365), (698, 367), (698, 559), (505, 558)]\n"
     ]
    },
    {
     "name": "stderr",
     "output_type": "stream",
     "text": [
      " 40%|████      | 1995/4943 [01:17<01:50, 26.76it/s]"
     ]
    },
    {
     "name": "stdout",
     "output_type": "stream",
     "text": [
      "1990\n",
      "outer_poly [(551, 346), (736, 344), (738, 530), (551, 530)]\n",
      "1991\n",
      "outer_poly [(424, 333), (644, 330), (646, 553), (423, 554)]\n",
      "1992\n",
      "outer_poly [(268, 150), (845, 98), (857, 748), (263, 723)]\n",
      "1993\n",
      "outer_poly [(394, 281), (730, 287), (734, 616), (393, 619)]\n",
      "1994\n",
      "outer_poly [(509, 167), (787, 220), (787, 579), (512, 631)]\n",
      "1995\n",
      "outer_poly [(486, 212), (778, 100), (790, 736), (501, 640)]\n"
     ]
    },
    {
     "name": "stderr",
     "output_type": "stream",
     "text": [
      " 40%|████      | 2001/4943 [01:17<01:50, 26.56it/s]"
     ]
    },
    {
     "name": "stdout",
     "output_type": "stream",
     "text": [
      "1996\n",
      "outer_poly [(594, 210), (787, 294), (782, 655), (595, 704)]\n",
      "1997\n",
      "outer_poly [(632, 317), (817, 342), (820, 594), (631, 613)]\n",
      "1998\n",
      "outer_poly [(447, 296), (850, 312), (854, 716), (439, 725)]\n",
      "1999\n",
      "outer_poly [(550, 324), (856, 327), (859, 635), (547, 636)]\n",
      "2000\n",
      "outer_poly [(419, 310), (605, 266), (608, 620), (422, 595)]\n",
      "2001\n"
     ]
    },
    {
     "name": "stderr",
     "output_type": "stream",
     "text": [
      "\r",
      " 41%|████      | 2004/4943 [01:17<02:08, 22.92it/s]"
     ]
    },
    {
     "name": "stdout",
     "output_type": "stream",
     "text": [
      "outer_poly [(479, 375), (648, 318), (651, 708), (481, 675)]\n",
      "2002\n",
      "outer_poly [(558, 346), (803, 353), (805, 600), (554, 603)]\n",
      "2003\n",
      "outer_poly [(482, 286), (771, 263), (777, 589), (482, 581)]\n",
      "2004\n",
      "outer_poly [(474, 239), (647, 128), (653, 654), (474, 607)]\n",
      "2005\n"
     ]
    },
    {
     "name": "stderr",
     "output_type": "stream",
     "text": [
      " 41%|████      | 2010/4943 [01:17<02:01, 24.12it/s]"
     ]
    },
    {
     "name": "stdout",
     "output_type": "stream",
     "text": [
      "outer_poly [(404, 335), (725, 324), (727, 656), (399, 655)]\n",
      "2006\n",
      "outer_poly [(635, 439), (719, 404), (725, 656), (636, 646)]\n",
      "2007\n",
      "outer_poly [(428, 144), (789, 230), (796, 621), (413, 629)]\n",
      "2008\n",
      "outer_poly [(439, 82), (672, 278), (668, 720), (407, 768)]\n",
      "2009\n",
      "outer_poly [(513, 320), (730, 374), (729, 661), (508, 677)]\n",
      "2010\n"
     ]
    },
    {
     "name": "stderr",
     "output_type": "stream",
     "text": [
      "\r",
      " 41%|████      | 2013/4943 [01:17<02:06, 23.24it/s]"
     ]
    },
    {
     "name": "stdout",
     "output_type": "stream",
     "text": [
      "outer_poly [(447, 374), (700, 401), (698, 664), (434, 664)]\n",
      "2011\n",
      "outer_poly [(485, 324), (754, 352), (757, 635), (480, 634)]\n",
      "2012\n",
      "outer_poly [(431, 45), (902, 174), (922, 678), (422, 724)]\n",
      "2013\n",
      "outer_poly [(522, 238), (822, 279), (829, 607), (522, 623)]\n",
      "2014\n",
      "outer_poly [(636, 442), (759, 413), (763, 646), (637, 640)]\n"
     ]
    },
    {
     "name": "stderr",
     "output_type": "stream",
     "text": [
      " 41%|████      | 2019/4943 [01:18<02:09, 22.52it/s]"
     ]
    },
    {
     "name": "stdout",
     "output_type": "stream",
     "text": [
      "2015\n",
      "outer_poly [(494, 161), (862, 231), (862, 635), (485, 662)]\n",
      "2016\n",
      "outer_poly [(381, 408), (699, 381), (704, 757), (372, 745)]\n",
      "2017\n",
      "outer_poly [(430, 352), (634, 339), (635, 577), (426, 570)]\n",
      "2018\n",
      "outer_poly [(500, 366), (734, 350), (735, 623), (498, 613)]\n",
      "2019\n",
      "outer_poly [(607, 387), (735, 369), (742, 556), (613, 553)]\n"
     ]
    },
    {
     "name": "stderr",
     "output_type": "stream",
     "text": [
      "\r",
      " 41%|████      | 2022/4943 [01:18<02:09, 22.49it/s]"
     ]
    },
    {
     "name": "stdout",
     "output_type": "stream",
     "text": [
      "2020\n",
      "outer_poly [(495, 347), (744, 285), (756, 690), (499, 667)]\n",
      "2021\n",
      "outer_poly [(508, 410), (611, 385), (613, 624), (508, 613)]\n",
      "2022\n",
      "outer_poly [(513, 451), (771, 440), (774, 715), (508, 713)]\n",
      "2023\n",
      "outer_poly [(405, 374), (643, 369), (642, 638), (396, 627)]\n",
      "2024\n",
      "outer_poly [(522, 273), (785, 24), (808, 797), (512, 756)]\n"
     ]
    },
    {
     "name": "stderr",
     "output_type": "stream",
     "text": [
      " 41%|████      | 2028/4943 [01:18<02:09, 22.58it/s]"
     ]
    },
    {
     "name": "stdout",
     "output_type": "stream",
     "text": [
      "2025\n",
      "outer_poly [(228, 292), (619, 284), (625, 690), (209, 692)]\n",
      "2026\n",
      "outer_poly [(537, 237), (769, 284), (772, 597), (534, 633)]\n",
      "2027\n",
      "outer_poly [(535, 348), (814, 368), (817, 659), (531, 669)]\n",
      "2028\n",
      "outer_poly [(564, 304), (844, 349), (852, 692), (565, 724)]\n",
      "2029\n",
      "outer_poly [(633, 355), (861, 363), (864, 598), (631, 602)]\n"
     ]
    },
    {
     "name": "stderr",
     "output_type": "stream",
     "text": [
      " 41%|████      | 2034/4943 [01:18<02:02, 23.82it/s]"
     ]
    },
    {
     "name": "stdout",
     "output_type": "stream",
     "text": [
      "2030\n",
      "outer_poly [(414, 68), (1134, 53), (1158, 809), (391, 782)]\n",
      "2031\n",
      "outer_poly [(383, 174), (984, 177), (1003, 809), (336, 787)]\n",
      "2032\n",
      "outer_poly [(580, 181), (927, 137), (927, 541), (578, 526)]\n",
      "2033\n",
      "outer_poly [(308, 138), (830, 119), (823, 676), (309, 650)]\n",
      "2034\n",
      "outer_poly [(525, 350), (881, 374), (887, 748), (521, 771)]\n"
     ]
    },
    {
     "name": "stderr",
     "output_type": "stream",
     "text": [
      " 41%|████▏     | 2040/4943 [01:18<01:57, 24.61it/s]"
     ]
    },
    {
     "name": "stdout",
     "output_type": "stream",
     "text": [
      "2035\n",
      "outer_poly [(602, 249), (756, 318), (759, 638), (601, 681)]\n",
      "2036\n",
      "outer_poly [(554, 339), (791, 358), (791, 618), (549, 625)]\n",
      "2037\n",
      "outer_poly [(444, 365), (702, 396), (705, 678), (437, 685)]\n",
      "2038\n",
      "outer_poly [(432, 193), (940, 222), (960, 732), (412, 741)]\n",
      "2039\n",
      "outer_poly [(440, 330), (791, 341), (798, 696), (429, 696)]\n",
      "2040\n",
      "outer_poly "
     ]
    },
    {
     "name": "stderr",
     "output_type": "stream",
     "text": [
      "\r",
      " 41%|████▏     | 2043/4943 [01:19<01:57, 24.76it/s]"
     ]
    },
    {
     "name": "stdout",
     "output_type": "stream",
     "text": [
      "[(465, 408), (750, 396), (757, 694), (462, 694)]\n",
      "2041\n",
      "outer_poly [(289, 158), (823, 164), (832, 696), (286, 706)]\n",
      "2042\n",
      "outer_poly [(454, 88), (851, 216), (855, 697), (447, 779)]\n",
      "2043\n",
      "outer_poly [(580, 235), (752, 280), (754, 584), (584, 630)]\n",
      "2044\n",
      "outer_poly [(482, 180), (910, 201), (909, 624), (486, 647)]\n",
      "2045\n",
      "outer_poly [(481, 283), (701, 255), (704, 581), (484, 557)]\n"
     ]
    },
    {
     "name": "stderr",
     "output_type": "stream",
     "text": [
      " 41%|████▏     | 2049/4943 [01:19<01:59, 24.18it/s]"
     ]
    },
    {
     "name": "stdout",
     "output_type": "stream",
     "text": [
      "2046\n",
      "outer_poly [(359, 215), (882, 246), (891, 768), (345, 787)]\n",
      "2047\n",
      "outer_poly [(447, 286), (834, 287), (840, 674), (444, 676)]\n",
      "2048\n",
      "outer_poly [(523, 345), (828, 343), (828, 650), (521, 645)]\n",
      "2049\n",
      "outer_poly [(503, 345), (752, 348), (757, 599), (499, 602)]\n",
      "2050\n",
      "outer_poly [(396, 313), (713, 256), (722, 724), (400, 692)]\n",
      "2051\n"
     ]
    },
    {
     "name": "stderr",
     "output_type": "stream",
     "text": [
      " 42%|████▏     | 2055/4943 [01:19<01:54, 25.31it/s]"
     ]
    },
    {
     "name": "stdout",
     "output_type": "stream",
     "text": [
      "outer_poly [(589, 428), (650, 387), (651, 675), (588, 655)]\n",
      "2052\n",
      "outer_poly [(512, 335), (791, 345), (794, 626), (507, 630)]\n",
      "2053\n",
      "outer_poly [(364, 187), (823, 126), (829, 676), (363, 648)]\n",
      "2054\n",
      "outer_poly [(478, 84), (774, 258), (784, 727), (466, 790)]\n",
      "2055\n",
      "outer_poly [(369, 223), (830, 256), (842, 711), (357, 723)]\n",
      "2056\n",
      "outer_poly [(395, 137), (1019, 48), (1048, 773), (383, 740)]\n"
     ]
    },
    {
     "name": "stderr",
     "output_type": "stream",
     "text": [
      " 42%|████▏     | 2061/4943 [01:19<02:02, 23.46it/s]"
     ]
    },
    {
     "name": "stdout",
     "output_type": "stream",
     "text": [
      "2057\n",
      "outer_poly [(555, 382), (745, 321), (752, 690), (556, 671)]\n",
      "2058\n",
      "outer_poly [(643, 462), (753, 435), (759, 660), (645, 654)]\n",
      "2059\n",
      "outer_poly [(368, 63), (640, 251), (639, 695), (340, 740)]\n",
      "2060\n",
      "outer_poly [(487, 267), (853, 109), (892, 710), (485, 708)]\n",
      "2061\n",
      "outer_poly [(529, 268), (860, 312), (871, 659), (528, 665)]\n"
     ]
    },
    {
     "name": "stderr",
     "output_type": "stream",
     "text": [
      "\r",
      " 42%|████▏     | 2064/4943 [01:20<02:05, 22.96it/s]"
     ]
    },
    {
     "name": "stdout",
     "output_type": "stream",
     "text": [
      "2062\n",
      "outer_poly [(465, 381), (721, 395), (723, 654), (458, 656)]\n",
      "2063\n",
      "outer_poly [(326, 183), (964, 17), (1063, 846), (293, 834)]\n",
      "2064\n",
      "outer_poly [(577, 241), (685, 303), (686, 567), (577, 582)]\n",
      "2065\n",
      "outer_poly [(296, 78), (964, 62), (992, 770), (255, 756)]\n",
      "2066\n",
      "outer_poly [(509, 384), (675, 349), (677, 624), (509, 617)]\n"
     ]
    },
    {
     "name": "stderr",
     "output_type": "stream",
     "text": [
      " 42%|████▏     | 2070/4943 [01:20<02:08, 22.40it/s]"
     ]
    },
    {
     "name": "stdout",
     "output_type": "stream",
     "text": [
      "2067\n",
      "outer_poly [(517, 311), (774, 226), (779, 681), (511, 659)]\n",
      "2068\n",
      "outer_poly [(570, 368), (751, 307), (757, 671), (567, 655)]\n",
      "2069\n",
      "outer_poly [(410, 94), (1091, 26), (1109, 776), (396, 741)]\n",
      "2070\n",
      "outer_poly [(419, 103), (793, 300), (800, 785), (369, 806)]\n",
      "2071\n",
      "outer_poly [(503, 337), (759, 303), (759, 637), (500, 622)]\n"
     ]
    },
    {
     "name": "stderr",
     "output_type": "stream",
     "text": [
      " 42%|████▏     | 2076/4943 [01:20<02:01, 23.67it/s]"
     ]
    },
    {
     "name": "stdout",
     "output_type": "stream",
     "text": [
      "2072\n",
      "outer_poly [(522, 134), (1030, 15), (1036, 716), (533, 640)]\n",
      "2073\n",
      "outer_poly [(508, 325), (676, 414), (676, 718), (502, 722)]\n",
      "2074\n",
      "outer_poly [(614, 277), (713, 228), (718, 560), (619, 525)]\n",
      "2075\n",
      "outer_poly [(668, 304), (815, 244), (813, 663), (668, 610)]\n",
      "2076\n",
      "outer_poly [(619, 375), (798, 422), (801, 678), (618, 680)]\n",
      "2077\n"
     ]
    },
    {
     "name": "stderr",
     "output_type": "stream",
     "text": [
      " 42%|████▏     | 2082/4943 [01:20<01:56, 24.62it/s]"
     ]
    },
    {
     "name": "stdout",
     "output_type": "stream",
     "text": [
      "outer_poly [(575, 341), (745, 329), (745, 548), (578, 536)]\n",
      "2078\n",
      "outer_poly [(908, 271), (909, 651), (538, 675), (544, 234)]\n",
      "2079\n",
      "outer_poly [(629, 441), (759, 339), (781, 749), (636, 746)]\n",
      "2080\n",
      "outer_poly [(586, 318), (792, 333), (789, 557), (582, 559)]\n",
      "2081\n",
      "outer_poly [(444, 227), (731, 289), (729, 645), (439, 692)]\n",
      "2082\n",
      "outer_poly [(492, 302), (742, 357), (733, 662), (473, 673)]\n"
     ]
    },
    {
     "name": "stderr",
     "output_type": "stream",
     "text": [
      "\r",
      " 42%|████▏     | 2085/4943 [01:20<01:54, 24.98it/s]"
     ]
    },
    {
     "name": "stdout",
     "output_type": "stream",
     "text": [
      "2083\n",
      "outer_poly [(61, 2), (0, 678), (0, 864), (192, 864), (640, 715), (687, 50), (628, 0)]\n",
      "2084\n",
      "outer_poly [(406, 168), (953, 188), (979, 752), (367, 744)]\n",
      "2085\n",
      "outer_poly [(309, 296), (691, 296), (700, 693), (288, 688)]\n",
      "2086\n",
      "outer_poly [(411, 327), (649, 328), (651, 566), (407, 568)]\n",
      "2087\n",
      "outer_poly [(634, 321), (912, 323), (914, 604), (634, 605)]\n"
     ]
    },
    {
     "name": "stderr",
     "output_type": "stream",
     "text": [
      " 42%|████▏     | 2091/4943 [01:21<02:03, 23.16it/s]"
     ]
    },
    {
     "name": "stdout",
     "output_type": "stream",
     "text": [
      "2088\n",
      "outer_poly [(606, 268), (923, 268), (931, 587), (615, 597)]\n",
      "2089\n",
      "outer_poly [(688, 371), (865, 365), (866, 540), (691, 543)]\n",
      "2090\n",
      "outer_poly [(762, 376), (934, 367), (942, 543), (767, 546)]\n",
      "2091\n",
      "outer_poly [(592, 249), (966, 207), (981, 614), (593, 612)]\n",
      "2092\n",
      "outer_poly [(502, 284), (698, 296), (699, 504), (503, 515)]\n"
     ]
    },
    {
     "name": "stderr",
     "output_type": "stream",
     "text": [
      " 42%|████▏     | 2097/4943 [01:21<01:59, 23.78it/s]"
     ]
    },
    {
     "name": "stdout",
     "output_type": "stream",
     "text": [
      "2093\n",
      "outer_poly [(548, 300), (768, 272), (760, 601), (549, 568)]\n",
      "2094\n",
      "outer_poly [(584, 147), (792, 269), (798, 675), (578, 746)]\n",
      "2095\n",
      "outer_poly [(494, 394), (755, 397), (757, 664), (486, 662)]\n",
      "2096\n",
      "outer_poly [(571, 410), (730, 385), (730, 628), (570, 620)]\n",
      "2097\n",
      "outer_poly [(540, 408), (697, 366), (693, 656), (546, 641)]\n",
      "2098\n"
     ]
    },
    {
     "name": "stderr",
     "output_type": "stream",
     "text": [
      " 43%|████▎     | 2103/4943 [01:21<01:50, 25.72it/s]"
     ]
    },
    {
     "name": "stdout",
     "output_type": "stream",
     "text": [
      "outer_poly [(448, 320), (724, 301), (728, 612), (448, 606)]\n",
      "2099\n",
      "outer_poly [(458, 328), (721, 337), (724, 600), (457, 604)]\n",
      "2100\n",
      "outer_poly [(487, 129), (679, 261), (680, 635), (482, 674)]\n",
      "2101\n",
      "outer_poly [(439, 149), (747, 294), (759, 711), (422, 735)]\n",
      "2102\n",
      "outer_poly [(379, 260), (727, 324), (731, 695), (361, 703)]\n",
      "2103\n",
      "outer_poly [(582, 415), (651, 387), (654, 596), (582, 594)]\n"
     ]
    },
    {
     "name": "stderr",
     "output_type": "stream",
     "text": [
      " 43%|████▎     | 2109/4943 [01:21<01:43, 27.37it/s]"
     ]
    },
    {
     "name": "stdout",
     "output_type": "stream",
     "text": [
      "2104\n",
      "outer_poly [(507, 385), (677, 381), (677, 554), (507, 554)]\n",
      "2105\n",
      "outer_poly [(391, 233), (881, 241), (885, 730), (384, 739)]\n",
      "2106\n",
      "outer_poly [(755, 74), (772, 730), (452, 655), (448, 208)]\n",
      "2107\n",
      "outer_poly [(514, 241), (786, 127), (802, 698), (522, 639)]\n",
      "2108\n",
      "outer_poly [(483, 342), (658, 304), (662, 620), (490, 598)]\n",
      "2109\n",
      "outer_poly [(267, 280), (622, 276), (625, 639), (261, 636)]\n"
     ]
    },
    {
     "name": "stderr",
     "output_type": "stream",
     "text": [
      " 43%|████▎     | 2115/4943 [01:22<01:39, 28.40it/s]"
     ]
    },
    {
     "name": "stdout",
     "output_type": "stream",
     "text": [
      "2110\n",
      "outer_poly [(481, 174), (1002, 154), (997, 692), (486, 676)]\n",
      "2111\n",
      "outer_poly [(551, 305), (789, 293), (787, 550), (557, 544)]\n",
      "2112\n",
      "outer_poly [(445, 132), (827, 234), (824, 684), (440, 755)]\n",
      "2113\n",
      "outer_poly [(355, 260), (794, 311), (802, 759), (348, 801)]\n",
      "2114\n",
      "outer_poly [(501, 362), (767, 345), (770, 640), (499, 632)]\n",
      "2115\n",
      "outer_poly [(505, 301), (679, 138), (689, 860), (504, 749)]\n"
     ]
    },
    {
     "name": "stderr",
     "output_type": "stream",
     "text": [
      " 43%|████▎     | 2121/4943 [01:22<01:39, 28.42it/s]"
     ]
    },
    {
     "name": "stdout",
     "output_type": "stream",
     "text": [
      "2116\n",
      "outer_poly [(313, 216), (794, 211), (801, 708), (300, 701)]\n",
      "2117\n",
      "outer_poly [(393, 335), (621, 327), (624, 578), (396, 575)]\n",
      "2118\n",
      "outer_poly [(519, 366), (655, 342), (659, 562), (520, 558)]\n",
      "2119\n",
      "outer_poly [(428, 308), (609, 275), (609, 573), (427, 559)]\n",
      "2120\n",
      "outer_poly [(462, 318), (557, 275), (558, 575), (465, 557)]\n",
      "2121\n",
      "outer_poly [(537, 445), (681, 410), (686, 674), (536, 665)]\n"
     ]
    },
    {
     "name": "stderr",
     "output_type": "stream",
     "text": [
      " 43%|████▎     | 2127/4943 [01:22<01:39, 28.23it/s]"
     ]
    },
    {
     "name": "stdout",
     "output_type": "stream",
     "text": [
      "2122\n",
      "outer_poly [(632, 468), (744, 443), (748, 664), (634, 655)]\n",
      "2123\n",
      "outer_poly [(574, 354), (825, 333), (835, 605), (577, 609)]\n",
      "2124\n",
      "outer_poly [(581, 329), (751, 302), (755, 536), (582, 535)]\n",
      "2125\n",
      "outer_poly [(543, 310), (748, 370), (754, 667), (542, 679)]\n",
      "2126\n",
      "outer_poly [(306, 131), (913, 39), (957, 739), (278, 731)]\n",
      "2127\n",
      "outer_poly [(485, 425), (722, 405), (726, 671), (485, 670)]\n"
     ]
    },
    {
     "name": "stderr",
     "output_type": "stream",
     "text": [
      " 43%|████▎     | 2133/4943 [01:22<01:37, 28.85it/s]"
     ]
    },
    {
     "name": "stdout",
     "output_type": "stream",
     "text": [
      "2128\n",
      "outer_poly [(534, 282), (796, 152), (811, 714), (532, 680)]\n",
      "2129\n",
      "outer_poly [(521, 34), (764, 199), (759, 638), (509, 714)]\n",
      "2130\n",
      "outer_poly [(481, 281), (737, 123), (752, 742), (473, 705)]\n",
      "2131\n",
      "outer_poly [(541, 252), (790, 295), (787, 580), (535, 596)]\n",
      "2132\n",
      "outer_poly [(606, 304), (808, 319), (806, 534), (601, 538)]\n",
      "2133\n",
      "outer_poly [(586, 396), (709, 378), (713, 567), (587, 562)]\n"
     ]
    },
    {
     "name": "stderr",
     "output_type": "stream",
     "text": [
      " 43%|████▎     | 2139/4943 [01:22<01:38, 28.54it/s]"
     ]
    },
    {
     "name": "stdout",
     "output_type": "stream",
     "text": [
      "2134\n",
      "outer_poly [(418, 364), (591, 292), (596, 728), (418, 686)]\n",
      "2135\n",
      "outer_poly [(368, 170), (957, 143), (1005, 767), (341, 773)]\n",
      "2136\n",
      "outer_poly [(642, 215), (949, 204), (947, 577), (648, 568)]\n",
      "2137\n",
      "outer_poly [(558, 244), (710, 166), (715, 624), (565, 569)]\n",
      "2138\n",
      "outer_poly [(377, 150), (908, 0), (952, 8), (950, 862), (805, 864), (382, 749)]\n",
      "2139\n",
      "outer_poly [(324, 147), (946, 118), (943, 775), (317, 752)]\n"
     ]
    },
    {
     "name": "stderr",
     "output_type": "stream",
     "text": [
      "\r",
      " 43%|████▎     | 2142/4943 [01:22<01:44, 26.92it/s]"
     ]
    },
    {
     "name": "stdout",
     "output_type": "stream",
     "text": [
      "2140\n",
      "outer_poly [(593, 2), (612, 0), (937, 161), (932, 665), (585, 784)]\n",
      "2141\n",
      "outer_poly [(528, 412), (662, 366), (666, 645), (530, 643)]\n",
      "2142\n",
      "outer_poly [(520, 302), (624, 194), (632, 614), (522, 609)]\n",
      "2143\n",
      "outer_poly [(515, 250), (781, 305), (781, 642), (511, 681)]\n",
      "2144\n",
      "outer_poly [(302, 58), (972, 149), (994, 803), (276, 856)]\n"
     ]
    },
    {
     "name": "stderr",
     "output_type": "stream",
     "text": [
      " 43%|████▎     | 2148/4943 [01:23<01:52, 24.94it/s]"
     ]
    },
    {
     "name": "stdout",
     "output_type": "stream",
     "text": [
      "2145\n",
      "outer_poly [(480, 316), (800, 341), (806, 671), (477, 689)]\n",
      "2146\n",
      "outer_poly [(134, 203), (606, 197), (607, 680), (138, 674)]\n",
      "2147\n",
      "outer_poly [(369, 218), (856, 211), (858, 714), (359, 699)]\n",
      "2148\n",
      "outer_poly [(672, 365), (954, 368), (958, 652), (672, 656)]\n",
      "2149\n",
      "outer_poly [(480, 300), (751, 280), (778, 558), (493, 577)]\n"
     ]
    },
    {
     "name": "stderr",
     "output_type": "stream",
     "text": [
      " 44%|████▎     | 2154/4943 [01:23<01:55, 24.21it/s]"
     ]
    },
    {
     "name": "stdout",
     "output_type": "stream",
     "text": [
      "2150\n",
      "outer_poly [(469, 334), (777, 302), (817, 611), (493, 644)]\n",
      "2151\n",
      "outer_poly [(530, 340), (829, 325), (842, 638), (530, 640)]\n",
      "2152\n",
      "outer_poly [(536, 216), (887, 198), (880, 585), (537, 558)]\n",
      "2153\n",
      "outer_poly [(258, 124), (859, 82), (851, 762), (258, 709)]\n",
      "2154\n",
      "outer_poly [(505, 217), (801, 103), (795, 775), (505, 662)]\n"
     ]
    },
    {
     "name": "stderr",
     "output_type": "stream",
     "text": [
      "\r",
      " 44%|████▎     | 2157/4943 [01:23<01:56, 23.89it/s]"
     ]
    },
    {
     "name": "stdout",
     "output_type": "stream",
     "text": [
      "2155\n",
      "outer_poly [(395, 227), (718, 141), (720, 732), (398, 650)]\n",
      "2156\n",
      "outer_poly [(327, 424), (560, 440), (558, 691), (321, 703)]\n",
      "2157\n",
      "outer_poly [(511, 423), (677, 457), (678, 715), (506, 740)]\n",
      "2158\n",
      "outer_poly [(441, 420), (634, 396), (635, 694), (439, 674)]\n",
      "2159\n",
      "outer_poly [(558, 220), (788, 30), (791, 856), (556, 700)]\n"
     ]
    },
    {
     "name": "stderr",
     "output_type": "stream",
     "text": [
      " 44%|████▍     | 2163/4943 [01:23<01:50, 25.22it/s]"
     ]
    },
    {
     "name": "stdout",
     "output_type": "stream",
     "text": [
      "2160\n",
      "outer_poly [(498, 262), (692, 330), (693, 648), (495, 689)]\n",
      "2161\n",
      "outer_poly [(562, 343), (786, 354), (786, 592), (563, 593)]\n",
      "2162\n",
      "outer_poly [(420, 348), (730, 361), (730, 672), (408, 671)]\n",
      "2163\n",
      "outer_poly [(497, 349), (829, 350), (833, 684), (495, 680)]\n",
      "2164\n",
      "outer_poly [(498, 423), (734, 419), (728, 669), (491, 658)]\n",
      "2165\n"
     ]
    },
    {
     "name": "stderr",
     "output_type": "stream",
     "text": [
      " 44%|████▍     | 2169/4943 [01:24<01:54, 24.28it/s]"
     ]
    },
    {
     "name": "stdout",
     "output_type": "stream",
     "text": [
      "outer_poly [(557, 386), (689, 270), (703, 732), (561, 720)]\n",
      "2166\n",
      "outer_poly [(491, 292), (638, 395), (638, 710), (482, 719)]\n",
      "2167\n",
      "outer_poly [(546, 474), (701, 470), (705, 628), (550, 630)]\n",
      "2168\n",
      "outer_poly [(675, 374), (883, 371), (889, 588), (678, 590)]\n",
      "2169\n",
      "outer_poly [(435, 341), (586, 341), (588, 491), (435, 492)]\n",
      "2170\n"
     ]
    },
    {
     "name": "stderr",
     "output_type": "stream",
     "text": [
      " 44%|████▍     | 2175/4943 [01:24<01:53, 24.39it/s]"
     ]
    },
    {
     "name": "stdout",
     "output_type": "stream",
     "text": [
      "outer_poly [(788, 101), (788, 750), (148, 739), (161, 117)]\n",
      "2171\n",
      "outer_poly [(315, 223), (701, 252), (703, 631), (313, 652)]\n",
      "2172\n",
      "outer_poly [(294, 286), (653, 293), (651, 645), (294, 648)]\n",
      "2173\n",
      "outer_poly [(495, 89), (872, 183), (872, 641), (495, 727)]\n",
      "2174\n",
      "outer_poly [(439, 90), (1014, 123), (1015, 688), (448, 723)]\n",
      "2175\n"
     ]
    },
    {
     "name": "stderr",
     "output_type": "stream",
     "text": [
      "\r",
      " 44%|████▍     | 2178/4943 [01:24<01:51, 24.79it/s]"
     ]
    },
    {
     "name": "stdout",
     "output_type": "stream",
     "text": [
      "outer_poly [(488, 287), (717, 275), (723, 288), (727, 539), (493, 531)]\n",
      "2176\n",
      "outer_poly [(540, 228), (713, 123), (725, 706), (548, 617)]\n",
      "2177\n",
      "outer_poly [(599, 229), (777, 306), (782, 650), (596, 694)]\n",
      "2178\n",
      "outer_poly [(481, 165), (828, 252), (831, 670), (473, 727)]\n",
      "2179\n",
      "outer_poly [(422, 300), (783, 228), (794, 760), (418, 712)]\n",
      "2180\n",
      "outer_poly [(407, 367), (528, 346), (528, 568), (408, 558)]\n"
     ]
    },
    {
     "name": "stderr",
     "output_type": "stream",
     "text": [
      " 44%|████▍     | 2184/4943 [01:24<01:52, 24.53it/s]"
     ]
    },
    {
     "name": "stdout",
     "output_type": "stream",
     "text": [
      "2181\n",
      "outer_poly [(420, 48), (648, 216), (646, 658), (404, 736)]\n",
      "2182\n",
      "outer_poly [(301, 111), (840, 177), (844, 699), (290, 730)]\n",
      "2183\n",
      "outer_poly [(264, 187), (729, 181), (728, 660), (251, 653)]\n",
      "2184\n",
      "outer_poly [(508, 270), (742, 353), (749, 695), (509, 722)]\n",
      "2185\n",
      "outer_poly [(527, 286), (754, 133), (769, 721), (531, 681)]\n",
      "2186\n",
      "outer_poly [(604, 370), (849, 401), (856, 673), (597, 671)]\n"
     ]
    },
    {
     "name": "stderr",
     "output_type": "stream",
     "text": [
      " 44%|████▍     | 2190/4943 [01:24<01:50, 24.89it/s]"
     ]
    },
    {
     "name": "stdout",
     "output_type": "stream",
     "text": [
      "2187\n",
      "outer_poly [(589, 395), (816, 419), (820, 667), (584, 668)]\n",
      "2188\n",
      "outer_poly [(495, 330), (773, 269), (775, 692), (490, 659)]\n",
      "2189\n",
      "outer_poly [(523, 285), (778, 167), (790, 729), (524, 674)]\n",
      "2190\n",
      "outer_poly [(581, 435), (651, 404), (656, 640), (585, 629)]\n",
      "2191\n",
      "outer_poly [(536, 451), (794, 442), (797, 706), (535, 707)]\n"
     ]
    },
    {
     "name": "stderr",
     "output_type": "stream",
     "text": [
      " 44%|████▍     | 2196/4943 [01:25<01:50, 24.80it/s]"
     ]
    },
    {
     "name": "stdout",
     "output_type": "stream",
     "text": [
      "2192\n",
      "outer_poly [(414, 328), (819, 298), (829, 749), (397, 740)]\n",
      "2193\n",
      "outer_poly [(388, 404), (712, 388), (718, 742), (375, 736)]\n",
      "2194\n",
      "outer_poly [(264, 76), (969, 45), (982, 799), (244, 768)]\n",
      "2195\n",
      "outer_poly [(671, 473), (808, 424), (815, 713), (672, 705)]\n",
      "2196\n",
      "outer_poly [(570, 231), (908, 204), (910, 580), (572, 563)]\n"
     ]
    },
    {
     "name": "stderr",
     "output_type": "stream",
     "text": [
      "\r",
      " 44%|████▍     | 2199/4943 [01:25<01:52, 24.42it/s]"
     ]
    },
    {
     "name": "stdout",
     "output_type": "stream",
     "text": [
      "2197\n",
      "outer_poly [(568, 277), (770, 242), (770, 553), (569, 532)]\n",
      "2198\n",
      "outer_poly [(509, 157), (734, 318), (735, 717), (491, 726)]\n",
      "2199\n",
      "outer_poly [(302, 328), (590, 364), (594, 656), (296, 661)]\n",
      "2200\n",
      "outer_poly [(578, 284), (862, 303), (860, 592), (577, 600)]\n",
      "2201\n",
      "outer_poly [(610, 322), (768, 340), (765, 535), (603, 540)]\n"
     ]
    },
    {
     "name": "stderr",
     "output_type": "stream",
     "text": [
      " 45%|████▍     | 2205/4943 [01:25<01:48, 25.27it/s]"
     ]
    },
    {
     "name": "stdout",
     "output_type": "stream",
     "text": [
      "2202\n",
      "outer_poly [(405, 2), (397, 831), (802, 682), (802, 144), (533, 1)]\n",
      "2203\n",
      "outer_poly [(500, 464), (625, 435), (626, 654), (499, 651)]\n",
      "2204\n",
      "outer_poly [(567, 450), (671, 414), (677, 638), (569, 640)]\n",
      "2205\n",
      "outer_poly [(474, 380), (721, 395), (723, 655), (470, 665)]\n",
      "2206\n",
      "outer_poly [(443, 407), (642, 427), (643, 656), (439, 667)]\n",
      "2207\n",
      "outer_poly [(400, 203), (936, 204), (985, 753), (377, 763)]\n"
     ]
    },
    {
     "name": "stderr",
     "output_type": "stream",
     "text": [
      " 45%|████▍     | 2211/4943 [01:25<01:41, 26.91it/s]"
     ]
    },
    {
     "name": "stdout",
     "output_type": "stream",
     "text": [
      "2208\n",
      "outer_poly [(519, 124), (783, 130), (776, 397), (513, 392)]\n",
      "2209\n",
      "outer_poly [(207, 227), (605, 221), (605, 632), (194, 624)]\n",
      "2210\n",
      "outer_poly [(758, 251), (762, 616), (393, 627), (389, 256)]\n",
      "2211\n",
      "outer_poly [(278, 178), (765, 193), (773, 672), (265, 677)]\n",
      "2212\n",
      "outer_poly [(314, 0), (279, 703), (1078, 721), (1067, 3)]\n",
      "2213\n",
      "outer_poly [(279, 77), (1014, 33), (997, 832), (276, 775)]\n"
     ]
    },
    {
     "name": "stderr",
     "output_type": "stream",
     "text": [
      " 45%|████▍     | 2217/4943 [01:25<01:41, 26.76it/s]"
     ]
    },
    {
     "name": "stdout",
     "output_type": "stream",
     "text": [
      "2214\n",
      "outer_poly [(638, 324), (708, 291), (706, 573), (638, 544)]\n",
      "2215\n",
      "outer_poly [(317, 266), (683, 281), (683, 640), (314, 647)]\n",
      "2216\n",
      "outer_poly [(400, 381), (650, 341), (654, 735), (399, 700)]\n",
      "2217\n",
      "outer_poly [(428, 303), (569, 235), (571, 681), (429, 631)]\n",
      "2218\n",
      "outer_poly [(549, 345), (774, 362), (778, 608), (549, 616)]\n",
      "2219\n",
      "outer_poly [(266, 145), (869, 124), (874, 767), (253, 743)]\n"
     ]
    },
    {
     "name": "stderr",
     "output_type": "stream",
     "text": [
      " 45%|████▍     | 2223/4943 [01:26<01:37, 27.98it/s]"
     ]
    },
    {
     "name": "stdout",
     "output_type": "stream",
     "text": [
      "2220\n",
      "outer_poly [(514, 288), (771, 321), (769, 601), (509, 603)]\n",
      "2221\n",
      "outer_poly [(441, 360), (703, 391), (707, 674), (436, 683)]\n",
      "2222\n",
      "outer_poly [(300, 396), (512, 421), (508, 644), (289, 645)]\n",
      "2223\n",
      "outer_poly [(576, 386), (756, 329), (775, 632), (581, 638)]\n",
      "2224\n",
      "outer_poly [(546, 354), (832, 358), (831, 643), (548, 650)]\n",
      "2225\n",
      "outer_poly [(469, 482), (673, 480), (675, 685), (469, 687)]\n"
     ]
    },
    {
     "name": "stderr",
     "output_type": "stream",
     "text": [
      " 45%|████▌     | 2229/4943 [01:26<01:36, 28.12it/s]"
     ]
    },
    {
     "name": "stdout",
     "output_type": "stream",
     "text": [
      "2226\n",
      "outer_poly [(541, 353), (693, 353), (694, 504), (543, 505)]\n",
      "2227\n",
      "outer_poly [(570, 216), (765, 273), (766, 607), (569, 663)]\n",
      "2228\n",
      "outer_poly [(476, 128), (797, 198), (797, 599), (480, 661)]\n",
      "2229\n",
      "outer_poly [(548, 253), (742, 191), (752, 630), (550, 580)]\n",
      "2230\n",
      "outer_poly [(611, 298), (738, 272), (739, 556), (613, 530)]\n",
      "2231\n",
      "outer_poly [(631, 260), (790, 322), (791, 636), (630, 674)]\n"
     ]
    },
    {
     "name": "stderr",
     "output_type": "stream",
     "text": [
      " 45%|████▌     | 2235/4943 [01:26<01:40, 26.92it/s]"
     ]
    },
    {
     "name": "stdout",
     "output_type": "stream",
     "text": [
      "2232\n",
      "outer_poly [(599, 272), (999, 316), (1017, 746), (606, 784)]\n",
      "2233\n",
      "outer_poly [(1296, 208), (752, 184), (766, 820), (1296, 792)]\n",
      "2234\n",
      "outer_poly [(524, 394), (741, 408), (741, 636), (521, 641)]\n",
      "2235\n",
      "outer_poly [(848, 229), (854, 717), (355, 723), (361, 225)]\n",
      "2236\n",
      "outer_poly [(327, 180), (918, 99), (928, 816), (319, 762)]\n"
     ]
    },
    {
     "name": "stderr",
     "output_type": "stream",
     "text": [
      " 45%|████▌     | 2241/4943 [01:26<01:40, 26.84it/s]"
     ]
    },
    {
     "name": "stdout",
     "output_type": "stream",
     "text": [
      "2237\n",
      "outer_poly [(369, 195), (634, 279), (636, 634), (365, 676)]\n",
      "2238\n",
      "outer_poly [(377, 262), (609, 206), (610, 606), (377, 578)]\n",
      "2239\n",
      "outer_poly [(368, 230), (758, 107), (773, 725), (363, 690)]\n",
      "2240\n",
      "outer_poly [(575, 469), (687, 446), (688, 664), (574, 657)]\n",
      "2241\n",
      "outer_poly [(393, 89), (650, 263), (648, 692), (366, 731)]\n",
      "2242\n",
      "outer_poly [(564, 329), (754, 383), (753, 661), (561, 668)]\n"
     ]
    },
    {
     "name": "stderr",
     "output_type": "stream",
     "text": [
      " 45%|████▌     | 2247/4943 [01:27<01:42, 26.23it/s]"
     ]
    },
    {
     "name": "stdout",
     "output_type": "stream",
     "text": [
      "2243\n",
      "outer_poly [(583, 331), (724, 363), (724, 568), (579, 571)]\n",
      "2244\n",
      "outer_poly [(424, 171), (948, 124), (978, 690), (410, 690)]\n",
      "2245\n",
      "outer_poly [(380, 171), (904, 83), (938, 699), (367, 694)]\n",
      "2246\n",
      "outer_poly [(532, 321), (872, 329), (877, 673), (524, 669)]\n",
      "2247\n",
      "outer_poly [(463, 230), (835, 139), (852, 649), (459, 636)]\n",
      "2248\n"
     ]
    },
    {
     "name": "stderr",
     "output_type": "stream",
     "text": [
      " 46%|████▌     | 2253/4943 [01:27<01:42, 26.17it/s]"
     ]
    },
    {
     "name": "stdout",
     "output_type": "stream",
     "text": [
      "outer_poly [(27, 43), (694, 147), (691, 771), (0, 785), (0, 287)]\n",
      "2249\n",
      "outer_poly [(506, 8), (843, 233), (867, 741), (500, 815)]\n",
      "2250\n",
      "outer_poly [(597, 249), (708, 296), (708, 535), (593, 546)]\n",
      "2251\n",
      "outer_poly [(458, 249), (854, 214), (870, 643), (460, 642)]\n",
      "2252\n",
      "outer_poly [(511, 277), (822, 239), (832, 598), (513, 593)]\n",
      "2253\n",
      "outer_poly [(549, 266), (768, 298), (766, 557), (542, 570)]\n"
     ]
    },
    {
     "name": "stderr",
     "output_type": "stream",
     "text": [
      "\r",
      " 46%|████▌     | 2256/4943 [01:27<01:45, 25.35it/s]"
     ]
    },
    {
     "name": "stdout",
     "output_type": "stream",
     "text": [
      "2254\n",
      "outer_poly [(543, 266), (716, 392), (715, 754), (529, 771)]\n",
      "2255\n",
      "outer_poly [(546, 336), (875, 364), (888, 707), (539, 711)]\n",
      "2256\n",
      "outer_poly [(518, 439), (778, 447), (783, 711), (508, 709)]\n",
      "2257\n",
      "outer_poly [(574, 457), (824, 452), (826, 713), (566, 707)]\n",
      "2258\n",
      "outer_poly [(547, 462), (819, 450), (827, 736), (543, 735)]\n"
     ]
    },
    {
     "name": "stderr",
     "output_type": "stream",
     "text": [
      " 46%|████▌     | 2262/4943 [01:27<01:44, 25.59it/s]"
     ]
    },
    {
     "name": "stdout",
     "output_type": "stream",
     "text": [
      "2259\n",
      "outer_poly [(486, 283), (854, 147), (873, 742), (474, 719)]\n",
      "2260\n",
      "outer_poly [(625, 455), (741, 374), (751, 736), (628, 727)]\n",
      "2261\n",
      "outer_poly [(640, 483), (700, 421), (705, 734), (642, 725)]\n",
      "2262\n",
      "outer_poly [(409, 97), (729, 262), (730, 688), (379, 694)]\n",
      "2263\n",
      "outer_poly [(466, 325), (712, 320), (715, 580), (468, 573)]\n",
      "2264\n",
      "outer_poly [(540, 269), (807, 307), (807, 625), (534, 655)]\n"
     ]
    },
    {
     "name": "stderr",
     "output_type": "stream",
     "text": [
      " 46%|████▌     | 2268/4943 [01:27<01:43, 25.83it/s]"
     ]
    },
    {
     "name": "stdout",
     "output_type": "stream",
     "text": [
      "2265\n",
      "outer_poly [(517, 236), (918, 296), (932, 727), (516, 765)]\n",
      "2266\n",
      "outer_poly [(520, 0), (574, 34), (537, 763), (80, 864), (0, 863), (0, 0)]\n",
      "2267\n",
      "outer_poly [(157, 202), (626, 212), (621, 672), (156, 670)]\n",
      "2268\n",
      "outer_poly [(421, 163), (898, 153), (922, 639), (404, 640)]\n",
      "2269\n",
      "outer_poly [(432, 188), (895, 195), (912, 654), (443, 675)]\n",
      "2270\n",
      "outer_poly [(437, 278), (747, 279), (754, 588), (441, 597)]\n"
     ]
    },
    {
     "name": "stderr",
     "output_type": "stream",
     "text": [
      " 46%|████▌     | 2274/4943 [01:28<01:42, 25.92it/s]"
     ]
    },
    {
     "name": "stdout",
     "output_type": "stream",
     "text": [
      "2271\n",
      "outer_poly [(430, 325), (746, 321), (746, 648), (422, 643)]\n",
      "2272\n",
      "outer_poly [(397, 5), (394, 864), (728, 864), (1105, 794), (1108, 102), (617, 0)]\n",
      "2273\n",
      "outer_poly [(542, 271), (829, 295), (825, 598), (538, 614)]\n",
      "2274\n",
      "outer_poly [(559, 255), (768, 192), (767, 666), (557, 605)]\n",
      "2275\n",
      "outer_poly [(0, 65), (396, 241), (388, 793), (174, 864), (0, 864)]\n"
     ]
    },
    {
     "name": "stderr",
     "output_type": "stream",
     "text": [
      " 46%|████▌     | 2280/4943 [01:28<01:41, 26.22it/s]"
     ]
    },
    {
     "name": "stdout",
     "output_type": "stream",
     "text": [
      "2276\n",
      "outer_poly [(381, 358), (512, 333), (511, 605), (380, 584)]\n",
      "2277\n",
      "outer_poly [(408, 171), (907, 220), (913, 714), (402, 741)]\n",
      "2278\n",
      "outer_poly [(406, 256), (818, 261), (822, 676), (401, 674)]\n",
      "2279\n",
      "outer_poly [(505, 365), (648, 326), (647, 622), (503, 607)]\n",
      "2280\n",
      "outer_poly [(406, 325), (689, 333), (687, 616), (401, 610)]\n",
      "2281\n"
     ]
    },
    {
     "name": "stderr",
     "output_type": "stream",
     "text": [
      " 46%|████▌     | 2286/4943 [01:28<01:43, 25.71it/s]"
     ]
    },
    {
     "name": "stdout",
     "output_type": "stream",
     "text": [
      "outer_poly [(291, 395), (507, 421), (503, 650), (276, 650)]\n",
      "2282\n",
      "outer_poly [(425, 127), (954, 168), (925, 684), (433, 765)]\n",
      "2283\n",
      "outer_poly [(492, 381), (585, 394), (578, 529), (578, 654), (486, 657)]\n",
      "2284\n",
      "outer_poly [(414, 179), (903, 192), (885, 656), (425, 669)]\n",
      "2285\n",
      "outer_poly [(618, 339), (798, 333), (802, 521), (621, 520)]\n",
      "2286\n",
      "outer_poly [(589, 265), (835, 281), (832, 545), (588, 557)]\n"
     ]
    },
    {
     "name": "stderr",
     "output_type": "stream",
     "text": [
      " 46%|████▋     | 2292/4943 [01:28<01:39, 26.52it/s]"
     ]
    },
    {
     "name": "stdout",
     "output_type": "stream",
     "text": [
      "2287\n",
      "outer_poly [(459, 231), (776, 249), (776, 567), (463, 584)]\n",
      "2288\n",
      "outer_poly [(510, 266), (795, 270), (795, 553), (509, 554)]\n",
      "2289\n",
      "outer_poly [(594, 261), (850, 260), (851, 513), (596, 515)]\n",
      "2290\n",
      "outer_poly [(420, 280), (694, 263), (699, 568), (430, 559)]\n",
      "2291\n",
      "outer_poly [(546, 246), (680, 316), (679, 635), (542, 680)]\n",
      "2292\n",
      "outer_poly [(409, 100), (1082, 126), (1094, 792), (402, 808)]\n"
     ]
    },
    {
     "name": "stderr",
     "output_type": "stream",
     "text": [
      " 46%|████▋     | 2298/4943 [01:29<01:39, 26.59it/s]"
     ]
    },
    {
     "name": "stdout",
     "output_type": "stream",
     "text": [
      "2293\n",
      "outer_poly [(490, 32), (730, 209), (727, 665), (480, 747)]\n",
      "2294\n",
      "outer_poly [(549, 170), (770, 268), (769, 629), (542, 672)]\n",
      "2295\n",
      "outer_poly [(386, 83), (730, 221), (723, 671), (370, 733)]\n",
      "2296\n",
      "outer_poly [(355, 221), (756, 211), (755, 630), (346, 623)]\n",
      "2297\n",
      "outer_poly [(426, 380), (718, 393), (724, 685), (425, 688)]\n",
      "2298\n",
      "outer_poly [(418, 389), (665, 381), (668, 633), (421, 634)]\n"
     ]
    },
    {
     "name": "stderr",
     "output_type": "stream",
     "text": [
      " 47%|████▋     | 2304/4943 [01:29<01:35, 27.51it/s]"
     ]
    },
    {
     "name": "stdout",
     "output_type": "stream",
     "text": [
      "2299\n",
      "outer_poly [(377, 383), (617, 378), (620, 628), (377, 627)]\n",
      "2300\n",
      "outer_poly [(261, 132), (810, 45), (824, 713), (252, 686)]\n",
      "2301\n",
      "outer_poly [(573, 227), (975, 95), (996, 722), (576, 678)]\n",
      "2302\n",
      "outer_poly [(485, 272), (803, 135), (830, 740), (488, 695)]\n",
      "2303\n",
      "outer_poly [(539, 322), (772, 304), (776, 557), (538, 557)]\n",
      "2304\n",
      "outer_poly [(508, 303), (830, 248), (840, 639), (503, 640)]\n"
     ]
    },
    {
     "name": "stderr",
     "output_type": "stream",
     "text": [
      " 47%|████▋     | 2310/4943 [01:29<01:33, 28.25it/s]"
     ]
    },
    {
     "name": "stdout",
     "output_type": "stream",
     "text": [
      "2305\n",
      "outer_poly [(557, 353), (732, 400), (732, 656), (554, 666)]\n",
      "2306\n",
      "outer_poly [(762, 416), (767, 652), (544, 659), (542, 393)]\n",
      "2307\n",
      "outer_poly [(369, 139), (981, 37), (1027, 748), (348, 736)]\n",
      "2308\n",
      "outer_poly [(598, 152), (763, 271), (766, 621), (592, 649)]\n",
      "2309\n",
      "outer_poly [(570, 252), (749, 298), (746, 567), (565, 581)]\n",
      "2310\n",
      "outer_poly [(405, 57), (973, 146), (978, 717), (382, 749)]\n"
     ]
    },
    {
     "name": "stderr",
     "output_type": "stream",
     "text": [
      " 47%|████▋     | 2316/4943 [01:29<01:33, 28.04it/s]"
     ]
    },
    {
     "name": "stdout",
     "output_type": "stream",
     "text": [
      "2311\n",
      "outer_poly [(605, 358), (706, 234), (710, 735), (605, 704)]\n",
      "2312\n",
      "outer_poly [(518, 381), (731, 328), (739, 693), (522, 672)]\n",
      "2313\n",
      "outer_poly [(481, 334), (872, 333), (886, 734), (470, 735)]\n",
      "2314\n",
      "outer_poly [(532, 443), (795, 432), (802, 711), (527, 706)]\n",
      "2315\n",
      "outer_poly [(342, 345), (643, 330), (641, 662), (340, 650)]\n",
      "2316\n",
      "outer_poly [(568, 413), (754, 354), (764, 696), (564, 692)]\n"
     ]
    },
    {
     "name": "stderr",
     "output_type": "stream",
     "text": [
      " 47%|████▋     | 2322/4943 [01:29<01:31, 28.61it/s]"
     ]
    },
    {
     "name": "stdout",
     "output_type": "stream",
     "text": [
      "2317\n",
      "outer_poly [(545, 160), (983, 47), (982, 708), (548, 629)]\n",
      "2318\n",
      "outer_poly [(467, 326), (659, 390), (662, 672), (455, 674)]\n",
      "2319\n",
      "outer_poly [(432, 242), (849, 200), (857, 696), (431, 661)]\n",
      "2320\n",
      "outer_poly [(537, 179), (858, 259), (858, 675), (535, 741)]\n",
      "2321\n",
      "outer_poly [(676, 334), (766, 356), (768, 559), (674, 577)]\n",
      "2322\n",
      "outer_poly [(823, 299), (917, 324), (916, 538), (821, 553)]\n"
     ]
    },
    {
     "name": "stderr",
     "output_type": "stream",
     "text": [
      " 47%|████▋     | 2328/4943 [01:30<01:30, 28.95it/s]"
     ]
    },
    {
     "name": "stdout",
     "output_type": "stream",
     "text": [
      "2323\n",
      "outer_poly [(470, 329), (675, 131), (706, 772), (469, 760)]\n",
      "2324\n",
      "outer_poly [(842, 338), (1004, 362), (1003, 594), (837, 609)]\n",
      "2325\n",
      "outer_poly [(413, 234), (644, 300), (642, 609), (406, 635)]\n",
      "2326\n",
      "outer_poly [(452, 134), (865, 96), (861, 561), (446, 547)]\n",
      "2327\n",
      "outer_poly [(517, 297), (679, 327), (678, 566), (512, 593)]\n",
      "2328\n",
      "outer_poly [(526, 314), (759, 327), (758, 575), (521, 582)]\n"
     ]
    },
    {
     "name": "stderr",
     "output_type": "stream",
     "text": [
      " 47%|████▋     | 2334/4943 [01:30<01:28, 29.41it/s]"
     ]
    },
    {
     "name": "stdout",
     "output_type": "stream",
     "text": [
      "2329\n",
      "outer_poly [(514, 215), (841, 218), (834, 546), (511, 542)]\n",
      "2330\n",
      "outer_poly [(323, 64), (982, 23), (963, 742), (320, 692)]\n",
      "2331\n",
      "outer_poly [(395, 228), (834, 255), (835, 687), (389, 701)]\n",
      "2332\n",
      "outer_poly [(612, 369), (842, 355), (847, 614), (615, 607)]\n",
      "2333\n",
      "outer_poly [(631, 426), (690, 390), (692, 619), (632, 613)]\n",
      "2334\n",
      "outer_poly [(355, 221), (804, 250), (815, 696), (340, 704)]\n"
     ]
    },
    {
     "name": "stderr",
     "output_type": "stream",
     "text": [
      " 47%|████▋     | 2340/4943 [01:30<01:35, 27.36it/s]"
     ]
    },
    {
     "name": "stdout",
     "output_type": "stream",
     "text": [
      "2335\n",
      "outer_poly [(293, 58), (967, 59), (1020, 755), (249, 764)]\n",
      "2336\n",
      "outer_poly [(569, 418), (637, 388), (639, 594), (568, 590)]\n",
      "2337\n",
      "outer_poly [(439, 283), (681, 364), (687, 690), (432, 704)]\n",
      "2338\n",
      "outer_poly [(481, 418), (601, 384), (609, 602), (485, 605)]\n",
      "2339\n",
      "outer_poly [(578, 410), (673, 342), (693, 650), (593, 654)]\n",
      "2340\n"
     ]
    },
    {
     "name": "stderr",
     "output_type": "stream",
     "text": [
      "\r",
      " 47%|████▋     | 2343/4943 [01:30<01:37, 26.65it/s]"
     ]
    },
    {
     "name": "stdout",
     "output_type": "stream",
     "text": [
      "outer_poly [(472, 443), (624, 446), (625, 597), (474, 601)]\n",
      "2341\n",
      "outer_poly [(385, 245), (747, 272), (746, 630), (382, 643)]\n",
      "2342\n",
      "outer_poly [(390, 385), (594, 389), (594, 589), (389, 593)]\n",
      "2343\n",
      "outer_poly [(298, 223), (683, 251), (685, 623), (298, 640)]\n",
      "2344\n",
      "outer_poly [(585, 314), (891, 283), (897, 642), (586, 625)]\n",
      "2345\n",
      "outer_poly [(412, 138), (745, 206), (745, 606), (419, 667)]\n"
     ]
    },
    {
     "name": "stderr",
     "output_type": "stream",
     "text": [
      " 48%|████▊     | 2349/4943 [01:30<01:36, 26.82it/s]"
     ]
    },
    {
     "name": "stdout",
     "output_type": "stream",
     "text": [
      "2346\n",
      "outer_poly [(606, 68), (1165, 119), (1164, 699), (609, 759)]\n",
      "2347\n",
      "outer_poly [(617, 280), (885, 286), (888, 559), (616, 562)]\n",
      "2348\n",
      "outer_poly [(585, 322), (662, 301), (666, 539), (588, 520)]\n",
      "2349\n",
      "outer_poly [(370, 217), (901, 200), (906, 759), (363, 745)]\n",
      "2350\n",
      "outer_poly [(482, 323), (747, 250), (754, 720), (487, 679)]\n",
      "2351\n",
      "outer_poly [(546, 320), (785, 301), (791, 581), (550, 575)]\n"
     ]
    },
    {
     "name": "stderr",
     "output_type": "stream",
     "text": [
      " 48%|████▊     | 2355/4943 [01:31<01:35, 27.01it/s]"
     ]
    },
    {
     "name": "stdout",
     "output_type": "stream",
     "text": [
      "2352\n",
      "outer_poly [(433, 248), (639, 172), (642, 616), (433, 581)]\n",
      "2353\n",
      "outer_poly [(447, 269), (633, 208), (632, 603), (447, 575)]\n",
      "2354\n",
      "outer_poly [(351, 92), (697, 265), (696, 729), (320, 787)]\n",
      "2355\n",
      "outer_poly [(433, 286), (684, 355), (688, 689), (426, 717)]\n",
      "2356\n",
      "outer_poly [(438, 45), (948, 197), (991, 745), (406, 763)]\n",
      "2357\n",
      "outer_poly [(503, 347), (720, 383), (719, 632), (493, 631)]\n"
     ]
    },
    {
     "name": "stderr",
     "output_type": "stream",
     "text": [
      " 48%|████▊     | 2361/4943 [01:31<01:35, 27.17it/s]"
     ]
    },
    {
     "name": "stdout",
     "output_type": "stream",
     "text": [
      "2358\n",
      "outer_poly [(469, 248), (847, 176), (864, 640), (462, 639)]\n",
      "2359\n",
      "outer_poly [(567, 283), (782, 315), (782, 559), (563, 558)]\n",
      "2360\n",
      "outer_poly [(416, 56), (967, 146), (996, 701), (391, 722)]\n",
      "2361\n",
      "outer_poly [(512, 332), (821, 351), (829, 662), (504, 665)]\n",
      "2362\n",
      "outer_poly [(531, 398), (800, 393), (806, 668), (529, 669)]\n",
      "2363\n",
      "outer_poly [(515, 107), (742, 269), (747, 686), (511, 738)]\n"
     ]
    },
    {
     "name": "stderr",
     "output_type": "stream",
     "text": [
      " 48%|████▊     | 2367/4943 [01:31<01:34, 27.28it/s]"
     ]
    },
    {
     "name": "stdout",
     "output_type": "stream",
     "text": [
      "2364\n",
      "outer_poly [(462, 410), (713, 399), (714, 666), (457, 663)]\n",
      "2365\n",
      "outer_poly [(226, 100), (850, 17), (865, 756), (180, 726)]\n",
      "2366\n",
      "outer_poly [(413, 347), (746, 315), (748, 704), (404, 695)]\n",
      "2367\n",
      "outer_poly [(456, 246), (843, 152), (861, 689), (456, 666)]\n",
      "2368\n",
      "outer_poly [(607, 303), (808, 320), (804, 536), (601, 539)]\n",
      "2369\n",
      "outer_poly [(606, 255), (790, 65), (807, 724), (606, 678)]\n"
     ]
    },
    {
     "name": "stderr",
     "output_type": "stream",
     "text": [
      " 48%|████▊     | 2373/4943 [01:31<01:31, 28.11it/s]"
     ]
    },
    {
     "name": "stdout",
     "output_type": "stream",
     "text": [
      "2370\n",
      "outer_poly [(375, 102), (980, 66), (980, 694), (382, 677)]\n",
      "2371\n",
      "outer_poly [(509, 272), (745, 266), (748, 522), (511, 515)]\n",
      "2372\n",
      "outer_poly [(441, 55), (701, 275), (702, 726), (404, 736)]\n",
      "2373\n",
      "outer_poly [(680, 277), (845, 196), (844, 699), (679, 622)]\n",
      "2374\n",
      "outer_poly [(422, 324), (745, 344), (759, 670), (418, 674)]\n",
      "2375\n",
      "outer_poly [(544, 410), (770, 387), (778, 639), (550, 643)]\n"
     ]
    },
    {
     "name": "stderr",
     "output_type": "stream",
     "text": [
      " 48%|████▊     | 2379/4943 [01:31<01:30, 28.34it/s]"
     ]
    },
    {
     "name": "stdout",
     "output_type": "stream",
     "text": [
      "2376\n",
      "outer_poly [(458, 451), (597, 424), (602, 637), (455, 638)]\n",
      "2377\n",
      "outer_poly [(549, 412), (688, 361), (694, 652), (550, 650)]\n",
      "2378\n",
      "outer_poly [(794, 188), (787, 697), (321, 670), (323, 209)]\n",
      "2379\n",
      "outer_poly [(456, 240), (792, 258), (789, 589), (459, 611)]\n",
      "2380\n",
      "outer_poly [(474, 251), (850, 238), (846, 633), (472, 616)]\n",
      "2381\n",
      "outer_poly [(303, 33), (1051, 43), (1066, 796), (294, 795)]\n"
     ]
    },
    {
     "name": "stderr",
     "output_type": "stream",
     "text": [
      " 48%|████▊     | 2385/4943 [01:32<01:30, 28.26it/s]"
     ]
    },
    {
     "name": "stdout",
     "output_type": "stream",
     "text": [
      "2382\n",
      "outer_poly [(405, 213), (889, 216), (898, 705), (397, 704)]\n",
      "2383\n",
      "outer_poly [(233, 22), (980, 63), (991, 809), (193, 806)]\n",
      "2384\n",
      "outer_poly [(369, 280), (734, 280), (738, 653), (355, 648)]\n",
      "2385\n",
      "outer_poly [(554, 284), (910, 260), (916, 643), (550, 631)]\n",
      "2386\n",
      "outer_poly [(764, 333), (763, 582), (520, 591), (522, 324)]\n",
      "2387\n",
      "outer_poly [(568, 235), (822, 236), (815, 496), (566, 491)]\n"
     ]
    },
    {
     "name": "stderr",
     "output_type": "stream",
     "text": [
      " 48%|████▊     | 2391/4943 [01:32<01:29, 28.48it/s]"
     ]
    },
    {
     "name": "stdout",
     "output_type": "stream",
     "text": [
      "2388\n",
      "outer_poly [(525, 170), (954, 17), (941, 834), (524, 688)]\n",
      "2389\n",
      "outer_poly [(536, 375), (796, 368), (798, 645), (536, 636)]\n",
      "2390\n",
      "outer_poly [(451, 283), (792, 301), (800, 641), (453, 651)]\n",
      "2391\n",
      "outer_poly [(627, 208), (784, 321), (786, 694), (620, 750)]\n",
      "2392\n",
      "outer_poly [(475, 390), (729, 400), (730, 655), (475, 655)]\n",
      "2393\n",
      "outer_poly [(492, 405), (742, 390), (747, 672), (488, 665)]\n"
     ]
    },
    {
     "name": "stderr",
     "output_type": "stream",
     "text": [
      " 48%|████▊     | 2397/4943 [01:32<01:28, 28.79it/s]"
     ]
    },
    {
     "name": "stdout",
     "output_type": "stream",
     "text": [
      "2394\n",
      "outer_poly [(487, 107), (813, 284), (828, 753), (464, 793)]\n",
      "2395\n",
      "outer_poly [(603, 369), (805, 427), (810, 713), (598, 729)]\n",
      "2396\n",
      "outer_poly [(560, 479), (661, 457), (666, 642), (563, 640)]\n",
      "2397\n",
      "outer_poly [(598, 431), (666, 395), (670, 622), (599, 618)]\n",
      "2398\n",
      "outer_poly [(458, 301), (601, 405), (607, 738), (455, 752)]\n",
      "2399\n",
      "outer_poly [(462, 339), (670, 409), (677, 706), (458, 720)]\n"
     ]
    },
    {
     "name": "stderr",
     "output_type": "stream",
     "text": [
      " 49%|████▊     | 2403/4943 [01:32<01:27, 29.14it/s]"
     ]
    },
    {
     "name": "stdout",
     "output_type": "stream",
     "text": [
      "2400\n",
      "outer_poly [(432, 113), (806, 256), (822, 709), (421, 735)]\n",
      "2401\n",
      "outer_poly [(493, 288), (816, 267), (823, 612), (489, 607)]\n",
      "2402\n",
      "outer_poly [(452, 332), (601, 328), (606, 484), (453, 485)]\n",
      "2403\n",
      "outer_poly [(548, 365), (546, 555), (356, 554), (360, 367)]\n",
      "2404\n",
      "outer_poly [(479, 339), (628, 335), (630, 490), (477, 492)]\n",
      "2405\n",
      "outer_poly [(367, 265), (662, 175), (677, 699), (373, 655)]\n"
     ]
    },
    {
     "name": "stderr",
     "output_type": "stream",
     "text": [
      " 49%|████▊     | 2409/4943 [01:32<01:26, 29.24it/s]"
     ]
    },
    {
     "name": "stdout",
     "output_type": "stream",
     "text": [
      "2406\n",
      "outer_poly [(467, 64), (818, 216), (821, 695), (463, 789)]\n",
      "2407\n",
      "outer_poly [(422, 206), (916, 139), (927, 730), (424, 697)]\n",
      "2408\n",
      "outer_poly [(572, 266), (854, 262), (857, 550), (574, 547)]\n",
      "2409\n",
      "outer_poly [(542, 295), (711, 251), (714, 613), (548, 579)]\n",
      "2410\n",
      "outer_poly [(597, 348), (815, 362), (814, 601), (597, 606)]\n",
      "2411\n",
      "outer_poly [(390, 284), (784, 331), (792, 740), (385, 769)]\n"
     ]
    },
    {
     "name": "stderr",
     "output_type": "stream",
     "text": [
      " 49%|████▉     | 2415/4943 [01:33<01:38, 25.68it/s]"
     ]
    },
    {
     "name": "stdout",
     "output_type": "stream",
     "text": [
      "2412\n",
      "outer_poly [(482, 341), (724, 332), (727, 587), (484, 581)]\n",
      "2413\n",
      "outer_poly [(381, 306), (752, 271), (751, 713), (375, 689)]\n",
      "2414\n",
      "outer_poly [(487, 258), (829, 283), (832, 629), (484, 639)]\n",
      "2415\n",
      "outer_poly [(436, 258), (829, 271), (832, 664), (425, 667)]\n",
      "2416\n",
      "outer_poly [(477, 298), (823, 303), (825, 648), (475, 650)]\n"
     ]
    },
    {
     "name": "stderr",
     "output_type": "stream",
     "text": [
      " 49%|████▉     | 2421/4943 [01:33<01:46, 23.65it/s]"
     ]
    },
    {
     "name": "stdout",
     "output_type": "stream",
     "text": [
      "2417\n",
      "outer_poly [(438, 126), (715, 280), (718, 716), (426, 772)]\n",
      "2418\n",
      "outer_poly [(508, 355), (793, 384), (801, 687), (502, 697)]\n",
      "2419\n",
      "outer_poly [(544, 418), (687, 390), (690, 636), (546, 627)]\n",
      "2420\n",
      "outer_poly [(605, 392), (717, 442), (725, 683), (607, 688)]\n",
      "2421\n",
      "outer_poly [(539, 231), (708, 345), (709, 699), (529, 723)]\n"
     ]
    },
    {
     "name": "stderr",
     "output_type": "stream",
     "text": [
      "\r",
      " 49%|████▉     | 2424/4943 [01:33<01:49, 22.98it/s]"
     ]
    },
    {
     "name": "stdout",
     "output_type": "stream",
     "text": [
      "2422\n",
      "outer_poly [(344, 211), (914, 5), (1011, 822), (315, 820)]\n",
      "2423\n",
      "outer_poly [(539, 217), (798, 287), (803, 609), (535, 617)]\n",
      "2424\n",
      "outer_poly [(508, 218), (849, 308), (866, 704), (493, 717)]\n",
      "2425\n",
      "outer_poly [(607, 302), (754, 272), (753, 513), (605, 507)]\n",
      "2426\n",
      "outer_poly [(359, 123), (968, 21), (999, 751), (340, 724)]\n"
     ]
    },
    {
     "name": "stderr",
     "output_type": "stream",
     "text": [
      " 49%|████▉     | 2430/4943 [01:33<01:46, 23.68it/s]"
     ]
    },
    {
     "name": "stdout",
     "output_type": "stream",
     "text": [
      "2427\n",
      "outer_poly [(542, 301), (786, 182), (798, 703), (540, 676)]\n",
      "2428\n",
      "outer_poly [(629, 439), (760, 404), (764, 649), (631, 643)]\n",
      "2429\n",
      "outer_poly [(546, 409), (714, 389), (719, 608), (549, 602)]\n",
      "2430\n",
      "outer_poly [(507, 285), (766, 162), (778, 733), (509, 677)]\n",
      "2431\n",
      "outer_poly [(331, 388), (575, 363), (571, 688), (323, 670)]\n"
     ]
    },
    {
     "name": "stderr",
     "output_type": "stream",
     "text": [
      " 49%|████▉     | 2436/4943 [01:34<01:44, 24.03it/s]"
     ]
    },
    {
     "name": "stdout",
     "output_type": "stream",
     "text": [
      "2432\n",
      "outer_poly [(501, 401), (770, 366), (771, 732), (494, 707)]\n",
      "2433\n",
      "outer_poly [(582, 436), (748, 384), (752, 686), (582, 679)]\n",
      "2434\n",
      "outer_poly [(462, 149), (983, 71), (988, 700), (472, 649)]\n",
      "2435\n",
      "outer_poly [(523, 294), (741, 281), (739, 537), (521, 525)]\n",
      "2436\n",
      "outer_poly [(502, 349), (753, 385), (758, 661), (494, 662)]\n"
     ]
    },
    {
     "name": "stderr",
     "output_type": "stream",
     "text": [
      " 49%|████▉     | 2442/4943 [01:34<01:40, 24.79it/s]"
     ]
    },
    {
     "name": "stdout",
     "output_type": "stream",
     "text": [
      "2437\n",
      "outer_poly [(405, 245), (793, 200), (812, 635), (401, 640)]\n",
      "2438\n",
      "outer_poly [(675, 352), (811, 369), (811, 565), (671, 576)]\n",
      "2439\n",
      "outer_poly [(864, 286), (961, 326), (964, 573), (865, 596)]\n",
      "2440\n",
      "outer_poly [(613, 302), (703, 357), (695, 601), (592, 616)]\n",
      "2441\n",
      "outer_poly [(363, 121), (984, 137), (997, 772), (333, 761)]\n",
      "2442\n"
     ]
    },
    {
     "name": "stderr",
     "output_type": "stream",
     "text": [
      "\r",
      " 49%|████▉     | 2445/4943 [01:34<01:39, 25.18it/s]"
     ]
    },
    {
     "name": "stdout",
     "output_type": "stream",
     "text": [
      "outer_poly [(369, 177), (913, 136), (982, 699), (360, 731)]\n",
      "2443\n",
      "outer_poly [(550, 326), (828, 322), (829, 613), (549, 605)]\n",
      "2444\n",
      "outer_poly [(844, 374), (1015, 363), (1019, 537), (849, 539)]\n",
      "2445\n",
      "outer_poly [(467, 273), (736, 188), (742, 725), (468, 659)]\n",
      "2446\n",
      "outer_poly [(426, 106), (1001, 163), (1014, 733), (418, 769)]\n",
      "2447\n",
      "outer_poly [(446, 369), (742, 380), (742, 676), (439, 676)]\n"
     ]
    },
    {
     "name": "stderr",
     "output_type": "stream",
     "text": [
      " 50%|████▉     | 2451/4943 [01:34<01:36, 25.89it/s]"
     ]
    },
    {
     "name": "stdout",
     "output_type": "stream",
     "text": [
      "2448\n",
      "outer_poly [(401, 351), (735, 341), (735, 691), (393, 683)]\n",
      "2449\n",
      "outer_poly [(596, 414), (671, 388), (672, 603), (598, 593)]\n",
      "2450\n",
      "outer_poly [(381, 157), (871, 83), (877, 677), (368, 647)]\n",
      "2451\n",
      "outer_poly [(382, 165), (889, 112), (897, 681), (372, 665)]\n",
      "2452\n",
      "outer_poly [(582, 252), (731, 70), (749, 697), (589, 660)]\n",
      "2453\n",
      "outer_poly [(459, 447), (713, 424), (723, 708), (458, 710)]\n"
     ]
    },
    {
     "name": "stderr",
     "output_type": "stream",
     "text": [
      " 50%|████▉     | 2457/4943 [01:34<01:33, 26.47it/s]"
     ]
    },
    {
     "name": "stdout",
     "output_type": "stream",
     "text": [
      "2454\n",
      "outer_poly [(407, 373), (743, 331), (755, 729), (397, 730)]\n",
      "2455\n",
      "outer_poly [(490, 300), (635, 401), (636, 719), (480, 727)]\n",
      "2456\n",
      "outer_poly [(500, 296), (779, 191), (802, 662), (501, 663)]\n",
      "2457\n",
      "outer_poly [(628, 450), (808, 453), (815, 646), (632, 656)]\n",
      "2458\n",
      "outer_poly [(459, 309), (779, 285), (783, 641), (459, 632)]\n",
      "2459\n",
      "outer_poly [(613, 268), (897, 269), (898, 550), (619, 552)]\n"
     ]
    },
    {
     "name": "stderr",
     "output_type": "stream",
     "text": [
      " 50%|████▉     | 2463/4943 [01:35<01:34, 26.27it/s]"
     ]
    },
    {
     "name": "stdout",
     "output_type": "stream",
     "text": [
      "2460\n",
      "outer_poly [(451, 312), (601, 293), (607, 527), (455, 516)]\n",
      "2461\n",
      "outer_poly [(551, 217), (858, 118), (867, 717), (561, 633)]\n",
      "2462\n",
      "outer_poly [(584, 302), (720, 265), (728, 571), (589, 544)]\n",
      "2463\n",
      "outer_poly [(492, 227), (740, 306), (744, 673), (490, 723)]\n",
      "2464\n",
      "outer_poly [(482, 336), (822, 352), (826, 688), (480, 697)]\n",
      "2465\n",
      "outer_poly [(237, 102), (913, 117), (925, 787), (223, 801)]\n"
     ]
    },
    {
     "name": "stderr",
     "output_type": "stream",
     "text": [
      " 50%|████▉     | 2469/4943 [01:35<01:34, 26.28it/s]"
     ]
    },
    {
     "name": "stdout",
     "output_type": "stream",
     "text": [
      "2466\n",
      "outer_poly [(491, 374), (731, 360), (736, 631), (495, 625)]\n",
      "2467\n",
      "outer_poly [(478, 314), (757, 228), (770, 742), (482, 692)]\n",
      "2468\n",
      "outer_poly [(339, 154), (839, 207), (843, 701), (326, 722)]\n",
      "2469\n",
      "outer_poly [(342, 302), (615, 303), (615, 575), (341, 575)]\n",
      "2470\n",
      "outer_poly [(485, 316), (735, 308), (733, 569), (485, 564)]\n",
      "2471\n",
      "outer_poly [(512, 157), (867, 0), (878, 4), (889, 709), (515, 632)]\n"
     ]
    },
    {
     "name": "stderr",
     "output_type": "stream",
     "text": [
      " 50%|█████     | 2475/4943 [01:35<01:42, 24.09it/s]"
     ]
    },
    {
     "name": "stdout",
     "output_type": "stream",
     "text": [
      "2472\n",
      "outer_poly [(383, 131), (708, 274), (708, 718), (360, 773)]\n",
      "2473\n",
      "outer_poly [(437, 232), (809, 301), (823, 704), (434, 733)]\n",
      "2474\n",
      "outer_poly [(425, 368), (651, 383), (653, 616), (423, 620)]\n",
      "2475\n",
      "outer_poly [(404, 315), (785, 332), (793, 709), (397, 714)]\n",
      "2476\n",
      "outer_poly [(290, 133), (897, 170), (920, 773), (265, 787)]\n"
     ]
    },
    {
     "name": "stderr",
     "output_type": "stream",
     "text": [
      " 50%|█████     | 2481/4943 [01:35<01:40, 24.45it/s]"
     ]
    },
    {
     "name": "stdout",
     "output_type": "stream",
     "text": [
      "2477\n",
      "outer_poly [(253, 356), (504, 346), (505, 615), (249, 615)]\n",
      "2478\n",
      "outer_poly [(646, 362), (876, 339), (882, 596), (652, 597)]\n",
      "2479\n",
      "outer_poly [(400, 73), (966, 177), (1016, 759), (358, 773)]\n",
      "2480\n",
      "outer_poly [(411, 183), (913, 110), (935, 687), (398, 677)]\n",
      "2481\n",
      "outer_poly [(469, 345), (800, 344), (806, 678), (465, 681)]\n",
      "2482\n",
      "outer_poly [(542, 285), (802, 300), (806, 568), (542, 574)]\n"
     ]
    },
    {
     "name": "stderr",
     "output_type": "stream",
     "text": [
      " 50%|█████     | 2487/4943 [01:36<01:37, 25.25it/s]"
     ]
    },
    {
     "name": "stdout",
     "output_type": "stream",
     "text": [
      "2483\n",
      "outer_poly [(512, 393), (675, 358), (678, 625), (511, 619)]\n",
      "2484\n",
      "outer_poly [(545, 450), (654, 421), (658, 647), (547, 643)]\n",
      "2485\n",
      "outer_poly [(536, 348), (701, 260), (709, 690), (535, 669)]\n",
      "2486\n",
      "outer_poly [(495, 314), (785, 273), (786, 654), (490, 634)]\n",
      "2487\n",
      "outer_poly [(515, 352), (667, 335), (669, 543), (517, 538)]\n"
     ]
    },
    {
     "name": "stderr",
     "output_type": "stream",
     "text": [
      "\r",
      " 50%|█████     | 2490/4943 [01:36<01:41, 24.05it/s]"
     ]
    },
    {
     "name": "stdout",
     "output_type": "stream",
     "text": [
      "2488\n",
      "outer_poly [(298, 451), (381, 435), (380, 646), (296, 635)]\n",
      "2489\n",
      "outer_poly [(485, 400), (581, 381), (579, 603), (481, 591)]\n",
      "2490\n",
      "outer_poly [(415, 150), (931, 3), (1008, 3), (1023, 849), (405, 749)]\n",
      "2491\n",
      "outer_poly [(359, 286), (681, 236), (676, 702), (347, 662)]\n",
      "2492\n",
      "outer_poly [(727, 404), (732, 737), (625, 729), (624, 470)]\n"
     ]
    },
    {
     "name": "stderr",
     "output_type": "stream",
     "text": [
      " 50%|█████     | 2496/4943 [01:36<01:47, 22.84it/s]"
     ]
    },
    {
     "name": "stdout",
     "output_type": "stream",
     "text": [
      "2493\n",
      "outer_poly [(627, 296), (806, 272), (810, 520), (628, 510)]\n",
      "2494\n",
      "outer_poly [(544, 204), (754, 336), (757, 711), (530, 717)]\n",
      "2495\n",
      "outer_poly [(402, 271), (840, 272), (861, 713), (389, 718)]\n",
      "2496\n",
      "outer_poly [(683, 291), (898, 308), (892, 533), (677, 540)]\n",
      "2497\n",
      "outer_poly [(447, 250), (612, 0), (630, 720), (443, 705)]\n"
     ]
    },
    {
     "name": "stderr",
     "output_type": "stream",
     "text": [
      " 51%|█████     | 2502/4943 [01:36<01:41, 23.97it/s]"
     ]
    },
    {
     "name": "stdout",
     "output_type": "stream",
     "text": [
      "2498\n",
      "outer_poly [(292, 91), (832, 196), (832, 732), (278, 799)]\n",
      "2499\n",
      "outer_poly [(509, 300), (748, 326), (745, 598), (504, 611)]\n",
      "2500\n",
      "outer_poly [(790, 312), (996, 337), (1002, 600), (787, 615)]\n",
      "2501\n",
      "outer_poly [(480, 239), (802, 270), (801, 598), (475, 620)]\n",
      "2502\n",
      "outer_poly [(534, 399), (830, 424), (826, 727), (522, 721)]\n",
      "2503\n",
      "outer_poly [(483, 253), (847, 241), (871, 610), (485, 621)]\n"
     ]
    },
    {
     "name": "stderr",
     "output_type": "stream",
     "text": [
      " 51%|█████     | 2508/4943 [01:37<01:36, 25.23it/s]"
     ]
    },
    {
     "name": "stdout",
     "output_type": "stream",
     "text": [
      "2504\n",
      "outer_poly [(562, 280), (887, 292), (886, 617), (559, 620)]\n",
      "2505\n",
      "outer_poly [(344, 0), (336, 606), (979, 610), (983, 0)]\n",
      "2506\n",
      "outer_poly [(540, 239), (820, 324), (820, 690), (526, 715)]\n",
      "2507\n",
      "outer_poly [(580, 299), (779, 314), (776, 529), (577, 534)]\n",
      "2508\n",
      "outer_poly [(345, 83), (897, 128), (885, 656), (345, 676)]\n",
      "2509\n"
     ]
    },
    {
     "name": "stderr",
     "output_type": "stream",
     "text": [
      " 51%|█████     | 2514/4943 [01:37<01:37, 24.91it/s]"
     ]
    },
    {
     "name": "stdout",
     "output_type": "stream",
     "text": [
      "outer_poly [(519, 379), (787, 368), (789, 649), (518, 643)]\n",
      "2510\n",
      "outer_poly [(609, 341), (882, 347), (886, 627), (609, 628)]\n",
      "2511\n",
      "outer_poly [(386, 149), (949, 171), (951, 725), (379, 736)]\n",
      "2512\n",
      "outer_poly [(537, 337), (829, 330), (833, 632), (536, 628)]\n",
      "2513\n",
      "outer_poly [(488, 303), (841, 289), (845, 659), (483, 654)]\n",
      "2514\n",
      "outer_poly [(645, 408), (713, 386), (716, 590), (647, 578)]\n"
     ]
    },
    {
     "name": "stderr",
     "output_type": "stream",
     "text": [
      " 51%|█████     | 2520/4943 [01:37<01:29, 27.07it/s]"
     ]
    },
    {
     "name": "stdout",
     "output_type": "stream",
     "text": [
      "2515\n",
      "outer_poly [(611, 415), (715, 395), (715, 588), (612, 583)]\n",
      "2516\n",
      "outer_poly [(598, 328), (849, 326), (852, 578), (599, 577)]\n",
      "2517\n",
      "outer_poly [(463, 15), (667, 272), (674, 754), (448, 814)]\n",
      "2518\n",
      "outer_poly [(421, 383), (717, 391), (718, 686), (416, 690)]\n",
      "2519\n",
      "outer_poly [(473, 437), (633, 407), (639, 651), (473, 648)]\n",
      "2520\n",
      "outer_poly [(604, 357), (756, 292), (761, 646), (604, 635)]\n",
      "2521\n"
     ]
    },
    {
     "name": "stderr",
     "output_type": "stream",
     "text": [
      " 51%|█████     | 2526/4943 [01:37<01:27, 27.47it/s]"
     ]
    },
    {
     "name": "stdout",
     "output_type": "stream",
     "text": [
      "outer_poly [(466, 229), (641, 354), (638, 707), (451, 716)]\n",
      "2522\n",
      "outer_poly [(369, 210), (732, 97), (745, 728), (373, 665)]\n",
      "2523\n",
      "outer_poly [(474, 206), (650, 31), (659, 779), (480, 665)]\n",
      "2524\n",
      "outer_poly [(468, 255), (763, 260), (766, 553), (474, 559)]\n",
      "2525\n",
      "outer_poly [(333, 193), (781, 151), (784, 677), (342, 644)]\n",
      "2526\n",
      "outer_poly [(635, 307), (829, 335), (832, 595), (638, 616)]\n"
     ]
    },
    {
     "name": "stderr",
     "output_type": "stream",
     "text": [
      " 51%|█████     | 2532/4943 [01:37<01:27, 27.64it/s]"
     ]
    },
    {
     "name": "stdout",
     "output_type": "stream",
     "text": [
      "2527\n",
      "outer_poly [(553, 354), (828, 353), (831, 631), (550, 631)]\n",
      "2528\n",
      "outer_poly [(564, 340), (847, 308), (855, 672), (567, 655)]\n",
      "2529\n",
      "outer_poly [(365, 293), (639, 317), (639, 598), (358, 602)]\n",
      "2530\n",
      "outer_poly [(363, 145), (900, 171), (908, 702), (349, 717)]\n",
      "2531\n",
      "outer_poly [(389, 302), (724, 309), (723, 645), (381, 642)]\n",
      "2532\n",
      "outer_poly [(329, 230), (778, 242), (780, 688), (315, 690)]\n"
     ]
    },
    {
     "name": "stderr",
     "output_type": "stream",
     "text": [
      " 51%|█████▏    | 2538/4943 [01:38<01:32, 26.07it/s]"
     ]
    },
    {
     "name": "stdout",
     "output_type": "stream",
     "text": [
      "2533\n",
      "outer_poly [(291, 198), (803, 192), (805, 721), (273, 711)]\n",
      "2534\n",
      "outer_poly [(497, 161), (671, 0), (720, 0), (726, 743), (500, 638)]\n",
      "2535\n",
      "outer_poly [(565, 313), (766, 374), (769, 676), (565, 698)]\n",
      "2536\n",
      "outer_poly [(465, 188), (747, 302), (750, 704), (453, 746)]\n",
      "2537\n",
      "outer_poly [(398, 91), (945, 169), (968, 718), (390, 751)]\n",
      "2538\n"
     ]
    },
    {
     "name": "stderr",
     "output_type": "stream",
     "text": [
      "\r",
      " 51%|█████▏    | 2541/4943 [01:38<01:30, 26.56it/s]"
     ]
    },
    {
     "name": "stdout",
     "output_type": "stream",
     "text": [
      "outer_poly [(390, 278), (753, 315), (759, 680), (381, 693)]\n",
      "2539\n",
      "outer_poly [(481, 383), (732, 390), (733, 642), (477, 644)]\n",
      "2540\n",
      "outer_poly [(619, 342), (875, 317), (884, 612), (621, 607)]\n",
      "2541\n",
      "outer_poly [(434, 200), (808, 229), (817, 603), (428, 607)]\n",
      "2542\n",
      "outer_poly [(435, 397), (714, 389), (716, 686), (426, 681)]\n",
      "2543\n",
      "outer_poly [(490, 357), (803, 331), (811, 684), (485, 676)]\n"
     ]
    },
    {
     "name": "stderr",
     "output_type": "stream",
     "text": [
      " 52%|█████▏    | 2547/4943 [01:38<01:33, 25.50it/s]"
     ]
    },
    {
     "name": "stdout",
     "output_type": "stream",
     "text": [
      "2544\n",
      "outer_poly [(456, 255), (811, 139), (825, 710), (446, 676)]\n",
      "2545\n",
      "outer_poly [(532, 292), (782, 170), (801, 703), (532, 678)]\n",
      "2546\n",
      "outer_poly [(769, 226), (548, 325), (547, 666), (781, 684)]\n",
      "2547\n",
      "outer_poly [(459, 365), (619, 285), (624, 687), (458, 670)]\n",
      "2548\n",
      "outer_poly [(603, 246), (796, 40), (814, 737), (605, 687)]\n"
     ]
    },
    {
     "name": "stderr",
     "output_type": "stream",
     "text": [
      " 52%|█████▏    | 2553/4943 [01:38<01:38, 24.36it/s]"
     ]
    },
    {
     "name": "stdout",
     "output_type": "stream",
     "text": [
      "2549\n",
      "outer_poly [(432, 118), (1081, 54), (1096, 772), (421, 736)]\n",
      "2550\n",
      "outer_poly [(575, 329), (701, 155), (706, 769), (575, 725)]\n",
      "2551\n",
      "outer_poly [(576, 436), (758, 481), (762, 742), (573, 745)]\n",
      "2552\n",
      "outer_poly [(444, 64), (931, 188), (947, 699), (415, 718)]\n",
      "2553\n",
      "outer_poly [(571, 423), (708, 399), (714, 627), (573, 617)]\n"
     ]
    },
    {
     "name": "stderr",
     "output_type": "stream",
     "text": [
      "\r",
      " 52%|█████▏    | 2556/4943 [01:38<01:38, 24.14it/s]"
     ]
    },
    {
     "name": "stdout",
     "output_type": "stream",
     "text": [
      "2554\n",
      "outer_poly [(520, 278), (789, 152), (804, 745), (522, 684)]\n",
      "2555\n",
      "outer_poly [(488, 354), (864, 358), (876, 742), (479, 742)]\n",
      "2556\n",
      "outer_poly [(619, 461), (697, 383), (702, 747), (623, 733)]\n",
      "2557\n",
      "outer_poly [(537, 153), (768, 317), (769, 723), (518, 731)]\n",
      "2558\n",
      "outer_poly [(588, 304), (903, 342), (908, 685), (589, 710)]\n"
     ]
    },
    {
     "name": "stderr",
     "output_type": "stream",
     "text": [
      " 52%|█████▏    | 2562/4943 [01:39<01:36, 24.69it/s]"
     ]
    },
    {
     "name": "stdout",
     "output_type": "stream",
     "text": [
      "2559\n",
      "outer_poly [(449, 227), (588, 299), (578, 582), (432, 604)]\n",
      "2560\n",
      "outer_poly [(459, 355), (745, 367), (745, 657), (452, 657)]\n",
      "2561\n",
      "outer_poly [(250, 63), (891, 33), (972, 688), (212, 719)]\n",
      "2562\n",
      "outer_poly [(582, 151), (1105, 112), (1121, 665), (575, 651)]\n",
      "2563\n",
      "outer_poly [(467, 244), (874, 221), (881, 660), (461, 647)]\n",
      "2564\n"
     ]
    },
    {
     "name": "stderr",
     "output_type": "stream",
     "text": [
      " 52%|█████▏    | 2568/4943 [01:39<01:30, 26.28it/s]"
     ]
    },
    {
     "name": "stdout",
     "output_type": "stream",
     "text": [
      "outer_poly [(507, 319), (828, 319), (829, 648), (499, 639)]\n",
      "2565\n",
      "outer_poly [(457, 135), (939, 164), (930, 639), (453, 648)]\n",
      "2566\n",
      "outer_poly [(285, 79), (998, 35), (980, 820), (279, 754)]\n",
      "2567\n",
      "outer_poly [(552, 325), (745, 356), (745, 609), (555, 622)]\n",
      "2568\n",
      "outer_poly [(546, 282), (837, 191), (849, 723), (548, 670)]\n",
      "2569\n",
      "outer_poly [(455, 284), (747, 208), (760, 654), (456, 636)]\n",
      "2570\n"
     ]
    },
    {
     "name": "stderr",
     "output_type": "stream",
     "text": [
      " 52%|█████▏    | 2574/4943 [01:39<01:26, 27.35it/s]"
     ]
    },
    {
     "name": "stdout",
     "output_type": "stream",
     "text": [
      "outer_poly [(369, 130), (855, 240), (871, 747), (339, 772)]\n",
      "2571\n",
      "outer_poly [(436, 395), (713, 373), (715, 685), (430, 682)]\n",
      "2572\n",
      "outer_poly [(354, 317), (657, 354), (662, 659), (348, 661)]\n",
      "2573\n",
      "outer_poly [(425, 370), (764, 347), (783, 711), (420, 712)]\n",
      "2574\n",
      "outer_poly [(606, 408), (750, 344), (767, 673), (612, 662)]\n",
      "2575\n",
      "outer_poly [(604, 507), (799, 500), (807, 702), (606, 707)]\n"
     ]
    },
    {
     "name": "stderr",
     "output_type": "stream",
     "text": [
      " 52%|█████▏    | 2580/4943 [01:39<01:28, 26.72it/s]"
     ]
    },
    {
     "name": "stdout",
     "output_type": "stream",
     "text": [
      "2576\n",
      "outer_poly [(573, 448), (711, 449), (716, 599), (574, 605)]\n",
      "2577\n",
      "outer_poly [(534, 341), (719, 339), (721, 526), (534, 525)]\n",
      "2578\n",
      "outer_poly [(497, 335), (682, 332), (682, 519), (498, 518)]\n",
      "2579\n",
      "outer_poly [(318, 300), (570, 239), (575, 670), (321, 638)]\n",
      "2580\n",
      "outer_poly [(462, 277), (736, 341), (740, 705), (462, 767)]\n",
      "2581\n"
     ]
    },
    {
     "name": "stderr",
     "output_type": "stream",
     "text": [
      " 52%|█████▏    | 2586/4943 [01:40<01:31, 25.65it/s]"
     ]
    },
    {
     "name": "stdout",
     "output_type": "stream",
     "text": [
      "outer_poly [(462, 213), (670, 250), (672, 536), (467, 570)]\n",
      "2582\n",
      "outer_poly [(530, 241), (796, 262), (796, 548), (531, 566)]\n",
      "2583\n",
      "outer_poly [(479, 150), (955, 182), (955, 659), (484, 700)]\n",
      "2584\n",
      "outer_poly [(507, 164), (976, 183), (978, 644), (511, 669)]\n",
      "2585\n",
      "outer_poly [(472, 276), (717, 243), (721, 596), (480, 570)]\n",
      "2586\n",
      "outer_poly [(551, 274), (726, 231), (731, 616), (557, 575)]\n"
     ]
    },
    {
     "name": "stderr",
     "output_type": "stream",
     "text": [
      "\r",
      " 52%|█████▏    | 2589/4943 [01:40<01:35, 24.73it/s]"
     ]
    },
    {
     "name": "stdout",
     "output_type": "stream",
     "text": [
      "2587\n",
      "outer_poly [(386, 438), (530, 420), (536, 641), (386, 633)]\n",
      "2588\n",
      "outer_poly [(566, 378), (657, 310), (661, 717), (569, 675)]\n",
      "2589\n",
      "outer_poly [(383, 121), (959, 127), (968, 703), (374, 704)]\n",
      "2590\n",
      "outer_poly [(389, 62), (679, 220), (676, 662), (374, 736)]\n",
      "2591\n",
      "outer_poly [(332, 198), (770, 191), (773, 641), (326, 634)]\n"
     ]
    },
    {
     "name": "stderr",
     "output_type": "stream",
     "text": [
      " 52%|█████▏    | 2595/4943 [01:40<01:37, 24.02it/s]"
     ]
    },
    {
     "name": "stdout",
     "output_type": "stream",
     "text": [
      "2592\n",
      "outer_poly [(403, 267), (654, 202), (653, 628), (405, 595)]\n",
      "2593\n",
      "outer_poly [(514, 406), (716, 425), (717, 645), (510, 654)]\n",
      "2594\n",
      "outer_poly [(676, 383), (679, 648), (414, 653), (421, 364)]\n",
      "2595\n",
      "outer_poly [(541, 374), (825, 372), (829, 658), (538, 658)]\n",
      "2596\n",
      "outer_poly [(244, 350), (507, 338), (506, 617), (241, 619)]\n"
     ]
    },
    {
     "name": "stderr",
     "output_type": "stream",
     "text": [
      " 53%|█████▎    | 2601/4943 [01:40<01:36, 24.22it/s]"
     ]
    },
    {
     "name": "stdout",
     "output_type": "stream",
     "text": [
      "2597\n",
      "outer_poly [(394, 18), (1050, 103), (1134, 762), (355, 791)]\n",
      "2598\n",
      "outer_poly [(542, 281), (819, 227), (826, 586), (543, 582)]\n",
      "2599\n",
      "outer_poly [(518, 265), (756, 230), (756, 536), (516, 528)]\n",
      "2600\n",
      "outer_poly [(493, 425), (724, 408), (728, 668), (491, 667)]\n",
      "2601\n",
      "outer_poly [(511, 308), (787, 224), (798, 680), (509, 658)]\n"
     ]
    },
    {
     "name": "stderr",
     "output_type": "stream",
     "text": [
      "\r",
      " 53%|█████▎    | 2604/4943 [01:40<01:35, 24.49it/s]"
     ]
    },
    {
     "name": "stdout",
     "output_type": "stream",
     "text": [
      "2602\n",
      "outer_poly [(427, 102), (907, 178), (905, 665), (407, 690)]\n",
      "2603\n",
      "outer_poly [(535, 277), (775, 296), (774, 549), (532, 553)]\n",
      "2604\n",
      "outer_poly [(609, 236), (805, 17), (827, 745), (606, 690)]\n",
      "2605\n",
      "outer_poly [(735, 456), (736, 754), (588, 763), (596, 377)]\n",
      "2606\n",
      "outer_poly [(555, 376), (674, 358), (679, 537), (560, 536)]\n"
     ]
    },
    {
     "name": "stderr",
     "output_type": "stream",
     "text": [
      " 53%|█████▎    | 2610/4943 [01:41<01:37, 24.01it/s]"
     ]
    },
    {
     "name": "stdout",
     "output_type": "stream",
     "text": [
      "2607\n",
      "outer_poly [(418, 274), (863, 297), (877, 745), (395, 743)]\n",
      "2608\n",
      "outer_poly [(432, 405), (630, 387), (630, 653), (429, 639)]\n",
      "2609\n",
      "outer_poly [(563, 242), (863, 221), (869, 552), (566, 536)]\n",
      "2610\n",
      "outer_poly [(506, 159), (962, 71), (966, 693), (514, 630)]\n",
      "2611\n",
      "outer_poly [(562, 249), (814, 203), (814, 588), (565, 555)]\n"
     ]
    },
    {
     "name": "stderr",
     "output_type": "stream",
     "text": [
      " 53%|█████▎    | 2616/4943 [01:41<01:38, 23.54it/s]"
     ]
    },
    {
     "name": "stdout",
     "output_type": "stream",
     "text": [
      "2612\n",
      "outer_poly [(611, 366), (766, 442), (772, 729), (602, 733)]\n",
      "2613\n",
      "outer_poly [(366, 206), (809, 247), (831, 689), (351, 699)]\n",
      "2614\n",
      "outer_poly [(613, 295), (830, 310), (825, 538), (607, 540)]\n",
      "2615\n",
      "outer_poly [(407, 369), (713, 372), (721, 679), (401, 682)]\n",
      "2616\n",
      "outer_poly [(417, 392), (700, 393), (709, 678), (410, 682)]\n"
     ]
    },
    {
     "name": "stderr",
     "output_type": "stream",
     "text": [
      "\r",
      " 53%|█████▎    | 2619/4943 [01:41<01:39, 23.46it/s]"
     ]
    },
    {
     "name": "stdout",
     "output_type": "stream",
     "text": [
      "2617\n",
      "outer_poly [(502, 158), (1028, 203), (1025, 727), (488, 746)]\n",
      "2618\n",
      "outer_poly [(501, 348), (692, 383), (683, 612), (483, 617)]\n",
      "2619\n",
      "outer_poly [(443, 287), (643, 338), (632, 605), (426, 612)]\n",
      "2620\n",
      "outer_poly [(360, 272), (819, 279), (818, 735), (356, 736)]\n",
      "2621\n",
      "outer_poly [(426, 56), (1172, 27), (1197, 806), (403, 788)]\n"
     ]
    },
    {
     "name": "stderr",
     "output_type": "stream",
     "text": [
      " 53%|█████▎    | 2625/4943 [01:41<01:41, 22.88it/s]"
     ]
    },
    {
     "name": "stdout",
     "output_type": "stream",
     "text": [
      "2622\n",
      "outer_poly [(315, 58), (882, 164), (909, 723), (267, 738)]\n",
      "2623\n",
      "outer_poly [(334, 233), (752, 228), (752, 660), (327, 648)]\n",
      "2624\n",
      "outer_poly [(448, 20), (747, 0), (1119, 2), (1151, 680), (443, 679)]\n",
      "2625\n",
      "outer_poly [(558, 299), (761, 273), (758, 578), (556, 554)]\n",
      "2626\n",
      "outer_poly [(451, 436), (608, 417), (610, 659), (450, 645)]\n"
     ]
    },
    {
     "name": "stderr",
     "output_type": "stream",
     "text": [
      " 53%|█████▎    | 2631/4943 [01:41<01:42, 22.64it/s]"
     ]
    },
    {
     "name": "stdout",
     "output_type": "stream",
     "text": [
      "2627\n",
      "outer_poly [(407, 371), (578, 338), (578, 651), (406, 626)]\n",
      "2628\n",
      "outer_poly [(445, 376), (552, 358), (553, 575), (445, 562)]\n",
      "2629\n",
      "outer_poly [(323, 105), (968, 132), (974, 769), (306, 779)]\n",
      "2630\n",
      "outer_poly [(426, 174), (904, 178), (914, 659), (417, 661)]\n",
      "2631\n",
      "outer_poly [(503, 259), (755, 322), (759, 644), (499, 662)]\n"
     ]
    },
    {
     "name": "stderr",
     "output_type": "stream",
     "text": [
      "\r",
      " 53%|█████▎    | 2634/4943 [01:42<01:42, 22.52it/s]"
     ]
    },
    {
     "name": "stdout",
     "output_type": "stream",
     "text": [
      "2632\n",
      "outer_poly [(557, 474), (679, 447), (687, 656), (559, 655)]\n",
      "2633\n",
      "outer_poly [(444, 83), (695, 315), (701, 778), (412, 799)]\n",
      "2634\n",
      "outer_poly [(486, 302), (635, 406), (639, 729), (481, 739)]\n",
      "2635\n",
      "outer_poly [(563, 500), (756, 496), (763, 692), (569, 695)]\n",
      "2636\n",
      "outer_poly [(403, 336), (555, 337), (555, 490), (401, 490)]\n"
     ]
    },
    {
     "name": "stderr",
     "output_type": "stream",
     "text": [
      " 53%|█████▎    | 2640/4943 [01:42<01:33, 24.68it/s]"
     ]
    },
    {
     "name": "stdout",
     "output_type": "stream",
     "text": [
      "2637\n",
      "outer_poly [(588, 365), (938, 348), (953, 706), (596, 709)]\n",
      "2638\n",
      "outer_poly [(452, 284), (826, 250), (832, 674), (453, 659)]\n",
      "2639\n",
      "outer_poly [(512, 233), (805, 257), (805, 567), (515, 589)]\n",
      "2640\n",
      "outer_poly [(528, 289), (773, 275), (777, 545), (532, 540)]\n",
      "2641\n",
      "outer_poly [(850, 381), (848, 632), (611, 638), (620, 364)]\n",
      "2642\n",
      "outer_poly [(345, 213), (888, 178), (895, 775), (338, 750)]\n"
     ]
    },
    {
     "name": "stderr",
     "output_type": "stream",
     "text": [
      " 54%|█████▎    | 2646/4943 [01:42<01:31, 25.05it/s]"
     ]
    },
    {
     "name": "stdout",
     "output_type": "stream",
     "text": [
      "2643\n",
      "outer_poly [(436, 325), (779, 300), (786, 690), (438, 673)]\n",
      "2644\n",
      "outer_poly [(550, 445), (671, 428), (677, 634), (551, 622)]\n",
      "2645\n",
      "outer_poly [(508, 276), (795, 306), (796, 611), (502, 621)]\n",
      "2646\n",
      "outer_poly [(327, 199), (825, 210), (829, 706), (316, 710)]\n",
      "2647\n",
      "outer_poly [(407, 220), (816, 184), (815, 663), (397, 639)]\n",
      "2648\n"
     ]
    },
    {
     "name": "stderr",
     "output_type": "stream",
     "text": [
      " 54%|█████▎    | 2652/4943 [01:42<01:30, 25.20it/s]"
     ]
    },
    {
     "name": "stdout",
     "output_type": "stream",
     "text": [
      "outer_poly [(521, 343), (603, 307), (608, 568), (523, 555)]\n",
      "2649\n",
      "outer_poly [(431, 250), (636, 342), (636, 687), (421, 718)]\n",
      "2650\n",
      "outer_poly [(380, 245), (663, 338), (666, 706), (366, 739)]\n",
      "2651\n",
      "outer_poly [(430, 200), (822, 277), (834, 704), (423, 736)]\n",
      "2652\n",
      "outer_poly [(343, 124), (919, 55), (940, 713), (337, 690)]\n",
      "2653\n"
     ]
    },
    {
     "name": "stderr",
     "output_type": "stream",
     "text": [
      " 54%|█████▍    | 2658/4943 [01:43<01:28, 25.77it/s]"
     ]
    },
    {
     "name": "stdout",
     "output_type": "stream",
     "text": [
      "outer_poly [(462, 283), (770, 160), (791, 733), (465, 698)]\n",
      "2654\n",
      "outer_poly [(637, 321), (790, 360), (795, 585), (638, 588)]\n",
      "2655\n",
      "outer_poly [(725, 433), (837, 395), (846, 659), (729, 647)]\n",
      "2656\n",
      "outer_poly [(846, 202), (860, 650), (420, 656), (442, 76)]\n",
      "2657\n",
      "outer_poly [(441, 13), (711, 251), (707, 731), (406, 787)]\n",
      "2658\n",
      "outer_poly [(483, 40), (904, 199), (922, 688), (466, 710)]\n"
     ]
    },
    {
     "name": "stderr",
     "output_type": "stream",
     "text": [
      " 54%|█████▍    | 2664/4943 [01:43<01:26, 26.23it/s]"
     ]
    },
    {
     "name": "stdout",
     "output_type": "stream",
     "text": [
      "2659\n",
      "outer_poly [(373, 153), (872, 216), (887, 713), (351, 724)]\n",
      "2660\n",
      "outer_poly [(555, 313), (770, 340), (771, 573), (550, 577)]\n",
      "2661\n",
      "outer_poly [(495, 220), (917, 184), (939, 635), (495, 636)]\n",
      "2662\n",
      "outer_poly [(549, 284), (760, 311), (757, 550), (542, 556)]\n",
      "2663\n",
      "outer_poly [(893, 160), (909, 735), (390, 712), (404, 222)]\n",
      "2664\n",
      "outer_poly [(442, 171), (861, 223), (880, 653), (439, 672)]\n"
     ]
    },
    {
     "name": "stderr",
     "output_type": "stream",
     "text": [
      " 54%|█████▍    | 2670/4943 [01:43<01:26, 26.27it/s]"
     ]
    },
    {
     "name": "stdout",
     "output_type": "stream",
     "text": [
      "2665\n",
      "outer_poly [(710, 402), (713, 685), (452, 676), (456, 417)]\n",
      "2666\n",
      "outer_poly [(467, 401), (649, 376), (648, 652), (461, 632)]\n",
      "2667\n",
      "outer_poly [(605, 446), (691, 353), (695, 745), (603, 732)]\n",
      "2668\n",
      "outer_poly [(575, 353), (737, 428), (743, 725), (571, 729)]\n",
      "2669\n",
      "outer_poly [(481, 160), (1038, 182), (1032, 731), (478, 743)]\n",
      "2670\n",
      "outer_poly [(673, 303), (917, 316), (914, 576), (674, 582)]\n"
     ]
    },
    {
     "name": "stderr",
     "output_type": "stream",
     "text": [
      " 54%|█████▍    | 2676/4943 [01:43<01:27, 26.05it/s]"
     ]
    },
    {
     "name": "stdout",
     "output_type": "stream",
     "text": [
      "2671\n",
      "outer_poly [(651, 314), (850, 334), (845, 579), (647, 594)]\n",
      "2672\n",
      "outer_poly [(349, 292), (606, 187), (615, 662), (346, 657)]\n",
      "2673\n",
      "outer_poly [(443, 387), (621, 332), (627, 648), (441, 648)]\n",
      "2674\n",
      "outer_poly [(155, 6), (150, 250), (147, 864), (776, 864), (988, 822), (982, 61), (768, 3)]\n",
      "2675\n",
      "outer_poly [(442, 362), (698, 388), (701, 662), (440, 677)]\n",
      "2676\n"
     ]
    },
    {
     "name": "stderr",
     "output_type": "stream",
     "text": [
      "\r",
      " 54%|█████▍    | 2679/4943 [01:43<01:27, 25.86it/s]"
     ]
    },
    {
     "name": "stdout",
     "output_type": "stream",
     "text": [
      "outer_poly [(550, 334), (800, 374), (807, 679), (551, 709)]\n",
      "2677\n",
      "outer_poly [(564, 270), (810, 332), (816, 685), (561, 726)]\n",
      "2678\n",
      "outer_poly [(234, 79), (815, 174), (818, 735), (202, 769)]\n",
      "2679\n",
      "outer_poly [(364, 189), (765, 235), (763, 648), (361, 690)]\n",
      "2680\n",
      "outer_poly [(244, 186), (676, 222), (678, 642), (244, 682)]\n",
      "2681\n",
      "outer_poly [(565, 444), (821, 453), (817, 713), (555, 703)]\n"
     ]
    },
    {
     "name": "stderr",
     "output_type": "stream",
     "text": [
      " 54%|█████▍    | 2685/4943 [01:44<01:26, 26.20it/s]"
     ]
    },
    {
     "name": "stdout",
     "output_type": "stream",
     "text": [
      "2682\n",
      "outer_poly [(500, 461), (759, 460), (767, 722), (497, 724)]\n",
      "2683\n",
      "outer_poly [(575, 325), (835, 315), (839, 583), (577, 582)]\n",
      "2684\n",
      "outer_poly [(387, 228), (815, 232), (824, 658), (378, 666)]\n",
      "2685\n",
      "outer_poly [(868, 392), (1047, 419), (1080, 818), (892, 829)]\n",
      "2686\n",
      "outer_poly [(440, 181), (901, 112), (923, 659), (439, 645)]\n",
      "2687\n"
     ]
    },
    {
     "name": "stderr",
     "output_type": "stream",
     "text": [
      " 54%|█████▍    | 2691/4943 [01:44<01:27, 25.79it/s]"
     ]
    },
    {
     "name": "stdout",
     "output_type": "stream",
     "text": [
      "outer_poly [(609, 106), (927, 225), (920, 676), (602, 769)]\n",
      "2688\n",
      "outer_poly [(517, 244), (793, 247), (788, 522), (514, 517)]\n",
      "2689\n",
      "outer_poly [(512, 258), (767, 250), (765, 518), (510, 513)]\n",
      "2690\n",
      "outer_poly [(535, 352), (745, 315), (749, 639), (531, 620)]\n",
      "2691\n",
      "outer_poly [(477, 331), (689, 406), (694, 711), (470, 721)]\n",
      "2692\n",
      "outer_poly [(438, 377), (726, 384), (735, 669), (438, 678)]\n"
     ]
    },
    {
     "name": "stderr",
     "output_type": "stream",
     "text": [
      " 55%|█████▍    | 2697/4943 [01:44<01:28, 25.30it/s]"
     ]
    },
    {
     "name": "stdout",
     "output_type": "stream",
     "text": [
      "2693\n",
      "outer_poly [(446, 44), (712, 298), (722, 777), (410, 801)]\n",
      "2694\n",
      "outer_poly [(514, 303), (727, 376), (730, 669), (502, 672)]\n",
      "2695\n",
      "outer_poly [(540, 340), (728, 339), (729, 523), (541, 524)]\n",
      "2696\n",
      "outer_poly [(422, 392), (628, 392), (629, 598), (421, 600)]\n",
      "2697\n",
      "outer_poly [(586, 277), (811, 329), (814, 667), (586, 718)]\n",
      "2698\n"
     ]
    },
    {
     "name": "stderr",
     "output_type": "stream",
     "text": [
      " 55%|█████▍    | 2703/4943 [01:44<01:29, 25.03it/s]"
     ]
    },
    {
     "name": "stdout",
     "output_type": "stream",
     "text": [
      "outer_poly [(519, 177), (967, 195), (964, 634), (524, 652)]\n",
      "2699\n",
      "outer_poly [(416, 245), (759, 219), (761, 613), (422, 594)]\n",
      "2700\n",
      "outer_poly [(588, 299), (796, 333), (797, 605), (590, 628)]\n",
      "2701\n",
      "outer_poly [(466, 322), (801, 316), (802, 661), (463, 656)]\n",
      "2702\n",
      "outer_poly [(424, 383), (659, 371), (661, 629), (423, 627)]\n",
      "2703\n"
     ]
    },
    {
     "name": "stderr",
     "output_type": "stream",
     "text": [
      "\r",
      " 55%|█████▍    | 2706/4943 [01:44<01:33, 23.97it/s]"
     ]
    },
    {
     "name": "stdout",
     "output_type": "stream",
     "text": [
      "outer_poly [(366, 136), (811, 212), (815, 669), (358, 703)]\n",
      "2704\n",
      "outer_poly [(452, 345), (709, 352), (710, 612), (447, 609)]\n",
      "2705\n",
      "outer_poly [(450, 242), (827, 205), (831, 637), (447, 620)]\n",
      "2706\n",
      "outer_poly [(413, 311), (599, 272), (601, 576), (412, 562)]\n",
      "2707\n",
      "outer_poly [(535, 323), (678, 286), (680, 575), (533, 560)]\n"
     ]
    },
    {
     "name": "stderr",
     "output_type": "stream",
     "text": [
      " 55%|█████▍    | 2712/4943 [01:45<01:36, 23.00it/s]"
     ]
    },
    {
     "name": "stdout",
     "output_type": "stream",
     "text": [
      "2708\n",
      "outer_poly [(364, 159), (588, 0), (631, 3), (640, 731), (366, 643)]\n",
      "2709\n",
      "outer_poly [(553, 341), (730, 394), (730, 669), (548, 689)]\n",
      "2710\n",
      "outer_poly [(492, 372), (679, 419), (680, 677), (488, 696)]\n",
      "2711\n",
      "outer_poly [(476, 338), (691, 245), (701, 717), (480, 689)]\n",
      "2712\n",
      "outer_poly [(527, 407), (613, 345), (619, 692), (528, 674)]\n"
     ]
    },
    {
     "name": "stderr",
     "output_type": "stream",
     "text": [
      " 55%|█████▍    | 2718/4943 [01:45<01:31, 24.32it/s]"
     ]
    },
    {
     "name": "stdout",
     "output_type": "stream",
     "text": [
      "2713\n",
      "outer_poly [(510, 203), (903, 168), (917, 586), (508, 588)]\n",
      "2714\n",
      "outer_poly [(582, 300), (726, 384), (727, 696), (576, 713)]\n",
      "2715\n",
      "outer_poly [(642, 299), (822, 357), (828, 625), (641, 634)]\n",
      "2716\n",
      "outer_poly [(367, 75), (945, 155), (971, 729), (348, 763)]\n",
      "2717\n",
      "outer_poly [(582, 401), (743, 353), (746, 665), (581, 651)]\n",
      "2718\n"
     ]
    },
    {
     "name": "stderr",
     "output_type": "stream",
     "text": [
      "\r",
      " 55%|█████▌    | 2721/4943 [01:45<01:29, 24.74it/s]"
     ]
    },
    {
     "name": "stdout",
     "output_type": "stream",
     "text": [
      "outer_poly [(605, 231), (808, 1), (834, 752), (612, 692)]\n",
      "2719\n",
      "outer_poly [(374, 126), (1022, 35), (1048, 808), (359, 751)]\n",
      "2720\n",
      "outer_poly [(349, 128), (996, 40), (1018, 803), (337, 756)]\n",
      "2721\n",
      "outer_poly [(553, 323), (897, 357), (910, 707), (549, 710)]\n",
      "2722\n",
      "outer_poly [(424, 395), (524, 375), (520, 602), (420, 587)]\n",
      "2723\n",
      "outer_poly [(347, 134), (992, 38), (1037, 808), (299, 775)]\n"
     ]
    },
    {
     "name": "stderr",
     "output_type": "stream",
     "text": [
      " 55%|█████▌    | 2727/4943 [01:45<01:25, 25.88it/s]"
     ]
    },
    {
     "name": "stdout",
     "output_type": "stream",
     "text": [
      "2724\n",
      "outer_poly [(461, 373), (691, 364), (687, 621), (455, 609)]\n",
      "2725\n",
      "outer_poly [(256, 96), (921, 80), (924, 785), (235, 757)]\n",
      "2726\n",
      "outer_poly [(527, 274), (662, 239), (669, 547), (534, 522)]\n",
      "2727\n",
      "outer_poly [(422, 69), (771, 261), (775, 720), (378, 731)]\n",
      "2728\n",
      "outer_poly [(624, 357), (767, 346), (765, 555), (624, 540)]\n",
      "2729\n",
      "outer_poly [(503, 346), (682, 334), (683, 564), (502, 552)]\n"
     ]
    },
    {
     "name": "stderr",
     "output_type": "stream",
     "text": [
      " 55%|█████▌    | 2733/4943 [01:45<01:23, 26.57it/s]"
     ]
    },
    {
     "name": "stdout",
     "output_type": "stream",
     "text": [
      "2730\n",
      "outer_poly [(482, 337), (775, 302), (790, 636), (487, 639)]\n",
      "2731\n",
      "outer_poly [(480, 459), (621, 433), (629, 640), (482, 642)]\n",
      "2732\n",
      "outer_poly [(443, 322), (647, 222), (656, 659), (442, 654)]\n",
      "2733\n",
      "outer_poly [(289, 45), (904, 166), (900, 767), (268, 841)]\n",
      "2734\n",
      "outer_poly [(590, 273), (887, 305), (888, 625), (589, 649)]\n",
      "2735\n",
      "outer_poly [(523, 197), (841, 264), (842, 664), (513, 707)]\n"
     ]
    },
    {
     "name": "stderr",
     "output_type": "stream",
     "text": [
      " 55%|█████▌    | 2739/4943 [01:46<01:18, 28.02it/s]"
     ]
    },
    {
     "name": "stdout",
     "output_type": "stream",
     "text": [
      "2736\n",
      "outer_poly [(426, 270), (608, 326), (596, 582), (406, 590)]\n",
      "2737\n",
      "outer_poly [(495, 348), (796, 354), (792, 653), (488, 648)]\n",
      "2738\n",
      "outer_poly [(325, 26), (1053, 78), (1058, 780), (307, 804)]\n",
      "2739\n",
      "outer_poly [(446, 358), (748, 359), (747, 670), (437, 661)]\n",
      "2740\n",
      "outer_poly [(289, 69), (1000, 95), (1027, 837), (224, 806)]\n",
      "2741\n",
      "outer_poly [(404, 359), (686, 362), (690, 651), (395, 645)]\n"
     ]
    },
    {
     "name": "stderr",
     "output_type": "stream",
     "text": [
      " 56%|█████▌    | 2745/4943 [01:46<01:17, 28.33it/s]"
     ]
    },
    {
     "name": "stdout",
     "output_type": "stream",
     "text": [
      "2742\n",
      "outer_poly [(426, 260), (802, 223), (813, 639), (434, 632)]\n",
      "2743\n",
      "outer_poly [(438, 363), (690, 374), (690, 623), (433, 623)]\n",
      "2744\n",
      "outer_poly [(451, 384), (706, 364), (712, 700), (455, 685)]\n",
      "2745\n",
      "outer_poly [(499, 126), (843, 244), (848, 694), (492, 761)]\n",
      "2746\n",
      "outer_poly [(419, 243), (879, 201), (883, 728), (416, 699)]\n",
      "2747\n",
      "outer_poly [(536, 439), (665, 417), (667, 634), (536, 626)]\n"
     ]
    },
    {
     "name": "stderr",
     "output_type": "stream",
     "text": [
      " 56%|█████▌    | 2752/4943 [01:46<01:14, 29.22it/s]"
     ]
    },
    {
     "name": "stdout",
     "output_type": "stream",
     "text": [
      "2748\n",
      "outer_poly [(581, 423), (700, 395), (698, 648), (578, 634)]\n",
      "2749\n",
      "outer_poly [(387, 197), (707, 30), (714, 702), (383, 652)]\n",
      "2750\n",
      "outer_poly [(767, 153), (784, 669), (475, 643), (474, 261)]\n",
      "2751\n",
      "outer_poly [(422, 229), (724, 344), (730, 743), (405, 768)]\n",
      "2752\n",
      "outer_poly [(556, 386), (640, 322), (643, 650), (560, 636)]\n",
      "2753\n",
      "outer_poly [(377, 240), (915, 188), (956, 776), (359, 781)]\n",
      "2754\n"
     ]
    },
    {
     "name": "stderr",
     "output_type": "stream",
     "text": [
      " 56%|█████▌    | 2758/4943 [01:46<01:18, 27.89it/s]"
     ]
    },
    {
     "name": "stdout",
     "output_type": "stream",
     "text": [
      "outer_poly [(474, 450), (713, 430), (721, 703), (470, 704)]\n",
      "2755\n",
      "outer_poly [(567, 352), (680, 279), (687, 629), (572, 619)]\n",
      "2756\n",
      "outer_poly [(568, 367), (787, 366), (787, 592), (565, 590)]\n",
      "2757\n",
      "outer_poly [(676, 330), (858, 328), (860, 513), (678, 515)]\n",
      "2758\n",
      "outer_poly [(432, 210), (807, 84), (821, 737), (440, 666)]\n",
      "2759\n",
      "outer_poly [(543, 244), (816, 261), (819, 562), (545, 580)]\n"
     ]
    },
    {
     "name": "stderr",
     "output_type": "stream",
     "text": [
      " 56%|█████▌    | 2764/4943 [01:47<01:20, 27.13it/s]"
     ]
    },
    {
     "name": "stdout",
     "output_type": "stream",
     "text": [
      "2760\n",
      "outer_poly [(416, 103), (966, 138), (967, 674), (423, 714)]\n",
      "2761\n",
      "outer_poly [(540, 253), (777, 263), (775, 506), (539, 505)]\n",
      "2762\n",
      "outer_poly [(456, 204), (865, 212), (865, 612), (460, 619)]\n",
      "2763\n",
      "outer_poly [(572, 258), (767, 205), (770, 626), (577, 577)]\n",
      "2764\n",
      "outer_poly [(568, 438), (698, 417), (701, 640), (570, 630)]\n",
      "2765\n",
      "outer_poly [(443, 375), (541, 333), (548, 658), (444, 631)]\n"
     ]
    },
    {
     "name": "stderr",
     "output_type": "stream",
     "text": [
      " 56%|█████▌    | 2770/4943 [01:47<01:17, 28.20it/s]"
     ]
    },
    {
     "name": "stdout",
     "output_type": "stream",
     "text": [
      "2766\n",
      "outer_poly [(313, 78), (928, 140), (936, 741), (290, 768)]\n",
      "2767\n",
      "outer_poly [(317, 178), (784, 134), (788, 674), (309, 651)]\n",
      "2768\n",
      "outer_poly [(586, 354), (688, 335), (688, 536), (586, 528)]\n",
      "2769\n",
      "outer_poly [(560, 344), (630, 317), (632, 548), (560, 536)]\n",
      "2770\n",
      "outer_poly [(504, 306), (644, 375), (644, 668), (499, 691)]\n",
      "2771\n",
      "outer_poly [(529, 146), (744, 287), (746, 691), (524, 742)]\n"
     ]
    },
    {
     "name": "stderr",
     "output_type": "stream",
     "text": [
      " 56%|█████▌    | 2776/4943 [01:47<01:15, 28.71it/s]"
     ]
    },
    {
     "name": "stdout",
     "output_type": "stream",
     "text": [
      "2772\n",
      "outer_poly [(462, 370), (680, 325), (686, 665), (465, 652)]\n",
      "2773\n",
      "outer_poly [(612, 419), (715, 469), (720, 693), (613, 696)]\n",
      "2774\n",
      "outer_poly [(770, 236), (789, 735), (561, 702), (557, 335)]\n",
      "2775\n",
      "outer_poly [(583, 241), (699, 314), (697, 595), (578, 600)]\n",
      "2776\n",
      "outer_poly [(440, 186), (797, 270), (807, 666), (425, 676)]\n",
      "2777\n",
      "outer_poly [(484, 207), (913, 145), (934, 636), (483, 632)]\n"
     ]
    },
    {
     "name": "stderr",
     "output_type": "stream",
     "text": [
      " 56%|█████▋    | 2782/4943 [01:47<01:16, 28.40it/s]"
     ]
    },
    {
     "name": "stdout",
     "output_type": "stream",
     "text": [
      "2778\n",
      "outer_poly [(361, 145), (950, 112), (967, 751), (330, 732)]\n",
      "2779\n",
      "outer_poly [(526, 320), (779, 266), (786, 629), (531, 619)]\n",
      "2780\n",
      "outer_poly [(560, 326), (775, 239), (781, 681), (556, 660)]\n",
      "2781\n",
      "outer_poly [(563, 272), (761, 301), (755, 538), (557, 548)]\n",
      "2782\n",
      "outer_poly [(426, 201), (903, 115), (919, 742), (421, 695)]\n",
      "2783\n",
      "outer_poly [(501, 239), (935, 88), (965, 785), (508, 724)]\n"
     ]
    },
    {
     "name": "stderr",
     "output_type": "stream",
     "text": [
      " 56%|█████▋    | 2788/4943 [01:47<01:14, 28.80it/s]"
     ]
    },
    {
     "name": "stdout",
     "output_type": "stream",
     "text": [
      "2784\n",
      "outer_poly [(529, 443), (799, 444), (803, 717), (524, 719)]\n",
      "2785\n",
      "outer_poly [(259, 418), (367, 391), (362, 660), (256, 641)]\n",
      "2786\n",
      "outer_poly [(536, 491), (770, 475), (773, 736), (532, 733)]\n",
      "2787\n",
      "outer_poly [(205, 189), (742, 181), (746, 743), (185, 736)]\n",
      "2788\n",
      "outer_poly [(375, 116), (951, 32), (957, 727), (384, 673)]\n",
      "2789\n",
      "outer_poly [(578, 328), (757, 306), (758, 582), (577, 560)]\n"
     ]
    },
    {
     "name": "stderr",
     "output_type": "stream",
     "text": [
      " 57%|█████▋    | 2794/4943 [01:48<01:14, 29.01it/s]"
     ]
    },
    {
     "name": "stdout",
     "output_type": "stream",
     "text": [
      "2790\n",
      "outer_poly [(428, 215), (930, 153), (937, 755), (430, 706)]\n",
      "2791\n",
      "outer_poly [(434, 379), (686, 393), (691, 646), (430, 649)]\n",
      "2792\n",
      "outer_poly [(520, 238), (893, 265), (888, 640), (517, 655)]\n",
      "2793\n",
      "outer_poly [(397, 437), (646, 432), (650, 688), (392, 690)]\n",
      "2794\n",
      "outer_poly [(497, 353), (684, 265), (695, 665), (498, 663)]\n",
      "2795\n",
      "outer_poly [(517, 238), (915, 268), (916, 671), (509, 689)]\n"
     ]
    },
    {
     "name": "stderr",
     "output_type": "stream",
     "text": [
      " 57%|█████▋    | 2800/4943 [01:48<01:14, 28.83it/s]"
     ]
    },
    {
     "name": "stdout",
     "output_type": "stream",
     "text": [
      "2796\n",
      "outer_poly [(586, 417), (648, 373), (654, 618), (590, 616)]\n",
      "2797\n",
      "outer_poly [(608, 375), (832, 384), (833, 614), (608, 619)]\n",
      "2798\n",
      "outer_poly [(423, 311), (725, 350), (724, 670), (412, 683)]\n",
      "2799\n",
      "outer_poly [(465, 330), (798, 340), (794, 676), (451, 671)]\n",
      "2800\n",
      "outer_poly [(569, 446), (824, 457), (822, 716), (556, 706)]\n",
      "2801\n",
      "outer_poly [(454, 318), (763, 311), (771, 625), (451, 626)]\n"
     ]
    },
    {
     "name": "stderr",
     "output_type": "stream",
     "text": [
      " 57%|█████▋    | 2806/4943 [01:48<01:14, 28.53it/s]"
     ]
    },
    {
     "name": "stdout",
     "output_type": "stream",
     "text": [
      "2802\n",
      "outer_poly [(247, 51), (1017, 80), (969, 752), (301, 830)]\n",
      "2803\n",
      "outer_poly [(570, 314), (786, 330), (783, 563), (567, 571)]\n",
      "2804\n",
      "outer_poly [(458, 137), (928, 168), (919, 627), (457, 642)]\n",
      "2805\n",
      "outer_poly [(348, 57), (955, 101), (941, 679), (348, 706)]\n",
      "2806\n",
      "outer_poly [(486, 250), (815, 193), (810, 698), (483, 636)]\n",
      "2807\n",
      "outer_poly [(508, 382), (621, 357), (622, 582), (513, 569)]\n"
     ]
    },
    {
     "name": "stderr",
     "output_type": "stream",
     "text": [
      " 57%|█████▋    | 2812/4943 [01:48<01:14, 28.72it/s]"
     ]
    },
    {
     "name": "stdout",
     "output_type": "stream",
     "text": [
      "2808\n",
      "outer_poly [(426, 270), (617, 158), (621, 758), (430, 673)]\n",
      "2809\n",
      "outer_poly [(509, 385), (560, 359), (559, 602), (509, 582)]\n",
      "2810\n",
      "outer_poly [(528, 375), (756, 358), (758, 608), (531, 605)]\n",
      "2811\n",
      "outer_poly [(745, 268), (744, 662), (624, 624), (620, 334)]\n",
      "2812\n",
      "outer_poly [(568, 366), (659, 319), (661, 612), (567, 599)]\n",
      "2813\n",
      "outer_poly [(673, 429), (759, 410), (760, 583), (675, 578)]\n"
     ]
    },
    {
     "name": "stderr",
     "output_type": "stream",
     "text": [
      " 57%|█████▋    | 2818/4943 [01:48<01:13, 28.83it/s]"
     ]
    },
    {
     "name": "stdout",
     "output_type": "stream",
     "text": [
      "2814\n",
      "outer_poly [(581, 413), (693, 389), (693, 588), (580, 582)]\n",
      "2815\n",
      "outer_poly [(493, 339), (640, 421), (639, 728), (486, 743)]\n",
      "2816\n",
      "outer_poly [(520, 407), (783, 403), (789, 671), (519, 672)]\n",
      "2817\n",
      "outer_poly [(514, 394), (706, 436), (711, 692), (511, 700)]\n",
      "2818\n",
      "outer_poly [(525, 409), (699, 444), (705, 675), (523, 684)]\n",
      "2819\n",
      "outer_poly [(286, 65), (914, 8), (948, 693), (258, 689)]\n"
     ]
    },
    {
     "name": "stderr",
     "output_type": "stream",
     "text": [
      " 57%|█████▋    | 2824/4943 [01:49<01:12, 29.06it/s]"
     ]
    },
    {
     "name": "stdout",
     "output_type": "stream",
     "text": [
      "2820\n",
      "outer_poly [(470, 391), (784, 348), (803, 723), (469, 721)]\n",
      "2821\n",
      "outer_poly [(550, 439), (660, 399), (662, 643), (550, 641)]\n",
      "2822\n",
      "outer_poly [(416, 94), (700, 300), (706, 751), (384, 767)]\n",
      "2823\n",
      "outer_poly [(540, 202), (733, 4), (742, 801), (543, 676)]\n",
      "2824\n",
      "outer_poly [(484, 129), (984, 167), (986, 666), (493, 709)]\n",
      "2825\n",
      "outer_poly [(316, 191), (740, 116), (743, 714), (325, 650)]\n"
     ]
    },
    {
     "name": "stderr",
     "output_type": "stream",
     "text": [
      " 57%|█████▋    | 2830/4943 [01:49<01:15, 27.87it/s]"
     ]
    },
    {
     "name": "stdout",
     "output_type": "stream",
     "text": [
      "2826\n",
      "outer_poly [(470, 283), (681, 253), (683, 559), (477, 540)]\n",
      "2827\n",
      "outer_poly [(591, 308), (710, 284), (710, 547), (593, 524)]\n",
      "2828\n",
      "outer_poly [(817, 333), (822, 653), (538, 642), (537, 353)]\n",
      "2829\n",
      "outer_poly [(617, 291), (802, 260), (812, 726), (623, 708)]\n",
      "2830\n",
      "outer_poly [(454, 361), (562, 342), (562, 569), (454, 557)]\n",
      "2831\n",
      "outer_poly [(365, 105), (890, 180), (907, 707), (354, 738)]\n"
     ]
    },
    {
     "name": "stderr",
     "output_type": "stream",
     "text": [
      " 57%|█████▋    | 2836/4943 [01:49<01:24, 24.89it/s]"
     ]
    },
    {
     "name": "stdout",
     "output_type": "stream",
     "text": [
      "2832\n",
      "outer_poly [(412, 366), (654, 385), (654, 632), (411, 635)]\n",
      "2833\n",
      "outer_poly [(335, 71), (1018, 66), (1048, 765), (316, 770)]\n",
      "2834\n",
      "outer_poly [(533, 228), (938, 108), (964, 710), (536, 671)]\n",
      "2835\n",
      "outer_poly [(526, 16), (871, 289), (915, 825), (511, 855)]\n",
      "2836\n",
      "outer_poly [(342, 24), (1020, 91), (1109, 769), (303, 806)]\n"
     ]
    },
    {
     "name": "stderr",
     "output_type": "stream",
     "text": [
      " 57%|█████▋    | 2842/4943 [01:49<01:24, 24.85it/s]"
     ]
    },
    {
     "name": "stdout",
     "output_type": "stream",
     "text": [
      "2837\n",
      "outer_poly [(528, 327), (831, 283), (844, 634), (530, 636)]\n",
      "2838\n",
      "outer_poly [(535, 269), (703, 359), (702, 670), (529, 690)]\n",
      "2839\n",
      "outer_poly [(577, 252), (741, 304), (740, 550), (570, 553)]\n",
      "2840\n",
      "outer_poly [(439, 269), (837, 294), (842, 688), (427, 690)]\n",
      "2841\n",
      "outer_poly [(558, 269), (789, 241), (789, 517), (559, 513)]\n",
      "2842\n"
     ]
    },
    {
     "name": "stderr",
     "output_type": "stream",
     "text": [
      "\r",
      " 58%|█████▊    | 2845/4943 [01:50<01:23, 25.20it/s]"
     ]
    },
    {
     "name": "stdout",
     "output_type": "stream",
     "text": [
      "outer_poly [(365, 188), (906, 163), (922, 744), (339, 732)]\n",
      "2843\n",
      "outer_poly [(581, 312), (739, 341), (742, 555), (581, 563)]\n",
      "2844\n",
      "outer_poly [(462, 416), (707, 411), (709, 668), (457, 666)]\n",
      "2845\n",
      "outer_poly [(489, 242), (826, 271), (835, 613), (488, 624)]\n",
      "2846\n",
      "outer_poly [(598, 447), (713, 421), (714, 641), (596, 636)]\n",
      "2847\n",
      "outer_poly [(745, 225), (752, 678), (608, 654), (610, 329)]\n"
     ]
    },
    {
     "name": "stderr",
     "output_type": "stream",
     "text": [
      " 58%|█████▊    | 2851/4943 [01:50<01:27, 24.03it/s]"
     ]
    },
    {
     "name": "stdout",
     "output_type": "stream",
     "text": [
      "2848\n",
      "outer_poly [(470, 262), (849, 199), (854, 696), (467, 663)]\n",
      "2849\n",
      "outer_poly [(546, 422), (805, 439), (805, 702), (537, 699)]\n",
      "2850\n",
      "outer_poly [(468, 376), (655, 359), (655, 613), (466, 601)]\n",
      "2851\n",
      "outer_poly [(573, 471), (811, 458), (817, 718), (574, 718)]\n",
      "2852\n",
      "outer_poly [(521, 299), (861, 173), (884, 729), (516, 712)]\n"
     ]
    },
    {
     "name": "stderr",
     "output_type": "stream",
     "text": [
      " 58%|█████▊    | 2857/4943 [01:50<01:28, 23.49it/s]"
     ]
    },
    {
     "name": "stdout",
     "output_type": "stream",
     "text": [
      "2853\n",
      "outer_poly [(684, 279), (896, 256), (897, 525), (689, 512)]\n",
      "2854\n",
      "outer_poly [(573, 322), (783, 132), (814, 769), (573, 741)]\n",
      "2855\n",
      "outer_poly [(625, 294), (819, 271), (820, 529), (630, 515)]\n",
      "2856\n",
      "outer_poly [(513, 268), (627, 215), (632, 583), (522, 546)]\n",
      "2857\n",
      "outer_poly [(398, 227), (754, 305), (754, 681), (371, 680)]\n"
     ]
    },
    {
     "name": "stderr",
     "output_type": "stream",
     "text": [
      "\r",
      " 58%|█████▊    | 2860/4943 [01:50<01:30, 22.90it/s]"
     ]
    },
    {
     "name": "stdout",
     "output_type": "stream",
     "text": [
      "2858\n",
      "outer_poly [(453, 382), (694, 395), (700, 641), (449, 643)]\n",
      "2859\n",
      "outer_poly [(416, 349), (622, 273), (634, 657), (415, 654)]\n",
      "2860\n",
      "outer_poly [(616, 530), (694, 479), (705, 742), (623, 739)]\n",
      "2861\n",
      "outer_poly [(215, 2), (185, 840), (975, 776), (949, 73), (555, 2)]\n",
      "2862\n",
      "outer_poly [(499, 263), (608, 309), (600, 553), (488, 563)]\n"
     ]
    },
    {
     "name": "stderr",
     "output_type": "stream",
     "text": [
      " 58%|█████▊    | 2866/4943 [01:50<01:26, 24.06it/s]"
     ]
    },
    {
     "name": "stdout",
     "output_type": "stream",
     "text": [
      "2863\n",
      "outer_poly [(355, 58), (1035, 126), (1087, 814), (315, 841)]\n",
      "2864\n",
      "outer_poly [(576, 148), (860, 240), (857, 652), (568, 726)]\n",
      "2865\n",
      "outer_poly [(401, 140), (902, 150), (896, 642), (399, 643)]\n",
      "2866\n",
      "outer_poly [(208, 114), (841, 175), (848, 778), (200, 826)]\n",
      "2867\n",
      "outer_poly [(464, 245), (777, 146), (782, 754), (470, 675)]\n",
      "2868\n",
      "outer_poly [(485, 315), (682, 252), (684, 676), (485, 638)]\n"
     ]
    },
    {
     "name": "stderr",
     "output_type": "stream",
     "text": [
      " 58%|█████▊    | 2872/4943 [01:51<01:21, 25.36it/s]"
     ]
    },
    {
     "name": "stdout",
     "output_type": "stream",
     "text": [
      "2869\n",
      "outer_poly [(374, 156), (977, 159), (996, 775), (356, 777)]\n",
      "2870\n",
      "outer_poly [(693, 298), (696, 646), (582, 621), (582, 361)]\n",
      "2871\n",
      "outer_poly [(684, 273), (820, 123), (833, 684), (691, 641)]\n",
      "2872\n",
      "outer_poly [(492, 118), (771, 291), (784, 733), (487, 763)]\n",
      "2873\n",
      "outer_poly [(499, 398), (731, 421), (737, 673), (496, 677)]\n",
      "2874\n",
      "outer_poly [(460, 354), (746, 368), (759, 663), (461, 668)]\n"
     ]
    },
    {
     "name": "stderr",
     "output_type": "stream",
     "text": [
      " 58%|█████▊    | 2878/4943 [01:51<01:18, 26.18it/s]"
     ]
    },
    {
     "name": "stdout",
     "output_type": "stream",
     "text": [
      "2875\n",
      "outer_poly [(742, 416), (748, 701), (464, 706), (469, 426)]\n",
      "2876\n",
      "outer_poly [(544, 463), (668, 437), (678, 634), (549, 636)]\n",
      "2877\n",
      "outer_poly [(323, 118), (819, 134), (836, 625), (308, 630)]\n",
      "2878\n",
      "outer_poly [(517, 361), (783, 341), (795, 620), (519, 624)]\n",
      "2879\n",
      "outer_poly [(523, 445), (683, 445), (687, 616), (526, 624)]\n",
      "2880\n",
      "outer_poly [(493, 255), (739, 169), (748, 675), (498, 626)]\n"
     ]
    },
    {
     "name": "stderr",
     "output_type": "stream",
     "text": [
      " 58%|█████▊    | 2884/4943 [01:51<01:20, 25.68it/s]"
     ]
    },
    {
     "name": "stdout",
     "output_type": "stream",
     "text": [
      "2881\n",
      "outer_poly [(422, 293), (777, 267), (781, 662), (424, 650)]\n",
      "2882\n",
      "outer_poly [(563, 168), (805, 254), (805, 647), (562, 724)]\n",
      "2883\n",
      "outer_poly [(374, 74), (1030, 91), (1024, 727), (381, 748)]\n",
      "2884\n",
      "outer_poly [(486, 227), (856, 226), (859, 591), (493, 594)]\n",
      "2885\n",
      "outer_poly [(567, 347), (861, 376), (863, 690), (566, 708)]\n"
     ]
    },
    {
     "name": "stderr",
     "output_type": "stream",
     "text": [
      " 58%|█████▊    | 2890/4943 [01:51<01:22, 24.91it/s]"
     ]
    },
    {
     "name": "stdout",
     "output_type": "stream",
     "text": [
      "2886\n",
      "outer_poly [(438, 149), (1022, 165), (1030, 746), (430, 757)]\n",
      "2887\n",
      "outer_poly [(569, 379), (821, 367), (825, 638), (569, 635)]\n",
      "2888\n",
      "outer_poly [(700, 361), (703, 615), (468, 612), (467, 371)]\n",
      "2889\n",
      "outer_poly [(509, 430), (569, 403), (569, 637), (510, 624)]\n",
      "2890\n",
      "outer_poly [(529, 424), (583, 399), (586, 637), (531, 620)]\n"
     ]
    },
    {
     "name": "stderr",
     "output_type": "stream",
     "text": [
      "\r",
      " 59%|█████▊    | 2893/4943 [01:51<01:22, 24.75it/s]"
     ]
    },
    {
     "name": "stdout",
     "output_type": "stream",
     "text": [
      "2891\n",
      "outer_poly [(512, 669), (732, 625), (733, 273), (516, 181)]\n",
      "2892\n",
      "outer_poly [(474, 239), (638, 146), (639, 636), (475, 593)]\n",
      "2893\n",
      "outer_poly [(396, 189), (862, 241), (880, 706), (390, 734)]\n",
      "2894\n",
      "outer_poly [(327, 225), (829, 254), (843, 755), (310, 764)]\n",
      "2895\n",
      "outer_poly [(500, 375), (757, 376), (759, 637), (497, 635)]\n"
     ]
    },
    {
     "name": "stderr",
     "output_type": "stream",
     "text": [
      " 59%|█████▊    | 2899/4943 [01:52<01:29, 22.90it/s]"
     ]
    },
    {
     "name": "stdout",
     "output_type": "stream",
     "text": [
      "2896\n",
      "outer_poly [(467, 233), (960, 177), (982, 738), (464, 720)]\n",
      "2897\n",
      "outer_poly [(536, 219), (712, 339), (710, 700), (522, 727)]\n",
      "2898\n",
      "outer_poly [(471, 39), (851, 223), (873, 706), (460, 737)]\n",
      "2899\n",
      "outer_poly [(506, 267), (804, 304), (807, 612), (503, 614)]\n",
      "2900\n",
      "outer_poly [(509, 380), (808, 383), (815, 689), (506, 684)]\n"
     ]
    },
    {
     "name": "stderr",
     "output_type": "stream",
     "text": [
      " 59%|█████▉    | 2905/4943 [01:52<01:25, 23.79it/s]"
     ]
    },
    {
     "name": "stdout",
     "output_type": "stream",
     "text": [
      "2901\n",
      "outer_poly [(473, 202), (814, 258), (823, 628), (467, 644)]\n",
      "2902\n",
      "outer_poly [(508, 362), (809, 338), (817, 676), (507, 673)]\n",
      "2903\n",
      "outer_poly [(430, 229), (809, 273), (806, 660), (416, 676)]\n",
      "2904\n",
      "outer_poly [(578, 405), (783, 467), (781, 753), (568, 758)]\n",
      "2905\n",
      "outer_poly [(515, 373), (712, 349), (714, 613), (512, 602)]\n"
     ]
    },
    {
     "name": "stderr",
     "output_type": "stream",
     "text": [
      " 59%|█████▉    | 2911/4943 [01:52<01:20, 25.34it/s]"
     ]
    },
    {
     "name": "stdout",
     "output_type": "stream",
     "text": [
      "2906\n",
      "outer_poly [(528, 234), (804, 316), (809, 662), (521, 669)]\n",
      "2907\n",
      "outer_poly [(557, 293), (872, 342), (880, 687), (547, 685)]\n",
      "2908\n",
      "outer_poly [(443, 339), (825, 353), (829, 736), (424, 733)]\n",
      "2909\n",
      "outer_poly [(477, 411), (585, 387), (584, 631), (475, 613)]\n",
      "2910\n",
      "outer_poly [(608, 457), (756, 418), (763, 686), (610, 678)]\n",
      "2911\n",
      "outer_poly [(446, 8), (730, 253), (731, 729), (410, 742)]\n"
     ]
    },
    {
     "name": "stderr",
     "output_type": "stream",
     "text": [
      " 59%|█████▉    | 2917/4943 [01:52<01:18, 25.81it/s]"
     ]
    },
    {
     "name": "stdout",
     "output_type": "stream",
     "text": [
      "2912\n",
      "outer_poly [(431, 320), (707, 367), (709, 661), (421, 664)]\n",
      "2913\n",
      "outer_poly [(382, 230), (810, 181), (826, 670), (371, 667)]\n",
      "2914\n",
      "outer_poly [(512, 300), (734, 323), (731, 587), (505, 601)]\n",
      "2915\n",
      "outer_poly [(487, 343), (712, 256), (719, 671), (484, 664)]\n",
      "2916\n",
      "outer_poly [(355, 396), (528, 346), (529, 649), (351, 648)]\n",
      "2917\n"
     ]
    },
    {
     "name": "stderr",
     "output_type": "stream",
     "text": [
      "\r",
      " 59%|█████▉    | 2920/4943 [01:53<01:18, 25.90it/s]"
     ]
    },
    {
     "name": "stdout",
     "output_type": "stream",
     "text": [
      "outer_poly [(718, 275), (985, 311), (987, 631), (714, 653)]\n",
      "2918\n",
      "outer_poly [(561, 386), (766, 409), (772, 653), (562, 668)]\n",
      "2919\n",
      "outer_poly [(252, 214), (584, 318), (562, 688), (205, 709)]\n",
      "2920\n",
      "outer_poly [(355, 61), (1070, 62), (1086, 785), (348, 780)]\n",
      "2921\n",
      "outer_poly [(406, 340), (773, 354), (779, 724), (385, 722)]\n",
      "2922\n",
      "outer_poly [(315, 229), (788, 222), (806, 711), (288, 709)]\n"
     ]
    },
    {
     "name": "stderr",
     "output_type": "stream",
     "text": [
      " 59%|█████▉    | 2926/4943 [01:53<01:19, 25.50it/s]"
     ]
    },
    {
     "name": "stdout",
     "output_type": "stream",
     "text": [
      "2923\n",
      "outer_poly [(440, 111), (883, 122), (881, 567), (425, 556)]\n",
      "2924\n",
      "outer_poly [(458, 346), (776, 346), (778, 666), (453, 666)]\n",
      "2925\n",
      "outer_poly [(447, 265), (773, 267), (777, 590), (443, 594)]\n",
      "2926\n",
      "outer_poly [(357, 156), (736, 125), (732, 548), (354, 535)]\n",
      "2927\n",
      "outer_poly [(532, 397), (745, 400), (743, 613), (530, 609)]\n",
      "2928\n"
     ]
    },
    {
     "name": "stderr",
     "output_type": "stream",
     "text": [
      " 59%|█████▉    | 2932/4943 [01:53<01:14, 26.82it/s]"
     ]
    },
    {
     "name": "stdout",
     "output_type": "stream",
     "text": [
      "outer_poly [(594, 288), (833, 301), (825, 541), (588, 539)]\n",
      "2929\n",
      "outer_poly [(653, 348), (749, 335), (750, 507), (654, 497)]\n",
      "2930\n",
      "outer_poly [(549, 371), (667, 346), (668, 589), (549, 574)]\n",
      "2931\n",
      "outer_poly [(417, 260), (788, 290), (790, 668), (412, 685)]\n",
      "2932\n",
      "outer_poly [(358, 220), (790, 260), (793, 683), (354, 711)]\n",
      "2933\n",
      "outer_poly [(325, 188), (824, 232), (824, 716), (313, 735)]\n"
     ]
    },
    {
     "name": "stderr",
     "output_type": "stream",
     "text": [
      " 59%|█████▉    | 2938/4943 [01:53<01:17, 25.72it/s]"
     ]
    },
    {
     "name": "stdout",
     "output_type": "stream",
     "text": [
      "2934\n",
      "outer_poly [(591, 383), (746, 414), (751, 657), (592, 671)]\n",
      "2935\n",
      "outer_poly [(409, 238), (720, 323), (724, 704), (397, 746)]\n",
      "2936\n",
      "outer_poly [(495, 404), (744, 389), (748, 665), (495, 660)]\n",
      "2937\n",
      "outer_poly [(624, 405), (679, 362), (679, 616), (626, 600)]\n",
      "2938\n",
      "outer_poly [(607, 320), (853, 323), (856, 575), (606, 576)]\n"
     ]
    },
    {
     "name": "stderr",
     "output_type": "stream",
     "text": [
      "\r",
      " 59%|█████▉    | 2941/4943 [01:53<01:20, 25.02it/s]"
     ]
    },
    {
     "name": "stdout",
     "output_type": "stream",
     "text": [
      "2939\n",
      "outer_poly [(509, 297), (787, 165), (810, 715), (515, 696)]\n",
      "2940\n",
      "outer_poly [(395, 90), (738, 269), (748, 720), (370, 751)]\n",
      "2941\n",
      "outer_poly [(472, 348), (778, 364), (789, 677), (474, 680)]\n",
      "2942\n",
      "outer_poly [(425, 381), (667, 396), (668, 637), (421, 639)]\n",
      "2943\n",
      "outer_poly [(551, 428), (706, 388), (711, 658), (553, 658)]\n"
     ]
    },
    {
     "name": "stderr",
     "output_type": "stream",
     "text": [
      " 60%|█████▉    | 2947/4943 [01:54<01:22, 24.17it/s]"
     ]
    },
    {
     "name": "stdout",
     "output_type": "stream",
     "text": [
      "2944\n",
      "outer_poly [(546, 366), (645, 310), (648, 610), (549, 604)]\n",
      "2945\n",
      "outer_poly [(429, 243), (702, 3), (719, 3), (788, 718), (450, 721)]\n",
      "2946\n",
      "outer_poly [(385, 219), (839, 213), (832, 660), (393, 658)]\n",
      "2947\n",
      "outer_poly [(555, 262), (931, 282), (911, 650), (542, 641)]\n",
      "2948\n",
      "outer_poly [(563, 375), (734, 379), (735, 548), (565, 546)]\n"
     ]
    },
    {
     "name": "stderr",
     "output_type": "stream",
     "text": [
      " 60%|█████▉    | 2953/4943 [01:54<01:23, 23.90it/s]"
     ]
    },
    {
     "name": "stdout",
     "output_type": "stream",
     "text": [
      "2949\n",
      "outer_poly [(288, 98), (932, 62), (928, 749), (292, 723)]\n",
      "2950\n",
      "outer_poly [(382, 123), (973, 77), (969, 733), (389, 690)]\n",
      "2951\n",
      "outer_poly [(519, 283), (778, 268), (781, 554), (524, 547)]\n",
      "2952\n",
      "outer_poly [(480, 317), (622, 299), (627, 519), (485, 508)]\n",
      "2953\n",
      "outer_poly [(591, 265), (775, 214), (775, 613), (592, 568)]\n"
     ]
    },
    {
     "name": "stderr",
     "output_type": "stream",
     "text": [
      " 60%|█████▉    | 2959/4943 [01:54<01:18, 25.27it/s]"
     ]
    },
    {
     "name": "stdout",
     "output_type": "stream",
     "text": [
      "2954\n",
      "outer_poly [(419, 443), (553, 426), (557, 632), (421, 625)]\n",
      "2955\n",
      "outer_poly [(473, 263), (683, 321), (679, 616), (465, 637)]\n",
      "2956\n",
      "outer_poly [(528, 254), (879, 278), (881, 634), (523, 645)]\n",
      "2957\n",
      "outer_poly [(183, 62), (817, 54), (812, 707), (171, 695)]\n",
      "2958\n",
      "outer_poly [(574, 308), (661, 249), (661, 589), (576, 565)]\n",
      "2959\n",
      "outer_poly [(308, 342), (606, 340), (603, 645), (304, 642)]\n"
     ]
    },
    {
     "name": "stderr",
     "output_type": "stream",
     "text": [
      " 60%|█████▉    | 2965/4943 [01:54<01:12, 27.12it/s]"
     ]
    },
    {
     "name": "stdout",
     "output_type": "stream",
     "text": [
      "2960\n",
      "outer_poly [(514, 435), (662, 395), (668, 669), (516, 659)]\n",
      "2961\n",
      "outer_poly [(465, 255), (819, 314), (819, 690), (445, 702)]\n",
      "2962\n",
      "outer_poly [(457, 418), (707, 407), (708, 669), (457, 667)]\n",
      "2963\n",
      "outer_poly [(469, 393), (664, 358), (664, 645), (469, 637)]\n",
      "2964\n",
      "outer_poly [(506, 237), (850, 42), (881, 755), (510, 708)]\n",
      "2965\n",
      "outer_poly [(608, 280), (787, 192), (798, 607), (615, 583)]\n"
     ]
    },
    {
     "name": "stderr",
     "output_type": "stream",
     "text": [
      "\r",
      " 60%|██████    | 2968/4943 [01:54<01:13, 26.79it/s]"
     ]
    },
    {
     "name": "stdout",
     "output_type": "stream",
     "text": [
      "2966\n",
      "outer_poly [(615, 427), (689, 350), (690, 716), (617, 695)]\n",
      "2967\n",
      "outer_poly [(554, 370), (777, 444), (775, 752), (541, 753)]\n",
      "2968\n",
      "outer_poly [(596, 342), (870, 372), (879, 672), (596, 674)]\n",
      "2969\n",
      "outer_poly [(518, 390), (704, 353), (710, 663), (523, 647)]\n",
      "2970\n",
      "outer_poly [(258, 445), (352, 423), (349, 653), (256, 644)]\n",
      "2971\n",
      "outer_poly [(560, 260), (780, 220), (780, 571), (564, 540)]\n"
     ]
    },
    {
     "name": "stderr",
     "output_type": "stream",
     "text": [
      " 60%|██████    | 2975/4943 [01:55<01:10, 27.74it/s]"
     ]
    },
    {
     "name": "stdout",
     "output_type": "stream",
     "text": [
      "2972\n",
      "outer_poly [(638, 491), (731, 422), (746, 731), (649, 730)]\n",
      "2973\n",
      "outer_poly [(563, 392), (639, 333), (644, 625), (568, 624)]\n",
      "2974\n",
      "outer_poly [(201, 68), (790, 152), (793, 713), (168, 743)]\n",
      "2975\n",
      "outer_poly [(192, 188), (644, 244), (640, 673), (176, 693)]\n",
      "2976\n",
      "outer_poly [(384, 164), (807, 252), (798, 697), (354, 720)]\n",
      "2977\n",
      "outer_poly [(778, 378), (972, 397), (968, 617), (774, 621)]\n"
     ]
    },
    {
     "name": "stderr",
     "output_type": "stream",
     "text": [
      " 60%|██████    | 2981/4943 [01:55<01:11, 27.38it/s]"
     ]
    },
    {
     "name": "stdout",
     "output_type": "stream",
     "text": [
      "2978\n",
      "outer_poly [(698, 397), (857, 419), (852, 633), (687, 631)]\n",
      "2979\n",
      "outer_poly [(509, 344), (761, 347), (763, 603), (509, 601)]\n",
      "2980\n",
      "outer_poly [(438, 250), (861, 250), (866, 678), (434, 677)]\n",
      "2981\n",
      "outer_poly [(533, 430), (822, 430), (820, 736), (520, 724)]\n",
      "2982\n",
      "outer_poly [(415, 659), (920, 647), (916, 167), (426, 119)]\n",
      "2983\n",
      "outer_poly [(292, 61), (883, 73), (901, 663), (280, 673)]\n"
     ]
    },
    {
     "name": "stderr",
     "output_type": "stream",
     "text": [
      " 60%|██████    | 2987/4943 [01:55<01:09, 28.28it/s]"
     ]
    },
    {
     "name": "stdout",
     "output_type": "stream",
     "text": [
      "2984\n",
      "outer_poly [(766, 283), (764, 578), (571, 553), (569, 304)]\n",
      "2985\n",
      "outer_poly [(340, 43), (1075, 46), (1069, 775), (341, 780)]\n",
      "2986\n",
      "outer_poly [(577, 402), (668, 383), (671, 579), (580, 568)]\n",
      "2987\n",
      "outer_poly [(556, 413), (795, 403), (798, 665), (561, 658)]\n",
      "2988\n",
      "outer_poly [(801, 391), (854, 344), (862, 620), (803, 604)]\n",
      "2989\n",
      "outer_poly [(629, 392), (749, 357), (749, 604), (629, 596)]\n"
     ]
    },
    {
     "name": "stderr",
     "output_type": "stream",
     "text": [
      " 61%|██████    | 2993/4943 [01:55<01:08, 28.33it/s]"
     ]
    },
    {
     "name": "stdout",
     "output_type": "stream",
     "text": [
      "2990\n",
      "outer_poly [(380, 117), (928, 121), (938, 673), (370, 675)]\n",
      "2991\n",
      "outer_poly [(404, 243), (764, 266), (765, 628), (399, 629)]\n",
      "2992\n",
      "outer_poly [(303, 259), (612, 299), (612, 612), (292, 616)]\n",
      "2993\n",
      "outer_poly [(377, 434), (621, 422), (620, 686), (370, 683)]\n",
      "2994\n",
      "outer_poly [(513, 379), (714, 319), (716, 674), (511, 666)]\n",
      "2995\n",
      "outer_poly [(495, 113), (738, 327), (745, 777), (473, 794)]\n"
     ]
    },
    {
     "name": "stderr",
     "output_type": "stream",
     "text": [
      " 61%|██████    | 2999/4943 [01:56<01:12, 26.75it/s]"
     ]
    },
    {
     "name": "stdout",
     "output_type": "stream",
     "text": [
      "2996\n",
      "outer_poly [(439, 207), (716, 320), (729, 691), (429, 705)]\n",
      "2997\n",
      "outer_poly [(543, 309), (748, 374), (754, 660), (539, 664)]\n",
      "2998\n",
      "outer_poly [(585, 465), (764, 466), (770, 647), (589, 653)]\n",
      "2999\n",
      "outer_poly [(504, 485), (698, 485), (702, 677), (508, 681)]\n",
      "3000\n",
      "outer_poly [(496, 502), (656, 499), (661, 665), (499, 670)]\n",
      "3001\n",
      "outer_poly [(709, 236), (528, 164), (535, 671), (713, 597)]\n"
     ]
    },
    {
     "name": "stderr",
     "output_type": "stream",
     "text": [
      " 61%|██████    | 3005/4943 [01:56<01:10, 27.44it/s]"
     ]
    },
    {
     "name": "stdout",
     "output_type": "stream",
     "text": [
      "3002\n",
      "outer_poly [(407, 244), (737, 222), (736, 604), (410, 585)]\n",
      "3003\n",
      "outer_poly [(380, 217), (783, 185), (781, 659), (383, 626)]\n",
      "3004\n",
      "outer_poly [(587, 313), (642, 272), (645, 561), (590, 532)]\n",
      "3005\n",
      "outer_poly [(553, 363), (848, 371), (851, 665), (555, 673)]\n",
      "3006\n",
      "outer_poly [(420, 369), (684, 353), (686, 646), (421, 642)]\n",
      "3007\n",
      "outer_poly [(677, 210), (681, 656), (456, 616), (448, 283)]\n"
     ]
    },
    {
     "name": "stderr",
     "output_type": "stream",
     "text": [
      " 61%|██████    | 3011/4943 [01:56<01:12, 26.80it/s]"
     ]
    },
    {
     "name": "stdout",
     "output_type": "stream",
     "text": [
      "3008\n",
      "outer_poly [(372, 283), (579, 236), (582, 584), (368, 565)]\n",
      "3009\n",
      "outer_poly [(483, 328), (569, 292), (570, 567), (486, 550)]\n",
      "3010\n",
      "outer_poly [(499, 324), (570, 278), (571, 571), (501, 553)]\n",
      "3011\n",
      "outer_poly [(532, 376), (799, 400), (805, 683), (529, 690)]\n",
      "3012\n",
      "outer_poly [(441, 352), (681, 295), (689, 669), (442, 654)]\n",
      "3013\n",
      "outer_poly [(573, 452), (710, 419), (716, 670), (577, 662)]\n"
     ]
    },
    {
     "name": "stderr",
     "output_type": "stream",
     "text": [
      " 61%|██████    | 3017/4943 [01:56<01:09, 27.84it/s]"
     ]
    },
    {
     "name": "stdout",
     "output_type": "stream",
     "text": [
      "3014\n",
      "outer_poly [(452, 333), (677, 236), (686, 730), (452, 696)]\n",
      "3015\n",
      "outer_poly [(576, 373), (678, 295), (690, 696), (578, 671)]\n",
      "3016\n",
      "outer_poly [(551, 361), (724, 404), (727, 657), (551, 669)]\n",
      "3017\n",
      "outer_poly [(430, 354), (692, 384), (688, 652), (420, 652)]\n",
      "3018\n",
      "outer_poly [(804, 287), (809, 612), (495, 626), (494, 252)]\n",
      "3019\n",
      "outer_poly [(460, 258), (787, 294), (787, 636), (451, 647)]\n"
     ]
    },
    {
     "name": "stderr",
     "output_type": "stream",
     "text": [
      " 61%|██████    | 3023/4943 [01:56<01:08, 27.99it/s]"
     ]
    },
    {
     "name": "stdout",
     "output_type": "stream",
     "text": [
      "3020\n",
      "outer_poly [(485, 164), (834, 326), (840, 787), (451, 805)]\n",
      "3021\n",
      "outer_poly [(517, 313), (806, 263), (814, 660), (511, 639)]\n",
      "3022\n",
      "outer_poly [(539, 411), (702, 376), (710, 652), (541, 642)]\n",
      "3023\n",
      "outer_poly [(550, 408), (721, 369), (727, 654), (553, 645)]\n",
      "3024\n",
      "outer_poly [(438, 158), (980, 205), (1006, 747), (406, 750)]\n",
      "3025\n",
      "outer_poly [(542, 292), (790, 178), (801, 721), (543, 667)]\n"
     ]
    },
    {
     "name": "stderr",
     "output_type": "stream",
     "text": [
      " 61%|██████▏   | 3029/4943 [01:57<01:09, 27.66it/s]"
     ]
    },
    {
     "name": "stdout",
     "output_type": "stream",
     "text": [
      "3026\n",
      "outer_poly [(413, 288), (635, 143), (648, 781), (416, 715)]\n",
      "3027\n",
      "outer_poly [(480, 339), (876, 336), (885, 745), (469, 736)]\n",
      "3028\n",
      "outer_poly [(514, 175), (983, 110), (983, 677), (522, 635)]\n",
      "3029\n",
      "outer_poly [(673, 307), (905, 82), (947, 787), (677, 751)]\n",
      "3030\n",
      "outer_poly [(578, 403), (732, 290), (739, 744), (574, 729)]\n",
      "3031\n",
      "outer_poly [(686, 251), (900, 134), (899, 754), (684, 649)]\n"
     ]
    },
    {
     "name": "stderr",
     "output_type": "stream",
     "text": [
      " 61%|██████▏   | 3035/4943 [01:57<01:10, 27.19it/s]"
     ]
    },
    {
     "name": "stdout",
     "output_type": "stream",
     "text": [
      "3032\n",
      "outer_poly [(715, 287), (989, 304), (982, 593), (712, 603)]\n",
      "3033\n",
      "outer_poly [(654, 330), (809, 347), (806, 567), (652, 580)]\n",
      "3034\n",
      "outer_poly [(508, 337), (755, 268), (766, 653), (507, 651)]\n",
      "3035\n",
      "outer_poly [(651, 253), (763, 312), (761, 627), (647, 681)]\n",
      "3036\n",
      "outer_poly [(493, 394), (676, 337), (682, 667), (491, 666)]\n",
      "3037\n",
      "outer_poly [(826, 296), (930, 327), (932, 558), (825, 578)]\n"
     ]
    },
    {
     "name": "stderr",
     "output_type": "stream",
     "text": [
      " 62%|██████▏   | 3041/4943 [01:57<01:09, 27.27it/s]"
     ]
    },
    {
     "name": "stdout",
     "output_type": "stream",
     "text": [
      "3038\n",
      "outer_poly [(571, 232), (818, 244), (814, 490), (571, 495)]\n",
      "3039\n",
      "outer_poly [(563, 387), (704, 408), (706, 617), (564, 629)]\n",
      "3040\n",
      "outer_poly [(582, 391), (693, 415), (699, 626), (588, 644)]\n",
      "3041\n",
      "outer_poly [(583, 369), (813, 381), (817, 625), (583, 629)]\n",
      "3042\n",
      "outer_poly [(378, 326), (719, 335), (716, 676), (365, 673)]\n",
      "3043\n",
      "outer_poly [(449, 231), (894, 235), (881, 667), (454, 664)]\n"
     ]
    },
    {
     "name": "stderr",
     "output_type": "stream",
     "text": [
      " 62%|██████▏   | 3047/4943 [01:57<01:09, 27.26it/s]"
     ]
    },
    {
     "name": "stdout",
     "output_type": "stream",
     "text": [
      "3044\n",
      "outer_poly [(262, 3), (244, 696), (987, 706), (985, 5)]\n",
      "3045\n",
      "outer_poly [(453, 103), (976, 185), (972, 725), (449, 784)]\n",
      "3046\n",
      "outer_poly [(729, 293), (838, 299), (831, 537), (728, 538)]\n",
      "3047\n",
      "outer_poly [(446, 370), (729, 349), (738, 709), (446, 699)]\n",
      "3048\n",
      "outer_poly [(494, 442), (635, 427), (637, 647), (494, 636)]\n",
      "3049\n",
      "outer_poly [(402, 375), (487, 350), (490, 612), (407, 591)]\n"
     ]
    },
    {
     "name": "stderr",
     "output_type": "stream",
     "text": [
      " 62%|██████▏   | 3053/4943 [01:57<01:08, 27.55it/s]"
     ]
    },
    {
     "name": "stdout",
     "output_type": "stream",
     "text": [
      "3050\n",
      "outer_poly [(598, 234), (759, 311), (762, 643), (596, 688)]\n",
      "3051\n",
      "outer_poly [(505, 389), (755, 390), (756, 644), (503, 643)]\n",
      "3052\n",
      "outer_poly [(588, 374), (747, 338), (750, 604), (591, 594)]\n",
      "3053\n",
      "outer_poly [(617, 254), (737, 329), (739, 623), (613, 643)]\n",
      "3054\n",
      "outer_poly [(451, 338), (691, 244), (700, 700), (449, 685)]\n",
      "3055\n",
      "outer_poly [(487, 208), (723, 346), (728, 730), (470, 749)]\n"
     ]
    },
    {
     "name": "stderr",
     "output_type": "stream",
     "text": [
      " 62%|██████▏   | 3059/4943 [01:58<01:09, 27.19it/s]"
     ]
    },
    {
     "name": "stdout",
     "output_type": "stream",
     "text": [
      "3056\n",
      "outer_poly [(503, 393), (737, 404), (743, 648), (502, 654)]\n",
      "3057\n",
      "outer_poly [(437, 397), (690, 420), (694, 681), (433, 684)]\n",
      "3058\n",
      "outer_poly [(413, 373), (669, 399), (669, 666), (404, 666)]\n",
      "3059\n",
      "outer_poly [(471, 100), (715, 324), (723, 779), (444, 799)]\n",
      "3060\n",
      "outer_poly [(523, 336), (671, 333), (671, 485), (524, 484)]\n",
      "3061\n",
      "outer_poly [(300, 78), (924, 91), (924, 708), (294, 713)]\n"
     ]
    },
    {
     "name": "stderr",
     "output_type": "stream",
     "text": [
      " 62%|██████▏   | 3065/4943 [01:58<01:11, 26.27it/s]"
     ]
    },
    {
     "name": "stdout",
     "output_type": "stream",
     "text": [
      "3062\n",
      "outer_poly [(581, 244), (720, 106), (731, 731), (582, 651)]\n",
      "3063\n",
      "outer_poly [(581, 222), (709, 290), (709, 593), (576, 628)]\n",
      "3064\n",
      "outer_poly [(441, 128), (970, 159), (968, 671), (446, 701)]\n",
      "3065\n",
      "outer_poly [(571, 237), (897, 244), (897, 568), (575, 580)]\n",
      "3066\n",
      "outer_poly [(615, 257), (873, 256), (873, 510), (620, 512)]\n"
     ]
    },
    {
     "name": "stderr",
     "output_type": "stream",
     "text": [
      " 62%|██████▏   | 3071/4943 [01:58<01:11, 26.09it/s]"
     ]
    },
    {
     "name": "stdout",
     "output_type": "stream",
     "text": [
      "3067\n",
      "outer_poly [(568, 277), (829, 273), (828, 533), (571, 532)]\n",
      "3068\n",
      "outer_poly [(494, 341), (815, 353), (822, 680), (493, 689)]\n",
      "3069\n",
      "outer_poly [(438, 329), (780, 314), (785, 677), (437, 672)]\n",
      "3070\n",
      "outer_poly [(351, 416), (502, 398), (504, 627), (351, 619)]\n",
      "3071\n",
      "outer_poly [(594, 436), (648, 409), (649, 656), (593, 640)]\n",
      "3072\n",
      "outer_poly [(257, 48), (794, 161), (795, 691), (243, 736)]\n"
     ]
    },
    {
     "name": "stderr",
     "output_type": "stream",
     "text": [
      " 62%|██████▏   | 3077/4943 [01:58<01:10, 26.60it/s]"
     ]
    },
    {
     "name": "stdout",
     "output_type": "stream",
     "text": [
      "3073\n",
      "outer_poly [(457, 338), (583, 311), (585, 557), (459, 544)]\n",
      "3074\n",
      "outer_poly [(387, 262), (766, 301), (775, 684), (380, 696)]\n",
      "3075\n",
      "outer_poly [(461, 302), (744, 199), (761, 719), (462, 688)]\n",
      "3076\n",
      "outer_poly [(538, 359), (719, 402), (718, 650), (535, 658)]\n",
      "3077\n",
      "outer_poly [(606, 283), (768, 308), (768, 521), (602, 520)]\n",
      "3078\n",
      "outer_poly [(498, 261), (766, 198), (768, 585), (496, 572)]\n"
     ]
    },
    {
     "name": "stderr",
     "output_type": "stream",
     "text": [
      " 62%|██████▏   | 3083/4943 [01:59<01:10, 26.57it/s]"
     ]
    },
    {
     "name": "stdout",
     "output_type": "stream",
     "text": [
      "3079\n",
      "outer_poly [(566, 323), (766, 333), (771, 537), (569, 546)]\n",
      "3080\n",
      "outer_poly [(577, 300), (714, 101), (729, 783), (578, 731)]\n",
      "3081\n",
      "outer_poly [(508, 226), (921, 126), (933, 729), (505, 673)]\n",
      "3082\n",
      "outer_poly [(474, 294), (787, 231), (790, 690), (467, 655)]\n",
      "3083\n",
      "outer_poly [(639, 402), (843, 422), (846, 646), (633, 644)]\n",
      "3084\n",
      "outer_poly [(511, 280), (899, 322), (917, 718), (501, 728)]\n"
     ]
    },
    {
     "name": "stderr",
     "output_type": "stream",
     "text": [
      " 62%|██████▏   | 3089/4943 [01:59<01:08, 27.02it/s]"
     ]
    },
    {
     "name": "stdout",
     "output_type": "stream",
     "text": [
      "3085\n",
      "outer_poly [(595, 405), (695, 377), (699, 618), (598, 607)]\n",
      "3086\n",
      "outer_poly [(229, 409), (356, 373), (351, 684), (227, 663)]\n",
      "3087\n",
      "outer_poly [(529, 453), (781, 443), (786, 713), (524, 711)]\n",
      "3088\n",
      "outer_poly [(640, 464), (777, 406), (781, 729), (637, 725)]\n",
      "3089\n",
      "outer_poly [(399, 166), (829, 76), (830, 681), (405, 625)]\n",
      "3090\n",
      "outer_poly [(596, 380), (775, 428), (781, 688), (596, 691)]\n"
     ]
    },
    {
     "name": "stderr",
     "output_type": "stream",
     "text": [
      " 63%|██████▎   | 3095/4943 [01:59<01:08, 26.88it/s]"
     ]
    },
    {
     "name": "stdout",
     "output_type": "stream",
     "text": [
      "3091\n",
      "outer_poly [(372, 295), (669, 347), (669, 664), (357, 662)]\n",
      "3092\n",
      "outer_poly [(471, 376), (695, 405), (697, 650), (467, 653)]\n",
      "3093\n",
      "outer_poly [(312, 114), (884, 126), (918, 707), (279, 714)]\n",
      "3094\n",
      "outer_poly [(614, 258), (937, 283), (932, 618), (606, 635)]\n",
      "3095\n",
      "outer_poly [(546, 306), (717, 324), (712, 524), (539, 535)]\n",
      "3096\n",
      "outer_poly [(845, 287), (945, 326), (952, 579), (847, 606)]\n"
     ]
    },
    {
     "name": "stderr",
     "output_type": "stream",
     "text": [
      " 63%|██████▎   | 3101/4943 [01:59<01:08, 26.80it/s]"
     ]
    },
    {
     "name": "stdout",
     "output_type": "stream",
     "text": [
      "3097\n",
      "outer_poly [(534, 237), (943, 271), (951, 687), (526, 703)]\n",
      "3098\n",
      "outer_poly [(261, 86), (886, 138), (877, 729), (258, 770)]\n",
      "3099\n",
      "outer_poly [(118, 242), (515, 239), (520, 643), (120, 639)]\n",
      "3100\n",
      "outer_poly [(384, 240), (824, 234), (823, 684), (379, 676)]\n",
      "3101\n",
      "outer_poly [(341, 105), (994, 91), (1068, 762), (308, 783)]\n",
      "3102\n",
      "outer_poly [(327, 66), (881, 164), (911, 711), (293, 723)]\n"
     ]
    },
    {
     "name": "stderr",
     "output_type": "stream",
     "text": [
      " 63%|██████▎   | 3107/4943 [02:00<01:10, 26.17it/s]"
     ]
    },
    {
     "name": "stdout",
     "output_type": "stream",
     "text": [
      "3103\n",
      "outer_poly [(673, 265), (983, 279), (991, 600), (675, 604)]\n",
      "3104\n",
      "outer_poly [(475, 205), (898, 199), (909, 626), (475, 631)]\n",
      "3105\n",
      "outer_poly [(736, 310), (488, 304), (486, 550), (731, 554)]\n",
      "3106\n",
      "outer_poly [(505, 290), (686, 316), (683, 577), (504, 600)]\n",
      "3107\n",
      "outer_poly [(919, 9), (519, 174), (519, 692), (913, 854)]\n",
      "3108\n",
      "outer_poly [(457, 271), (648, 220), (643, 642), (456, 591)]\n"
     ]
    },
    {
     "name": "stderr",
     "output_type": "stream",
     "text": [
      " 63%|██████▎   | 3113/4943 [02:00<01:09, 26.19it/s]"
     ]
    },
    {
     "name": "stdout",
     "output_type": "stream",
     "text": [
      "3109\n",
      "outer_poly [(757, 345), (758, 784), (300, 820), (314, 302)]\n",
      "3110\n",
      "outer_poly [(560, 388), (816, 375), (821, 647), (561, 643)]\n",
      "3111\n",
      "outer_poly [(451, 240), (773, 129), (779, 761), (457, 682)]\n",
      "3112\n",
      "outer_poly [(467, 380), (573, 357), (575, 578), (466, 564)]\n",
      "3113\n",
      "outer_poly [(592, 189), (777, 286), (780, 662), (585, 721)]\n",
      "3114\n",
      "outer_poly [(551, 159), (730, 304), (730, 711), (541, 773)]\n"
     ]
    },
    {
     "name": "stderr",
     "output_type": "stream",
     "text": [
      " 63%|██████▎   | 3119/4943 [02:00<01:10, 26.04it/s]"
     ]
    },
    {
     "name": "stdout",
     "output_type": "stream",
     "text": [
      "3115\n",
      "outer_poly [(596, 186), (765, 318), (765, 709), (587, 761)]\n",
      "3116\n",
      "outer_poly [(505, 338), (683, 391), (682, 671), (499, 693)]\n",
      "3117\n",
      "outer_poly [(452, 284), (790, 340), (797, 696), (443, 706)]\n",
      "3118\n",
      "outer_poly [(464, 403), (746, 392), (752, 687), (461, 687)]\n",
      "3119\n",
      "outer_poly [(593, 477), (690, 456), (695, 639), (593, 636)]\n",
      "3120\n"
     ]
    },
    {
     "name": "stderr",
     "output_type": "stream",
     "text": [
      " 63%|██████▎   | 3125/4943 [02:00<01:09, 26.14it/s]"
     ]
    },
    {
     "name": "stdout",
     "output_type": "stream",
     "text": [
      "outer_poly [(348, 153), (753, 231), (765, 648), (337, 662)]\n",
      "3121\n",
      "outer_poly [(336, 183), (828, 84), (862, 684), (324, 687)]\n",
      "3122\n",
      "outer_poly [(414, 236), (811, 163), (836, 644), (415, 648)]\n",
      "3123\n",
      "outer_poly [(363, 1), (357, 778), (640, 657), (639, 179), (379, 0)]\n",
      "3124\n",
      "outer_poly [(258, 211), (712, 221), (715, 662), (260, 675)]\n",
      "3125\n",
      "outer_poly [(577, 285), (731, 247), (734, 587), (580, 554)]\n"
     ]
    },
    {
     "name": "stderr",
     "output_type": "stream",
     "text": [
      " 63%|██████▎   | 3131/4943 [02:00<01:10, 25.87it/s]"
     ]
    },
    {
     "name": "stdout",
     "output_type": "stream",
     "text": [
      "3126\n",
      "outer_poly [(613, 307), (739, 279), (741, 557), (618, 533)]\n",
      "3127\n",
      "outer_poly [(398, 106), (1059, 133), (1070, 789), (384, 801)]\n",
      "3128\n",
      "outer_poly [(615, 342), (883, 343), (885, 611), (617, 615)]\n",
      "3129\n",
      "outer_poly [(488, 314), (819, 317), (820, 646), (485, 647)]\n",
      "3130\n",
      "outer_poly [(363, 240), (877, 209), (883, 769), (352, 750)]\n",
      "3131\n"
     ]
    },
    {
     "name": "stderr",
     "output_type": "stream",
     "text": [
      "\r",
      " 63%|██████▎   | 3134/4943 [02:01<01:10, 25.58it/s]"
     ]
    },
    {
     "name": "stdout",
     "output_type": "stream",
     "text": [
      "outer_poly [(363, 304), (750, 271), (755, 729), (358, 703)]\n",
      "3132\n",
      "outer_poly [(474, 133), (721, 249), (717, 644), (465, 693)]\n",
      "3133\n",
      "outer_poly [(358, 49), (654, 214), (655, 668), (343, 743)]\n",
      "3134\n",
      "outer_poly [(292, 168), (792, 155), (794, 678), (280, 668)]\n",
      "3135\n",
      "outer_poly [(359, 293), (740, 286), (743, 675), (355, 672)]\n",
      "3136\n",
      "outer_poly [(587, 469), (704, 442), (709, 659), (587, 654)]\n"
     ]
    },
    {
     "name": "stderr",
     "output_type": "stream",
     "text": [
      " 64%|██████▎   | 3140/4943 [02:01<01:06, 27.01it/s]"
     ]
    },
    {
     "name": "stdout",
     "output_type": "stream",
     "text": [
      "3137\n",
      "outer_poly [(629, 315), (711, 363), (713, 586), (629, 588)]\n",
      "3138\n",
      "outer_poly [(466, 264), (806, 322), (810, 689), (453, 695)]\n",
      "3139\n",
      "outer_poly [(488, 302), (788, 349), (788, 672), (476, 677)]\n",
      "3140\n",
      "outer_poly [(122, 143), (694, 117), (695, 738), (81, 728)]\n",
      "3141\n",
      "outer_poly [(584, 352), (766, 329), (770, 561), (586, 558)]\n",
      "3142\n",
      "outer_poly [(479, 239), (738, 37), (746, 756), (471, 702)]\n"
     ]
    },
    {
     "name": "stderr",
     "output_type": "stream",
     "text": [
      " 64%|██████▎   | 3146/4943 [02:01<01:05, 27.50it/s]"
     ]
    },
    {
     "name": "stdout",
     "output_type": "stream",
     "text": [
      "3143\n",
      "outer_poly [(589, 410), (666, 374), (671, 615), (593, 608)]\n",
      "3144\n",
      "outer_poly [(547, 278), (753, 294), (750, 515), (542, 516)]\n",
      "3145\n",
      "outer_poly [(486, 273), (848, 210), (855, 685), (481, 657)]\n",
      "3146\n",
      "outer_poly [(584, 358), (841, 389), (847, 667), (579, 668)]\n",
      "3147\n",
      "outer_poly [(482, 324), (603, 307), (607, 489), (484, 484)]\n",
      "3148\n",
      "outer_poly [(517, 423), (584, 394), (588, 622), (519, 609)]\n"
     ]
    },
    {
     "name": "stderr",
     "output_type": "stream",
     "text": [
      " 64%|██████▍   | 3152/4943 [02:01<01:03, 28.17it/s]"
     ]
    },
    {
     "name": "stdout",
     "output_type": "stream",
     "text": [
      "3149\n",
      "outer_poly [(368, 199), (854, 91), (855, 781), (356, 710)]\n",
      "3150\n",
      "outer_poly [(486, 399), (759, 360), (761, 734), (481, 709)]\n",
      "3151\n",
      "outer_poly [(463, 230), (878, 77), (900, 737), (448, 712)]\n",
      "3152\n",
      "outer_poly [(537, 369), (771, 278), (782, 710), (537, 700)]\n",
      "3153\n",
      "outer_poly [(380, 116), (897, 0), (942, 2), (949, 747), (392, 672)]\n",
      "3154\n",
      "outer_poly [(699, 265), (937, 232), (937, 556), (701, 534)]\n"
     ]
    },
    {
     "name": "stderr",
     "output_type": "stream",
     "text": [
      " 64%|██████▍   | 3158/4943 [02:01<01:02, 28.68it/s]"
     ]
    },
    {
     "name": "stdout",
     "output_type": "stream",
     "text": [
      "3155\n",
      "outer_poly [(253, 59), (783, 155), (801, 674), (220, 682)]\n",
      "3156\n",
      "outer_poly [(621, 312), (875, 294), (876, 593), (621, 577)]\n",
      "3157\n",
      "outer_poly [(483, 384), (702, 403), (706, 632), (480, 634)]\n",
      "3158\n",
      "outer_poly [(332, 51), (704, 217), (701, 720), (361, 864), (326, 861)]\n",
      "3159\n",
      "outer_poly [(844, 284), (944, 323), (947, 582), (845, 610)]\n",
      "3160\n",
      "outer_poly [(513, 241), (916, 267), (913, 670), (504, 678)]\n"
     ]
    },
    {
     "name": "stderr",
     "output_type": "stream",
     "text": [
      " 64%|██████▍   | 3164/4943 [02:02<01:01, 28.84it/s]"
     ]
    },
    {
     "name": "stdout",
     "output_type": "stream",
     "text": [
      "3161\n",
      "outer_poly [(451, 85), (856, 234), (865, 739), (449, 834)]\n",
      "3162\n",
      "outer_poly [(407, 27), (1081, 77), (1108, 753), (387, 775)]\n",
      "3163\n",
      "outer_poly [(476, 330), (785, 321), (785, 651), (468, 641)]\n",
      "3164\n",
      "outer_poly [(612, 284), (857, 353), (856, 684), (601, 699)]\n",
      "3165\n",
      "outer_poly [(220, 156), (772, 212), (770, 742), (209, 781)]\n",
      "3166\n",
      "outer_poly [(474, 258), (764, 163), (774, 739), (479, 667)]\n"
     ]
    },
    {
     "name": "stderr",
     "output_type": "stream",
     "text": [
      " 64%|██████▍   | 3170/4943 [02:02<01:02, 28.50it/s]"
     ]
    },
    {
     "name": "stdout",
     "output_type": "stream",
     "text": [
      "3167\n",
      "outer_poly [(531, 343), (757, 301), (760, 651), (532, 628)]\n",
      "3168\n",
      "outer_poly [(625, 410), (780, 401), (781, 664), (624, 661)]\n",
      "3169\n",
      "outer_poly [(638, 289), (756, 171), (762, 664), (639, 630)]\n",
      "3170\n",
      "outer_poly [(532, 390), (667, 360), (667, 602), (532, 595)]\n",
      "3171\n",
      "outer_poly [(455, 289), (729, 322), (729, 611), (449, 617)]\n",
      "3172\n",
      "outer_poly [(406, 312), (674, 202), (690, 703), (405, 688)]\n"
     ]
    },
    {
     "name": "stderr",
     "output_type": "stream",
     "text": [
      " 64%|██████▍   | 3176/4943 [02:02<01:01, 28.90it/s]"
     ]
    },
    {
     "name": "stdout",
     "output_type": "stream",
     "text": [
      "3173\n",
      "outer_poly [(399, 254), (882, 237), (902, 743), (379, 739)]\n",
      "3174\n",
      "outer_poly [(525, 378), (692, 302), (702, 678), (524, 669)]\n",
      "3175\n",
      "outer_poly [(438, 264), (650, 10), (711, 724), (460, 719)]\n",
      "3176\n",
      "outer_poly [(544, 280), (697, 0), (780, 753), (579, 743)]\n",
      "3177\n",
      "outer_poly [(431, 236), (870, 215), (868, 689), (451, 655)]\n",
      "3178\n",
      "outer_poly [(213, 261), (641, 259), (647, 686), (210, 695)]\n"
     ]
    },
    {
     "name": "stderr",
     "output_type": "stream",
     "text": [
      " 64%|██████▍   | 3182/4943 [02:02<01:00, 29.21it/s]"
     ]
    },
    {
     "name": "stdout",
     "output_type": "stream",
     "text": [
      "3179\n",
      "outer_poly [(430, 53), (795, 192), (792, 659), (423, 745)]\n",
      "3180\n",
      "outer_poly [(644, 213), (777, 282), (780, 591), (644, 631)]\n",
      "3181\n",
      "outer_poly [(410, 367), (519, 350), (522, 565), (411, 555)]\n",
      "3182\n",
      "outer_poly [(411, 63), (634, 225), (633, 657), (401, 736)]\n",
      "3183\n",
      "outer_poly [(389, 228), (737, 280), (734, 640), (377, 657)]\n",
      "3184\n",
      "outer_poly [(419, 254), (822, 266), (826, 669), (413, 671)]\n"
     ]
    },
    {
     "name": "stderr",
     "output_type": "stream",
     "text": [
      " 64%|██████▍   | 3188/4943 [02:02<01:00, 29.21it/s]"
     ]
    },
    {
     "name": "stdout",
     "output_type": "stream",
     "text": [
      "3185\n",
      "outer_poly [(481, 345), (752, 346), (751, 618), (481, 614)]\n",
      "3186\n",
      "outer_poly [(453, 341), (738, 343), (737, 627), (447, 625)]\n",
      "3187\n",
      "outer_poly [(249, 145), (820, 136), (825, 728), (234, 718)]\n",
      "3188\n",
      "outer_poly [(372, 270), (702, 263), (700, 598), (372, 596)]\n",
      "3189\n",
      "outer_poly [(419, 282), (741, 272), (742, 602), (420, 601)]\n",
      "3190\n",
      "outer_poly [(476, 324), (685, 286), (688, 600), (477, 586)]\n"
     ]
    },
    {
     "name": "stderr",
     "output_type": "stream",
     "text": [
      " 65%|██████▍   | 3194/4943 [02:03<01:00, 28.80it/s]"
     ]
    },
    {
     "name": "stdout",
     "output_type": "stream",
     "text": [
      "3191\n",
      "outer_poly [(612, 339), (675, 303), (679, 566), (613, 551)]\n",
      "3192\n",
      "outer_poly [(509, 160), (685, 311), (690, 718), (502, 771)]\n",
      "3193\n",
      "outer_poly [(406, 189), (918, 118), (942, 715), (398, 700)]\n",
      "3194\n",
      "outer_poly [(397, 179), (903, 90), (923, 721), (397, 688)]\n",
      "3195\n",
      "outer_poly [(447, 401), (615, 372), (616, 632), (446, 625)]\n",
      "3196\n",
      "outer_poly [(341, 138), (1034, 12), (1149, 815), (300, 826)]\n"
     ]
    },
    {
     "name": "stderr",
     "output_type": "stream",
     "text": [
      " 65%|██████▍   | 3200/4943 [02:03<00:59, 29.16it/s]"
     ]
    },
    {
     "name": "stdout",
     "output_type": "stream",
     "text": [
      "3197\n",
      "outer_poly [(449, 152), (776, 277), (787, 694), (429, 720)]\n",
      "3198\n",
      "outer_poly [(540, 300), (689, 239), (690, 561), (540, 559)]\n",
      "3199\n",
      "outer_poly [(547, 381), (695, 318), (696, 679), (542, 662)]\n",
      "3200\n",
      "outer_poly [(538, 400), (681, 385), (683, 594), (538, 586)]\n",
      "3201\n",
      "outer_poly [(570, 385), (737, 360), (740, 620), (566, 607)]\n",
      "3202\n",
      "outer_poly [(506, 192), (1016, 0), (1061, 6), (1113, 855), (517, 762)]\n"
     ]
    },
    {
     "name": "stderr",
     "output_type": "stream",
     "text": [
      " 65%|██████▍   | 3206/4943 [02:03<01:00, 28.91it/s]"
     ]
    },
    {
     "name": "stdout",
     "output_type": "stream",
     "text": [
      "3203\n",
      "outer_poly [(458, 347), (823, 362), (829, 731), (443, 725)]\n",
      "3204\n",
      "outer_poly [(490, 419), (787, 427), (791, 727), (482, 723)]\n",
      "3205\n",
      "outer_poly [(412, 243), (929, 245), (959, 776), (388, 778)]\n",
      "3206\n",
      "outer_poly [(337, 240), (853, 215), (874, 773), (303, 761)]\n",
      "3207\n",
      "outer_poly [(584, 469), (733, 441), (734, 674), (583, 671)]\n",
      "3208\n",
      "outer_poly [(490, 347), (852, 323), (858, 724), (484, 709)]\n"
     ]
    },
    {
     "name": "stderr",
     "output_type": "stream",
     "text": [
      " 65%|██████▍   | 3212/4943 [02:03<01:00, 28.53it/s]"
     ]
    },
    {
     "name": "stdout",
     "output_type": "stream",
     "text": [
      "3209\n",
      "outer_poly [(355, 68), (838, 195), (851, 695), (319, 694)]\n",
      "3210\n",
      "outer_poly [(414, 250), (769, 187), (762, 710), (414, 652)]\n",
      "3211\n",
      "outer_poly [(330, 372), (636, 363), (640, 679), (322, 681)]\n",
      "3212\n",
      "outer_poly [(847, 141), (1295, 211), (1294, 737), (840, 795)]\n",
      "3213\n",
      "outer_poly [(429, 111), (1005, 174), (1004, 742), (411, 767)]\n",
      "3214\n",
      "outer_poly [(196, 3), (186, 864), (1179, 858), (1169, 3)]\n"
     ]
    },
    {
     "name": "stderr",
     "output_type": "stream",
     "text": [
      " 65%|██████▌   | 3218/4943 [02:03<01:00, 28.73it/s]"
     ]
    },
    {
     "name": "stdout",
     "output_type": "stream",
     "text": [
      "3215\n",
      "outer_poly [(485, 57), (977, 185), (979, 729), (477, 821)]\n",
      "3216\n",
      "outer_poly [(596, 410), (759, 434), (760, 655), (592, 666)]\n",
      "3217\n",
      "outer_poly [(537, 183), (872, 282), (884, 710), (537, 771)]\n",
      "3218\n",
      "outer_poly [(129, 0), (61, 859), (900, 785), (902, 76), (671, 0)]\n",
      "3219\n",
      "outer_poly [(478, 334), (799, 338), (794, 659), (473, 653)]\n",
      "3220\n",
      "outer_poly [(382, 145), (986, 146), (988, 753), (379, 748)]\n"
     ]
    },
    {
     "name": "stderr",
     "output_type": "stream",
     "text": [
      " 65%|██████▌   | 3224/4943 [02:04<00:59, 28.69it/s]"
     ]
    },
    {
     "name": "stdout",
     "output_type": "stream",
     "text": [
      "3221\n",
      "outer_poly [(432, 318), (727, 323), (724, 611), (430, 616)]\n",
      "3222\n",
      "outer_poly [(659, 327), (946, 325), (948, 614), (658, 612)]\n",
      "3223\n",
      "outer_poly [(275, 272), (438, 226), (439, 634), (275, 588)]\n",
      "3224\n",
      "outer_poly [(735, 253), (732, 602), (652, 564), (653, 299)]\n",
      "3225\n",
      "outer_poly [(477, 227), (655, 42), (663, 864), (479, 712)]\n",
      "3226\n",
      "outer_poly [(522, 253), (797, 316), (797, 661), (521, 691)]\n"
     ]
    },
    {
     "name": "stderr",
     "output_type": "stream",
     "text": [
      " 65%|██████▌   | 3230/4943 [02:04<01:00, 28.55it/s]"
     ]
    },
    {
     "name": "stdout",
     "output_type": "stream",
     "text": [
      "3227\n",
      "outer_poly [(442, 244), (857, 293), (860, 719), (431, 734)]\n",
      "3228\n",
      "outer_poly [(590, 307), (829, 223), (838, 660), (591, 637)]\n",
      "3229\n",
      "outer_poly [(423, 221), (842, 165), (850, 664), (413, 649)]\n",
      "3230\n",
      "outer_poly [(491, 384), (787, 386), (790, 682), (484, 685)]\n",
      "3231\n",
      "outer_poly [(491, 252), (816, 103), (844, 694), (490, 678)]\n",
      "3232\n",
      "outer_poly [(629, 478), (699, 410), (705, 736), (634, 725)]\n"
     ]
    },
    {
     "name": "stderr",
     "output_type": "stream",
     "text": [
      " 65%|██████▌   | 3236/4943 [02:04<00:59, 28.78it/s]"
     ]
    },
    {
     "name": "stdout",
     "output_type": "stream",
     "text": [
      "3233\n",
      "outer_poly [(468, 299), (609, 403), (606, 711), (457, 715)]\n",
      "3234\n",
      "outer_poly [(361, 111), (869, 120), (890, 625), (353, 633)]\n",
      "3235\n",
      "outer_poly [(899, 57), (942, 698), (268, 708), (300, 97)]\n",
      "3236\n",
      "outer_poly [(356, 188), (840, 90), (877, 681), (346, 682)]\n",
      "3237\n",
      "outer_poly [(553, 363), (650, 250), (685, 681), (576, 683)]\n",
      "3238\n",
      "outer_poly [(321, 237), (801, 251), (807, 723), (314, 735)]\n"
     ]
    },
    {
     "name": "stderr",
     "output_type": "stream",
     "text": [
      " 66%|██████▌   | 3242/4943 [02:04<01:00, 28.08it/s]"
     ]
    },
    {
     "name": "stdout",
     "output_type": "stream",
     "text": [
      "3239\n",
      "outer_poly [(357, 242), (732, 265), (737, 629), (358, 647)]\n",
      "3240\n",
      "outer_poly [(294, 132), (833, 144), (839, 678), (292, 688)]\n",
      "3241\n",
      "outer_poly [(348, 254), (696, 270), (699, 607), (346, 617)]\n",
      "3242\n",
      "outer_poly [(448, 289), (705, 200), (715, 717), (452, 668)]\n",
      "3243\n",
      "outer_poly [(430, 95), (822, 216), (829, 694), (427, 773)]\n",
      "3244\n",
      "outer_poly [(553, 147), (821, 245), (817, 671), (550, 763)]\n"
     ]
    },
    {
     "name": "stderr",
     "output_type": "stream",
     "text": [
      " 66%|██████▌   | 3248/4943 [02:05<01:00, 27.93it/s]"
     ]
    },
    {
     "name": "stdout",
     "output_type": "stream",
     "text": [
      "3245\n",
      "outer_poly [(600, 325), (731, 305), (736, 527), (605, 517)]\n",
      "3246\n",
      "outer_poly [(328, 30), (634, 207), (631, 668), (312, 750)]\n",
      "3247\n",
      "outer_poly [(376, 247), (787, 258), (788, 670), (368, 670)]\n",
      "3248\n",
      "outer_poly [(413, 170), (819, 51), (825, 701), (413, 646)]\n",
      "3249\n",
      "outer_poly [(481, 378), (618, 357), (622, 560), (486, 556)]\n",
      "3250\n",
      "outer_poly [(642, 377), (770, 358), (772, 556), (644, 554)]\n"
     ]
    },
    {
     "name": "stderr",
     "output_type": "stream",
     "text": [
      " 66%|██████▌   | 3254/4943 [02:05<01:02, 26.94it/s]"
     ]
    },
    {
     "name": "stdout",
     "output_type": "stream",
     "text": [
      "3251\n",
      "outer_poly [(505, 51), (725, 264), (733, 737), (502, 820)]\n",
      "3252\n",
      "outer_poly [(504, 310), (681, 377), (685, 675), (503, 700)]\n",
      "3253\n",
      "outer_poly [(516, 239), (767, 329), (774, 690), (512, 730)]\n",
      "3254\n",
      "outer_poly [(544, 343), (857, 341), (860, 659), (544, 658)]\n",
      "3255\n",
      "outer_poly [(561, 282), (738, 70), (756, 812), (564, 730)]\n"
     ]
    },
    {
     "name": "stderr",
     "output_type": "stream",
     "text": [
      " 66%|██████▌   | 3260/4943 [02:05<01:04, 26.07it/s]"
     ]
    },
    {
     "name": "stdout",
     "output_type": "stream",
     "text": [
      "3256\n",
      "outer_poly [(544, 291), (776, 269), (783, 525), (548, 528)]\n",
      "3257\n",
      "outer_poly [(505, 210), (804, 49), (824, 630), (504, 624)]\n",
      "3258\n",
      "outer_poly [(526, 260), (663, 167), (667, 564), (529, 561)]\n",
      "3259\n",
      "outer_poly [(505, 260), (773, 313), (778, 618), (501, 623)]\n",
      "3260\n",
      "outer_poly [(584, 186), (767, 284), (773, 626), (582, 650)]\n",
      "3261\n",
      "outer_poly [(404, 276), (831, 261), (836, 716), (388, 704)]\n"
     ]
    },
    {
     "name": "stderr",
     "output_type": "stream",
     "text": [
      " 66%|██████▌   | 3266/4943 [02:05<01:04, 25.81it/s]"
     ]
    },
    {
     "name": "stdout",
     "output_type": "stream",
     "text": [
      "3262\n",
      "outer_poly [(604, 289), (764, 137), (781, 705), (606, 672)]\n",
      "3263\n",
      "outer_poly [(376, 323), (705, 300), (707, 659), (374, 655)]\n",
      "3264\n",
      "outer_poly [(396, 286), (747, 206), (751, 732), (391, 691)]\n",
      "3265\n",
      "outer_poly [(511, 393), (697, 353), (704, 670), (514, 655)]\n",
      "3266\n",
      "outer_poly [(566, 230), (918, 43), (949, 794), (575, 707)]\n",
      "3267\n"
     ]
    },
    {
     "name": "stderr",
     "output_type": "stream",
     "text": [
      " 66%|██████▌   | 3272/4943 [02:05<01:04, 25.78it/s]"
     ]
    },
    {
     "name": "stdout",
     "output_type": "stream",
     "text": [
      "outer_poly [(593, 429), (676, 407), (679, 608), (596, 601)]\n",
      "3268\n",
      "outer_poly [(638, 258), (878, 248), (880, 550), (642, 546)]\n",
      "3269\n",
      "outer_poly [(475, 256), (714, 349), (719, 682), (463, 689)]\n",
      "3270\n",
      "outer_poly [(517, 198), (837, 42), (834, 824), (522, 679)]\n",
      "3271\n",
      "outer_poly [(648, 330), (313, 288), (304, 671), (654, 662)]\n",
      "3272\n",
      "outer_poly [(369, 274), (739, 306), (753, 677), (361, 678)]\n"
     ]
    },
    {
     "name": "stderr",
     "output_type": "stream",
     "text": [
      " 66%|██████▋   | 3278/4943 [02:06<01:03, 26.18it/s]"
     ]
    },
    {
     "name": "stdout",
     "output_type": "stream",
     "text": [
      "3273\n",
      "outer_poly [(541, 314), (700, 343), (699, 581), (537, 603)]\n",
      "3274\n",
      "outer_poly [(527, 480), (632, 403), (647, 750), (532, 747)]\n",
      "3275\n",
      "outer_poly [(433, 287), (795, 322), (801, 693), (426, 710)]\n",
      "3276\n",
      "outer_poly [(208, 202), (669, 220), (668, 658), (209, 674)]\n",
      "3277\n",
      "outer_poly [(396, 262), (764, 277), (763, 639), (393, 648)]\n",
      "3278\n",
      "outer_poly [(261, 83), (954, 62), (966, 787), (249, 771)]\n"
     ]
    },
    {
     "name": "stderr",
     "output_type": "stream",
     "text": [
      " 66%|██████▋   | 3284/4943 [02:06<01:04, 25.63it/s]"
     ]
    },
    {
     "name": "stdout",
     "output_type": "stream",
     "text": [
      "3279\n",
      "outer_poly [(423, 307), (791, 318), (787, 690), (408, 685)]\n",
      "3280\n",
      "outer_poly [(525, 408), (836, 405), (835, 728), (511, 719)]\n",
      "3281\n",
      "outer_poly [(485, 115), (742, 121), (741, 377), (484, 377)]\n",
      "3282\n",
      "outer_poly [(269, 270), (590, 271), (595, 588), (268, 593)]\n",
      "3283\n",
      "outer_poly [(592, 125), (890, 229), (884, 658), (585, 743)]\n",
      "3284\n"
     ]
    },
    {
     "name": "stderr",
     "output_type": "stream",
     "text": [
      "\r",
      " 66%|██████▋   | 3287/4943 [02:06<01:04, 25.67it/s]"
     ]
    },
    {
     "name": "stdout",
     "output_type": "stream",
     "text": [
      "outer_poly [(525, 175), (940, 18), (927, 849), (522, 692)]\n",
      "3285\n",
      "outer_poly [(340, 287), (655, 299), (654, 612), (338, 614)]\n",
      "3286\n",
      "outer_poly [(544, 421), (711, 452), (712, 710), (540, 739)]\n",
      "3287\n",
      "outer_poly [(504, 292), (790, 327), (793, 632), (503, 647)]\n",
      "3288\n",
      "outer_poly [(524, 375), (686, 350), (687, 609), (528, 597)]\n",
      "3289\n",
      "outer_poly [(428, 243), (878, 276), (886, 728), (417, 741)]\n"
     ]
    },
    {
     "name": "stderr",
     "output_type": "stream",
     "text": [
      " 67%|██████▋   | 3293/4943 [02:06<01:05, 25.14it/s]"
     ]
    },
    {
     "name": "stdout",
     "output_type": "stream",
     "text": [
      "3290\n",
      "outer_poly [(492, 347), (685, 315), (687, 607), (491, 597)]\n",
      "3291\n",
      "outer_poly [(497, 280), (831, 286), (833, 619), (495, 617)]\n",
      "3292\n",
      "outer_poly [(692, 258), (692, 625), (308, 633), (317, 221)]\n",
      "3293\n",
      "outer_poly [(465, 91), (641, 299), (646, 743), (451, 790)]\n",
      "3294\n",
      "outer_poly [(482, 322), (634, 412), (631, 727), (470, 744)]\n"
     ]
    },
    {
     "name": "stderr",
     "output_type": "stream",
     "text": [
      " 67%|██████▋   | 3299/4943 [02:07<01:05, 24.94it/s]"
     ]
    },
    {
     "name": "stdout",
     "output_type": "stream",
     "text": [
      "3295\n",
      "outer_poly [(429, 320), (768, 339), (781, 686), (426, 691)]\n",
      "3296\n",
      "outer_poly [(439, 255), (602, 376), (599, 707), (430, 717)]\n",
      "3297\n",
      "outer_poly [(416, 198), (702, 0), (723, 1), (753, 667), (418, 659)]\n",
      "3298\n",
      "outer_poly [(450, 285), (631, 105), (678, 676), (474, 680)]\n",
      "3299\n",
      "outer_poly [(518, 320), (635, 153), (679, 689), (541, 688)]\n"
     ]
    },
    {
     "name": "stderr",
     "output_type": "stream",
     "text": [
      " 67%|██████▋   | 3305/4943 [02:07<01:04, 25.42it/s]"
     ]
    },
    {
     "name": "stdout",
     "output_type": "stream",
     "text": [
      "3300\n",
      "outer_poly [(416, 200), (859, 198), (851, 640), (427, 634)]\n",
      "3301\n",
      "outer_poly [(558, 504), (726, 500), (730, 671), (565, 671)]\n",
      "3302\n",
      "outer_poly [(451, 365), (644, 365), (644, 557), (450, 557)]\n",
      "3303\n",
      "outer_poly [(1071, 118), (1081, 746), (481, 721), (485, 156)]\n",
      "3304\n",
      "outer_poly [(383, 159), (927, 78), (930, 744), (384, 695)]\n",
      "3305\n",
      "outer_poly [(631, 268), (753, 216), (758, 607), (635, 561)]\n"
     ]
    },
    {
     "name": "stderr",
     "output_type": "stream",
     "text": [
      " 67%|██████▋   | 3311/4943 [02:07<01:03, 25.60it/s]"
     ]
    },
    {
     "name": "stdout",
     "output_type": "stream",
     "text": [
      "3306\n",
      "outer_poly [(458, 365), (768, 389), (768, 701), (453, 715)]\n",
      "3307\n",
      "outer_poly [(303, 147), (918, 193), (927, 798), (282, 825)]\n",
      "3308\n",
      "outer_poly [(360, 156), (1011, 109), (1032, 815), (352, 792)]\n",
      "3309\n",
      "outer_poly [(519, 407), (686, 374), (688, 671), (518, 652)]\n",
      "3310\n",
      "outer_poly [(495, 305), (826, 311), (829, 647), (490, 643)]\n",
      "3311\n",
      "outer_poly [(363, 244), (787, 251), (784, 675), (354, 671)]\n"
     ]
    },
    {
     "name": "stderr",
     "output_type": "stream",
     "text": [
      " 67%|██████▋   | 3317/4943 [02:07<01:03, 25.60it/s]"
     ]
    },
    {
     "name": "stdout",
     "output_type": "stream",
     "text": [
      "3312\n",
      "outer_poly [(399, 262), (641, 202), (645, 619), (398, 592)]\n",
      "3313\n",
      "outer_poly [(443, 238), (588, 122), (593, 662), (450, 608)]\n",
      "3314\n",
      "outer_poly [(577, 410), (770, 425), (772, 637), (572, 643)]\n",
      "3315\n",
      "outer_poly [(337, 238), (815, 266), (828, 741), (323, 755)]\n",
      "3316\n",
      "outer_poly [(592, 263), (794, 34), (821, 817), (599, 731)]\n",
      "3317\n",
      "outer_poly [(463, 383), (675, 409), (674, 631), (458, 629)]\n"
     ]
    },
    {
     "name": "stderr",
     "output_type": "stream",
     "text": [
      " 67%|██████▋   | 3323/4943 [02:07<01:02, 25.87it/s]"
     ]
    },
    {
     "name": "stdout",
     "output_type": "stream",
     "text": [
      "3318\n",
      "outer_poly [(556, 322), (793, 344), (802, 601), (560, 607)]\n",
      "3319\n",
      "outer_poly [(442, 325), (800, 332), (802, 690), (431, 690)]\n",
      "3320\n",
      "outer_poly [(569, 331), (661, 277), (662, 559), (571, 553)]\n",
      "3321\n",
      "outer_poly [(494, 111), (938, 202), (952, 672), (486, 704)]\n",
      "3322\n",
      "outer_poly [(504, 309), (788, 243), (797, 656), (508, 641)]\n",
      "3323\n"
     ]
    },
    {
     "name": "stderr",
     "output_type": "stream",
     "text": [
      "\r",
      " 67%|██████▋   | 3326/4943 [02:08<01:01, 26.18it/s]"
     ]
    },
    {
     "name": "stdout",
     "output_type": "stream",
     "text": [
      "outer_poly [(597, 230), (734, 309), (731, 620), (597, 655)]\n",
      "3324\n",
      "outer_poly [(589, 449), (759, 495), (756, 735), (584, 741)]\n",
      "3325\n",
      "outer_poly [(600, 341), (792, 384), (793, 634), (600, 638)]\n",
      "3326\n",
      "outer_poly [(539, 254), (892, 319), (902, 700), (524, 705)]\n",
      "3327\n",
      "outer_poly [(504, 365), (704, 335), (703, 625), (501, 613)]\n",
      "3328\n",
      "outer_poly [(297, 248), (793, 199), (808, 773), (260, 759)]\n"
     ]
    },
    {
     "name": "stderr",
     "output_type": "stream",
     "text": [
      " 67%|██████▋   | 3332/4943 [02:08<01:02, 25.67it/s]"
     ]
    },
    {
     "name": "stdout",
     "output_type": "stream",
     "text": [
      "3329\n",
      "outer_poly [(369, 106), (964, 17), (967, 732), (382, 676)]\n",
      "3330\n",
      "outer_poly [(552, 433), (704, 361), (707, 728), (546, 720)]\n",
      "3331\n",
      "outer_poly [(572, 286), (827, 40), (859, 795), (568, 756)]\n",
      "3332\n",
      "outer_poly [(551, 276), (757, 247), (754, 543), (557, 522)]\n",
      "3333\n",
      "outer_poly [(686, 334), (848, 310), (849, 580), (689, 562)]\n"
     ]
    },
    {
     "name": "stderr",
     "output_type": "stream",
     "text": [
      " 68%|██████▊   | 3338/4943 [02:08<01:03, 25.36it/s]"
     ]
    },
    {
     "name": "stdout",
     "output_type": "stream",
     "text": [
      "3334\n",
      "outer_poly [(365, 250), (763, 283), (780, 681), (357, 687)]\n",
      "3335\n",
      "outer_poly [(736, 334), (826, 356), (827, 561), (732, 579)]\n",
      "3336\n",
      "outer_poly [(665, 219), (800, 296), (797, 646), (659, 714)]\n",
      "3337\n",
      "outer_poly [(643, 339), (887, 350), (884, 602), (641, 606)]\n",
      "3338\n",
      "outer_poly [(419, 210), (785, 248), (783, 628), (416, 663)]\n"
     ]
    },
    {
     "name": "stderr",
     "output_type": "stream",
     "text": [
      " 68%|██████▊   | 3344/4943 [02:08<01:03, 25.24it/s]"
     ]
    },
    {
     "name": "stdout",
     "output_type": "stream",
     "text": [
      "3339\n",
      "outer_poly [(356, 161), (808, 235), (830, 691), (338, 706)]\n",
      "3340\n",
      "outer_poly [(648, 311), (955, 307), (956, 620), (645, 612)]\n",
      "3341\n",
      "outer_poly [(616, 233), (1033, 192), (1051, 642), (625, 635)]\n",
      "3342\n",
      "outer_poly [(430, 285), (813, 291), (824, 670), (427, 674)]\n",
      "3343\n",
      "outer_poly [(491, 176), (891, 210), (902, 614), (489, 629)]\n",
      "3344\n"
     ]
    },
    {
     "name": "stderr",
     "output_type": "stream",
     "text": [
      "\r",
      " 68%|██████▊   | 3347/4943 [02:08<01:03, 25.15it/s]"
     ]
    },
    {
     "name": "stdout",
     "output_type": "stream",
     "text": [
      "outer_poly [(478, 223), (860, 230), (859, 611), (472, 605)]\n",
      "3345\n",
      "outer_poly [(464, 276), (771, 262), (766, 610), (460, 590)]\n",
      "3346\n",
      "outer_poly [(686, 395), (731, 369), (734, 589), (688, 575)]\n",
      "3347\n",
      "outer_poly [(456, 19), (710, 254), (710, 743), (434, 852)]\n",
      "3348\n",
      "outer_poly [(403, 241), (909, 225), (916, 766), (383, 750)]\n",
      "3349\n",
      "outer_poly [(619, 284), (738, 168), (740, 650), (623, 618)]\n"
     ]
    },
    {
     "name": "stderr",
     "output_type": "stream",
     "text": [
      " 68%|██████▊   | 3353/4943 [02:09<01:03, 24.96it/s]"
     ]
    },
    {
     "name": "stdout",
     "output_type": "stream",
     "text": [
      "3350\n",
      "outer_poly [(362, 124), (855, 237), (876, 747), (337, 776)]\n",
      "3351\n",
      "outer_poly [(387, 107), (855, 211), (879, 700), (376, 719)]\n",
      "3352\n",
      "outer_poly [(346, 118), (800, 227), (821, 693), (330, 714)]\n",
      "3353\n",
      "outer_poly [(250, 81), (891, 99), (927, 746), (211, 758)]\n",
      "3354\n",
      "outer_poly [(353, 175), (935, 123), (976, 765), (329, 760)]\n",
      "3355\n",
      "outer_poly [(438, 310), (868, 262), (896, 739), (431, 744)]\n"
     ]
    },
    {
     "name": "stderr",
     "output_type": "stream",
     "text": [
      " 68%|██████▊   | 3359/4943 [02:09<00:59, 26.54it/s]"
     ]
    },
    {
     "name": "stdout",
     "output_type": "stream",
     "text": [
      "3356\n",
      "outer_poly [(520, 316), (739, 387), (744, 688), (513, 695)]\n",
      "3357\n",
      "outer_poly [(570, 420), (727, 380), (738, 638), (575, 639)]\n",
      "3358\n",
      "outer_poly [(643, 418), (798, 376), (811, 631), (653, 635)]\n",
      "3359\n",
      "outer_poly [(386, 220), (746, 109), (756, 723), (394, 664)]\n",
      "3360\n",
      "outer_poly [(235, 306), (498, 314), (497, 575), (233, 581)]\n",
      "3361\n",
      "outer_poly [(441, 358), (642, 325), (646, 630), (444, 617)]\n"
     ]
    },
    {
     "name": "stderr",
     "output_type": "stream",
     "text": [
      " 68%|██████▊   | 3365/4943 [02:09<00:57, 27.43it/s]"
     ]
    },
    {
     "name": "stdout",
     "output_type": "stream",
     "text": [
      "3362\n",
      "outer_poly [(409, 46), (981, 122), (980, 693), (418, 777)]\n",
      "3363\n",
      "outer_poly [(446, 250), (774, 238), (777, 576), (451, 574)]\n",
      "3364\n",
      "outer_poly [(211, 114), (799, 50), (797, 759), (222, 698)]\n",
      "3365\n",
      "outer_poly [(484, 392), (734, 412), (735, 677), (481, 686)]\n",
      "3366\n",
      "outer_poly [(350, 50), (711, 207), (706, 676), (331, 745)]\n",
      "3367\n",
      "outer_poly [(467, 311), (768, 324), (770, 627), (463, 634)]\n"
     ]
    },
    {
     "name": "stderr",
     "output_type": "stream",
     "text": [
      " 68%|██████▊   | 3371/4943 [02:09<00:55, 28.10it/s]"
     ]
    },
    {
     "name": "stdout",
     "output_type": "stream",
     "text": [
      "3368\n",
      "outer_poly [(470, 285), (828, 296), (830, 654), (463, 652)]\n",
      "3369\n",
      "outer_poly [(499, 308), (729, 261), (736, 620), (496, 601)]\n",
      "3370\n",
      "outer_poly [(471, 313), (674, 283), (677, 588), (472, 572)]\n",
      "3371\n",
      "outer_poly [(417, 204), (937, 199), (956, 732), (405, 732)]\n",
      "3372\n",
      "outer_poly [(565, 436), (701, 409), (706, 635), (569, 628)]\n",
      "3373\n",
      "outer_poly [(582, 372), (708, 294), (721, 694), (586, 669)]\n"
     ]
    },
    {
     "name": "stderr",
     "output_type": "stream",
     "text": [
      " 68%|██████▊   | 3377/4943 [02:10<00:55, 28.20it/s]"
     ]
    },
    {
     "name": "stdout",
     "output_type": "stream",
     "text": [
      "3374\n",
      "outer_poly [(492, 353), (785, 365), (792, 665), (487, 669)]\n",
      "3375\n",
      "outer_poly [(572, 314), (765, 341), (767, 571), (571, 579)]\n",
      "3376\n",
      "outer_poly [(380, 305), (758, 288), (765, 693), (368, 687)]\n",
      "3377\n",
      "outer_poly [(492, 238), (799, 56), (816, 738), (486, 692)]\n",
      "3378\n",
      "outer_poly [(580, 393), (744, 341), (748, 662), (578, 651)]\n",
      "3379\n",
      "outer_poly [(358, 344), (760, 301), (776, 786), (351, 766)]\n"
     ]
    },
    {
     "name": "stderr",
     "output_type": "stream",
     "text": [
      " 68%|██████▊   | 3383/4943 [02:10<00:54, 28.46it/s]"
     ]
    },
    {
     "name": "stdout",
     "output_type": "stream",
     "text": [
      "3380\n",
      "outer_poly [(358, 234), (800, 181), (808, 711), (350, 685)]\n",
      "3381\n",
      "outer_poly [(524, 396), (656, 380), (656, 578), (522, 569)]\n",
      "3382\n",
      "outer_poly [(544, 269), (820, 133), (837, 747), (550, 684)]\n",
      "3383\n",
      "outer_poly [(341, 128), (968, 136), (1006, 781), (298, 779)]\n",
      "3384\n",
      "outer_poly [(458, 300), (899, 306), (918, 759), (439, 754)]\n",
      "3385\n",
      "outer_poly [(313, 183), (941, 51), (968, 864), (671, 864), (299, 815)]\n"
     ]
    },
    {
     "name": "stderr",
     "output_type": "stream",
     "text": [
      " 69%|██████▊   | 3389/4943 [02:10<00:57, 26.85it/s]"
     ]
    },
    {
     "name": "stdout",
     "output_type": "stream",
     "text": [
      "3386\n",
      "outer_poly [(522, 388), (871, 350), (886, 749), (516, 745)]\n",
      "3387\n",
      "outer_poly [(199, 248), (731, 227), (733, 809), (174, 789)]\n",
      "3388\n",
      "outer_poly [(546, 331), (817, 206), (840, 726), (546, 712)]\n",
      "3389\n",
      "outer_poly [(729, 315), (739, 691), (341, 694), (348, 309)]\n",
      "3390\n",
      "outer_poly [(646, 316), (883, 323), (884, 576), (646, 581)]\n",
      "3391\n"
     ]
    },
    {
     "name": "stderr",
     "output_type": "stream",
     "text": [
      " 69%|██████▊   | 3395/4943 [02:10<00:56, 27.60it/s]"
     ]
    },
    {
     "name": "stdout",
     "output_type": "stream",
     "text": [
      "outer_poly [(500, 387), (737, 364), (750, 633), (504, 636)]\n",
      "3392\n",
      "outer_poly [(515, 369), (740, 306), (748, 654), (513, 653)]\n",
      "3393\n",
      "outer_poly [(624, 385), (839, 325), (854, 657), (629, 656)]\n",
      "3394\n",
      "outer_poly [(788, 335), (882, 354), (881, 562), (787, 581)]\n",
      "3395\n",
      "outer_poly [(585, 466), (694, 444), (699, 635), (587, 636)]\n",
      "3396\n",
      "outer_poly [(547, 210), (950, 260), (951, 688), (539, 721)]\n"
     ]
    },
    {
     "name": "stderr",
     "output_type": "stream",
     "text": [
      " 69%|██████▉   | 3401/4943 [02:10<00:54, 28.14it/s]"
     ]
    },
    {
     "name": "stdout",
     "output_type": "stream",
     "text": [
      "3397\n",
      "outer_poly [(385, 22), (1152, 63), (1197, 862), (314, 847)]\n",
      "3398\n",
      "outer_poly [(267, 37), (841, 156), (867, 722), (215, 736)]\n",
      "3399\n",
      "outer_poly [(683, 309), (995, 301), (1000, 617), (683, 614)]\n",
      "3400\n",
      "outer_poly [(485, 279), (814, 261), (827, 599), (494, 604)]\n",
      "3401\n",
      "outer_poly [(397, 251), (695, 290), (697, 601), (395, 615)]\n",
      "3402\n",
      "outer_poly [(353, 67), (930, 113), (916, 665), (351, 686)]\n"
     ]
    },
    {
     "name": "stderr",
     "output_type": "stream",
     "text": [
      " 69%|██████▉   | 3407/4943 [02:11<00:53, 28.76it/s]"
     ]
    },
    {
     "name": "stdout",
     "output_type": "stream",
     "text": [
      "3403\n",
      "outer_poly [(480, 380), (850, 359), (858, 768), (477, 751)]\n",
      "3404\n",
      "outer_poly [(464, 343), (714, 341), (716, 598), (464, 598)]\n",
      "3405\n",
      "outer_poly [(401, 314), (785, 284), (789, 717), (393, 707)]\n",
      "3406\n",
      "outer_poly [(439, 231), (707, 84), (714, 695), (435, 652)]\n",
      "3407\n",
      "outer_poly [(493, 161), (790, 310), (802, 738), (482, 772)]\n",
      "3408\n",
      "outer_poly [(448, 311), (843, 274), (859, 712), (444, 708)]\n"
     ]
    },
    {
     "name": "stderr",
     "output_type": "stream",
     "text": [
      " 69%|██████▉   | 3413/4943 [02:11<00:52, 29.10it/s]"
     ]
    },
    {
     "name": "stdout",
     "output_type": "stream",
     "text": [
      "3409\n",
      "outer_poly [(512, 387), (727, 335), (738, 668), (513, 664)]\n",
      "3410\n",
      "outer_poly [(521, 376), (689, 313), (698, 655), (519, 651)]\n",
      "3411\n",
      "outer_poly [(483, 255), (739, 99), (775, 656), (493, 655)]\n",
      "3412\n",
      "outer_poly [(473, 360), (685, 361), (690, 577), (476, 582)]\n",
      "3413\n",
      "outer_poly [(118, 247), (587, 270), (586, 714), (107, 730)]\n",
      "3414\n",
      "outer_poly [(548, 196), (716, 257), (716, 585), (552, 645)]\n"
     ]
    },
    {
     "name": "stderr",
     "output_type": "stream",
     "text": [
      " 69%|██████▉   | 3419/4943 [02:11<00:53, 28.59it/s]"
     ]
    },
    {
     "name": "stdout",
     "output_type": "stream",
     "text": [
      "3415\n",
      "outer_poly [(556, 314), (781, 357), (781, 670), (555, 712)]\n",
      "3416\n",
      "outer_poly [(571, 307), (802, 292), (803, 547), (578, 541)]\n",
      "3417\n",
      "outer_poly [(523, 101), (794, 253), (798, 720), (513, 820)]\n",
      "3418\n",
      "outer_poly [(445, 131), (816, 252), (819, 712), (435, 790)]\n",
      "3419\n",
      "outer_poly [(630, 369), (854, 381), (858, 624), (633, 634)]\n",
      "3420\n",
      "outer_poly [(491, 267), (891, 273), (896, 677), (491, 680)]\n"
     ]
    },
    {
     "name": "stderr",
     "output_type": "stream",
     "text": [
      " 69%|██████▉   | 3425/4943 [02:11<00:57, 26.36it/s]"
     ]
    },
    {
     "name": "stdout",
     "output_type": "stream",
     "text": [
      "3421\n",
      "outer_poly [(572, 346), (833, 346), (835, 608), (572, 607)]\n",
      "3422\n",
      "outer_poly [(412, 302), (807, 295), (811, 705), (406, 697)]\n",
      "3423\n",
      "outer_poly [(370, 338), (648, 292), (652, 707), (370, 681)]\n",
      "3424\n",
      "outer_poly [(546, 391), (631, 329), (634, 715), (549, 678)]\n",
      "3425\n",
      "outer_poly [(390, 261), (728, 257), (726, 602), (387, 598)]\n",
      "3426\n"
     ]
    },
    {
     "name": "stderr",
     "output_type": "stream",
     "text": [
      " 69%|██████▉   | 3431/4943 [02:11<00:53, 28.02it/s]"
     ]
    },
    {
     "name": "stdout",
     "output_type": "stream",
     "text": [
      "outer_poly [(456, 283), (713, 228), (717, 627), (456, 602)]\n",
      "3427\n",
      "outer_poly [(540, 347), (616, 318), (616, 561), (542, 549)]\n",
      "3428\n",
      "outer_poly [(569, 321), (873, 358), (879, 684), (569, 698)]\n",
      "3429\n",
      "outer_poly [(520, 366), (798, 392), (804, 685), (516, 693)]\n",
      "3430\n",
      "outer_poly [(383, 192), (857, 123), (869, 702), (375, 674)]\n",
      "3431\n",
      "outer_poly [(464, 417), (616, 391), (622, 630), (462, 624)]\n",
      "3432\n"
     ]
    },
    {
     "name": "stderr",
     "output_type": "stream",
     "text": [
      " 70%|██████▉   | 3437/4943 [02:12<00:53, 28.41it/s]"
     ]
    },
    {
     "name": "stdout",
     "output_type": "stream",
     "text": [
      "outer_poly [(586, 331), (719, 402), (718, 693), (581, 708)]\n",
      "3433\n",
      "outer_poly [(486, 233), (832, 36), (866, 699), (485, 693)]\n",
      "3434\n",
      "outer_poly [(435, 185), (852, 266), (862, 702), (420, 721)]\n",
      "3435\n",
      "outer_poly [(522, 233), (790, 275), (795, 575), (517, 579)]\n",
      "3436\n",
      "outer_poly [(524, 381), (822, 373), (827, 681), (522, 679)]\n",
      "3437\n",
      "outer_poly [(446, 21), (1015, 162), (1058, 769), (431, 824)]\n"
     ]
    },
    {
     "name": "stderr",
     "output_type": "stream",
     "text": [
      " 70%|██████▉   | 3443/4943 [02:12<00:53, 28.04it/s]"
     ]
    },
    {
     "name": "stdout",
     "output_type": "stream",
     "text": [
      "3438\n",
      "outer_poly [(509, 307), (814, 258), (825, 633), (512, 629)]\n",
      "3439\n",
      "outer_poly [(561, 336), (737, 309), (741, 548), (565, 546)]\n",
      "3440\n",
      "outer_poly [(506, 350), (708, 296), (713, 638), (506, 626)]\n",
      "3441\n",
      "outer_poly [(547, 576), (773, 585), (766, 261), (544, 306)]\n",
      "3442\n",
      "outer_poly [(484, 182), (960, 0), (1057, 2), (1115, 864), (1078, 864), (488, 772)]\n",
      "3443\n",
      "outer_poly [(775, 412), (654, 431), (657, 612), (778, 619)]\n"
     ]
    },
    {
     "name": "stderr",
     "output_type": "stream",
     "text": [
      " 70%|██████▉   | 3449/4943 [02:12<00:53, 27.91it/s]"
     ]
    },
    {
     "name": "stdout",
     "output_type": "stream",
     "text": [
      "3444\n",
      "outer_poly [(829, 191), (540, 320), (538, 715), (849, 731)]\n",
      "3445\n",
      "outer_poly [(557, 186), (888, 179), (887, 606), (559, 599)]\n",
      "3446\n",
      "outer_poly [(575, 371), (788, 273), (799, 717), (572, 705)]\n",
      "3447\n",
      "outer_poly [(582, 241), (825, 195), (825, 581), (588, 549)]\n",
      "3448\n",
      "outer_poly [(344, 27), (712, 251), (709, 734), (286, 740)]\n",
      "3449\n",
      "outer_poly [(390, 91), (719, 271), (718, 708), (348, 716)]\n"
     ]
    },
    {
     "name": "stderr",
     "output_type": "stream",
     "text": [
      " 70%|██████▉   | 3455/4943 [02:12<00:54, 27.46it/s]"
     ]
    },
    {
     "name": "stdout",
     "output_type": "stream",
     "text": [
      "3450\n",
      "outer_poly [(211, 51), (851, 76), (891, 713), (166, 727)]\n",
      "3451\n",
      "outer_poly [(300, 91), (924, 154), (917, 747), (292, 794)]\n",
      "3452\n",
      "outer_poly [(434, 329), (705, 245), (718, 665), (431, 663)]\n",
      "3453\n",
      "outer_poly [(183, 6), (133, 846), (906, 781), (897, 103), (527, 0)]\n",
      "3454\n",
      "outer_poly [(0, 5), (0, 864), (315, 863), (691, 744), (736, 9), (731, 0)]\n",
      "3455\n",
      "outer_poly [(360, 233), (805, 227), (801, 686), (356, 671)]\n"
     ]
    },
    {
     "name": "stderr",
     "output_type": "stream",
     "text": [
      " 70%|███████   | 3461/4943 [02:13<00:51, 28.56it/s]"
     ]
    },
    {
     "name": "stdout",
     "output_type": "stream",
     "text": [
      "3456\n",
      "outer_poly [(395, 300), (724, 292), (723, 625), (393, 623)]\n",
      "3457\n",
      "outer_poly [(422, 323), (696, 320), (697, 602), (420, 601)]\n",
      "3458\n",
      "outer_poly [(430, 145), (845, 153), (844, 570), (417, 565)]\n",
      "3459\n",
      "outer_poly [(326, 237), (717, 221), (717, 634), (319, 627)]\n",
      "3460\n",
      "outer_poly [(489, 317), (734, 326), (737, 570), (485, 570)]\n",
      "3461\n",
      "outer_poly [(536, 306), (825, 289), (831, 588), (542, 590)]\n"
     ]
    },
    {
     "name": "stderr",
     "output_type": "stream",
     "text": [
      " 70%|███████   | 3467/4943 [02:13<00:52, 28.33it/s]"
     ]
    },
    {
     "name": "stdout",
     "output_type": "stream",
     "text": [
      "3462\n",
      "outer_poly [(433, 296), (800, 277), (808, 662), (428, 662)]\n",
      "3463\n",
      "outer_poly [(499, 211), (849, 215), (843, 565), (497, 559)]\n",
      "3464\n",
      "outer_poly [(598, 344), (692, 332), (693, 521), (600, 507)]\n",
      "3465\n",
      "outer_poly [(373, 320), (762, 372), (764, 773), (365, 815)]\n",
      "3466\n",
      "outer_poly [(516, 389), (863, 373), (870, 754), (514, 736)]\n",
      "3467\n",
      "outer_poly [(681, 268), (831, 330), (831, 631), (683, 666)]\n"
     ]
    },
    {
     "name": "stderr",
     "output_type": "stream",
     "text": [
      " 70%|███████   | 3473/4943 [02:13<00:54, 27.19it/s]"
     ]
    },
    {
     "name": "stdout",
     "output_type": "stream",
     "text": [
      "3468\n",
      "outer_poly [(449, 335), (805, 342), (816, 699), (441, 701)]\n",
      "3469\n",
      "outer_poly [(372, 257), (817, 257), (831, 705), (360, 709)]\n",
      "3470\n",
      "outer_poly [(422, 304), (559, 403), (557, 709), (409, 717)]\n",
      "3471\n",
      "outer_poly [(543, 388), (721, 339), (736, 629), (549, 633)]\n",
      "3472\n",
      "outer_poly [(480, 343), (659, 275), (674, 625), (482, 624)]\n",
      "3473\n"
     ]
    },
    {
     "name": "stderr",
     "output_type": "stream",
     "text": [
      "\r",
      " 70%|███████   | 3476/4943 [02:13<00:55, 26.50it/s]"
     ]
    },
    {
     "name": "stdout",
     "output_type": "stream",
     "text": [
      "outer_poly [(405, 57), (788, 131), (778, 603), (419, 742)]\n",
      "3474\n",
      "outer_poly [(540, 491), (700, 487), (706, 648), (544, 652)]\n",
      "3475\n",
      "outer_poly [(830, 243), (833, 720), (345, 731), (348, 237)]\n",
      "3476\n",
      "outer_poly [(487, 343), (850, 327), (864, 703), (495, 704)]\n",
      "3477\n",
      "outer_poly [(569, 310), (578, 613), (412, 596), (411, 346)]\n",
      "3478\n",
      "outer_poly [(612, 341), (770, 296), (777, 626), (617, 603)]\n"
     ]
    },
    {
     "name": "stderr",
     "output_type": "stream",
     "text": [
      " 70%|███████   | 3482/4943 [02:13<00:54, 26.65it/s]"
     ]
    },
    {
     "name": "stdout",
     "output_type": "stream",
     "text": [
      "3479\n",
      "outer_poly [(432, 53), (795, 193), (793, 658), (426, 740)]\n",
      "3480\n",
      "outer_poly [(313, 300), (598, 247), (609, 675), (317, 645)]\n",
      "3481\n",
      "outer_poly [(288, 108), (902, 80), (894, 729), (295, 702)]\n",
      "3482\n",
      "outer_poly [(434, 285), (694, 270), (697, 558), (440, 552)]\n",
      "3483\n",
      "outer_poly [(581, 322), (657, 302), (662, 536), (584, 517)]\n",
      "3484\n",
      "outer_poly [(615, 318), (694, 293), (702, 543), (619, 522)]\n"
     ]
    },
    {
     "name": "stderr",
     "output_type": "stream",
     "text": [
      " 71%|███████   | 3488/4943 [02:14<00:54, 26.73it/s]"
     ]
    },
    {
     "name": "stdout",
     "output_type": "stream",
     "text": [
      "3485\n",
      "outer_poly [(513, 220), (658, 299), (659, 640), (511, 691)]\n",
      "3486\n",
      "outer_poly [(508, 231), (806, 111), (818, 728), (512, 656)]\n",
      "3487\n",
      "outer_poly [(473, 368), (581, 344), (585, 587), (473, 572)]\n",
      "3488\n",
      "outer_poly [(471, 367), (587, 340), (587, 591), (469, 579)]\n",
      "3489\n",
      "outer_poly [(376, 187), (829, 235), (843, 690), (365, 710)]\n",
      "3490\n",
      "outer_poly [(701, 427), (827, 380), (835, 678), (706, 665)]\n"
     ]
    },
    {
     "name": "stderr",
     "output_type": "stream",
     "text": [
      " 71%|███████   | 3494/4943 [02:14<00:53, 26.88it/s]"
     ]
    },
    {
     "name": "stdout",
     "output_type": "stream",
     "text": [
      "3491\n",
      "outer_poly [(541, 223), (799, 253), (798, 524), (535, 521)]\n",
      "3492\n",
      "outer_poly [(537, 298), (778, 310), (783, 559), (535, 559)]\n",
      "3493\n",
      "outer_poly [(457, 174), (908, 81), (929, 634), (452, 628)]\n",
      "3494\n",
      "outer_poly [(447, 380), (698, 405), (696, 668), (440, 670)]\n",
      "3495\n",
      "outer_poly [(599, 242), (801, 315), (804, 613), (594, 622)]\n",
      "3496\n",
      "outer_poly [(462, 310), (770, 345), (774, 664), (458, 672)]\n"
     ]
    },
    {
     "name": "stderr",
     "output_type": "stream",
     "text": [
      " 71%|███████   | 3500/4943 [02:14<00:54, 26.69it/s]"
     ]
    },
    {
     "name": "stdout",
     "output_type": "stream",
     "text": [
      "3497\n",
      "outer_poly [(509, 309), (850, 328), (856, 674), (502, 678)]\n",
      "3498\n",
      "outer_poly [(560, 401), (813, 397), (819, 652), (561, 655)]\n",
      "3499\n",
      "outer_poly [(323, 97), (990, 39), (1026, 766), (299, 752)]\n",
      "3500\n",
      "outer_poly [(573, 344), (682, 304), (685, 564), (575, 556)]\n",
      "3501\n",
      "outer_poly [(502, 261), (793, 292), (789, 594), (495, 601)]\n",
      "3502\n",
      "outer_poly [(572, 374), (712, 456), (716, 756), (567, 767)]\n"
     ]
    },
    {
     "name": "stderr",
     "output_type": "stream",
     "text": [
      " 71%|███████   | 3506/4943 [02:14<00:53, 26.66it/s]"
     ]
    },
    {
     "name": "stdout",
     "output_type": "stream",
     "text": [
      "3503\n",
      "outer_poly [(521, 235), (829, 361), (843, 775), (503, 792)]\n",
      "3504\n",
      "outer_poly [(436, 116), (959, 196), (979, 724), (408, 735)]\n",
      "3505\n",
      "outer_poly [(553, 413), (773, 430), (775, 658), (549, 659)]\n",
      "3506\n",
      "outer_poly [(388, 157), (938, 192), (961, 747), (353, 743)]\n",
      "3507\n",
      "outer_poly [(420, 277), (789, 125), (803, 864), (782, 863), (414, 771)]\n",
      "3508\n",
      "outer_poly [(560, 419), (760, 372), (768, 693), (557, 684)]\n"
     ]
    },
    {
     "name": "stderr",
     "output_type": "stream",
     "text": [
      " 71%|███████   | 3512/4943 [02:14<00:53, 26.57it/s]"
     ]
    },
    {
     "name": "stdout",
     "output_type": "stream",
     "text": [
      "3509\n",
      "outer_poly [(347, 335), (669, 296), (668, 720), (339, 689)]\n",
      "3510\n",
      "outer_poly [(272, 326), (553, 335), (526, 656), (245, 622)]\n",
      "3511\n",
      "outer_poly [(575, 203), (984, 169), (981, 624), (579, 597)]\n",
      "3512\n",
      "outer_poly [(628, 355), (767, 186), (784, 775), (628, 747)]\n",
      "3513\n",
      "outer_poly [(581, 365), (768, 420), (770, 687), (578, 687)]\n",
      "3514\n",
      "outer_poly [(578, 306), (834, 323), (834, 586), (574, 593)]\n"
     ]
    },
    {
     "name": "stderr",
     "output_type": "stream",
     "text": [
      " 71%|███████   | 3518/4943 [02:15<00:53, 26.61it/s]"
     ]
    },
    {
     "name": "stdout",
     "output_type": "stream",
     "text": [
      "3515\n",
      "outer_poly [(490, 410), (673, 370), (680, 651), (487, 649)]\n",
      "3516\n",
      "outer_poly [(576, 216), (873, 293), (884, 678), (578, 727)]\n",
      "3517\n",
      "outer_poly [(505, 268), (881, 264), (881, 645), (502, 642)]\n",
      "3518\n",
      "outer_poly [(420, 227), (954, 233), (969, 797), (381, 774)]\n",
      "3519\n",
      "outer_poly [(834, 518), (433, 515), (442, 127), (832, 131)]\n",
      "3520\n",
      "outer_poly [(654, 270), (960, 275), (968, 587), (656, 591)]\n"
     ]
    },
    {
     "name": "stderr",
     "output_type": "stream",
     "text": [
      " 71%|███████▏  | 3524/4943 [02:15<00:57, 24.85it/s]"
     ]
    },
    {
     "name": "stdout",
     "output_type": "stream",
     "text": [
      "3521\n",
      "outer_poly [(545, 318), (791, 327), (794, 576), (543, 578)]\n",
      "3522\n",
      "outer_poly [(421, 279), (736, 283), (743, 592), (426, 606)]\n",
      "3523\n",
      "outer_poly [(703, 357), (954, 357), (968, 612), (707, 615)]\n",
      "3524\n",
      "outer_poly [(459, 155), (955, 133), (969, 646), (453, 645)]\n",
      "3525\n",
      "outer_poly [(550, 404), (767, 405), (767, 628), (546, 627)]\n"
     ]
    },
    {
     "name": "stderr",
     "output_type": "stream",
     "text": [
      " 71%|███████▏  | 3530/4943 [02:15<00:56, 25.04it/s]"
     ]
    },
    {
     "name": "stdout",
     "output_type": "stream",
     "text": [
      "3526\n",
      "outer_poly [(510, 294), (766, 314), (760, 578), (504, 585)]\n",
      "3527\n",
      "outer_poly [(397, 139), (917, 135), (900, 662), (396, 641)]\n",
      "3528\n",
      "outer_poly [(365, 318), (646, 323), (647, 598), (368, 604)]\n",
      "3529\n",
      "outer_poly [(286, 209), (683, 342), (679, 819), (529, 864), (256, 863)]\n",
      "3530\n",
      "outer_poly [(289, 235), (661, 356), (661, 820), (481, 864), (259, 862)]\n",
      "3531\n"
     ]
    },
    {
     "name": "stderr",
     "output_type": "stream",
     "text": [
      " 72%|███████▏  | 3536/4943 [02:15<00:54, 25.92it/s]"
     ]
    },
    {
     "name": "stdout",
     "output_type": "stream",
     "text": [
      "outer_poly [(489, 228), (782, 301), (785, 664), (486, 709)]\n",
      "3532\n",
      "outer_poly [(546, 382), (697, 356), (699, 597), (550, 588)]\n",
      "3533\n",
      "outer_poly [(569, 362), (857, 372), (860, 663), (569, 669)]\n",
      "3534\n",
      "outer_poly [(595, 323), (875, 312), (878, 605), (593, 601)]\n",
      "3535\n",
      "outer_poly [(341, 319), (744, 266), (760, 741), (329, 738)]\n",
      "3536\n",
      "outer_poly [(575, 476), (698, 449), (704, 656), (578, 655)]\n"
     ]
    },
    {
     "name": "stderr",
     "output_type": "stream",
     "text": [
      "\r",
      " 72%|███████▏  | 3539/4943 [02:16<00:57, 24.61it/s]"
     ]
    },
    {
     "name": "stdout",
     "output_type": "stream",
     "text": [
      "3537\n",
      "outer_poly [(491, 268), (662, 3), (683, 1), (766, 756), (524, 749)]\n",
      "3538\n",
      "outer_poly [(462, 495), (651, 490), (653, 684), (466, 686)]\n",
      "3539\n",
      "outer_poly [(463, 329), (739, 306), (742, 615), (463, 610)]\n",
      "3540\n",
      "outer_poly [(517, 248), (739, 130), (746, 727), (517, 652)]\n",
      "3541\n",
      "outer_poly [(558, 175), (789, 252), (789, 631), (558, 703)]\n"
     ]
    },
    {
     "name": "stderr",
     "output_type": "stream",
     "text": [
      " 72%|███████▏  | 3545/4943 [02:16<00:55, 25.13it/s]"
     ]
    },
    {
     "name": "stdout",
     "output_type": "stream",
     "text": [
      "3542\n",
      "outer_poly [(980, 121), (977, 697), (395, 745), (384, 73)]\n",
      "3543\n",
      "outer_poly [(468, 239), (807, 246), (806, 580), (471, 585)]\n",
      "3544\n",
      "outer_poly [(742, 200), (1259, 232), (1292, 780), (744, 808)]\n",
      "3545\n",
      "outer_poly [(515, 370), (802, 376), (805, 663), (515, 670)]\n",
      "3546\n",
      "outer_poly [(526, 338), (822, 339), (824, 635), (526, 636)]\n",
      "3547\n"
     ]
    },
    {
     "name": "stderr",
     "output_type": "stream",
     "text": [
      " 72%|███████▏  | 3551/4943 [02:16<00:55, 25.13it/s]"
     ]
    },
    {
     "name": "stdout",
     "output_type": "stream",
     "text": [
      "outer_poly [(517, 376), (770, 358), (773, 648), (519, 639)]\n",
      "3548\n",
      "outer_poly [(346, 313), (600, 305), (602, 580), (347, 577)]\n",
      "3549\n",
      "outer_poly [(587, 332), (803, 315), (805, 571), (589, 565)]\n",
      "3550\n",
      "outer_poly [(516, 322), (731, 309), (734, 566), (517, 561)]\n",
      "3551\n",
      "outer_poly [(606, 393), (718, 445), (727, 684), (609, 689)]\n",
      "3552\n",
      "outer_poly [(285, 328), (577, 366), (571, 660), (267, 661)]\n"
     ]
    },
    {
     "name": "stderr",
     "output_type": "stream",
     "text": [
      " 72%|███████▏  | 3557/4943 [02:16<00:53, 25.70it/s]"
     ]
    },
    {
     "name": "stdout",
     "output_type": "stream",
     "text": [
      "3553\n",
      "outer_poly [(480, 407), (740, 394), (743, 671), (475, 669)]\n",
      "3554\n",
      "outer_poly [(516, 245), (805, 284), (804, 603), (509, 619)]\n",
      "3555\n",
      "outer_poly [(384, 266), (811, 243), (820, 707), (374, 695)]\n",
      "3556\n",
      "outer_poly [(537, 245), (717, 387), (719, 762), (519, 782)]\n",
      "3557\n",
      "outer_poly [(455, 327), (729, 289), (731, 648), (453, 630)]\n",
      "3558\n",
      "outer_poly [(421, 68), (1050, 132), (1097, 770), (382, 778)]\n"
     ]
    },
    {
     "name": "stderr",
     "output_type": "stream",
     "text": [
      " 72%|███████▏  | 3563/4943 [02:16<00:53, 25.90it/s]"
     ]
    },
    {
     "name": "stdout",
     "output_type": "stream",
     "text": [
      "3559\n",
      "outer_poly [(524, 252), (832, 91), (845, 820), (522, 720)]\n",
      "3560\n",
      "outer_poly [(501, 361), (861, 363), (874, 731), (492, 731)]\n",
      "3561\n",
      "outer_poly [(801, 434), (808, 722), (513, 720), (519, 432)]\n",
      "3562\n",
      "outer_poly [(524, 248), (881, 63), (907, 744), (514, 712)]\n",
      "3563\n",
      "outer_poly [(610, 465), (742, 407), (745, 717), (610, 708)]\n",
      "3564\n",
      "outer_poly [(504, 213), (862, 158), (867, 619), (510, 588)]\n"
     ]
    },
    {
     "name": "stderr",
     "output_type": "stream",
     "text": [
      " 72%|███████▏  | 3569/4943 [02:17<00:52, 26.13it/s]"
     ]
    },
    {
     "name": "stdout",
     "output_type": "stream",
     "text": [
      "3565\n",
      "outer_poly [(472, 31), (745, 265), (746, 728), (437, 739)]\n",
      "3566\n",
      "outer_poly [(509, 308), (640, 291), (642, 498), (512, 488)]\n",
      "3567\n",
      "outer_poly [(345, 174), (796, 17), (801, 864), (745, 864), (347, 727)]\n",
      "3568\n",
      "outer_poly [(525, 216), (920, 120), (915, 760), (524, 668)]\n",
      "3569\n",
      "outer_poly [(783, 224), (804, 696), (282, 707), (307, 164)]\n",
      "3570\n",
      "outer_poly [(456, 397), (628, 344), (634, 654), (456, 652)]\n"
     ]
    },
    {
     "name": "stderr",
     "output_type": "stream",
     "text": [
      " 72%|███████▏  | 3575/4943 [02:17<00:49, 27.65it/s]"
     ]
    },
    {
     "name": "stdout",
     "output_type": "stream",
     "text": [
      "3571\n",
      "outer_poly [(813, 277), (915, 323), (917, 589), (813, 615)]\n",
      "3572\n",
      "outer_poly [(467, 140), (1006, 193), (1004, 729), (452, 754)]\n",
      "3573\n",
      "outer_poly [(392, 179), (891, 244), (900, 744), (378, 778)]\n",
      "3574\n",
      "outer_poly [(740, 424), (608, 410), (608, 620), (741, 609)]\n",
      "3575\n",
      "outer_poly [(756, 306), (605, 192), (604, 751), (759, 683)]\n",
      "3576\n",
      "outer_poly [(584, 358), (838, 368), (841, 629), (584, 633)]\n",
      "3577\n"
     ]
    },
    {
     "name": "stderr",
     "output_type": "stream",
     "text": [
      " 72%|███████▏  | 3581/4943 [02:17<00:47, 28.47it/s]"
     ]
    },
    {
     "name": "stdout",
     "output_type": "stream",
     "text": [
      "outer_poly [(499, 371), (710, 385), (710, 612), (495, 615)]\n",
      "3578\n",
      "outer_poly [(325, 256), (698, 315), (701, 702), (309, 724)]\n",
      "3579\n",
      "outer_poly [(503, 347), (882, 358), (885, 744), (484, 734)]\n",
      "3580\n",
      "outer_poly [(707, 319), (975, 312), (980, 583), (708, 582)]\n",
      "3581\n",
      "outer_poly [(467, 315), (788, 325), (785, 652), (450, 646)]\n",
      "3582\n",
      "outer_poly [(531, 348), (737, 314), (736, 624), (530, 607)]\n",
      "3583\n"
     ]
    },
    {
     "name": "stderr",
     "output_type": "stream",
     "text": [
      " 73%|███████▎  | 3587/4943 [02:17<00:46, 28.89it/s]"
     ]
    },
    {
     "name": "stdout",
     "output_type": "stream",
     "text": [
      "outer_poly [(412, 219), (901, 256), (907, 744), (392, 752)]\n",
      "3584\n",
      "outer_poly [(617, 202), (799, 0), (822, 3), (838, 727), (621, 659)]\n",
      "3585\n",
      "outer_poly [(522, 291), (788, 215), (795, 661), (520, 637)]\n",
      "3586\n",
      "outer_poly [(772, 372), (779, 734), (422, 747), (434, 315)]\n",
      "3587\n",
      "outer_poly [(397, 227), (785, 79), (807, 723), (389, 693)]\n",
      "3588\n",
      "outer_poly [(289, 721), (818, 717), (804, 237), (318, 195)]\n",
      "3589\n"
     ]
    },
    {
     "name": "stderr",
     "output_type": "stream",
     "text": [
      " 73%|███████▎  | 3593/4943 [02:17<00:47, 28.38it/s]"
     ]
    },
    {
     "name": "stdout",
     "output_type": "stream",
     "text": [
      "outer_poly [(368, 51), (929, 59), (953, 619), (354, 621)]\n",
      "3590\n",
      "outer_poly [(545, 387), (723, 337), (736, 629), (550, 632)]\n",
      "3591\n",
      "outer_poly [(666, 420), (820, 377), (834, 632), (673, 639)]\n",
      "3592\n",
      "outer_poly [(547, 300), (1002, 242), (1025, 768), (553, 746)]\n",
      "3593\n",
      "outer_poly [(850, 97), (857, 745), (262, 725), (263, 145)]\n",
      "3594\n",
      "outer_poly [(520, 324), (738, 262), (741, 673), (523, 638)]\n"
     ]
    },
    {
     "name": "stderr",
     "output_type": "stream",
     "text": [
      " 73%|███████▎  | 3599/4943 [02:18<00:48, 27.91it/s]"
     ]
    },
    {
     "name": "stdout",
     "output_type": "stream",
     "text": [
      "3595\n",
      "outer_poly [(503, 282), (851, 272), (863, 625), (512, 629)]\n",
      "3596\n",
      "outer_poly [(487, 31), (765, 182), (768, 660), (494, 807)]\n",
      "3597\n",
      "outer_poly [(482, 149), (785, 213), (785, 589), (487, 653)]\n",
      "3598\n",
      "outer_poly [(627, 271), (861, 280), (860, 522), (630, 531)]\n",
      "3599\n",
      "outer_poly [(494, 224), (880, 222), (877, 604), (499, 604)]\n",
      "3600\n",
      "outer_poly [(363, 84), (1065, 35), (1057, 778), (375, 736)]\n"
     ]
    },
    {
     "name": "stderr",
     "output_type": "stream",
     "text": [
      " 73%|███████▎  | 3605/4943 [02:18<00:48, 27.84it/s]"
     ]
    },
    {
     "name": "stdout",
     "output_type": "stream",
     "text": [
      "3601\n",
      "outer_poly [(435, 219), (833, 195), (835, 625), (442, 610)]\n",
      "3602\n",
      "outer_poly [(533, 287), (785, 273), (788, 548), (541, 544)]\n",
      "3603\n",
      "outer_poly [(370, 209), (790, 171), (793, 668), (374, 638)]\n",
      "3604\n",
      "outer_poly [(604, 321), (737, 306), (738, 530), (605, 518)]\n",
      "3605\n",
      "outer_poly [(337, 188), (890, 221), (899, 767), (326, 790)]\n",
      "3606\n",
      "outer_poly [(560, 343), (818, 352), (819, 613), (558, 614)]\n"
     ]
    },
    {
     "name": "stderr",
     "output_type": "stream",
     "text": [
      " 73%|███████▎  | 3611/4943 [02:18<00:48, 27.24it/s]"
     ]
    },
    {
     "name": "stdout",
     "output_type": "stream",
     "text": [
      "3607\n",
      "outer_poly [(517, 632), (835, 631), (833, 317), (521, 311)]\n",
      "3608\n",
      "outer_poly [(383, 268), (675, 200), (682, 651), (387, 627)]\n",
      "3609\n",
      "outer_poly [(509, 258), (644, 351), (646, 687), (506, 723)]\n",
      "3610\n",
      "outer_poly [(438, 171), (729, 296), (731, 704), (420, 751)]\n",
      "3611\n",
      "outer_poly [(579, 440), (706, 402), (709, 672), (579, 660)]\n",
      "3612\n",
      "outer_poly [(428, 311), (674, 194), (682, 751), (426, 711)]\n"
     ]
    },
    {
     "name": "stderr",
     "output_type": "stream",
     "text": [
      " 73%|███████▎  | 3617/4943 [02:18<00:47, 27.63it/s]"
     ]
    },
    {
     "name": "stdout",
     "output_type": "stream",
     "text": [
      "3613\n",
      "outer_poly [(837, 172), (852, 767), (592, 714), (588, 313)]\n",
      "3614\n",
      "outer_poly [(781, 263), (539, 221), (534, 531), (778, 531)]\n",
      "3615\n",
      "outer_poly [(559, 271), (783, 202), (790, 569), (558, 563)]\n",
      "3616\n",
      "outer_poly [(455, 240), (821, 303), (826, 696), (440, 708)]\n",
      "3617\n",
      "outer_poly [(335, 735), (987, 732), (968, 134), (368, 91)]\n",
      "3618\n",
      "outer_poly [(558, 357), (732, 326), (739, 566), (562, 564)]\n"
     ]
    },
    {
     "name": "stderr",
     "output_type": "stream",
     "text": [
      " 73%|███████▎  | 3623/4943 [02:19<00:47, 27.89it/s]"
     ]
    },
    {
     "name": "stdout",
     "output_type": "stream",
     "text": [
      "3619\n",
      "outer_poly [(566, 234), (754, 276), (753, 529), (566, 542)]\n",
      "3620\n",
      "outer_poly [(503, 400), (768, 388), (773, 671), (498, 669)]\n",
      "3621\n",
      "outer_poly [(480, 405), (733, 383), (735, 670), (478, 669)]\n",
      "3622\n",
      "outer_poly [(324, 202), (913, 32), (982, 839), (318, 806)]\n",
      "3623\n",
      "outer_poly [(606, 378), (848, 387), (850, 635), (604, 638)]\n",
      "3624\n",
      "outer_poly [(553, 385), (720, 360), (721, 607), (553, 593)]\n"
     ]
    },
    {
     "name": "stderr",
     "output_type": "stream",
     "text": [
      " 73%|███████▎  | 3630/4943 [02:19<00:45, 28.93it/s]"
     ]
    },
    {
     "name": "stdout",
     "output_type": "stream",
     "text": [
      "3625\n",
      "outer_poly [(550, 402), (691, 384), (694, 601), (552, 588)]\n",
      "3626\n",
      "outer_poly [(476, 364), (805, 381), (806, 715), (462, 708)]\n",
      "3627\n",
      "outer_poly [(323, 152), (938, 107), (971, 786), (276, 771)]\n",
      "3628\n",
      "outer_poly [(482, 404), (661, 385), (661, 629), (479, 618)]\n",
      "3629\n",
      "outer_poly [(224, 137), (835, 120), (837, 761), (201, 744)]\n",
      "3630\n",
      "outer_poly [(486, 300), (629, 287), (631, 487), (490, 480)]\n",
      "3631\n"
     ]
    },
    {
     "name": "stderr",
     "output_type": "stream",
     "text": [
      " 74%|███████▎  | 3636/4943 [02:19<00:44, 29.17it/s]"
     ]
    },
    {
     "name": "stdout",
     "output_type": "stream",
     "text": [
      "outer_poly [(421, 3), (377, 759), (714, 742), (711, 245), (439, 2)]\n",
      "3632\n",
      "outer_poly [(536, 286), (714, 387), (716, 714), (522, 720)]\n",
      "3633\n",
      "outer_poly [(422, 375), (686, 391), (693, 659), (418, 662)]\n",
      "3634\n",
      "outer_poly [(601, 286), (844, 318), (844, 613), (596, 638)]\n",
      "3635\n",
      "outer_poly [(393, 397), (561, 347), (563, 649), (387, 649)]\n",
      "3636\n",
      "outer_poly [(497, 228), (920, 262), (924, 691), (486, 709)]\n",
      "3637\n"
     ]
    },
    {
     "name": "stderr",
     "output_type": "stream",
     "text": [
      " 74%|███████▎  | 3642/4943 [02:19<00:45, 28.35it/s]"
     ]
    },
    {
     "name": "stdout",
     "output_type": "stream",
     "text": [
      "outer_poly [(499, 224), (773, 238), (772, 516), (496, 521)]\n",
      "3638\n",
      "outer_poly [(279, 131), (855, 170), (855, 722), (270, 752)]\n",
      "3639\n",
      "outer_poly [(148, 727), (833, 727), (804, 91), (199, 104)]\n",
      "3640\n",
      "outer_poly [(496, 387), (664, 377), (665, 548), (500, 553)]\n",
      "3641\n",
      "outer_poly [(544, 368), (841, 364), (844, 665), (541, 665)]\n",
      "3642\n",
      "outer_poly [(269, 50), (240, 796), (918, 744), (895, 136), (331, 0), (271, 2)]\n"
     ]
    },
    {
     "name": "stderr",
     "output_type": "stream",
     "text": [
      " 74%|███████▍  | 3648/4943 [02:19<00:46, 27.66it/s]"
     ]
    },
    {
     "name": "stdout",
     "output_type": "stream",
     "text": [
      "3643\n",
      "outer_poly [(402, 239), (757, 247), (763, 601), (398, 602)]\n",
      "3644\n",
      "outer_poly [(328, 301), (634, 335), (629, 649), (310, 649)]\n",
      "3645\n",
      "outer_poly [(433, 192), (757, 258), (751, 649), (425, 706)]\n",
      "3646\n",
      "outer_poly [(380, 251), (732, 275), (727, 627), (372, 639)]\n",
      "3647\n",
      "outer_poly [(586, 293), (811, 251), (809, 628), (584, 588)]\n",
      "3648\n",
      "outer_poly [(583, 419), (750, 448), (755, 713), (581, 738)]\n"
     ]
    },
    {
     "name": "stderr",
     "output_type": "stream",
     "text": [
      "\r",
      " 74%|███████▍  | 3651/4943 [02:20<00:45, 28.30it/s]"
     ]
    },
    {
     "name": "stdout",
     "output_type": "stream",
     "text": [
      "3649\n",
      "outer_poly [(452, 360), (518, 319), (521, 618), (454, 592)]\n",
      "3650\n",
      "outer_poly [(509, 346), (783, 326), (787, 634), (509, 626)]\n",
      "3651\n",
      "outer_poly [(545, 431), (670, 405), (668, 632), (546, 621)]\n",
      "3652\n",
      "outer_poly [(563, 404), (707, 379), (711, 601), (563, 596)]\n",
      "3653\n",
      "outer_poly [(567, 322), (790, 335), (791, 569), (564, 571)]\n",
      "3654\n",
      "outer_poly [(481, 335), (813, 350), (821, 684), (476, 690)]\n"
     ]
    },
    {
     "name": "stderr",
     "output_type": "stream",
     "text": [
      " 74%|███████▍  | 3659/4943 [02:20<00:44, 28.98it/s]"
     ]
    },
    {
     "name": "stdout",
     "output_type": "stream",
     "text": [
      "3655\n",
      "outer_poly [(598, 447), (687, 424), (689, 611), (600, 608)]\n",
      "3656\n",
      "outer_poly [(478, 397), (648, 441), (653, 690), (477, 699)]\n",
      "3657\n",
      "outer_poly [(456, 326), (750, 364), (756, 683), (447, 689)]\n",
      "3658\n",
      "outer_poly [(268, 91), (937, 55), (979, 767), (226, 767)]\n",
      "3659\n",
      "outer_poly [(487, 290), (731, 170), (742, 676), (483, 661)]\n",
      "3660\n",
      "outer_poly [(530, 321), (755, 393), (755, 697), (523, 702)]\n"
     ]
    },
    {
     "name": "stderr",
     "output_type": "stream",
     "text": [
      " 74%|███████▍  | 3665/4943 [02:20<00:43, 29.41it/s]"
     ]
    },
    {
     "name": "stdout",
     "output_type": "stream",
     "text": [
      "3661\n",
      "outer_poly [(548, 437), (714, 438), (718, 619), (550, 627)]\n",
      "3662\n",
      "outer_poly [(228, 255), (589, 306), (591, 682), (219, 715)]\n",
      "3663\n",
      "outer_poly [(354, 251), (727, 267), (730, 639), (348, 641)]\n",
      "3664\n",
      "outer_poly [(442, 315), (623, 347), (627, 608), (442, 629)]\n",
      "3665\n",
      "outer_poly [(567, 263), (773, 277), (769, 499), (567, 501)]\n",
      "3666\n",
      "outer_poly [(413, 168), (930, 111), (929, 715), (418, 669)]\n"
     ]
    },
    {
     "name": "stderr",
     "output_type": "stream",
     "text": [
      " 74%|███████▍  | 3671/4943 [02:20<00:46, 27.59it/s]"
     ]
    },
    {
     "name": "stdout",
     "output_type": "stream",
     "text": [
      "3667\n",
      "outer_poly [(400, 208), (786, 140), (786, 695), (402, 639)]\n",
      "3668\n",
      "outer_poly [(533, 166), (707, 281), (706, 665), (526, 735)]\n",
      "3669\n",
      "outer_poly [(536, 396), (742, 409), (739, 629), (529, 637)]\n",
      "3670\n",
      "outer_poly [(351, 393), (552, 368), (550, 672), (343, 656)]\n",
      "3671\n",
      "outer_poly [(575, 430), (635, 389), (640, 668), (578, 645)]\n",
      "3672\n",
      "outer_poly [(421, 248), (749, 288), (748, 632), (412, 648)]\n"
     ]
    },
    {
     "name": "stderr",
     "output_type": "stream",
     "text": [
      " 74%|███████▍  | 3677/4943 [02:20<00:45, 28.10it/s]"
     ]
    },
    {
     "name": "stdout",
     "output_type": "stream",
     "text": [
      "3673\n",
      "outer_poly [(323, 319), (578, 321), (578, 575), (322, 575)]\n",
      "3674\n",
      "outer_poly [(562, 356), (661, 334), (662, 530), (562, 524)]\n",
      "3675\n",
      "outer_poly [(424, 300), (761, 333), (764, 674), (417, 682)]\n",
      "3676\n",
      "outer_poly [(530, 323), (722, 186), (739, 744), (538, 702)]\n",
      "3677\n",
      "outer_poly [(526, 301), (757, 314), (759, 556), (528, 557)]\n",
      "3678\n",
      "outer_poly [(508, 333), (829, 344), (835, 672), (501, 669)]\n"
     ]
    },
    {
     "name": "stderr",
     "output_type": "stream",
     "text": [
      " 75%|███████▍  | 3684/4943 [02:21<00:45, 27.77it/s]"
     ]
    },
    {
     "name": "stdout",
     "output_type": "stream",
     "text": [
      "3679\n",
      "outer_poly [(574, 311), (738, 276), (738, 536), (578, 532)]\n",
      "3680\n",
      "outer_poly [(505, 397), (771, 389), (771, 666), (499, 660)]\n",
      "3681\n",
      "outer_poly [(497, 402), (757, 395), (763, 666), (495, 665)]\n",
      "3682\n",
      "outer_poly [(540, 431), (662, 400), (664, 651), (538, 641)]\n",
      "3683\n",
      "outer_poly [(379, 387), (661, 366), (664, 684), (376, 676)]\n",
      "3684\n",
      "outer_poly [(476, 425), (711, 408), (711, 672), (474, 665)]\n"
     ]
    },
    {
     "name": "stderr",
     "output_type": "stream",
     "text": [
      " 75%|███████▍  | 3690/4943 [02:21<00:47, 26.58it/s]"
     ]
    },
    {
     "name": "stdout",
     "output_type": "stream",
     "text": [
      "3685\n",
      "outer_poly [(376, 88), (744, 234), (747, 676), (347, 690)]\n",
      "3686\n",
      "outer_poly [(578, 338), (790, 383), (794, 656), (581, 665)]\n",
      "3687\n",
      "outer_poly [(558, 362), (907, 371), (918, 726), (553, 724)]\n",
      "3688\n",
      "outer_poly [(388, 224), (920, 154), (950, 769), (367, 757)]\n",
      "3689\n",
      "outer_poly [(311, 297), (686, 292), (687, 685), (301, 677)]\n",
      "3690\n"
     ]
    },
    {
     "name": "stderr",
     "output_type": "stream",
     "text": [
      "\r",
      " 75%|███████▍  | 3693/4943 [02:21<00:48, 26.02it/s]"
     ]
    },
    {
     "name": "stdout",
     "output_type": "stream",
     "text": [
      "outer_poly [(653, 490), (769, 450), (775, 702), (652, 694)]\n",
      "3691\n",
      "outer_poly [(590, 336), (755, 418), (761, 718), (586, 724)]\n",
      "3692\n",
      "outer_poly [(248, 170), (823, 107), (825, 797), (249, 740)]\n",
      "3693\n",
      "outer_poly [(387, 327), (752, 329), (764, 703), (372, 703)]\n",
      "3694\n",
      "outer_poly [(577, 263), (815, 309), (815, 647), (573, 689)]\n",
      "3695\n",
      "outer_poly [(581, 239), (813, 286), (809, 595), (577, 623)]\n"
     ]
    },
    {
     "name": "stderr",
     "output_type": "stream",
     "text": [
      " 75%|███████▍  | 3699/4943 [02:21<00:48, 25.86it/s]"
     ]
    },
    {
     "name": "stdout",
     "output_type": "stream",
     "text": [
      "3696\n",
      "outer_poly [(220, 216), (639, 224), (633, 631), (222, 631)]\n",
      "3697\n",
      "outer_poly [(530, 340), (797, 343), (798, 608), (530, 607)]\n",
      "3698\n",
      "outer_poly [(467, 301), (789, 307), (790, 628), (466, 632)]\n",
      "3699\n",
      "outer_poly [(269, 54), (979, 80), (994, 798), (234, 794)]\n",
      "3700\n",
      "outer_poly [(470, 328), (542, 298), (542, 562), (470, 534)]\n",
      "3701\n"
     ]
    },
    {
     "name": "stderr",
     "output_type": "stream",
     "text": [
      " 75%|███████▍  | 3705/4943 [02:22<00:47, 26.22it/s]"
     ]
    },
    {
     "name": "stdout",
     "output_type": "stream",
     "text": [
      "outer_poly [(426, 446), (620, 466), (618, 724), (418, 736)]\n",
      "3702\n",
      "outer_poly [(388, 172), (1086, 102), (1104, 864), (682, 864), (382, 834)]\n",
      "3703\n",
      "outer_poly [(582, 404), (654, 374), (654, 594), (582, 578)]\n",
      "3704\n",
      "outer_poly [(470, 240), (866, 300), (874, 724), (460, 748)]\n",
      "3705\n",
      "outer_poly [(510, 386), (798, 388), (800, 676), (508, 674)]\n",
      "3706\n",
      "outer_poly [(486, 386), (756, 368), (760, 670), (484, 664)]\n"
     ]
    },
    {
     "name": "stderr",
     "output_type": "stream",
     "text": [
      " 75%|███████▌  | 3711/4943 [02:22<00:46, 26.27it/s]"
     ]
    },
    {
     "name": "stdout",
     "output_type": "stream",
     "text": [
      "3707\n",
      "outer_poly [(520, 400), (666, 354), (668, 668), (522, 652)]\n",
      "3708\n",
      "outer_poly [(546, 408), (634, 372), (636, 624), (550, 606)]\n",
      "3709\n",
      "outer_poly [(274, 194), (788, 220), (804, 732), (244, 742)]\n",
      "3710\n",
      "outer_poly [(624, 414), (896, 380), (912, 684), (632, 686)]\n",
      "3711\n",
      "outer_poly [(364, 324), (736, 284), (746, 716), (354, 710)]\n",
      "3712\n"
     ]
    },
    {
     "name": "stderr",
     "output_type": "stream",
     "text": [
      " 75%|███████▌  | 3717/4943 [02:22<00:46, 26.20it/s]"
     ]
    },
    {
     "name": "stdout",
     "output_type": "stream",
     "text": [
      "outer_poly [(386, 216), (790, 64), (812, 726), (378, 698)]\n",
      "3713\n",
      "outer_poly [(576, 424), (692, 382), (694, 630), (576, 626)]\n",
      "3714\n",
      "outer_poly [(429, 207), (607, 0), (633, 3), (641, 727), (424, 677)]\n",
      "3715\n",
      "outer_poly [(463, 127), (731, 297), (740, 730), (449, 755)]\n",
      "3716\n",
      "outer_poly [(405, 231), (673, 342), (681, 713), (392, 734)]\n",
      "3717\n",
      "outer_poly [(358, 202), (756, 286), (769, 702), (340, 718)]\n"
     ]
    },
    {
     "name": "stderr",
     "output_type": "stream",
     "text": [
      " 75%|███████▌  | 3723/4943 [02:22<00:46, 26.28it/s]"
     ]
    },
    {
     "name": "stdout",
     "output_type": "stream",
     "text": [
      "3718\n",
      "outer_poly [(513, 347), (706, 252), (716, 673), (515, 664)]\n",
      "3719\n",
      "outer_poly [(562, 420), (637, 384), (639, 603), (559, 598)]\n",
      "3720\n",
      "outer_poly [(478, 418), (600, 384), (608, 604), (483, 606)]\n",
      "3721\n",
      "outer_poly [(490, 338), (644, 335), (643, 492), (490, 491)]\n",
      "3722\n",
      "outer_poly [(350, 241), (710, 272), (709, 628), (348, 644)]\n",
      "3723\n",
      "outer_poly [(355, 268), (647, 186), (658, 693), (364, 651)]\n"
     ]
    },
    {
     "name": "stderr",
     "output_type": "stream",
     "text": [
      "\r",
      " 75%|███████▌  | 3726/4943 [02:22<00:46, 25.92it/s]"
     ]
    },
    {
     "name": "stdout",
     "output_type": "stream",
     "text": [
      "3724\n",
      "outer_poly [(563, 234), (734, 277), (734, 579), (566, 621)]\n",
      "3725\n",
      "outer_poly [(454, 133), (905, 183), (905, 651), (461, 705)]\n",
      "3726\n",
      "outer_poly [(517, 199), (946, 185), (946, 625), (517, 616)]\n",
      "3727\n",
      "outer_poly [(614, 322), (756, 303), (759, 540), (621, 528)]\n",
      "3728\n",
      "outer_poly [(606, 290), (782, 260), (786, 571), (607, 546)]\n"
     ]
    },
    {
     "name": "stderr",
     "output_type": "stream",
     "text": [
      " 76%|███████▌  | 3732/4943 [02:23<00:48, 24.72it/s]"
     ]
    },
    {
     "name": "stdout",
     "output_type": "stream",
     "text": [
      "3729\n",
      "outer_poly [(636, 255), (802, 321), (804, 645), (637, 684)]\n",
      "3730\n",
      "outer_poly [(466, 208), (776, 282), (773, 653), (463, 697)]\n",
      "3731\n",
      "outer_poly [(578, 369), (814, 376), (818, 619), (573, 623)]\n",
      "3732\n",
      "outer_poly [(351, 145), (971, 146), (980, 772), (344, 772)]\n",
      "3733\n",
      "outer_poly [(356, 189), (752, 249), (752, 656), (346, 682)]\n"
     ]
    },
    {
     "name": "stderr",
     "output_type": "stream",
     "text": [
      " 76%|███████▌  | 3738/4943 [02:23<00:49, 24.56it/s]"
     ]
    },
    {
     "name": "stdout",
     "output_type": "stream",
     "text": [
      "3734\n",
      "outer_poly [(468, 344), (742, 350), (743, 617), (467, 619)]\n",
      "3735\n",
      "outer_poly [(239, 65), (926, 64), (938, 764), (218, 759)]\n",
      "3736\n",
      "outer_poly [(473, 320), (643, 285), (644, 568), (473, 556)]\n",
      "3737\n",
      "outer_poly [(383, 227), (679, 139), (687, 653), (390, 618)]\n",
      "3738\n",
      "outer_poly [(550, 320), (700, 280), (700, 585), (550, 564)]\n",
      "3739\n"
     ]
    },
    {
     "name": "stderr",
     "output_type": "stream",
     "text": [
      " 76%|███████▌  | 3744/4943 [02:23<00:46, 25.52it/s]"
     ]
    },
    {
     "name": "stdout",
     "output_type": "stream",
     "text": [
      "outer_poly [(387, 321), (753, 343), (759, 711), (380, 714)]\n",
      "3740\n",
      "outer_poly [(435, 321), (673, 214), (681, 746), (435, 706)]\n",
      "3741\n",
      "outer_poly [(339, 0), (646, 225), (646, 700), (303, 752)]\n",
      "3742\n",
      "outer_poly [(529, 312), (796, 253), (805, 621), (527, 617)]\n",
      "3743\n",
      "outer_poly [(567, 239), (782, 126), (791, 584), (570, 577)]\n",
      "3744\n",
      "outer_poly [(326, 189), (873, 182), (887, 747), (297, 743)]\n"
     ]
    },
    {
     "name": "stderr",
     "output_type": "stream",
     "text": [
      " 76%|███████▌  | 3750/4943 [02:23<00:45, 26.31it/s]"
     ]
    },
    {
     "name": "stdout",
     "output_type": "stream",
     "text": [
      "3745\n",
      "outer_poly [(462, 200), (925, 158), (946, 656), (462, 656)]\n",
      "3746\n",
      "outer_poly [(596, 299), (756, 159), (770, 700), (599, 664)]\n",
      "3747\n",
      "outer_poly [(584, 408), (782, 468), (785, 749), (579, 753)]\n",
      "3748\n",
      "outer_poly [(427, 347), (588, 256), (593, 729), (430, 691)]\n",
      "3749\n",
      "outer_poly [(584, 220), (958, 180), (959, 600), (588, 584)]\n",
      "3750\n",
      "outer_poly [(605, 371), (788, 423), (790, 688), (600, 693)]\n"
     ]
    },
    {
     "name": "stderr",
     "output_type": "stream",
     "text": [
      " 76%|███████▌  | 3756/4943 [02:24<00:44, 26.65it/s]"
     ]
    },
    {
     "name": "stdout",
     "output_type": "stream",
     "text": [
      "3751\n",
      "outer_poly [(223, 99), (935, 77), (926, 817), (223, 791)]\n",
      "3752\n",
      "outer_poly [(380, 408), (652, 409), (656, 685), (373, 684)]\n",
      "3753\n",
      "outer_poly [(552, 250), (765, 290), (761, 581), (547, 606)]\n",
      "3754\n",
      "outer_poly [(620, 377), (820, 388), (822, 612), (615, 617)]\n",
      "3755\n",
      "outer_poly [(605, 368), (846, 376), (846, 632), (602, 635)]\n",
      "3756\n",
      "outer_poly [(537, 326), (747, 364), (735, 620), (518, 620)]\n"
     ]
    },
    {
     "name": "stderr",
     "output_type": "stream",
     "text": [
      " 76%|███████▌  | 3762/4943 [02:24<00:43, 26.87it/s]"
     ]
    },
    {
     "name": "stdout",
     "output_type": "stream",
     "text": [
      "3757\n",
      "outer_poly [(112, 52), (861, 33), (870, 818), (92, 805)]\n",
      "3758\n",
      "outer_poly [(527, 377), (873, 388), (872, 743), (508, 729)]\n",
      "3759\n",
      "outer_poly [(612, 344), (944, 306), (953, 708), (606, 685)]\n",
      "3760\n",
      "outer_poly [(383, 306), (768, 277), (768, 711), (374, 693)]\n",
      "3761\n",
      "outer_poly [(553, 387), (808, 376), (811, 646), (555, 644)]\n",
      "3762\n",
      "outer_poly [(476, 252), (779, 153), (786, 747), (479, 669)]\n"
     ]
    },
    {
     "name": "stderr",
     "output_type": "stream",
     "text": [
      " 76%|███████▌  | 3768/4943 [02:24<00:43, 27.08it/s]"
     ]
    },
    {
     "name": "stdout",
     "output_type": "stream",
     "text": [
      "3763\n",
      "outer_poly [(594, 376), (827, 358), (834, 616), (598, 615)]\n",
      "3764\n",
      "outer_poly [(442, 307), (785, 282), (788, 673), (441, 656)]\n",
      "3765\n",
      "outer_poly [(515, 326), (769, 274), (769, 668), (516, 639)]\n",
      "3766\n",
      "outer_poly [(528, 413), (653, 383), (653, 602), (529, 595)]\n",
      "3767\n",
      "outer_poly [(488, 278), (825, 278), (830, 623), (484, 623)]\n",
      "3768\n",
      "outer_poly [(490, 264), (797, 300), (801, 624), (484, 633)]\n"
     ]
    },
    {
     "name": "stderr",
     "output_type": "stream",
     "text": [
      " 76%|███████▋  | 3774/4943 [02:24<00:43, 27.15it/s]"
     ]
    },
    {
     "name": "stdout",
     "output_type": "stream",
     "text": [
      "3769\n",
      "outer_poly [(331, 248), (806, 212), (823, 728), (315, 728)]\n",
      "3770\n",
      "outer_poly [(431, 389), (714, 366), (719, 689), (425, 686)]\n",
      "3771\n",
      "outer_poly [(338, 222), (827, 150), (842, 744), (311, 726)]\n",
      "3772\n",
      "outer_poly [(408, 342), (669, 269), (680, 682), (404, 670)]\n",
      "3773\n",
      "outer_poly [(487, 98), (775, 286), (785, 742), (474, 773)]\n",
      "3774\n",
      "outer_poly [(358, 46), (830, 154), (846, 636), (338, 645)]\n"
     ]
    },
    {
     "name": "stderr",
     "output_type": "stream",
     "text": [
      " 76%|███████▋  | 3780/4943 [02:24<00:43, 26.82it/s]"
     ]
    },
    {
     "name": "stdout",
     "output_type": "stream",
     "text": [
      "3775\n",
      "outer_poly [(488, 248), (830, 269), (831, 616), (490, 632)]\n",
      "3776\n",
      "outer_poly [(479, 340), (809, 334), (819, 672), (479, 673)]\n",
      "3777\n",
      "outer_poly [(445, 392), (651, 388), (652, 603), (439, 602)]\n",
      "3778\n",
      "outer_poly [(611, 194), (751, 265), (753, 591), (608, 635)]\n",
      "3779\n",
      "outer_poly [(538, 44), (746, 198), (746, 644), (544, 739)]\n",
      "3780\n",
      "outer_poly [(565, 195), (777, 264), (780, 618), (566, 681)]\n"
     ]
    },
    {
     "name": "stderr",
     "output_type": "stream",
     "text": [
      " 77%|███████▋  | 3786/4943 [02:25<00:42, 26.98it/s]"
     ]
    },
    {
     "name": "stdout",
     "output_type": "stream",
     "text": [
      "3781\n",
      "outer_poly [(606, 256), (897, 260), (899, 554), (607, 561)]\n",
      "3782\n",
      "outer_poly [(521, 240), (881, 232), (879, 594), (525, 592)]\n",
      "3783\n",
      "outer_poly [(497, 406), (749, 422), (749, 686), (496, 693)]\n",
      "3784\n",
      "outer_poly [(450, 201), (976, 218), (982, 735), (451, 746)]\n",
      "3785\n",
      "outer_poly [(369, 267), (760, 270), (764, 662), (363, 662)]\n",
      "3786\n",
      "outer_poly [(496, 48), (753, 240), (760, 714), (488, 781)]\n"
     ]
    },
    {
     "name": "stderr",
     "output_type": "stream",
     "text": [
      " 77%|███████▋  | 3792/4943 [02:25<00:41, 27.66it/s]"
     ]
    },
    {
     "name": "stdout",
     "output_type": "stream",
     "text": [
      "3787\n",
      "outer_poly [(474, 33), (793, 236), (798, 732), (454, 809)]\n",
      "3788\n",
      "outer_poly [(433, 310), (757, 335), (768, 669), (429, 678)]\n",
      "3789\n",
      "outer_poly [(447, 344), (784, 363), (789, 699), (441, 706)]\n",
      "3790\n",
      "outer_poly [(388, 318), (734, 311), (732, 666), (380, 664)]\n",
      "3791\n",
      "outer_poly [(520, 412), (676, 355), (681, 686), (513, 672)]\n",
      "3792\n",
      "outer_poly [(490, 373), (713, 391), (713, 623), (488, 621)]\n"
     ]
    },
    {
     "name": "stderr",
     "output_type": "stream",
     "text": [
      " 77%|███████▋  | 3798/4943 [02:25<00:40, 28.29it/s]"
     ]
    },
    {
     "name": "stdout",
     "output_type": "stream",
     "text": [
      "3793\n",
      "outer_poly [(550, 373), (830, 379), (831, 665), (545, 660)]\n",
      "3794\n",
      "outer_poly [(397, 311), (752, 297), (752, 674), (384, 670)]\n",
      "3795\n",
      "outer_poly [(534, 264), (847, 231), (856, 581), (540, 577)]\n",
      "3796\n",
      "outer_poly [(526, 355), (715, 265), (724, 690), (523, 669)]\n",
      "3797\n",
      "outer_poly [(548, 327), (830, 344), (831, 633), (540, 632)]\n",
      "3798\n",
      "outer_poly [(450, 400), (682, 388), (686, 661), (445, 649)]\n"
     ]
    },
    {
     "name": "stderr",
     "output_type": "stream",
     "text": [
      " 77%|███████▋  | 3804/4943 [02:25<00:40, 28.35it/s]"
     ]
    },
    {
     "name": "stdout",
     "output_type": "stream",
     "text": [
      "3799\n",
      "outer_poly [(453, 373), (714, 348), (714, 649), (454, 641)]\n",
      "3800\n",
      "outer_poly [(526, 381), (823, 398), (830, 702), (517, 699)]\n",
      "3801\n",
      "outer_poly [(484, 363), (716, 380), (716, 620), (484, 621)]\n",
      "3802\n",
      "outer_poly [(211, 129), (769, 61), (796, 697), (182, 694)]\n",
      "3803\n",
      "outer_poly [(467, 416), (640, 373), (651, 639), (468, 639)]\n",
      "3804\n",
      "outer_poly [(372, 216), (691, 28), (713, 686), (366, 674)]\n"
     ]
    },
    {
     "name": "stderr",
     "output_type": "stream",
     "text": [
      "\r",
      " 77%|███████▋  | 3807/4943 [02:25<00:40, 28.35it/s]"
     ]
    },
    {
     "name": "stdout",
     "output_type": "stream",
     "text": [
      "3805\n",
      "outer_poly [(529, 470), (654, 442), (661, 656), (532, 656)]\n",
      "3806\n",
      "outer_poly [(483, 317), (615, 339), (612, 538), (483, 550)]\n",
      "3807\n",
      "outer_poly [(636, 497), (722, 434), (739, 728), (640, 727)]\n",
      "3808\n",
      "outer_poly [(400, 157), (844, 231), (846, 691), (389, 743)]\n",
      "3809\n",
      "outer_poly [(583, 416), (645, 376), (647, 608), (583, 611)]\n",
      "3810\n",
      "outer_poly [(595, 240), (726, 335), (727, 682), (590, 732)]\n"
     ]
    },
    {
     "name": "stderr",
     "output_type": "stream",
     "text": [
      " 77%|███████▋  | 3814/4943 [02:26<00:39, 28.64it/s]"
     ]
    },
    {
     "name": "stdout",
     "output_type": "stream",
     "text": [
      "3811\n",
      "outer_poly [(681, 375), (864, 408), (862, 648), (670, 652)]\n",
      "3812\n",
      "outer_poly [(0, 858), (666, 746), (682, 88), (518, 0), (0, 2)]\n",
      "3813\n",
      "outer_poly [(546, 282), (652, 326), (642, 550), (538, 560)]\n",
      "3814\n",
      "outer_poly [(514, 278), (624, 322), (612, 558), (498, 564)]\n",
      "3815\n",
      "outer_poly [(526, 360), (806, 360), (800, 640), (520, 638)]\n",
      "3816\n",
      "outer_poly [(298, 30), (1044, 50), (1066, 814), (262, 806)]\n"
     ]
    },
    {
     "name": "stderr",
     "output_type": "stream",
     "text": [
      " 77%|███████▋  | 3820/4943 [02:26<00:39, 28.57it/s]"
     ]
    },
    {
     "name": "stdout",
     "output_type": "stream",
     "text": [
      "3817\n",
      "outer_poly [(330, 126), (990, 62), (1058, 788), (298, 790)]\n",
      "3818\n",
      "outer_poly [(200, 100), (858, 70), (906, 770), (140, 776)]\n",
      "3819\n",
      "outer_poly [(578, 312), (756, 324), (750, 566), (574, 576)]\n",
      "3820\n",
      "outer_poly [(532, 416), (816, 398), (822, 716), (538, 704)]\n",
      "3821\n",
      "outer_poly [(472, 350), (742, 350), (740, 620), (470, 620)]\n",
      "3822\n",
      "outer_poly [(530, 367), (776, 360), (777, 614), (534, 610)]\n"
     ]
    },
    {
     "name": "stderr",
     "output_type": "stream",
     "text": [
      " 77%|███████▋  | 3827/4943 [02:26<00:38, 29.23it/s]"
     ]
    },
    {
     "name": "stdout",
     "output_type": "stream",
     "text": [
      "3823\n",
      "outer_poly [(536, 350), (756, 314), (756, 653), (532, 628)]\n",
      "3824\n",
      "outer_poly [(528, 331), (710, 277), (711, 662), (528, 628)]\n",
      "3825\n",
      "outer_poly [(565, 269), (705, 128), (709, 727), (562, 665)]\n",
      "3826\n",
      "outer_poly [(558, 385), (694, 347), (694, 603), (561, 596)]\n",
      "3827\n",
      "outer_poly [(495, 300), (805, 288), (810, 615), (491, 612)]\n",
      "3828\n",
      "outer_poly [(464, 191), (844, 247), (850, 649), (451, 660)]\n",
      "3829\n"
     ]
    },
    {
     "name": "stderr",
     "output_type": "stream",
     "text": [
      " 78%|███████▊  | 3833/4943 [02:26<00:37, 29.42it/s]"
     ]
    },
    {
     "name": "stdout",
     "output_type": "stream",
     "text": [
      "outer_poly [(424, 364), (731, 339), (742, 693), (418, 691)]\n",
      "3830\n",
      "outer_poly [(356, 150), (939, 26), (978, 759), (339, 731)]\n",
      "3831\n",
      "outer_poly [(490, 203), (765, 0), (785, 1), (816, 714), (492, 670)]\n",
      "3832\n",
      "outer_poly [(402, 200), (864, 258), (890, 726), (398, 742)]\n",
      "3833\n",
      "outer_poly [(378, 274), (838, 248), (858, 740), (364, 742)]\n",
      "3834\n",
      "outer_poly [(316, 108), (888, 60), (910, 682), (292, 678)]\n"
     ]
    },
    {
     "name": "stderr",
     "output_type": "stream",
     "text": [
      " 78%|███████▊  | 3839/4943 [02:26<00:38, 28.51it/s]"
     ]
    },
    {
     "name": "stdout",
     "output_type": "stream",
     "text": [
      "3835\n",
      "outer_poly [(290, 172), (848, 60), (882, 758), (266, 746)]\n",
      "3836\n",
      "outer_poly [(492, 236), (852, 66), (886, 706), (496, 686)]\n",
      "3837\n",
      "outer_poly [(458, 294), (608, 400), (610, 722), (448, 726)]\n",
      "3838\n",
      "outer_poly [(272, 88), (786, 162), (812, 664), (254, 684)]\n",
      "3839\n",
      "outer_poly [(484, 278), (786, 148), (816, 656), (496, 660)]\n",
      "3840\n",
      "outer_poly [(416, 272), (624, 34), (686, 728), (438, 726)]\n"
     ]
    },
    {
     "name": "stderr",
     "output_type": "stream",
     "text": [
      " 78%|███████▊  | 3845/4943 [02:27<00:37, 28.98it/s]"
     ]
    },
    {
     "name": "stdout",
     "output_type": "stream",
     "text": [
      "3841\n",
      "outer_poly [(558, 328), (732, 360), (734, 630), (558, 660)]\n",
      "3842\n",
      "outer_poly [(590, 282), (838, 294), (834, 550), (588, 560)]\n",
      "3843\n",
      "outer_poly [(530, 280), (784, 274), (788, 532), (534, 532)]\n",
      "3844\n",
      "outer_poly [(518, 370), (780, 352), (782, 638), (524, 632)]\n",
      "3845\n",
      "outer_poly [(400, 332), (560, 300), (562, 600), (398, 578)]\n",
      "3846\n",
      "outer_poly [(366, 192), (754, 254), (752, 654), (354, 678)]\n"
     ]
    },
    {
     "name": "stderr",
     "output_type": "stream",
     "text": [
      " 78%|███████▊  | 3851/4943 [02:27<00:37, 28.91it/s]"
     ]
    },
    {
     "name": "stdout",
     "output_type": "stream",
     "text": [
      "3847\n",
      "outer_poly [(444, 336), (668, 318), (674, 576), (444, 574)]\n",
      "3848\n",
      "outer_poly [(370, 208), (796, 170), (796, 662), (366, 640)]\n",
      "3849\n",
      "outer_poly [(404, 204), (856, 250), (868, 704), (392, 724)]\n",
      "3850\n",
      "outer_poly [(470, 380), (652, 308), (656, 702), (468, 684)]\n",
      "3851\n",
      "outer_poly [(532, 214), (826, 292), (840, 652), (526, 662)]\n",
      "3852\n",
      "outer_poly [(562, 308), (800, 326), (802, 576), (564, 578)]\n"
     ]
    },
    {
     "name": "stderr",
     "output_type": "stream",
     "text": [
      " 78%|███████▊  | 3857/4943 [02:27<00:37, 28.79it/s]"
     ]
    },
    {
     "name": "stdout",
     "output_type": "stream",
     "text": [
      "3853\n",
      "outer_poly [(612, 300), (790, 340), (788, 574), (608, 572)]\n",
      "3854\n",
      "outer_poly [(516, 206), (826, 278), (832, 634), (512, 646)]\n",
      "3855\n",
      "outer_poly [(400, 350), (672, 374), (672, 656), (394, 654)]\n",
      "3856\n",
      "outer_poly [(472, 374), (760, 388), (764, 674), (468, 676)]\n",
      "3857\n",
      "outer_poly [(422, 264), (858, 268), (870, 712), (412, 712)]\n",
      "3858\n",
      "outer_poly [(565, 335), (719, 298), (722, 556), (567, 550)]\n"
     ]
    },
    {
     "name": "stderr",
     "output_type": "stream",
     "text": [
      " 78%|███████▊  | 3863/4943 [02:27<00:38, 28.33it/s]"
     ]
    },
    {
     "name": "stdout",
     "output_type": "stream",
     "text": [
      "3859\n",
      "outer_poly [(553, 377), (727, 315), (727, 676), (553, 661)]\n",
      "3860\n",
      "outer_poly [(574, 326), (764, 205), (777, 715), (573, 686)]\n",
      "3861\n",
      "outer_poly [(410, 17), (1031, 137), (1044, 764), (388, 816)]\n",
      "3862\n",
      "outer_poly [(508, 192), (714, 364), (714, 770), (486, 790)]\n",
      "3863\n",
      "outer_poly [(510, 222), (800, 306), (806, 668), (500, 678)]\n",
      "3864\n",
      "outer_poly [(624, 236), (974, 36), (1008, 856), (632, 734)]\n"
     ]
    },
    {
     "name": "stderr",
     "output_type": "stream",
     "text": [
      " 78%|███████▊  | 3869/4943 [02:28<00:37, 28.44it/s]"
     ]
    },
    {
     "name": "stdout",
     "output_type": "stream",
     "text": [
      "3865\n",
      "outer_poly [(588, 252), (872, 234), (876, 546), (588, 538)]\n",
      "3866\n",
      "outer_poly [(540, 264), (772, 224), (776, 570), (542, 548)]\n",
      "3867\n",
      "outer_poly [(598, 282), (780, 256), (780, 538), (600, 518)]\n",
      "3868\n",
      "outer_poly [(494, 378), (734, 406), (732, 674), (490, 672)]\n",
      "3869\n",
      "outer_poly [(500, 322), (704, 316), (706, 572), (502, 558)]\n",
      "3870\n",
      "outer_poly [(398, 218), (832, 246), (850, 684), (386, 692)]\n"
     ]
    },
    {
     "name": "stderr",
     "output_type": "stream",
     "text": [
      " 78%|███████▊  | 3875/4943 [02:28<00:37, 28.86it/s]"
     ]
    },
    {
     "name": "stdout",
     "output_type": "stream",
     "text": [
      "3871\n",
      "outer_poly [(443, 405), (632, 362), (635, 652), (443, 649)]\n",
      "3872\n",
      "outer_poly [(530, 402), (681, 344), (689, 654), (533, 653)]\n",
      "3873\n",
      "outer_poly [(553, 405), (719, 421), (722, 625), (550, 633)]\n",
      "3874\n",
      "outer_poly [(589, 331), (876, 346), (880, 647), (587, 652)]\n",
      "3875\n",
      "outer_poly [(523, 211), (947, 222), (945, 645), (523, 651)]\n",
      "3876\n",
      "outer_poly [(430, 252), (793, 232), (792, 641), (431, 614)]\n"
     ]
    },
    {
     "name": "stderr",
     "output_type": "stream",
     "text": [
      " 79%|███████▊  | 3881/4943 [02:28<00:36, 28.89it/s]"
     ]
    },
    {
     "name": "stdout",
     "output_type": "stream",
     "text": [
      "3877\n",
      "outer_poly [(467, 270), (851, 269), (856, 658), (463, 653)]\n",
      "3878\n",
      "outer_poly [(714, 376), (889, 363), (895, 542), (724, 545)]\n",
      "3879\n",
      "outer_poly [(585, 348), (874, 333), (883, 639), (585, 640)]\n",
      "3880\n",
      "outer_poly [(472, 36), (1052, 120), (1064, 703), (457, 724)]\n",
      "3881\n",
      "outer_poly [(662, 401), (871, 400), (868, 612), (656, 610)]\n",
      "3882\n",
      "outer_poly [(619, 327), (920, 333), (920, 639), (614, 633)]\n"
     ]
    },
    {
     "name": "stderr",
     "output_type": "stream",
     "text": [
      " 79%|███████▊  | 3887/4943 [02:28<00:36, 28.96it/s]"
     ]
    },
    {
     "name": "stdout",
     "output_type": "stream",
     "text": [
      "3883\n",
      "outer_poly [(570, 288), (734, 322), (726, 582), (561, 606)]\n",
      "3884\n",
      "outer_poly [(621, 321), (723, 333), (718, 554), (618, 565)]\n",
      "3885\n",
      "outer_poly [(641, 363), (719, 307), (724, 648), (648, 620)]\n",
      "3886\n",
      "outer_poly [(447, 276), (805, 329), (802, 706), (437, 726)]\n",
      "3887\n",
      "outer_poly [(441, 372), (747, 360), (747, 680), (438, 680)]\n",
      "3888\n",
      "outer_poly [(521, 207), (972, 178), (984, 660), (517, 652)]\n"
     ]
    },
    {
     "name": "stderr",
     "output_type": "stream",
     "text": [
      " 79%|███████▉  | 3893/4943 [02:28<00:36, 29.07it/s]"
     ]
    },
    {
     "name": "stdout",
     "output_type": "stream",
     "text": [
      "3889\n",
      "outer_poly [(437, 273), (784, 330), (790, 698), (426, 711)]\n",
      "3890\n",
      "outer_poly [(425, 103), (1073, 65), (1123, 746), (412, 749)]\n",
      "3891\n",
      "outer_poly [(462, 398), (743, 384), (747, 677), (461, 680)]\n",
      "3892\n",
      "outer_poly [(431, 29), (735, 255), (748, 740), (401, 777)]\n",
      "3893\n",
      "outer_poly [(475, 418), (731, 418), (736, 678), (474, 678)]\n",
      "3894\n",
      "outer_poly [(335, 135), (970, 55), (1024, 773), (305, 769)]\n"
     ]
    },
    {
     "name": "stderr",
     "output_type": "stream",
     "text": [
      " 79%|███████▉  | 3899/4943 [02:29<00:36, 28.33it/s]"
     ]
    },
    {
     "name": "stdout",
     "output_type": "stream",
     "text": [
      "3895\n",
      "outer_poly [(323, 263), (779, 201), (792, 740), (301, 731)]\n",
      "3896\n",
      "outer_poly [(516, 344), (759, 255), (772, 687), (513, 676)]\n",
      "3897\n",
      "outer_poly [(293, 94), (765, 166), (779, 632), (273, 640)]\n",
      "3898\n",
      "outer_poly [(447, 201), (863, 197), (884, 614), (446, 627)]\n",
      "3899\n",
      "outer_poly [(583, 379), (695, 289), (726, 652), (602, 653)]\n",
      "3900\n",
      "outer_poly [(511, 442), (666, 437), (670, 600), (513, 604)]\n"
     ]
    },
    {
     "name": "stderr",
     "output_type": "stream",
     "text": [
      " 79%|███████▉  | 3905/4943 [02:29<00:38, 27.25it/s]"
     ]
    },
    {
     "name": "stdout",
     "output_type": "stream",
     "text": [
      "3901\n",
      "outer_poly [(546, 437), (716, 438), (719, 619), (549, 628)]\n",
      "3902\n",
      "outer_poly [(676, 338), (860, 334), (862, 521), (678, 526)]\n",
      "3903\n",
      "outer_poly [(490, 230), (775, 120), (788, 705), (499, 644)]\n",
      "3904\n",
      "outer_poly [(259, 51), (945, 65), (954, 747), (255, 759)]\n",
      "3905\n",
      "outer_poly [(334, 92), (978, 88), (988, 740), (331, 748)]\n",
      "3906\n"
     ]
    },
    {
     "name": "stderr",
     "output_type": "stream",
     "text": [
      " 79%|███████▉  | 3911/4943 [02:29<00:39, 26.00it/s]"
     ]
    },
    {
     "name": "stdout",
     "output_type": "stream",
     "text": [
      "outer_poly [(289, 84), (818, 87), (822, 603), (301, 615)]\n",
      "3907\n",
      "outer_poly [(483, 62), (742, 197), (743, 653), (490, 773)]\n",
      "3908\n",
      "outer_poly [(585, 297), (782, 336), (785, 640), (590, 678)]\n",
      "3909\n",
      "outer_poly [(538, 264), (838, 264), (839, 565), (541, 566)]\n",
      "3910\n",
      "outer_poly [(562, 240), (665, 158), (674, 656), (569, 586)]\n",
      "3911\n"
     ]
    },
    {
     "name": "stderr",
     "output_type": "stream",
     "text": [
      "\r",
      " 79%|███████▉  | 3914/4943 [02:29<00:42, 24.37it/s]"
     ]
    },
    {
     "name": "stdout",
     "output_type": "stream",
     "text": [
      "outer_poly [(449, 296), (661, 234), (660, 647), (446, 608)]\n",
      "3912\n",
      "outer_poly [(521, 263), (680, 321), (681, 615), (520, 640)]\n",
      "3913\n",
      "outer_poly [(433, 198), (932, 216), (937, 715), (422, 715)]\n",
      "3914\n",
      "outer_poly [(526, 336), (781, 334), (782, 592), (525, 592)]\n",
      "3915\n",
      "outer_poly [(570, 401), (800, 420), (801, 672), (566, 680)]\n"
     ]
    },
    {
     "name": "stderr",
     "output_type": "stream",
     "text": [
      " 79%|███████▉  | 3920/4943 [02:29<00:41, 24.49it/s]"
     ]
    },
    {
     "name": "stdout",
     "output_type": "stream",
     "text": [
      "3916\n",
      "outer_poly [(406, 350), (710, 339), (715, 656), (406, 656)]\n",
      "3917\n",
      "outer_poly [(303, 127), (913, 59), (933, 757), (288, 731)]\n",
      "3918\n",
      "outer_poly [(524, 289), (868, 247), (872, 645), (525, 637)]\n",
      "3919\n",
      "outer_poly [(417, 22), (681, 248), (677, 730), (381, 782)]\n",
      "3920\n",
      "outer_poly [(523, 303), (674, 372), (677, 665), (520, 682)]\n",
      "3921\n"
     ]
    },
    {
     "name": "stderr",
     "output_type": "stream",
     "text": [
      " 79%|███████▉  | 3926/4943 [02:30<00:39, 25.50it/s]"
     ]
    },
    {
     "name": "stdout",
     "output_type": "stream",
     "text": [
      "outer_poly [(558, 381), (790, 406), (793, 658), (557, 657)]\n",
      "3922\n",
      "outer_poly [(558, 389), (765, 410), (763, 637), (552, 639)]\n",
      "3923\n",
      "outer_poly [(486, 384), (701, 401), (699, 631), (475, 632)]\n",
      "3924\n",
      "outer_poly [(497, 289), (863, 311), (870, 685), (490, 689)]\n",
      "3925\n",
      "outer_poly [(627, 377), (883, 377), (891, 637), (632, 640)]\n",
      "3926\n",
      "outer_poly [(326, 112), (967, 62), (1000, 764), (300, 747)]\n"
     ]
    },
    {
     "name": "stderr",
     "output_type": "stream",
     "text": [
      " 80%|███████▉  | 3932/4943 [02:30<00:39, 25.58it/s]"
     ]
    },
    {
     "name": "stdout",
     "output_type": "stream",
     "text": [
      "3927\n",
      "outer_poly [(569, 318), (772, 183), (780, 720), (567, 689)]\n",
      "3928\n",
      "outer_poly [(567, 418), (730, 476), (727, 749), (561, 755)]\n",
      "3929\n",
      "outer_poly [(553, 431), (821, 447), (827, 722), (550, 722)]\n",
      "3930\n",
      "outer_poly [(624, 300), (913, 311), (910, 598), (625, 602)]\n",
      "3931\n",
      "outer_poly [(695, 265), (991, 290), (991, 619), (693, 635)]\n",
      "3932\n"
     ]
    },
    {
     "name": "stderr",
     "output_type": "stream",
     "text": [
      "\r",
      " 80%|███████▉  | 3935/4943 [02:30<00:39, 25.60it/s]"
     ]
    },
    {
     "name": "stdout",
     "output_type": "stream",
     "text": [
      "outer_poly [(499, 350), (781, 317), (792, 639), (496, 644)]\n",
      "3933\n",
      "outer_poly [(496, 435), (616, 393), (621, 644), (496, 644)]\n",
      "3934\n",
      "outer_poly [(607, 269), (953, 294), (951, 648), (603, 657)]\n",
      "3935\n",
      "outer_poly [(653, 501), (744, 443), (756, 736), (662, 731)]\n",
      "3936\n",
      "outer_poly [(424, 90), (748, 249), (759, 722), (426, 830)]\n",
      "3937\n",
      "outer_poly [(274, 50), (898, 124), (914, 738), (242, 762)]\n"
     ]
    },
    {
     "name": "stderr",
     "output_type": "stream",
     "text": [
      " 80%|███████▉  | 3941/4943 [02:30<00:40, 24.55it/s]"
     ]
    },
    {
     "name": "stdout",
     "output_type": "stream",
     "text": [
      "3938\n",
      "outer_poly [(438, 351), (627, 384), (619, 614), (422, 615)]\n",
      "3939\n",
      "outer_poly [(346, 269), (702, 274), (703, 629), (340, 631)]\n",
      "3940\n",
      "outer_poly [(475, 165), (726, 201), (727, 509), (471, 517)]\n",
      "3941\n",
      "outer_poly [(676, 251), (1033, 253), (1034, 612), (673, 606)]\n",
      "3942\n",
      "outer_poly [(516, 256), (761, 194), (759, 673), (519, 614)]\n"
     ]
    },
    {
     "name": "stderr",
     "output_type": "stream",
     "text": [
      " 80%|███████▉  | 3947/4943 [02:31<00:40, 24.64it/s]"
     ]
    },
    {
     "name": "stdout",
     "output_type": "stream",
     "text": [
      "3943\n",
      "outer_poly [(594, 223), (769, 307), (768, 648), (591, 698)]\n",
      "3944\n",
      "outer_poly [(508, 321), (814, 303), (819, 639), (515, 627)]\n",
      "3945\n",
      "outer_poly [(507, 366), (702, 335), (701, 621), (508, 610)]\n",
      "3946\n",
      "outer_poly [(501, 336), (596, 260), (598, 654), (507, 623)]\n",
      "3947\n",
      "outer_poly [(389, 190), (728, 28), (740, 702), (389, 652)]\n",
      "3948\n"
     ]
    },
    {
     "name": "stderr",
     "output_type": "stream",
     "text": [
      " 80%|███████▉  | 3953/4943 [02:31<00:40, 24.74it/s]"
     ]
    },
    {
     "name": "stdout",
     "output_type": "stream",
     "text": [
      "outer_poly [(509, 249), (773, 318), (780, 654), (505, 674)]\n",
      "3949\n",
      "outer_poly [(513, 309), (678, 402), (680, 731), (508, 752)]\n",
      "3950\n",
      "outer_poly [(453, 148), (681, 317), (686, 743), (437, 775)]\n",
      "3951\n",
      "outer_poly [(414, 210), (901, 241), (918, 727), (397, 735)]\n",
      "3952\n",
      "outer_poly [(449, 379), (752, 366), (759, 687), (445, 687)]\n",
      "3953\n",
      "outer_poly "
     ]
    },
    {
     "name": "stderr",
     "output_type": "stream",
     "text": [
      " 80%|████████  | 3959/4943 [02:31<00:38, 25.36it/s]"
     ]
    },
    {
     "name": "stdout",
     "output_type": "stream",
     "text": [
      "[(596, 414), (672, 369), (677, 628), (596, 623)]\n",
      "3954\n",
      "outer_poly [(499, 355), (773, 387), (775, 678), (495, 687)]\n",
      "3955\n",
      "outer_poly [(517, 301), (785, 201), (809, 648), (520, 649)]\n",
      "3956\n",
      "outer_poly [(501, 499), (652, 493), (654, 653), (501, 653)]\n",
      "3957\n",
      "outer_poly [(549, 331), (723, 331), (722, 509), (546, 505)]\n",
      "3958\n",
      "outer_poly [(298, 149), (821, 183), (827, 693), (296, 718)]\n",
      "3959\n",
      "outer_poly [(574, 264), (780, 280), (776, 500), (573, 505)]\n"
     ]
    },
    {
     "name": "stderr",
     "output_type": "stream",
     "text": [
      " 80%|████████  | 3965/4943 [02:31<00:37, 25.99it/s]"
     ]
    },
    {
     "name": "stdout",
     "output_type": "stream",
     "text": [
      "3960\n",
      "outer_poly [(585, 260), (843, 272), (841, 540), (587, 549)]\n",
      "3961\n",
      "outer_poly [(420, 111), (808, 241), (810, 720), (408, 804)]\n",
      "3962\n",
      "outer_poly [(494, 332), (834, 340), (836, 686), (494, 692)]\n",
      "3963\n",
      "outer_poly [(464, 294), (776, 194), (790, 768), (474, 710)]\n",
      "3964\n",
      "outer_poly [(500, 262), (744, 176), (750, 672), (500, 624)]\n",
      "3965\n",
      "outer_poly [(456, 316), (620, 224), (632, 706), (458, 658)]\n"
     ]
    },
    {
     "name": "stderr",
     "output_type": "stream",
     "text": [
      " 80%|████████  | 3971/4943 [02:31<00:37, 25.92it/s]"
     ]
    },
    {
     "name": "stdout",
     "output_type": "stream",
     "text": [
      "3966\n",
      "outer_poly [(434, 150), (628, 262), (626, 642), (422, 692)]\n",
      "3967\n",
      "outer_poly [(418, 270), (774, 294), (778, 656), (406, 660)]\n",
      "3968\n",
      "outer_poly [(374, 198), (828, 236), (830, 686), (362, 706)]\n",
      "3969\n",
      "outer_poly [(471, 294), (862, 263), (874, 691), (470, 682)]\n",
      "3970\n",
      "outer_poly [(420, 197), (910, 131), (932, 706), (416, 687)]\n",
      "3971\n"
     ]
    },
    {
     "name": "stderr",
     "output_type": "stream",
     "text": [
      "\r",
      " 80%|████████  | 3974/4943 [02:32<00:37, 25.99it/s]"
     ]
    },
    {
     "name": "stdout",
     "output_type": "stream",
     "text": [
      "outer_poly [(619, 350), (864, 322), (872, 602), (625, 599)]\n",
      "3972\n",
      "outer_poly [(562, 405), (734, 356), (739, 672), (565, 660)]\n",
      "3973\n",
      "outer_poly [(464, 274), (800, 330), (798, 682), (457, 691)]\n",
      "3974\n",
      "outer_poly [(496, 314), (789, 354), (790, 669), (488, 677)]\n",
      "3975\n",
      "outer_poly [(396, 284), (751, 322), (753, 681), (381, 689)]\n",
      "3976\n",
      "outer_poly [(483, 222), (860, 195), (875, 596), (479, 599)]\n"
     ]
    },
    {
     "name": "stderr",
     "output_type": "stream",
     "text": [
      " 81%|████████  | 3980/4943 [02:32<00:36, 26.05it/s]"
     ]
    },
    {
     "name": "stdout",
     "output_type": "stream",
     "text": [
      "3977\n",
      "outer_poly [(467, 234), (798, 161), (808, 602), (467, 594)]\n",
      "3978\n",
      "outer_poly [(561, 235), (924, 32), (960, 798), (572, 712)]\n",
      "3979\n",
      "outer_poly [(623, 407), (728, 369), (735, 622), (626, 609)]\n",
      "3980\n",
      "outer_poly [(262, 409), (394, 368), (397, 697), (263, 676)]\n",
      "3981\n",
      "outer_poly [(497, 332), (765, 224), (772, 802), (490, 734)]\n",
      "3982\n"
     ]
    },
    {
     "name": "stderr",
     "output_type": "stream",
     "text": [
      " 81%|████████  | 3986/4943 [02:32<00:37, 25.75it/s]"
     ]
    },
    {
     "name": "stdout",
     "output_type": "stream",
     "text": [
      "outer_poly [(331, 296), (639, 251), (633, 687), (325, 653)]\n",
      "3983\n",
      "outer_poly [(508, 251), (763, 212), (763, 579), (509, 554)]\n",
      "3984\n",
      "outer_poly [(529, 275), (677, 232), (680, 562), (535, 535)]\n",
      "3985\n",
      "outer_poly [(615, 331), (732, 304), (733, 582), (617, 557)]\n",
      "3986\n",
      "outer_poly [(535, 302), (723, 245), (723, 665), (537, 618)]\n",
      "3987\n",
      "outer_poly [(398, 338), (749, 343), (759, 698), (392, 699)]\n"
     ]
    },
    {
     "name": "stderr",
     "output_type": "stream",
     "text": [
      " 81%|████████  | 3992/4943 [02:32<00:36, 26.36it/s]"
     ]
    },
    {
     "name": "stdout",
     "output_type": "stream",
     "text": [
      "3988\n",
      "outer_poly [(525, 373), (777, 348), (785, 631), (526, 636)]\n",
      "3989\n",
      "outer_poly [(830, 280), (934, 323), (938, 587), (829, 615)]\n",
      "3990\n",
      "outer_poly [(433, 264), (687, 107), (707, 673), (431, 668)]\n",
      "3991\n",
      "outer_poly [(596, 351), (851, 379), (855, 669), (594, 682)]\n",
      "3992\n",
      "outer_poly [(368, 174), (538, 261), (525, 594), (346, 619)]\n",
      "3993\n",
      "outer_poly [(267, 802), (1065, 811), (1037, 49), (300, 36)]\n"
     ]
    },
    {
     "name": "stderr",
     "output_type": "stream",
     "text": [
      " 81%|████████  | 3998/4943 [02:32<00:36, 26.21it/s]"
     ]
    },
    {
     "name": "stdout",
     "output_type": "stream",
     "text": [
      "3994\n",
      "outer_poly [(569, 446), (823, 454), (821, 715), (557, 707)]\n",
      "3995\n",
      "outer_poly [(475, 169), (798, 182), (788, 507), (461, 493)]\n",
      "3996\n",
      "outer_poly [(451, 255), (830, 259), (830, 644), (441, 640)]\n",
      "3997\n",
      "outer_poly [(243, 265), (595, 276), (598, 615), (247, 632)]\n",
      "3998\n",
      "outer_poly [(425, 384), (589, 376), (591, 546), (428, 552)]\n",
      "3999\n"
     ]
    },
    {
     "name": "stderr",
     "output_type": "stream",
     "text": [
      " 81%|████████  | 4004/4943 [02:33<00:35, 26.20it/s]"
     ]
    },
    {
     "name": "stdout",
     "output_type": "stream",
     "text": [
      "outer_poly [(406, 264), (746, 227), (751, 618), (401, 608)]\n",
      "4000\n",
      "outer_poly [(542, 333), (888, 334), (889, 686), (532, 678)]\n",
      "4001\n",
      "outer_poly [(455, 280), (811, 292), (805, 648), (446, 641)]\n",
      "4002\n",
      "outer_poly [(545, 278), (830, 298), (823, 603), (541, 614)]\n",
      "4003\n",
      "outer_poly [(490, 218), (825, 215), (821, 558), (486, 552)]\n",
      "4004\n",
      "outer_poly [(464, 317), (723, 318), (723, 574), (467, 577)]\n"
     ]
    },
    {
     "name": "stderr",
     "output_type": "stream",
     "text": [
      " 81%|████████  | 4010/4943 [02:33<00:35, 26.41it/s]"
     ]
    },
    {
     "name": "stdout",
     "output_type": "stream",
     "text": [
      "4005\n",
      "outer_poly [(453, 364), (749, 359), (749, 665), (451, 666)]\n",
      "4006\n",
      "outer_poly [(441, 224), (784, 108), (792, 776), (446, 686)]\n",
      "4007\n",
      "outer_poly [(559, 187), (805, 282), (804, 668), (554, 719)]\n",
      "4008\n",
      "outer_poly [(499, 148), (954, 222), (959, 705), (492, 747)]\n",
      "4009\n",
      "outer_poly [(501, 369), (680, 341), (683, 611), (502, 598)]\n",
      "4010\n",
      "outer_poly [(773, 374), (833, 317), (842, 612), (778, 595)]\n"
     ]
    },
    {
     "name": "stderr",
     "output_type": "stream",
     "text": [
      "\r",
      " 81%|████████  | 4013/4943 [02:33<00:35, 26.14it/s]"
     ]
    },
    {
     "name": "stdout",
     "output_type": "stream",
     "text": [
      "4011\n",
      "outer_poly [(488, 412), (695, 430), (691, 654), (486, 653)]\n",
      "4012\n",
      "outer_poly [(440, 410), (738, 380), (746, 725), (433, 725)]\n",
      "4013\n",
      "outer_poly [(244, 101), (838, 74), (870, 701), (213, 701)]\n",
      "4014\n",
      "outer_poly [(445, 221), (795, 66), (831, 658), (449, 658)]\n",
      "4015\n",
      "outer_poly [(474, 264), (785, 130), (817, 653), (484, 656)]\n"
     ]
    },
    {
     "name": "stderr",
     "output_type": "stream",
     "text": [
      " 81%|████████▏ | 4019/4943 [02:33<00:36, 25.01it/s]"
     ]
    },
    {
     "name": "stdout",
     "output_type": "stream",
     "text": [
      "4016\n",
      "outer_poly [(430, 341), (580, 340), (585, 495), (432, 495)]\n",
      "4017\n",
      "outer_poly [(588, 347), (764, 347), (768, 529), (586, 526)]\n",
      "4018\n",
      "outer_poly [(599, 266), (874, 267), (882, 546), (605, 550)]\n",
      "4019\n",
      "outer_poly [(536, 289), (774, 280), (774, 533), (537, 530)]\n",
      "4020\n",
      "outer_poly [(626, 323), (710, 296), (719, 558), (634, 536)]\n",
      "4021\n"
     ]
    },
    {
     "name": "stderr",
     "output_type": "stream",
     "text": [
      " 81%|████████▏ | 4025/4943 [02:34<00:34, 26.68it/s]"
     ]
    },
    {
     "name": "stdout",
     "output_type": "stream",
     "text": [
      "outer_poly [(560, 258), (649, 188), (657, 633), (570, 573)]\n",
      "4022\n",
      "outer_poly [(586, 371), (856, 388), (856, 688), (583, 700)]\n",
      "4023\n",
      "outer_poly [(358, 152), (1022, 93), (1044, 837), (351, 797)]\n",
      "4024\n",
      "outer_poly [(379, 258), (863, 228), (872, 761), (375, 738)]\n",
      "4025\n",
      "outer_poly [(291, 82), (920, 12), (927, 730), (286, 693)]\n",
      "4026\n",
      "outer_poly [(468, 158), (796, 0), (809, 0), (815, 712), (471, 634)]\n"
     ]
    },
    {
     "name": "stderr",
     "output_type": "stream",
     "text": [
      " 82%|████████▏ | 4031/4943 [02:34<00:34, 26.37it/s]"
     ]
    },
    {
     "name": "stdout",
     "output_type": "stream",
     "text": [
      "4027\n",
      "outer_poly [(497, 361), (710, 300), (719, 674), (503, 656)]\n",
      "4028\n",
      "outer_poly [(478, 177), (765, 292), (773, 683), (469, 710)]\n",
      "4029\n",
      "outer_poly [(569, 153), (851, 271), (863, 661), (567, 679)]\n",
      "4030\n",
      "outer_poly [(511, 222), (816, 271), (819, 601), (508, 611)]\n",
      "4031\n",
      "outer_poly [(501, 338), (802, 356), (808, 659), (496, 661)]\n",
      "4032\n",
      "outer_poly [(526, 14), (924, 238), (953, 777), (513, 856)]\n"
     ]
    },
    {
     "name": "stderr",
     "output_type": "stream",
     "text": [
      " 82%|████████▏ | 4037/4943 [02:34<00:32, 27.76it/s]"
     ]
    },
    {
     "name": "stdout",
     "output_type": "stream",
     "text": [
      "4033\n",
      "outer_poly [(377, 309), (774, 265), (779, 738), (359, 721)]\n",
      "4034\n",
      "outer_poly [(332, 768), (994, 786), (940, 41), (340, 165)]\n",
      "4035\n",
      "outer_poly [(616, 383), (704, 284), (709, 720), (616, 697)]\n",
      "4036\n",
      "outer_poly [(631, 388), (758, 370), (762, 555), (634, 551)]\n",
      "4037\n",
      "outer_poly [(534, 400), (705, 364), (713, 651), (535, 637)]\n",
      "4038\n",
      "outer_poly [(517, 432), (771, 451), (774, 706), (511, 706)]\n"
     ]
    },
    {
     "name": "stderr",
     "output_type": "stream",
     "text": [
      " 82%|████████▏ | 4043/4943 [02:34<00:33, 26.82it/s]"
     ]
    },
    {
     "name": "stdout",
     "output_type": "stream",
     "text": [
      "4039\n",
      "outer_poly [(526, 447), (780, 447), (782, 706), (522, 703)]\n",
      "4040\n",
      "outer_poly [(570, 430), (743, 378), (747, 687), (571, 681)]\n",
      "4041\n",
      "outer_poly [(515, 291), (801, 125), (822, 744), (507, 719)]\n",
      "4042\n",
      "outer_poly [(268, 686), (642, 681), (638, 329), (286, 278)]\n",
      "4043\n",
      "outer_poly [(495, 297), (781, 280), (782, 601), (495, 589)]\n",
      "4044\n",
      "outer_poly [(689, 291), (899, 303), (899, 531), (685, 533)]\n"
     ]
    },
    {
     "name": "stderr",
     "output_type": "stream",
     "text": [
      " 82%|████████▏ | 4049/4943 [02:34<00:32, 27.62it/s]"
     ]
    },
    {
     "name": "stdout",
     "output_type": "stream",
     "text": [
      "4045\n",
      "outer_poly [(424, 249), (841, 195), (860, 670), (414, 668)]\n",
      "4046\n",
      "outer_poly [(576, 304), (702, 342), (702, 601), (572, 634)]\n",
      "4047\n",
      "outer_poly [(554, 428), (693, 388), (700, 634), (559, 636)]\n",
      "4048\n",
      "outer_poly [(665, 414), (804, 298), (826, 744), (673, 737)]\n",
      "4049\n",
      "outer_poly [(647, 489), (741, 423), (758, 725), (658, 725)]\n",
      "4050\n",
      "outer_poly [(683, 634), (921, 612), (920, 327), (688, 299)]\n"
     ]
    },
    {
     "name": "stderr",
     "output_type": "stream",
     "text": [
      " 82%|████████▏ | 4055/4943 [02:35<00:33, 26.26it/s]"
     ]
    },
    {
     "name": "stdout",
     "output_type": "stream",
     "text": [
      "4051\n",
      "outer_poly [(318, 376), (526, 401), (524, 625), (310, 632)]\n",
      "4052\n",
      "outer_poly [(446, 329), (612, 366), (599, 591), (431, 594)]\n",
      "4053\n",
      "outer_poly [(858, 605), (480, 610), (485, 248), (841, 244)]\n",
      "4054\n",
      "outer_poly [(318, 741), (983, 738), (1041, 38), (272, 37)]\n",
      "4055\n",
      "outer_poly [(649, 608), (972, 614), (969, 287), (651, 298)]\n",
      "4056\n",
      "outer_poly [(543, 325), (812, 327), (811, 594), (543, 596)]\n"
     ]
    },
    {
     "name": "stderr",
     "output_type": "stream",
     "text": [
      " 82%|████████▏ | 4061/4943 [02:35<00:31, 27.67it/s]"
     ]
    },
    {
     "name": "stdout",
     "output_type": "stream",
     "text": [
      "4057\n",
      "outer_poly [(456, 265), (806, 257), (813, 607), (464, 612)]\n",
      "4058\n",
      "outer_poly [(498, 320), (706, 376), (706, 666), (486, 683)]\n",
      "4059\n",
      "outer_poly [(250, 2), (250, 770), (991, 735), (1012, 27), (732, 0)]\n",
      "4060\n",
      "outer_poly [(232, 209), (708, 258), (714, 718), (223, 757)]\n",
      "4061\n",
      "outer_poly [(605, 438), (722, 414), (720, 628), (602, 615)]\n",
      "4062\n",
      "outer_poly [(567, 382), (740, 337), (741, 671), (565, 648)]\n"
     ]
    },
    {
     "name": "stderr",
     "output_type": "stream",
     "text": [
      " 82%|████████▏ | 4067/4943 [02:35<00:33, 26.09it/s]"
     ]
    },
    {
     "name": "stdout",
     "output_type": "stream",
     "text": [
      "4063\n",
      "outer_poly [(547, 318), (801, 220), (807, 734), (544, 690)]\n",
      "4064\n",
      "outer_poly [(452, 216), (868, 222), (872, 636), (447, 636)]\n",
      "4065\n",
      "outer_poly [(487, 330), (653, 374), (653, 621), (488, 634)]\n",
      "4066\n",
      "outer_poly [(593, 459), (714, 435), (721, 628), (599, 627)]\n",
      "4067\n",
      "outer_poly [(570, 410), (698, 296), (713, 748), (578, 733)]\n"
     ]
    },
    {
     "name": "stderr",
     "output_type": "stream",
     "text": [
      "\r",
      " 82%|████████▏ | 4070/4943 [02:35<00:34, 25.31it/s]"
     ]
    },
    {
     "name": "stdout",
     "output_type": "stream",
     "text": [
      "4068\n",
      "outer_poly [(447, 786), (697, 768), (687, 344), (469, 153)]\n",
      "4069\n",
      "outer_poly [(468, 139), (874, 196), (860, 665), (474, 798)]\n",
      "4070\n",
      "outer_poly [(516, 333), (667, 332), (665, 482), (514, 480)]\n",
      "4071\n",
      "outer_poly [(655, 335), (836, 330), (840, 512), (659, 516)]\n",
      "4072\n",
      "outer_poly [(419, 736), (897, 724), (890, 260), (421, 250)]\n"
     ]
    },
    {
     "name": "stderr",
     "output_type": "stream",
     "text": [
      " 82%|████████▏ | 4076/4943 [02:35<00:33, 25.64it/s]"
     ]
    },
    {
     "name": "stdout",
     "output_type": "stream",
     "text": [
      "4073\n",
      "outer_poly [(216, 256), (640, 260), (645, 680), (217, 686)]\n",
      "4074\n",
      "outer_poly [(503, 294), (817, 283), (828, 602), (509, 609)]\n",
      "4075\n",
      "outer_poly [(527, 373), (775, 358), (777, 630), (530, 623)]\n",
      "4076\n",
      "outer_poly [(428, 766), (689, 667), (687, 197), (439, 0)]\n",
      "4077\n",
      "outer_poly [(268, 86), (841, 164), (846, 715), (251, 752)]\n",
      "4078\n",
      "outer_poly [(337, 574), (596, 574), (599, 315), (342, 315)]\n"
     ]
    },
    {
     "name": "stderr",
     "output_type": "stream",
     "text": [
      " 83%|████████▎ | 4082/4943 [02:36<00:31, 27.07it/s]"
     ]
    },
    {
     "name": "stdout",
     "output_type": "stream",
     "text": [
      "4079\n",
      "outer_poly [(392, 318), (642, 310), (642, 580), (394, 573)]\n",
      "4080\n",
      "outer_poly [(409, 174), (818, 52), (818, 703), (411, 642)]\n",
      "4081\n",
      "outer_poly [(568, 353), (671, 336), (674, 527), (572, 522)]\n",
      "4082\n",
      "outer_poly [(509, 338), (714, 388), (718, 670), (503, 694)]\n",
      "4083\n",
      "outer_poly [(514, 348), (731, 270), (738, 690), (515, 663)]\n",
      "4084\n",
      "outer_poly [(912, 64), (969, 751), (434, 746), (442, 238)]\n"
     ]
    },
    {
     "name": "stderr",
     "output_type": "stream",
     "text": [
      " 83%|████████▎ | 4088/4943 [02:36<00:31, 27.45it/s]"
     ]
    },
    {
     "name": "stdout",
     "output_type": "stream",
     "text": [
      "4085\n",
      "outer_poly [(470, 257), (738, 341), (736, 687), (459, 704)]\n",
      "4086\n",
      "outer_poly [(552, 393), (781, 413), (779, 662), (548, 663)]\n",
      "4087\n",
      "outer_poly [(567, 366), (869, 367), (872, 672), (567, 673)]\n",
      "4088\n",
      "outer_poly [(853, 327), (858, 695), (498, 690), (505, 343)]\n",
      "4089\n",
      "outer_poly [(351, 23), (1036, 113), (1085, 795), (318, 844)]\n",
      "4090\n",
      "outer_poly [(357, 116), (996, 49), (1039, 745), (352, 745)]\n"
     ]
    },
    {
     "name": "stderr",
     "output_type": "stream",
     "text": [
      " 83%|████████▎ | 4094/4943 [02:36<00:32, 26.03it/s]"
     ]
    },
    {
     "name": "stdout",
     "output_type": "stream",
     "text": [
      "4091\n",
      "outer_poly [(411, 341), (759, 302), (759, 712), (401, 695)]\n",
      "4092\n",
      "outer_poly [(547, 318), (739, 284), (742, 563), (552, 559)]\n",
      "4093\n",
      "outer_poly [(575, 361), (768, 287), (769, 678), (571, 653)]\n",
      "4094\n",
      "outer_poly [(671, 365), (672, 648), (531, 637), (531, 407)]\n",
      "4095\n",
      "outer_poly [(248, 20), (988, 45), (1002, 791), (217, 795)]\n"
     ]
    },
    {
     "name": "stderr",
     "output_type": "stream",
     "text": [
      " 83%|████████▎ | 4100/4943 [02:36<00:32, 25.57it/s]"
     ]
    },
    {
     "name": "stdout",
     "output_type": "stream",
     "text": [
      "4096\n",
      "outer_poly [(539, 255), (883, 310), (891, 683), (527, 687)]\n",
      "4097\n",
      "outer_poly [(467, 218), (908, 274), (927, 728), (451, 734)]\n",
      "4098\n",
      "outer_poly [(595, 421), (739, 394), (747, 634), (598, 618)]\n",
      "4099\n",
      "outer_poly [(548, 354), (743, 287), (747, 719), (546, 678)]\n",
      "4100\n",
      "outer_poly [(804, 291), (815, 707), (544, 697), (549, 369)]\n",
      "4101\n",
      "outer_poly [(570, 420), (731, 334), (739, 732), (570, 719)]\n"
     ]
    },
    {
     "name": "stderr",
     "output_type": "stream",
     "text": [
      " 83%|████████▎ | 4106/4943 [02:37<00:33, 25.22it/s]"
     ]
    },
    {
     "name": "stdout",
     "output_type": "stream",
     "text": [
      "4102\n",
      "outer_poly [(473, 129), (995, 4), (1004, 721), (484, 648)]\n",
      "4103\n",
      "outer_poly [(462, 349), (706, 393), (712, 654), (455, 656)]\n",
      "4104\n",
      "outer_poly [(588, 380), (778, 340), (792, 639), (585, 640)]\n",
      "4105\n",
      "outer_poly [(514, 294), (605, 336), (602, 601), (512, 635)]\n",
      "4106\n",
      "outer_poly [(425, 230), (699, 294), (703, 645), (420, 687)]\n"
     ]
    },
    {
     "name": "stderr",
     "output_type": "stream",
     "text": [
      "\r",
      " 83%|████████▎ | 4109/4943 [02:37<00:33, 24.63it/s]"
     ]
    },
    {
     "name": "stdout",
     "output_type": "stream",
     "text": [
      "4107\n",
      "outer_poly [(733, 288), (947, 335), (955, 632), (736, 659)]\n",
      "4108\n",
      "outer_poly [(310, 7), (265, 824), (966, 770), (959, 129), (395, 1), (311, 1)]\n",
      "4109\n",
      "outer_poly [(95, 109), (726, 107), (717, 738), (98, 729)]\n",
      "4110\n",
      "outer_poly [(485, 332), (735, 333), (735, 583), (484, 580)]\n",
      "4111\n",
      "outer_poly [(466, 286), (866, 292), (867, 694), (455, 691)]\n"
     ]
    },
    {
     "name": "stderr",
     "output_type": "stream",
     "text": [
      " 83%|████████▎ | 4115/4943 [02:37<00:34, 24.28it/s]"
     ]
    },
    {
     "name": "stdout",
     "output_type": "stream",
     "text": [
      "4112\n",
      "outer_poly [(1014, 55), (1086, 787), (311, 788), (342, 118)]\n",
      "4113\n",
      "outer_poly [(430, 318), (753, 311), (760, 642), (424, 644)]\n",
      "4114\n",
      "outer_poly [(476, 280), (799, 264), (808, 598), (483, 600)]\n",
      "4115\n",
      "outer_poly [(516, 313), (702, 333), (697, 551), (516, 563)]\n",
      "4116\n",
      "outer_poly [(508, 368), (681, 337), (681, 616), (509, 601)]\n",
      "4117\n"
     ]
    },
    {
     "name": "stderr",
     "output_type": "stream",
     "text": [
      " 83%|████████▎ | 4122/4943 [02:37<00:31, 25.98it/s]"
     ]
    },
    {
     "name": "stdout",
     "output_type": "stream",
     "text": [
      "outer_poly [(581, 278), (768, 154), (778, 743), (585, 670)]\n",
      "4118\n",
      "outer_poly [(355, 464)]\n",
      "gt annotation error has been detected in img ID: 4118\n",
      "skipping img\n",
      "4119\n",
      "outer_poly [(350, 160), (550, 0), (628, 2), (629, 735), (345, 660)]\n",
      "4120\n",
      "outer_poly [(601, 409), (706, 386), (709, 590), (602, 584)]\n",
      "4121\n",
      "outer_poly [(513, 306), (817, 311), (819, 615), (509, 612)]\n",
      "4122\n",
      "outer_poly [(465, 142), (808, 254), (810, 666), (449, 696)]\n"
     ]
    },
    {
     "name": "stderr",
     "output_type": "stream",
     "text": [
      " 84%|████████▎ | 4128/4943 [02:37<00:31, 25.97it/s]"
     ]
    },
    {
     "name": "stdout",
     "output_type": "stream",
     "text": [
      "4123\n",
      "outer_poly [(406, 215), (717, 337), (725, 741), (387, 769)]\n",
      "4124\n",
      "outer_poly [(484, 377), (690, 427), (695, 697), (483, 703)]\n",
      "4125\n",
      "outer_poly [(491, 430), (757, 413), (765, 690), (496, 690)]\n",
      "4126\n",
      "outer_poly [(464, 349), (731, 321), (740, 630), (464, 633)]\n",
      "4127\n",
      "outer_poly [(616, 515), (676, 471), (686, 719), (621, 714)]\n",
      "4128\n"
     ]
    },
    {
     "name": "stderr",
     "output_type": "stream",
     "text": [
      "\r",
      " 84%|████████▎ | 4131/4943 [02:38<00:32, 25.15it/s]"
     ]
    },
    {
     "name": "stdout",
     "output_type": "stream",
     "text": [
      "outer_poly [(366, 133), (687, 279), (702, 698), (350, 715)]\n",
      "4129\n",
      "outer_poly [(282, 27), (903, 52), (940, 665), (258, 675)]\n",
      "4130\n",
      "outer_poly [(327, 42), (900, 57), (924, 624), (311, 631)]\n",
      "4131\n",
      "outer_poly [(619, 331), (784, 334), (784, 501), (616, 502)]\n",
      "4132\n",
      "outer_poly [(497, 281), (841, 268), (850, 616), (503, 624)]\n",
      "4133\n"
     ]
    },
    {
     "name": "stderr",
     "output_type": "stream",
     "text": [
      " 84%|████████▎ | 4137/4943 [02:38<00:31, 25.28it/s]"
     ]
    },
    {
     "name": "stdout",
     "output_type": "stream",
     "text": [
      "outer_poly [(527, 234), (829, 252), (830, 564), (528, 581)]\n",
      "4134\n",
      "outer_poly [(464, 182), (875, 213), (877, 624), (470, 654)]\n",
      "4135\n",
      "outer_poly [(363, 73), (963, 121), (961, 699), (373, 748)]\n",
      "4136\n",
      "outer_poly [(430, 246), (734, 250), (736, 552), (436, 561)]\n",
      "4137\n",
      "outer_poly [(415, 178), (901, 133), (896, 695), (418, 655)]\n",
      "4138\n",
      "outer_poly [(176, 132), (723, 79), (722, 730), (183, 683)]\n"
     ]
    },
    {
     "name": "stderr",
     "output_type": "stream",
     "text": [
      " 84%|████████▍ | 4143/4943 [02:38<00:31, 25.07it/s]"
     ]
    },
    {
     "name": "stdout",
     "output_type": "stream",
     "text": [
      "4139\n",
      "outer_poly [(574, 238), (687, 143), (693, 700), (578, 612)]\n",
      "4140\n",
      "outer_poly [(507, 395), (713, 410), (711, 630), (501, 633)]\n",
      "4141\n",
      "outer_poly [(484, 441), (556, 410), (559, 652), (485, 639)]\n",
      "4142\n",
      "outer_poly [(445, 120), (649, 252), (647, 648), (436, 707)]\n",
      "4143\n",
      "outer_poly [(505, 187), (720, 278), (718, 627), (503, 667)]\n",
      "4144\n"
     ]
    },
    {
     "name": "stderr",
     "output_type": "stream",
     "text": [
      " 84%|████████▍ | 4149/4943 [02:38<00:31, 24.87it/s]"
     ]
    },
    {
     "name": "stdout",
     "output_type": "stream",
     "text": [
      "outer_poly [(491, 146), (730, 256), (724, 643), (476, 689)]\n",
      "4145\n",
      "outer_poly [(561, 328), (781, 309), (782, 568), (565, 562)]\n",
      "4146\n",
      "outer_poly [(358, 121), (967, 124), (992, 740), (345, 745)]\n",
      "4147\n",
      "outer_poly [(489, 347), (623, 243), (630, 722), (493, 687)]\n",
      "4148\n",
      "outer_poly [(530, 668), (999, 666), (969, 194), (534, 243)]\n",
      "4149\n"
     ]
    },
    {
     "name": "stderr",
     "output_type": "stream",
     "text": [
      "\r",
      " 84%|████████▍ | 4152/4943 [02:38<00:31, 25.31it/s]"
     ]
    },
    {
     "name": "stdout",
     "output_type": "stream",
     "text": [
      "outer_poly [(412, 152), (932, 80), (966, 672), (394, 671)]\n",
      "4150\n",
      "outer_poly [(422, 150), (648, 290), (645, 684), (404, 713)]\n",
      "4151\n",
      "outer_poly [(523, 329), (759, 265), (767, 624), (522, 619)]\n",
      "4152\n",
      "outer_poly [(433, 135), (779, 263), (788, 695), (414, 726)]\n",
      "4153\n",
      "outer_poly [(353, 148), (1040, 26), (1137, 840), (318, 834)]\n",
      "4154\n",
      "outer_poly [(483, 375), (751, 381), (754, 649), (479, 646)]\n"
     ]
    },
    {
     "name": "stderr",
     "output_type": "stream",
     "text": [
      " 84%|████████▍ | 4158/4943 [02:39<00:30, 26.13it/s]"
     ]
    },
    {
     "name": "stdout",
     "output_type": "stream",
     "text": [
      "4155\n",
      "outer_poly [(590, 310), (783, 342), (789, 588), (588, 597)]\n",
      "4156\n",
      "outer_poly [(577, 448), (691, 424), (692, 637), (576, 631)]\n",
      "4157\n",
      "outer_poly [(589, 659), (722, 670), (718, 367), (591, 412)]\n",
      "4158\n",
      "outer_poly [(607, 369), (703, 255), (711, 732), (608, 705)]\n",
      "4159\n",
      "outer_poly [(548, 286), (713, 402), (716, 759), (534, 773)]\n",
      "4160\n",
      "outer_poly [(463, 240), (891, 164), (897, 721), (459, 683)]\n"
     ]
    },
    {
     "name": "stderr",
     "output_type": "stream",
     "text": [
      " 84%|████████▍ | 4164/4943 [02:39<00:29, 26.17it/s]"
     ]
    },
    {
     "name": "stdout",
     "output_type": "stream",
     "text": [
      "4161\n",
      "outer_poly [(539, 403), (677, 386), (679, 586), (541, 580)]\n",
      "4162\n",
      "outer_poly [(417, 375), (643, 366), (640, 617), (412, 608)]\n",
      "4163\n",
      "outer_poly [(335, 85), (1034, 49), (1039, 800), (314, 764)]\n",
      "4164\n",
      "outer_poly [(424, 3), (435, 2), (708, 248), (711, 730), (382, 745)]\n",
      "4165\n",
      "outer_poly [(481, 592), (718, 579), (721, 315), (490, 291)]\n",
      "4166\n",
      "outer_poly [(176, 1), (282, 1), (897, 124), (894, 790), (486, 864), (165, 863)]\n"
     ]
    },
    {
     "name": "stderr",
     "output_type": "stream",
     "text": [
      " 84%|████████▍ | 4170/4943 [02:39<00:29, 26.59it/s]"
     ]
    },
    {
     "name": "stdout",
     "output_type": "stream",
     "text": [
      "4167\n",
      "outer_poly [(480, 670), (775, 631), (775, 295), (481, 255)]\n",
      "4168\n",
      "outer_poly [(330, 225), (638, 54), (655, 677), (323, 666)]\n",
      "4169\n",
      "outer_poly [(453, 357), (637, 390), (625, 615), (435, 615)]\n",
      "4170\n",
      "outer_poly [(102, 173), (646, 175), (640, 710), (101, 710)]\n",
      "4171\n",
      "outer_poly [(293, 729), (304, 148), (894, 132), (898, 742)]\n",
      "4172\n",
      "outer_poly [(324, 685), (352, 74), (864, 161), (888, 667)]\n"
     ]
    },
    {
     "name": "stderr",
     "output_type": "stream",
     "text": [
      " 84%|████████▍ | 4176/4943 [02:39<00:28, 26.50it/s]"
     ]
    },
    {
     "name": "stdout",
     "output_type": "stream",
     "text": [
      "4173\n",
      "outer_poly [(547, 731), (556, 246), (1062, 188), (1079, 764)]\n",
      "4174\n",
      "outer_poly [(493, 242), (791, 242), (786, 544), (495, 538)]\n",
      "4175\n",
      "outer_poly [(0, 39), (734, 111), (732, 821), (173, 864), (0, 862)]\n",
      "4176\n",
      "outer_poly [(612, 338), (776, 369), (778, 610), (609, 627)]\n",
      "4177\n",
      "outer_poly [(615, 405), (685, 381), (686, 591), (616, 579)]\n",
      "4178\n",
      "outer_poly [(486, 386), (693, 413), (690, 654), (479, 659)]\n"
     ]
    },
    {
     "name": "stderr",
     "output_type": "stream",
     "text": [
      " 85%|████████▍ | 4182/4943 [02:40<00:28, 26.49it/s]"
     ]
    },
    {
     "name": "stdout",
     "output_type": "stream",
     "text": [
      "4179\n",
      "outer_poly [(513, 412), (751, 403), (754, 656), (511, 652)]\n",
      "4180\n",
      "outer_poly [(736, 715), (502, 655), (500, 213), (724, 21)]\n",
      "4181\n",
      "outer_poly [(541, 347), (706, 287), (706, 633), (539, 613)]\n",
      "4182\n",
      "outer_poly [(548, 404), (666, 383), (669, 573), (552, 571)]\n",
      "4183\n",
      "outer_poly [(456, 379), (661, 322), (668, 677), (454, 668)]\n",
      "4184\n",
      "outer_poly [(575, 476), (683, 451), (687, 650), (578, 648)]\n"
     ]
    },
    {
     "name": "stderr",
     "output_type": "stream",
     "text": [
      " 85%|████████▍ | 4188/4943 [02:40<00:28, 26.78it/s]"
     ]
    },
    {
     "name": "stdout",
     "output_type": "stream",
     "text": [
      "4185\n",
      "outer_poly [(617, 426), (686, 387), (694, 620), (621, 618)]\n",
      "4186\n",
      "outer_poly [(406, 106), (826, 156), (814, 630), (424, 758)]\n",
      "4187\n",
      "outer_poly [(529, 486), (677, 479), (682, 629), (536, 633)]\n",
      "4188\n",
      "outer_poly [(432, 332), (580, 332), (581, 484), (431, 483)]\n",
      "4189\n",
      "outer_poly [(505, 632), (770, 682), (759, 152), (502, 250)]\n",
      "4190\n",
      "outer_poly [(657, 203), (793, 276), (797, 590), (659, 632)]\n"
     ]
    },
    {
     "name": "stderr",
     "output_type": "stream",
     "text": [
      " 85%|████████▍ | 4194/4943 [02:40<00:28, 25.91it/s]"
     ]
    },
    {
     "name": "stdout",
     "output_type": "stream",
     "text": [
      "4191\n",
      "outer_poly [(703, 613), (505, 693), (505, 146), (700, 234)]\n",
      "4192\n",
      "outer_poly [(504, 226), (770, 120), (782, 726), (508, 634)]\n",
      "4193\n",
      "outer_poly [(474, 296), (694, 348), (692, 644), (468, 670)]\n",
      "4194\n",
      "outer_poly [(488, 336), (838, 348), (838, 694), (488, 710)]\n",
      "4195\n",
      "outer_poly [(404, 118), (1046, 140), (1052, 776), (394, 788)]\n"
     ]
    },
    {
     "name": "stderr",
     "output_type": "stream",
     "text": [
      " 85%|████████▍ | 4200/4943 [02:40<00:28, 25.73it/s]"
     ]
    },
    {
     "name": "stdout",
     "output_type": "stream",
     "text": [
      "4196\n",
      "outer_poly [(546, 208), (874, 66), (888, 746), (548, 654)]\n",
      "4197\n",
      "outer_poly [(468, 324), (626, 246), (634, 698), (474, 654)]\n",
      "4198\n",
      "outer_poly [(496, 262), (644, 172), (644, 618), (502, 582)]\n",
      "4199\n",
      "outer_poly [(586, 386), (826, 414), (832, 682), (582, 686)]\n",
      "4200\n",
      "outer_poly [(438, 78), (892, 212), (922, 708), (422, 718)]\n",
      "4201\n",
      "outer_poly [(304, 156), (962, 14), (1058, 832), (252, 822)]\n"
     ]
    },
    {
     "name": "stderr",
     "output_type": "stream",
     "text": [
      " 85%|████████▌ | 4206/4943 [02:40<00:29, 25.30it/s]"
     ]
    },
    {
     "name": "stdout",
     "output_type": "stream",
     "text": [
      "4202\n",
      "outer_poly [(572, 316), (792, 298), (794, 542), (578, 538)]\n",
      "4203\n",
      "outer_poly [(406, 176), (964, 22), (1018, 744), (398, 734)]\n",
      "4204\n",
      "outer_poly [(590, 300), (754, 268), (758, 512), (588, 504)]\n",
      "4205\n",
      "outer_poly [(558, 290), (710, 188), (716, 628), (562, 612)]\n",
      "4206\n",
      "outer_poly [(518, 254), (820, 284), (832, 610), (512, 618)]\n",
      "4207\n"
     ]
    },
    {
     "name": "stderr",
     "output_type": "stream",
     "text": [
      "\r",
      " 85%|████████▌ | 4209/4943 [02:41<00:29, 24.54it/s]"
     ]
    },
    {
     "name": "stdout",
     "output_type": "stream",
     "text": [
      "outer_poly [(540, 314), (810, 278), (828, 598), (544, 586)]\n",
      "4208\n",
      "outer_poly [(492, 398), (642, 378), (642, 618), (492, 616)]\n",
      "4209\n",
      "outer_poly [(440, 234), (828, 112), (848, 716), (442, 684)]\n",
      "4210\n",
      "outer_poly [(484, 146), (838, 238), (840, 668), (474, 700)]\n",
      "4211\n",
      "outer_poly [(588, 480), (652, 428), (654, 708), (588, 702)]\n"
     ]
    },
    {
     "name": "stderr",
     "output_type": "stream",
     "text": [
      " 85%|████████▌ | 4215/4943 [02:41<00:29, 24.66it/s]"
     ]
    },
    {
     "name": "stdout",
     "output_type": "stream",
     "text": [
      "4212\n",
      "outer_poly [(474, 78), (784, 292), (798, 782), (440, 810)]\n",
      "4213\n",
      "outer_poly [(458, 342), (690, 326), (684, 596), (458, 582)]\n",
      "4214\n",
      "outer_poly [(526, 196), (776, 346), (784, 764), (504, 782)]\n",
      "4215\n",
      "outer_poly [(498, 182), (814, 284), (822, 672), (484, 680)]\n",
      "4216\n",
      "outer_poly [(550, 376), (858, 392), (864, 708), (540, 704)]\n",
      "4217\n"
     ]
    },
    {
     "name": "stderr",
     "output_type": "stream",
     "text": [
      " 85%|████████▌ | 4221/4943 [02:41<00:28, 25.19it/s]"
     ]
    },
    {
     "name": "stdout",
     "output_type": "stream",
     "text": [
      "outer_poly [(434, 395), (542, 335), (550, 691), (438, 669)]\n",
      "4218\n",
      "outer_poly [(471, 313), (894, 315), (910, 752), (451, 751)]\n",
      "4219\n",
      "outer_poly [(483, 392), (827, 383), (834, 739), (472, 739)]\n",
      "4220\n",
      "outer_poly [(424, 390), (654, 362), (653, 670), (419, 652)]\n",
      "4221\n",
      "outer_poly [(379, 388), (631, 360), (628, 700), (374, 677)]\n",
      "4222\n",
      "outer_poly [(698, 243), (927, 125), (927, 756), (698, 645)]\n"
     ]
    },
    {
     "name": "stderr",
     "output_type": "stream",
     "text": [
      " 86%|████████▌ | 4227/4943 [02:41<00:27, 26.43it/s]"
     ]
    },
    {
     "name": "stdout",
     "output_type": "stream",
     "text": [
      "4223\n",
      "outer_poly [(588, 315), (802, 383), (812, 680), (591, 686)]\n",
      "4224\n",
      "outer_poly [(556, 394), (749, 346), (763, 645), (557, 639)]\n",
      "4225\n",
      "outer_poly [(509, 337), (739, 235), (761, 667), (517, 665)]\n",
      "4226\n",
      "outer_poly [(451, 352), (660, 275), (669, 650), (453, 653)]\n",
      "4227\n",
      "outer_poly [(470, 211), (942, 238), (938, 704), (458, 718)]\n",
      "4228\n",
      "outer_poly [(333, 222), (755, 284), (762, 710), (310, 738)]\n"
     ]
    },
    {
     "name": "stderr",
     "output_type": "stream",
     "text": [
      " 86%|████████▌ | 4233/4943 [02:42<00:26, 26.51it/s]"
     ]
    },
    {
     "name": "stdout",
     "output_type": "stream",
     "text": [
      "4229\n",
      "outer_poly [(246, 52), (987, 34), (997, 807), (231, 790)]\n",
      "4230\n",
      "outer_poly [(479, 328), (907, 317), (909, 777), (454, 752)]\n",
      "4231\n",
      "outer_poly [(379, 265), (736, 258), (745, 613), (387, 621)]\n",
      "4232\n",
      "outer_poly [(529, 268), (814, 264), (818, 554), (528, 556)]\n",
      "4233\n",
      "outer_poly [(558, 362), (811, 363), (816, 615), (564, 611)]\n",
      "4234\n",
      "outer_poly [(455, 124), (939, 202), (945, 699), (439, 722)]\n"
     ]
    },
    {
     "name": "stderr",
     "output_type": "stream",
     "text": [
      " 86%|████████▌ | 4239/4943 [02:42<00:25, 27.37it/s]"
     ]
    },
    {
     "name": "stdout",
     "output_type": "stream",
     "text": [
      "4235\n",
      "outer_poly [(476, 318), (791, 323), (792, 648), (463, 642)]\n",
      "4236\n",
      "outer_poly [(532, 242), (793, 283), (794, 622), (526, 660)]\n",
      "4237\n",
      "outer_poly [(483, 72), (843, 227), (842, 707), (469, 800)]\n",
      "4238\n",
      "outer_poly [(550, 267), (801, 320), (808, 640), (552, 673)]\n",
      "4239\n",
      "outer_poly [(487, 331), (731, 350), (738, 615), (481, 620)]\n",
      "4240\n",
      "outer_poly [(533, 404), (660, 386), (661, 590), (539, 580)]\n"
     ]
    },
    {
     "name": "stderr",
     "output_type": "stream",
     "text": [
      " 86%|████████▌ | 4245/4943 [02:42<00:24, 28.13it/s]"
     ]
    },
    {
     "name": "stdout",
     "output_type": "stream",
     "text": [
      "4241\n",
      "outer_poly [(422, 373), (649, 390), (649, 622), (422, 618)]\n",
      "4242\n",
      "outer_poly [(545, 409), (591, 376), (592, 597), (546, 585)]\n",
      "4243\n",
      "outer_poly [(633, 253), (790, 98), (796, 691), (643, 648)]\n",
      "4244\n",
      "outer_poly [(321, 196), (696, 85), (705, 684), (313, 651)]\n",
      "4245\n",
      "outer_poly [(399, 307), (675, 252), (673, 650), (399, 637)]\n",
      "4246\n",
      "outer_poly [(399, 349), (740, 330), (750, 691), (397, 691)]\n"
     ]
    },
    {
     "name": "stderr",
     "output_type": "stream",
     "text": [
      " 86%|████████▌ | 4252/4943 [02:42<00:23, 29.94it/s]"
     ]
    },
    {
     "name": "stdout",
     "output_type": "stream",
     "text": [
      "4247\n",
      "outer_poly [(382, 104), (862, 215), (886, 716), (360, 737)]\n",
      "4248\n",
      "outer_poly [(510, 389), (713, 340), (719, 650), (510, 645)]\n",
      "4249\n",
      "outer_poly \n",
      "gt annotation error has been detected in img ID: 4249\n",
      "skipping img\n",
      "4250\n",
      "outer_poly [(480, 250), (699, 379), (701, 745), (467, 752)]\n",
      "4251\n",
      "outer_poly [(353, 140), (774, 192), (788, 609), (342, 618)]\n",
      "4252\n",
      "outer_poly [(774, 423), (927, 372), (945, 631), (787, 633)]\n",
      "4253\n",
      "outer_poly [(526, 357), (651, 256), (678, 650), (538, 653)]\n"
     ]
    },
    {
     "name": "stderr",
     "output_type": "stream",
     "text": [
      " 86%|████████▌ | 4259/4943 [02:42<00:23, 29.55it/s]"
     ]
    },
    {
     "name": "stdout",
     "output_type": "stream",
     "text": [
      "4254\n",
      "outer_poly [(428, 362), (617, 361), (617, 556), (425, 556)]\n",
      "4255\n",
      "outer_poly [(408, 389), (611, 391), (610, 591), (408, 592)]\n",
      "4256\n",
      "outer_poly [(272, 119), (837, 127), (840, 683), (266, 695)]\n",
      "4257\n",
      "outer_poly [(596, 260), (828, 272), (827, 513), (594, 522)]\n",
      "4258\n",
      "outer_poly [(633, 260), (770, 196), (776, 635), (640, 576)]\n",
      "4259\n",
      "outer_poly [(693, 160), (1280, 193), (1296, 444), (1296, 815), (696, 847)]\n"
     ]
    },
    {
     "name": "stderr",
     "output_type": "stream",
     "text": [
      " 86%|████████▋ | 4265/4943 [02:43<00:23, 29.18it/s]"
     ]
    },
    {
     "name": "stdout",
     "output_type": "stream",
     "text": [
      "4260\n",
      "outer_poly [(336, 183), (886, 194), (895, 749), (326, 754)]\n",
      "4261\n",
      "outer_poly [(408, 319), (589, 272), (591, 619), (410, 593)]\n",
      "4262\n",
      "outer_poly [(581, 249), (751, 310), (756, 614), (583, 645)]\n",
      "4263\n",
      "outer_poly [(407, 213), (767, 111), (776, 691), (405, 642)]\n",
      "4264\n",
      "outer_poly [(390, 299), (700, 325), (704, 633), (387, 643)]\n",
      "4265\n",
      "outer_poly [(448, 286), (722, 135), (739, 779), (448, 729)]\n"
     ]
    },
    {
     "name": "stderr",
     "output_type": "stream",
     "text": [
      " 86%|████████▋ | 4271/4943 [02:43<00:22, 29.34it/s]"
     ]
    },
    {
     "name": "stdout",
     "output_type": "stream",
     "text": [
      "4266\n",
      "outer_poly [(395, 100), (965, 134), (1018, 706), (381, 728)]\n",
      "4267\n",
      "outer_poly [(437, 194), (896, 225), (934, 690), (428, 707)]\n",
      "4268\n",
      "outer_poly [(295, 46), (893, 136), (905, 730), (258, 741)]\n",
      "4269\n",
      "outer_poly [(388, 312), (769, 269), (773, 731), (369, 708)]\n",
      "4270\n",
      "outer_poly [(564, 340), (732, 296), (736, 578), (566, 572)]\n",
      "4271\n",
      "outer_poly [(446, 35), (863, 189), (864, 691), (422, 762)]\n"
     ]
    },
    {
     "name": "stderr",
     "output_type": "stream",
     "text": [
      " 87%|████████▋ | 4277/4943 [02:43<00:22, 29.62it/s]"
     ]
    },
    {
     "name": "stdout",
     "output_type": "stream",
     "text": [
      "4272\n",
      "outer_poly [(592, 247), (909, 87), (928, 770), (594, 695)]\n",
      "4273\n",
      "outer_poly [(553, 462), (798, 447), (801, 705), (548, 711)]\n",
      "4274\n",
      "outer_poly [(453, 321), (746, 295), (748, 655), (447, 634)]\n",
      "4275\n",
      "outer_poly [(488, 383), (725, 369), (726, 639), (485, 628)]\n",
      "4276\n",
      "outer_poly [(529, 316), (627, 285), (630, 521), (534, 505)]\n",
      "4277\n",
      "outer_poly [(466, 230), (716, 338), (721, 689), (449, 696)]\n",
      "4278\n"
     ]
    },
    {
     "name": "stderr",
     "output_type": "stream",
     "text": [
      " 87%|████████▋ | 4283/4943 [02:43<00:22, 29.07it/s]"
     ]
    },
    {
     "name": "stdout",
     "output_type": "stream",
     "text": [
      "outer_poly [(669, 321), (789, 277), (794, 619), (674, 579)]\n",
      "4279\n",
      "outer_poly [(525, 314), (766, 287), (767, 613), (529, 588)]\n",
      "4280\n",
      "outer_poly [(458, 142), (1044, 168), (1038, 741), (453, 759)]\n",
      "4281\n",
      "outer_poly [(467, 149), (1037, 170), (1036, 734), (461, 755)]\n",
      "4282\n",
      "outer_poly [(547, 287), (820, 307), (815, 591), (542, 600)]\n",
      "4283\n",
      "outer_poly [(985, 6), (988, 829), (865, 864), (0, 864), (0, 2)]\n"
     ]
    },
    {
     "name": "stderr",
     "output_type": "stream",
     "text": [
      "\r",
      " 87%|████████▋ | 4287/4943 [02:43<00:22, 29.24it/s]"
     ]
    },
    {
     "name": "stdout",
     "output_type": "stream",
     "text": [
      "4284\n",
      "outer_poly [(560, 445), (671, 409), (679, 640), (565, 639)]\n",
      "4285\n",
      "outer_poly [(618, 389), (765, 412), (768, 620), (615, 632)]\n",
      "4286\n",
      "outer_poly [(525, 369), (704, 401), (697, 620), (510, 622)]\n",
      "4287\n",
      "outer_poly [(216, 205), (677, 213), (676, 662), (220, 668)]\n",
      "4288\n",
      "outer_poly [(275, 123), (905, 74), (916, 780), (262, 743)]\n",
      "4289\n",
      "outer_poly [(510, 285), (819, 306), (821, 624), (506, 636)]\n",
      "4290\n"
     ]
    },
    {
     "name": "stderr",
     "output_type": "stream",
     "text": [
      " 87%|████████▋ | 4294/4943 [02:44<00:22, 29.22it/s]"
     ]
    },
    {
     "name": "stdout",
     "output_type": "stream",
     "text": [
      "outer_poly [(371, 147), (904, 146), (885, 647), (394, 656)]\n",
      "4291\n",
      "outer_poly [(704, 313), (969, 309), (978, 580), (704, 578)]\n",
      "4292\n",
      "outer_poly [(606, 323), (885, 323), (887, 611), (603, 603)]\n",
      "4293\n",
      "outer_poly [(295, 278), (701, 360), (696, 791), (256, 805)]\n",
      "4294\n",
      "outer_poly [(567, 315), (714, 332), (714, 569), (563, 592)]\n",
      "4295\n",
      "outer_poly [(457, 249), (796, 280), (793, 619), (456, 633)]\n"
     ]
    },
    {
     "name": "stderr",
     "output_type": "stream",
     "text": [
      " 87%|████████▋ | 4300/4943 [02:44<00:21, 29.35it/s]"
     ]
    },
    {
     "name": "stdout",
     "output_type": "stream",
     "text": [
      "4296\n",
      "outer_poly [(446, 238), (823, 265), (816, 644), (441, 662)]\n",
      "4297\n",
      "outer_poly [(572, 283), (821, 247), (815, 626), (567, 592)]\n",
      "4298\n",
      "outer_poly [(336, 148), (1088, 170), (1115, 864), (320, 863)]\n",
      "4299\n",
      "outer_poly [(434, 416), (641, 396), (647, 684), (436, 677)]\n",
      "4300\n",
      "outer_poly [(458, 338), (745, 339), (745, 629), (455, 623)]\n",
      "4301\n",
      "outer_poly [(572, 256), (788, 95), (803, 788), (578, 694)]\n"
     ]
    },
    {
     "name": "stderr",
     "output_type": "stream",
     "text": [
      " 87%|████████▋ | 4307/4943 [02:44<00:21, 29.54it/s]"
     ]
    },
    {
     "name": "stdout",
     "output_type": "stream",
     "text": [
      "4302\n",
      "outer_poly [(519, 262), (756, 343), (759, 696), (515, 730)]\n",
      "4303\n",
      "outer_poly [(387, 309), (778, 259), (787, 722), (371, 714)]\n",
      "4304\n",
      "outer_poly [(397, 75), (796, 233), (816, 712), (380, 745)]\n",
      "4305\n",
      "outer_poly [(394, 176), (871, 243), (899, 721), (387, 745)]\n",
      "4306\n",
      "outer_poly [(484, 301), (626, 400), (622, 710), (472, 719)]\n",
      "4307\n",
      "outer_poly [(485, 295), (628, 399), (622, 710), (471, 719)]\n"
     ]
    },
    {
     "name": "stderr",
     "output_type": "stream",
     "text": [
      " 87%|████████▋ | 4313/4943 [02:44<00:21, 28.96it/s]"
     ]
    },
    {
     "name": "stdout",
     "output_type": "stream",
     "text": [
      "4308\n",
      "outer_poly [(336, 160), (799, 173), (813, 628), (330, 634)]\n",
      "4309\n",
      "outer_poly [(544, 231), (910, 233), (905, 590), (555, 616)]\n",
      "4310\n",
      "outer_poly [(520, 490), (697, 487), (701, 666), (520, 670)]\n",
      "4311\n",
      "outer_poly [(615, 451), (751, 453), (754, 597), (618, 604)]\n",
      "4312\n",
      "outer_poly [(541, 339), (691, 338), (692, 489), (544, 489)]\n",
      "4313\n",
      "outer_poly [(541, 340), (725, 340), (726, 525), (541, 526)]\n"
     ]
    },
    {
     "name": "stderr",
     "output_type": "stream",
     "text": [
      " 87%|████████▋ | 4319/4943 [02:44<00:21, 29.09it/s]"
     ]
    },
    {
     "name": "stdout",
     "output_type": "stream",
     "text": [
      "4314\n",
      "outer_poly [(546, 284), (932, 257), (940, 666), (550, 659)]\n",
      "4315\n",
      "outer_poly [(543, 245), (911, 134), (927, 760), (547, 691)]\n",
      "4316\n",
      "outer_poly [(540, 233), (744, 261), (744, 530), (544, 561)]\n",
      "4317\n",
      "outer_poly [(630, 261), (893, 261), (892, 523), (631, 523)]\n",
      "4318\n",
      "outer_poly [(450, 257), (759, 248), (761, 576), (450, 569)]\n",
      "4319\n",
      "outer_poly [(542, 89), (875, 235), (876, 721), (530, 814)]\n"
     ]
    },
    {
     "name": "stderr",
     "output_type": "stream",
     "text": [
      " 87%|████████▋ | 4325/4943 [02:45<00:22, 27.61it/s]"
     ]
    },
    {
     "name": "stdout",
     "output_type": "stream",
     "text": [
      "4320\n",
      "outer_poly [(449, 338), (771, 374), (773, 709), (442, 732)]\n",
      "4321\n",
      "outer_poly [(499, 324), (864, 334), (871, 703), (496, 708)]\n",
      "4322\n",
      "outer_poly [(449, 338), (690, 351), (691, 597), (439, 599)]\n",
      "4323\n",
      "outer_poly [(519, 340), (768, 340), (769, 592), (517, 590)]\n",
      "4324\n",
      "outer_poly [(453, 332), (745, 336), (742, 625), (447, 629)]\n",
      "4325\n",
      "outer_poly [(389, 213), (705, 104), (711, 666), (394, 621)]\n"
     ]
    },
    {
     "name": "stderr",
     "output_type": "stream",
     "text": [
      "\r",
      " 88%|████████▊ | 4328/4943 [02:45<00:23, 25.70it/s]"
     ]
    },
    {
     "name": "stdout",
     "output_type": "stream",
     "text": [
      "4326\n",
      "outer_poly [(442, 353), (718, 371), (718, 652), (436, 660)]\n",
      "4327\n",
      "outer_poly [(271, 106), (907, 153), (931, 781), (238, 801)]\n",
      "4328\n",
      "outer_poly [(566, 435), (697, 406), (704, 634), (565, 631)]\n",
      "4329\n",
      "outer_poly [(430, 293), (716, 166), (733, 738), (430, 700)]\n",
      "4330\n",
      "outer_poly [(559, 269), (742, 371), (751, 704), (557, 718)]\n"
     ]
    },
    {
     "name": "stderr",
     "output_type": "stream",
     "text": [
      " 88%|████████▊ | 4334/4943 [02:45<00:24, 24.46it/s]"
     ]
    },
    {
     "name": "stdout",
     "output_type": "stream",
     "text": [
      "4331\n",
      "outer_poly [(497, 345), (657, 246), (667, 711), (501, 682)]\n",
      "4332\n",
      "outer_poly [(593, 230), (718, 186), (712, 446), (595, 441)]\n",
      "4333\n",
      "outer_poly [(442, 113), (921, 246), (954, 768), (417, 799)]\n",
      "4334\n",
      "outer_poly [(472, 297), (832, 314), (839, 676), (470, 679)]\n",
      "4335\n",
      "outer_poly [(520, 378), (815, 380), (821, 676), (517, 676)]\n",
      "4336\n"
     ]
    },
    {
     "name": "stderr",
     "output_type": "stream",
     "text": [
      " 88%|████████▊ | 4340/4943 [02:45<00:24, 24.88it/s]"
     ]
    },
    {
     "name": "stdout",
     "output_type": "stream",
     "text": [
      "outer_poly [(490, 371), (673, 329), (678, 632), (494, 621)]\n",
      "4337\n",
      "outer_poly [(527, 359), (721, 447), (725, 769), (513, 775)]\n",
      "4338\n",
      "outer_poly [(567, 313), (784, 366), (787, 643), (561, 651)]\n",
      "4339\n",
      "outer_poly [(314, 74), (992, 83), (1036, 784), (256, 784)]\n",
      "4340\n",
      "outer_poly [(375, 330), (589, 237), (587, 745), (369, 695)]\n",
      "4341\n"
     ]
    },
    {
     "name": "stderr",
     "output_type": "stream",
     "text": [
      "\r",
      " 88%|████████▊ | 4343/4943 [02:45<00:25, 23.89it/s]"
     ]
    },
    {
     "name": "stdout",
     "output_type": "stream",
     "text": [
      "outer_poly [(393, 213), (932, 200), (960, 770), (362, 764)]\n",
      "4342\n",
      "outer_poly [(416, 372), (638, 368), (636, 616), (410, 607)]\n",
      "4343\n",
      "outer_poly [(593, 454), (756, 421), (764, 678), (597, 676)]\n",
      "4344\n",
      "outer_poly [(572, 465), (731, 428), (743, 683), (578, 679)]\n",
      "4345\n",
      "outer_poly [(231, 117), (861, 108), (862, 771), (211, 750)]\n"
     ]
    },
    {
     "name": "stderr",
     "output_type": "stream",
     "text": [
      " 88%|████████▊ | 4349/4943 [02:46<00:25, 23.45it/s]"
     ]
    },
    {
     "name": "stdout",
     "output_type": "stream",
     "text": [
      "4346\n",
      "outer_poly [(574, 382), (736, 255), (747, 746), (571, 731)]\n",
      "4347\n",
      "outer_poly [(590, 300), (726, 281), (728, 499), (591, 489)]\n",
      "4348\n",
      "outer_poly [(409, 414), (663, 406), (667, 671), (401, 675)]\n",
      "4349\n",
      "outer_poly [(411, 257), (739, 322), (731, 674), (390, 690)]\n",
      "4350\n",
      "outer_poly [(213, 206), (676, 218), (674, 663), (216, 672)]\n",
      "4351\n"
     ]
    },
    {
     "name": "stderr",
     "output_type": "stream",
     "text": [
      " 88%|████████▊ | 4355/4943 [02:46<00:23, 24.71it/s]"
     ]
    },
    {
     "name": "stdout",
     "output_type": "stream",
     "text": [
      "outer_poly [(446, 316), (730, 308), (731, 599), (444, 596)]\n",
      "4352\n",
      "outer_poly [(673, 332), (947, 331), (949, 608), (670, 604)]\n",
      "4353\n",
      "outer_poly [(398, 146), (797, 104), (802, 559), (397, 547)]\n",
      "4354\n",
      "outer_poly [(635, 336), (945, 295), (950, 669), (630, 652)]\n",
      "4355\n",
      "outer_poly [(644, 329), (939, 353), (942, 662), (637, 665)]\n",
      "4356\n",
      "outer_poly [(581, 310), (799, 323), (795, 564), (578, 573)]\n"
     ]
    },
    {
     "name": "stderr",
     "output_type": "stream",
     "text": [
      " 88%|████████▊ | 4361/4943 [02:46<00:23, 25.21it/s]"
     ]
    },
    {
     "name": "stdout",
     "output_type": "stream",
     "text": [
      "4357\n",
      "outer_poly [(459, 343), (764, 369), (764, 677), (449, 685)]\n",
      "4358\n",
      "outer_poly [(482, 371), (726, 376), (725, 617), (486, 617)]\n",
      "4359\n",
      "outer_poly [(525, 384), (741, 341), (744, 680), (526, 662)]\n",
      "4360\n",
      "outer_poly [(544, 263), (857, 110), (871, 777), (544, 708)]\n",
      "4361\n",
      "outer_poly [(728, 346), (807, 277), (811, 630), (732, 612)]\n",
      "4362\n"
     ]
    },
    {
     "name": "stderr",
     "output_type": "stream",
     "text": [
      " 88%|████████▊ | 4367/4943 [02:46<00:22, 26.08it/s]"
     ]
    },
    {
     "name": "stdout",
     "output_type": "stream",
     "text": [
      "outer_poly [(564, 283), (772, 178), (781, 660), (565, 630)]\n",
      "4363\n",
      "outer_poly [(653, 293), (945, 298), (955, 599), (658, 602)]\n",
      "4364\n",
      "outer_poly [(497, 110), (670, 309), (677, 745), (490, 787)]\n",
      "4365\n",
      "outer_poly [(537, 384), (666, 331), (674, 632), (540, 625)]\n",
      "4366\n",
      "outer_poly [(578, 368), (674, 290), (678, 645), (585, 635)]\n",
      "4367\n",
      "outer_poly [(400, 53), (913, 184), (939, 715), (376, 744)]\n"
     ]
    },
    {
     "name": "stderr",
     "output_type": "stream",
     "text": [
      " 88%|████████▊ | 4373/4943 [02:47<00:21, 26.70it/s]"
     ]
    },
    {
     "name": "stdout",
     "output_type": "stream",
     "text": [
      "4368\n",
      "outer_poly [(403, 416), (671, 414), (676, 680), (401, 683)]\n",
      "4369\n",
      "outer_poly [(518, 718), (837, 712), (817, 380), (513, 410)]\n",
      "4370\n",
      "outer_poly [(355, 48), (823, 154), (842, 635), (333, 648)]\n",
      "4371\n",
      "outer_poly [(509, 361), (717, 300), (735, 642), (515, 643)]\n",
      "4372\n",
      "outer_poly [(632, 432), (811, 433), (813, 624), (634, 630)]\n",
      "4373\n",
      "outer_poly [(640, 376), (854, 374), (859, 593), (643, 594)]\n"
     ]
    },
    {
     "name": "stderr",
     "output_type": "stream",
     "text": [
      " 89%|████████▊ | 4379/4943 [02:47<00:21, 26.48it/s]"
     ]
    },
    {
     "name": "stdout",
     "output_type": "stream",
     "text": [
      "4374\n",
      "outer_poly [(547, 347), (696, 349), (696, 499), (544, 500)]\n",
      "4375\n",
      "outer_poly [(383, 242), (753, 265), (750, 630), (382, 641)]\n",
      "4376\n",
      "outer_poly [(356, 302), (615, 301), (618, 558), (355, 563)]\n",
      "4377\n",
      "outer_poly [(418, 256), (805, 268), (806, 648), (417, 655)]\n",
      "4378\n",
      "outer_poly [(346, 193), (690, 194), (693, 533), (352, 534)]\n",
      "4379\n"
     ]
    },
    {
     "name": "stderr",
     "output_type": "stream",
     "text": [
      "\r",
      " 89%|████████▊ | 4382/4943 [02:47<00:21, 26.52it/s]"
     ]
    },
    {
     "name": "stdout",
     "output_type": "stream",
     "text": [
      "outer_poly [(604, 326), (706, 302), (709, 533), (606, 515)]\n",
      "4380\n",
      "outer_poly [(514, 347), (825, 357), (832, 676), (513, 683)]\n",
      "4381\n",
      "outer_poly [(586, 373), (828, 376), (829, 628), (582, 630)]\n",
      "4382\n",
      "outer_poly [(475, 350), (757, 329), (761, 646), (477, 636)]\n",
      "4383\n",
      "outer_poly [(441, 297), (644, 243), (644, 633), (440, 605)]\n",
      "4384\n",
      "outer_poly [(380, 174), (789, 237), (795, 662), (370, 694)]\n"
     ]
    },
    {
     "name": "stderr",
     "output_type": "stream",
     "text": [
      " 89%|████████▉ | 4388/4943 [02:47<00:21, 26.05it/s]"
     ]
    },
    {
     "name": "stdout",
     "output_type": "stream",
     "text": [
      "4385\n",
      "outer_poly [(377, 164), (800, 233), (803, 666), (369, 697)]\n",
      "4386\n",
      "outer_poly [(290, 69), (793, 169), (794, 676), (276, 721)]\n",
      "4387\n",
      "outer_poly [(376, 293), (569, 255), (568, 579), (376, 561)]\n",
      "4388\n",
      "outer_poly [(487, 297), (677, 367), (674, 681), (482, 708)]\n",
      "4389\n",
      "outer_poly [(440, 205), (897, 135), (910, 687), (439, 663)]\n",
      "4390\n",
      "outer_poly [(546, 386), (646, 311), (657, 693), (549, 674)]\n"
     ]
    },
    {
     "name": "stderr",
     "output_type": "stream",
     "text": [
      " 89%|████████▉ | 4394/4943 [02:47<00:20, 26.21it/s]"
     ]
    },
    {
     "name": "stdout",
     "output_type": "stream",
     "text": [
      "4391\n",
      "outer_poly [(323, 41), (1004, 92), (1089, 780), (275, 812)]\n",
      "4392\n",
      "outer_poly [(360, 131), (878, 197), (898, 710), (342, 728)]\n",
      "4393\n",
      "outer_poly [(601, 303), (783, 276), (783, 509), (601, 507)]\n",
      "4394\n",
      "outer_poly [(496, 287), (751, 235), (757, 586), (494, 577)]\n",
      "4395\n",
      "outer_poly [(582, 307), (759, 269), (760, 546), (580, 539)]\n",
      "4396\n",
      "outer_poly [(415, 32), (1010, 154), (1050, 766), (400, 824)]\n"
     ]
    },
    {
     "name": "stderr",
     "output_type": "stream",
     "text": [
      " 89%|████████▉ | 4400/4943 [02:48<00:20, 26.03it/s]"
     ]
    },
    {
     "name": "stdout",
     "output_type": "stream",
     "text": [
      "4397\n",
      "outer_poly [(583, 221), (740, 287), (736, 589), (576, 614)]\n",
      "4398\n",
      "outer_poly [(483, 192), (864, 240), (863, 636), (474, 658)]\n",
      "4399\n",
      "outer_poly [(577, 427), (738, 488), (738, 755), (572, 763)]\n",
      "4400\n",
      "outer_poly [(524, 287), (801, 390), (807, 766), (509, 784)]\n",
      "4401\n",
      "outer_poly [(467, 104), (913, 209), (932, 686), (453, 697)]\n"
     ]
    },
    {
     "name": "stderr",
     "output_type": "stream",
     "text": [
      " 89%|████████▉ | 4406/4943 [02:48<00:20, 25.71it/s]"
     ]
    },
    {
     "name": "stdout",
     "output_type": "stream",
     "text": [
      "4402\n",
      "outer_poly [(425, 82), (1035, 145), (1079, 763), (389, 768)]\n",
      "4403\n",
      "outer_poly [(531, 397), (829, 408), (838, 707), (528, 705)]\n",
      "4404\n",
      "outer_poly [(383, 192), (951, 168), (989, 766), (355, 764)]\n",
      "4405\n",
      "outer_poly [(634, 299), (796, 275), (798, 520), (636, 508)]\n",
      "4406\n",
      "outer_poly [(495, 335), (685, 397), (685, 675), (486, 677)]\n",
      "4407\n",
      "outer_poly [(339, 256), (634, 96), (648, 679), (336, 675)]\n"
     ]
    },
    {
     "name": "stderr",
     "output_type": "stream",
     "text": [
      " 89%|████████▉ | 4412/4943 [02:48<00:20, 25.86it/s]"
     ]
    },
    {
     "name": "stdout",
     "output_type": "stream",
     "text": [
      "4408\n",
      "outer_poly [(782, 261), (913, 304), (915, 576), (779, 602)]\n",
      "4409\n",
      "outer_poly [(583, 354), (701, 395), (706, 650), (583, 676)]\n",
      "4410\n",
      "outer_poly [(429, 309), (728, 308), (731, 610), (425, 610)]\n",
      "4411\n",
      "outer_poly [(676, 384), (830, 382), (840, 540), (680, 544)]\n",
      "4412\n",
      "outer_poly [(517, 231), (851, 230), (856, 566), (519, 566)]\n",
      "4413\n"
     ]
    },
    {
     "name": "stderr",
     "output_type": "stream",
     "text": [
      " 89%|████████▉ | 4418/4943 [02:48<00:20, 25.08it/s]"
     ]
    },
    {
     "name": "stdout",
     "output_type": "stream",
     "text": [
      "outer_poly [(474, 273), (785, 270), (790, 589), (471, 587)]\n",
      "4414\n",
      "outer_poly [(585, 309), (842, 307), (838, 561), (581, 562)]\n",
      "4415\n",
      "outer_poly [(505, 226), (796, 314), (796, 690), (493, 713)]\n",
      "4416\n",
      "outer_poly [(586, 318), (685, 281), (686, 583), (589, 553)]\n",
      "4417\n",
      "outer_poly [(325, 412), (573, 431), (567, 691), (321, 705)]\n",
      "4418\n"
     ]
    },
    {
     "name": "stderr",
     "output_type": "stream",
     "text": [
      "\r",
      " 89%|████████▉ | 4421/4943 [02:48<00:20, 24.86it/s]"
     ]
    },
    {
     "name": "stdout",
     "output_type": "stream",
     "text": [
      "outer_poly [(590, 202), (773, 293), (773, 657), (585, 709)]\n",
      "4419\n",
      "outer_poly [(314, 38), (959, 48), (971, 698), (296, 699)]\n",
      "4420\n",
      "outer_poly [(351, 282), (806, 195), (826, 772), (326, 760)]\n",
      "4421\n",
      "outer_poly [(589, 474), (677, 443), (682, 640), (591, 639)]\n",
      "4422\n",
      "outer_poly [(532, 322), (749, 389), (756, 698), (524, 701)]\n",
      "4423\n"
     ]
    },
    {
     "name": "stderr",
     "output_type": "stream",
     "text": [
      " 90%|████████▉ | 4427/4943 [02:49<00:20, 24.89it/s]"
     ]
    },
    {
     "name": "stdout",
     "output_type": "stream",
     "text": [
      "outer_poly [(418, 278), (620, 62), (676, 716), (442, 719)]\n",
      "4424\n",
      "outer_poly [(524, 310), (685, 166), (723, 664), (542, 662)]\n",
      "4425\n",
      "outer_poly [(301, 166), (722, 220), (724, 647), (297, 684)]\n",
      "4426\n",
      "outer_poly [(586, 281), (808, 333), (809, 664), (587, 709)]\n",
      "4427\n",
      "outer_poly [(418, 240), (775, 210), (776, 625), (422, 604)]\n",
      "4428\n",
      "outer_poly [(561, 396), (765, 406), (764, 625), (556, 632)]\n"
     ]
    },
    {
     "name": "stderr",
     "output_type": "stream",
     "text": [
      " 90%|████████▉ | 4433/4943 [02:49<00:19, 26.09it/s]"
     ]
    },
    {
     "name": "stdout",
     "output_type": "stream",
     "text": [
      "4429\n",
      "outer_poly [(553, 344), (796, 333), (797, 591), (558, 589)]\n",
      "4430\n",
      "outer_poly [(575, 439), (640, 412), (644, 651), (574, 631)]\n",
      "4431\n",
      "outer_poly [(472, 336), (707, 322), (711, 585), (474, 579)]\n",
      "4432\n",
      "outer_poly [(508, 356), (673, 329), (677, 577), (508, 566)]\n",
      "4433\n",
      "outer_poly [(396, 231), (610, 329), (606, 690), (384, 724)]\n",
      "4434\n",
      "outer_poly [(558, 417), (798, 431), (801, 687), (558, 691)]\n"
     ]
    },
    {
     "name": "stderr",
     "output_type": "stream",
     "text": [
      " 90%|████████▉ | 4439/4943 [02:49<00:18, 26.79it/s]"
     ]
    },
    {
     "name": "stdout",
     "output_type": "stream",
     "text": [
      "4435\n",
      "outer_poly [(532, 388), (786, 408), (786, 676), (529, 685)]\n",
      "4436\n",
      "outer_poly [(520, 162), (833, 239), (837, 595), (515, 600)]\n",
      "4437\n",
      "outer_poly [(606, 282), (822, 108), (852, 777), (610, 716)]\n",
      "4438\n",
      "outer_poly [(466, 169), (877, 222), (895, 648), (453, 653)]\n",
      "4439\n",
      "outer_poly [(575, 330), (709, 400), (706, 693), (565, 706)]\n",
      "4440\n",
      "outer_poly [(377, 191), (837, 243), (848, 705), (362, 715)]\n"
     ]
    },
    {
     "name": "stderr",
     "output_type": "stream",
     "text": [
      " 90%|████████▉ | 4445/4943 [02:49<00:18, 26.34it/s]"
     ]
    },
    {
     "name": "stdout",
     "output_type": "stream",
     "text": [
      "4441\n",
      "outer_poly [(516, 397), (781, 397), (785, 665), (519, 661)]\n",
      "4442\n",
      "outer_poly [(284, 110), (1007, 30), (1078, 838), (254, 838)]\n",
      "4443\n",
      "outer_poly [(520, 312), (774, 288), (778, 580), (524, 576)]\n",
      "4444\n",
      "outer_poly [(600, 414), (756, 366), (760, 658), (600, 650)]\n",
      "4445\n",
      "outer_poly [(578, 386), (728, 324), (730, 678), (574, 664)]\n",
      "4446\n"
     ]
    },
    {
     "name": "stderr",
     "output_type": "stream",
     "text": [
      " 90%|█████████ | 4451/4943 [02:50<00:18, 26.45it/s]"
     ]
    },
    {
     "name": "stdout",
     "output_type": "stream",
     "text": [
      "outer_poly [(490, 186), (828, 332), (838, 780), (466, 800)]\n",
      "4447\n",
      "outer_poly [(498, 428), (744, 448), (748, 702), (494, 700)]\n",
      "4448\n",
      "outer_poly [(592, 418), (744, 390), (746, 644), (596, 632)]\n",
      "4449\n",
      "outer_poly [(618, 430), (712, 404), (714, 622), (622, 616)]\n",
      "4450\n",
      "outer_poly [(412, 258), (880, 286), (892, 756), (384, 752)]\n",
      "4451\n",
      "outer_poly [(580, 432), (652, 398), (656, 638), (580, 630)]\n"
     ]
    },
    {
     "name": "stderr",
     "output_type": "stream",
     "text": [
      " 90%|█████████ | 4457/4943 [02:50<00:18, 25.95it/s]"
     ]
    },
    {
     "name": "stdout",
     "output_type": "stream",
     "text": [
      "4452\n",
      "outer_poly [(526, 448), (808, 448), (806, 732), (522, 736)]\n",
      "4453\n",
      "outer_poly [(626, 272), (820, 266), (824, 520), (622, 518)]\n",
      "4454\n",
      "outer_poly [(364, 94), (976, 4), (980, 744), (374, 678)]\n",
      "4455\n",
      "outer_poly [(650, 486), (712, 428), (722, 730), (656, 724)]\n",
      "4456\n",
      "outer_poly [(494, 296), (756, 262), (750, 650), (494, 608)]\n",
      "4457\n"
     ]
    },
    {
     "name": "stderr",
     "output_type": "stream",
     "text": [
      "\r",
      " 90%|█████████ | 4460/4943 [02:50<00:18, 26.21it/s]"
     ]
    },
    {
     "name": "stdout",
     "output_type": "stream",
     "text": [
      "outer_poly [(534, 204), (956, 240), (952, 672), (532, 700)]\n",
      "4458\n",
      "outer_poly [(458, 420), (632, 384), (644, 644), (456, 650)]\n",
      "4459\n",
      "outer_poly [(614, 232), (782, 302), (776, 650), (606, 712)]\n",
      "4460\n",
      "outer_poly [(614, 520), (700, 470), (706, 748), (616, 744)]\n",
      "4461\n",
      "outer_poly [(608, 302), (870, 326), (870, 624), (604, 634)]\n",
      "4462\n",
      "outer_poly [(858, 584), (858, 330), (1036, 346), (1042, 578)]\n"
     ]
    },
    {
     "name": "stderr",
     "output_type": "stream",
     "text": [
      " 90%|█████████ | 4466/4943 [02:50<00:18, 26.25it/s]"
     ]
    },
    {
     "name": "stdout",
     "output_type": "stream",
     "text": [
      "4463\n",
      "outer_poly [(281, 169), (768, 215), (777, 702), (261, 724)]\n",
      "4464\n",
      "outer_poly [(480, 334), (643, 369), (633, 591), (468, 594)]\n",
      "4465\n",
      "outer_poly [(534, 356), (810, 360), (811, 641), (530, 637)]\n",
      "4466\n",
      "outer_poly [(549, 333), (830, 333), (827, 615), (545, 614)]\n",
      "4467\n",
      "outer_poly [(397, 247), (854, 261), (856, 720), (387, 714)]\n",
      "4468\n",
      "outer_poly [(381, 282), (684, 297), (680, 596), (375, 594)]\n"
     ]
    },
    {
     "name": "stderr",
     "output_type": "stream",
     "text": [
      " 90%|█████████ | 4472/4943 [02:50<00:18, 25.11it/s]"
     ]
    },
    {
     "name": "stdout",
     "output_type": "stream",
     "text": [
      "4469\n",
      "outer_poly [(344, 264), (817, 239), (842, 747), (322, 748)]\n",
      "4470\n",
      "outer_poly [(383, 194), (802, 256), (822, 684), (367, 694)]\n",
      "4471\n",
      "outer_poly [(769, 377), (941, 367), (946, 548), (771, 549)]\n",
      "4472\n",
      "outer_poly [(428, 208), (827, 208), (829, 604), (428, 607)]\n",
      "4473\n",
      "outer_poly [(508, 239), (769, 236), (764, 496), (511, 497)]\n"
     ]
    },
    {
     "name": "stderr",
     "output_type": "stream",
     "text": [
      " 91%|█████████ | 4478/4943 [02:51<00:18, 25.41it/s]"
     ]
    },
    {
     "name": "stdout",
     "output_type": "stream",
     "text": [
      "4474\n",
      "outer_poly [(321, 269), (718, 285), (715, 678), (314, 686)]\n",
      "4475\n",
      "outer_poly [(389, 347), (760, 311), (757, 761), (380, 734)]\n",
      "4476\n",
      "outer_poly [(446, 317), (726, 336), (724, 620), (441, 635)]\n",
      "4477\n",
      "outer_poly [(592, 435), (723, 408), (726, 648), (591, 639)]\n",
      "4478\n",
      "outer_poly [(352, 1), (323, 747), (676, 677), (686, 201), (384, 1)]\n",
      "4479\n",
      "outer_poly [(358, 149), (872, 211), (901, 726), (344, 753)]\n"
     ]
    },
    {
     "name": "stderr",
     "output_type": "stream",
     "text": [
      " 91%|█████████ | 4484/4943 [02:51<00:18, 24.39it/s]"
     ]
    },
    {
     "name": "stdout",
     "output_type": "stream",
     "text": [
      "4480\n",
      "outer_poly [(483, 376), (755, 398), (761, 686), (478, 689)]\n",
      "4481\n",
      "outer_poly [(454, 426), (728, 398), (734, 716), (449, 714)]\n",
      "4482\n",
      "outer_poly [(476, 244), (856, 107), (885, 701), (472, 685)]\n",
      "4483\n",
      "outer_poly [(511, 297), (842, 189), (864, 701), (505, 689)]\n",
      "4484\n",
      "outer_poly [(541, 450), (682, 420), (686, 657), (541, 657)]\n"
     ]
    },
    {
     "name": "stderr",
     "output_type": "stream",
     "text": [
      "\r",
      " 91%|█████████ | 4487/4943 [02:51<00:19, 23.45it/s]"
     ]
    },
    {
     "name": "stdout",
     "output_type": "stream",
     "text": [
      "4485\n",
      "outer_poly [(335, 139), (870, 99), (899, 665), (319, 672)]\n",
      "4486\n",
      "outer_poly [(453, 211), (818, 38), (858, 668), (455, 670)]\n",
      "4487\n",
      "outer_poly [(267, 339), (516, 348), (519, 594), (269, 598)]\n",
      "4488\n",
      "outer_poly [(330, 236), (706, 244), (707, 614), (330, 616)]\n",
      "4489\n",
      "outer_poly [(434, 303), (701, 303), (699, 574), (430, 577)]\n"
     ]
    },
    {
     "name": "stderr",
     "output_type": "stream",
     "text": [
      " 91%|█████████ | 4493/4943 [02:51<00:18, 24.03it/s]"
     ]
    },
    {
     "name": "stdout",
     "output_type": "stream",
     "text": [
      "4490\n",
      "outer_poly [(430, 245), (829, 256), (831, 651), (431, 657)]\n",
      "4491\n",
      "outer_poly [(451, 265), (850, 219), (854, 698), (451, 670)]\n",
      "4492\n",
      "outer_poly [(549, 247), (837, 264), (833, 557), (556, 563)]\n",
      "4493\n",
      "outer_poly [(336, 88), (1004, 87), (1005, 747), (347, 753)]\n",
      "4494\n",
      "outer_poly [(625, 319), (771, 296), (772, 537), (629, 525)]\n"
     ]
    },
    {
     "name": "stderr",
     "output_type": "stream",
     "text": [
      " 91%|█████████ | 4499/4943 [02:52<00:18, 23.90it/s]"
     ]
    },
    {
     "name": "stdout",
     "output_type": "stream",
     "text": [
      "4495\n",
      "outer_poly [(321, 186), (830, 255), (838, 769), (306, 818)]\n",
      "4496\n",
      "outer_poly [(496, 412), (726, 420), (726, 668), (492, 682)]\n",
      "4497\n",
      "outer_poly [(454, 338), (764, 320), (760, 660), (458, 654)]\n",
      "4498\n",
      "outer_poly [(524, 398), (600, 336), (612, 702), (526, 672)]\n",
      "4499\n",
      "outer_poly [(544, 240), (702, 314), (700, 616), (544, 644)]\n"
     ]
    },
    {
     "name": "stderr",
     "output_type": "stream",
     "text": [
      "\r",
      " 91%|█████████ | 4502/4943 [02:52<00:18, 23.73it/s]"
     ]
    },
    {
     "name": "stdout",
     "output_type": "stream",
     "text": [
      "4500\n",
      "outer_poly [(428, 110), (690, 240), (676, 650), (416, 702)]\n",
      "4501\n",
      "outer_poly [(404, 214), (872, 234), (872, 696), (388, 698)]\n",
      "4502\n",
      "outer_poly [(506, 334), (762, 338), (752, 586), (508, 594)]\n",
      "4503\n",
      "outer_poly [(354, 236), (736, 212), (738, 648), (356, 626)]\n",
      "4504\n",
      "outer_poly [(548, 324), (696, 284), (694, 574), (548, 560)]\n"
     ]
    },
    {
     "name": "stderr",
     "output_type": "stream",
     "text": [
      " 91%|█████████ | 4508/4943 [02:52<00:18, 23.62it/s]"
     ]
    },
    {
     "name": "stdout",
     "output_type": "stream",
     "text": [
      "4505\n",
      "outer_poly [(448, 320), (548, 280), (552, 572), (452, 558)]\n",
      "4506\n",
      "outer_poly [(524, 166), (732, 284), (730, 690), (516, 732)]\n",
      "4507\n",
      "outer_poly [(548, 426), (806, 422), (808, 684), (550, 688)]\n",
      "4508\n",
      "outer_poly [(556, 428), (696, 410), (700, 632), (564, 626)]\n",
      "4509\n",
      "outer_poly [(503, 331), (685, 212), (697, 735), (508, 694)]\n"
     ]
    },
    {
     "name": "stderr",
     "output_type": "stream",
     "text": [
      " 91%|█████████▏| 4514/4943 [02:52<00:18, 23.52it/s]"
     ]
    },
    {
     "name": "stdout",
     "output_type": "stream",
     "text": [
      "4510\n",
      "outer_poly [(344, 21), (640, 231), (635, 699), (309, 749)]\n",
      "4511\n",
      "outer_poly [(532, 288), (755, 359), (755, 670), (525, 689)]\n",
      "4512\n",
      "outer_poly [(475, 278), (797, 174), (808, 661), (468, 657)]\n",
      "4513\n",
      "outer_poly [(383, 173), (864, 232), (871, 713), (360, 719)]\n",
      "4514\n",
      "outer_poly [(582, 244), (781, 277), (777, 513), (575, 516)]\n"
     ]
    },
    {
     "name": "stderr",
     "output_type": "stream",
     "text": [
      "\r",
      " 91%|█████████▏| 4517/4943 [02:52<00:18, 23.54it/s]"
     ]
    },
    {
     "name": "stdout",
     "output_type": "stream",
     "text": [
      "4515\n",
      "outer_poly [(515, 301), (720, 259), (718, 567), (517, 562)]\n",
      "4516\n",
      "outer_poly [(569, 284), (735, 322), (738, 561), (567, 567)]\n",
      "4517\n",
      "outer_poly [(398, 362), (710, 333), (716, 694), (396, 686)]\n",
      "4518\n",
      "outer_poly [(558, 323), (784, 303), (792, 550), (565, 548)]\n",
      "4519\n",
      "outer_poly [(590, 340), (684, 292), (685, 569), (595, 556)]\n"
     ]
    },
    {
     "name": "stderr",
     "output_type": "stream",
     "text": [
      " 92%|█████████▏| 4523/4943 [02:53<00:17, 23.54it/s]"
     ]
    },
    {
     "name": "stdout",
     "output_type": "stream",
     "text": [
      "4520\n",
      "outer_poly [(579, 343), (843, 354), (842, 631), (578, 631)]\n",
      "4521\n",
      "outer_poly [(437, 86), (814, 228), (811, 678), (410, 699)]\n",
      "4522\n",
      "outer_poly [(512, 406), (772, 372), (780, 734), (511, 707)]\n",
      "4523\n",
      "outer_poly [(603, 274), (863, 259), (866, 549), (606, 538)]\n",
      "4524\n",
      "outer_poly [(520, 276), (673, 259), (680, 461), (532, 458)]\n"
     ]
    },
    {
     "name": "stderr",
     "output_type": "stream",
     "text": [
      " 92%|█████████▏| 4529/4943 [02:53<00:18, 22.96it/s]"
     ]
    },
    {
     "name": "stdout",
     "output_type": "stream",
     "text": [
      "4525\n",
      "outer_poly [(371, 112), (851, 210), (846, 713), (362, 788)]\n",
      "4526\n",
      "outer_poly [(592, 401), (810, 342), (825, 677), (592, 677)]\n",
      "4527\n",
      "outer_poly [(523, 425), (706, 385), (714, 657), (528, 661)]\n",
      "4528\n",
      "outer_poly [(167, 6), (170, 864), (628, 864), (979, 764), (982, 24), (909, 0)]\n",
      "4529\n",
      "outer_poly [(358, 50), (910, 84), (912, 612), (364, 638)]\n"
     ]
    },
    {
     "name": "stderr",
     "output_type": "stream",
     "text": [
      "\r",
      " 92%|█████████▏| 4532/4943 [02:53<00:18, 22.55it/s]"
     ]
    },
    {
     "name": "stdout",
     "output_type": "stream",
     "text": [
      "4530\n",
      "outer_poly [(676, 332), (952, 326), (948, 602), (674, 602)]\n",
      "4531\n",
      "outer_poly [(744, 378), (918, 364), (920, 546), (748, 550)]\n",
      "4532\n",
      "outer_poly [(510, 206), (768, 228), (758, 504), (502, 502)]\n",
      "4533\n",
      "outer_poly [(470, 194), (854, 196), (844, 576), (472, 572)]\n",
      "4534\n",
      "outer_poly [(500, 302), (744, 288), (748, 576), (500, 568)]\n"
     ]
    },
    {
     "name": "stderr",
     "output_type": "stream",
     "text": [
      " 92%|█████████▏| 4538/4943 [02:53<00:18, 22.14it/s]"
     ]
    },
    {
     "name": "stdout",
     "output_type": "stream",
     "text": [
      "4535\n",
      "outer_poly [(540, 324), (818, 394), (820, 784), (538, 844)]\n",
      "4536\n",
      "outer_poly [(530, 264), (810, 118), (822, 768), (528, 694)]\n",
      "4537\n",
      "outer_poly [(468, 248), (848, 202), (854, 644), (470, 634)]\n",
      "4538\n",
      "outer_poly [(404, 334), (674, 264), (682, 692), (400, 682)]\n",
      "4539\n",
      "outer_poly [(426, 268), (822, 312), (832, 720), (422, 730)]\n"
     ]
    },
    {
     "name": "stderr",
     "output_type": "stream",
     "text": [
      " 92%|█████████▏| 4544/4943 [02:54<00:18, 21.92it/s]"
     ]
    },
    {
     "name": "stdout",
     "output_type": "stream",
     "text": [
      "4540\n",
      "outer_poly [(454, 58), (716, 306), (718, 780), (426, 800)]\n",
      "4541\n",
      "outer_poly [(470, 416), (592, 380), (602, 602), (478, 602)]\n",
      "4542\n",
      "outer_poly [(488, 494), (670, 488), (672, 684), (486, 684)]\n",
      "4543\n",
      "outer_poly [(574, 480), (726, 474), (732, 632), (576, 638)]\n",
      "4544\n",
      "outer_poly [(512, 286), (840, 274), (846, 606), (524, 608)]\n"
     ]
    },
    {
     "name": "stderr",
     "output_type": "stream",
     "text": [
      "\r",
      " 92%|█████████▏| 4547/4943 [02:54<00:18, 21.78it/s]"
     ]
    },
    {
     "name": "stdout",
     "output_type": "stream",
     "text": [
      "4545\n",
      "outer_poly [(536, 122), (836, 240), (830, 696), (538, 802)]\n",
      "4546\n",
      "outer_poly [(490, 192), (742, 232), (738, 552), (498, 590)]\n",
      "4547\n",
      "outer_poly [(676, 268), (906, 276), (894, 516), (672, 524)]\n",
      "4548\n",
      "outer_poly [(604, 306), (778, 274), (776, 558), (612, 540)]\n",
      "4549\n",
      "outer_poly [(374, 286), (844, 326), (846, 796), (360, 830)]\n"
     ]
    },
    {
     "name": "stderr",
     "output_type": "stream",
     "text": [
      " 92%|█████████▏| 4553/4943 [02:54<00:18, 21.57it/s]"
     ]
    },
    {
     "name": "stdout",
     "output_type": "stream",
     "text": [
      "4550\n",
      "outer_poly [(366, 250), (860, 236), (870, 762), (356, 748)]\n",
      "4551\n",
      "outer_poly [(384, 264), (848, 240), (854, 744), (386, 726)]\n",
      "4552\n",
      "outer_poly [(528, 386), (772, 370), (776, 638), (532, 630)]\n",
      "4553\n",
      "outer_poly [(434, 296), (842, 260), (848, 728), (436, 702)]\n",
      "4554\n",
      "outer_poly [(658, 278), (958, 296), (952, 606), (662, 608)]\n"
     ]
    },
    {
     "name": "stderr",
     "output_type": "stream",
     "text": [
      " 92%|█████████▏| 4559/4943 [02:54<00:17, 21.61it/s]"
     ]
    },
    {
     "name": "stdout",
     "output_type": "stream",
     "text": [
      "4555\n",
      "outer_poly [(492, 320), (638, 290), (640, 566), (500, 554)]\n",
      "4556\n",
      "outer_poly [(312, 42), (902, 146), (924, 732), (292, 774)]\n",
      "4557\n",
      "outer_poly [(408, 170), (928, 208), (942, 726), (398, 734)]\n",
      "4558\n",
      "outer_poly [(428, 406), (784, 398), (796, 768), (420, 764)]\n",
      "4559\n",
      "outer_poly [(548, 470), (664, 444), (668, 660), (550, 660)]\n"
     ]
    },
    {
     "name": "stderr",
     "output_type": "stream",
     "text": [
      "\r",
      " 92%|█████████▏| 4562/4943 [02:54<00:17, 21.59it/s]"
     ]
    },
    {
     "name": "stdout",
     "output_type": "stream",
     "text": [
      "4560\n",
      "outer_poly [(592, 326), (728, 402), (734, 692), (588, 716)]\n",
      "4561\n",
      "outer_poly [(468, 374), (736, 392), (736, 660), (460, 662)]\n",
      "4562\n",
      "outer_poly [(340, 94), (918, 150), (934, 724), (310, 736)]\n",
      "4563\n",
      "outer_poly [(448, 282), (838, 302), (844, 690), (442, 694)]\n",
      "4564\n",
      "outer_poly [(528, 378), (820, 380), (822, 680), (526, 674)]\n"
     ]
    },
    {
     "name": "stderr",
     "output_type": "stream",
     "text": [
      " 92%|█████████▏| 4568/4943 [02:55<00:17, 21.52it/s]"
     ]
    },
    {
     "name": "stdout",
     "output_type": "stream",
     "text": [
      "4565\n",
      "outer_poly [(476, 350), (800, 320), (804, 690), (470, 678)]\n",
      "4566\n",
      "outer_poly [(404, 350), (730, 322), (736, 700), (398, 690)]\n",
      "4567\n",
      "outer_poly [(254, 156), (822, 50), (840, 780), (216, 740)]\n",
      "4568\n",
      "outer_poly [(602, 418), (686, 378), (692, 630), (606, 622)]\n",
      "4569\n",
      "outer_poly [(614, 446), (688, 372), (688, 726), (614, 708)]\n"
     ]
    },
    {
     "name": "stderr",
     "output_type": "stream",
     "text": [
      " 93%|█████████▎| 4574/4943 [02:55<00:16, 22.63it/s]"
     ]
    },
    {
     "name": "stdout",
     "output_type": "stream",
     "text": [
      "4570\n",
      "outer_poly [(512, 328), (774, 280), (772, 660), (510, 640)]\n",
      "4571\n",
      "outer_poly [(364, 96), (1032, 72), (1078, 786), (320, 772)]\n",
      "4572\n",
      "outer_poly [(442, 396), (776, 388), (780, 734), (432, 732)]\n",
      "4573\n",
      "outer_poly [(332, 404), (636, 400), (630, 718), (322, 720)]\n",
      "4574\n",
      "outer_poly [(578, 334), (778, 158), (806, 766), (582, 746)]\n"
     ]
    },
    {
     "name": "stderr",
     "output_type": "stream",
     "text": [
      "\r",
      " 93%|█████████▎| 4577/4943 [02:55<00:16, 22.28it/s]"
     ]
    },
    {
     "name": "stdout",
     "output_type": "stream",
     "text": [
      "4575\n",
      "outer_poly [(580, 268), (814, 226), (816, 584), (580, 556)]\n",
      "4576\n",
      "outer_poly [(452, 24), (728, 264), (728, 732), (416, 742)]\n",
      "4577\n",
      "outer_poly [(526, 322), (738, 388), (740, 686), (524, 688)]\n",
      "4578\n",
      "outer_poly [(742, 154), (1278, 190), (1278, 742), (742, 772)]\n",
      "4579\n",
      "outer_poly [(408, 408), (574, 366), (580, 654), (414, 650)]\n"
     ]
    },
    {
     "name": "stderr",
     "output_type": "stream",
     "text": [
      " 93%|█████████▎| 4583/4943 [02:55<00:16, 21.95it/s]"
     ]
    },
    {
     "name": "stdout",
     "output_type": "stream",
     "text": [
      "4580\n",
      "outer_poly [(478, 810), (852, 672), (852, 150), (564, 6), (476, 2)]\n",
      "4581\n",
      "outer_poly [(518, 380), (596, 318), (606, 620), (520, 616)]\n",
      "4582\n",
      "outer_poly [(472, 320), (646, 358), (636, 598), (460, 602)]\n",
      "4583\n",
      "outer_poly [(484, 254), (602, 302), (590, 560), (464, 572)]\n",
      "4584\n",
      "outer_poly [(506, 352), (792, 354), (790, 644), (502, 640)]\n"
     ]
    },
    {
     "name": "stderr",
     "output_type": "stream",
     "text": [
      " 93%|█████████▎| 4589/4943 [02:56<00:15, 22.26it/s]"
     ]
    },
    {
     "name": "stdout",
     "output_type": "stream",
     "text": [
      "4585\n",
      "outer_poly [(376, 260), (772, 252), (774, 660), (374, 656)]\n",
      "4586\n",
      "outer_poly [(376, 272), (740, 270), (738, 642), (376, 632)]\n",
      "4587\n",
      "outer_poly [(570, 438), (836, 442), (834, 716), (558, 708)]\n",
      "4588\n",
      "outer_poly [(21, 837), (940, 861), (931, 55), (133, 0)]\n",
      "4589\n",
      "outer_poly [(369, 307), (716, 303), (722, 652), (360, 656)]\n"
     ]
    },
    {
     "name": "stderr",
     "output_type": "stream",
     "text": [
      "\r",
      " 93%|█████████▎| 4592/4943 [02:56<00:15, 22.37it/s]"
     ]
    },
    {
     "name": "stdout",
     "output_type": "stream",
     "text": [
      "4590\n",
      "outer_poly [(525, 398), (728, 405), (726, 608), (521, 604)]\n",
      "4591\n",
      "outer_poly [(600, 314), (764, 331), (761, 553), (598, 566)]\n",
      "4592\n",
      "outer_poly [(501, 230), (848, 269), (839, 632), (495, 656)]\n",
      "4593\n",
      "outer_poly [(483, 210), (847, 206), (842, 579), (480, 570)]\n",
      "4594\n",
      "outer_poly [(447, 183), (856, 183), (846, 594), (447, 587)]\n"
     ]
    },
    {
     "name": "stderr",
     "output_type": "stream",
     "text": [
      " 93%|█████████▎| 4598/4943 [02:56<00:14, 23.09it/s]"
     ]
    },
    {
     "name": "stdout",
     "output_type": "stream",
     "text": [
      "4595\n",
      "outer_poly [(487, 255), (763, 252), (759, 534), (490, 526)]\n",
      "4596\n",
      "outer_poly [(381, 307), (637, 309), (637, 565), (385, 569)]\n",
      "4597\n",
      "outer_poly [(197, 239), (559, 358), (556, 810), (356, 864), (166, 862)]\n",
      "4598\n",
      "outer_poly [(366, 400), (686, 386), (690, 732), (366, 724)]\n",
      "4599\n",
      "outer_poly [(454, 294), (772, 310), (772, 628), (456, 634)]\n"
     ]
    },
    {
     "name": "stderr",
     "output_type": "stream",
     "text": [
      " 93%|█████████▎| 4604/4943 [02:56<00:14, 22.64it/s]"
     ]
    },
    {
     "name": "stdout",
     "output_type": "stream",
     "text": [
      "4600\n",
      "outer_poly [(556, 360), (736, 316), (734, 638), (560, 616)]\n",
      "4601\n",
      "outer_poly [(520, 318), (718, 380), (716, 684), (516, 706)]\n",
      "4602\n",
      "outer_poly [(506, 260), (738, 142), (748, 674), (504, 644)]\n",
      "4603\n",
      "outer_poly [(516, 468), (638, 444), (644, 644), (520, 638)]\n",
      "4604\n",
      "outer_poly [(446, 338), (692, 240), (702, 704), (446, 692)]\n"
     ]
    },
    {
     "name": "stderr",
     "output_type": "stream",
     "text": [
      "\r",
      " 93%|█████████▎| 4607/4943 [02:56<00:15, 22.27it/s]"
     ]
    },
    {
     "name": "stdout",
     "output_type": "stream",
     "text": [
      "4605\n",
      "outer_poly [(398, 186), (958, 116), (998, 744), (382, 748)]\n",
      "4606\n",
      "outer_poly [(544, 438), (666, 406), (674, 644), (546, 638)]\n",
      "4607\n",
      "outer_poly [(568, 374), (744, 372), (744, 552), (570, 548)]\n",
      "4608\n",
      "outer_poly [(374, 270), (692, 282), (690, 600), (374, 614)]\n",
      "4609\n",
      "outer_poly [(210, 144), (788, 158), (794, 726), (202, 742)]\n"
     ]
    },
    {
     "name": "stderr",
     "output_type": "stream",
     "text": [
      " 93%|█████████▎| 4613/4943 [02:57<00:15, 21.81it/s]"
     ]
    },
    {
     "name": "stdout",
     "output_type": "stream",
     "text": [
      "4610\n",
      "outer_poly [(422, 276), (782, 268), (792, 634), (424, 640)]\n",
      "4611\n",
      "outer_poly [(392, 214), (804, 198), (802, 624), (398, 618)]\n",
      "4612\n",
      "outer_poly [(446, 252), (778, 232), (782, 590), (452, 584)]\n",
      "4613\n",
      "outer_poly [(616, 260), (756, 186), (766, 650), (622, 586)]\n",
      "4614\n",
      "outer_poly [(396, 372), (658, 356), (658, 644), (398, 634)]\n"
     ]
    },
    {
     "name": "stderr",
     "output_type": "stream",
     "text": [
      " 93%|█████████▎| 4619/4943 [02:57<00:14, 22.69it/s]"
     ]
    },
    {
     "name": "stdout",
     "output_type": "stream",
     "text": [
      "4615\n",
      "outer_poly [(376, 350), (638, 306), (636, 694), (378, 674)]\n",
      "4616\n",
      "outer_poly [(404, 342), (562, 306), (566, 600), (410, 580)]\n",
      "4617\n",
      "outer_poly [(458, 368), (566, 346), (568, 570), (460, 560)]\n",
      "4618\n",
      "outer_poly [(444, 362), (560, 338), (562, 568), (452, 558)]\n",
      "4619\n",
      "outer_poly [(416, 192), (596, 284), (590, 630), (412, 660)]\n"
     ]
    },
    {
     "name": "stderr",
     "output_type": "stream",
     "text": [
      "\r",
      " 94%|█████████▎| 4622/4943 [02:57<00:14, 22.84it/s]"
     ]
    },
    {
     "name": "stdout",
     "output_type": "stream",
     "text": [
      "4620\n",
      "outer_poly [(364, 12), (742, 188), (734, 686), (340, 764)]\n",
      "4621\n",
      "outer_poly [(494, 282), (770, 308), (762, 602), (484, 612)]\n",
      "4622\n",
      "outer_poly [(438, 286), (778, 302), (778, 642), (436, 650)]\n",
      "4623\n",
      "outer_poly [(440, 252), (828, 278), (828, 666), (434, 674)]\n",
      "4624\n",
      "outer_poly [(470, 112), (666, 288), (668, 724), (462, 784)]\n"
     ]
    },
    {
     "name": "stderr",
     "output_type": "stream",
     "text": [
      " 94%|█████████▎| 4628/4943 [02:57<00:15, 19.86it/s]"
     ]
    },
    {
     "name": "stdout",
     "output_type": "stream",
     "text": [
      "4625\n",
      "outer_poly [(492, 270), (652, 352), (652, 680), (484, 706)]\n",
      "4626\n",
      "outer_poly [(598, 352), (870, 378), (872, 672), (598, 686)]\n",
      "4627\n",
      "outer_poly [(376, 396), (644, 410), (650, 676), (374, 684)]\n",
      "4628\n",
      "outer_poly [(418, 300), (690, 182), (702, 728), (418, 692)]\n",
      "4629\n",
      "outer_poly [(350, 238), (866, 12), (950, 822), (326, 820)]\n",
      "4630\n"
     ]
    },
    {
     "name": "stderr",
     "output_type": "stream",
     "text": [
      " 94%|█████████▎| 4634/4943 [02:58<00:14, 21.84it/s]"
     ]
    },
    {
     "name": "stdout",
     "output_type": "stream",
     "text": [
      "outer_poly [(608, 304), (784, 260), (786, 548), (608, 542)]\n",
      "4631\n",
      "outer_poly [(456, 282), (834, 24), (898, 838), (456, 810)]\n",
      "4632\n",
      "outer_poly [(432, 204), (944, 116), (976, 718), (432, 704)]\n",
      "4633\n",
      "outer_poly [(626, 444), (754, 416), (756, 648), (628, 642)]\n",
      "4634\n",
      "outer_poly [(539, 422), (664, 386), (668, 652), (534, 638)]\n"
     ]
    },
    {
     "name": "stderr",
     "output_type": "stream",
     "text": [
      "\r",
      " 94%|█████████▍| 4637/4943 [02:58<00:13, 21.88it/s]"
     ]
    },
    {
     "name": "stdout",
     "output_type": "stream",
     "text": [
      "4635\n",
      "outer_poly [(531, 415), (659, 378), (661, 649), (529, 639)]\n",
      "4636\n",
      "outer_poly [(519, 123), (810, 314), (819, 779), (488, 803)]\n",
      "4637\n",
      "outer_poly [(479, 318), (767, 280), (768, 653), (476, 632)]\n",
      "4638\n",
      "outer_poly [(591, 495), (682, 438), (684, 730), (592, 722)]\n",
      "4639\n",
      "outer_poly [(373, 321), (589, 313), (587, 556), (373, 549)]\n"
     ]
    },
    {
     "name": "stderr",
     "output_type": "stream",
     "text": [
      " 94%|█████████▍| 4643/4943 [02:58<00:13, 22.72it/s]"
     ]
    },
    {
     "name": "stdout",
     "output_type": "stream",
     "text": [
      "4640\n",
      "outer_poly [(545, 205), (1025, 223), (1016, 701), (546, 701)]\n",
      "4641\n",
      "outer_poly [(449, 195), (844, 256), (839, 674), (446, 726)]\n",
      "4642\n",
      "outer_poly [(654, 356), (792, 371), (789, 565), (651, 574)]\n",
      "4643\n",
      "outer_poly [(627, 388), (830, 331), (839, 644), (628, 647)]\n",
      "4644\n",
      "outer_poly [(344, 296), (603, 187), (611, 673), (334, 669)]\n"
     ]
    },
    {
     "name": "stderr",
     "output_type": "stream",
     "text": [
      " 94%|█████████▍| 4649/4943 [02:58<00:12, 23.11it/s]"
     ]
    },
    {
     "name": "stdout",
     "output_type": "stream",
     "text": [
      "4645\n",
      "outer_poly [(504, 325), (810, 355), (813, 673), (499, 691)]\n",
      "4646\n",
      "outer_poly [(563, 366), (798, 392), (797, 656), (559, 668)]\n",
      "4647\n",
      "outer_poly [(381, 182), (969, 195), (982, 802), (344, 790)]\n",
      "4648\n",
      "outer_poly [(360, 254), (722, 276), (718, 638), (360, 644)]\n",
      "4649\n",
      "outer_poly [(724, 382), (894, 374), (902, 552), (732, 556)]\n"
     ]
    },
    {
     "name": "stderr",
     "output_type": "stream",
     "text": [
      "\r",
      " 94%|█████████▍| 4652/4943 [02:58<00:12, 23.24it/s]"
     ]
    },
    {
     "name": "stdout",
     "output_type": "stream",
     "text": [
      "4650\n",
      "outer_poly [(546, 366), (928, 416), (952, 828), (546, 846)]\n",
      "4651\n",
      "outer_poly [(438, 166), (736, 196), (738, 512), (438, 520)]\n",
      "4652\n",
      "outer_poly [(562, 310), (916, 274), (918, 684), (556, 666)]\n",
      "4653\n",
      "outer_poly [(542, 404), (758, 402), (756, 618), (546, 614)]\n",
      "4654\n",
      "outer_poly \n",
      "gt annotation error has been detected in img ID: 4654\n",
      "skipping img\n",
      "4655\n",
      "outer_poly [(496, 242), (882, 262), (880, 646), (500, 656)]\n"
     ]
    },
    {
     "name": "stderr",
     "output_type": "stream",
     "text": [
      " 94%|█████████▍| 4659/4943 [02:59<00:11, 24.48it/s]"
     ]
    },
    {
     "name": "stdout",
     "output_type": "stream",
     "text": [
      "4656\n",
      "outer_poly [(374, 260), (742, 256), (742, 628), (376, 630)]\n",
      "4657\n",
      "outer_poly [(446, 414), (658, 432), (654, 660), (444, 674)]\n",
      "4658\n",
      "outer_poly [(374, 260), (554, 124), (552, 800), (370, 692)]\n",
      "4659\n",
      "outer_poly [(588, 396), (676, 344), (676, 608), (594, 596)]\n",
      "4660\n",
      "outer_poly [(286, 372), (590, 384), (590, 688), (276, 688)]\n"
     ]
    },
    {
     "name": "stderr",
     "output_type": "stream",
     "text": [
      " 94%|█████████▍| 4665/4943 [02:59<00:11, 23.96it/s]"
     ]
    },
    {
     "name": "stdout",
     "output_type": "stream",
     "text": [
      "4661\n",
      "outer_poly [(444, 328), (816, 318), (824, 700), (438, 698)]\n",
      "4662\n",
      "outer_poly [(459, 194), (703, 336), (707, 732), (446, 751)]\n",
      "4663\n",
      "outer_poly [(393, 298), (821, 269), (841, 727), (383, 731)]\n",
      "4664\n",
      "outer_poly [(546, 241), (719, 371), (726, 722), (544, 734)]\n",
      "4665\n",
      "outer_poly [(362, 145), (681, 286), (694, 699), (351, 718)]\n"
     ]
    },
    {
     "name": "stderr",
     "output_type": "stream",
     "text": [
      "\r",
      " 94%|█████████▍| 4668/4943 [02:59<00:11, 23.74it/s]"
     ]
    },
    {
     "name": "stdout",
     "output_type": "stream",
     "text": [
      "4666\n",
      "outer_poly [(433, 216), (789, 50), (829, 665), (433, 661)]\n",
      "4667\n",
      "outer_poly [(388, 227), (678, 44), (711, 669), (391, 668)]\n",
      "4668\n",
      "outer_poly [(475, 424), (598, 387), (608, 606), (486, 608)]\n",
      "4669\n",
      "outer_poly [(483, 429), (632, 428), (632, 583), (480, 583)]\n",
      "4670\n",
      "outer_poly [(577, 369), (798, 369), (797, 594), (579, 587)]\n"
     ]
    },
    {
     "name": "stderr",
     "output_type": "stream",
     "text": [
      " 95%|█████████▍| 4674/4943 [02:59<00:11, 23.85it/s]"
     ]
    },
    {
     "name": "stdout",
     "output_type": "stream",
     "text": [
      "4671\n",
      "outer_poly [(121, 116), (748, 99), (747, 749), (110, 743)]\n",
      "4672\n",
      "outer_poly [(425, 389), (632, 391), (635, 600), (425, 596)]\n",
      "4673\n",
      "outer_poly [(430, 256), (724, 210), (731, 636), (437, 603)]\n",
      "4674\n",
      "outer_poly [(504, 282), (889, 288), (892, 673), (503, 680)]\n",
      "4675\n",
      "outer_poly [(525, 369), (788, 347), (796, 648), (532, 641)]\n"
     ]
    },
    {
     "name": "stderr",
     "output_type": "stream",
     "text": [
      " 95%|█████████▍| 4680/4943 [03:00<00:11, 23.64it/s]"
     ]
    },
    {
     "name": "stdout",
     "output_type": "stream",
     "text": [
      "4676\n",
      "outer_poly [(728, 300), (833, 284), (838, 727), (732, 720)]\n",
      "4677\n",
      "outer_poly [(553, 425), (627, 371), (633, 706), (558, 680)]\n",
      "4678\n",
      "outer_poly [(404, 100), (925, 160), (932, 674), (402, 711)]\n",
      "4679\n",
      "outer_poly [(379, 298), (726, 303), (727, 651), (372, 647)]\n",
      "4680\n",
      "outer_poly [(446, 290), (744, 267), (748, 604), (442, 598)]\n"
     ]
    },
    {
     "name": "stderr",
     "output_type": "stream",
     "text": [
      " 95%|█████████▍| 4686/4943 [03:00<00:10, 24.44it/s]"
     ]
    },
    {
     "name": "stdout",
     "output_type": "stream",
     "text": [
      "4681\n",
      "outer_poly [(431, 216), (635, 86), (640, 668), (437, 616)]\n",
      "4682\n",
      "outer_poly [(508, 224), (773, 322), (776, 701), (504, 734)]\n",
      "4683\n",
      "outer_poly [(504, 255), (806, 335), (819, 707), (501, 742)]\n",
      "4684\n",
      "outer_poly [(709, 190), (971, 120), (994, 710), (724, 678)]\n",
      "4685\n",
      "outer_poly [(616, 288), (715, 344), (719, 585), (621, 587)]\n",
      "4686\n"
     ]
    },
    {
     "name": "stderr",
     "output_type": "stream",
     "text": [
      "\r",
      " 95%|█████████▍| 4689/4943 [03:00<00:10, 24.10it/s]"
     ]
    },
    {
     "name": "stdout",
     "output_type": "stream",
     "text": [
      "outer_poly [(422, 270), (710, 102), (730, 785), (421, 727)]\n",
      "4687\n",
      "outer_poly [(435, 373), (670, 396), (668, 643), (430, 647)]\n",
      "4688\n",
      "outer_poly [(558, 216), (810, 290), (817, 621), (553, 633)]\n",
      "4689\n",
      "outer_poly [(515, 375), (734, 389), (732, 621), (508, 624)]\n",
      "4690\n",
      "outer_poly [(380, 208), (883, 211), (900, 719), (367, 726)]\n"
     ]
    },
    {
     "name": "stderr",
     "output_type": "stream",
     "text": [
      " 95%|█████████▍| 4695/4943 [03:00<00:10, 23.72it/s]"
     ]
    },
    {
     "name": "stdout",
     "output_type": "stream",
     "text": [
      "4691\n",
      "outer_poly [(536, 285), (790, 203), (798, 629), (534, 616)]\n",
      "4692\n",
      "outer_poly [(425, 387), (711, 376), (713, 686), (420, 680)]\n",
      "4693\n",
      "outer_poly [(495, 282), (815, 214), (830, 639), (500, 628)]\n",
      "4694\n",
      "outer_poly [(565, 338), (775, 306), (780, 578), (567, 574)]\n",
      "4695\n",
      "outer_poly [(599, 311), (748, 190), (759, 684), (602, 656)]\n"
     ]
    },
    {
     "name": "stderr",
     "output_type": "stream",
     "text": [
      "\r",
      " 95%|█████████▌| 4698/4943 [03:00<00:10, 23.54it/s]"
     ]
    },
    {
     "name": "stdout",
     "output_type": "stream",
     "text": [
      "4696\n",
      "outer_poly [(538, 273), (892, 198), (895, 715), (530, 672)]\n",
      "4697\n",
      "outer_poly [(548, 362), (855, 391), (859, 709), (542, 709)]\n",
      "4698\n",
      "outer_poly [(550, 347), (690, 330), (690, 557), (548, 544)]\n",
      "4699\n",
      "outer_poly [(478, 307), (703, 273), (701, 620), (476, 589)]\n",
      "4700\n",
      "outer_poly [(453, 194), (951, 106), (953, 790), (454, 702)]\n"
     ]
    },
    {
     "name": "stderr",
     "output_type": "stream",
     "text": [
      " 95%|█████████▌| 4704/4943 [03:01<00:10, 23.63it/s]"
     ]
    },
    {
     "name": "stdout",
     "output_type": "stream",
     "text": [
      "4701\n",
      "outer_poly [(575, 309), (763, 340), (759, 612), (573, 640)]\n",
      "4702\n",
      "outer_poly [(536, 442), (687, 406), (698, 636), (538, 640)]\n",
      "4703\n",
      "outer_poly [(267, 49), (965, 133), (988, 814), (408, 864), (244, 864)]\n",
      "4704\n",
      "outer_poly [(224, 150), (694, 208), (694, 666), (226, 726)]\n",
      "4705\n",
      "outer_poly [(262, 48), (1016, 20), (1032, 814), (248, 796)]\n"
     ]
    },
    {
     "name": "stderr",
     "output_type": "stream",
     "text": [
      " 95%|█████████▌| 4710/4943 [03:01<00:09, 23.83it/s]"
     ]
    },
    {
     "name": "stdout",
     "output_type": "stream",
     "text": [
      "4706\n",
      "outer_poly [(464, 248), (978, 236), (1028, 764), (454, 778)]\n",
      "4707\n",
      "outer_poly [(512, 142), (804, 146), (792, 436), (508, 424)]\n",
      "4708\n",
      "outer_poly [(470, 258), (826, 252), (836, 606), (466, 614)]\n",
      "4709\n",
      "outer_poly [(520, 310), (778, 318), (778, 572), (522, 578)]\n",
      "4710\n",
      "outer_poly [(624, 332), (898, 330), (894, 606), (620, 604)]\n"
     ]
    },
    {
     "name": "stderr",
     "output_type": "stream",
     "text": [
      "\r",
      " 95%|█████████▌| 4713/4943 [03:01<00:09, 23.60it/s]"
     ]
    },
    {
     "name": "stdout",
     "output_type": "stream",
     "text": [
      "4711\n",
      "outer_poly [(392, 82), (790, 210), (776, 694), (380, 796)]\n",
      "4712\n",
      "outer_poly [(532, 272), (766, 260), (764, 520), (534, 510)]\n",
      "4713\n",
      "outer_poly [(606, 262), (716, 162), (708, 702), (604, 624)]\n",
      "4714\n",
      "outer_poly [(346, 250), (882, 200), (886, 834), (340, 786)]\n",
      "4715\n",
      "outer_poly [(410, 292), (522, 196), (520, 712), (412, 644)]\n"
     ]
    },
    {
     "name": "stderr",
     "output_type": "stream",
     "text": [
      " 95%|█████████▌| 4719/4943 [03:01<00:09, 23.54it/s]"
     ]
    },
    {
     "name": "stdout",
     "output_type": "stream",
     "text": [
      "4716\n",
      "outer_poly [(574, 284), (792, 336), (792, 636), (574, 662)]\n",
      "4717\n",
      "outer_poly [(602, 230), (982, 96), (996, 768), (614, 682)]\n",
      "4718\n",
      "outer_poly [(482, 304), (682, 224), (688, 644), (480, 622)]\n",
      "4719\n",
      "outer_poly [(412, 98), (1064, 16), (1092, 754), (392, 730)]\n",
      "4720\n",
      "outer_poly [(450, 390), (728, 400), (734, 682), (448, 678)]\n"
     ]
    },
    {
     "name": "stderr",
     "output_type": "stream",
     "text": [
      " 96%|█████████▌| 4725/4943 [03:01<00:09, 22.90it/s]"
     ]
    },
    {
     "name": "stdout",
     "output_type": "stream",
     "text": [
      "4721\n",
      "outer_poly [(510, 468), (634, 442), (638, 646), (512, 642)]\n",
      "4722\n",
      "outer_poly [(506, 244), (770, 70), (794, 706), (508, 672)]\n",
      "4723\n",
      "outer_poly [(618, 392), (712, 326), (724, 636), (626, 626)]\n",
      "4724\n",
      "outer_poly [(412, 342), (702, 306), (708, 640), (418, 640)]\n",
      "4725\n",
      "outer_poly [(542, 328), (762, 222), (774, 672), (548, 660)]\n"
     ]
    },
    {
     "name": "stderr",
     "output_type": "stream",
     "text": [
      "\r",
      " 96%|█████████▌| 4728/4943 [03:02<00:09, 22.59it/s]"
     ]
    },
    {
     "name": "stdout",
     "output_type": "stream",
     "text": [
      "4726\n",
      "outer_poly [(560, 414), (702, 358), (708, 658), (566, 656)]\n",
      "4727\n",
      "outer_poly [(308, 144), (832, 112), (860, 664), (292, 668)]\n",
      "4728\n",
      "outer_poly [(508, 286), (654, 56), (712, 730), (534, 726)]\n",
      "4729\n",
      "outer_poly [(394, 130), (954, 166), (926, 704), (400, 776)]\n",
      "4730\n",
      "outer_poly [(402, 242), (880, 252), (894, 732), (398, 742)]\n"
     ]
    },
    {
     "name": "stderr",
     "output_type": "stream",
     "text": [
      " 96%|█████████▌| 4734/4943 [03:02<00:09, 22.36it/s]"
     ]
    },
    {
     "name": "stdout",
     "output_type": "stream",
     "text": [
      "4731\n",
      "outer_poly [(430, 52), (796, 190), (792, 662), (420, 746)]\n",
      "4732\n",
      "outer_poly [(524, 246), (748, 178), (754, 660), (532, 600)]\n",
      "4733\n",
      "outer_poly [(594, 306), (798, 334), (802, 606), (598, 624)]\n",
      "4734\n",
      "outer_poly [(512, 404), (730, 418), (730, 652), (506, 654)]\n",
      "4735\n",
      "outer_poly [(470, 356), (590, 330), (590, 590), (470, 578)]\n"
     ]
    },
    {
     "name": "stderr",
     "output_type": "stream",
     "text": [
      " 96%|█████████▌| 4740/4943 [03:02<00:08, 22.69it/s]"
     ]
    },
    {
     "name": "stdout",
     "output_type": "stream",
     "text": [
      "4736\n",
      "outer_poly [(422, 278), (744, 270), (738, 600), (424, 598)]\n",
      "4737\n",
      "outer_poly [(372, 220), (784, 206), (786, 634), (366, 632)]\n",
      "4738\n",
      "outer_poly [(494, 182), (800, 24), (806, 700), (498, 632)]\n",
      "4739\n",
      "outer_poly [(474, 276), (606, 204), (608, 604), (478, 576)]\n",
      "4740\n",
      "outer_poly [(574, 280), (912, 322), (918, 696), (576, 708)]\n"
     ]
    },
    {
     "name": "stderr",
     "output_type": "stream",
     "text": [
      " 96%|█████████▌| 4746/4943 [03:02<00:08, 24.52it/s]"
     ]
    },
    {
     "name": "stdout",
     "output_type": "stream",
     "text": [
      "4741\n",
      "outer_poly [(348, 108), (1000, 68), (1024, 768), (328, 754)]\n",
      "4742\n",
      "outer_poly [(402, 272), (814, 256), (814, 686), (400, 680)]\n",
      "4743\n",
      "outer_poly [(256, 290), (610, 266), (612, 662), (254, 656)]\n",
      "4744\n",
      "outer_poly [(272, 340), (552, 328), (556, 628), (272, 628)]\n",
      "4745\n",
      "outer_poly [(384, 272), (732, 172), (746, 714), (390, 680)]\n",
      "4746\n",
      "outer_poly [(618, 282), (842, 84), (876, 786), (626, 724)]\n"
     ]
    },
    {
     "name": "stderr",
     "output_type": "stream",
     "text": [
      " 96%|█████████▌| 4752/4943 [03:03<00:07, 24.80it/s]"
     ]
    },
    {
     "name": "stdout",
     "output_type": "stream",
     "text": [
      "4747\n",
      "outer_poly [(528, 302), (756, 318), (756, 558), (526, 556)]\n",
      "4748\n",
      "outer_poly [(468, 244), (852, 198), (862, 638), (464, 628)]\n",
      "4749\n",
      "outer_poly [(352, 212), (874, 78), (916, 776), (350, 750)]\n",
      "4750\n",
      "outer_poly [(452, 264), (784, 120), (802, 730), (450, 698)]\n",
      "4751\n",
      "outer_poly [(574, 406), (736, 374), (742, 628), (580, 626)]\n",
      "4752\n"
     ]
    },
    {
     "name": "stderr",
     "output_type": "stream",
     "text": [
      "\r",
      " 96%|█████████▌| 4755/4943 [03:03<00:07, 24.27it/s]"
     ]
    },
    {
     "name": "stdout",
     "output_type": "stream",
     "text": [
      "outer_poly [(506, 434), (750, 452), (750, 698), (496, 702)]\n",
      "4753\n",
      "outer_poly [(524, 326), (732, 234), (748, 712), (534, 674)]\n",
      "4754\n",
      "outer_poly [(398, 232), (878, 20), (906, 864), (609, 864), (394, 803)]\n",
      "4755\n",
      "outer_poly [(267, 124), (928, 64), (970, 797), (224, 785)]\n",
      "4756\n",
      "outer_poly [(288, 315), (573, 282), (561, 679), (285, 646)]\n"
     ]
    },
    {
     "name": "stderr",
     "output_type": "stream",
     "text": [
      " 96%|█████████▋| 4761/4943 [03:03<00:07, 24.11it/s]"
     ]
    },
    {
     "name": "stdout",
     "output_type": "stream",
     "text": [
      "4757\n",
      "outer_poly [(408, 424), (662, 418), (668, 678), (406, 684)]\n",
      "4758\n",
      "outer_poly [(544, 338), (860, 298), (874, 658), (550, 654)]\n",
      "4759\n",
      "outer_poly [(548, 336), (856, 300), (870, 650), (552, 650)]\n",
      "4760\n",
      "outer_poly [(382, 308), (628, 212), (642, 668), (380, 664)]\n",
      "4761\n",
      "outer_poly [(336, 4), (334, 864), (428, 864), (978, 738), (976, 82), (724, 2)]\n"
     ]
    },
    {
     "name": "stderr",
     "output_type": "stream",
     "text": [
      " 96%|█████████▋| 4767/4943 [03:03<00:06, 25.20it/s]"
     ]
    },
    {
     "name": "stdout",
     "output_type": "stream",
     "text": [
      "4762\n",
      "outer_poly [(561, 331), (805, 343), (804, 592), (558, 596)]\n",
      "4763\n",
      "outer_poly [(598, 286), (866, 317), (863, 612), (592, 629)]\n",
      "4764\n",
      "outer_poly [(563, 278), (835, 311), (834, 610), (567, 628)]\n",
      "4765\n",
      "outer_poly [(595, 367), (764, 398), (764, 632), (591, 651)]\n",
      "4766\n",
      "outer_poly [(595, 358), (837, 367), (835, 614), (592, 620)]\n",
      "4767\n",
      "outer_poly [(264, 69), (961, 91), (974, 798), (236, 790)]\n"
     ]
    },
    {
     "name": "stderr",
     "output_type": "stream",
     "text": [
      "\r",
      " 97%|█████████▋| 4770/4943 [03:03<00:07, 24.02it/s]"
     ]
    },
    {
     "name": "stdout",
     "output_type": "stream",
     "text": [
      "4768\n",
      "outer_poly [(532, 364), (908, 358), (906, 758), (516, 738)]\n",
      "4769\n",
      "outer_poly [(550, 154), (1064, 112), (1086, 664), (546, 654)]\n",
      "4770\n",
      "outer_poly [(660, 290), (988, 280), (994, 620), (662, 616)]\n",
      "4771\n",
      "outer_poly [(574, 328), (714, 344), (718, 556), (572, 566)]\n",
      "4772\n",
      "outer_poly [(358, 94), (950, 84), (932, 690), (356, 664)]\n"
     ]
    },
    {
     "name": "stderr",
     "output_type": "stream",
     "text": [
      " 97%|█████████▋| 4776/4943 [03:04<00:06, 24.16it/s]"
     ]
    },
    {
     "name": "stdout",
     "output_type": "stream",
     "text": [
      "4773\n",
      "outer_poly [(26, 44), (782, 132), (782, 816), (249, 864), (6, 864)]\n",
      "4774\n",
      "outer_poly [(569, 476), (782, 455), (790, 706), (575, 705)]\n",
      "4775\n",
      "outer_poly [(493, 334), (711, 346), (707, 577), (493, 579)]\n",
      "4776\n",
      "outer_poly [(467, 321), (788, 297), (788, 657), (468, 645)]\n",
      "4777\n",
      "outer_poly [(435, 330), (787, 345), (789, 697), (427, 698)]\n",
      "4778\n"
     ]
    },
    {
     "name": "stderr",
     "output_type": "stream",
     "text": [
      " 97%|█████████▋| 4782/4943 [03:04<00:06, 23.93it/s]"
     ]
    },
    {
     "name": "stdout",
     "output_type": "stream",
     "text": [
      "outer_poly [(573, 294), (728, 185), (729, 690), (570, 649)]\n",
      "4779\n",
      "outer_poly [(535, 300), (843, 299), (843, 614), (538, 611)]\n",
      "4780\n",
      "outer_poly [(585, 415), (762, 456), (770, 714), (584, 726)]\n",
      "4781\n",
      "outer_poly [(424, 734), (440, 161), (975, 186), (1000, 728)]\n",
      "4782\n",
      "outer_poly [(403, 224), (865, 255), (884, 721), (388, 728)]\n"
     ]
    },
    {
     "name": "stderr",
     "output_type": "stream",
     "text": [
      "\r",
      " 97%|█████████▋| 4785/4943 [03:04<00:06, 23.26it/s]"
     ]
    },
    {
     "name": "stdout",
     "output_type": "stream",
     "text": [
      "4783\n",
      "outer_poly [(524, 443), (779, 427), (787, 696), (523, 700)]\n",
      "4784\n",
      "outer_poly [(421, 279), (725, 164), (741, 691), (417, 678)]\n",
      "4785\n",
      "outer_poly [(553, 411), (690, 361), (697, 655), (559, 650)]\n",
      "4786\n",
      "outer_poly [(623, 315), (775, 177), (814, 652), (643, 652)]\n",
      "4787\n",
      "outer_poly [(321, 65), (1022, 48), (983, 742), (354, 701)]\n"
     ]
    },
    {
     "name": "stderr",
     "output_type": "stream",
     "text": [
      " 97%|█████████▋| 4791/4943 [03:04<00:06, 23.90it/s]"
     ]
    },
    {
     "name": "stdout",
     "output_type": "stream",
     "text": [
      "4788\n",
      "outer_poly [(505, 342), (726, 340), (726, 563), (512, 567)]\n",
      "4789\n",
      "outer_poly [(347, 223), (912, 159), (937, 811), (349, 790)]\n",
      "4790\n",
      "outer_poly [(476, 257), (832, 149), (850, 751), (480, 689)]\n",
      "4791\n",
      "outer_poly [(423, 347), (517, 301), (522, 597), (425, 579)]\n",
      "4792\n",
      "outer_poly [(260, 273), (629, 280), (629, 646), (257, 646)]\n"
     ]
    },
    {
     "name": "stderr",
     "output_type": "stream",
     "text": [
      " 97%|█████████▋| 4797/4943 [03:05<00:06, 22.47it/s]"
     ]
    },
    {
     "name": "stdout",
     "output_type": "stream",
     "text": [
      "4793\n",
      "outer_poly [(466, 188), (737, 234), (735, 579), (469, 623)]\n",
      "4794\n",
      "outer_poly [(524, 60), (1096, 117), (1087, 698), (533, 770)]\n",
      "4795\n",
      "outer_poly [(469, 352), (726, 287), (735, 735), (476, 703)]\n",
      "4796\n",
      "outer_poly [(464, 285), (795, 175), (806, 781), (471, 712)]\n",
      "4797\n",
      "outer_poly [(420, 379), (519, 338), (522, 641), (423, 623)]\n"
     ]
    },
    {
     "name": "stderr",
     "output_type": "stream",
     "text": [
      " 97%|█████████▋| 4803/4943 [03:05<00:05, 24.40it/s]"
     ]
    },
    {
     "name": "stdout",
     "output_type": "stream",
     "text": [
      "4798\n",
      "outer_poly [(556, 363), (666, 273), (673, 749), (558, 694)]\n",
      "4799\n",
      "outer_poly [(524, 315), (678, 273), (678, 584), (526, 565)]\n",
      "4800\n",
      "outer_poly [(512, 296), (781, 356), (781, 698), (503, 726)]\n",
      "4801\n",
      "outer_poly [(519, 411), (678, 354), (682, 701), (524, 682)]\n",
      "4802\n",
      "outer_poly [(563, 352), (756, 393), (754, 652), (563, 657)]\n",
      "4803\n",
      "outer_poly [(489, 285), (880, 299), (884, 692), (485, 689)]\n"
     ]
    },
    {
     "name": "stderr",
     "output_type": "stream",
     "text": [
      " 97%|█████████▋| 4809/4943 [03:05<00:05, 26.25it/s]"
     ]
    },
    {
     "name": "stdout",
     "output_type": "stream",
     "text": [
      "4804\n",
      "outer_poly [(570, 333), (740, 306), (744, 556), (574, 551)]\n",
      "4805\n",
      "outer_poly [(496, 306), (777, 193), (790, 696), (496, 673)]\n",
      "4806\n",
      "outer_poly [(579, 416), (703, 372), (710, 666), (584, 662)]\n",
      "4807\n",
      "outer_poly [(503, 420), (717, 404), (721, 646), (505, 639)]\n",
      "4808\n",
      "outer_poly [(470, 211), (901, 104), (908, 726), (466, 677)]\n",
      "4809\n",
      "outer_poly [(476, 205), (969, 34), (1008, 810), (488, 732)]\n"
     ]
    },
    {
     "name": "stderr",
     "output_type": "stream",
     "text": [
      " 97%|█████████▋| 4815/4943 [03:05<00:04, 27.10it/s]"
     ]
    },
    {
     "name": "stdout",
     "output_type": "stream",
     "text": [
      "4810\n",
      "outer_poly [(536, 346), (882, 372), (892, 724), (526, 720)]\n",
      "4811\n",
      "outer_poly [(540, 322), (924, 336), (936, 728), (538, 724)]\n",
      "4812\n",
      "outer_poly [(414, 400), (520, 377), (517, 607), (416, 594)]\n",
      "4813\n",
      "outer_poly [(435, 268), (933, 193), (971, 785), (416, 773)]\n",
      "4814\n",
      "outer_poly [(434, 276), (801, 236), (798, 686), (425, 654)]\n",
      "4815\n",
      "outer_poly [(586, 454), (756, 420), (759, 691), (583, 682)]\n"
     ]
    },
    {
     "name": "stderr",
     "output_type": "stream",
     "text": [
      " 98%|█████████▊| 4821/4943 [03:05<00:04, 26.55it/s]"
     ]
    },
    {
     "name": "stdout",
     "output_type": "stream",
     "text": [
      "4816\n",
      "outer_poly [(224, 82), (772, 165), (789, 694), (187, 702)]\n",
      "4817\n",
      "outer_poly [(680, 290), (892, 302), (889, 528), (680, 534)]\n",
      "4818\n",
      "outer_poly [(493, 352), (786, 318), (794, 647), (493, 649)]\n",
      "4819\n",
      "outer_poly [(458, 350), (731, 323), (742, 629), (462, 629)]\n",
      "4820\n",
      "outer_poly [(657, 355), (797, 367), (798, 563), (657, 574)]\n",
      "4821\n"
     ]
    },
    {
     "name": "stderr",
     "output_type": "stream",
     "text": [
      "\r",
      " 98%|█████████▊| 4824/4943 [03:06<00:04, 25.74it/s]"
     ]
    },
    {
     "name": "stdout",
     "output_type": "stream",
     "text": [
      "outer_poly [(808, 307), (1000, 335), (1000, 598), (806, 611)]\n",
      "4822\n",
      "outer_poly [(563, 375), (781, 385), (780, 614), (563, 619)]\n",
      "4823\n",
      "outer_poly [(475, 300), (772, 344), (771, 674), (463, 685)]\n",
      "4824\n",
      "outer_poly [(50, 792), (646, 712), (668, 156), (322, 4), (112, 4)]\n",
      "4825\n",
      "outer_poly [(540, 289), (643, 329), (637, 553), (532, 563)]\n",
      "4826\n",
      "outer_poly [(424, 240), (839, 251), (844, 664), (418, 673)]\n"
     ]
    },
    {
     "name": "stderr",
     "output_type": "stream",
     "text": [
      " 98%|█████████▊| 4830/4943 [03:06<00:04, 25.54it/s]"
     ]
    },
    {
     "name": "stdout",
     "output_type": "stream",
     "text": [
      "4827\n",
      "outer_poly [(245, 21), (991, 57), (1008, 810), (210, 808)]\n",
      "4828\n",
      "outer_poly [(178, 12), (922, 68), (926, 802), (130, 806)]\n",
      "4829\n",
      "outer_poly [(422, 278), (854, 330), (856, 774), (396, 770)]\n",
      "4830\n",
      "outer_poly [(624, 308), (894, 290), (906, 574), (632, 578)]\n",
      "4831\n",
      "outer_poly [(534, 230), (1048, 170), (1072, 764), (526, 730)]\n",
      "4832\n"
     ]
    },
    {
     "name": "stderr",
     "output_type": "stream",
     "text": [
      " 98%|█████████▊| 4836/4943 [03:06<00:04, 25.83it/s]"
     ]
    },
    {
     "name": "stdout",
     "output_type": "stream",
     "text": [
      "outer_poly [(528, 164), (724, 0), (802, 0), (794, 864), (732, 864), (532, 702)]\n",
      "4833\n",
      "outer_poly [(408, 306), (738, 290), (742, 652), (406, 640)]\n",
      "4834\n",
      "outer_poly [(694, 372), (770, 312), (772, 632), (700, 616)]\n",
      "4835\n",
      "outer_poly [(698, 408), (766, 372), (772, 602), (696, 586)]\n",
      "4836\n",
      "outer_poly [(544, 284), (714, 385), (718, 726), (542, 749)]\n",
      "4837\n",
      "outer_poly [(520, 178), (1086, 131), (1131, 731), (515, 730)]\n"
     ]
    },
    {
     "name": "stderr",
     "output_type": "stream",
     "text": [
      " 98%|█████████▊| 4842/4943 [03:06<00:03, 26.74it/s]"
     ]
    },
    {
     "name": "stdout",
     "output_type": "stream",
     "text": [
      "4838\n",
      "outer_poly [(493, 146), (699, 334), (702, 761), (478, 790)]\n",
      "4839\n",
      "outer_poly [(452, 344), (730, 380), (736, 674), (450, 688)]\n",
      "4840\n",
      "outer_poly [(424, 294), (876, 246), (904, 748), (418, 744)]\n",
      "4841\n",
      "outer_poly [(546, 406), (624, 364), (630, 604), (546, 600)]\n",
      "4842\n",
      "outer_poly [(554, 418), (678, 324), (684, 736), (556, 728)]\n",
      "4843\n",
      "outer_poly [(390, 250), (676, 294), (676, 602), (390, 608)]\n"
     ]
    },
    {
     "name": "stderr",
     "output_type": "stream",
     "text": [
      " 98%|█████████▊| 4848/4943 [03:06<00:03, 26.27it/s]"
     ]
    },
    {
     "name": "stdout",
     "output_type": "stream",
     "text": [
      "4844\n",
      "outer_poly [(526, 384), (722, 322), (734, 640), (534, 646)]\n",
      "4845\n",
      "outer_poly [(750, 448), (875, 447), (881, 588), (753, 591)]\n",
      "4846\n",
      "outer_poly [(405, 332), (559, 333), (557, 486), (407, 484)]\n",
      "4847\n",
      "outer_poly [(393, 220), (835, 236), (835, 673), (385, 682)]\n",
      "4848\n",
      "outer_poly [(574, 351), (859, 377), (860, 685), (574, 701)]\n",
      "4849\n",
      "outer_poly [(537, 351), (842, 359), (844, 665), (538, 674)]\n"
     ]
    },
    {
     "name": "stderr",
     "output_type": "stream",
     "text": [
      " 98%|█████████▊| 4854/4943 [03:07<00:03, 27.26it/s]"
     ]
    },
    {
     "name": "stdout",
     "output_type": "stream",
     "text": [
      "4850\n",
      "outer_poly [(391, 414), (556, 392), (561, 644), (391, 637)]\n",
      "4851\n",
      "outer_poly [(433, 300), (627, 251), (629, 627), (433, 596)]\n",
      "4852\n",
      "outer_poly [(421, 77), (641, 230), (640, 656), (410, 730)]\n",
      "4853\n",
      "outer_poly [(490, 300), (805, 313), (810, 628), (490, 637)]\n",
      "4854\n",
      "outer_poly [(508, 321), (753, 313), (755, 570), (508, 565)]\n",
      "4855\n",
      "outer_poly [(264, 137), (776, 82), (768, 691), (253, 656)]\n"
     ]
    },
    {
     "name": "stderr",
     "output_type": "stream",
     "text": [
      " 98%|█████████▊| 4860/4943 [03:07<00:02, 28.13it/s]"
     ]
    },
    {
     "name": "stdout",
     "output_type": "stream",
     "text": [
      "4856\n",
      "outer_poly [(503, 354), (618, 333), (620, 557), (503, 548)]\n",
      "4857\n",
      "outer_poly [(577, 352), (822, 364), (822, 614), (573, 619)]\n",
      "4858\n",
      "outer_poly [(366, 207), (797, 253), (809, 687), (354, 707)]\n",
      "4859\n",
      "outer_poly [(366, 306), (744, 330), (755, 709), (356, 720)]\n",
      "4860\n",
      "outer_poly [(437, 311), (794, 289), (801, 676), (433, 672)]\n",
      "4861\n",
      "outer_poly [(438, 388), (627, 354), (633, 645), (441, 637)]\n"
     ]
    },
    {
     "name": "stderr",
     "output_type": "stream",
     "text": [
      " 98%|█████████▊| 4866/4943 [03:07<00:02, 27.29it/s]"
     ]
    },
    {
     "name": "stdout",
     "output_type": "stream",
     "text": [
      "4862\n",
      "outer_poly [(464, 373), (686, 392), (684, 620), (462, 624)]\n",
      "4863\n",
      "outer_poly [(443, 106), (893, 177), (909, 635), (434, 647)]\n",
      "4864\n",
      "outer_poly [(363, 150), (900, 185), (913, 713), (344, 722)]\n",
      "4865\n",
      "outer_poly [(520, 302), (719, 198), (723, 656), (523, 643)]\n",
      "4866\n",
      "outer_poly [(623, 265), (718, 310), (718, 554), (628, 562)]\n",
      "4867\n",
      "outer_poly [(550, 309), (738, 331), (740, 549), (545, 554)]\n"
     ]
    },
    {
     "name": "stderr",
     "output_type": "stream",
     "text": [
      " 99%|█████████▊| 4872/4943 [03:07<00:02, 27.59it/s]"
     ]
    },
    {
     "name": "stdout",
     "output_type": "stream",
     "text": [
      "4868\n",
      "outer_poly [(422, 255), (871, 197), (884, 722), (405, 707)]\n",
      "4869\n",
      "outer_poly [(549, 303), (786, 285), (789, 540), (553, 537)]\n",
      "4870\n",
      "outer_poly [(503, 301), (743, 170), (755, 728), (501, 691)]\n",
      "4871\n",
      "outer_poly [(600, 434), (716, 397), (718, 658), (600, 648)]\n",
      "4872\n",
      "outer_poly [(461, 347), (719, 323), (719, 621), (461, 608)]\n",
      "4873\n",
      "outer_poly [(496, 168), (986, 92), (988, 686), (505, 643)]\n"
     ]
    },
    {
     "name": "stderr",
     "output_type": "stream",
     "text": [
      " 99%|█████████▊| 4878/4943 [03:08<00:02, 26.97it/s]"
     ]
    },
    {
     "name": "stdout",
     "output_type": "stream",
     "text": [
      "4874\n",
      "outer_poly [(472, 40), (743, 264), (742, 726), (437, 735)]\n",
      "4875\n",
      "outer_poly [(509, 317), (602, 297), (604, 516), (512, 500)]\n",
      "4876\n",
      "outer_poly [(293, 149), (764, 222), (779, 689), (269, 698)]\n",
      "4877\n",
      "outer_poly [(210, 173), (789, 144), (792, 768), (212, 744)]\n",
      "4878\n",
      "outer_poly [(422, 205), (942, 181), (937, 742), (420, 709)]\n",
      "4879\n",
      "outer_poly [(366, 322), (727, 325), (740, 691), (358, 690)]\n"
     ]
    },
    {
     "name": "stderr",
     "output_type": "stream",
     "text": [
      " 99%|█████████▉| 4884/4943 [03:08<00:02, 26.61it/s]"
     ]
    },
    {
     "name": "stdout",
     "output_type": "stream",
     "text": [
      "4880\n",
      "outer_poly [(422, 368), (615, 303), (618, 654), (417, 652)]\n",
      "4881\n",
      "outer_poly [(561, 414), (697, 366), (706, 657), (561, 652)]\n",
      "4882\n",
      "outer_poly [(378, 0), (924, 180), (936, 772), (448, 864), (364, 864)]\n",
      "4883\n",
      "outer_poly [(384, 2), (368, 864), (534, 862), (946, 772), (930, 178)]\n",
      "4884\n",
      "outer_poly [(378, 0), (754, 214), (768, 742), (432, 864), (376, 864)]\n",
      "4885\n",
      "outer_poly [(467, 235), (865, 266), (865, 664), (457, 674)]\n"
     ]
    },
    {
     "name": "stderr",
     "output_type": "stream",
     "text": [
      " 99%|█████████▉| 4890/4943 [03:08<00:01, 27.27it/s]"
     ]
    },
    {
     "name": "stdout",
     "output_type": "stream",
     "text": [
      "4886\n",
      "outer_poly [(607, 373), (842, 384), (846, 629), (607, 636)]\n",
      "4887\n",
      "outer_poly [(549, 219), (941, 239), (942, 634), (550, 649)]\n",
      "4888\n",
      "outer_poly [(478, 245), (858, 242), (856, 621), (478, 620)]\n",
      "4889\n",
      "outer_poly [(409, 273), (711, 291), (713, 591), (406, 598)]\n",
      "4890\n",
      "outer_poly [(451, 306), (742, 301), (746, 595), (458, 600)]\n",
      "4891\n",
      "outer_poly [(552, 141), (785, 245), (784, 606), (552, 636)]\n"
     ]
    },
    {
     "name": "stderr",
     "output_type": "stream",
     "text": [
      " 99%|█████████▉| 4896/4943 [03:08<00:01, 27.57it/s]"
     ]
    },
    {
     "name": "stdout",
     "output_type": "stream",
     "text": [
      "4892\n",
      "outer_poly [(619, 314), (996, 314), (1005, 695), (615, 689)]\n",
      "4893\n",
      "outer_poly [(582, 383), (709, 348), (709, 618), (582, 602)]\n",
      "4894\n",
      "outer_poly [(536, 289), (815, 168), (830, 749), (536, 698)]\n",
      "4895\n",
      "outer_poly [(421, 226), (702, 87), (716, 691), (420, 653)]\n",
      "4896\n",
      "outer_poly [(464, 13), (670, 270), (674, 752), (446, 810)]\n",
      "4897\n",
      "outer_poly [(366, 234), (739, 305), (748, 701), (351, 714)]\n"
     ]
    },
    {
     "name": "stderr",
     "output_type": "stream",
     "text": [
      " 99%|█████████▉| 4902/4943 [03:08<00:01, 27.82it/s]"
     ]
    },
    {
     "name": "stdout",
     "output_type": "stream",
     "text": [
      "4898\n",
      "outer_poly [(424, 227), (823, 82), (856, 703), (424, 690)]\n",
      "4899\n",
      "outer_poly [(429, 110), (711, 309), (718, 756), (400, 771)]\n",
      "4900\n",
      "outer_poly [(453, 280), (639, 88), (687, 685), (475, 685)]\n",
      "4901\n",
      "outer_poly [(552, 356), (682, 251), (710, 662), (566, 662)]\n",
      "4902\n",
      "outer_poly [(563, 298), (771, 236), (777, 653), (566, 619)]\n",
      "4903\n",
      "outer_poly [(451, 119), (999, 146), (994, 680), (459, 706)]\n"
     ]
    },
    {
     "name": "stderr",
     "output_type": "stream",
     "text": [
      " 99%|█████████▉| 4908/4943 [03:09<00:01, 27.78it/s]"
     ]
    },
    {
     "name": "stdout",
     "output_type": "stream",
     "text": [
      "4904\n",
      "outer_poly [(566, 228), (925, 231), (922, 587), (571, 596)]\n",
      "4905\n",
      "outer_poly [(644, 269), (907, 273), (904, 537), (644, 536)]\n",
      "4906\n",
      "outer_poly [(577, 270), (841, 268), (839, 530), (581, 532)]\n",
      "4907\n",
      "outer_poly [(375, 87), (1048, 54), (1041, 755), (380, 728)]\n",
      "4908\n",
      "outer_poly [(526, 409), (761, 425), (761, 678), (521, 689)]\n",
      "4909\n",
      "outer_poly [(611, 334), (868, 333), (874, 592), (616, 595)]\n"
     ]
    },
    {
     "name": "stderr",
     "output_type": "stream",
     "text": [
      " 99%|█████████▉| 4915/4943 [03:09<00:00, 29.06it/s]"
     ]
    },
    {
     "name": "stdout",
     "output_type": "stream",
     "text": [
      "4910\n",
      "outer_poly [(335, 139), (1017, 86), (1032, 836), (330, 806)]\n",
      "4911\n",
      "outer_poly \n",
      "gt annotation error has been detected in img ID: 4911\n",
      "skipping img\n",
      "4912\n",
      "outer_poly [(366, 406), (550, 386), (550, 658), (368, 648)]\n",
      "4913\n",
      "outer_poly [(520, 238), (678, 312), (678, 624), (516, 652)]\n",
      "4914\n",
      "outer_poly [(346, 106), (814, 192), (818, 670), (340, 708)]\n",
      "4915\n",
      "outer_poly [(429, 201), (844, 236), (850, 656), (422, 673)]\n",
      "4916\n"
     ]
    },
    {
     "name": "stderr",
     "output_type": "stream",
     "text": [
      "100%|█████████▉| 4921/4943 [03:09<00:00, 27.75it/s]"
     ]
    },
    {
     "name": "stdout",
     "output_type": "stream",
     "text": [
      "outer_poly [(491, 346), (764, 356), (765, 629), (487, 632)]\n",
      "4917\n",
      "outer_poly [(366, 190), (831, 230), (838, 690), (358, 714)]\n",
      "4918\n",
      "outer_poly [(573, 294), (817, 245), (822, 623), (574, 599)]\n",
      "4919\n",
      "outer_poly [(359, 289), (561, 244), (561, 581), (359, 565)]\n",
      "4920\n",
      "outer_poly [(406, 248), (673, 173), (678, 636), (409, 606)]\n",
      "4921\n",
      "outer_poly [(391, 198), (723, 86), (727, 672), (393, 623)]\n"
     ]
    },
    {
     "name": "stderr",
     "output_type": "stream",
     "text": [
      "\r",
      "100%|█████████▉| 4924/4943 [03:09<00:00, 27.31it/s]"
     ]
    },
    {
     "name": "stdout",
     "output_type": "stream",
     "text": [
      "4922\n",
      "outer_poly [(554, 334), (624, 288), (625, 573), (553, 553)]\n",
      "4923\n",
      "outer_poly [(487, 227), (917, 137), (939, 716), (482, 687)]\n",
      "4924\n",
      "outer_poly [(549, 463), (680, 434), (684, 672), (549, 666)]\n",
      "4925\n",
      "outer_poly [(621, 461), (740, 426), (744, 674), (627, 666)]\n",
      "4926\n",
      "outer_poly [(462, 119), (784, 261), (785, 694), (441, 726)]\n"
     ]
    },
    {
     "name": "stderr",
     "output_type": "stream",
     "text": [
      "100%|█████████▉| 4930/4943 [03:09<00:00, 25.89it/s]"
     ]
    },
    {
     "name": "stdout",
     "output_type": "stream",
     "text": [
      "4927\n",
      "outer_poly [(511, 230), (768, 319), (775, 676), (508, 701)]\n",
      "4928\n",
      "outer_poly [(505, 264), (765, 102), (781, 672), (509, 665)]\n",
      "4929\n",
      "outer_poly [(521, 301), (645, 219), (648, 585), (521, 582)]\n",
      "4930\n",
      "outer_poly [(457, 136), (867, 270), (887, 740), (437, 763)]\n",
      "4931\n",
      "outer_poly [(377, 241), (786, 288), (796, 698), (359, 706)]\n",
      "4932\n",
      "outer_poly [(428, 128), (907, 202), (924, 694), (418, 719)]\n"
     ]
    },
    {
     "name": "stderr",
     "output_type": "stream",
     "text": [
      "100%|█████████▉| 4936/4943 [03:10<00:00, 26.07it/s]"
     ]
    },
    {
     "name": "stdout",
     "output_type": "stream",
     "text": [
      "4933\n",
      "outer_poly [(437, 183), (872, 219), (880, 651), (429, 665)]\n",
      "4934\n",
      "outer_poly [(397, 177), (937, 124), (965, 714), (392, 707)]\n",
      "4935\n",
      "outer_poly [(474, 293), (793, 210), (808, 677), (475, 661)]\n",
      "4936\n",
      "outer_poly [(516, 315), (811, 264), (817, 662), (515, 641)]\n",
      "4937\n",
      "outer_poly [(559, 315), (858, 354), (858, 674), (550, 678)]\n",
      "4938\n"
     ]
    },
    {
     "name": "stderr",
     "output_type": "stream",
     "text": [
      "100%|██████████| 4943/4943 [03:10<00:00, 25.96it/s]"
     ]
    },
    {
     "name": "stdout",
     "output_type": "stream",
     "text": [
      "outer_poly [(582, 343), (850, 373), (855, 661), (581, 662)]\n",
      "4939\n",
      "outer_poly [(546, 402), (724, 362), (734, 662), (552, 648)]\n",
      "4940\n",
      "outer_poly [(548, 417), (651, 387), (652, 625), (556, 614)]\n",
      "4941\n",
      "outer_poly [(525, 412), (608, 372), (614, 647), (536, 633)]\n",
      "4942\n",
      "outer_poly [(266, 52), (444, 2), (1208, 2), (1252, 864), (240, 862)]\n"
     ]
    },
    {
     "name": "stderr",
     "output_type": "stream",
     "text": [
      "\n"
     ]
    },
    {
     "data": {
      "image/png": "[encoded data removed]",
      "text/plain": [
       "<Figure size 432x288 with 1 Axes>"
      ]
     },
     "metadata": {
      "needs_background": "light"
     },
     "output_type": "display_data"
    }
   ],
   "source": [
    "# testing annotation all together \n",
    "\n",
    "def get_mask(img_shape, poly,display=False):\n",
    "     \n",
    "\n",
    "    mask = np.zeros(img_shape[:2], dtype=np.uint8)\n",
    "    mask = PIL.Image.fromarray(mask)\n",
    "    draw = PIL.ImageDraw.Draw(mask)\n",
    "    polygons = []\n",
    "    for pt in poly:\n",
    "        a = (int(pt[0]), int(pt[1]))\n",
    "        polygons.append(a)\n",
    "    \n",
    "    draw.polygon(xy=polygons, outline=1, fill=1)\n",
    "    mask = np.array(mask, dtype=bool)\n",
    "    if display:\n",
    "        plt.imshow(mask)\n",
    "        plt.show\n",
    "    return mask\n",
    "#getting the final mask\n",
    "\n",
    "for i in tqdm(range(0,len(df_enet))): # use one image only for testing\n",
    "    print(i)\n",
    "    img=cv2.imread(df_enet['img_path'][i])\n",
    "    row=img.shape[0]\n",
    "    col=img.shape[1]\n",
    "    img_shape = (row,col)\n",
    "    outer_poly=df_enet['outer_poly'][i] \n",
    "     \n",
    "    inner_poly=df_enet['inner_poly'][i]\n",
    "    print('outer_poly',outer_poly)\n",
    "    if len(outer_poly) < 2:\n",
    "        print('gt annotation error has been detected in img ID:', i)\n",
    "        print('skipping img')\n",
    "        \n",
    "    else: \n",
    "        outer_mask=get_mask(img_shape,outer_poly,display=False)\n",
    "        inner_mask=get_mask(img_shape,inner_poly,display=False)\n",
    "        inner_mask.dtype='uint8'\n",
    "        outer_mask.dtype='uint8'\n",
    "        final_mask=cv2.subtract(outer_mask,inner_mask)\n",
    "        plt.imshow(cv2.bitwise_and(img,img,mask=final_mask))\n",
    "        plt.show"
   ]
  },
  {
   "cell_type": "code",
   "execution_count": 14,
   "metadata": {},
   "outputs": [
    {
     "name": "stdout",
     "output_type": "stream",
     "text": [
      "4943\n"
     ]
    }
   ],
   "source": [
    "print(len(df_enet))"
   ]
  },
  {
   "cell_type": "markdown",
   "metadata": {},
   "source": [
    "Create the ENet model\n",
    "We decided to to split the model to three sub classes:\n",
    "\n",
    "1) Initial block\n",
    "\n",
    "2) RDDNeck - class for regular, downsampling and dilated bottlenecks\n",
    "\n",
    "3) ASNeck - class for asymetric bottlenecks\n",
    "\n",
    "4) UBNeck - class for upsampling bottlenecks"
   ]
  },
  {
   "cell_type": "code",
   "execution_count": 15,
   "metadata": {},
   "outputs": [],
   "source": [
    "class InitialBlock(nn.Module):\n",
    "  \n",
    "  # Initial block of the model:\n",
    "  #         Input\n",
    "  #        /     \\\n",
    "  #       /       \\\n",
    "  #maxpool2d    conv2d-3x3\n",
    "  #       \\       /  \n",
    "  #        \\     /\n",
    "  #      concatenate\n",
    "   \n",
    "    def __init__ (self,in_channels = 3,out_channels = 13):\n",
    "        super().__init__()\n",
    "\n",
    "\n",
    "        self.maxpool = nn.MaxPool2d(kernel_size=2, \n",
    "                                      stride = 2, \n",
    "                                      padding = 0)\n",
    "\n",
    "        self.conv = nn.Conv2d(in_channels, \n",
    "                                out_channels,\n",
    "                                kernel_size = 3,\n",
    "                                stride = 2, \n",
    "                                padding = 1)\n",
    "\n",
    "        self.prelu = nn.PReLU(16)\n",
    "\n",
    "        self.batchnorm = nn.BatchNorm2d(out_channels)\n",
    "  \n",
    "    def forward(self, x):\n",
    "        \n",
    "        main = self.conv(x)\n",
    "        main = self.batchnorm(main)\n",
    "        \n",
    "        side = self.maxpool(x)\n",
    "        \n",
    "        # concatenating on the channels axis\n",
    "        x = torch.cat((main, side), dim=1)\n",
    "        x = self.prelu(x)\n",
    "        \n",
    "        return x"
   ]
  },
  {
   "cell_type": "code",
   "execution_count": 16,
   "metadata": {},
   "outputs": [],
   "source": [
    "class UBNeck(nn.Module):\n",
    "    \n",
    "  # Upsampling bottleneck:\n",
    "  #     Bottleneck Input\n",
    "  #        /        \\\n",
    "  #       /          \\\n",
    "  # conv2d-1x1     convTrans2d-1x1\n",
    "  #      |             | PReLU\n",
    "  #      |         convTrans2d-3x3\n",
    "  #      |             | PReLU\n",
    "  #      |         convTrans2d-1x1\n",
    "  #      |             |\n",
    "  # maxunpool2d    Regularizer\n",
    "  #       \\           /  \n",
    "  #        \\         /\n",
    "  #      Summing + PReLU\n",
    "  #\n",
    "  #  Params: \n",
    "  #  projection_ratio - ratio between input and output channels\n",
    "  #  relu - if True: relu used as the activation function else: Prelu us used\n",
    "  \n",
    "    def __init__(self, in_channels, out_channels, relu=False, projection_ratio=4):\n",
    "        \n",
    "        super().__init__()\n",
    "        \n",
    "        # Define class variables\n",
    "        self.in_channels = in_channels\n",
    "        self.reduced_depth = int(in_channels / projection_ratio)\n",
    "        self.out_channels = out_channels\n",
    "        \n",
    "        \n",
    "        if relu:\n",
    "            activation = nn.ReLU()\n",
    "        else:\n",
    "            activation = nn.PReLU()\n",
    "        \n",
    "        self.unpool = nn.MaxUnpool2d(kernel_size = 2,\n",
    "                                     stride = 2)\n",
    "        \n",
    "        self.main_conv = nn.Conv2d(in_channels = self.in_channels,\n",
    "                                    out_channels = self.out_channels,\n",
    "                                    kernel_size = 1)\n",
    "        \n",
    "        self.dropout = nn.Dropout2d(p=0.1)\n",
    "        \n",
    "        \n",
    "        self.convt1 = nn.ConvTranspose2d(in_channels = self.in_channels,\n",
    "                               out_channels = self.reduced_depth,\n",
    "                               kernel_size = 1,\n",
    "                               padding = 0,\n",
    "                               bias = False)\n",
    "        \n",
    "        \n",
    "        self.prelu1 = activation\n",
    "        \n",
    "        # This layer used for Upsampling\n",
    "        self.convt2 = nn.ConvTranspose2d(in_channels = self.reduced_depth,\n",
    "                                  out_channels = self.reduced_depth,\n",
    "                                  kernel_size = 3,\n",
    "                                  stride = 2,\n",
    "                                  padding = 1,\n",
    "                                  output_padding = 1,\n",
    "                                  bias = False)\n",
    "        \n",
    "        self.prelu2 = activation\n",
    "        \n",
    "        self.convt3 = nn.ConvTranspose2d(in_channels = self.reduced_depth,\n",
    "                                  out_channels = self.out_channels,\n",
    "                                  kernel_size = 1,\n",
    "                                  padding = 0,\n",
    "                                  bias = False)\n",
    "        \n",
    "        self.prelu3 = activation\n",
    "        \n",
    "        self.batchnorm = nn.BatchNorm2d(self.reduced_depth)\n",
    "        self.batchnorm2 = nn.BatchNorm2d(self.out_channels)\n",
    "        \n",
    "    def forward(self, x, indices):\n",
    "        x_copy = x\n",
    "        \n",
    "        # Side Branch\n",
    "        x = self.convt1(x)\n",
    "        x = self.batchnorm(x)\n",
    "        x = self.prelu1(x)\n",
    "        \n",
    "        x = self.convt2(x)\n",
    "        x = self.batchnorm(x)\n",
    "        x = self.prelu2(x)\n",
    "        \n",
    "        x = self.convt3(x)\n",
    "        x = self.batchnorm2(x)\n",
    "        \n",
    "        x = self.dropout(x)\n",
    "        \n",
    "        # Main Branch\n",
    "        \n",
    "        x_copy = self.main_conv(x_copy)\n",
    "        x_copy = self.unpool(x_copy, indices, output_size=x.size())\n",
    "        \n",
    "        # summing the main and side branches\n",
    "        x = x + x_copy\n",
    "        x = self.prelu3(x)\n",
    "        \n",
    "        return x"
   ]
  },
  {
   "cell_type": "code",
   "execution_count": 17,
   "metadata": {},
   "outputs": [],
   "source": [
    "class RDDNeck(nn.Module):\n",
    "    def __init__(self, dilation, in_channels, out_channels, down_flag, relu=False, projection_ratio=4, p=0.1):\n",
    "      \n",
    "  # Regular|Dilated|Downsampling bottlenecks:\n",
    "  #\n",
    "  #     Bottleneck Input\n",
    "  #        /        \\\n",
    "  #       /          \\\n",
    "  # maxpooling2d   conv2d-1x1\n",
    "  #      |             | PReLU\n",
    "  #      |         conv2d-3x3\n",
    "  #      |             | PReLU\n",
    "  #      |         conv2d-1x1\n",
    "  #      |             |\n",
    "  #  Padding2d     Regularizer\n",
    "  #       \\           /  \n",
    "  #        \\         /\n",
    "  #      Summing + PReLU\n",
    "  #\n",
    "  # Params: \n",
    "  #  dilation (bool) - if True: creating dilation bottleneck\n",
    "  #  down_flag (bool) - if True: creating downsampling bottleneck\n",
    "  #  projection_ratio - ratio between input and output channels\n",
    "  #  relu - if True: relu used as the activation function else: Prelu us used\n",
    "  #  p - dropout ratio\n",
    "        \n",
    "        super().__init__()\n",
    "        \n",
    "        # Define class variables\n",
    "        self.in_channels = in_channels\n",
    "        \n",
    "        self.out_channels = out_channels\n",
    "        self.dilation = dilation\n",
    "        self.down_flag = down_flag\n",
    "        \n",
    "        # calculating the number of reduced channels\n",
    "        if down_flag:\n",
    "            self.stride = 2\n",
    "            self.reduced_depth = int(in_channels // projection_ratio)\n",
    "        else:\n",
    "            self.stride = 1\n",
    "            self.reduced_depth = int(out_channels // projection_ratio)\n",
    "        \n",
    "        if relu:\n",
    "            activation = nn.ReLU()\n",
    "        else:\n",
    "            activation = nn.PReLU()\n",
    "        \n",
    "        self.maxpool = nn.MaxPool2d(kernel_size = 2,\n",
    "                                      stride = 2,\n",
    "                                      padding = 0, return_indices=True)\n",
    "        \n",
    "\n",
    "        \n",
    "        self.dropout = nn.Dropout2d(p=p)\n",
    "\n",
    "        self.conv1 = nn.Conv2d(in_channels = self.in_channels,\n",
    "                               out_channels = self.reduced_depth,\n",
    "                               kernel_size = 1,\n",
    "                               stride = 1,\n",
    "                               padding = 0,\n",
    "                               bias = False,\n",
    "                               dilation = 1)\n",
    "        \n",
    "        self.prelu1 = activation\n",
    "        \n",
    "        self.conv2 = nn.Conv2d(in_channels = self.reduced_depth,\n",
    "                                  out_channels = self.reduced_depth,\n",
    "                                  kernel_size = 3,\n",
    "                                  stride = self.stride,\n",
    "                                  padding = self.dilation,\n",
    "                                  bias = True,\n",
    "                                  dilation = self.dilation)\n",
    "                                  \n",
    "        self.prelu2 = activation\n",
    "        \n",
    "        self.conv3 = nn.Conv2d(in_channels = self.reduced_depth,\n",
    "                                  out_channels = self.out_channels,\n",
    "                                  kernel_size = 1,\n",
    "                                  stride = 1,\n",
    "                                  padding = 0,\n",
    "                                  bias = False,\n",
    "                                  dilation = 1)\n",
    "        \n",
    "        self.prelu3 = activation\n",
    "        \n",
    "        self.batchnorm = nn.BatchNorm2d(self.reduced_depth)\n",
    "        self.batchnorm2 = nn.BatchNorm2d(self.out_channels)\n",
    "        \n",
    "        \n",
    "    def forward(self, x):\n",
    "        \n",
    "        bs = x.size()[0]\n",
    "        x_copy = x\n",
    "        \n",
    "        # Side Branch\n",
    "        x = self.conv1(x)\n",
    "        x = self.batchnorm(x)\n",
    "        x = self.prelu1(x)\n",
    "        \n",
    "        x = self.conv2(x)\n",
    "        x = self.batchnorm(x)\n",
    "        x = self.prelu2(x)\n",
    "        \n",
    "        x = self.conv3(x)\n",
    "        x = self.batchnorm2(x)\n",
    "                \n",
    "        x = self.dropout(x)\n",
    "        \n",
    "        # Main Branch\n",
    "        if self.down_flag:\n",
    "            x_copy, indices = self.maxpool(x_copy)\n",
    "          \n",
    "        if self.in_channels != self.out_channels:\n",
    "            out_shape = self.out_channels - self.in_channels\n",
    "            \n",
    "            #padding and concatenating in order to match the channels axis of the side and main branches\n",
    "            extras = torch.zeros((bs, out_shape, x.shape[2], x.shape[3]))\n",
    "            if torch.cuda.is_available():\n",
    "                extras = extras.cuda()\n",
    "            x_copy = torch.cat((x_copy, extras), dim = 1)\n",
    "\n",
    "        # Summing main and side branches\n",
    "        x = x + x_copy\n",
    "        x = self.prelu3(x)\n",
    "        \n",
    "        if self.down_flag:\n",
    "            return x, indices\n",
    "        else:\n",
    "            return x"
   ]
  },
  {
   "cell_type": "code",
   "execution_count": 18,
   "metadata": {},
   "outputs": [],
   "source": [
    "class ASNeck(nn.Module):\n",
    "    def __init__(self, in_channels, out_channels, projection_ratio=4):\n",
    "      \n",
    "  # Asymetric bottleneck:\n",
    "  #\n",
    "  #     Bottleneck Input\n",
    "  #        /        \\\n",
    "  #       /          \\\n",
    "  #      |         conv2d-1x1\n",
    "  #      |             | PReLU\n",
    "  #      |         conv2d-1x5\n",
    "  #      |             |\n",
    "  #      |         conv2d-5x1\n",
    "  #      |             | PReLU\n",
    "  #      |         conv2d-1x1\n",
    "  #      |             |\n",
    "  #  Padding2d     Regularizer\n",
    "  #       \\           /  \n",
    "  #        \\         /\n",
    "  #      Summing + PReLU\n",
    "  #\n",
    "  # Params:    \n",
    "  #  projection_ratio - ratio between input and output channels\n",
    "        \n",
    "        super().__init__()\n",
    "        \n",
    "        # Define class variables\n",
    "        self.in_channels = in_channels\n",
    "        self.reduced_depth = int(in_channels / projection_ratio)\n",
    "        self.out_channels = out_channels\n",
    "        \n",
    "        self.dropout = nn.Dropout2d(p=0.1)\n",
    "        \n",
    "        self.conv1 = nn.Conv2d(in_channels = self.in_channels,\n",
    "                               out_channels = self.reduced_depth,\n",
    "                               kernel_size = 1,\n",
    "                               stride = 1,\n",
    "                               padding = 0,\n",
    "                               bias = False)\n",
    "        \n",
    "        self.prelu1 = nn.PReLU()\n",
    "        \n",
    "        self.conv21 = nn.Conv2d(in_channels = self.reduced_depth,\n",
    "                                  out_channels = self.reduced_depth,\n",
    "                                  kernel_size = (1, 5),\n",
    "                                  stride = 1,\n",
    "                                  padding = (0, 2),\n",
    "                                  bias = False)\n",
    "        \n",
    "        self.conv22 = nn.Conv2d(in_channels = self.reduced_depth,\n",
    "                                  out_channels = self.reduced_depth,\n",
    "                                  kernel_size = (5, 1),\n",
    "                                  stride = 1,\n",
    "                                  padding = (2, 0),\n",
    "                                  bias = False)\n",
    "        \n",
    "        self.prelu2 = nn.PReLU()\n",
    "        \n",
    "        self.conv3 = nn.Conv2d(in_channels = self.reduced_depth,\n",
    "                                  out_channels = self.out_channels,\n",
    "                                  kernel_size = 1,\n",
    "                                  stride = 1,\n",
    "                                  padding = 0,\n",
    "                                  bias = False)\n",
    "        \n",
    "        self.prelu3 = nn.PReLU()\n",
    "        \n",
    "        self.batchnorm = nn.BatchNorm2d(self.reduced_depth)\n",
    "        self.batchnorm2 = nn.BatchNorm2d(self.out_channels)\n",
    "        \n",
    "    def forward(self, x):\n",
    "        bs = x.size()[0]\n",
    "        x_copy = x\n",
    "        \n",
    "        # Side Branch\n",
    "        x = self.conv1(x)\n",
    "        x = self.batchnorm(x)\n",
    "        x = self.prelu1(x)\n",
    "        \n",
    "        x = self.conv21(x)\n",
    "        x = self.conv22(x)\n",
    "        x = self.batchnorm(x)\n",
    "        x = self.prelu2(x)\n",
    "        \n",
    "        x = self.conv3(x)\n",
    "                \n",
    "        x = self.dropout(x)\n",
    "        x = self.batchnorm2(x)\n",
    "        \n",
    "        # Main Branch\n",
    "        \n",
    "        if self.in_channels != self.out_channels:\n",
    "            out_shape = self.out_channels - self.in_channels\n",
    "            \n",
    "            #padding and concatenating in order to match the channels axis of the side and main branches\n",
    "            extras = torch.zeros((bs, out_shape, x.shape[2], x.shape[3]))\n",
    "            if torch.cuda.is_available():\n",
    "                extras = extras.cuda()\n",
    "            x_copy = torch.cat((x_copy, extras), dim = 1)\n",
    "        \n",
    "        # Summing main and side branches\n",
    "        x = x + x_copy\n",
    "        x = self.prelu3(x)\n",
    "        \n",
    "        return x"
   ]
  },
  {
   "cell_type": "code",
   "execution_count": 19,
   "metadata": {},
   "outputs": [],
   "source": [
    "class ENet(nn.Module):\n",
    "  \n",
    "  # Creating Enet model!\n",
    "  \n",
    "    def __init__(self, C):\n",
    "        super().__init__()\n",
    "        \n",
    "        # Define class variables\n",
    "        # C - number of classes\n",
    "        self.C = C\n",
    "        \n",
    "        # The initial block\n",
    "        self.init = InitialBlock()\n",
    "        \n",
    "        \n",
    "        # The first bottleneck\n",
    "        self.b10 = RDDNeck(dilation=1, \n",
    "                           in_channels=16, \n",
    "                           out_channels=64, \n",
    "                           down_flag=True, \n",
    "                           p=0.01)\n",
    "        \n",
    "        self.b11 = RDDNeck(dilation=1, \n",
    "                           in_channels=64, \n",
    "                           out_channels=64, \n",
    "                           down_flag=False, \n",
    "                           p=0.01)\n",
    "        \n",
    "        self.b12 = RDDNeck(dilation=1, \n",
    "                           in_channels=64, \n",
    "                           out_channels=64, \n",
    "                           down_flag=False, \n",
    "                           p=0.01)\n",
    "        \n",
    "        self.b13 = RDDNeck(dilation=1, \n",
    "                           in_channels=64, \n",
    "                           out_channels=64, \n",
    "                           down_flag=False, \n",
    "                           p=0.01)\n",
    "        \n",
    "        self.b14 = RDDNeck(dilation=1, \n",
    "                           in_channels=64, \n",
    "                           out_channels=64, \n",
    "                           down_flag=False, \n",
    "                           p=0.01)\n",
    "        \n",
    "        \n",
    "        # The second bottleneck\n",
    "        self.b20 = RDDNeck(dilation=1, \n",
    "                           in_channels=64, \n",
    "                           out_channels=128, \n",
    "                           down_flag=True)\n",
    "        \n",
    "        self.b21 = RDDNeck(dilation=1, \n",
    "                           in_channels=128, \n",
    "                           out_channels=128, \n",
    "                           down_flag=False)\n",
    "        \n",
    "        self.b22 = RDDNeck(dilation=2, \n",
    "                           in_channels=128, \n",
    "                           out_channels=128, \n",
    "                           down_flag=False)\n",
    "        \n",
    "        self.b23 = ASNeck(in_channels=128, \n",
    "                          out_channels=128)\n",
    "        \n",
    "        self.b24 = RDDNeck(dilation=4, \n",
    "                           in_channels=128, \n",
    "                           out_channels=128, \n",
    "                           down_flag=False)\n",
    "        \n",
    "        self.b25 = RDDNeck(dilation=1, \n",
    "                           in_channels=128, \n",
    "                           out_channels=128, \n",
    "                           down_flag=False)\n",
    "        \n",
    "        self.b26 = RDDNeck(dilation=8, \n",
    "                           in_channels=128, \n",
    "                           out_channels=128, \n",
    "                           down_flag=False)\n",
    "        \n",
    "        self.b27 = ASNeck(in_channels=128, \n",
    "                          out_channels=128)\n",
    "        \n",
    "        self.b28 = RDDNeck(dilation=16, \n",
    "                           in_channels=128, \n",
    "                           out_channels=128, \n",
    "                           down_flag=False)\n",
    "        \n",
    "        \n",
    "        # The third bottleneck\n",
    "        self.b31 = RDDNeck(dilation=1, \n",
    "                           in_channels=128, \n",
    "                           out_channels=128, \n",
    "                           down_flag=False)\n",
    "        \n",
    "        self.b32 = RDDNeck(dilation=2, \n",
    "                           in_channels=128, \n",
    "                           out_channels=128, \n",
    "                           down_flag=False)\n",
    "        \n",
    "        self.b33 = ASNeck(in_channels=128, \n",
    "                          out_channels=128)\n",
    "        \n",
    "        self.b34 = RDDNeck(dilation=4, \n",
    "                           in_channels=128, \n",
    "                           out_channels=128, \n",
    "                           down_flag=False)\n",
    "        \n",
    "        self.b35 = RDDNeck(dilation=1, \n",
    "                           in_channels=128, \n",
    "                           out_channels=128, \n",
    "                           down_flag=False)\n",
    "        \n",
    "        self.b36 = RDDNeck(dilation=8, \n",
    "                           in_channels=128, \n",
    "                           out_channels=128, \n",
    "                           down_flag=False)\n",
    "        \n",
    "        self.b37 = ASNeck(in_channels=128, \n",
    "                          out_channels=128)\n",
    "        \n",
    "        self.b38 = RDDNeck(dilation=16, \n",
    "                           in_channels=128, \n",
    "                           out_channels=128, \n",
    "                           down_flag=False)\n",
    "        \n",
    "        \n",
    "        # The fourth bottleneck\n",
    "        self.b40 = UBNeck(in_channels=128, \n",
    "                          out_channels=64, \n",
    "                          relu=True)\n",
    "        \n",
    "        self.b41 = RDDNeck(dilation=1, \n",
    "                           in_channels=64, \n",
    "                           out_channels=64, \n",
    "                           down_flag=False, \n",
    "                           relu=True)\n",
    "        \n",
    "        self.b42 = RDDNeck(dilation=1, \n",
    "                           in_channels=64, \n",
    "                           out_channels=64, \n",
    "                           down_flag=False, \n",
    "                           relu=True)\n",
    "        \n",
    "        \n",
    "        # The fifth bottleneck\n",
    "        self.b50 = UBNeck(in_channels=64, \n",
    "                          out_channels=16, \n",
    "                          relu=True)\n",
    "        \n",
    "        self.b51 = RDDNeck(dilation=1, \n",
    "                           in_channels=16, \n",
    "                           out_channels=16, \n",
    "                           down_flag=False, \n",
    "                           relu=True)\n",
    "        \n",
    "        \n",
    "        # Final ConvTranspose Layer\n",
    "        self.fullconv = nn.ConvTranspose2d(in_channels=16, \n",
    "                                           out_channels=self.C, \n",
    "                                           kernel_size=3, \n",
    "                                           stride=2, \n",
    "                                           padding=1, \n",
    "                                           output_padding=1,\n",
    "                                           bias=False)\n",
    "        \n",
    "        \n",
    "    def forward(self, x):\n",
    "        \n",
    "        # The initial block\n",
    "        x = self.init(x)\n",
    "        \n",
    "        # The first bottleneck\n",
    "        x, i1 = self.b10(x)\n",
    "        x = self.b11(x)\n",
    "        x = self.b12(x)\n",
    "        x = self.b13(x)\n",
    "        x = self.b14(x)\n",
    "        \n",
    "        # The second bottleneck\n",
    "        x, i2 = self.b20(x)\n",
    "        x = self.b21(x)\n",
    "        x = self.b22(x)\n",
    "        x = self.b23(x)\n",
    "        x = self.b24(x)\n",
    "        x = self.b25(x)\n",
    "        x = self.b26(x)\n",
    "        x = self.b27(x)\n",
    "        x = self.b28(x)\n",
    "        \n",
    "        # The third bottleneck\n",
    "        x = self.b31(x)\n",
    "        x = self.b32(x)\n",
    "        x = self.b33(x)\n",
    "        x = self.b34(x)\n",
    "        x = self.b35(x)\n",
    "        x = self.b36(x)\n",
    "        x = self.b37(x)\n",
    "        x = self.b38(x)\n",
    "        \n",
    "        # The fourth bottleneck\n",
    "        x = self.b40(x, i2)\n",
    "        x = self.b41(x)\n",
    "        x = self.b42(x)\n",
    "        \n",
    "        # The fifth bottleneck\n",
    "        x = self.b50(x, i1)\n",
    "        x = self.b51(x)\n",
    "        \n",
    "        # Final ConvTranspose Layer\n",
    "        x = self.fullconv(x)\n",
    "        \n",
    "        return x"
   ]
  },
  {
   "cell_type": "code",
   "execution_count": 20,
   "metadata": {},
   "outputs": [
    {
     "name": "stdout",
     "output_type": "stream",
     "text": [
      "loaded a pretrained model\n"
     ]
    }
   ],
   "source": [
    "#Instantiate the ENet model\n",
    "load_pretrained = True\n",
    "enet = ENet(2)\n",
    "if load_pretrained:\n",
    "    state_dict = torch.load('content/ckpt-enet-60.pth')['state_dict']\n",
    "    enet.load_state_dict(state_dict)\n",
    "    print('loaded a pretrained model')"
   ]
  },
  {
   "cell_type": "code",
   "execution_count": 21,
   "metadata": {},
   "outputs": [],
   "source": [
    "# Checking if there is any gpu available and pass the model to gpu or cpu\n",
    "device = torch.device('cuda:1' if torch.cuda.is_available() else 'cpu')\n",
    "enet = enet.to(device)"
   ]
  },
  {
   "cell_type": "code",
   "execution_count": 22,
   "metadata": {},
   "outputs": [
    {
     "name": "stdout",
     "output_type": "stream",
     "text": [
      "(864, 1296, 3)\n"
     ]
    }
   ],
   "source": [
    "img = plt.imread(df_enet['img_path'][8])\n",
    "print(img.shape)"
   ]
  },
  {
   "cell_type": "code",
   "execution_count": null,
   "metadata": {},
   "outputs": [],
   "source": [
    " "
   ]
  },
  {
   "cell_type": "code",
   "execution_count": 23,
   "metadata": {},
   "outputs": [],
   "source": [
    "#build a generater\n",
    "from ImgAugumentation import ImgAugumentation\n",
    "img_augumentation = ImgAugumentation()\n",
    "def loader(df, batch_size, im_size=(512,512), aug=False):\n",
    "    total_files_s=len(df)\n",
    "    if str(batch_size).lower() == 'all':\n",
    "        batch_size = total_files_s\n",
    "    idx = 0\n",
    "    while(1):\n",
    "      # Choosing random indexes of images and labels\n",
    "        batch_idxs = np.random.randint(0, total_files_s, batch_size)\n",
    "   \n",
    "        \n",
    "        inputs = []\n",
    "        labels = []\n",
    "        \n",
    "        for jj in batch_idxs:\n",
    "          # Reading normalized photo\n",
    "        \n",
    " \n",
    "            img = plt.imread(df['img_path'][jj])\n",
    "            orginal_im_size=img.shape\n",
    "          # Resizing using nearest neighbor method\n",
    "            img = cv2.resize(img, (im_size[0], im_size[1]), cv2.INTER_NEAREST)\n",
    "            \n",
    "          # creating semantic mask \n",
    "            outer_poly=df['outer_poly'][jj] \n",
    "            #print('outer poly',outer_poly)\n",
    "            inner_poly=df['inner_poly'][jj]\n",
    "            #print('inner_poly', list(inner_poly))\n",
    "            if len(outer_poly) > 1:\n",
    "                outer_mask=get_mask((orginal_im_size[0], orginal_im_size[1]),outer_poly,display=False)\n",
    "                inner_mask=get_mask((orginal_im_size[0], orginal_im_size[1]),inner_poly,display=False)\n",
    "                inner_mask.dtype='uint8'\n",
    "                outer_mask.dtype='uint8'\n",
    "                final_mask=cv2.subtract(outer_mask,inner_mask)\n",
    "              # Resizing using nearest neighbor method\n",
    "                final_mask = cv2.resize(final_mask, (im_size[0], im_size[1]), cv2.INTER_NEAREST)\n",
    "                if aug:\n",
    "                    rand_value_augument = np.random.randint(7)\n",
    "                    if (rand_value_augument == 0):   \n",
    "                        img, final_mask=img_augumentation.flip_image_horz(img, final_mask)\n",
    "                    if (rand_value_augument == 1): \n",
    "                        img, final_mask=img_augumentation.flip_image_ver(img, final_mask)\n",
    "                    if (rand_value_augument == 2) or (rand_value_augument == 3): \n",
    "                        img=img_augumentation.brightness_images(img)\n",
    "                    if (rand_value_augument == 4): \n",
    "                        img, final_mask =img_augumentation.trans_image(img,final_mask,50)\n",
    "                    if (rand_value_augument == 5): \n",
    "                        img, final_mask =img_augumentation.stretch_image(img, final_mask,-100)\n",
    "                    if (rand_value_augument == 6): \n",
    "                        img, final_mask =img_augumentation.stretch_image(img, final_mask,-50)\n",
    "                    if (rand_value_augument == 7): \n",
    "                        img, final_mask =img_augumentation.stretch_image(img, final_mask,+30)\n",
    "                inputs.append(img)\n",
    "                labels.append(final_mask)\n",
    "\n",
    "        inputs = np.stack(inputs, axis=2)\n",
    "      # Changing image format to C x H x W\n",
    "        inputs = torch.tensor(inputs).transpose(0, 2).transpose(1, 3)\n",
    "        \n",
    "        labels = torch.tensor(labels)\n",
    "        \n",
    "        yield inputs, labels"
   ]
  },
  {
   "cell_type": "code",
   "execution_count": 24,
   "metadata": {
    "scrolled": true
   },
   "outputs": [
    {
     "name": "stdout",
     "output_type": "stream",
     "text": [
      "torch.Size([512, 512])\n"
     ]
    },
    {
     "ename": "TypeError",
     "evalue": "Invalid dimensions for image data",
     "output_type": "error",
     "traceback": [
      "\u001b[0;31m---------------------------------------------------------------------------\u001b[0m",
      "\u001b[0;31mTypeError\u001b[0m                                 Traceback (most recent call last)",
      "\u001b[0;32m<ipython-input-24-e5b818e77e21>\u001b[0m in \u001b[0;36m<module>\u001b[0;34m()\u001b[0m\n\u001b[1;32m      9\u001b[0m     \u001b[0mplt\u001b[0m\u001b[0;34m.\u001b[0m\u001b[0mfigure\u001b[0m\u001b[0;34m(\u001b[0m\u001b[0mfigsize\u001b[0m\u001b[0;34m=\u001b[0m\u001b[0;34m(\u001b[0m\u001b[0;36m16\u001b[0m\u001b[0;34m,\u001b[0m\u001b[0;36m16\u001b[0m\u001b[0;34m)\u001b[0m\u001b[0;34m)\u001b[0m\u001b[0;34m\u001b[0m\u001b[0;34m\u001b[0m\u001b[0m\n\u001b[1;32m     10\u001b[0m     \u001b[0mplt\u001b[0m\u001b[0;34m.\u001b[0m\u001b[0msubplot\u001b[0m\u001b[0;34m(\u001b[0m\u001b[0;36m1\u001b[0m\u001b[0;34m,\u001b[0m\u001b[0;36m3\u001b[0m\u001b[0;34m,\u001b[0m\u001b[0;36m1\u001b[0m\u001b[0;34m)\u001b[0m\u001b[0;34m\u001b[0m\u001b[0;34m\u001b[0m\u001b[0m\n\u001b[0;32m---> 11\u001b[0;31m     \u001b[0mplt\u001b[0m\u001b[0;34m.\u001b[0m\u001b[0mimshow\u001b[0m\u001b[0;34m(\u001b[0m\u001b[0mbatch_img\u001b[0m\u001b[0;34m[\u001b[0m\u001b[0mi\u001b[0m\u001b[0;34m]\u001b[0m\u001b[0;34m)\u001b[0m\u001b[0;34m\u001b[0m\u001b[0;34m\u001b[0m\u001b[0m\n\u001b[0m\u001b[1;32m     12\u001b[0m     \u001b[0mplt\u001b[0m\u001b[0;34m.\u001b[0m\u001b[0maxis\u001b[0m\u001b[0;34m(\u001b[0m\u001b[0;34m'off'\u001b[0m\u001b[0;34m)\u001b[0m\u001b[0;34m\u001b[0m\u001b[0;34m\u001b[0m\u001b[0m\n\u001b[1;32m     13\u001b[0m     \u001b[0mplt\u001b[0m\u001b[0;34m.\u001b[0m\u001b[0msubplot\u001b[0m\u001b[0;34m(\u001b[0m\u001b[0;36m1\u001b[0m\u001b[0;34m,\u001b[0m\u001b[0;36m3\u001b[0m\u001b[0;34m,\u001b[0m\u001b[0;36m2\u001b[0m\u001b[0;34m)\u001b[0m\u001b[0;34m\u001b[0m\u001b[0;34m\u001b[0m\u001b[0m\n",
      "\u001b[0;32m~/anaconda3/envs/pytorch/lib/python3.6/site-packages/matplotlib/pyplot.py\u001b[0m in \u001b[0;36mimshow\u001b[0;34m(X, cmap, norm, aspect, interpolation, alpha, vmin, vmax, origin, extent, shape, filternorm, filterrad, imlim, resample, url, data, **kwargs)\u001b[0m\n\u001b[1;32m   2699\u001b[0m         \u001b[0mfilternorm\u001b[0m\u001b[0;34m=\u001b[0m\u001b[0mfilternorm\u001b[0m\u001b[0;34m,\u001b[0m \u001b[0mfilterrad\u001b[0m\u001b[0;34m=\u001b[0m\u001b[0mfilterrad\u001b[0m\u001b[0;34m,\u001b[0m \u001b[0mimlim\u001b[0m\u001b[0;34m=\u001b[0m\u001b[0mimlim\u001b[0m\u001b[0;34m,\u001b[0m\u001b[0;34m\u001b[0m\u001b[0;34m\u001b[0m\u001b[0m\n\u001b[1;32m   2700\u001b[0m         resample=resample, url=url, **({\"data\": data} if data is not\n\u001b[0;32m-> 2701\u001b[0;31m         None else {}), **kwargs)\n\u001b[0m\u001b[1;32m   2702\u001b[0m     \u001b[0msci\u001b[0m\u001b[0;34m(\u001b[0m\u001b[0m__ret\u001b[0m\u001b[0;34m)\u001b[0m\u001b[0;34m\u001b[0m\u001b[0;34m\u001b[0m\u001b[0m\n\u001b[1;32m   2703\u001b[0m     \u001b[0;32mreturn\u001b[0m \u001b[0m__ret\u001b[0m\u001b[0;34m\u001b[0m\u001b[0;34m\u001b[0m\u001b[0m\n",
      "\u001b[0;32m~/anaconda3/envs/pytorch/lib/python3.6/site-packages/matplotlib/__init__.py\u001b[0m in \u001b[0;36minner\u001b[0;34m(ax, data, *args, **kwargs)\u001b[0m\n\u001b[1;32m   1808\u001b[0m                         \u001b[0;34m\"the Matplotlib list!)\"\u001b[0m \u001b[0;34m%\u001b[0m \u001b[0;34m(\u001b[0m\u001b[0mlabel_namer\u001b[0m\u001b[0;34m,\u001b[0m \u001b[0mfunc\u001b[0m\u001b[0;34m.\u001b[0m\u001b[0m__name__\u001b[0m\u001b[0;34m)\u001b[0m\u001b[0;34m,\u001b[0m\u001b[0;34m\u001b[0m\u001b[0;34m\u001b[0m\u001b[0m\n\u001b[1;32m   1809\u001b[0m                         RuntimeWarning, stacklevel=2)\n\u001b[0;32m-> 1810\u001b[0;31m             \u001b[0;32mreturn\u001b[0m \u001b[0mfunc\u001b[0m\u001b[0;34m(\u001b[0m\u001b[0max\u001b[0m\u001b[0;34m,\u001b[0m \u001b[0;34m*\u001b[0m\u001b[0margs\u001b[0m\u001b[0;34m,\u001b[0m \u001b[0;34m**\u001b[0m\u001b[0mkwargs\u001b[0m\u001b[0;34m)\u001b[0m\u001b[0;34m\u001b[0m\u001b[0;34m\u001b[0m\u001b[0m\n\u001b[0m\u001b[1;32m   1811\u001b[0m \u001b[0;34m\u001b[0m\u001b[0m\n\u001b[1;32m   1812\u001b[0m         inner.__doc__ = _add_data_doc(inner.__doc__,\n",
      "\u001b[0;32m~/anaconda3/envs/pytorch/lib/python3.6/site-packages/matplotlib/axes/_axes.py\u001b[0m in \u001b[0;36mimshow\u001b[0;34m(self, X, cmap, norm, aspect, interpolation, alpha, vmin, vmax, origin, extent, shape, filternorm, filterrad, imlim, resample, url, **kwargs)\u001b[0m\n\u001b[1;32m   5492\u001b[0m                               resample=resample, **kwargs)\n\u001b[1;32m   5493\u001b[0m \u001b[0;34m\u001b[0m\u001b[0m\n\u001b[0;32m-> 5494\u001b[0;31m         \u001b[0mim\u001b[0m\u001b[0;34m.\u001b[0m\u001b[0mset_data\u001b[0m\u001b[0;34m(\u001b[0m\u001b[0mX\u001b[0m\u001b[0;34m)\u001b[0m\u001b[0;34m\u001b[0m\u001b[0;34m\u001b[0m\u001b[0m\n\u001b[0m\u001b[1;32m   5495\u001b[0m         \u001b[0mim\u001b[0m\u001b[0;34m.\u001b[0m\u001b[0mset_alpha\u001b[0m\u001b[0;34m(\u001b[0m\u001b[0malpha\u001b[0m\u001b[0;34m)\u001b[0m\u001b[0;34m\u001b[0m\u001b[0;34m\u001b[0m\u001b[0m\n\u001b[1;32m   5496\u001b[0m         \u001b[0;32mif\u001b[0m \u001b[0mim\u001b[0m\u001b[0;34m.\u001b[0m\u001b[0mget_clip_path\u001b[0m\u001b[0;34m(\u001b[0m\u001b[0;34m)\u001b[0m \u001b[0;32mis\u001b[0m \u001b[0;32mNone\u001b[0m\u001b[0;34m:\u001b[0m\u001b[0;34m\u001b[0m\u001b[0;34m\u001b[0m\u001b[0m\n",
      "\u001b[0;32m~/anaconda3/envs/pytorch/lib/python3.6/site-packages/matplotlib/image.py\u001b[0m in \u001b[0;36mset_data\u001b[0;34m(self, A)\u001b[0m\n\u001b[1;32m    644\u001b[0m         if not (self._A.ndim == 2\n\u001b[1;32m    645\u001b[0m                 or self._A.ndim == 3 and self._A.shape[-1] in [3, 4]):\n\u001b[0;32m--> 646\u001b[0;31m             \u001b[0;32mraise\u001b[0m \u001b[0mTypeError\u001b[0m\u001b[0;34m(\u001b[0m\u001b[0;34m\"Invalid dimensions for image data\"\u001b[0m\u001b[0;34m)\u001b[0m\u001b[0;34m\u001b[0m\u001b[0;34m\u001b[0m\u001b[0m\n\u001b[0m\u001b[1;32m    647\u001b[0m \u001b[0;34m\u001b[0m\u001b[0m\n\u001b[1;32m    648\u001b[0m         \u001b[0;32mif\u001b[0m \u001b[0mself\u001b[0m\u001b[0;34m.\u001b[0m\u001b[0m_A\u001b[0m\u001b[0;34m.\u001b[0m\u001b[0mndim\u001b[0m \u001b[0;34m==\u001b[0m \u001b[0;36m3\u001b[0m\u001b[0;34m:\u001b[0m\u001b[0;34m\u001b[0m\u001b[0;34m\u001b[0m\u001b[0m\n",
      "\u001b[0;31mTypeError\u001b[0m: Invalid dimensions for image data"
     ]
    },
    {
     "data": {
      "image/png": "[encoded data removed]",
      "text/plain": [
       "<Figure size 1152x1152 with 1 Axes>"
      ]
     },
     "metadata": {
      "needs_background": "light"
     },
     "output_type": "display_data"
    }
   ],
   "source": [
    "#test the generater\n",
    "batch_size=10\n",
    "training_gen=loader(df_enet, batch_size=batch_size, aug=True)\n",
    "batch_img,batch_mask = next(training_gen)\n",
    "print(batch_mask[0].shape)\n",
    "\n",
    "for i in range(0,len(batch_img)):\n",
    " \n",
    "    plt.figure(figsize=(16,16))\n",
    "    plt.subplot(1,3,1)\n",
    "    plt.imshow(batch_img[i])\n",
    "    plt.axis('off')\n",
    "    plt.subplot(1,3,2)\n",
    "    plt.imshow(batch_mask[i])\n",
    "    plt.axis('off')\n",
    "\n",
    "    plt.show();"
   ]
  },
  {
   "cell_type": "code",
   "execution_count": null,
   "metadata": {},
   "outputs": [],
   "source": [
    "def get_class_weights(num_classes, c=1.02):\n",
    "    pipe = loader(df_enet, batch_size='all',aug=True)\n",
    "    _, labels = next(pipe)\n",
    "    all_labels = labels.flatten()\n",
    "    each_class = np.bincount(all_labels, minlength=num_classes)\n",
    "    prospensity_score = each_class / len(all_labels)\n",
    "    class_weights = 1 / (np.log(c + prospensity_score))\n",
    "    return class_weights"
   ]
  },
  {
   "cell_type": "code",
   "execution_count": null,
   "metadata": {},
   "outputs": [],
   "source": [
    "class_weights = get_class_weights(1)\n"
   ]
  },
  {
   "cell_type": "code",
   "execution_count": null,
   "metadata": {},
   "outputs": [],
   "source": [
    "print(class_weights)"
   ]
  },
  {
   "cell_type": "code",
   "execution_count": null,
   "metadata": {},
   "outputs": [],
   "source": []
  },
  {
   "cell_type": "code",
   "execution_count": null,
   "metadata": {},
   "outputs": [],
   "source": [
    "lr = 5e-4\n",
    "batch_size = 20\n",
    "\n",
    "criterion = nn.CrossEntropyLoss(weight=torch.FloatTensor(class_weights).to(device))\n",
    "optimizer = torch.optim.Adam(enet.parameters(), \n",
    "                             lr=lr,\n",
    "                             weight_decay=2e-4)\n",
    "\n",
    "print_every = 20\n",
    "eval_every = 40"
   ]
  },
  {
   "cell_type": "code",
   "execution_count": null,
   "metadata": {},
   "outputs": [],
   "source": [
    "print(len(df_enet))"
   ]
  },
  {
   "cell_type": "code",
   "execution_count": null,
   "metadata": {},
   "outputs": [],
   "source": [
    "#splitting the dataset into training and testing\n",
    "from sklearn.model_selection import train_test_split\n",
    "df_trn, df_tst = train_test_split(df_enet, test_size=0.03)\n",
    "print(len(df_trn))\n",
    "print(len(df_tst))\n"
   ]
  },
  {
   "cell_type": "code",
   "execution_count": null,
   "metadata": {},
   "outputs": [],
   "source": [
    "df_trn.reset_index(drop=True, inplace=True)\n",
    "df_tst.reset_index(drop=True, inplace=True)\n",
    "df_trn.head()"
   ]
  },
  {
   "cell_type": "markdown",
   "metadata": {},
   "source": [
    "#create overfitting dataset\n",
    "df_trn, df_tst = train_test_split(df_tst, test_size=0.1)\n",
    "print(len(df_trn))\n",
    "print(len(df_tst))\n",
    "df_trn.reset_index(drop=True, inplace=True)\n",
    "df_tst.reset_index(drop=True, inplace=True)\n",
    "df_trn.head()"
   ]
  },
  {
   "cell_type": "code",
   "execution_count": null,
   "metadata": {},
   "outputs": [],
   "source": []
  },
  {
   "cell_type": "code",
   "execution_count": null,
   "metadata": {
    "scrolled": true
   },
   "outputs": [],
   "source": [
    "train_losses = []\n",
    "eval_losses = []\n",
    "\n",
    "bc_train = 100# 1 // batch_size # mini_batch train\n",
    "bc_eval = 77# // batch_size  # mini_batch validation\n",
    "\n",
    "# Define pipeline objects\n",
    "pipe = loader(df_trn, batch_size,aug=True)\n",
    "eval_pipe = loader(df_tst, batch_size)\n",
    "\n",
    "epochs = 1000\n",
    "\n",
    "# Train loop\n",
    "\n",
    "for e in range(1, epochs+1):\n",
    "    \n",
    "    \n",
    "    train_loss = 0\n",
    "    print ('-'*15,'Epoch %d' % e, '-'*15)\n",
    "    \n",
    "    enet.train()\n",
    "    \n",
    "    for _ in tqdm(range(bc_train)):\n",
    "        X_batch, mask_batch = next(pipe)\n",
    "        \n",
    "        # assign data to cpu/gpu\n",
    "        X_batch, mask_batch = X_batch.to(device), mask_batch.to(device)\n",
    "\n",
    "        optimizer.zero_grad()\n",
    "\n",
    "        out = enet(X_batch.float())\n",
    "        #print(out.shape)\n",
    "        # loss calculation\n",
    "        loss = criterion(out, mask_batch.long())\n",
    "        # update weights\n",
    "        loss.backward()\n",
    "        optimizer.step()\n",
    "\n",
    "        train_loss += loss.item()\n",
    "\n",
    "        \n",
    "    print ()\n",
    "    train_losses.append(train_loss)\n",
    "    \n",
    "    if (e+1) % print_every == 0:\n",
    "        print ('Epoch {}/{}...'.format(e, epochs),\n",
    "                'Loss {:6f}'.format(train_loss))\n",
    "    \n",
    "    if e % eval_every == 0:\n",
    "        with torch.no_grad():\n",
    "            enet.eval()\n",
    "            \n",
    "            eval_loss = 0\n",
    "\n",
    "            # Validation loop\n",
    "            for _ in tqdm(range(bc_eval)):\n",
    "                inputs, labels = next(eval_pipe)\n",
    "\n",
    "                inputs=inputs.float()\n",
    "                inputs, labels = inputs.to(device), labels.to(device)\n",
    "                    \n",
    "                \n",
    "                out = enet(inputs)\n",
    "                \n",
    "                out = out.data.max(1)[1]\n",
    "                \n",
    "                eval_loss += (labels.long() - out.long()).sum()\n",
    "                \n",
    "            \n",
    "            print ()\n",
    "            print ('Loss {:6f}'.format(eval_loss))\n",
    "            \n",
    "            eval_losses.append(eval_loss)\n",
    "        \n",
    "    if e % print_every == 0:\n",
    "        checkpoint = {\n",
    "            'epochs' : e,\n",
    "            'state_dict' : enet.state_dict()\n",
    "        }\n",
    "        torch.save(checkpoint, 'content/ckpt-enet-{}-{}.pth'.format(e, train_loss))\n",
    "        print ('Model saved!')\n",
    "\n",
    "print ('Epoch {}/{}...'.format(e, epochs),\n",
    "       'Total Mean Loss: {:6f}'.format(sum(train_losses) / epochs))"
   ]
  },
  {
   "cell_type": "markdown",
   "metadata": {},
   "source": [
    "# Postprocessing pipeline"
   ]
  },
  {
   "cell_type": "code",
   "execution_count": null,
   "metadata": {},
   "outputs": [],
   "source": [
    "sample_img=25\n",
    "tmg_ = plt.imread(df_tst['img_path'][sample_img])\n",
    "img_size=tmg_.shape\n",
    "print(img_size)\n",
    "#tmg_ = cv2.resize(tmg_, (img_size[0], img_size[1]), cv2.INTER_NEAREST)\n",
    "tmg = torch.tensor(tmg_).unsqueeze(0).float()\n",
    "tmg = tmg.transpose(2, 3).transpose(1, 2).to(device)\n",
    "\n",
    "enet.to(device)\n",
    "with torch.no_grad():\n",
    "    out1 = enet(tmg.float()).squeeze(0)"
   ]
  },
  {
   "cell_type": "code",
   "execution_count": null,
   "metadata": {},
   "outputs": [],
   "source": [
    " \n",
    "outer_poly=df_tst['outer_poly'][sample_img] \n",
    "#print('outer poly',outer_poly)\n",
    "inner_poly=df_tst['inner_poly'][sample_img]\n",
    "#print('inner_poly', list(inner_poly))\n",
    "outer_mask=get_mask((img_size[0], img_size[1]),outer_poly,display=False)\n",
    "inner_mask=get_mask((img_size[0], img_size[1]),inner_poly,display=False)\n",
    "inner_mask.dtype='uint8'\n",
    "outer_mask.dtype='uint8'\n",
    "final_mask=cv2.subtract(outer_mask,inner_mask)\n",
    "plt.imshow(final_mask)\n",
    "plt.show"
   ]
  },
  {
   "cell_type": "markdown",
   "metadata": {},
   "source": [
    "# Load a pretrained model if needed\n",
    "enet = ENet(2)\n",
    "state_dict = torch.load('content/ckpt-enet-108-3.242320427671075.pth')['state_dict']\n",
    "enet.load_state_dict(state_dict)"
   ]
  },
  {
   "cell_type": "code",
   "execution_count": null,
   "metadata": {},
   "outputs": [],
   "source": [
    "out2 = out1.cpu().detach().numpy()"
   ]
  },
  {
   "cell_type": "code",
   "execution_count": null,
   "metadata": {},
   "outputs": [],
   "source": [
    "mno = 1 # Should be between 0 - n-1 | where n is the number of classes\n",
    "\n",
    "figure = plt.figure(figsize=(20, 10))\n",
    "plt.subplot(1, 3, 1)\n",
    "plt.title('Input Image')\n",
    "plt.axis('off')\n",
    "plt.imshow(tmg_)\n",
    "plt.subplot(1, 3, 2)\n",
    "plt.title('Output Image')\n",
    "plt.axis('off')\n",
    "plt.imshow(out2[mno, :, :])\n",
    "plt.show()"
   ]
  },
  {
   "cell_type": "code",
   "execution_count": null,
   "metadata": {},
   "outputs": [],
   "source": [
    "b_ = out1.data.max(0)[1].cpu().numpy()"
   ]
  },
  {
   "cell_type": "code",
   "execution_count": null,
   "metadata": {},
   "outputs": [],
   "source": [
    "def decode_segmap(image):\n",
    "    gate = [128, 128, 128]\n",
    "     \n",
    "\n",
    "    label_colours = np.array([gate]).astype(np.uint8)\n",
    "    r = np.zeros_like(image).astype(np.uint8)\n",
    "    g = np.zeros_like(image).astype(np.uint8)\n",
    "    b = np.zeros_like(image).astype(np.uint8)\n",
    "    for l in range(0, 1):\n",
    "        r[image == l] = label_colours[l, 0]\n",
    "        g[image == l] = label_colours[l, 1]\n",
    "        b[image == l] = label_colours[l, 2]\n",
    "\n",
    "    rgb = np.zeros((image.shape[0], image.shape[1], 3)).astype(np.uint8)\n",
    "    rgb[:, :, 0] = b\n",
    "    rgb[:, :, 1] = g\n",
    "    rgb[:, :, 2] = r\n",
    "    return rgb\n"
   ]
  },
  {
   "cell_type": "code",
   "execution_count": null,
   "metadata": {},
   "outputs": [],
   "source": [
    "true_seg = decode_segmap(final_mask)\n",
    "pred_seg = decode_segmap(b_)"
   ]
  },
  {
   "cell_type": "code",
   "execution_count": null,
   "metadata": {},
   "outputs": [],
   "source": [
    "figure = plt.figure(figsize=(20, 10))\n",
    "plt.subplot(1, 3, 1)\n",
    "plt.title('Input Image')\n",
    "plt.axis('off')\n",
    "plt.imshow(tmg_)\n",
    "plt.subplot(1, 3, 2)\n",
    "plt.title('Predicted Segmentation')\n",
    "plt.axis('off')\n",
    "plt.imshow(pred_seg)\n",
    "plt.subplot(1, 3, 3)\n",
    "plt.title('Ground Truth')\n",
    "plt.axis('off')\n",
    "plt.imshow(true_seg)\n",
    "plt.show()"
   ]
  },
  {
   "cell_type": "code",
   "execution_count": null,
   "metadata": {},
   "outputs": [],
   "source": [
    " "
   ]
  },
  {
   "cell_type": "markdown",
   "metadata": {},
   "source": []
  },
  {
   "cell_type": "code",
   "execution_count": null,
   "metadata": {
    "scrolled": true
   },
   "outputs": [],
   "source": [
    "\n",
    "\n",
    "\n",
    "\n",
    " "
   ]
  },
  {
   "cell_type": "code",
   "execution_count": null,
   "metadata": {},
   "outputs": [],
   "source": [
    " "
   ]
  },
  {
   "cell_type": "code",
   "execution_count": null,
   "metadata": {},
   "outputs": [],
   "source": []
  },
  {
   "cell_type": "code",
   "execution_count": null,
   "metadata": {},
   "outputs": [],
   "source": []
  },
  {
   "cell_type": "code",
   "execution_count": null,
   "metadata": {},
   "outputs": [],
   "source": []
  },
  {
   "cell_type": "code",
   "execution_count": null,
   "metadata": {},
   "outputs": [],
   "source": [
    "\n"
   ]
  },
  {
   "cell_type": "code",
   "execution_count": null,
   "metadata": {},
   "outputs": [],
   "source": []
  },
  {
   "cell_type": "code",
   "execution_count": null,
   "metadata": {},
   "outputs": [],
   "source": [
    " "
   ]
  },
  {
   "cell_type": "code",
   "execution_count": null,
   "metadata": {},
   "outputs": [],
   "source": [
    " "
   ]
  },
  {
   "cell_type": "code",
   "execution_count": null,
   "metadata": {},
   "outputs": [],
   "source": []
  },
  {
   "cell_type": "code",
   "execution_count": null,
   "metadata": {},
   "outputs": [],
   "source": []
  },
  {
   "cell_type": "code",
   "execution_count": null,
   "metadata": {},
   "outputs": [],
   "source": []
  },
  {
   "cell_type": "code",
   "execution_count": null,
   "metadata": {},
   "outputs": [],
   "source": [
    " "
   ]
  },
  {
   "cell_type": "code",
   "execution_count": null,
   "metadata": {},
   "outputs": [],
   "source": []
  },
  {
   "cell_type": "markdown",
   "metadata": {},
   "source": [
    "# Training pipeline"
   ]
  },
  {
   "cell_type": "code",
   "execution_count": null,
   "metadata": {},
   "outputs": [],
   "source": []
  },
  {
   "cell_type": "code",
   "execution_count": null,
   "metadata": {},
   "outputs": [],
   "source": []
  },
  {
   "cell_type": "code",
   "execution_count": null,
   "metadata": {},
   "outputs": [],
   "source": []
  },
  {
   "cell_type": "code",
   "execution_count": null,
   "metadata": {},
   "outputs": [],
   "source": []
  },
  {
   "cell_type": "markdown",
   "metadata": {},
   "source": [
    "# Post-processing pipeline      "
   ]
  },
  {
   "cell_type": "code",
   "execution_count": null,
   "metadata": {},
   "outputs": [],
   "source": [
    " "
   ]
  },
  {
   "cell_type": "code",
   "execution_count": null,
   "metadata": {
    "scrolled": false
   },
   "outputs": [],
   "source": [
    " "
   ]
  },
  {
   "cell_type": "code",
   "execution_count": null,
   "metadata": {},
   "outputs": [],
   "source": [
    " "
   ]
  },
  {
   "cell_type": "code",
   "execution_count": null,
   "metadata": {},
   "outputs": [],
   "source": [
    " \n"
   ]
  },
  {
   "cell_type": "code",
   "execution_count": null,
   "metadata": {},
   "outputs": [],
   "source": []
  },
  {
   "cell_type": "code",
   "execution_count": null,
   "metadata": {},
   "outputs": [],
   "source": [
    "start = time.time()\n",
    "training_gen = generate_train_batch(cars_15_35GB,1)\n",
    "batch_img,batch_mask = next(training_gen)\n",
    "end = time.time()\n",
    "end-start"
   ]
  },
  {
   "cell_type": "code",
   "execution_count": null,
   "metadata": {},
   "outputs": [],
   "source": [
    "start = time.time()\n",
    "sample_imgs=1 \n",
    "testing_gen = generate_test_batch(cars_15_35GB,sample_imgs)\n",
    "pre_final_predictions= model.predict(batch_img)\n",
    "end = time.time()\n",
    "end-start"
   ]
  },
  {
   "cell_type": "code",
   "execution_count": null,
   "metadata": {
    "scrolled": false
   },
   "outputs": [],
   "source": [
    "### Test on last frames of data\n",
    "start = time.time()\n",
    "batch_img,batch_mask = next(testing_gen)\n",
    "pre_final_predictions= model.predict(batch_img)\n",
    "np.shape(pre_final_predictions)\n",
    "for i in range(sample_imgs):\n",
    "    im=batch_img[i]\n",
    "    pred,im = next_img(im)\n",
    "    im  = np.array(im,dtype= np.uint8)\n",
    "    im_pred = np.array(255*pred[0],dtype=np.uint8)\n",
    "    im_mask = np.array(255*batch_mask[i],dtype=np.uint8)\n",
    "    rgb_mask_true= cv2.cvtColor(im_mask,cv2.COLOR_GRAY2RGB)\n",
    "    rgb_mask_true[:,:,0] = 0*rgb_mask_true[:,:,0]\n",
    "    rgb_mask_true[:,:,2] = 0*rgb_mask_true[:,:,2]\n",
    "    img_true = cv2.addWeighted(rgb_mask_true,0.70,im,0.70,0)\n",
    "    rgb_mask_pred = cv2.cvtColor(im_pred,cv2.COLOR_GRAY2RGB)\n",
    "    rgb_mask_pred[:,:,1:3] = 0*rgb_mask_pred[:,:,1:2]\n",
    "    img_pred = cv2.addWeighted(rgb_mask_pred,0.70,im,1,0)\n",
    "    draw_img = get_BB_new_img(im)\n",
    "    plt.figure(figsize=(14,5))\n",
    "    plt.subplot(1,4,1)\n",
    "    plt.imshow(im)\n",
    "    plt.title('Original')\n",
    "    plt.axis('off')\n",
    "    plt.subplot(1,4,2)\n",
    "    plt.imshow(img_pred)\n",
    "    plt.title('Segmented')\n",
    "    plt.axis('off')\n",
    "    plt.subplot(1,4,3)\n",
    "    plt.imshow(draw_img)\n",
    "    plt.title('Predicted')\n",
    "    plt.axis('off')\n",
    "    plt.subplot(1,4,4)\n",
    "    plt.imshow(img_true)\n",
    "    plt.title('Gtruth')\n",
    "    plt.axis('off')\n",
    "\n",
    "end = time.time()\n",
    "end-start   "
   ]
  },
  {
   "cell_type": "code",
   "execution_count": null,
   "metadata": {},
   "outputs": [],
   "source": [
    "test_img = 'scene01021.jpg'\n",
    "im = cv2.imread(test_img)\n",
    "im = cv2.cvtColor(im,cv2.COLOR_BGR2RGB)\n",
    "pred,im = next_img(im)\n",
    "im  = np.array(im,dtype= np.uint8)\n",
    "im_pred = np.array(255*pred[0],dtype=np.uint8)\n",
    "rgb_mask_pred = cv2.cvtColor(im_pred,cv2.COLOR_GRAY2RGB)\n",
    "rgb_mask_pred[:,:,1:3] = 0*rgb_mask_pred[:,:,1:2]\n",
    "\n",
    "img_pred = cv2.addWeighted(rgb_mask_pred,0.70,im,1,0)\n",
    "\n",
    "draw_img = get_BB_new_img(im)\n",
    "\n",
    "plt.figure(figsize=(14,5))\n",
    "plt.subplot(1,3,1)\n",
    "plt.imshow(im)\n",
    "plt.title('Original')\n",
    "plt.axis('off')\n",
    "plt.subplot(1,3,2)\n",
    "plt.imshow(img_pred)\n",
    "plt.title('Segmentated')\n",
    "plt.axis('off')\n",
    "plt.subplot(1,3,3)\n",
    "plt.imshow(draw_img)\n",
    "plt.title('Bounding Box')\n",
    "plt.axis('off');\n",
    "\n"
   ]
  },
  {
   "cell_type": "markdown",
   "metadata": {},
   "source": [
    "## Performing camera calibration\n",
    "Camera calibration is performed in order to correct the deformation in the images that is caused to the optic lens curvature. The first step is to print a chessboard and take random pictures of it. Then count the chess intersecting squires to provide \"objp\" which holds the (x,y,z) coordinates of these corners. Z=0 here and the object points are the same for all images in the calibration folder. The objpoints will be appended in \"objp\" every time the method successfully detect all chessboard corners in a test image. \"imgpoints\" will be appended with the (x, y) pixel position of each of the corners in the image plane with each successful chessboard detection.\n",
    "\"objpoints\" and \"imgpoints\" were used to compute the camera calibration and distortion coefficients using the \"cv2.calibrateCamera()\" function on a test image in \"cv2.undistort()\""
   ]
  },
  {
   "cell_type": "code",
   "execution_count": null,
   "metadata": {},
   "outputs": [],
   "source": [
    "# prepare object points. The number of corners are 6x9\n",
    "objp = np.zeros((6*9,3), np.float32)\n",
    "objp[:,:2] = np.mgrid[0:9, 0:6].T.reshape(-1,2)\n",
    "# Arrays to store object points and image points from all the images.\n",
    "objpoints = [] # 3d points in real world space\n",
    "imgpoints = [] # 2d points in image plane.\n",
    "# Make a list of calibration images, all located in camera_cal\n",
    "images = glob.glob('camera_cal/calibration*.jpg')\n",
    "# Step through the list and search for chessboard corners\n",
    "for idx, fname in enumerate(images):\n",
    "    img = cv2.imread(fname)\n",
    "    # imread reads images in BGR format\n",
    "    gray = cv2.cvtColor(img, cv2.COLOR_BGR2GRAY)\n",
    "    # Find the chessboard corners\n",
    "    ret, corners = cv2.findChessboardCorners(gray, (9,6), None)\n",
    "    # If found, add object points, image points\n",
    "    if ret == True:\n",
    "        objpoints.append(objp)\n",
    "        imgpoints.append(corners)\n",
    "        #Draw and display the corners\n",
    "        cv2.drawChessboardCorners(img, (9,6), corners, ret)\n",
    "        #write_name = 'corners_found'+str(idx)+'.jpg'\n",
    "        #cv2.imwrite(write_name, img)\n",
    "        #cv2.imshow('img', img)\n",
    "        #cv2.waitKey(500)\n",
    "#cv2.destroyAllWindows()"
   ]
  },
  {
   "cell_type": "markdown",
   "metadata": {},
   "source": [
    "## Perform distortion removal on test images¶\n",
    "1. Has the distortion correction been correctly applied to each image?\n",
    "Undistortion is performed on the provided test images before they are used in the pipeline. This also applies to the video frames. \"dst\" holds undistorted frames from \"cv2.undistort\" that were computed using \"mtx\"."
   ]
  },
  {
   "cell_type": "code",
   "execution_count": null,
   "metadata": {},
   "outputs": [],
   "source": [
    "for image_name in glob.glob(\"Frames/*\"):\n",
    "    im = cv2.imread(image_name)\n",
    "    im = cv2.cvtColor(im,cv2.COLOR_BGR2RGB)\n",
    "    im = undistort(im,read=False, display = False, write = False)\n",
    "    pred,im = next_img(im)\n",
    "    im  = np.array(im,dtype= np.uint8)\n",
    "    im_pred = np.array(255*pred[0],dtype=np.uint8)\n",
    "    rgb_mask_pred = cv2.cvtColor(im_pred,cv2.COLOR_GRAY2RGB)\n",
    "    rgb_mask_pred[:,:,1:3] = 0*rgb_mask_pred[:,:,1:2]\n",
    "    img_pred = cv2.addWeighted(rgb_mask_pred,0.50,im,1,0)\n",
    "    draw_img = get_BB_new_img(im)\n",
    "    plt.figure(figsize=(14,5))\n",
    "    plt.subplot(1,3,1)\n",
    "    plt.imshow(im)\n",
    "    plt.title('Original')\n",
    "    plt.axis('off')\n",
    "    plt.subplot(1,3,2)\n",
    "    plt.imshow(img_pred)\n",
    "    plt.title('Segmentated')\n",
    "    plt.axis('off')\n",
    "    plt.subplot(1,3,3)\n",
    "    plt.imshow(draw_img)\n",
    "    plt.title('Bounding Box')\n",
    "    plt.axis('off');\n",
    "\n",
    "heatmap_10 = [np.zeros((640,960))]*10\n",
    "    "
   ]
  },
  {
   "cell_type": "code",
   "execution_count": null,
   "metadata": {},
   "outputs": [],
   "source": [
    "def video_pipeline(image):\n",
    "    #test_img = 'scene01021.jpg'\n",
    "    #im = cv2.imread(im)\n",
    "    #im = cv2.cvtColor(im,cv2.COLOR_BGR2RGB)\n",
    "    #img = get_BB_new_img(im)\n",
    "    # Apply bounding box to image\n",
    "    image_bb = np.copy(image)\n",
    "    bbox_cars = get_BB_new(image_bb)\n",
    "    img_size = np.shape(image)\n",
    "    result = image\n",
    "    img_res_shape = result.shape\n",
    "    for bbox in bbox_cars:\n",
    "        cv2.rectangle(result,(np.int32(bbox[0][0]*img_res_shape[1]/960),np.int32(bbox[0][1]*img_res_shape[0]/640)), (np.int32(bbox[1][0]*img_res_shape[1]/960),np.int32(bbox[1][1]*img_res_shape[0]/640)),(0,255,0),6)\n",
    "    #heatmap = get_Unet_mask(image_bb)\n",
    "    #plt.imshow(img)\n",
    "    return result"
   ]
  },
  {
   "cell_type": "code",
   "execution_count": null,
   "metadata": {},
   "outputs": [],
   "source": [
    "video_output = 'project_video_output.mp4'\n",
    "clip1 = VideoFileClip(\"project_video.mp4\")\n",
    "white_clip = clip1.fl_image(video_pipeline) \n",
    "white_clip.write_videofile(video_output, audio=False)"
   ]
  },
  {
   "cell_type": "code",
   "execution_count": null,
   "metadata": {},
   "outputs": [],
   "source": [
    "from IPython.display import HTML\n",
    "HTML(\"\"\"\n",
    "<video width=\"640\" height=\"360\" controls>\n",
    "  <source src=\"{0}\">\n",
    "</video>\n",
    "\"\"\".format('project_video_output.mp4'))"
   ]
  }
 ],
 "metadata": {
  "anaconda-cloud": {},
  "kernelspec": {
   "display_name": "Python 3",
   "language": "python",
   "name": "python3"
  },
  "language_info": {
   "codemirror_mode": {
    "name": "ipython",
    "version": 3
   },
   "file_extension": ".py",
   "mimetype": "text/x-python",
   "name": "python",
   "nbconvert_exporter": "python",
   "pygments_lexer": "ipython3",
   "version": "3.6.8"
  }
 },
 "nbformat": 4,
 "nbformat_minor": 1
}
