{
 "cells": [
  {
   "cell_type": "markdown",
   "metadata": {},
   "source": [
    "# Testing Misc Methods"
   ]
  },
  {
   "cell_type": "markdown",
   "metadata": {},
   "source": [
    "## Dataloader with augmentation test"
   ]
  },
  {
   "cell_type": "code",
   "execution_count": null,
   "metadata": {},
   "outputs": [],
   "source": []
  },
  {
   "cell_type": "markdown",
   "metadata": {},
   "source": [
    "## Learning rate finder"
   ]
  },
  {
   "cell_type": "code",
   "execution_count": 1,
   "metadata": {},
   "outputs": [
    {
     "name": "stderr",
     "output_type": "stream",
     "text": [
      "/home/shrek/anaconda3/envs/pytorch/lib/python3.6/site-packages/tqdm/autonotebook/__init__.py:14: TqdmExperimentalWarning: Using `tqdm.autonotebook.tqdm` in notebook mode. Use `tqdm.tqdm` instead to force console mode (e.g. in jupyter console)\n",
      "  \" (e.g. in jupyter console)\", TqdmExperimentalWarning)\n"
     ]
    },
    {
     "name": "stdout",
     "output_type": "stream",
     "text": [
      "Constructing DeepLabv3+ model...\n",
      "Number of classes: 2\n",
      "Output stride: 8\n",
      "Number of Input Channels: 3\n",
      "Let's use 2 GPUs!\n"
     ]
    },
    {
     "data": {
      "application/vnd.jupyter.widget-view+json": {
       "model_id": "7fe62ac2a18443f09cd48df6ebdc3a53",
       "version_major": 2,
       "version_minor": 0
      },
      "text/plain": [
       "HBox(children=(IntProgress(value=0), HTML(value='')))"
      ]
     },
     "metadata": {},
     "output_type": "display_data"
    },
    {
     "name": "stderr",
     "output_type": "stream",
     "text": [
      "/home/shrek/anaconda3/envs/pytorch/lib/python3.6/site-packages/torch/nn/functional.py:2351: UserWarning: nn.functional.upsample is deprecated. Use nn.functional.interpolate instead.\n",
      "  warnings.warn(\"nn.functional.upsample is deprecated. Use nn.functional.interpolate instead.\")\n",
      "/home/shrek/anaconda3/envs/pytorch/lib/python3.6/site-packages/torch/nn/_reduction.py:49: UserWarning: size_average and reduce args will be deprecated, please use reduction='sum' instead.\n",
      "  warnings.warn(warning.format(ret))\n"
     ]
    },
    {
     "name": "stdout",
     "output_type": "stream",
     "text": [
      "Stopping early, the loss has diverged\n",
      "Learning rate search finished. See the graph with {finder_name}.plot()\n"
     ]
    },
    {
     "data": {
      "image/png": "[encoded data removed]",
      "text/plain": [
       "<Figure size 432x288 with 1 Axes>"
      ]
     },
     "metadata": {
      "needs_background": "light"
     },
     "output_type": "display_data"
    }
   ],
   "source": [
    "import socket\n",
    "import timeit\n",
    "from datetime import datetime\n",
    "import os\n",
    "import glob\n",
    "from collections import OrderedDict\n",
    "from matplotlib import pyplot as plt\n",
    "import numpy as np\n",
    "from PIL import Image\n",
    "import argparse\n",
    "from imgaug import augmenters as iaa\n",
    "import imgaug as ia\n",
    "\n",
    "\n",
    "# PyTorch includes\n",
    "import torch\n",
    "import torch.optim as optim\n",
    "from torchvision import transforms\n",
    "from torch.utils.data import DataLoader\n",
    "from torchvision.utils import make_grid\n",
    "import torch.nn as nn\n",
    "\n",
    "\n",
    "# Tensorboard include\n",
    "from tensorboardX import SummaryWriter\n",
    "\n",
    "# Custom includes\n",
    "from dataloaders.alphapilot import AlphaPilotSegmentation\n",
    "from dataloaders import utils\n",
    "from networks import deeplab_xception, deeplab_resnet\n",
    "# from dataloaders import custom_transforms as tr\n",
    "from networks import unet\n",
    "from lr_finder import LRFinder\n",
    "\n",
    "p = OrderedDict()  # Parameters to include in report\n",
    "p['trainBatchSize'] = 4  # Training batch size\n",
    "testBatchSize = 1 # Testing batch size\n",
    "useTest = True  # See evolution of the test set when training\n",
    "nTestInterval = 1  # Run on test set every nTestInterval epochs\n",
    "snapshot = 2  # Store a model every snapshot epochs\n",
    "\n",
    "p['nAveGrad'] = 1  # Average the gradient of several iterations\n",
    "p['lr'] = 1e-10  # Learning rate\n",
    "p['wd'] = 5e-4  # Weight decay\n",
    "p['momentum'] = 0.9  # Momentum\n",
    "p['epoch_size'] = 2  # How many epochs to change learning rate\n",
    "\n",
    "p['Model'] = 'deeplab'  # Choose model: unet or deeplab\n",
    "backbone = 'xception'  # For deeplab only: Use xception or resnet as feature extractor,\n",
    "num_of_classes = 2\n",
    "imsize = 512  # 256 or 512\n",
    "output_stride = 8 # 8 or 16, 8 is better. Controls output stride of the deeplab model, which increases resolution of convolutions.\n",
    "numInputChannels = 3\n",
    "\n",
    "# Network definition\n",
    "if p['Model'] == 'deeplab':\n",
    "    if backbone == 'xception':\n",
    "        net = deeplab_xception.DeepLabv3_plus(nInputChannels=numInputChannels, n_classes=num_of_classes, os=output_stride, pretrained=True)\n",
    "    elif backbone == 'resnet':\n",
    "        net = deeplab_resnet.DeepLabv3_plus(nInputChannels=numInputChannels, n_classes=num_of_classes, os=output_stride, pretrained=True)\n",
    "    else:\n",
    "        raise NotImplementedError\n",
    "    modelName = 'deeplabv3plus-' + backbone\n",
    "\n",
    "    # Use the following optimizer\n",
    "    optimizer = optim.SGD(net.parameters(), lr=p['lr'], momentum=p['momentum'], weight_decay=p['wd'])\n",
    "    p['optimizer'] = str(optimizer)\n",
    "\n",
    "    # Use the following loss function\n",
    "    criterion = utils.cross_entropy2d\n",
    "else:\n",
    "    raise NotImplementedError\n",
    "    \n",
    "device = torch.device(\"cuda:0\" if torch.cuda.is_available() else \"cpu\")\n",
    "#criterion = criterion.to(device) #TODO: IS THIS NEEDED?\n",
    "\n",
    "\n",
    "\n",
    "# Enable Multi-GPU training\n",
    "if torch.cuda.device_count() > 1:\n",
    "    print(\"Let's use\", torch.cuda.device_count(), \"GPUs!\")\n",
    "    # dim = 0 [30, xxx] -> [10, ...], [10, ...], [10, ...] on 3 GPUs\n",
    "    net = nn.DataParallel(net)\n",
    "\n",
    "augs_train = iaa.Sequential([\n",
    "    # Geometric Augs\n",
    "    iaa.Scale((imsize, imsize), 0),\n",
    "    iaa.Fliplr(0.5),\n",
    "    iaa.Flipud(0.5),\n",
    "    iaa.Rot90((0, 4)),\n",
    "    # Blur and Noise\n",
    "    #iaa.Sometimes(0.2, iaa.GaussianBlur(sigma=(0, 1.5), name=\"gaus-blur\")),\n",
    "    #iaa.Sometimes(0.1, iaa.Grayscale(alpha=(0.0, 1.0), from_colorspace=\"RGB\", name=\"grayscale\")),\n",
    "    # iaa.Sometimes(0.2, iaa.AdditiveLaplaceNoise(scale=(0, 0.1*255), per_channel=True, name=\"gaus-noise\")),\n",
    "    # Color, Contrast, etc.\n",
    "    iaa.Sometimes(0.2, iaa.Multiply((0.75, 1.25), per_channel=0.1, name=\"brightness\")),\n",
    "    iaa.Sometimes(0.2, iaa.GammaContrast((0.7, 1.3), per_channel=0.1, name=\"contrast\")),\n",
    "    iaa.Sometimes(0.2, iaa.AddToHueAndSaturation((-20, 20), name=\"hue-sat\")),\n",
    "    iaa.Sometimes(0.3, iaa.Add((-20, 20), per_channel=0.5, name=\"color-jitter\")),\n",
    "])\n",
    "augs_test = iaa.Sequential([\n",
    "    # Geometric Augs\n",
    "    iaa.Scale((imsize, imsize), 0),\n",
    "])\n",
    "\n",
    "\n",
    "db_test = AlphaPilotSegmentation(\n",
    "    input_dir='data/dataset/test', label_dir='data/dataset/test',\n",
    "    transform=augs_test,\n",
    "    input_only=None\n",
    ")\n",
    "\n",
    "\n",
    "db_train = AlphaPilotSegmentation(\n",
    "    input_dir='data/dataset/train/images', label_dir='data/dataset/train/labels',\n",
    "    transform=augs_train,\n",
    "    input_only=[\"gaus-blur\", \"grayscale\", \"gaus-noise\", \"brightness\", \"contrast\", \"hue-sat\", \"color-jitter\"]\n",
    ")\n",
    "\n",
    "db_validation = AlphaPilotSegmentation(\n",
    "    input_dir='data/dataset/val/images', label_dir='data/dataset/val/labels',\n",
    "    transform=augs_test,\n",
    "    input_only=None\n",
    ")\n",
    "\n",
    "trainloader = DataLoader(db_train, batch_size=p['trainBatchSize'], shuffle=True, num_workers=32, drop_last=True)\n",
    "validationloader = DataLoader(db_validation, batch_size=p['trainBatchSize'], shuffle=False, num_workers=32, drop_last=True)\n",
    "testloader = DataLoader(db_test, batch_size=testBatchSize, shuffle=False, num_workers=32, drop_last=True)\n",
    "\n",
    "\n",
    "%matplotlib inline\n",
    "\n",
    "lr_finder = LRFinder(net, optimizer, criterion, device=\"cuda\")\n",
    "lr_finder.range_test(trainloader, end_lr=1, num_iter=100)\n",
    "lr_finder.plot()\n",
    "# plt.show()"
   ]
  },
  {
   "cell_type": "code",
   "execution_count": null,
   "metadata": {},
   "outputs": [],
   "source": []
  }
 ],
 "metadata": {
  "kernelspec": {
   "display_name": "Python 3",
   "language": "python",
   "name": "python3"
  },
  "language_info": {
   "codemirror_mode": {
    "name": "ipython",
    "version": 3
   },
   "file_extension": ".py",
   "mimetype": "text/x-python",
   "name": "python",
   "nbconvert_exporter": "python",
   "pygments_lexer": "ipython3",
   "version": "3.6.8"
  }
 },
 "nbformat": 4,
 "nbformat_minor": 2
}
